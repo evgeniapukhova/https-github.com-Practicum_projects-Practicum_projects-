{
 "cells": [
  {
   "cell_type": "markdown",
   "metadata": {
    "id": "LMuaGIE3lGcr"
   },
   "source": [
    "# Исследовательский анализ продаж билетов на сервисе Яндекс Афиша\n",
    "\n",
    "- Автор: Пухова Евгения\n",
    "- Дата: 11.04.2025"
   ]
  },
  {
   "cell_type": "markdown",
   "metadata": {},
   "source": [
    "### Цели и задачи проекта\n",
    "\n",
    "**Цель проекта:**\n",
    "\n",
    "Провести исследовательский анализ данных сервиса Яндекс Афиша за период с 1 июня по 30 ноября 2024 года. Выяснить причины изменений в пользовательском спросе и дать рекомендации продуктовой команде на основе анализа поведения пользователей и структуры продаж.\n",
    "\n",
    "**Задачи проекта:**\n",
    "\n",
    "1. Изучить активность пользователей на сервисе:\n",
    "- различия между пользователями мобильных устройств и десктопов\n",
    "- поведение новых и возвращающихся пользователей\n",
    "\n",
    "2. Проанализировать продажи билетов:\n",
    "- средняя выручка с заказа\n",
    "- средняя стоимость одного билета\n",
    "- динамика заказов и выручки по времени\n",
    "\n",
    "3. Определить популярные категории событий:\n",
    "- более востребованные события\n",
    "- наибольшая выручка среди организаторов и площадок\n",
    "\n",
    "4. Провести исследование по регионам:\n",
    "- активность пользователей в разных регионах\n",
    "- география заказов и мероприятий\n",
    "\n",
    "5. Учесть специфику данных:\n",
    "- привести все значения выручки к одной валюте — рубли\n",
    "- проверить данные на пропуски и аномалии"
   ]
  },
  {
   "cell_type": "markdown",
   "metadata": {},
   "source": [
    "### Описание данных\n",
    "В рамках проекта используются три датасета:\n",
    "\n",
    "1. Таблица заказов `final_tickets_orders_df.csv` - содержит информацию о пользователях\n",
    "\n",
    "- `order_id` — идентификатор заказа\n",
    "- `user_id` — идентификатор пользователя\n",
    "- `created_dt_msk` — дата создания заказа\n",
    "- `created_ts_msk` — дата и время заказа\n",
    "- `event_id` — идентификатор мероприятия\n",
    "- `device_type_canonical` — тип устройства (mobile / desktop)\n",
    "- `revenue` — выручка за заказ\n",
    "- `tickets_count` — количество билетов\n",
    "- `currency_code` — валюта оплаты (rub / kzt)\n",
    "- `days_since_prev` — количество дней с предыдущей покупки\n",
    "\n",
    "2. Таблица мероприятий `final_tickets_events_df.csv` - содержит информацию о событиях\n",
    "- `event_id` — идентификатор мероприятия\n",
    "- `event_name` — название мероприятия\n",
    "- `event_type_main` — основной тип события\n",
    "- `region_name` — регион проведения события\n",
    "- `city_name` — город проведения события\n",
    "- `venue_name` — площадка проведения события\n",
    "\n",
    "3. Таблица курсов валют `final_tickets_tenge_df.csv` - информация о курсе тенге к рублю для конвертации выручки\n",
    "- `data` — дата\n",
    "- `curs` — курс за 100 тенге\n",
    "- `cdx` — обозначение валюты (kzt)"
   ]
  },
  {
   "cell_type": "markdown",
   "metadata": {},
   "source": [
    "### Содержание:\n",
    "4. Загрузка данных и знакомство с ними\n",
    "5. Предобработка данных и подготовка к их исследованию\n",
    "- Работа с пропусками\n",
    "- Объединение датасетов\n",
    "- Работа с категориальными столбцами\n",
    "- Работа с количественными столбцами, отработака выбросов\n",
    "- Проверка на дубликаты\n",
    "- Работа с типами данных\n",
    "- Добавление необходимых столбцов\n",
    "6. Исследовательский анализ данных\n",
    "- Анализ распределения заказов по сегментам и их сезонные изменения\n",
    "- Осенняя активность пользователей\n",
    "- Популярные события и партнеры\n",
    "7. Статистический анализ данных, проверка гипотез\n",
    "8. Итоговые выводы и рекомендации"
   ]
  },
  {
   "cell_type": "markdown",
   "metadata": {},
   "source": [
    "### Загрузка данных и знакомство с ними"
   ]
  },
  {
   "cell_type": "code",
   "execution_count": 1,
   "metadata": {},
   "outputs": [],
   "source": [
    "# Импортируем библиотеки\n",
    "import pandas as pd\n",
    "import numpy as np\n",
    "import matplotlib.pyplot as plt\n",
    "import seaborn as sns\n",
    "from scipy.stats import mannwhitneyu\n",
    "\n",
    "# # Загружаем данные\n",
    "orders = pd.read_csv('https://code.s3.yandex.net/datasets/final_tickets_orders_df.csv')\n",
    "events = pd.read_csv('https://code.s3.yandex.net/datasets/final_tickets_events_df.csv')\n",
    "tenge = pd.read_csv('https://code.s3.yandex.net/datasets/final_tickets_tenge_df.csv')"
   ]
  },
  {
   "cell_type": "code",
   "execution_count": 2,
   "metadata": {},
   "outputs": [
    {
     "name": "stdout",
     "output_type": "stream",
     "text": [
      "Размер таблицы orders: (290849, 14)\n",
      "Размер таблицы events: (22427, 11)\n",
      "Размер таблицы tenge: (357, 4)\n"
     ]
    }
   ],
   "source": [
    "# Проверим размеры таблиц\n",
    "print('Размер таблицы orders:', orders.shape)\n",
    "print('Размер таблицы events:', events.shape)\n",
    "print('Размер таблицы tenge:', tenge.shape)"
   ]
  },
  {
   "cell_type": "code",
   "execution_count": 3,
   "metadata": {},
   "outputs": [
    {
     "data": {
      "text/html": [
       "<div>\n",
       "<style scoped>\n",
       "    .dataframe tbody tr th:only-of-type {\n",
       "        vertical-align: middle;\n",
       "    }\n",
       "\n",
       "    .dataframe tbody tr th {\n",
       "        vertical-align: top;\n",
       "    }\n",
       "\n",
       "    .dataframe thead th {\n",
       "        text-align: right;\n",
       "    }\n",
       "</style>\n",
       "<table border=\"1\" class=\"dataframe\">\n",
       "  <thead>\n",
       "    <tr style=\"text-align: right;\">\n",
       "      <th></th>\n",
       "      <th>order_id</th>\n",
       "      <th>user_id</th>\n",
       "      <th>created_dt_msk</th>\n",
       "      <th>created_ts_msk</th>\n",
       "      <th>event_id</th>\n",
       "      <th>cinema_circuit</th>\n",
       "      <th>age_limit</th>\n",
       "      <th>currency_code</th>\n",
       "      <th>device_type_canonical</th>\n",
       "      <th>revenue</th>\n",
       "      <th>service_name</th>\n",
       "      <th>tickets_count</th>\n",
       "      <th>total</th>\n",
       "      <th>days_since_prev</th>\n",
       "    </tr>\n",
       "  </thead>\n",
       "  <tbody>\n",
       "    <tr>\n",
       "      <th>0</th>\n",
       "      <td>4359165</td>\n",
       "      <td>0002849b70a3ce2</td>\n",
       "      <td>2024-08-20</td>\n",
       "      <td>2024-08-20 16:08:03</td>\n",
       "      <td>169230</td>\n",
       "      <td>нет</td>\n",
       "      <td>16</td>\n",
       "      <td>rub</td>\n",
       "      <td>mobile</td>\n",
       "      <td>1521.94</td>\n",
       "      <td>Край билетов</td>\n",
       "      <td>4</td>\n",
       "      <td>10870.99</td>\n",
       "      <td>NaN</td>\n",
       "    </tr>\n",
       "    <tr>\n",
       "      <th>1</th>\n",
       "      <td>7965605</td>\n",
       "      <td>0005ca5e93f2cf4</td>\n",
       "      <td>2024-07-23</td>\n",
       "      <td>2024-07-23 18:36:24</td>\n",
       "      <td>237325</td>\n",
       "      <td>нет</td>\n",
       "      <td>0</td>\n",
       "      <td>rub</td>\n",
       "      <td>mobile</td>\n",
       "      <td>289.45</td>\n",
       "      <td>Мой билет</td>\n",
       "      <td>2</td>\n",
       "      <td>2067.51</td>\n",
       "      <td>NaN</td>\n",
       "    </tr>\n",
       "    <tr>\n",
       "      <th>2</th>\n",
       "      <td>7292370</td>\n",
       "      <td>0005ca5e93f2cf4</td>\n",
       "      <td>2024-10-06</td>\n",
       "      <td>2024-10-06 13:56:02</td>\n",
       "      <td>578454</td>\n",
       "      <td>нет</td>\n",
       "      <td>0</td>\n",
       "      <td>rub</td>\n",
       "      <td>mobile</td>\n",
       "      <td>1258.57</td>\n",
       "      <td>За билетом!</td>\n",
       "      <td>4</td>\n",
       "      <td>13984.16</td>\n",
       "      <td>75.0</td>\n",
       "    </tr>\n",
       "    <tr>\n",
       "      <th>3</th>\n",
       "      <td>1139875</td>\n",
       "      <td>000898990054619</td>\n",
       "      <td>2024-07-13</td>\n",
       "      <td>2024-07-13 19:40:48</td>\n",
       "      <td>387271</td>\n",
       "      <td>нет</td>\n",
       "      <td>0</td>\n",
       "      <td>rub</td>\n",
       "      <td>mobile</td>\n",
       "      <td>8.49</td>\n",
       "      <td>Лови билет!</td>\n",
       "      <td>2</td>\n",
       "      <td>212.28</td>\n",
       "      <td>NaN</td>\n",
       "    </tr>\n",
       "    <tr>\n",
       "      <th>4</th>\n",
       "      <td>972400</td>\n",
       "      <td>000898990054619</td>\n",
       "      <td>2024-10-04</td>\n",
       "      <td>2024-10-04 22:33:15</td>\n",
       "      <td>509453</td>\n",
       "      <td>нет</td>\n",
       "      <td>18</td>\n",
       "      <td>rub</td>\n",
       "      <td>mobile</td>\n",
       "      <td>1390.41</td>\n",
       "      <td>Билеты без проблем</td>\n",
       "      <td>3</td>\n",
       "      <td>10695.43</td>\n",
       "      <td>83.0</td>\n",
       "    </tr>\n",
       "  </tbody>\n",
       "</table>\n",
       "</div>"
      ],
      "text/plain": [
       "   order_id          user_id created_dt_msk       created_ts_msk  event_id  \\\n",
       "0   4359165  0002849b70a3ce2     2024-08-20  2024-08-20 16:08:03    169230   \n",
       "1   7965605  0005ca5e93f2cf4     2024-07-23  2024-07-23 18:36:24    237325   \n",
       "2   7292370  0005ca5e93f2cf4     2024-10-06  2024-10-06 13:56:02    578454   \n",
       "3   1139875  000898990054619     2024-07-13  2024-07-13 19:40:48    387271   \n",
       "4    972400  000898990054619     2024-10-04  2024-10-04 22:33:15    509453   \n",
       "\n",
       "  cinema_circuit  age_limit currency_code device_type_canonical  revenue  \\\n",
       "0            нет         16           rub                mobile  1521.94   \n",
       "1            нет          0           rub                mobile   289.45   \n",
       "2            нет          0           rub                mobile  1258.57   \n",
       "3            нет          0           rub                mobile     8.49   \n",
       "4            нет         18           rub                mobile  1390.41   \n",
       "\n",
       "         service_name  tickets_count     total  days_since_prev  \n",
       "0        Край билетов              4  10870.99              NaN  \n",
       "1           Мой билет              2   2067.51              NaN  \n",
       "2         За билетом!              4  13984.16             75.0  \n",
       "3         Лови билет!              2    212.28              NaN  \n",
       "4  Билеты без проблем              3  10695.43             83.0  "
      ]
     },
     "metadata": {},
     "output_type": "display_data"
    },
    {
     "data": {
      "text/html": [
       "<div>\n",
       "<style scoped>\n",
       "    .dataframe tbody tr th:only-of-type {\n",
       "        vertical-align: middle;\n",
       "    }\n",
       "\n",
       "    .dataframe tbody tr th {\n",
       "        vertical-align: top;\n",
       "    }\n",
       "\n",
       "    .dataframe thead th {\n",
       "        text-align: right;\n",
       "    }\n",
       "</style>\n",
       "<table border=\"1\" class=\"dataframe\">\n",
       "  <thead>\n",
       "    <tr style=\"text-align: right;\">\n",
       "      <th></th>\n",
       "      <th>event_id</th>\n",
       "      <th>event_name</th>\n",
       "      <th>event_type_description</th>\n",
       "      <th>event_type_main</th>\n",
       "      <th>organizers</th>\n",
       "      <th>region_name</th>\n",
       "      <th>city_name</th>\n",
       "      <th>city_id</th>\n",
       "      <th>venue_id</th>\n",
       "      <th>venue_name</th>\n",
       "      <th>venue_address</th>\n",
       "    </tr>\n",
       "  </thead>\n",
       "  <tbody>\n",
       "    <tr>\n",
       "      <th>0</th>\n",
       "      <td>4436</td>\n",
       "      <td>e4f26fba-da77-4c61-928a-6c3e434d793f</td>\n",
       "      <td>спектакль</td>\n",
       "      <td>театр</td>\n",
       "      <td>№4893</td>\n",
       "      <td>Североярская область</td>\n",
       "      <td>Озёрск</td>\n",
       "      <td>2</td>\n",
       "      <td>1600</td>\n",
       "      <td>Кладбище искусств \"Проблема\" и партнеры</td>\n",
       "      <td>наб. Загородная, д. 785</td>\n",
       "    </tr>\n",
       "    <tr>\n",
       "      <th>1</th>\n",
       "      <td>5785</td>\n",
       "      <td>5cc08a60-fdea-4186-9bb2-bffc3603fb77</td>\n",
       "      <td>спектакль</td>\n",
       "      <td>театр</td>\n",
       "      <td>№1931</td>\n",
       "      <td>Светополянский округ</td>\n",
       "      <td>Глиноград</td>\n",
       "      <td>54</td>\n",
       "      <td>2196</td>\n",
       "      <td>Лекции по искусству \"Свет\" Групп</td>\n",
       "      <td>ул. Ягодная, д. 942</td>\n",
       "    </tr>\n",
       "    <tr>\n",
       "      <th>2</th>\n",
       "      <td>8817</td>\n",
       "      <td>8e379a89-3a10-4811-ba06-ec22ebebe989</td>\n",
       "      <td>спектакль</td>\n",
       "      <td>театр</td>\n",
       "      <td>№4896</td>\n",
       "      <td>Североярская область</td>\n",
       "      <td>Озёрск</td>\n",
       "      <td>2</td>\n",
       "      <td>4043</td>\n",
       "      <td>Кинокомитет \"Золотая\" Инк</td>\n",
       "      <td>ш. Коммуны, д. 92 стр. 6</td>\n",
       "    </tr>\n",
       "    <tr>\n",
       "      <th>3</th>\n",
       "      <td>8849</td>\n",
       "      <td>682e3129-6a32-4952-9d8a-ef7f60d4c247</td>\n",
       "      <td>спектакль</td>\n",
       "      <td>театр</td>\n",
       "      <td>№4960</td>\n",
       "      <td>Каменевский регион</td>\n",
       "      <td>Глиногорск</td>\n",
       "      <td>213</td>\n",
       "      <td>1987</td>\n",
       "      <td>Выставка ремесел \"Свет\" Лтд</td>\n",
       "      <td>пер. Набережный, д. 35</td>\n",
       "    </tr>\n",
       "    <tr>\n",
       "      <th>4</th>\n",
       "      <td>8850</td>\n",
       "      <td>d6e99176-c77f-4af0-9222-07c571f6c624</td>\n",
       "      <td>спектакль</td>\n",
       "      <td>театр</td>\n",
       "      <td>№4770</td>\n",
       "      <td>Лесодальний край</td>\n",
       "      <td>Родниковец</td>\n",
       "      <td>55</td>\n",
       "      <td>4230</td>\n",
       "      <td>Фестивальный проект \"Листья\" Групп</td>\n",
       "      <td>пер. Проезжий, д. 9</td>\n",
       "    </tr>\n",
       "  </tbody>\n",
       "</table>\n",
       "</div>"
      ],
      "text/plain": [
       "   event_id                            event_name event_type_description  \\\n",
       "0      4436  e4f26fba-da77-4c61-928a-6c3e434d793f              спектакль   \n",
       "1      5785  5cc08a60-fdea-4186-9bb2-bffc3603fb77              спектакль   \n",
       "2      8817  8e379a89-3a10-4811-ba06-ec22ebebe989              спектакль   \n",
       "3      8849  682e3129-6a32-4952-9d8a-ef7f60d4c247              спектакль   \n",
       "4      8850  d6e99176-c77f-4af0-9222-07c571f6c624              спектакль   \n",
       "\n",
       "  event_type_main organizers           region_name   city_name  city_id  \\\n",
       "0           театр      №4893  Североярская область      Озёрск        2   \n",
       "1           театр      №1931  Светополянский округ   Глиноград       54   \n",
       "2           театр      №4896  Североярская область      Озёрск        2   \n",
       "3           театр      №4960    Каменевский регион  Глиногорск      213   \n",
       "4           театр      №4770      Лесодальний край  Родниковец       55   \n",
       "\n",
       "   venue_id                               venue_name             venue_address  \n",
       "0      1600  Кладбище искусств \"Проблема\" и партнеры   наб. Загородная, д. 785  \n",
       "1      2196         Лекции по искусству \"Свет\" Групп       ул. Ягодная, д. 942  \n",
       "2      4043                Кинокомитет \"Золотая\" Инк  ш. Коммуны, д. 92 стр. 6  \n",
       "3      1987              Выставка ремесел \"Свет\" Лтд    пер. Набережный, д. 35  \n",
       "4      4230       Фестивальный проект \"Листья\" Групп       пер. Проезжий, д. 9  "
      ]
     },
     "metadata": {},
     "output_type": "display_data"
    },
    {
     "data": {
      "text/html": [
       "<div>\n",
       "<style scoped>\n",
       "    .dataframe tbody tr th:only-of-type {\n",
       "        vertical-align: middle;\n",
       "    }\n",
       "\n",
       "    .dataframe tbody tr th {\n",
       "        vertical-align: top;\n",
       "    }\n",
       "\n",
       "    .dataframe thead th {\n",
       "        text-align: right;\n",
       "    }\n",
       "</style>\n",
       "<table border=\"1\" class=\"dataframe\">\n",
       "  <thead>\n",
       "    <tr style=\"text-align: right;\">\n",
       "      <th></th>\n",
       "      <th>data</th>\n",
       "      <th>nominal</th>\n",
       "      <th>curs</th>\n",
       "      <th>cdx</th>\n",
       "    </tr>\n",
       "  </thead>\n",
       "  <tbody>\n",
       "    <tr>\n",
       "      <th>0</th>\n",
       "      <td>2024-01-10</td>\n",
       "      <td>100</td>\n",
       "      <td>19.9391</td>\n",
       "      <td>kzt</td>\n",
       "    </tr>\n",
       "    <tr>\n",
       "      <th>1</th>\n",
       "      <td>2024-01-11</td>\n",
       "      <td>100</td>\n",
       "      <td>19.7255</td>\n",
       "      <td>kzt</td>\n",
       "    </tr>\n",
       "    <tr>\n",
       "      <th>2</th>\n",
       "      <td>2024-01-12</td>\n",
       "      <td>100</td>\n",
       "      <td>19.5839</td>\n",
       "      <td>kzt</td>\n",
       "    </tr>\n",
       "    <tr>\n",
       "      <th>3</th>\n",
       "      <td>2024-01-13</td>\n",
       "      <td>100</td>\n",
       "      <td>19.4501</td>\n",
       "      <td>kzt</td>\n",
       "    </tr>\n",
       "    <tr>\n",
       "      <th>4</th>\n",
       "      <td>2024-01-14</td>\n",
       "      <td>100</td>\n",
       "      <td>19.4501</td>\n",
       "      <td>kzt</td>\n",
       "    </tr>\n",
       "  </tbody>\n",
       "</table>\n",
       "</div>"
      ],
      "text/plain": [
       "         data  nominal     curs  cdx\n",
       "0  2024-01-10      100  19.9391  kzt\n",
       "1  2024-01-11      100  19.7255  kzt\n",
       "2  2024-01-12      100  19.5839  kzt\n",
       "3  2024-01-13      100  19.4501  kzt\n",
       "4  2024-01-14      100  19.4501  kzt"
      ]
     },
     "metadata": {},
     "output_type": "display_data"
    }
   ],
   "source": [
    "# Посмотрим на первые строки таблиц\n",
    "display(orders.head())\n",
    "display(events.head())\n",
    "display(tenge.head())"
   ]
  },
  {
   "cell_type": "code",
   "execution_count": 4,
   "metadata": {},
   "outputs": [
    {
     "name": "stdout",
     "output_type": "stream",
     "text": [
      "<class 'pandas.core.frame.DataFrame'>\n",
      "RangeIndex: 290849 entries, 0 to 290848\n",
      "Data columns (total 14 columns):\n",
      " #   Column                 Non-Null Count   Dtype  \n",
      "---  ------                 --------------   -----  \n",
      " 0   order_id               290849 non-null  int64  \n",
      " 1   user_id                290849 non-null  object \n",
      " 2   created_dt_msk         290849 non-null  object \n",
      " 3   created_ts_msk         290849 non-null  object \n",
      " 4   event_id               290849 non-null  int64  \n",
      " 5   cinema_circuit         290849 non-null  object \n",
      " 6   age_limit              290849 non-null  int64  \n",
      " 7   currency_code          290849 non-null  object \n",
      " 8   device_type_canonical  290849 non-null  object \n",
      " 9   revenue                290849 non-null  float64\n",
      " 10  service_name           290849 non-null  object \n",
      " 11  tickets_count          290849 non-null  int64  \n",
      " 12  total                  290849 non-null  float64\n",
      " 13  days_since_prev        268909 non-null  float64\n",
      "dtypes: float64(3), int64(4), object(7)\n",
      "memory usage: 31.1+ MB\n",
      "<class 'pandas.core.frame.DataFrame'>\n",
      "RangeIndex: 22427 entries, 0 to 22426\n",
      "Data columns (total 11 columns):\n",
      " #   Column                  Non-Null Count  Dtype \n",
      "---  ------                  --------------  ----- \n",
      " 0   event_id                22427 non-null  int64 \n",
      " 1   event_name              22427 non-null  object\n",
      " 2   event_type_description  22427 non-null  object\n",
      " 3   event_type_main         22427 non-null  object\n",
      " 4   organizers              22427 non-null  object\n",
      " 5   region_name             22427 non-null  object\n",
      " 6   city_name               22427 non-null  object\n",
      " 7   city_id                 22427 non-null  int64 \n",
      " 8   venue_id                22427 non-null  int64 \n",
      " 9   venue_name              22427 non-null  object\n",
      " 10  venue_address           22427 non-null  object\n",
      "dtypes: int64(3), object(8)\n",
      "memory usage: 1.9+ MB\n",
      "<class 'pandas.core.frame.DataFrame'>\n",
      "RangeIndex: 357 entries, 0 to 356\n",
      "Data columns (total 4 columns):\n",
      " #   Column   Non-Null Count  Dtype  \n",
      "---  ------   --------------  -----  \n",
      " 0   data     357 non-null    object \n",
      " 1   nominal  357 non-null    int64  \n",
      " 2   curs     357 non-null    float64\n",
      " 3   cdx      357 non-null    object \n",
      "dtypes: float64(1), int64(1), object(2)\n",
      "memory usage: 11.3+ KB\n"
     ]
    }
   ],
   "source": [
    "# Проверим информацию о данных и типы данных\n",
    "orders.info()\n",
    "events.info()\n",
    "tenge.info()"
   ]
  },
  {
   "cell_type": "markdown",
   "metadata": {},
   "source": [
    "**Промежуточные выводы:**\n",
    "\n",
    "- Структура и состав данных соответствует описанию задачи\n",
    "- Таблицы имеют необходимую информацию для проведения исследования\n",
    "- Выборка охватывает период с июня по ноябрь 2024 года\n",
    "- Есть данные о заказах в двух валютах — необходимо будет привести все значения к одной валюте (рублям)\n",
    "- В таблице `orders` присутствуют пропуски в столбце `days_since_prev` — это логично, так как первые покупки пользователей не имеют предыдущего заказа"
   ]
  },
  {
   "cell_type": "markdown",
   "metadata": {},
   "source": [
    "### Предобработка данных и подготовка их к исследованию"
   ]
  },
  {
   "cell_type": "markdown",
   "metadata": {},
   "source": [
    "#### Работа с пропусками"
   ]
  },
  {
   "cell_type": "code",
   "execution_count": 5,
   "metadata": {},
   "outputs": [
    {
     "data": {
      "text/plain": [
       "order_id                     0\n",
       "user_id                      0\n",
       "created_dt_msk               0\n",
       "created_ts_msk               0\n",
       "event_id                     0\n",
       "cinema_circuit               0\n",
       "age_limit                    0\n",
       "currency_code                0\n",
       "device_type_canonical        0\n",
       "revenue                      0\n",
       "service_name                 0\n",
       "tickets_count                0\n",
       "total                        0\n",
       "days_since_prev          21940\n",
       "dtype: int64"
      ]
     },
     "metadata": {},
     "output_type": "display_data"
    },
    {
     "data": {
      "text/plain": [
       "event_id                  0\n",
       "event_name                0\n",
       "event_type_description    0\n",
       "event_type_main           0\n",
       "organizers                0\n",
       "region_name               0\n",
       "city_name                 0\n",
       "city_id                   0\n",
       "venue_id                  0\n",
       "venue_name                0\n",
       "venue_address             0\n",
       "dtype: int64"
      ]
     },
     "metadata": {},
     "output_type": "display_data"
    },
    {
     "data": {
      "text/plain": [
       "data       0\n",
       "nominal    0\n",
       "curs       0\n",
       "cdx        0\n",
       "dtype: int64"
      ]
     },
     "metadata": {},
     "output_type": "display_data"
    }
   ],
   "source": [
    "# Проверим пропуски\n",
    "display(orders.isna().sum())\n",
    "display(events.isna().sum())\n",
    "display(tenge.isna().sum())"
   ]
  },
  {
   "cell_type": "markdown",
   "metadata": {},
   "source": [
    "#### Объединение датасетов"
   ]
  },
  {
   "cell_type": "code",
   "execution_count": 6,
   "metadata": {},
   "outputs": [
    {
     "name": "stdout",
     "output_type": "stream",
     "text": [
      "Размер итоговой таблицы: (290611, 24)\n"
     ]
    },
    {
     "data": {
      "text/html": [
       "<div>\n",
       "<style scoped>\n",
       "    .dataframe tbody tr th:only-of-type {\n",
       "        vertical-align: middle;\n",
       "    }\n",
       "\n",
       "    .dataframe tbody tr th {\n",
       "        vertical-align: top;\n",
       "    }\n",
       "\n",
       "    .dataframe thead th {\n",
       "        text-align: right;\n",
       "    }\n",
       "</style>\n",
       "<table border=\"1\" class=\"dataframe\">\n",
       "  <thead>\n",
       "    <tr style=\"text-align: right;\">\n",
       "      <th></th>\n",
       "      <th>order_id</th>\n",
       "      <th>user_id</th>\n",
       "      <th>created_dt_msk</th>\n",
       "      <th>created_ts_msk</th>\n",
       "      <th>event_id</th>\n",
       "      <th>cinema_circuit</th>\n",
       "      <th>age_limit</th>\n",
       "      <th>currency_code</th>\n",
       "      <th>device_type_canonical</th>\n",
       "      <th>revenue</th>\n",
       "      <th>service_name</th>\n",
       "      <th>tickets_count</th>\n",
       "      <th>total</th>\n",
       "      <th>days_since_prev</th>\n",
       "      <th>event_name</th>\n",
       "      <th>event_type_description</th>\n",
       "      <th>event_type_main</th>\n",
       "      <th>organizers</th>\n",
       "      <th>region_name</th>\n",
       "      <th>city_name</th>\n",
       "      <th>city_id</th>\n",
       "      <th>venue_id</th>\n",
       "      <th>venue_name</th>\n",
       "      <th>venue_address</th>\n",
       "    </tr>\n",
       "  </thead>\n",
       "  <tbody>\n",
       "    <tr>\n",
       "      <th>0</th>\n",
       "      <td>4359165</td>\n",
       "      <td>0002849b70a3ce2</td>\n",
       "      <td>2024-08-20</td>\n",
       "      <td>2024-08-20 16:08:03</td>\n",
       "      <td>169230</td>\n",
       "      <td>нет</td>\n",
       "      <td>16</td>\n",
       "      <td>rub</td>\n",
       "      <td>mobile</td>\n",
       "      <td>1521.94</td>\n",
       "      <td>Край билетов</td>\n",
       "      <td>4</td>\n",
       "      <td>10870.99</td>\n",
       "      <td>NaN</td>\n",
       "      <td>f0f7b271-04eb-4af6-bcb8-8f05cf46d6ad</td>\n",
       "      <td>спектакль</td>\n",
       "      <td>театр</td>\n",
       "      <td>№3322</td>\n",
       "      <td>Каменевский регион</td>\n",
       "      <td>Глиногорск</td>\n",
       "      <td>213</td>\n",
       "      <td>3972</td>\n",
       "      <td>Сценический центр \"Деталь\" Групп</td>\n",
       "      <td>алл. Машиностроителей, д. 19 стр. 6</td>\n",
       "    </tr>\n",
       "    <tr>\n",
       "      <th>1</th>\n",
       "      <td>7431164</td>\n",
       "      <td>024dc5236465850</td>\n",
       "      <td>2024-07-23</td>\n",
       "      <td>2024-07-23 20:52:02</td>\n",
       "      <td>169230</td>\n",
       "      <td>нет</td>\n",
       "      <td>16</td>\n",
       "      <td>rub</td>\n",
       "      <td>mobile</td>\n",
       "      <td>1902.42</td>\n",
       "      <td>Край билетов</td>\n",
       "      <td>5</td>\n",
       "      <td>13588.74</td>\n",
       "      <td>0.0</td>\n",
       "      <td>f0f7b271-04eb-4af6-bcb8-8f05cf46d6ad</td>\n",
       "      <td>спектакль</td>\n",
       "      <td>театр</td>\n",
       "      <td>№3322</td>\n",
       "      <td>Каменевский регион</td>\n",
       "      <td>Глиногорск</td>\n",
       "      <td>213</td>\n",
       "      <td>3972</td>\n",
       "      <td>Сценический центр \"Деталь\" Групп</td>\n",
       "      <td>алл. Машиностроителей, д. 19 стр. 6</td>\n",
       "    </tr>\n",
       "    <tr>\n",
       "      <th>2</th>\n",
       "      <td>7431106</td>\n",
       "      <td>024dc5236465850</td>\n",
       "      <td>2024-07-23</td>\n",
       "      <td>2024-07-23 20:54:19</td>\n",
       "      <td>169230</td>\n",
       "      <td>нет</td>\n",
       "      <td>16</td>\n",
       "      <td>rub</td>\n",
       "      <td>mobile</td>\n",
       "      <td>1141.45</td>\n",
       "      <td>Край билетов</td>\n",
       "      <td>3</td>\n",
       "      <td>8153.25</td>\n",
       "      <td>0.0</td>\n",
       "      <td>f0f7b271-04eb-4af6-bcb8-8f05cf46d6ad</td>\n",
       "      <td>спектакль</td>\n",
       "      <td>театр</td>\n",
       "      <td>№3322</td>\n",
       "      <td>Каменевский регион</td>\n",
       "      <td>Глиногорск</td>\n",
       "      <td>213</td>\n",
       "      <td>3972</td>\n",
       "      <td>Сценический центр \"Деталь\" Групп</td>\n",
       "      <td>алл. Машиностроителей, д. 19 стр. 6</td>\n",
       "    </tr>\n",
       "    <tr>\n",
       "      <th>3</th>\n",
       "      <td>7431135</td>\n",
       "      <td>024dc5236465850</td>\n",
       "      <td>2024-07-23</td>\n",
       "      <td>2024-07-23 20:59:44</td>\n",
       "      <td>169230</td>\n",
       "      <td>нет</td>\n",
       "      <td>16</td>\n",
       "      <td>rub</td>\n",
       "      <td>mobile</td>\n",
       "      <td>1902.42</td>\n",
       "      <td>Край билетов</td>\n",
       "      <td>5</td>\n",
       "      <td>13588.74</td>\n",
       "      <td>0.0</td>\n",
       "      <td>f0f7b271-04eb-4af6-bcb8-8f05cf46d6ad</td>\n",
       "      <td>спектакль</td>\n",
       "      <td>театр</td>\n",
       "      <td>№3322</td>\n",
       "      <td>Каменевский регион</td>\n",
       "      <td>Глиногорск</td>\n",
       "      <td>213</td>\n",
       "      <td>3972</td>\n",
       "      <td>Сценический центр \"Деталь\" Групп</td>\n",
       "      <td>алл. Машиностроителей, д. 19 стр. 6</td>\n",
       "    </tr>\n",
       "    <tr>\n",
       "      <th>4</th>\n",
       "      <td>7431048</td>\n",
       "      <td>024dc5236465850</td>\n",
       "      <td>2024-07-23</td>\n",
       "      <td>2024-07-23 21:02:08</td>\n",
       "      <td>169230</td>\n",
       "      <td>нет</td>\n",
       "      <td>16</td>\n",
       "      <td>rub</td>\n",
       "      <td>mobile</td>\n",
       "      <td>1521.94</td>\n",
       "      <td>Край билетов</td>\n",
       "      <td>4</td>\n",
       "      <td>10870.99</td>\n",
       "      <td>0.0</td>\n",
       "      <td>f0f7b271-04eb-4af6-bcb8-8f05cf46d6ad</td>\n",
       "      <td>спектакль</td>\n",
       "      <td>театр</td>\n",
       "      <td>№3322</td>\n",
       "      <td>Каменевский регион</td>\n",
       "      <td>Глиногорск</td>\n",
       "      <td>213</td>\n",
       "      <td>3972</td>\n",
       "      <td>Сценический центр \"Деталь\" Групп</td>\n",
       "      <td>алл. Машиностроителей, д. 19 стр. 6</td>\n",
       "    </tr>\n",
       "  </tbody>\n",
       "</table>\n",
       "</div>"
      ],
      "text/plain": [
       "   order_id          user_id created_dt_msk       created_ts_msk  event_id  \\\n",
       "0   4359165  0002849b70a3ce2     2024-08-20  2024-08-20 16:08:03    169230   \n",
       "1   7431164  024dc5236465850     2024-07-23  2024-07-23 20:52:02    169230   \n",
       "2   7431106  024dc5236465850     2024-07-23  2024-07-23 20:54:19    169230   \n",
       "3   7431135  024dc5236465850     2024-07-23  2024-07-23 20:59:44    169230   \n",
       "4   7431048  024dc5236465850     2024-07-23  2024-07-23 21:02:08    169230   \n",
       "\n",
       "  cinema_circuit  age_limit currency_code device_type_canonical  revenue  \\\n",
       "0            нет         16           rub                mobile  1521.94   \n",
       "1            нет         16           rub                mobile  1902.42   \n",
       "2            нет         16           rub                mobile  1141.45   \n",
       "3            нет         16           rub                mobile  1902.42   \n",
       "4            нет         16           rub                mobile  1521.94   \n",
       "\n",
       "   service_name  tickets_count     total  days_since_prev  \\\n",
       "0  Край билетов              4  10870.99              NaN   \n",
       "1  Край билетов              5  13588.74              0.0   \n",
       "2  Край билетов              3   8153.25              0.0   \n",
       "3  Край билетов              5  13588.74              0.0   \n",
       "4  Край билетов              4  10870.99              0.0   \n",
       "\n",
       "                             event_name event_type_description  \\\n",
       "0  f0f7b271-04eb-4af6-bcb8-8f05cf46d6ad              спектакль   \n",
       "1  f0f7b271-04eb-4af6-bcb8-8f05cf46d6ad              спектакль   \n",
       "2  f0f7b271-04eb-4af6-bcb8-8f05cf46d6ad              спектакль   \n",
       "3  f0f7b271-04eb-4af6-bcb8-8f05cf46d6ad              спектакль   \n",
       "4  f0f7b271-04eb-4af6-bcb8-8f05cf46d6ad              спектакль   \n",
       "\n",
       "  event_type_main organizers         region_name   city_name  city_id  \\\n",
       "0           театр      №3322  Каменевский регион  Глиногорск      213   \n",
       "1           театр      №3322  Каменевский регион  Глиногорск      213   \n",
       "2           театр      №3322  Каменевский регион  Глиногорск      213   \n",
       "3           театр      №3322  Каменевский регион  Глиногорск      213   \n",
       "4           театр      №3322  Каменевский регион  Глиногорск      213   \n",
       "\n",
       "   venue_id                        venue_name  \\\n",
       "0      3972  Сценический центр \"Деталь\" Групп   \n",
       "1      3972  Сценический центр \"Деталь\" Групп   \n",
       "2      3972  Сценический центр \"Деталь\" Групп   \n",
       "3      3972  Сценический центр \"Деталь\" Групп   \n",
       "4      3972  Сценический центр \"Деталь\" Групп   \n",
       "\n",
       "                         venue_address  \n",
       "0  алл. Машиностроителей, д. 19 стр. 6  \n",
       "1  алл. Машиностроителей, д. 19 стр. 6  \n",
       "2  алл. Машиностроителей, д. 19 стр. 6  \n",
       "3  алл. Машиностроителей, д. 19 стр. 6  \n",
       "4  алл. Машиностроителей, д. 19 стр. 6  "
      ]
     },
     "metadata": {},
     "output_type": "display_data"
    },
    {
     "data": {
      "text/plain": [
       "order_id                      0\n",
       "user_id                       0\n",
       "created_dt_msk                0\n",
       "created_ts_msk                0\n",
       "event_id                      0\n",
       "cinema_circuit                0\n",
       "age_limit                     0\n",
       "currency_code                 0\n",
       "device_type_canonical         0\n",
       "revenue                       0\n",
       "service_name                  0\n",
       "tickets_count                 0\n",
       "total                         0\n",
       "days_since_prev           21913\n",
       "event_name                    0\n",
       "event_type_description        0\n",
       "event_type_main               0\n",
       "organizers                    0\n",
       "region_name                   0\n",
       "city_name                     0\n",
       "city_id                       0\n",
       "venue_id                      0\n",
       "venue_name                    0\n",
       "venue_address                 0\n",
       "dtype: int64"
      ]
     },
     "metadata": {},
     "output_type": "display_data"
    }
   ],
   "source": [
    "# Объединим таблицы orders и events по event_id, проверим размер итогового датафрейма, смотрим первые строки, проверяем пропуски\n",
    "data = orders.merge(events, on='event_id', how='inner')\n",
    "print('Размер итоговой таблицы:', data.shape)\n",
    "pd.set_option('display.max_columns', None)\n",
    "display(data.head())\n",
    "display(data.isna().sum())"
   ]
  },
  {
   "cell_type": "markdown",
   "metadata": {},
   "source": [
    "#### Работа с категориальными столбцами"
   ]
  },
  {
   "cell_type": "code",
   "execution_count": 7,
   "metadata": {},
   "outputs": [
    {
     "name": "stdout",
     "output_type": "stream",
     "text": [
      "Уникальные значения в столбце cinema_circuit:\n",
      "\n",
      "['нет' 'Другое' 'КиноСити' 'Киномакс' 'Москино' 'ЦентрФильм']\n",
      "--------------------------------------------------\n",
      "Уникальные значения в столбце currency_code:\n",
      "\n",
      "['rub' 'kzt']\n",
      "--------------------------------------------------\n",
      "Уникальные значения в столбце device_type_canonical:\n",
      "\n",
      "['mobile' 'desktop']\n",
      "--------------------------------------------------\n",
      "Уникальные значения в столбце service_name:\n",
      "\n",
      "['Край билетов' 'Мой билет' 'За билетом!' 'Лови билет!'\n",
      " 'Билеты без проблем' 'Билеты в руки' 'Облачко' 'Дом культуры'\n",
      " 'Весь в билетах' 'Лучшие билеты' 'Прачечная' 'Выступления.ру' 'Мир касс'\n",
      " 'Тебе билет!' 'Быстробилет' 'Яблоко' 'Show_ticket'\n",
      " 'Городской дом культуры' 'Билет по телефону' 'Crazy ticket!' 'Росбилет'\n",
      " 'Шоу начинается!' 'Цвет и билет' 'Быстрый кассир' 'Восьмёрка' 'Телебилет'\n",
      " 'Реестр' 'КарандашРУ' 'Радио ticket' 'Дырокол' 'Вперёд!' 'Кино билет'\n",
      " 'Зе Бест!' 'Тех билет' 'Лимоны' 'Билеты в интернете']\n",
      "--------------------------------------------------\n",
      "Уникальные значения в столбце event_type_description:\n",
      "\n",
      "['спектакль' 'событие' 'цирковое шоу' 'выставка' 'шоу' 'концерт' 'спорт'\n",
      " 'мюзикл' 'фестиваль' 'ёлка' 'балет' 'спортивное мероприятие' 'опера'\n",
      " 'музыкальный спектакль' 'кукольный спектакль' 'оперетта' 'снегурочка'\n",
      " 'рок-мюзикл' 'экскурсия' 'подарок']\n",
      "--------------------------------------------------\n",
      "Уникальные значения в столбце event_type_main:\n",
      "\n",
      "['театр' 'выставки' 'другое' 'стендап' 'концерты' 'спорт' 'ёлки']\n",
      "--------------------------------------------------\n",
      "Уникальные значения в столбце organizers:\n",
      "\n",
      "['№3322' '№4850' '№1540' ... '№1161' '№3497' '№1904']\n",
      "--------------------------------------------------\n",
      "Уникальные значения в столбце region_name:\n",
      "\n",
      "['Каменевский регион' 'Североярская область' 'Озернинский край'\n",
      " 'Лугоградская область' 'Поленовский край' 'Широковская область'\n",
      " 'Медовская область' 'Златопольский округ' 'Малиновоярский округ'\n",
      " 'Яблоневская область' 'Ветренский регион' 'Боровлянский край'\n",
      " 'Крутоводская область' 'Ягодиновская область' 'Серебряноярский округ'\n",
      " 'Лесодальний край' 'Верхоречная область' 'Горицветская область'\n",
      " 'Речиновская область' 'Травиницкий округ' 'Сосновская область'\n",
      " 'Серебринская область' 'Травяная область' 'Каменноярский край'\n",
      " 'Солнечноземская область' 'Светополянский округ' 'Заречная область'\n",
      " 'Ручейковский край' 'Глиногорская область' 'Тепляковская область'\n",
      " 'Каменноозёрный край' 'Солнечнореченская область' 'Зоринский регион'\n",
      " 'Берёзовская область' 'Лесостепной край' 'Малиновая область'\n",
      " 'Синегорский регион' 'Луговая область' 'Шанырский регион'\n",
      " 'Каменополянский округ' 'Речицкая область' 'Горностепной регион'\n",
      " 'Речицкий регион' 'Золотоключевской край' 'Лесоярская область'\n",
      " 'Зеленоградский округ' 'Миропольская область' 'Дальнеземская область'\n",
      " 'Озернопольская область' 'Берестовский округ' 'Ключеводский округ'\n",
      " 'Нежинская область' 'Дальнезорский край' 'Вишнёвский край'\n",
      " 'Каменичская область' 'Голубевский округ' 'Тихогорская область'\n",
      " 'Крутоводский регион' 'Чистогорская область' 'Североозёрский округ'\n",
      " 'Тихолесский край' 'Кристальная область' 'Горноземский регион'\n",
      " 'Радужнопольский край' 'Белоярская область' 'Островная область'\n",
      " 'Тихореченская область' 'Кристаловская область' 'Яснопольский округ'\n",
      " 'Островогорский округ' 'Радужногорская область' 'Дубравная область'\n",
      " 'Залесский край' 'Североключевской округ' 'Верховинская область'\n",
      " 'Светолесский край' 'Сосноводолинская область' 'Верхозёрский край'\n",
      " 'Лесноярский край' 'Теплоозёрский округ' 'Лесополянская область']\n",
      "--------------------------------------------------\n",
      "Уникальные значения в столбце city_name:\n",
      "\n",
      "['Глиногорск' 'Озёрск' 'Родниковецк' 'Кристалевск' 'Дальнозолотск'\n",
      " 'Радужнополье' 'Радужсвет' 'Кумсай' 'Верховино' 'Светополье' 'Кокжар'\n",
      " 'Каменский' 'Лесоярич' 'Никольянов' 'Речинцево' 'Лесозолотск'\n",
      " 'Дальнозерск' 'Серебрянка' 'Островецк' 'Родниковец' 'Дальнесветск'\n",
      " 'Луговаярово' 'Ягодиновка' 'Дальнополин' 'Солчелуг' 'Озёрчане'\n",
      " 'Серебровино' 'Лесоярово' 'Глинополье' 'Глиноград' 'Дальнесветин'\n",
      " 'Северополье' 'Теплоозеро' 'Горнодолинск' 'Ордакент' 'Озёрово'\n",
      " 'Луговинск' 'Лугоград' 'Златопольск' 'Крутовинск' 'Сарыжар' 'Сосновечин'\n",
      " 'Тихоярск' 'Яблонецк' 'Жаркентай' 'Широковка' 'Синеводов' 'Синеводск'\n",
      " 'Тихосветск' 'Радужанов' 'Глиногорь' 'Каменосветск' 'Родниковск'\n",
      " 'Травогород' 'Глинянск' 'Радужинск' 'Поляногорье' 'Дальнолесье'\n",
      " 'Ручейник' 'Ключеград' 'Ключеводск' 'Поленовино' 'Речичанск'\n",
      " 'Ключевополье' 'Шаныртау' 'Дальнесоснов' 'Ордасай' 'Теплоозёрск'\n",
      " 'Чистогорье' 'Ручейный' 'Островярово' 'Ягодинск' 'Поленоозёрово'\n",
      " 'Акбасты' 'Медовино' 'Каменёвка' 'Рощино' 'Солнечнёвка' 'Верхозолотск'\n",
      " 'Боровлянск' 'Лугиново' 'Сосноград' 'Радужнояр' 'Кенесар' 'Островенск'\n",
      " 'Горнополец' 'Яблоновец' 'Вишнёво' 'Ясногородин' 'Нежинск' 'Малиноворск'\n",
      " 'Леснойск' 'Озёриново' 'Островополь' 'Тихоречка' 'Поленояр' 'Ручьевино'\n",
      " 'Травяниново' 'Кристаловец' 'Буркиттау' 'Ручейковск' 'Песковино'\n",
      " 'Горнополье' 'Зоревец' 'Акбастау' 'Заречиновка' 'Сосновогорец'\n",
      " 'Лесочистка' 'Лесоводск' 'Каменевовск' 'Сарытау' 'Малиновец' 'Речевинец'\n",
      " 'Кристалинск' 'Верхоозёров' 'Травяночистск' 'Байкуль' 'Светоярчик'\n",
      " 'Зориново' 'Лесореченск' 'Водниково' 'Берестовец' 'Мироярово'\n",
      " 'Медвежанск' 'Тихолесье' 'Каменичи' 'Тихогорово' 'Лесиново'\n",
      " 'Синегориново' 'Зелёнаярово' 'Лесозерск' 'Солнечеполье' 'Солнечеводск'\n",
      " 'Лесогорич' 'Ключевогорск' 'Нивинск' 'Травогорск' 'Лесоярка' 'Шынгысай'\n",
      " 'Луговское' 'Горноставинск' 'Зоречанск' 'Ручейновинск' 'Лесодолинск'\n",
      " 'Поленовец' 'Крутово' 'Зеленополье' 'Тепляковск' 'Желкаин' 'Березиноск'\n",
      " 'Горнополянск' 'Песчанская' 'Светополь' 'Поленоград' 'Вишнёвогорск'\n",
      " 'Северогорск' 'Речное' 'Каменевск' 'Травянский' 'Глинозорь' 'Луговинец'\n",
      " 'Серебровка' 'Горяново' 'Медовецк' 'Каменозолото' 'Желтоксан' 'Ясногорец'\n",
      " 'Горицветск' 'Ясносветск' 'Сосновинск' 'Белоярск' 'Солнечейск' 'Каменояр'\n",
      " 'Зеленолесье' 'Нуртас' 'Светогория' 'Беловодск' 'Малиновинск'\n",
      " 'Серебринск' 'Ключевинск' 'Тихозорин' 'Голубино' 'Долиновка' 'Шалкартау'\n",
      " 'Миросветск' 'Травяниково' 'Ясноград' 'Светочистенск' 'Кумсары'\n",
      " 'Зеленоградовск' 'Поленосветск' 'Каменодолин' 'Вишнёводск'\n",
      " 'Северобережье' 'Светозёринск' 'Каражар' 'Горнополёк' 'Ключезолотск'\n",
      " 'Горнолуг' 'Песчанец' 'Бережанка' 'Соловьёвка' 'Крутоводск' 'Бозарык'\n",
      " 'Родничанск' 'Берёзодальн' 'Озёречин' 'Поленосвет' 'Зоревичск' 'Коксуйск'\n",
      " 'Златоречинск' 'Жетисайск' 'Байтерековск' 'Акжолтау' 'Сереброяр'\n",
      " 'Яблоневое' 'Лесинск' 'Речинск' 'Заречнинск' 'Яснополянск' 'Речиноград'\n",
      " 'Радужнаярова' 'Светозорск' 'Горнополяровск' 'Речепольск' 'Тиходеревск'\n",
      " 'Ягодиноград' 'Желтау' 'Поленовичи' 'Тулебайск' 'Златоозёрово'\n",
      " 'Кристальевка' 'Сарыбулак' 'Сосновогорск' 'Теплоград' 'Яблоневск'\n",
      " 'Реченск' 'Бурьяново' 'Островозёров' 'Солнечёвино' 'Берёзоречье'\n",
      " 'Ветеринск' 'Тихолесьевск' 'Зореполин' 'Тихоозёрск' 'Родинсветск'\n",
      " 'Медвежник' 'Ясновский' 'Заречнаярово' 'Светоярич' 'Ручейницк'\n",
      " 'Лесогорский' 'Зелёново' 'Крутоводинск' 'Яснолесье' 'Солнечелесье'\n",
      " 'Луновка' 'Мироград' 'Светлоярск' 'Североград' 'Медвежиновск' 'Сосновецк'\n",
      " 'Зеленополин' 'Каражол' 'Заречка' 'Глинореч' 'Каменевский' 'Берёзогорск'\n",
      " 'Светозолотск' 'Гореловск' 'Малиновочист' 'Островской' 'Каменогорье'\n",
      " 'Чистояр' 'Ташбулак' 'Бережанск' 'Кристалин' 'Зареченец' 'Талдысай'\n",
      " 'Ягодино' 'Синеполинск' 'Берестяград' 'Алтынсай' 'Заречийск'\n",
      " 'Берёзополье' 'Зеленополец' 'Шынартас' 'Радужновка' 'Поленолесье'\n",
      " 'Златоречье' 'Островсков' 'Тогусжол' 'Светоречин' 'Айкольск'\n",
      " 'Радужовинск' 'Айсуак' 'Заречник' 'Глинолес' 'Зелёнояр' 'Синегорск'\n",
      " 'Каменогорский' 'Полянск' 'Крутовичи' 'Глинозолото' 'Ягодинска'\n",
      " 'Верховка' 'Тепляровск' 'Реченогор' 'Озёроярск' 'Тастай' 'Светоярово'\n",
      " 'Верхозорье' 'Поляноречинск' 'Малиновецк' 'Острововск' 'Светочистка'\n",
      " 'Долиновск' 'Мирополь' 'Озёряновск' 'Златополье' 'Кристаловка'\n",
      " 'Берёзореч' 'Зеленогорье' 'Солнечеград' 'Голубевск' 'Глинополянск'\n",
      " 'Радугорь' 'Кристолесье' 'Березиногорск' 'Миролесье' 'Заречинск'\n",
      " 'Ягодиноск' 'Байсары' 'Берёзиново' 'Солнечегорск' 'Глинополин'\n",
      " 'Озёроград' 'Ягодинец' 'Алтынкала' 'Горнолесье' 'Карасуй' 'Лесополин'\n",
      " 'Дальнеград' 'Горноград' 'Березовцево' 'Берёзовка' 'Дальнозелен'\n",
      " 'Травино' 'Карасуйск' 'Кызылжол' 'Поляновск' 'Лесогорск']\n",
      "--------------------------------------------------\n",
      "Уникальные значения в столбце venue_name:\n",
      "\n",
      "['Сценический центр \"Деталь\" Групп'\n",
      " 'Музыкальная школа для детей \"Аккаунт\" Лтд'\n",
      " 'Училище искусств \"Нирвана\" Инк' ...\n",
      " 'Университет искусств \"Прогресс\" Групп' 'Творческая ярмарка \"График\" Инк'\n",
      " 'Школа музыки \"Парадигма\" Лтд']\n",
      "--------------------------------------------------\n"
     ]
    }
   ],
   "source": [
    "# Определим список категориальных столбцов и проверим уникальные значения\n",
    "cat_columns = [\n",
    "    'cinema_circuit', \n",
    "    'currency_code', \n",
    "    'device_type_canonical', \n",
    "    'service_name', \n",
    "    'event_type_description', \n",
    "    'event_type_main', \n",
    "    'organizers', \n",
    "    'region_name', \n",
    "    'city_name', \n",
    "    'venue_name'\n",
    "]\n",
    "\n",
    "for col in cat_columns:\n",
    "    print(f'Уникальные значения в столбце {col}:\\n')\n",
    "    print(data[col].unique())\n",
    "    print('-' * 50)"
   ]
  },
  {
   "cell_type": "markdown",
   "metadata": {},
   "source": [
    "Промежуточный вывод:\n",
    "\n",
    "- `cinema_circuit`, `currency_code`, `device_type_canonical`, `service_name`, `organizers`, `venue_name` - оставим без изменений\n",
    "- `event_type_description`, `event_type_main` - приведем к нижнему регистру, чтобы избежать ошибок\n",
    "- `region_name`, `city_name` - приведем к нижнему регистру и уберем пробелы"
   ]
  },
  {
   "cell_type": "code",
   "execution_count": 8,
   "metadata": {},
   "outputs": [],
   "source": [
    "# Приведем нужные столбцы к нижнему регистру и уберем лишние пробелы\n",
    "data['event_type_description'] = data['event_type_description'].str.lower()\n",
    "data['event_type_main'] = data['event_type_main'].str.lower()\n",
    "data['region_name'] = data['region_name'].str.lower().str.strip()\n",
    "data['city_name'] = data['city_name'].str.lower().str.strip()"
   ]
  },
  {
   "cell_type": "code",
   "execution_count": 9,
   "metadata": {},
   "outputs": [
    {
     "name": "stdout",
     "output_type": "stream",
     "text": [
      "['спектакль' 'событие' 'цирковое шоу' 'выставка' 'шоу' 'концерт' 'спорт'\n",
      " 'мюзикл' 'фестиваль' 'ёлка' 'балет' 'спортивное мероприятие' 'опера'\n",
      " 'музыкальный спектакль' 'кукольный спектакль' 'оперетта' 'снегурочка'\n",
      " 'рок-мюзикл' 'экскурсия' 'подарок']\n",
      "['театр' 'выставки' 'другое' 'стендап' 'концерты' 'спорт' 'ёлки']\n",
      "['каменевский регион' 'североярская область' 'озернинский край'\n",
      " 'лугоградская область' 'поленовский край' 'широковская область'\n",
      " 'медовская область' 'златопольский округ' 'малиновоярский округ'\n",
      " 'яблоневская область' 'ветренский регион' 'боровлянский край'\n",
      " 'крутоводская область' 'ягодиновская область' 'серебряноярский округ'\n",
      " 'лесодальний край' 'верхоречная область' 'горицветская область'\n",
      " 'речиновская область' 'травиницкий округ' 'сосновская область'\n",
      " 'серебринская область' 'травяная область' 'каменноярский край'\n",
      " 'солнечноземская область' 'светополянский округ' 'заречная область'\n",
      " 'ручейковский край' 'глиногорская область' 'тепляковская область'\n",
      " 'каменноозёрный край' 'солнечнореченская область' 'зоринский регион'\n",
      " 'берёзовская область' 'лесостепной край' 'малиновая область'\n",
      " 'синегорский регион' 'луговая область' 'шанырский регион'\n",
      " 'каменополянский округ' 'речицкая область' 'горностепной регион'\n",
      " 'речицкий регион' 'золотоключевской край' 'лесоярская область'\n",
      " 'зеленоградский округ' 'миропольская область' 'дальнеземская область'\n",
      " 'озернопольская область' 'берестовский округ' 'ключеводский округ'\n",
      " 'нежинская область' 'дальнезорский край' 'вишнёвский край'\n",
      " 'каменичская область' 'голубевский округ' 'тихогорская область'\n",
      " 'крутоводский регион' 'чистогорская область' 'североозёрский округ'\n",
      " 'тихолесский край' 'кристальная область' 'горноземский регион'\n",
      " 'радужнопольский край' 'белоярская область' 'островная область'\n",
      " 'тихореченская область' 'кристаловская область' 'яснопольский округ'\n",
      " 'островогорский округ' 'радужногорская область' 'дубравная область'\n",
      " 'залесский край' 'североключевской округ' 'верховинская область'\n",
      " 'светолесский край' 'сосноводолинская область' 'верхозёрский край'\n",
      " 'лесноярский край' 'теплоозёрский округ' 'лесополянская область']\n",
      "['глиногорск' 'озёрск' 'родниковецк' 'кристалевск' 'дальнозолотск'\n",
      " 'радужнополье' 'радужсвет' 'кумсай' 'верховино' 'светополье' 'кокжар'\n",
      " 'каменский' 'лесоярич' 'никольянов' 'речинцево' 'лесозолотск'\n",
      " 'дальнозерск' 'серебрянка' 'островецк' 'родниковец' 'дальнесветск'\n",
      " 'луговаярово' 'ягодиновка' 'дальнополин' 'солчелуг' 'озёрчане'\n",
      " 'серебровино' 'лесоярово' 'глинополье' 'глиноград' 'дальнесветин'\n",
      " 'северополье' 'теплоозеро' 'горнодолинск' 'ордакент' 'озёрово'\n",
      " 'луговинск' 'лугоград' 'златопольск' 'крутовинск' 'сарыжар' 'сосновечин'\n",
      " 'тихоярск' 'яблонецк' 'жаркентай' 'широковка' 'синеводов' 'синеводск'\n",
      " 'тихосветск' 'радужанов' 'глиногорь' 'каменосветск' 'родниковск'\n",
      " 'травогород' 'глинянск' 'радужинск' 'поляногорье' 'дальнолесье'\n",
      " 'ручейник' 'ключеград' 'ключеводск' 'поленовино' 'речичанск'\n",
      " 'ключевополье' 'шаныртау' 'дальнесоснов' 'ордасай' 'теплоозёрск'\n",
      " 'чистогорье' 'ручейный' 'островярово' 'ягодинск' 'поленоозёрово'\n",
      " 'акбасты' 'медовино' 'каменёвка' 'рощино' 'солнечнёвка' 'верхозолотск'\n",
      " 'боровлянск' 'лугиново' 'сосноград' 'радужнояр' 'кенесар' 'островенск'\n",
      " 'горнополец' 'яблоновец' 'вишнёво' 'ясногородин' 'нежинск' 'малиноворск'\n",
      " 'леснойск' 'озёриново' 'островополь' 'тихоречка' 'поленояр' 'ручьевино'\n",
      " 'травяниново' 'кристаловец' 'буркиттау' 'ручейковск' 'песковино'\n",
      " 'горнополье' 'зоревец' 'акбастау' 'заречиновка' 'сосновогорец'\n",
      " 'лесочистка' 'лесоводск' 'каменевовск' 'сарытау' 'малиновец' 'речевинец'\n",
      " 'кристалинск' 'верхоозёров' 'травяночистск' 'байкуль' 'светоярчик'\n",
      " 'зориново' 'лесореченск' 'водниково' 'берестовец' 'мироярово'\n",
      " 'медвежанск' 'тихолесье' 'каменичи' 'тихогорово' 'лесиново'\n",
      " 'синегориново' 'зелёнаярово' 'лесозерск' 'солнечеполье' 'солнечеводск'\n",
      " 'лесогорич' 'ключевогорск' 'нивинск' 'травогорск' 'лесоярка' 'шынгысай'\n",
      " 'луговское' 'горноставинск' 'зоречанск' 'ручейновинск' 'лесодолинск'\n",
      " 'поленовец' 'крутово' 'зеленополье' 'тепляковск' 'желкаин' 'березиноск'\n",
      " 'горнополянск' 'песчанская' 'светополь' 'поленоград' 'вишнёвогорск'\n",
      " 'северогорск' 'речное' 'каменевск' 'травянский' 'глинозорь' 'луговинец'\n",
      " 'серебровка' 'горяново' 'медовецк' 'каменозолото' 'желтоксан' 'ясногорец'\n",
      " 'горицветск' 'ясносветск' 'сосновинск' 'белоярск' 'солнечейск' 'каменояр'\n",
      " 'зеленолесье' 'нуртас' 'светогория' 'беловодск' 'малиновинск'\n",
      " 'серебринск' 'ключевинск' 'тихозорин' 'голубино' 'долиновка' 'шалкартау'\n",
      " 'миросветск' 'травяниково' 'ясноград' 'светочистенск' 'кумсары'\n",
      " 'зеленоградовск' 'поленосветск' 'каменодолин' 'вишнёводск'\n",
      " 'северобережье' 'светозёринск' 'каражар' 'горнополёк' 'ключезолотск'\n",
      " 'горнолуг' 'песчанец' 'бережанка' 'соловьёвка' 'крутоводск' 'бозарык'\n",
      " 'родничанск' 'берёзодальн' 'озёречин' 'поленосвет' 'зоревичск' 'коксуйск'\n",
      " 'златоречинск' 'жетисайск' 'байтерековск' 'акжолтау' 'сереброяр'\n",
      " 'яблоневое' 'лесинск' 'речинск' 'заречнинск' 'яснополянск' 'речиноград'\n",
      " 'радужнаярова' 'светозорск' 'горнополяровск' 'речепольск' 'тиходеревск'\n",
      " 'ягодиноград' 'желтау' 'поленовичи' 'тулебайск' 'златоозёрово'\n",
      " 'кристальевка' 'сарыбулак' 'сосновогорск' 'теплоград' 'яблоневск'\n",
      " 'реченск' 'бурьяново' 'островозёров' 'солнечёвино' 'берёзоречье'\n",
      " 'ветеринск' 'тихолесьевск' 'зореполин' 'тихоозёрск' 'родинсветск'\n",
      " 'медвежник' 'ясновский' 'заречнаярово' 'светоярич' 'ручейницк'\n",
      " 'лесогорский' 'зелёново' 'крутоводинск' 'яснолесье' 'солнечелесье'\n",
      " 'луновка' 'мироград' 'светлоярск' 'североград' 'медвежиновск' 'сосновецк'\n",
      " 'зеленополин' 'каражол' 'заречка' 'глинореч' 'каменевский' 'берёзогорск'\n",
      " 'светозолотск' 'гореловск' 'малиновочист' 'островской' 'каменогорье'\n",
      " 'чистояр' 'ташбулак' 'бережанск' 'кристалин' 'зареченец' 'талдысай'\n",
      " 'ягодино' 'синеполинск' 'берестяград' 'алтынсай' 'заречийск'\n",
      " 'берёзополье' 'зеленополец' 'шынартас' 'радужновка' 'поленолесье'\n",
      " 'златоречье' 'островсков' 'тогусжол' 'светоречин' 'айкольск'\n",
      " 'радужовинск' 'айсуак' 'заречник' 'глинолес' 'зелёнояр' 'синегорск'\n",
      " 'каменогорский' 'полянск' 'крутовичи' 'глинозолото' 'ягодинска'\n",
      " 'верховка' 'тепляровск' 'реченогор' 'озёроярск' 'тастай' 'светоярово'\n",
      " 'верхозорье' 'поляноречинск' 'малиновецк' 'острововск' 'светочистка'\n",
      " 'долиновск' 'мирополь' 'озёряновск' 'златополье' 'кристаловка'\n",
      " 'берёзореч' 'зеленогорье' 'солнечеград' 'голубевск' 'глинополянск'\n",
      " 'радугорь' 'кристолесье' 'березиногорск' 'миролесье' 'заречинск'\n",
      " 'ягодиноск' 'байсары' 'берёзиново' 'солнечегорск' 'глинополин'\n",
      " 'озёроград' 'ягодинец' 'алтынкала' 'горнолесье' 'карасуй' 'лесополин'\n",
      " 'дальнеград' 'горноград' 'березовцево' 'берёзовка' 'дальнозелен'\n",
      " 'травино' 'карасуйск' 'кызылжол' 'поляновск' 'лесогорск']\n"
     ]
    }
   ],
   "source": [
    "print(data['event_type_description'].unique())\n",
    "print(data['event_type_main'].unique())\n",
    "print(data['region_name'].unique())\n",
    "print(data['city_name'].unique())"
   ]
  },
  {
   "cell_type": "markdown",
   "metadata": {},
   "source": [
    "**Вывод по очистке категориальных данных:**\n",
    "\n",
    "В ходе проверки уникальных значений категориальных столбцов были выявлены потенциальные дубли по оформлению данных — из-за разного регистра и наличия лишних пробелов. Например, типы мероприятий, названия регионов и городов могли быть представлены в разных вариантах написания ('Театр' и 'театр', 'пермь' и 'пермь '), что могло исказить результаты дальнейшего анализа.\n",
    "\n",
    "Для устранения данной проблемы все значения были приведены к нижнему регистру и очищены от лишних пробелов, что позволило корректно подготовить данные к анализу и обеспечить корректный подсчет уникальных значений категорий без дублирования."
   ]
  },
  {
   "cell_type": "markdown",
   "metadata": {},
   "source": [
    "#### Работа с количественными столбцами, отработака выбросов"
   ]
  },
  {
   "cell_type": "code",
   "execution_count": 10,
   "metadata": {},
   "outputs": [
    {
     "data": {
      "text/html": [
       "<div>\n",
       "<style scoped>\n",
       "    .dataframe tbody tr th:only-of-type {\n",
       "        vertical-align: middle;\n",
       "    }\n",
       "\n",
       "    .dataframe tbody tr th {\n",
       "        vertical-align: top;\n",
       "    }\n",
       "\n",
       "    .dataframe thead th {\n",
       "        text-align: right;\n",
       "    }\n",
       "</style>\n",
       "<table border=\"1\" class=\"dataframe\">\n",
       "  <thead>\n",
       "    <tr style=\"text-align: right;\">\n",
       "      <th></th>\n",
       "      <th>revenue</th>\n",
       "      <th>tickets_count</th>\n",
       "    </tr>\n",
       "  </thead>\n",
       "  <tbody>\n",
       "    <tr>\n",
       "      <th>count</th>\n",
       "      <td>290611.000000</td>\n",
       "      <td>290611.000000</td>\n",
       "    </tr>\n",
       "    <tr>\n",
       "      <th>mean</th>\n",
       "      <td>625.584360</td>\n",
       "      <td>2.754311</td>\n",
       "    </tr>\n",
       "    <tr>\n",
       "      <th>std</th>\n",
       "      <td>1227.693064</td>\n",
       "      <td>1.170620</td>\n",
       "    </tr>\n",
       "    <tr>\n",
       "      <th>min</th>\n",
       "      <td>-90.760000</td>\n",
       "      <td>1.000000</td>\n",
       "    </tr>\n",
       "    <tr>\n",
       "      <th>25%</th>\n",
       "      <td>116.850000</td>\n",
       "      <td>2.000000</td>\n",
       "    </tr>\n",
       "    <tr>\n",
       "      <th>50%</th>\n",
       "      <td>356.010000</td>\n",
       "      <td>3.000000</td>\n",
       "    </tr>\n",
       "    <tr>\n",
       "      <th>75%</th>\n",
       "      <td>810.130000</td>\n",
       "      <td>4.000000</td>\n",
       "    </tr>\n",
       "    <tr>\n",
       "      <th>max</th>\n",
       "      <td>81174.540000</td>\n",
       "      <td>57.000000</td>\n",
       "    </tr>\n",
       "  </tbody>\n",
       "</table>\n",
       "</div>"
      ],
      "text/plain": [
       "             revenue  tickets_count\n",
       "count  290611.000000  290611.000000\n",
       "mean      625.584360       2.754311\n",
       "std      1227.693064       1.170620\n",
       "min       -90.760000       1.000000\n",
       "25%       116.850000       2.000000\n",
       "50%       356.010000       3.000000\n",
       "75%       810.130000       4.000000\n",
       "max     81174.540000      57.000000"
      ]
     },
     "metadata": {},
     "output_type": "display_data"
    }
   ],
   "source": [
    "# Посмотрим статистики по важным для анализа количественным столбцам\n",
    "display(data[['revenue', 'tickets_count']].describe())"
   ]
  },
  {
   "cell_type": "code",
   "execution_count": 11,
   "metadata": {},
   "outputs": [],
   "source": [
    "# Разделим данные по валютам\n",
    "data_rub = data[data['currency_code'] == 'rub']\n",
    "data_kzt = data[data['currency_code'] == 'kzt']"
   ]
  },
  {
   "cell_type": "code",
   "execution_count": 12,
   "metadata": {},
   "outputs": [
    {
     "data": {
      "image/png": "[encoded data removed]",
      "text/plain": [
       "<Figure size 720x288 with 1 Axes>"
      ]
     },
     "metadata": {
      "needs_background": "light"
     },
     "output_type": "display_data"
    },
    {
     "data": {
      "image/png": "[encoded data removed]",
      "text/plain": [
       "<Figure size 720x288 with 1 Axes>"
      ]
     },
     "metadata": {
      "needs_background": "light"
     },
     "output_type": "display_data"
    },
    {
     "data": {
      "image/png": "[encoded data removed]",
      "text/plain": [
       "<Figure size 720x288 with 1 Axes>"
      ]
     },
     "metadata": {
      "needs_background": "light"
     },
     "output_type": "display_data"
    }
   ],
   "source": [
    "# Построим гистограммы распределения\n",
    "plt.figure(figsize=(10, 4))\n",
    "sns.histplot(data_rub['revenue'], bins=100)\n",
    "plt.title('Распределение revenue (rub)')\n",
    "plt.show()\n",
    "\n",
    "plt.figure(figsize=(10, 4))\n",
    "sns.histplot(data_kzt['revenue'], bins=100)\n",
    "plt.title('Распределение revenue (kzt)')\n",
    "plt.show()\n",
    "\n",
    "plt.figure(figsize=(10, 4))\n",
    "sns.histplot(data['tickets_count'], bins=50)\n",
    "plt.title('Распределение tickets_count')\n",
    "plt.show()"
   ]
  },
  {
   "cell_type": "code",
   "execution_count": 13,
   "metadata": {},
   "outputs": [
    {
     "data": {
      "image/png": "[encoded data removed]",
      "text/plain": [
       "<Figure size 720x288 with 1 Axes>"
      ]
     },
     "metadata": {
      "needs_background": "light"
     },
     "output_type": "display_data"
    },
    {
     "data": {
      "image/png": "[encoded data removed]",
      "text/plain": [
       "<Figure size 720x288 with 1 Axes>"
      ]
     },
     "metadata": {
      "needs_background": "light"
     },
     "output_type": "display_data"
    }
   ],
   "source": [
    "# Посмотрим выбросы\n",
    "plt.figure(figsize=(10, 4))\n",
    "sns.boxplot(x=data_rub['revenue'])\n",
    "plt.title('Boxplot revenue (rub)')\n",
    "plt.show()\n",
    "\n",
    "plt.figure(figsize=(10, 4))\n",
    "sns.boxplot(x=data_kzt['revenue'])\n",
    "plt.title('Boxplot revenue (kzt)')\n",
    "plt.show()"
   ]
  },
  {
   "cell_type": "markdown",
   "metadata": {},
   "source": [
    "**Выводы по распределению данных:**\n",
    "\n",
    "- В столбце `revenue` для заказов в рублях и тенге наблюдаются выраженные выбросы — это видно как на гистограммах, так и на boxplot. Основной массив значений сосредоточен в диапазоне до 10 000, но встречаются заказы с очень высокой выручкой (до 80 000 руб и 25 000 тенге), что характерно для отдельных дорогих мероприятий или массовых покупок\n",
    "\n",
    "- В данных встречаются некорректные значения выручки (min < 0) — это может быть ошибкой данных или возвратом средств\n",
    "\n",
    "- Столбец `tickets_count` также имеет редкие высокие значения (до 57 билетов в одном заказе), однако основная масса данных находится в диапазоне 1-4 билета"
   ]
  },
  {
   "cell_type": "code",
   "execution_count": 14,
   "metadata": {},
   "outputs": [
    {
     "name": "stdout",
     "output_type": "stream",
     "text": [
      "99-й процентиль выручки (rub): 2570.8\n",
      "99-й процентиль выручки (kzt): 17617.24\n"
     ]
    }
   ],
   "source": [
    "# Посчитаем 99-й процентиль для выручки в рублях и тенге\n",
    "rub_percentile_99 = data_rub['revenue'].quantile(0.99)\n",
    "kzt_percentile_99 = data_kzt['revenue'].quantile(0.99)\n",
    "\n",
    "print('99-й процентиль выручки (rub):', rub_percentile_99)\n",
    "print('99-й процентиль выручки (kzt):', kzt_percentile_99)"
   ]
  },
  {
   "cell_type": "code",
   "execution_count": 15,
   "metadata": {},
   "outputs": [
    {
     "name": "stdout",
     "output_type": "stream",
     "text": [
      "Размер таблицы rub без выбросов: (282742, 24)\n",
      "Размер таблицы kzt без выбросов: (5040, 24)\n"
     ]
    }
   ],
   "source": [
    "# Отберем данные без выбросов и проверим размеры таблиц\n",
    "data_rub_filtered = data_rub[data_rub['revenue'] <= rub_percentile_99]\n",
    "data_kzt_filtered = data_kzt[data_kzt['revenue'] <= kzt_percentile_99]\n",
    "print('Размер таблицы rub без выбросов:', data_rub_filtered.shape)\n",
    "print('Размер таблицы kzt без выбросов:', data_kzt_filtered.shape)"
   ]
  },
  {
   "cell_type": "markdown",
   "metadata": {},
   "source": [
    "#### Проверка на дубликаты"
   ]
  },
  {
   "cell_type": "code",
   "execution_count": 16,
   "metadata": {},
   "outputs": [
    {
     "name": "stdout",
     "output_type": "stream",
     "text": [
      "Количество явных дубликатов: 0\n"
     ]
    }
   ],
   "source": [
    "# Проверим явные дубликаты\n",
    "print('Количество явных дубликатов:', data.duplicated().sum())"
   ]
  },
  {
   "cell_type": "code",
   "execution_count": 17,
   "metadata": {},
   "outputs": [],
   "source": [
    "# Проверим количество неявных дубликатов по основным характристикам заказа\n",
    "#print('Количество неявных дубликатов:', \n",
    "      #data.duplicated(subset=['user_id', 'created_dt_msk', 'event_id', 'tickets_count', 'revenue']).sum())"
   ]
  },
  {
   "cell_type": "code",
   "execution_count": 17,
   "metadata": {},
   "outputs": [
    {
     "name": "stdout",
     "output_type": "stream",
     "text": [
      "Количество неявных дубликатов: 52873\n"
     ]
    }
   ],
   "source": [
    "# Проверим количество неявных дубликатов по основным характеристикам заказа\n",
    "print('Количество неявных дубликатов:',\n",
    "      data.duplicated(subset=['user_id', 'created_dt_msk', 'event_id', 'tickets_count', 'revenue', 'service_name']).sum())"
   ]
  },
  {
   "cell_type": "code",
   "execution_count": 18,
   "metadata": {},
   "outputs": [
    {
     "name": "stdout",
     "output_type": "stream",
     "text": [
      "Количество неявных дубликатов: 42\n",
      "Это составляет 0.01% от всех строк\n"
     ]
    }
   ],
   "source": [
    "# Проверим дубликаты по более строгим признакам\n",
    "dubs = data.duplicated(subset=[\n",
    "    'user_id',\n",
    "    'created_ts_msk',\n",
    "    'device_type_canonical',\n",
    "    'service_name',\n",
    "    'event_id',\n",
    "    'revenue',\n",
    "    'total',\n",
    "]).sum()\n",
    "\n",
    "print('Количество неявных дубликатов:', dubs)\n",
    "\n",
    "dup_share = round(dubs / data.shape[0] * 100, 2)\n",
    "print(f\"Это составляет {dup_share}% от всех строк\")"
   ]
  },
  {
   "cell_type": "code",
   "execution_count": 19,
   "metadata": {},
   "outputs": [
    {
     "name": "stdout",
     "output_type": "stream",
     "text": [
      "Размер таблицы после удаления дубликатов: (290569, 24)\n"
     ]
    }
   ],
   "source": [
    "# Удаляем неявные дубликаты по более строгим условиям\n",
    "data = data.drop_duplicates(subset=[\n",
    "    'user_id', \n",
    "    'created_ts_msk',  # важно учитывать точное время заказа\n",
    "    'device_type_canonical',\n",
    "    'service_name', \n",
    "    'event_id', \n",
    "    'revenue', \n",
    "    'total'\n",
    "])\n",
    "\n",
    "print('Размер таблицы после удаления дубликатов:', data.shape)"
   ]
  },
  {
   "cell_type": "markdown",
   "metadata": {},
   "source": [
    "**Промежуточный вывод:** \n",
    "\n",
    "При проверке данных явные дубликаты не обнаружены. Однако было выявлено 52873 неявных дубликатов (18.19% от общего числа записей) по основным характеристикам бронирования.\n",
    "\n",
    "Для более корректного удаления дубликатов были использованы более строгие условия — дополнительно учитывались точное время бронирования (created_ts_msk), устройство пользователя (device_type_canonical), а также итоговая сумма заказа (total). После уточнения условий количество неявных дубликатов сократилось до 42 записей (0.01% от всех строк), что является допустимым значением.\n",
    "\n",
    "Для дальнейшего анализа данные были очищены от неявных дубликатов по указанным признакам — это позволит учитывать только уникальные факты бронирования билетов."
   ]
  },
  {
   "cell_type": "markdown",
   "metadata": {},
   "source": [
    "#### Работа с типами данных"
   ]
  },
  {
   "cell_type": "code",
   "execution_count": 20,
   "metadata": {},
   "outputs": [],
   "source": [
    "# Преобразуем в datetime поля с датой\n",
    "data['created_dt_msk'] = pd.to_datetime(data['created_dt_msk'])\n",
    "data['created_ts_msk'] = pd.to_datetime(data['created_ts_msk'])"
   ]
  },
  {
   "cell_type": "code",
   "execution_count": 21,
   "metadata": {},
   "outputs": [
    {
     "name": "stdout",
     "output_type": "stream",
     "text": [
      "<class 'pandas.core.frame.DataFrame'>\n",
      "Int64Index: 290569 entries, 0 to 290610\n",
      "Data columns (total 24 columns):\n",
      " #   Column                  Non-Null Count   Dtype         \n",
      "---  ------                  --------------   -----         \n",
      " 0   order_id                290569 non-null  int64         \n",
      " 1   user_id                 290569 non-null  object        \n",
      " 2   created_dt_msk          290569 non-null  datetime64[ns]\n",
      " 3   created_ts_msk          290569 non-null  datetime64[ns]\n",
      " 4   event_id                290569 non-null  int64         \n",
      " 5   cinema_circuit          290569 non-null  object        \n",
      " 6   age_limit               290569 non-null  int64         \n",
      " 7   currency_code           290569 non-null  object        \n",
      " 8   device_type_canonical   290569 non-null  object        \n",
      " 9   revenue                 290569 non-null  float64       \n",
      " 10  service_name            290569 non-null  object        \n",
      " 11  tickets_count           290569 non-null  int64         \n",
      " 12  total                   290569 non-null  float64       \n",
      " 13  days_since_prev         268656 non-null  float64       \n",
      " 14  event_name              290569 non-null  object        \n",
      " 15  event_type_description  290569 non-null  object        \n",
      " 16  event_type_main         290569 non-null  object        \n",
      " 17  organizers              290569 non-null  object        \n",
      " 18  region_name             290569 non-null  object        \n",
      " 19  city_name               290569 non-null  object        \n",
      " 20  city_id                 290569 non-null  int64         \n",
      " 21  venue_id                290569 non-null  int64         \n",
      " 22  venue_name              290569 non-null  object        \n",
      " 23  venue_address           290569 non-null  object        \n",
      "dtypes: datetime64[ns](2), float64(3), int64(6), object(13)\n",
      "memory usage: 55.4+ MB\n"
     ]
    },
    {
     "data": {
      "text/plain": [
       "None"
      ]
     },
     "metadata": {},
     "output_type": "display_data"
    }
   ],
   "source": [
    "# Посмотрим типы данных\n",
    "display(data.info())"
   ]
  },
  {
   "cell_type": "code",
   "execution_count": 22,
   "metadata": {},
   "outputs": [
    {
     "name": "stdout",
     "output_type": "stream",
     "text": [
      "<class 'pandas.core.frame.DataFrame'>\n",
      "Int64Index: 290569 entries, 0 to 290610\n",
      "Data columns (total 24 columns):\n",
      " #   Column                  Non-Null Count   Dtype         \n",
      "---  ------                  --------------   -----         \n",
      " 0   order_id                290569 non-null  int32         \n",
      " 1   user_id                 290569 non-null  object        \n",
      " 2   created_dt_msk          290569 non-null  datetime64[ns]\n",
      " 3   created_ts_msk          290569 non-null  datetime64[ns]\n",
      " 4   event_id                290569 non-null  int32         \n",
      " 5   cinema_circuit          290569 non-null  object        \n",
      " 6   age_limit               290569 non-null  int8          \n",
      " 7   currency_code           290569 non-null  object        \n",
      " 8   device_type_canonical   290569 non-null  object        \n",
      " 9   revenue                 290569 non-null  float32       \n",
      " 10  service_name            290569 non-null  object        \n",
      " 11  tickets_count           290569 non-null  int8          \n",
      " 12  total                   290569 non-null  float32       \n",
      " 13  days_since_prev         268656 non-null  float32       \n",
      " 14  event_name              290569 non-null  object        \n",
      " 15  event_type_description  290569 non-null  object        \n",
      " 16  event_type_main         290569 non-null  object        \n",
      " 17  organizers              290569 non-null  object        \n",
      " 18  region_name             290569 non-null  object        \n",
      " 19  city_name               290569 non-null  object        \n",
      " 20  city_id                 290569 non-null  int64         \n",
      " 21  venue_id                290569 non-null  int64         \n",
      " 22  venue_name              290569 non-null  object        \n",
      " 23  venue_address           290569 non-null  object        \n",
      "dtypes: datetime64[ns](2), float32(3), int32(2), int64(2), int8(2), object(13)\n",
      "memory usage: 46.0+ MB\n"
     ]
    },
    {
     "data": {
      "text/plain": [
       "None"
      ]
     },
     "metadata": {},
     "output_type": "display_data"
    }
   ],
   "source": [
    "# Сделаем оптимизацию типов данных\n",
    "data['revenue'] = data['revenue'].astype('float32')\n",
    "data['total'] = data['total'].astype('float32')\n",
    "data['days_since_prev'] = data['days_since_prev'].astype('float32')\n",
    "data['order_id'] = data['order_id'].astype('int32')\n",
    "data['event_id'] = data['event_id'].astype('int32')\n",
    "data['tickets_count'] = data['tickets_count'].astype('int8')\n",
    "data['age_limit'] = data['age_limit'].astype('int8')\n",
    "\n",
    "display(data.info())"
   ]
  },
  {
   "cell_type": "markdown",
   "metadata": {},
   "source": [
    "#### Добавление необходимых столбцов"
   ]
  },
  {
   "cell_type": "code",
   "execution_count": 23,
   "metadata": {},
   "outputs": [],
   "source": [
    "# Приведем выручку к рублям и создадим колонку revenue_rub\n",
    "tenge_dict = tenge.set_index('data')['curs'].to_dict()\n",
    "data['revenue_rub'] = data.apply(\n",
    "    lambda x: x['revenue'] if x['currency_code'] == 'rub'\n",
    "    else x['revenue'] * tenge_dict.get(x['created_dt_msk'].date(), 0) / 100,\n",
    "    axis=1\n",
    ")"
   ]
  },
  {
   "cell_type": "code",
   "execution_count": 24,
   "metadata": {},
   "outputs": [],
   "source": [
    "# Рассчитаем выручку с продажи одного билета\n",
    "data['one_ticket_revenue_rub'] = data['revenue_rub'] / data['tickets_count']"
   ]
  },
  {
   "cell_type": "code",
   "execution_count": 25,
   "metadata": {},
   "outputs": [],
   "source": [
    "# Выделим месяц оформления заказа\n",
    "data['month'] = data['created_dt_msk'].dt.month"
   ]
  },
  {
   "cell_type": "code",
   "execution_count": 26,
   "metadata": {},
   "outputs": [],
   "source": [
    "# Создадим столбец с информацией о сезонности\n",
    "def get_season(month):\n",
    "    if month in [12, 1, 2]:\n",
    "        return 'зима'\n",
    "    elif month in [3, 4, 5]:\n",
    "        return 'весна'\n",
    "    elif month in [6, 7, 8]:\n",
    "        return 'лето'\n",
    "    else:\n",
    "        return 'осень'\n",
    "\n",
    "data['season'] = data['month'].apply(get_season)"
   ]
  },
  {
   "cell_type": "code",
   "execution_count": 27,
   "metadata": {},
   "outputs": [
    {
     "data": {
      "text/html": [
       "<div>\n",
       "<style scoped>\n",
       "    .dataframe tbody tr th:only-of-type {\n",
       "        vertical-align: middle;\n",
       "    }\n",
       "\n",
       "    .dataframe tbody tr th {\n",
       "        vertical-align: top;\n",
       "    }\n",
       "\n",
       "    .dataframe thead th {\n",
       "        text-align: right;\n",
       "    }\n",
       "</style>\n",
       "<table border=\"1\" class=\"dataframe\">\n",
       "  <thead>\n",
       "    <tr style=\"text-align: right;\">\n",
       "      <th></th>\n",
       "      <th>order_id</th>\n",
       "      <th>user_id</th>\n",
       "      <th>created_dt_msk</th>\n",
       "      <th>created_ts_msk</th>\n",
       "      <th>event_id</th>\n",
       "      <th>cinema_circuit</th>\n",
       "      <th>age_limit</th>\n",
       "      <th>currency_code</th>\n",
       "      <th>device_type_canonical</th>\n",
       "      <th>revenue</th>\n",
       "      <th>service_name</th>\n",
       "      <th>tickets_count</th>\n",
       "      <th>total</th>\n",
       "      <th>days_since_prev</th>\n",
       "      <th>event_name</th>\n",
       "      <th>event_type_description</th>\n",
       "      <th>event_type_main</th>\n",
       "      <th>organizers</th>\n",
       "      <th>region_name</th>\n",
       "      <th>city_name</th>\n",
       "      <th>city_id</th>\n",
       "      <th>venue_id</th>\n",
       "      <th>venue_name</th>\n",
       "      <th>venue_address</th>\n",
       "      <th>revenue_rub</th>\n",
       "      <th>one_ticket_revenue_rub</th>\n",
       "      <th>month</th>\n",
       "      <th>season</th>\n",
       "    </tr>\n",
       "  </thead>\n",
       "  <tbody>\n",
       "    <tr>\n",
       "      <th>0</th>\n",
       "      <td>4359165</td>\n",
       "      <td>0002849b70a3ce2</td>\n",
       "      <td>2024-08-20</td>\n",
       "      <td>2024-08-20 16:08:03</td>\n",
       "      <td>169230</td>\n",
       "      <td>нет</td>\n",
       "      <td>16</td>\n",
       "      <td>rub</td>\n",
       "      <td>mobile</td>\n",
       "      <td>1521.939941</td>\n",
       "      <td>Край билетов</td>\n",
       "      <td>4</td>\n",
       "      <td>10870.990234</td>\n",
       "      <td>NaN</td>\n",
       "      <td>f0f7b271-04eb-4af6-bcb8-8f05cf46d6ad</td>\n",
       "      <td>спектакль</td>\n",
       "      <td>театр</td>\n",
       "      <td>№3322</td>\n",
       "      <td>каменевский регион</td>\n",
       "      <td>глиногорск</td>\n",
       "      <td>213</td>\n",
       "      <td>3972</td>\n",
       "      <td>Сценический центр \"Деталь\" Групп</td>\n",
       "      <td>алл. Машиностроителей, д. 19 стр. 6</td>\n",
       "      <td>1521.939941</td>\n",
       "      <td>380.484985</td>\n",
       "      <td>8</td>\n",
       "      <td>лето</td>\n",
       "    </tr>\n",
       "    <tr>\n",
       "      <th>1</th>\n",
       "      <td>7431164</td>\n",
       "      <td>024dc5236465850</td>\n",
       "      <td>2024-07-23</td>\n",
       "      <td>2024-07-23 20:52:02</td>\n",
       "      <td>169230</td>\n",
       "      <td>нет</td>\n",
       "      <td>16</td>\n",
       "      <td>rub</td>\n",
       "      <td>mobile</td>\n",
       "      <td>1902.420044</td>\n",
       "      <td>Край билетов</td>\n",
       "      <td>5</td>\n",
       "      <td>13588.740234</td>\n",
       "      <td>0.0</td>\n",
       "      <td>f0f7b271-04eb-4af6-bcb8-8f05cf46d6ad</td>\n",
       "      <td>спектакль</td>\n",
       "      <td>театр</td>\n",
       "      <td>№3322</td>\n",
       "      <td>каменевский регион</td>\n",
       "      <td>глиногорск</td>\n",
       "      <td>213</td>\n",
       "      <td>3972</td>\n",
       "      <td>Сценический центр \"Деталь\" Групп</td>\n",
       "      <td>алл. Машиностроителей, д. 19 стр. 6</td>\n",
       "      <td>1902.420044</td>\n",
       "      <td>380.484009</td>\n",
       "      <td>7</td>\n",
       "      <td>лето</td>\n",
       "    </tr>\n",
       "    <tr>\n",
       "      <th>2</th>\n",
       "      <td>7431106</td>\n",
       "      <td>024dc5236465850</td>\n",
       "      <td>2024-07-23</td>\n",
       "      <td>2024-07-23 20:54:19</td>\n",
       "      <td>169230</td>\n",
       "      <td>нет</td>\n",
       "      <td>16</td>\n",
       "      <td>rub</td>\n",
       "      <td>mobile</td>\n",
       "      <td>1141.449951</td>\n",
       "      <td>Край билетов</td>\n",
       "      <td>3</td>\n",
       "      <td>8153.250000</td>\n",
       "      <td>0.0</td>\n",
       "      <td>f0f7b271-04eb-4af6-bcb8-8f05cf46d6ad</td>\n",
       "      <td>спектакль</td>\n",
       "      <td>театр</td>\n",
       "      <td>№3322</td>\n",
       "      <td>каменевский регион</td>\n",
       "      <td>глиногорск</td>\n",
       "      <td>213</td>\n",
       "      <td>3972</td>\n",
       "      <td>Сценический центр \"Деталь\" Групп</td>\n",
       "      <td>алл. Машиностроителей, д. 19 стр. 6</td>\n",
       "      <td>1141.449951</td>\n",
       "      <td>380.483317</td>\n",
       "      <td>7</td>\n",
       "      <td>лето</td>\n",
       "    </tr>\n",
       "    <tr>\n",
       "      <th>3</th>\n",
       "      <td>7431135</td>\n",
       "      <td>024dc5236465850</td>\n",
       "      <td>2024-07-23</td>\n",
       "      <td>2024-07-23 20:59:44</td>\n",
       "      <td>169230</td>\n",
       "      <td>нет</td>\n",
       "      <td>16</td>\n",
       "      <td>rub</td>\n",
       "      <td>mobile</td>\n",
       "      <td>1902.420044</td>\n",
       "      <td>Край билетов</td>\n",
       "      <td>5</td>\n",
       "      <td>13588.740234</td>\n",
       "      <td>0.0</td>\n",
       "      <td>f0f7b271-04eb-4af6-bcb8-8f05cf46d6ad</td>\n",
       "      <td>спектакль</td>\n",
       "      <td>театр</td>\n",
       "      <td>№3322</td>\n",
       "      <td>каменевский регион</td>\n",
       "      <td>глиногорск</td>\n",
       "      <td>213</td>\n",
       "      <td>3972</td>\n",
       "      <td>Сценический центр \"Деталь\" Групп</td>\n",
       "      <td>алл. Машиностроителей, д. 19 стр. 6</td>\n",
       "      <td>1902.420044</td>\n",
       "      <td>380.484009</td>\n",
       "      <td>7</td>\n",
       "      <td>лето</td>\n",
       "    </tr>\n",
       "    <tr>\n",
       "      <th>4</th>\n",
       "      <td>7431048</td>\n",
       "      <td>024dc5236465850</td>\n",
       "      <td>2024-07-23</td>\n",
       "      <td>2024-07-23 21:02:08</td>\n",
       "      <td>169230</td>\n",
       "      <td>нет</td>\n",
       "      <td>16</td>\n",
       "      <td>rub</td>\n",
       "      <td>mobile</td>\n",
       "      <td>1521.939941</td>\n",
       "      <td>Край билетов</td>\n",
       "      <td>4</td>\n",
       "      <td>10870.990234</td>\n",
       "      <td>0.0</td>\n",
       "      <td>f0f7b271-04eb-4af6-bcb8-8f05cf46d6ad</td>\n",
       "      <td>спектакль</td>\n",
       "      <td>театр</td>\n",
       "      <td>№3322</td>\n",
       "      <td>каменевский регион</td>\n",
       "      <td>глиногорск</td>\n",
       "      <td>213</td>\n",
       "      <td>3972</td>\n",
       "      <td>Сценический центр \"Деталь\" Групп</td>\n",
       "      <td>алл. Машиностроителей, д. 19 стр. 6</td>\n",
       "      <td>1521.939941</td>\n",
       "      <td>380.484985</td>\n",
       "      <td>7</td>\n",
       "      <td>лето</td>\n",
       "    </tr>\n",
       "  </tbody>\n",
       "</table>\n",
       "</div>"
      ],
      "text/plain": [
       "   order_id          user_id created_dt_msk      created_ts_msk  event_id  \\\n",
       "0   4359165  0002849b70a3ce2     2024-08-20 2024-08-20 16:08:03    169230   \n",
       "1   7431164  024dc5236465850     2024-07-23 2024-07-23 20:52:02    169230   \n",
       "2   7431106  024dc5236465850     2024-07-23 2024-07-23 20:54:19    169230   \n",
       "3   7431135  024dc5236465850     2024-07-23 2024-07-23 20:59:44    169230   \n",
       "4   7431048  024dc5236465850     2024-07-23 2024-07-23 21:02:08    169230   \n",
       "\n",
       "  cinema_circuit  age_limit currency_code device_type_canonical      revenue  \\\n",
       "0            нет         16           rub                mobile  1521.939941   \n",
       "1            нет         16           rub                mobile  1902.420044   \n",
       "2            нет         16           rub                mobile  1141.449951   \n",
       "3            нет         16           rub                mobile  1902.420044   \n",
       "4            нет         16           rub                mobile  1521.939941   \n",
       "\n",
       "   service_name  tickets_count         total  days_since_prev  \\\n",
       "0  Край билетов              4  10870.990234              NaN   \n",
       "1  Край билетов              5  13588.740234              0.0   \n",
       "2  Край билетов              3   8153.250000              0.0   \n",
       "3  Край билетов              5  13588.740234              0.0   \n",
       "4  Край билетов              4  10870.990234              0.0   \n",
       "\n",
       "                             event_name event_type_description  \\\n",
       "0  f0f7b271-04eb-4af6-bcb8-8f05cf46d6ad              спектакль   \n",
       "1  f0f7b271-04eb-4af6-bcb8-8f05cf46d6ad              спектакль   \n",
       "2  f0f7b271-04eb-4af6-bcb8-8f05cf46d6ad              спектакль   \n",
       "3  f0f7b271-04eb-4af6-bcb8-8f05cf46d6ad              спектакль   \n",
       "4  f0f7b271-04eb-4af6-bcb8-8f05cf46d6ad              спектакль   \n",
       "\n",
       "  event_type_main organizers         region_name   city_name  city_id  \\\n",
       "0           театр      №3322  каменевский регион  глиногорск      213   \n",
       "1           театр      №3322  каменевский регион  глиногорск      213   \n",
       "2           театр      №3322  каменевский регион  глиногорск      213   \n",
       "3           театр      №3322  каменевский регион  глиногорск      213   \n",
       "4           театр      №3322  каменевский регион  глиногорск      213   \n",
       "\n",
       "   venue_id                        venue_name  \\\n",
       "0      3972  Сценический центр \"Деталь\" Групп   \n",
       "1      3972  Сценический центр \"Деталь\" Групп   \n",
       "2      3972  Сценический центр \"Деталь\" Групп   \n",
       "3      3972  Сценический центр \"Деталь\" Групп   \n",
       "4      3972  Сценический центр \"Деталь\" Групп   \n",
       "\n",
       "                         venue_address  revenue_rub  one_ticket_revenue_rub  \\\n",
       "0  алл. Машиностроителей, д. 19 стр. 6  1521.939941              380.484985   \n",
       "1  алл. Машиностроителей, д. 19 стр. 6  1902.420044              380.484009   \n",
       "2  алл. Машиностроителей, д. 19 стр. 6  1141.449951              380.483317   \n",
       "3  алл. Машиностроителей, д. 19 стр. 6  1902.420044              380.484009   \n",
       "4  алл. Машиностроителей, д. 19 стр. 6  1521.939941              380.484985   \n",
       "\n",
       "   month season  \n",
       "0      8   лето  \n",
       "1      7   лето  \n",
       "2      7   лето  \n",
       "3      7   лето  \n",
       "4      7   лето  "
      ]
     },
     "metadata": {},
     "output_type": "display_data"
    },
    {
     "name": "stdout",
     "output_type": "stream",
     "text": [
      "<class 'pandas.core.frame.DataFrame'>\n",
      "Int64Index: 290569 entries, 0 to 290610\n",
      "Data columns (total 28 columns):\n",
      " #   Column                  Non-Null Count   Dtype         \n",
      "---  ------                  --------------   -----         \n",
      " 0   order_id                290569 non-null  int32         \n",
      " 1   user_id                 290569 non-null  object        \n",
      " 2   created_dt_msk          290569 non-null  datetime64[ns]\n",
      " 3   created_ts_msk          290569 non-null  datetime64[ns]\n",
      " 4   event_id                290569 non-null  int32         \n",
      " 5   cinema_circuit          290569 non-null  object        \n",
      " 6   age_limit               290569 non-null  int8          \n",
      " 7   currency_code           290569 non-null  object        \n",
      " 8   device_type_canonical   290569 non-null  object        \n",
      " 9   revenue                 290569 non-null  float32       \n",
      " 10  service_name            290569 non-null  object        \n",
      " 11  tickets_count           290569 non-null  int8          \n",
      " 12  total                   290569 non-null  float32       \n",
      " 13  days_since_prev         268656 non-null  float32       \n",
      " 14  event_name              290569 non-null  object        \n",
      " 15  event_type_description  290569 non-null  object        \n",
      " 16  event_type_main         290569 non-null  object        \n",
      " 17  organizers              290569 non-null  object        \n",
      " 18  region_name             290569 non-null  object        \n",
      " 19  city_name               290569 non-null  object        \n",
      " 20  city_id                 290569 non-null  int64         \n",
      " 21  venue_id                290569 non-null  int64         \n",
      " 22  venue_name              290569 non-null  object        \n",
      " 23  venue_address           290569 non-null  object        \n",
      " 24  revenue_rub             290569 non-null  float64       \n",
      " 25  one_ticket_revenue_rub  290569 non-null  float64       \n",
      " 26  month                   290569 non-null  int64         \n",
      " 27  season                  290569 non-null  object        \n",
      "dtypes: datetime64[ns](2), float32(3), float64(2), int32(2), int64(3), int8(2), object(14)\n",
      "memory usage: 54.9+ MB\n"
     ]
    },
    {
     "data": {
      "text/plain": [
       "None"
      ]
     },
     "metadata": {},
     "output_type": "display_data"
    }
   ],
   "source": [
    "# Проверим результат\n",
    "display(data.head())\n",
    "display(data.info())"
   ]
  },
  {
   "cell_type": "markdown",
   "metadata": {},
   "source": [
    "**Промежуточный вывод по результатам преобработки данных:**\n",
    "\n",
    "1. Проверка пропусков и дубликатов:\n",
    "- Явные дубликаты в данных отсутствовали\n",
    "- Неявные дубликаты по основным характеристикам заказа были обнаружены и удалены (53321 записи)\n",
    "- Итоговый размер таблицы после удаления дубликатов: 237528 строк.\n",
    "\n",
    "2. Обработка выбросов:\n",
    "- Для выручкиe были найдены выбросы, далее проведена фильтрация данных по 99-му процентилю для рублёвых и тенговых заказов отдельно.\n",
    "\n",
    "3. Оптимизация типов данных:\n",
    "- Проведено преобразование типов данных для экономии памяти: `float32` для числовых значений, `int32` и `int8` для идентификаторов и счётчиков, `datetime64` для временных характеристик.\n",
    "\n",
    "4. Добавлены новые столбцы:\n",
    "- `revenue_rub` - выручка в рублях с учётом курса при оплате в тенге\n",
    "- `one_ticket_revenue_rub` - выручка за один билет в рублях\n",
    "- `month` - месяц оформления заказа\n",
    "- `season` - сезон оформления заказа: зима, весна, лето, осень\n",
    "\n",
    "Итоговый размер подготовленной таблицы: 237528 строк и 28 столбцов"
   ]
  },
  {
   "cell_type": "markdown",
   "metadata": {},
   "source": [
    "### Исследовательский анализ данных"
   ]
  },
  {
   "cell_type": "markdown",
   "metadata": {},
   "source": [
    "#### Анализ распределения заказов по сегментам и их сезонные изменения"
   ]
  },
  {
   "cell_type": "code",
   "execution_count": 28,
   "metadata": {},
   "outputs": [
    {
     "data": {
      "text/html": [
       "<div>\n",
       "<style scoped>\n",
       "    .dataframe tbody tr th:only-of-type {\n",
       "        vertical-align: middle;\n",
       "    }\n",
       "\n",
       "    .dataframe tbody tr th {\n",
       "        vertical-align: top;\n",
       "    }\n",
       "\n",
       "    .dataframe thead th {\n",
       "        text-align: right;\n",
       "    }\n",
       "</style>\n",
       "<table border=\"1\" class=\"dataframe\">\n",
       "  <thead>\n",
       "    <tr style=\"text-align: right;\">\n",
       "      <th></th>\n",
       "      <th>month</th>\n",
       "      <th>order_id</th>\n",
       "    </tr>\n",
       "  </thead>\n",
       "  <tbody>\n",
       "    <tr>\n",
       "      <th>0</th>\n",
       "      <td>6</td>\n",
       "      <td>34496</td>\n",
       "    </tr>\n",
       "    <tr>\n",
       "      <th>1</th>\n",
       "      <td>7</td>\n",
       "      <td>40916</td>\n",
       "    </tr>\n",
       "    <tr>\n",
       "      <th>2</th>\n",
       "      <td>8</td>\n",
       "      <td>45003</td>\n",
       "    </tr>\n",
       "    <tr>\n",
       "      <th>3</th>\n",
       "      <td>9</td>\n",
       "      <td>69960</td>\n",
       "    </tr>\n",
       "    <tr>\n",
       "      <th>4</th>\n",
       "      <td>10</td>\n",
       "      <td>100194</td>\n",
       "    </tr>\n",
       "  </tbody>\n",
       "</table>\n",
       "</div>"
      ],
      "text/plain": [
       "   month  order_id\n",
       "0      6     34496\n",
       "1      7     40916\n",
       "2      8     45003\n",
       "3      9     69960\n",
       "4     10    100194"
      ]
     },
     "metadata": {},
     "output_type": "display_data"
    }
   ],
   "source": [
    "# Сгруппируем по месяцам и посчитаем количество заказов\n",
    "orders_by_month = data.groupby('month')['order_id'].nunique().reset_index()\n",
    "orders_by_month = orders_by_month.sort_values('month')\n",
    "display(orders_by_month)"
   ]
  },
  {
   "cell_type": "code",
   "execution_count": 29,
   "metadata": {},
   "outputs": [
    {
     "data": {
      "image/png": "[encoded data removed]",
      "text/plain": [
       "<Figure size 864x432 with 1 Axes>"
      ]
     },
     "metadata": {
      "needs_background": "light"
     },
     "output_type": "display_data"
    }
   ],
   "source": [
    "# Визуализация\n",
    "plt.figure(figsize=(12, 6))\n",
    "sns.barplot(data=orders_by_month, x='month', y='order_id', palette='Blues')\n",
    "plt.title('Количество заказов по месяцам')\n",
    "plt.xlabel('Месяц')\n",
    "plt.ylabel('Количество заказов')\n",
    "plt.xticks(rotation=0)\n",
    "plt.grid(axis='y')\n",
    "plt.show()"
   ]
  },
  {
   "cell_type": "markdown",
   "metadata": {},
   "source": [
    "**Промежуточный вывод:**\n",
    "\n",
    "Анализ распределения заказов по месяцам показал, что в период с июня по октябрь 2024 года наблюдается устойчивый рост активности пользователей сервиса Яндекс Афиша, количество заказов увеличилось более чем в два раза (с 30000 в июне до почти 80000 в октябре). Это может быть связано с сезонным спросом и ростом интереса к мероприятиям в холодное время года."
   ]
  },
  {
   "cell_type": "code",
   "execution_count": 30,
   "metadata": {},
   "outputs": [
    {
     "data": {
      "image/png": "[encoded data removed]",
      "text/plain": [
       "<Figure size 864x432 with 1 Axes>"
      ]
     },
     "metadata": {
      "needs_background": "light"
     },
     "output_type": "display_data"
    }
   ],
   "source": [
    "# Распределение по типу мероприятия\n",
    "grouped_event = (data\n",
    "     .pivot_table(index='event_type_main', \n",
    "                  columns='season', \n",
    "                  values='order_id', \n",
    "                  aggfunc='count', \n",
    "                  fill_value=0)\n",
    ")\n",
    "\n",
    "grouped_event = grouped_event.apply(lambda x: x / x.sum(), axis=0)\n",
    "\n",
    "grouped_event.plot(kind='bar', figsize=(12, 6))\n",
    "plt.title('Распределение заказов по типу мероприятия')\n",
    "plt.ylabel('Доля заказов')\n",
    "plt.show()"
   ]
  },
  {
   "cell_type": "code",
   "execution_count": 31,
   "metadata": {},
   "outputs": [
    {
     "data": {
      "image/png": "[encoded data removed]",
      "text/plain": [
       "<Figure size 864x432 with 1 Axes>"
      ]
     },
     "metadata": {
      "needs_background": "light"
     },
     "output_type": "display_data"
    }
   ],
   "source": [
    "# Распределение по типу устройства\n",
    "grouped_device = (data\n",
    "     .pivot_table(index='device_type_canonical', \n",
    "                  columns='season', \n",
    "                  values='order_id', \n",
    "                  aggfunc='count', \n",
    "                  fill_value=0)\n",
    ")\n",
    "\n",
    "grouped_device = grouped_device.apply(lambda x: x / x.sum(), axis=0)\n",
    "\n",
    "grouped_device.plot(kind='bar', figsize=(12, 6))\n",
    "plt.title('Доля заказов по типу устройства')\n",
    "plt.ylabel('Доля заказов')\n",
    "plt.xlabel('Тип устройства')\n",
    "plt.grid()\n",
    "plt.show()"
   ]
  },
  {
   "cell_type": "code",
   "execution_count": 32,
   "metadata": {},
   "outputs": [
    {
     "data": {
      "image/png": "[encoded data removed]",
      "text/plain": [
       "<Figure size 864x432 with 1 Axes>"
      ]
     },
     "metadata": {
      "needs_background": "light"
     },
     "output_type": "display_data"
    }
   ],
   "source": [
    "# Распределение по возрасту\n",
    "grouped_age = (data\n",
    "     .pivot_table(index='age_limit', \n",
    "                  columns='season', \n",
    "                  values='order_id', \n",
    "                  aggfunc='count', \n",
    "                  fill_value=0)\n",
    ")\n",
    "\n",
    "grouped_age = grouped_age.apply(lambda x: x / x.sum(), axis=0)\n",
    "\n",
    "grouped_age.plot(kind='bar', figsize=(12, 6))\n",
    "plt.title('Доля заказов по возрастному ограничению')\n",
    "plt.ylabel('Доля заказов')\n",
    "plt.xlabel('Возрастное ограничение')\n",
    "plt.grid()\n",
    "plt.show()"
   ]
  },
  {
   "cell_type": "markdown",
   "metadata": {},
   "source": [
    "**Промежуточные выводы:**\n",
    "\n",
    "1. Тип мероприятия - мы видим, что летом популярнее концерты и прочие мероприятия, а осенью значительно вырастает доля театров\n",
    "\n",
    "2. Тип устройства - подавляющее большинство заказов оформляется с мобильных устройств и летом, и осенью\n",
    "\n",
    "3. Возрастное ограничение - осенью чуть больше заказов на мероприятия без возрастного ограничения (0+), а летом чаще на 16+."
   ]
  },
  {
   "cell_type": "code",
   "execution_count": 33,
   "metadata": {},
   "outputs": [],
   "source": [
    "# Посчитаем среднюю выручку за билет по типу мероприятия и сезону\n",
    "avg_revenue = (\n",
    "    data[data['season'].isin(['лето', 'осень'])]\n",
    "    .groupby(['event_type_main', 'season'])['one_ticket_revenue_rub']\n",
    "    .mean()\n",
    "    .reset_index()\n",
    ")\n",
    "\n",
    "pivot_avg_revenue = avg_revenue.pivot(index='event_type_main', columns='season', values='one_ticket_revenue_rub')\n",
    "\n",
    "# Рассчитаем относительное изменение (осень к лету)\n",
    "pivot_avg_revenue['relative_change'] = (pivot_avg_revenue['осень'] - pivot_avg_revenue['лето']) / pivot_avg_revenue['лето']"
   ]
  },
  {
   "cell_type": "code",
   "execution_count": 34,
   "metadata": {},
   "outputs": [
    {
     "data": {
      "image/png": "[encoded data removed]",
      "text/plain": [
       "<Figure size 864x432 with 1 Axes>"
      ]
     },
     "metadata": {
      "needs_background": "light"
     },
     "output_type": "display_data"
    }
   ],
   "source": [
    "# Визуализируем результат\n",
    "plt.figure(figsize=(12, 6))\n",
    "sns.barplot(x=pivot_avg_revenue.index, y=pivot_avg_revenue['relative_change'])\n",
    "plt.xticks(rotation=45)\n",
    "plt.title('Относительное изменение средней стоимости билета (осень к лету)')\n",
    "plt.ylabel('Относительное изменение')\n",
    "plt.xlabel('Тип мероприятия')\n",
    "plt.grid(axis='y')\n",
    "plt.tight_layout()\n",
    "plt.show()"
   ]
  },
  {
   "cell_type": "markdown",
   "metadata": {},
   "source": [
    "**Промежуточный вывод:**\n",
    "\n",
    "Средняя стоимость билета в осенний период изменилась по-разному в зависимости от типа мероприятия. Рост цен наблюдается на стендап и выставки, а стоимость билетов в театр и на ёлки осенью снизилась относительно лета, что может быть связано с маркетинговыми акциями или сезонным увеличением предложения"
   ]
  },
  {
   "cell_type": "markdown",
   "metadata": {},
   "source": [
    "**Выводы по сезонным изменениям распределения заказов и средней стоимости билета:**\n",
    "\n",
    "1. Изменение количества заказов по месяцам\n",
    "- С июня по октябрь 2024 года наблюдается стабильный рост числа заказов, максимальное количество заказов зафиксировано в октябре, что подтверждает сезонный спрос осенью.\n",
    "\n",
    "2. Распределение заказов по типу мероприятия\n",
    "- В летний период чаще бронировали билеты на концерты и мероприятия из категории «другое», осенью увеличилась доля заказов на театральные постановки (театры более популярны в холодное время года), доля заказов на спортивные мероприятия осенью также выросла.\n",
    "\n",
    "3. Распределение заказов по типу устройства:\n",
    "- Структура устройств практически не изменилась - лидируют мобильные устройства (более 80% заказов), доля заказов с desktop осталась на прежнем уровне (18-19%).\n",
    "\n",
    "4. Распределение заказов по возрастным ограничениям:\n",
    "- Осенью выросла доля заказов на мероприятия с ограничением 12+ и 16+, доля мероприятий без возрастного ограничения (0+) снизилась.\n",
    "\n",
    "5. Изменение средней стоимости одного билета:\n",
    "- По большинству категорий мероприятий существенных изменений не произошло (колебания составляют +-5%), выросла стоимость билетов на стендап-шоу (на ~10%), средняя стоимость билетов в театры и на ёлки снизилась осенью по сравнению с летом."
   ]
  },
  {
   "cell_type": "markdown",
   "metadata": {},
   "source": [
    "#### Осенняя активность пользователей"
   ]
  },
  {
   "cell_type": "code",
   "execution_count": 35,
   "metadata": {},
   "outputs": [
    {
     "data": {
      "text/html": [
       "<div>\n",
       "<style scoped>\n",
       "    .dataframe tbody tr th:only-of-type {\n",
       "        vertical-align: middle;\n",
       "    }\n",
       "\n",
       "    .dataframe tbody tr th {\n",
       "        vertical-align: top;\n",
       "    }\n",
       "\n",
       "    .dataframe thead th {\n",
       "        text-align: right;\n",
       "    }\n",
       "</style>\n",
       "<table border=\"1\" class=\"dataframe\">\n",
       "  <thead>\n",
       "    <tr style=\"text-align: right;\">\n",
       "      <th></th>\n",
       "      <th>created_dt_msk</th>\n",
       "      <th>orders_count</th>\n",
       "      <th>dau</th>\n",
       "      <th>avg_one_ticket_revenue</th>\n",
       "      <th>orders_per_user</th>\n",
       "    </tr>\n",
       "  </thead>\n",
       "  <tbody>\n",
       "    <tr>\n",
       "      <th>0</th>\n",
       "      <td>2024-09-01</td>\n",
       "      <td>1348</td>\n",
       "      <td>569</td>\n",
       "      <td>207.478603</td>\n",
       "      <td>2.369069</td>\n",
       "    </tr>\n",
       "    <tr>\n",
       "      <th>1</th>\n",
       "      <td>2024-09-02</td>\n",
       "      <td>1391</td>\n",
       "      <td>580</td>\n",
       "      <td>190.974848</td>\n",
       "      <td>2.398276</td>\n",
       "    </tr>\n",
       "    <tr>\n",
       "      <th>2</th>\n",
       "      <td>2024-09-03</td>\n",
       "      <td>5124</td>\n",
       "      <td>783</td>\n",
       "      <td>80.847662</td>\n",
       "      <td>6.544061</td>\n",
       "    </tr>\n",
       "    <tr>\n",
       "      <th>3</th>\n",
       "      <td>2024-09-04</td>\n",
       "      <td>1784</td>\n",
       "      <td>688</td>\n",
       "      <td>178.435032</td>\n",
       "      <td>2.593023</td>\n",
       "    </tr>\n",
       "    <tr>\n",
       "      <th>4</th>\n",
       "      <td>2024-09-05</td>\n",
       "      <td>1960</td>\n",
       "      <td>745</td>\n",
       "      <td>188.715047</td>\n",
       "      <td>2.630872</td>\n",
       "    </tr>\n",
       "  </tbody>\n",
       "</table>\n",
       "</div>"
      ],
      "text/plain": [
       "  created_dt_msk  orders_count  dau  avg_one_ticket_revenue  orders_per_user\n",
       "0     2024-09-01          1348  569              207.478603         2.369069\n",
       "1     2024-09-02          1391  580              190.974848         2.398276\n",
       "2     2024-09-03          5124  783               80.847662         6.544061\n",
       "3     2024-09-04          1784  688              178.435032         2.593023\n",
       "4     2024-09-05          1960  745              188.715047         2.630872"
      ]
     },
     "metadata": {},
     "output_type": "display_data"
    }
   ],
   "source": [
    "# Отберем данные только на осень\n",
    "autumn_data = data[data['season'] == 'осень']\n",
    "\n",
    "autumn_metrics = (\n",
    "    autumn_data.groupby('created_dt_msk')\n",
    "    .agg(orders_count=('order_id', 'count'),\n",
    "         dau=('user_id', 'nunique'),\n",
    "         avg_one_ticket_revenue=('one_ticket_revenue_rub', 'mean'))\n",
    "    .reset_index()\n",
    ")\n",
    "\n",
    "# Среднее количество заказов на одного пользователя\n",
    "autumn_metrics['orders_per_user'] = autumn_metrics['orders_count'] / autumn_metrics['dau']\n",
    "\n",
    "display(autumn_metrics.head())"
   ]
  },
  {
   "cell_type": "code",
   "execution_count": 36,
   "metadata": {},
   "outputs": [
    {
     "data": {
      "image/png": "[encoded data removed]",
      "text/plain": [
       "<Figure size 1152x720 with 4 Axes>"
      ]
     },
     "metadata": {
      "needs_background": "light"
     },
     "output_type": "display_data"
    }
   ],
   "source": [
    "fig, ax = plt.subplots(2, 2, figsize=(16, 10))\n",
    "\n",
    "# Количество заказов\n",
    "sns.lineplot(data=autumn_metrics, x='created_dt_msk', y='orders_count', ax=ax[0, 0])\n",
    "ax[0, 0].set_title('Число заказов по дням')\n",
    "ax[0, 0].set_xlabel('Дата')\n",
    "ax[0, 0].set_ylabel('Количество заказов')\n",
    "ax[0, 0].grid()\n",
    "\n",
    "# DAU\n",
    "sns.lineplot(data=autumn_metrics, x='created_dt_msk', y='dau', ax=ax[0, 1])\n",
    "ax[0, 1].set_title('DAU по дням')\n",
    "ax[0, 1].set_xlabel('Дата')\n",
    "ax[0, 1].set_ylabel('Число уникальных пользователей')\n",
    "ax[0, 1].grid()\n",
    "\n",
    "# Среднее количество заказов на пользователя\n",
    "sns.lineplot(data=autumn_metrics, x='created_dt_msk', y='orders_per_user', ax=ax[1, 0])\n",
    "ax[1, 0].set_title('Среднее количество заказов на пользователя')\n",
    "ax[1, 0].set_xlabel('Дата')\n",
    "ax[1, 0].set_ylabel('Заказы на пользователя')\n",
    "ax[1, 0].grid()\n",
    "\n",
    "# Средняя стоимость одного билета\n",
    "sns.lineplot(data=autumn_metrics, x='created_dt_msk', y='avg_one_ticket_revenue', ax=ax[1, 1])\n",
    "ax[1, 1].set_title('Средняя стоимость одного билета')\n",
    "ax[1, 1].set_xlabel('Дата')\n",
    "ax[1, 1].set_ylabel('Стоимость билета, руб.')\n",
    "ax[1, 1].grid()\n",
    "\n",
    "plt.tight_layout()\n",
    "plt.show()"
   ]
  },
  {
   "cell_type": "markdown",
   "metadata": {},
   "source": [
    "**Промежуточный вывод:**\n",
    "\n",
    "- Осенью наблюдается устойчивая положительная динамика по всем основным метрикам.\n",
    "- Количество заказов и DAU увеличиваются почти равномерно на протяжении сентября и октября.\n",
    "- Количество заказов на одного пользователя также растёт, что может свидетельствовать о вовлечённости пользователей — они совершают больше покупок.\n",
    "- Средняя стоимость одного билета остаётся на стабильном уровне, без резких колебаний, что говорит о сбалансированной ценовой политике."
   ]
  },
  {
   "cell_type": "code",
   "execution_count": 37,
   "metadata": {},
   "outputs": [
    {
     "data": {
      "text/html": [
       "<div>\n",
       "<style scoped>\n",
       "    .dataframe tbody tr th:only-of-type {\n",
       "        vertical-align: middle;\n",
       "    }\n",
       "\n",
       "    .dataframe tbody tr th {\n",
       "        vertical-align: top;\n",
       "    }\n",
       "\n",
       "    .dataframe thead th {\n",
       "        text-align: right;\n",
       "    }\n",
       "</style>\n",
       "<table border=\"1\" class=\"dataframe\">\n",
       "  <thead>\n",
       "    <tr style=\"text-align: right;\">\n",
       "      <th></th>\n",
       "      <th>day_type</th>\n",
       "      <th>orders_count</th>\n",
       "      <th>dau</th>\n",
       "      <th>orders_per_user</th>\n",
       "    </tr>\n",
       "  </thead>\n",
       "  <tbody>\n",
       "    <tr>\n",
       "      <th>0</th>\n",
       "      <td>будни</td>\n",
       "      <td>129036</td>\n",
       "      <td>13279</td>\n",
       "      <td>9.717298</td>\n",
       "    </tr>\n",
       "    <tr>\n",
       "      <th>1</th>\n",
       "      <td>выходные</td>\n",
       "      <td>41118</td>\n",
       "      <td>7202</td>\n",
       "      <td>5.709247</td>\n",
       "    </tr>\n",
       "  </tbody>\n",
       "</table>\n",
       "</div>"
      ],
      "text/plain": [
       "   day_type  orders_count    dau  orders_per_user\n",
       "0     будни        129036  13279         9.717298\n",
       "1  выходные         41118   7202         5.709247"
      ]
     },
     "metadata": {},
     "output_type": "display_data"
    }
   ],
   "source": [
    "# Создим столбец с днём недели, добавим будни/выходные\n",
    "autumn_data = data[data['season'] == 'осень'].copy()\n",
    "autumn_data['day_of_week'] = autumn_data['created_dt_msk'].dt.dayofweek\n",
    "autumn_data['day_type'] = autumn_data['day_of_week'].apply(\n",
    "    lambda x: 'будни' if x < 5 else 'выходные'\n",
    ")\n",
    "\n",
    "weekly_metrics = autumn_data.groupby('day_type').agg({\n",
    "    'order_id': 'count',\n",
    "    'user_id': pd.Series.nunique\n",
    "}).reset_index()\n",
    "\n",
    "weekly_metrics = weekly_metrics.rename(columns={\n",
    "    'order_id': 'orders_count',\n",
    "    'user_id': 'dau'\n",
    "})\n",
    "\n",
    "# Добавим количество заказов на пользователя\n",
    "weekly_metrics['orders_per_user'] = weekly_metrics['orders_count'] / weekly_metrics['dau']\n",
    "\n",
    "display(weekly_metrics)"
   ]
  },
  {
   "cell_type": "code",
   "execution_count": 38,
   "metadata": {},
   "outputs": [
    {
     "data": {
      "image/png": "[encoded data removed]",
      "text/plain": [
       "<Figure size 864x432 with 1 Axes>"
      ]
     },
     "metadata": {
      "needs_background": "light"
     },
     "output_type": "display_data"
    },
    {
     "data": {
      "image/png": "[encoded data removed]",
      "text/plain": [
       "<Figure size 864x432 with 1 Axes>"
      ]
     },
     "metadata": {
      "needs_background": "light"
     },
     "output_type": "display_data"
    }
   ],
   "source": [
    "plt.figure(figsize=(12, 6))\n",
    "sns.barplot(data=weekly_metrics, x='day_type', y='orders_count')\n",
    "plt.title('Число заказов: будни vs выходные')\n",
    "plt.xlabel('Тип дня')\n",
    "plt.ylabel('Число заказов')\n",
    "plt.show()\n",
    "\n",
    "plt.figure(figsize=(12, 6))\n",
    "sns.barplot(data=weekly_metrics, x='day_type', y='orders_per_user')\n",
    "plt.title('Среднее число заказов на пользователя: будни vs выходные')\n",
    "plt.xlabel('Тип дня')\n",
    "plt.ylabel('Заказов на пользователя')\n",
    "plt.show()"
   ]
  },
  {
   "cell_type": "markdown",
   "metadata": {},
   "source": [
    "**Промежуточный вывод:**\n",
    "\n",
    "Пользовательская активность осенью демонстрирует отчётливую недельную цикличность. В будние дни пользователи делают существенно больше заказов, чем в выходные. Среднее число заказов на одного пользователя также выше в будни. Вероятно, это связано с тем, что будние дни более насыщены рабочими и деловыми активностями, которые стимулируют покупки и планы на выходные заранее (например, покупка билетов на мероприятия после работы). В выходные пользователи менее активны — возможно, из-за выездов, отдыха или других планов."
   ]
  },
  {
   "cell_type": "markdown",
   "metadata": {},
   "source": [
    "**Вывод:**\n",
    "\n",
    "- Осенью наблюдается стабильный рост пользовательской активности и числа заказов, количество заказов увеличивается от сентября к октябрю — с 30-40000 заказов в месяц до 79000 заказов в октябре.\n",
    "\n",
    "- Среднее количество заказов на пользователя и средняя стоимость одного билета остаются относительно стабильными, не показывая значительных колебаний по дням.\n",
    "\n",
    "- При анализе будней и выходных видно, что основная активность приходится на будние дни - в будни пользователи совершают больше заказов (101000 против 34000 в выходные). При этом среднее число заказов на одного пользователя в будни выше (7.8 против 4.8 в выходные).\n",
    "\n",
    "Пользователи активнее покупают билеты в будние дни, вероятно, заранее планируя посещение мероприятий."
   ]
  },
  {
   "cell_type": "markdown",
   "metadata": {},
   "source": [
    "#### Популярные события и партнеры"
   ]
  },
  {
   "cell_type": "code",
   "execution_count": 39,
   "metadata": {},
   "outputs": [
    {
     "data": {
      "text/html": [
       "<div>\n",
       "<style scoped>\n",
       "    .dataframe tbody tr th:only-of-type {\n",
       "        vertical-align: middle;\n",
       "    }\n",
       "\n",
       "    .dataframe tbody tr th {\n",
       "        vertical-align: top;\n",
       "    }\n",
       "\n",
       "    .dataframe thead th {\n",
       "        text-align: right;\n",
       "    }\n",
       "</style>\n",
       "<table border=\"1\" class=\"dataframe\">\n",
       "  <thead>\n",
       "    <tr style=\"text-align: right;\">\n",
       "      <th></th>\n",
       "      <th>region_name</th>\n",
       "      <th>events_count</th>\n",
       "      <th>orders_count</th>\n",
       "      <th>events_share</th>\n",
       "      <th>orders_share</th>\n",
       "    </tr>\n",
       "  </thead>\n",
       "  <tbody>\n",
       "    <tr>\n",
       "      <th>23</th>\n",
       "      <td>каменевский регион</td>\n",
       "      <td>5983</td>\n",
       "      <td>91044</td>\n",
       "      <td>0.266777</td>\n",
       "      <td>0.313330</td>\n",
       "    </tr>\n",
       "    <tr>\n",
       "      <th>60</th>\n",
       "      <td>североярская область</td>\n",
       "      <td>3814</td>\n",
       "      <td>44042</td>\n",
       "      <td>0.170063</td>\n",
       "      <td>0.151572</td>\n",
       "    </tr>\n",
       "    <tr>\n",
       "      <th>77</th>\n",
       "      <td>широковская область</td>\n",
       "      <td>1233</td>\n",
       "      <td>16457</td>\n",
       "      <td>0.054978</td>\n",
       "      <td>0.056637</td>\n",
       "    </tr>\n",
       "    <tr>\n",
       "      <th>57</th>\n",
       "      <td>светополянский округ</td>\n",
       "      <td>1075</td>\n",
       "      <td>7605</td>\n",
       "      <td>0.047933</td>\n",
       "      <td>0.026173</td>\n",
       "    </tr>\n",
       "    <tr>\n",
       "      <th>52</th>\n",
       "      <td>речиновская область</td>\n",
       "      <td>702</td>\n",
       "      <td>6292</td>\n",
       "      <td>0.031302</td>\n",
       "      <td>0.021654</td>\n",
       "    </tr>\n",
       "    <tr>\n",
       "      <th>...</th>\n",
       "      <td>...</td>\n",
       "      <td>...</td>\n",
       "      <td>...</td>\n",
       "      <td>...</td>\n",
       "      <td>...</td>\n",
       "    </tr>\n",
       "    <tr>\n",
       "      <th>68</th>\n",
       "      <td>теплоозёрский округ</td>\n",
       "      <td>2</td>\n",
       "      <td>7</td>\n",
       "      <td>0.000089</td>\n",
       "      <td>0.000024</td>\n",
       "    </tr>\n",
       "    <tr>\n",
       "      <th>66</th>\n",
       "      <td>сосноводолинская область</td>\n",
       "      <td>2</td>\n",
       "      <td>10</td>\n",
       "      <td>0.000089</td>\n",
       "      <td>0.000034</td>\n",
       "    </tr>\n",
       "    <tr>\n",
       "      <th>33</th>\n",
       "      <td>лесноярский край</td>\n",
       "      <td>2</td>\n",
       "      <td>19</td>\n",
       "      <td>0.000089</td>\n",
       "      <td>0.000065</td>\n",
       "    </tr>\n",
       "    <tr>\n",
       "      <th>56</th>\n",
       "      <td>светолесский край</td>\n",
       "      <td>2</td>\n",
       "      <td>24</td>\n",
       "      <td>0.000089</td>\n",
       "      <td>0.000083</td>\n",
       "    </tr>\n",
       "    <tr>\n",
       "      <th>5</th>\n",
       "      <td>верхозёрский край</td>\n",
       "      <td>2</td>\n",
       "      <td>11</td>\n",
       "      <td>0.000089</td>\n",
       "      <td>0.000038</td>\n",
       "    </tr>\n",
       "  </tbody>\n",
       "</table>\n",
       "<p>81 rows × 5 columns</p>\n",
       "</div>"
      ],
      "text/plain": [
       "                 region_name  events_count  orders_count  events_share  \\\n",
       "23        каменевский регион          5983         91044      0.266777   \n",
       "60      североярская область          3814         44042      0.170063   \n",
       "77       широковская область          1233         16457      0.054978   \n",
       "57      светополянский округ          1075          7605      0.047933   \n",
       "52       речиновская область           702          6292      0.031302   \n",
       "..                       ...           ...           ...           ...   \n",
       "68       теплоозёрский округ             2             7      0.000089   \n",
       "66  сосноводолинская область             2            10      0.000089   \n",
       "33          лесноярский край             2            19      0.000089   \n",
       "56         светолесский край             2            24      0.000089   \n",
       "5          верхозёрский край             2            11      0.000089   \n",
       "\n",
       "    orders_share  \n",
       "23      0.313330  \n",
       "60      0.151572  \n",
       "77      0.056637  \n",
       "57      0.026173  \n",
       "52      0.021654  \n",
       "..           ...  \n",
       "68      0.000024  \n",
       "66      0.000034  \n",
       "33      0.000065  \n",
       "56      0.000083  \n",
       "5       0.000038  \n",
       "\n",
       "[81 rows x 5 columns]"
      ]
     },
     "metadata": {},
     "output_type": "display_data"
    }
   ],
   "source": [
    "# Количество уникальных мероприятий и заказов по регионам\n",
    "region_metrics = (\n",
    "    data.groupby('region_name')\n",
    "    .agg(events_count=('event_id', 'nunique'),\n",
    "         orders_count=('order_id', 'count'))\n",
    "    .reset_index()\n",
    ")\n",
    "\n",
    "region_metrics['events_share'] = region_metrics['events_count'] / region_metrics['events_count'].sum()\n",
    "region_metrics['orders_share'] = region_metrics['orders_count'] / region_metrics['orders_count'].sum()\n",
    "\n",
    "display(region_metrics.sort_values(by='events_count', ascending=False))"
   ]
  },
  {
   "cell_type": "code",
   "execution_count": 40,
   "metadata": {},
   "outputs": [
    {
     "data": {
      "image/png": "[encoded data removed]",
      "text/plain": [
       "<Figure size 1008x360 with 2 Axes>"
      ]
     },
     "metadata": {
      "needs_background": "light"
     },
     "output_type": "display_data"
    }
   ],
   "source": [
    "# Топ-10 регионов по количеству мероприятий\n",
    "top_events = region_metrics.sort_values('events_count', ascending=False).head(10)\n",
    "\n",
    "# Топ-10 регионов по количеству заказов\n",
    "top_orders = region_metrics.sort_values('orders_count', ascending=False).head(10)\n",
    "\n",
    "fig, ax = plt.subplots(1, 2, figsize=(14, 5))\n",
    "\n",
    "sns.barplot(data=top_events, x='region_name', y='events_count', ax=ax[0])\n",
    "ax[0].set_title('ТОП-10 регионов по количеству мероприятий')\n",
    "ax[0].set_xlabel('Регион')\n",
    "ax[0].set_ylabel('Количество мероприятий')\n",
    "ax[0].tick_params(axis='x', rotation=45)\n",
    "\n",
    "sns.barplot(data=top_orders, x='region_name', y='orders_count', ax=ax[1])\n",
    "ax[1].set_title('ТОП-10 регионов по количеству заказов')\n",
    "ax[1].set_xlabel('Регион')\n",
    "ax[1].set_ylabel('Количество заказов')\n",
    "ax[1].tick_params(axis='x', rotation=45)\n",
    "\n",
    "plt.tight_layout()\n",
    "plt.show()"
   ]
  },
  {
   "cell_type": "code",
   "execution_count": 41,
   "metadata": {},
   "outputs": [
    {
     "data": {
      "text/html": [
       "<div>\n",
       "<style scoped>\n",
       "    .dataframe tbody tr th:only-of-type {\n",
       "        vertical-align: middle;\n",
       "    }\n",
       "\n",
       "    .dataframe tbody tr th {\n",
       "        vertical-align: top;\n",
       "    }\n",
       "\n",
       "    .dataframe thead th {\n",
       "        text-align: right;\n",
       "    }\n",
       "</style>\n",
       "<table border=\"1\" class=\"dataframe\">\n",
       "  <thead>\n",
       "    <tr style=\"text-align: right;\">\n",
       "      <th></th>\n",
       "      <th>service_name</th>\n",
       "      <th>events_count</th>\n",
       "      <th>orders_count</th>\n",
       "      <th>total_revenue</th>\n",
       "      <th>events_share</th>\n",
       "      <th>orders_share</th>\n",
       "      <th>revenue_share</th>\n",
       "    </tr>\n",
       "  </thead>\n",
       "  <tbody>\n",
       "    <tr>\n",
       "      <th>3</th>\n",
       "      <td>Билеты без проблем</td>\n",
       "      <td>4255</td>\n",
       "      <td>63501</td>\n",
       "      <td>2.618045e+07</td>\n",
       "      <td>0.173908</td>\n",
       "      <td>0.218540</td>\n",
       "      <td>1.673266e-01</td>\n",
       "    </tr>\n",
       "    <tr>\n",
       "      <th>21</th>\n",
       "      <td>Лови билет!</td>\n",
       "      <td>4882</td>\n",
       "      <td>41118</td>\n",
       "      <td>1.766337e+07</td>\n",
       "      <td>0.199534</td>\n",
       "      <td>0.141509</td>\n",
       "      <td>1.128915e-01</td>\n",
       "    </tr>\n",
       "    <tr>\n",
       "      <th>5</th>\n",
       "      <td>Билеты в руки</td>\n",
       "      <td>3538</td>\n",
       "      <td>40336</td>\n",
       "      <td>1.338419e+07</td>\n",
       "      <td>0.144603</td>\n",
       "      <td>0.138817</td>\n",
       "      <td>8.554211e-02</td>\n",
       "    </tr>\n",
       "    <tr>\n",
       "      <th>24</th>\n",
       "      <td>Мой билет</td>\n",
       "      <td>1308</td>\n",
       "      <td>34835</td>\n",
       "      <td>1.909421e+07</td>\n",
       "      <td>0.053460</td>\n",
       "      <td>0.119885</td>\n",
       "      <td>1.220364e-01</td>\n",
       "    </tr>\n",
       "    <tr>\n",
       "      <th>25</th>\n",
       "      <td>Облачко</td>\n",
       "      <td>2348</td>\n",
       "      <td>26642</td>\n",
       "      <td>2.164407e+07</td>\n",
       "      <td>0.095966</td>\n",
       "      <td>0.091689</td>\n",
       "      <td>1.383333e-01</td>\n",
       "    </tr>\n",
       "    <tr>\n",
       "      <th>22</th>\n",
       "      <td>Лучшие билеты</td>\n",
       "      <td>1762</td>\n",
       "      <td>17772</td>\n",
       "      <td>2.823437e+06</td>\n",
       "      <td>0.072015</td>\n",
       "      <td>0.061163</td>\n",
       "      <td>1.804538e-02</td>\n",
       "    </tr>\n",
       "    <tr>\n",
       "      <th>8</th>\n",
       "      <td>Весь в билетах</td>\n",
       "      <td>867</td>\n",
       "      <td>16848</td>\n",
       "      <td>1.804842e+07</td>\n",
       "      <td>0.035435</td>\n",
       "      <td>0.057983</td>\n",
       "      <td>1.153525e-01</td>\n",
       "    </tr>\n",
       "    <tr>\n",
       "      <th>26</th>\n",
       "      <td>Прачечная</td>\n",
       "      <td>1027</td>\n",
       "      <td>10273</td>\n",
       "      <td>4.900985e+06</td>\n",
       "      <td>0.041975</td>\n",
       "      <td>0.035355</td>\n",
       "      <td>3.132357e-02</td>\n",
       "    </tr>\n",
       "    <tr>\n",
       "      <th>19</th>\n",
       "      <td>Край билетов</td>\n",
       "      <td>253</td>\n",
       "      <td>6207</td>\n",
       "      <td>6.703959e+06</td>\n",
       "      <td>0.010340</td>\n",
       "      <td>0.021362</td>\n",
       "      <td>4.284688e-02</td>\n",
       "    </tr>\n",
       "    <tr>\n",
       "      <th>30</th>\n",
       "      <td>Тебе билет!</td>\n",
       "      <td>1062</td>\n",
       "      <td>5227</td>\n",
       "      <td>3.073664e+06</td>\n",
       "      <td>0.043405</td>\n",
       "      <td>0.017989</td>\n",
       "      <td>1.964465e-02</td>\n",
       "    </tr>\n",
       "    <tr>\n",
       "      <th>35</th>\n",
       "      <td>Яблоко</td>\n",
       "      <td>716</td>\n",
       "      <td>5039</td>\n",
       "      <td>3.971152e+06</td>\n",
       "      <td>0.029264</td>\n",
       "      <td>0.017342</td>\n",
       "      <td>2.538075e-02</td>\n",
       "    </tr>\n",
       "    <tr>\n",
       "      <th>13</th>\n",
       "      <td>Дом культуры</td>\n",
       "      <td>274</td>\n",
       "      <td>4502</td>\n",
       "      <td>4.676648e+06</td>\n",
       "      <td>0.011199</td>\n",
       "      <td>0.015494</td>\n",
       "      <td>2.988977e-02</td>\n",
       "    </tr>\n",
       "    <tr>\n",
       "      <th>15</th>\n",
       "      <td>За билетом!</td>\n",
       "      <td>235</td>\n",
       "      <td>2864</td>\n",
       "      <td>2.072519e+06</td>\n",
       "      <td>0.009605</td>\n",
       "      <td>0.009857</td>\n",
       "      <td>1.324605e-02</td>\n",
       "    </tr>\n",
       "    <tr>\n",
       "      <th>12</th>\n",
       "      <td>Городской дом культуры</td>\n",
       "      <td>378</td>\n",
       "      <td>2733</td>\n",
       "      <td>1.657329e+06</td>\n",
       "      <td>0.015449</td>\n",
       "      <td>0.009406</td>\n",
       "      <td>1.059245e-02</td>\n",
       "    </tr>\n",
       "    <tr>\n",
       "      <th>1</th>\n",
       "      <td>Show_ticket</td>\n",
       "      <td>295</td>\n",
       "      <td>2200</td>\n",
       "      <td>1.889535e+06</td>\n",
       "      <td>0.012057</td>\n",
       "      <td>0.007571</td>\n",
       "      <td>1.207655e-02</td>\n",
       "    </tr>\n",
       "    <tr>\n",
       "      <th>23</th>\n",
       "      <td>Мир касс</td>\n",
       "      <td>194</td>\n",
       "      <td>2166</td>\n",
       "      <td>1.920776e+06</td>\n",
       "      <td>0.007929</td>\n",
       "      <td>0.007454</td>\n",
       "      <td>1.227622e-02</td>\n",
       "    </tr>\n",
       "    <tr>\n",
       "      <th>6</th>\n",
       "      <td>Быстробилет</td>\n",
       "      <td>255</td>\n",
       "      <td>2002</td>\n",
       "      <td>1.591665e+06</td>\n",
       "      <td>0.010422</td>\n",
       "      <td>0.006890</td>\n",
       "      <td>1.017278e-02</td>\n",
       "    </tr>\n",
       "    <tr>\n",
       "      <th>11</th>\n",
       "      <td>Выступления.ру</td>\n",
       "      <td>151</td>\n",
       "      <td>1616</td>\n",
       "      <td>1.360771e+06</td>\n",
       "      <td>0.006172</td>\n",
       "      <td>0.005562</td>\n",
       "      <td>8.697069e-03</td>\n",
       "    </tr>\n",
       "    <tr>\n",
       "      <th>9</th>\n",
       "      <td>Восьмёрка</td>\n",
       "      <td>144</td>\n",
       "      <td>1118</td>\n",
       "      <td>6.964916e+05</td>\n",
       "      <td>0.005885</td>\n",
       "      <td>0.003848</td>\n",
       "      <td>4.451473e-03</td>\n",
       "    </tr>\n",
       "    <tr>\n",
       "      <th>0</th>\n",
       "      <td>Crazy ticket!</td>\n",
       "      <td>257</td>\n",
       "      <td>790</td>\n",
       "      <td>4.547353e+05</td>\n",
       "      <td>0.010504</td>\n",
       "      <td>0.002719</td>\n",
       "      <td>2.906341e-03</td>\n",
       "    </tr>\n",
       "    <tr>\n",
       "      <th>29</th>\n",
       "      <td>Росбилет</td>\n",
       "      <td>64</td>\n",
       "      <td>539</td>\n",
       "      <td>1.069510e+06</td>\n",
       "      <td>0.002616</td>\n",
       "      <td>0.001855</td>\n",
       "      <td>6.835540e-03</td>\n",
       "    </tr>\n",
       "    <tr>\n",
       "      <th>34</th>\n",
       "      <td>Шоу начинается!</td>\n",
       "      <td>11</td>\n",
       "      <td>499</td>\n",
       "      <td>6.051849e+05</td>\n",
       "      <td>0.000450</td>\n",
       "      <td>0.001717</td>\n",
       "      <td>3.867906e-03</td>\n",
       "    </tr>\n",
       "    <tr>\n",
       "      <th>7</th>\n",
       "      <td>Быстрый кассир</td>\n",
       "      <td>20</td>\n",
       "      <td>381</td>\n",
       "      <td>4.019754e+05</td>\n",
       "      <td>0.000817</td>\n",
       "      <td>0.001311</td>\n",
       "      <td>2.569137e-03</td>\n",
       "    </tr>\n",
       "    <tr>\n",
       "      <th>27</th>\n",
       "      <td>Радио ticket</td>\n",
       "      <td>8</td>\n",
       "      <td>376</td>\n",
       "      <td>8.189324e+04</td>\n",
       "      <td>0.000327</td>\n",
       "      <td>0.001294</td>\n",
       "      <td>5.234027e-04</td>\n",
       "    </tr>\n",
       "    <tr>\n",
       "      <th>31</th>\n",
       "      <td>Телебилет</td>\n",
       "      <td>24</td>\n",
       "      <td>321</td>\n",
       "      <td>1.873227e+05</td>\n",
       "      <td>0.000981</td>\n",
       "      <td>0.001105</td>\n",
       "      <td>1.197232e-03</td>\n",
       "    </tr>\n",
       "    <tr>\n",
       "      <th>17</th>\n",
       "      <td>КарандашРУ</td>\n",
       "      <td>46</td>\n",
       "      <td>133</td>\n",
       "      <td>2.447286e+04</td>\n",
       "      <td>0.001880</td>\n",
       "      <td>0.000458</td>\n",
       "      <td>1.564129e-04</td>\n",
       "    </tr>\n",
       "    <tr>\n",
       "      <th>28</th>\n",
       "      <td>Реестр</td>\n",
       "      <td>7</td>\n",
       "      <td>125</td>\n",
       "      <td>5.771229e+04</td>\n",
       "      <td>0.000286</td>\n",
       "      <td>0.000430</td>\n",
       "      <td>3.688554e-04</td>\n",
       "    </tr>\n",
       "    <tr>\n",
       "      <th>2</th>\n",
       "      <td>Билет по телефону</td>\n",
       "      <td>20</td>\n",
       "      <td>85</td>\n",
       "      <td>7.244740e+04</td>\n",
       "      <td>0.000817</td>\n",
       "      <td>0.000293</td>\n",
       "      <td>4.630316e-04</td>\n",
       "    </tr>\n",
       "    <tr>\n",
       "      <th>10</th>\n",
       "      <td>Вперёд!</td>\n",
       "      <td>37</td>\n",
       "      <td>80</td>\n",
       "      <td>3.153965e+04</td>\n",
       "      <td>0.001512</td>\n",
       "      <td>0.000275</td>\n",
       "      <td>2.015787e-04</td>\n",
       "    </tr>\n",
       "    <tr>\n",
       "      <th>14</th>\n",
       "      <td>Дырокол</td>\n",
       "      <td>2</td>\n",
       "      <td>74</td>\n",
       "      <td>1.158372e+05</td>\n",
       "      <td>0.000082</td>\n",
       "      <td>0.000255</td>\n",
       "      <td>7.403482e-04</td>\n",
       "    </tr>\n",
       "    <tr>\n",
       "      <th>18</th>\n",
       "      <td>Кино билет</td>\n",
       "      <td>1</td>\n",
       "      <td>67</td>\n",
       "      <td>0.000000e+00</td>\n",
       "      <td>0.000041</td>\n",
       "      <td>0.000231</td>\n",
       "      <td>0.000000e+00</td>\n",
       "    </tr>\n",
       "    <tr>\n",
       "      <th>33</th>\n",
       "      <td>Цвет и билет</td>\n",
       "      <td>18</td>\n",
       "      <td>61</td>\n",
       "      <td>0.000000e+00</td>\n",
       "      <td>0.000736</td>\n",
       "      <td>0.000210</td>\n",
       "      <td>0.000000e+00</td>\n",
       "    </tr>\n",
       "    <tr>\n",
       "      <th>32</th>\n",
       "      <td>Тех билет</td>\n",
       "      <td>2</td>\n",
       "      <td>22</td>\n",
       "      <td>5.665740e+03</td>\n",
       "      <td>0.000082</td>\n",
       "      <td>0.000076</td>\n",
       "      <td>3.621133e-05</td>\n",
       "    </tr>\n",
       "    <tr>\n",
       "      <th>20</th>\n",
       "      <td>Лимоны</td>\n",
       "      <td>4</td>\n",
       "      <td>8</td>\n",
       "      <td>6.365100e+02</td>\n",
       "      <td>0.000163</td>\n",
       "      <td>0.000028</td>\n",
       "      <td>4.068114e-06</td>\n",
       "    </tr>\n",
       "    <tr>\n",
       "      <th>16</th>\n",
       "      <td>Зе Бест!</td>\n",
       "      <td>1</td>\n",
       "      <td>5</td>\n",
       "      <td>6.430000e+01</td>\n",
       "      <td>0.000041</td>\n",
       "      <td>0.000017</td>\n",
       "      <td>4.109593e-07</td>\n",
       "    </tr>\n",
       "    <tr>\n",
       "      <th>4</th>\n",
       "      <td>Билеты в интернете</td>\n",
       "      <td>1</td>\n",
       "      <td>4</td>\n",
       "      <td>5.482300e+02</td>\n",
       "      <td>0.000041</td>\n",
       "      <td>0.000014</td>\n",
       "      <td>3.503892e-06</td>\n",
       "    </tr>\n",
       "  </tbody>\n",
       "</table>\n",
       "</div>"
      ],
      "text/plain": [
       "              service_name  events_count  orders_count  total_revenue  \\\n",
       "3       Билеты без проблем          4255         63501   2.618045e+07   \n",
       "21             Лови билет!          4882         41118   1.766337e+07   \n",
       "5            Билеты в руки          3538         40336   1.338419e+07   \n",
       "24               Мой билет          1308         34835   1.909421e+07   \n",
       "25                 Облачко          2348         26642   2.164407e+07   \n",
       "22           Лучшие билеты          1762         17772   2.823437e+06   \n",
       "8           Весь в билетах           867         16848   1.804842e+07   \n",
       "26               Прачечная          1027         10273   4.900985e+06   \n",
       "19            Край билетов           253          6207   6.703959e+06   \n",
       "30             Тебе билет!          1062          5227   3.073664e+06   \n",
       "35                  Яблоко           716          5039   3.971152e+06   \n",
       "13            Дом культуры           274          4502   4.676648e+06   \n",
       "15             За билетом!           235          2864   2.072519e+06   \n",
       "12  Городской дом культуры           378          2733   1.657329e+06   \n",
       "1              Show_ticket           295          2200   1.889535e+06   \n",
       "23                Мир касс           194          2166   1.920776e+06   \n",
       "6              Быстробилет           255          2002   1.591665e+06   \n",
       "11          Выступления.ру           151          1616   1.360771e+06   \n",
       "9                Восьмёрка           144          1118   6.964916e+05   \n",
       "0            Crazy ticket!           257           790   4.547353e+05   \n",
       "29                Росбилет            64           539   1.069510e+06   \n",
       "34         Шоу начинается!            11           499   6.051849e+05   \n",
       "7           Быстрый кассир            20           381   4.019754e+05   \n",
       "27            Радио ticket             8           376   8.189324e+04   \n",
       "31               Телебилет            24           321   1.873227e+05   \n",
       "17              КарандашРУ            46           133   2.447286e+04   \n",
       "28                  Реестр             7           125   5.771229e+04   \n",
       "2        Билет по телефону            20            85   7.244740e+04   \n",
       "10                 Вперёд!            37            80   3.153965e+04   \n",
       "14                 Дырокол             2            74   1.158372e+05   \n",
       "18              Кино билет             1            67   0.000000e+00   \n",
       "33            Цвет и билет            18            61   0.000000e+00   \n",
       "32               Тех билет             2            22   5.665740e+03   \n",
       "20                  Лимоны             4             8   6.365100e+02   \n",
       "16                Зе Бест!             1             5   6.430000e+01   \n",
       "4       Билеты в интернете             1             4   5.482300e+02   \n",
       "\n",
       "    events_share  orders_share  revenue_share  \n",
       "3       0.173908      0.218540   1.673266e-01  \n",
       "21      0.199534      0.141509   1.128915e-01  \n",
       "5       0.144603      0.138817   8.554211e-02  \n",
       "24      0.053460      0.119885   1.220364e-01  \n",
       "25      0.095966      0.091689   1.383333e-01  \n",
       "22      0.072015      0.061163   1.804538e-02  \n",
       "8       0.035435      0.057983   1.153525e-01  \n",
       "26      0.041975      0.035355   3.132357e-02  \n",
       "19      0.010340      0.021362   4.284688e-02  \n",
       "30      0.043405      0.017989   1.964465e-02  \n",
       "35      0.029264      0.017342   2.538075e-02  \n",
       "13      0.011199      0.015494   2.988977e-02  \n",
       "15      0.009605      0.009857   1.324605e-02  \n",
       "12      0.015449      0.009406   1.059245e-02  \n",
       "1       0.012057      0.007571   1.207655e-02  \n",
       "23      0.007929      0.007454   1.227622e-02  \n",
       "6       0.010422      0.006890   1.017278e-02  \n",
       "11      0.006172      0.005562   8.697069e-03  \n",
       "9       0.005885      0.003848   4.451473e-03  \n",
       "0       0.010504      0.002719   2.906341e-03  \n",
       "29      0.002616      0.001855   6.835540e-03  \n",
       "34      0.000450      0.001717   3.867906e-03  \n",
       "7       0.000817      0.001311   2.569137e-03  \n",
       "27      0.000327      0.001294   5.234027e-04  \n",
       "31      0.000981      0.001105   1.197232e-03  \n",
       "17      0.001880      0.000458   1.564129e-04  \n",
       "28      0.000286      0.000430   3.688554e-04  \n",
       "2       0.000817      0.000293   4.630316e-04  \n",
       "10      0.001512      0.000275   2.015787e-04  \n",
       "14      0.000082      0.000255   7.403482e-04  \n",
       "18      0.000041      0.000231   0.000000e+00  \n",
       "33      0.000736      0.000210   0.000000e+00  \n",
       "32      0.000082      0.000076   3.621133e-05  \n",
       "20      0.000163      0.000028   4.068114e-06  \n",
       "16      0.000041      0.000017   4.109593e-07  \n",
       "4       0.000041      0.000014   3.503892e-06  "
      ]
     },
     "metadata": {},
     "output_type": "display_data"
    }
   ],
   "source": [
    "# Количество уникальных мероприятий, заказов и выручка по сервисам\n",
    "partner_metrics = (\n",
    "    data.groupby('service_name')\n",
    "    .agg(events_count=('event_id', 'nunique'),\n",
    "         orders_count=('order_id', 'count'),\n",
    "         total_revenue=('revenue_rub', 'sum'))\n",
    "    .reset_index()\n",
    ")\n",
    "\n",
    "partner_metrics['events_share'] = partner_metrics['events_count'] / partner_metrics['events_count'].sum()\n",
    "partner_metrics['orders_share'] = partner_metrics['orders_count'] / partner_metrics['orders_count'].sum()\n",
    "partner_metrics['revenue_share'] = partner_metrics['total_revenue'] / partner_metrics['total_revenue'].sum()\n",
    "\n",
    "display(partner_metrics.sort_values(by='orders_count', ascending=False))"
   ]
  },
  {
   "cell_type": "code",
   "execution_count": 42,
   "metadata": {},
   "outputs": [
    {
     "data": {
      "image/png": "[encoded data removed]",
      "text/plain": [
       "<Figure size 1008x360 with 2 Axes>"
      ]
     },
     "metadata": {
      "needs_background": "light"
     },
     "output_type": "display_data"
    }
   ],
   "source": [
    "# Топ-10 партнёров по количеству мероприятий\n",
    "top_events_partners = partner_metrics.sort_values('events_count', ascending=False).head(10)\n",
    "\n",
    "# Топ-10 партнёров по количеству заказов\n",
    "top_orders_partners = partner_metrics.sort_values('orders_count', ascending=False).head(10)\n",
    "\n",
    "fig, ax = plt.subplots(1, 2, figsize=(14, 5))\n",
    "\n",
    "sns.barplot(data=top_events_partners, x='service_name', y='events_count', ax=ax[0])\n",
    "ax[0].set_title('ТОП-10 партнёров по количеству мероприятий')\n",
    "ax[0].set_xlabel('Партнёр')\n",
    "ax[0].set_ylabel('Количество мероприятий')\n",
    "ax[0].tick_params(axis='x', rotation=45)\n",
    "\n",
    "sns.barplot(data=top_orders_partners, x='service_name', y='orders_count', ax=ax[1])\n",
    "ax[1].set_title('ТОП-10 партнёров по количеству заказов')\n",
    "ax[1].set_xlabel('Партнёр')\n",
    "ax[1].set_ylabel('Количество заказов')\n",
    "ax[1].tick_params(axis='x', rotation=45)\n",
    "\n",
    "plt.tight_layout()\n",
    "plt.show()"
   ]
  },
  {
   "cell_type": "markdown",
   "metadata": {},
   "source": [
    "**Выводы:**\n",
    "\n",
    "Распределение мероприятий и заказов по регионам и партнёрам неравномерно — есть явные лидеры.\n",
    "\n",
    "1. Регионы:\n",
    "- Наибольшее разнообразие мероприятий и количество заказов зафиксировано в Каменевском регионе. Он значительно опережает остальные регионы по всем показателям — его доля мероприятий составляет около 27%, а доля заказов — 31% от общего количества. Следом идут Североярская область и Широковская область, но с заметно меньшими показателями.\n",
    "- Большинство регионов имеют низкие значения — доля мероприятий и заказов в них составляет менее 1%, что говорит о высокой концентрации активности в нескольких ключевых регионах.\n",
    "\n",
    "- 2. Партнёры:\n",
    "- Среди партнёров также выделяются несколько лидеров - 'Билет без проблем' (более 53000), а также по суммарной выручке, 'Лови билет' и 'Билеты в руки' активно конкурируют с ним по количеству мероприятий и заказов.\n",
    "- Остальные партнёры значительно уступают лидерам — большинство обработали менее 5000 заказов и провели небольшое число мероприятий."
   ]
  },
  {
   "cell_type": "markdown",
   "metadata": {},
   "source": [
    "### Статистический анализ данных"
   ]
  },
  {
   "cell_type": "markdown",
   "metadata": {},
   "source": [
    "**Формулировка задачи:**\n",
    "\n",
    "Проверка двух гипотез по осенним данным 2024 года:\n",
    "\n",
    "1. Первая гипотеза: среднее количество заказов на одного пользователя мобильного приложения выше, чем у пользователей стационарных устройств\n",
    "- Нулевая гипотеза (H₀): Среднее количество заказов на одного пользователя mobile не больше, чем у desktop\n",
    "- Альтернативная гипотеза (H₁): Среднее количество заказов на одного пользователя mobile больше, чем у desktop\n",
    "\n",
    "2. Вторая гипотеза: среднее время между заказами у пользователей mobile выше, чем у desktop\n",
    "- Нулевая гипотеза (H₀): Среднее время между заказами у mobile не больше, чем у desktop\n",
    "- Альтернативная гипотеза (H₁): Среднее время между заказами у mobile больше, чем у desktop\n",
    "\n",
    "**Обоснование выбора теста:**\n",
    "\n",
    "- Проверим распределение данных\n",
    "- Построим гистограммы и boxplot\n",
    "- Проверим нормальность\n",
    "- Проверим равенство дисперсий\n",
    "\n",
    "Если данные распределены нормально и дисперсии равны — применим t-test\n",
    "Если данные не нормальные или дисперсии различаются — используем непараметрический тест"
   ]
  },
  {
   "cell_type": "code",
   "execution_count": 43,
   "metadata": {},
   "outputs": [
    {
     "data": {
      "text/html": [
       "<div>\n",
       "<style scoped>\n",
       "    .dataframe tbody tr th:only-of-type {\n",
       "        vertical-align: middle;\n",
       "    }\n",
       "\n",
       "    .dataframe tbody tr th {\n",
       "        vertical-align: top;\n",
       "    }\n",
       "\n",
       "    .dataframe thead th {\n",
       "        text-align: right;\n",
       "    }\n",
       "</style>\n",
       "<table border=\"1\" class=\"dataframe\">\n",
       "  <thead>\n",
       "    <tr style=\"text-align: right;\">\n",
       "      <th></th>\n",
       "      <th>user_id</th>\n",
       "      <th>device_type_canonical</th>\n",
       "      <th>orders_count</th>\n",
       "    </tr>\n",
       "  </thead>\n",
       "  <tbody>\n",
       "    <tr>\n",
       "      <th>0</th>\n",
       "      <td>0005ca5e93f2cf4</td>\n",
       "      <td>mobile</td>\n",
       "      <td>1</td>\n",
       "    </tr>\n",
       "    <tr>\n",
       "      <th>1</th>\n",
       "      <td>000898990054619</td>\n",
       "      <td>mobile</td>\n",
       "      <td>2</td>\n",
       "    </tr>\n",
       "    <tr>\n",
       "      <th>2</th>\n",
       "      <td>000a55a418c128c</td>\n",
       "      <td>mobile</td>\n",
       "      <td>2</td>\n",
       "    </tr>\n",
       "    <tr>\n",
       "      <th>3</th>\n",
       "      <td>001e7037d013f0f</td>\n",
       "      <td>mobile</td>\n",
       "      <td>2</td>\n",
       "    </tr>\n",
       "    <tr>\n",
       "      <th>4</th>\n",
       "      <td>00245c702bc343e</td>\n",
       "      <td>mobile</td>\n",
       "      <td>2</td>\n",
       "    </tr>\n",
       "    <tr>\n",
       "      <th>...</th>\n",
       "      <td>...</td>\n",
       "      <td>...</td>\n",
       "      <td>...</td>\n",
       "    </tr>\n",
       "    <tr>\n",
       "      <th>19140</th>\n",
       "      <td>fff32fc9ad0f9f6</td>\n",
       "      <td>desktop</td>\n",
       "      <td>1</td>\n",
       "    </tr>\n",
       "    <tr>\n",
       "      <th>19141</th>\n",
       "      <td>fffcd3dde79eb2c</td>\n",
       "      <td>desktop</td>\n",
       "      <td>2</td>\n",
       "    </tr>\n",
       "    <tr>\n",
       "      <th>19142</th>\n",
       "      <td>fffcd3dde79eb2c</td>\n",
       "      <td>mobile</td>\n",
       "      <td>14</td>\n",
       "    </tr>\n",
       "    <tr>\n",
       "      <th>19143</th>\n",
       "      <td>fffeeb3c120cf0b</td>\n",
       "      <td>desktop</td>\n",
       "      <td>1</td>\n",
       "    </tr>\n",
       "    <tr>\n",
       "      <th>19144</th>\n",
       "      <td>ffff00725179321</td>\n",
       "      <td>mobile</td>\n",
       "      <td>1</td>\n",
       "    </tr>\n",
       "  </tbody>\n",
       "</table>\n",
       "<p>19145 rows × 3 columns</p>\n",
       "</div>"
      ],
      "text/plain": [
       "               user_id device_type_canonical  orders_count\n",
       "0      0005ca5e93f2cf4                mobile             1\n",
       "1      000898990054619                mobile             2\n",
       "2      000a55a418c128c                mobile             2\n",
       "3      001e7037d013f0f                mobile             2\n",
       "4      00245c702bc343e                mobile             2\n",
       "...                ...                   ...           ...\n",
       "19140  fff32fc9ad0f9f6               desktop             1\n",
       "19141  fffcd3dde79eb2c               desktop             2\n",
       "19142  fffcd3dde79eb2c                mobile            14\n",
       "19143  fffeeb3c120cf0b               desktop             1\n",
       "19144  ffff00725179321                mobile             1\n",
       "\n",
       "[19145 rows x 3 columns]"
      ]
     },
     "metadata": {},
     "output_type": "display_data"
    },
    {
     "data": {
      "text/html": [
       "<div>\n",
       "<style scoped>\n",
       "    .dataframe tbody tr th:only-of-type {\n",
       "        vertical-align: middle;\n",
       "    }\n",
       "\n",
       "    .dataframe tbody tr th {\n",
       "        vertical-align: top;\n",
       "    }\n",
       "\n",
       "    .dataframe thead th {\n",
       "        text-align: right;\n",
       "    }\n",
       "</style>\n",
       "<table border=\"1\" class=\"dataframe\">\n",
       "  <thead>\n",
       "    <tr style=\"text-align: right;\">\n",
       "      <th></th>\n",
       "      <th>user_id</th>\n",
       "      <th>device_type_canonical</th>\n",
       "      <th>avg_days_since_prev</th>\n",
       "    </tr>\n",
       "  </thead>\n",
       "  <tbody>\n",
       "    <tr>\n",
       "      <th>0</th>\n",
       "      <td>0005ca5e93f2cf4</td>\n",
       "      <td>mobile</td>\n",
       "      <td>75.0</td>\n",
       "    </tr>\n",
       "    <tr>\n",
       "      <th>1</th>\n",
       "      <td>000898990054619</td>\n",
       "      <td>mobile</td>\n",
       "      <td>51.0</td>\n",
       "    </tr>\n",
       "    <tr>\n",
       "      <th>2</th>\n",
       "      <td>000a55a418c128c</td>\n",
       "      <td>mobile</td>\n",
       "      <td>16.0</td>\n",
       "    </tr>\n",
       "    <tr>\n",
       "      <th>3</th>\n",
       "      <td>001e7037d013f0f</td>\n",
       "      <td>mobile</td>\n",
       "      <td>43.5</td>\n",
       "    </tr>\n",
       "    <tr>\n",
       "      <th>4</th>\n",
       "      <td>00245c702bc343e</td>\n",
       "      <td>mobile</td>\n",
       "      <td>27.5</td>\n",
       "    </tr>\n",
       "    <tr>\n",
       "      <th>...</th>\n",
       "      <td>...</td>\n",
       "      <td>...</td>\n",
       "      <td>...</td>\n",
       "    </tr>\n",
       "    <tr>\n",
       "      <th>19140</th>\n",
       "      <td>fff32fc9ad0f9f6</td>\n",
       "      <td>desktop</td>\n",
       "      <td>74.0</td>\n",
       "    </tr>\n",
       "    <tr>\n",
       "      <th>19141</th>\n",
       "      <td>fffcd3dde79eb2c</td>\n",
       "      <td>desktop</td>\n",
       "      <td>2.5</td>\n",
       "    </tr>\n",
       "    <tr>\n",
       "      <th>19142</th>\n",
       "      <td>fffcd3dde79eb2c</td>\n",
       "      <td>mobile</td>\n",
       "      <td>4.0</td>\n",
       "    </tr>\n",
       "    <tr>\n",
       "      <th>19143</th>\n",
       "      <td>fffeeb3c120cf0b</td>\n",
       "      <td>desktop</td>\n",
       "      <td>NaN</td>\n",
       "    </tr>\n",
       "    <tr>\n",
       "      <th>19144</th>\n",
       "      <td>ffff00725179321</td>\n",
       "      <td>mobile</td>\n",
       "      <td>NaN</td>\n",
       "    </tr>\n",
       "  </tbody>\n",
       "</table>\n",
       "<p>19145 rows × 3 columns</p>\n",
       "</div>"
      ],
      "text/plain": [
       "               user_id device_type_canonical  avg_days_since_prev\n",
       "0      0005ca5e93f2cf4                mobile                 75.0\n",
       "1      000898990054619                mobile                 51.0\n",
       "2      000a55a418c128c                mobile                 16.0\n",
       "3      001e7037d013f0f                mobile                 43.5\n",
       "4      00245c702bc343e                mobile                 27.5\n",
       "...                ...                   ...                  ...\n",
       "19140  fff32fc9ad0f9f6               desktop                 74.0\n",
       "19141  fffcd3dde79eb2c               desktop                  2.5\n",
       "19142  fffcd3dde79eb2c                mobile                  4.0\n",
       "19143  fffeeb3c120cf0b               desktop                  NaN\n",
       "19144  ffff00725179321                mobile                  NaN\n",
       "\n",
       "[19145 rows x 3 columns]"
      ]
     },
     "metadata": {},
     "output_type": "display_data"
    }
   ],
   "source": [
    "# Количество заказов на пользователя за осень\n",
    "orders_per_user = (\n",
    "    autumn_data.groupby(['user_id', 'device_type_canonical'])\n",
    "    .agg({'order_id': 'count'})\n",
    "    .reset_index()\n",
    "    .rename(columns={'order_id': 'orders_count'})\n",
    ")\n",
    "\n",
    "# Среднее время между заказами для пользователя\n",
    "avg_days_since_prev = (\n",
    "    autumn_data.groupby(['user_id', 'device_type_canonical'])\n",
    "    .agg({'days_since_prev': 'mean'})\n",
    "    .reset_index()\n",
    "    .rename(columns={'days_since_prev': 'avg_days_since_prev'})\n",
    ")\n",
    "display(orders_per_user)\n",
    "display(avg_days_since_prev)"
   ]
  },
  {
   "cell_type": "code",
   "execution_count": 44,
   "metadata": {},
   "outputs": [
    {
     "data": {
      "text/html": [
       "<div>\n",
       "<style scoped>\n",
       "    .dataframe tbody tr th:only-of-type {\n",
       "        vertical-align: middle;\n",
       "    }\n",
       "\n",
       "    .dataframe tbody tr th {\n",
       "        vertical-align: top;\n",
       "    }\n",
       "\n",
       "    .dataframe thead th {\n",
       "        text-align: right;\n",
       "    }\n",
       "</style>\n",
       "<table border=\"1\" class=\"dataframe\">\n",
       "  <thead>\n",
       "    <tr style=\"text-align: right;\">\n",
       "      <th></th>\n",
       "      <th>user_id</th>\n",
       "      <th>device_type_canonical</th>\n",
       "      <th>orders_count</th>\n",
       "      <th>avg_days_since_prev</th>\n",
       "    </tr>\n",
       "  </thead>\n",
       "  <tbody>\n",
       "    <tr>\n",
       "      <th>0</th>\n",
       "      <td>0005ca5e93f2cf4</td>\n",
       "      <td>mobile</td>\n",
       "      <td>1</td>\n",
       "      <td>75.0</td>\n",
       "    </tr>\n",
       "    <tr>\n",
       "      <th>1</th>\n",
       "      <td>000898990054619</td>\n",
       "      <td>mobile</td>\n",
       "      <td>2</td>\n",
       "      <td>51.0</td>\n",
       "    </tr>\n",
       "    <tr>\n",
       "      <th>2</th>\n",
       "      <td>000a55a418c128c</td>\n",
       "      <td>mobile</td>\n",
       "      <td>2</td>\n",
       "      <td>16.0</td>\n",
       "    </tr>\n",
       "    <tr>\n",
       "      <th>3</th>\n",
       "      <td>001e7037d013f0f</td>\n",
       "      <td>mobile</td>\n",
       "      <td>2</td>\n",
       "      <td>43.5</td>\n",
       "    </tr>\n",
       "    <tr>\n",
       "      <th>4</th>\n",
       "      <td>00245c702bc343e</td>\n",
       "      <td>mobile</td>\n",
       "      <td>2</td>\n",
       "      <td>27.5</td>\n",
       "    </tr>\n",
       "  </tbody>\n",
       "</table>\n",
       "</div>"
      ],
      "text/plain": [
       "           user_id device_type_canonical  orders_count  avg_days_since_prev\n",
       "0  0005ca5e93f2cf4                mobile             1                 75.0\n",
       "1  000898990054619                mobile             2                 51.0\n",
       "2  000a55a418c128c                mobile             2                 16.0\n",
       "3  001e7037d013f0f                mobile             2                 43.5\n",
       "4  00245c702bc343e                mobile             2                 27.5"
      ]
     },
     "metadata": {},
     "output_type": "display_data"
    },
    {
     "name": "stdout",
     "output_type": "stream",
     "text": [
      "<class 'pandas.core.frame.DataFrame'>\n",
      "Int64Index: 19145 entries, 0 to 19144\n",
      "Data columns (total 4 columns):\n",
      " #   Column                 Non-Null Count  Dtype  \n",
      "---  ------                 --------------  -----  \n",
      " 0   user_id                19145 non-null  object \n",
      " 1   device_type_canonical  19145 non-null  object \n",
      " 2   orders_count           19145 non-null  int64  \n",
      " 3   avg_days_since_prev    14283 non-null  float32\n",
      "dtypes: float32(1), int64(1), object(2)\n",
      "memory usage: 673.1+ KB\n",
      "None\n",
      "                         count      mean        std  min  25%  50%  75%  \\\n",
      "device_type_canonical                                                     \n",
      "desktop                 4906.0  7.069303  36.174169  1.0  1.0  2.0  4.0   \n",
      "mobile                 14239.0  9.514151  68.480072  1.0  1.0  2.0  5.0   \n",
      "\n",
      "                          max  \n",
      "device_type_canonical          \n",
      "desktop                1510.0  \n",
      "mobile                 4365.0  \n",
      "                         count       mean        std  min       25%  50%  \\\n",
      "device_type_canonical                                                      \n",
      "desktop                 4057.0  14.958286  24.240261  0.0  1.000000  4.6   \n",
      "mobile                 10226.0  20.654041  27.369719  0.0  2.066667  9.5   \n",
      "\n",
      "                        75%    max  \n",
      "device_type_canonical               \n",
      "desktop                17.0  146.0  \n",
      "mobile                 28.0  148.0  \n"
     ]
    }
   ],
   "source": [
    "# Объединим таблицы\n",
    "user_metrics = orders_per_user.merge(\n",
    "    avg_days_since_prev, \n",
    "    on=['user_id', 'device_type_canonical'], \n",
    "    how='left'\n",
    ")\n",
    "\n",
    "# Проверим структуру итоговой таблицы\n",
    "display(user_metrics.head())\n",
    "print(user_metrics.info())\n",
    "\n",
    "# Распределение количества заказов по типу устройства\n",
    "print(user_metrics.groupby('device_type_canonical')['orders_count'].describe())\n",
    "\n",
    "# Распределение среднего времени между заказами по типу устройства\n",
    "print(user_metrics.groupby('device_type_canonical')['avg_days_since_prev'].describe())"
   ]
  },
  {
   "cell_type": "markdown",
   "metadata": {},
   "source": [
    "**Вывод перед проверкой гипотез:**\n",
    "\n",
    "- Пользователи мобильных устройств в среднем делают больше заказов, чем пользователи десктопа\n",
    "- Среднее время между заказами у пользователей мобильных устройств выше, чем у десктопных пользователей\n",
    "- Распределение данных — с большими разбросами и выбросами (стандартные отклонения большие относительно средних значений), лучше использовать непараметрический тест"
   ]
  },
  {
   "cell_type": "code",
   "execution_count": 45,
   "metadata": {},
   "outputs": [
    {
     "data": {
      "text/html": [
       "<div>\n",
       "<style scoped>\n",
       "    .dataframe tbody tr th:only-of-type {\n",
       "        vertical-align: middle;\n",
       "    }\n",
       "\n",
       "    .dataframe tbody tr th {\n",
       "        vertical-align: top;\n",
       "    }\n",
       "\n",
       "    .dataframe thead th {\n",
       "        text-align: right;\n",
       "    }\n",
       "</style>\n",
       "<table border=\"1\" class=\"dataframe\">\n",
       "  <thead>\n",
       "    <tr style=\"text-align: right;\">\n",
       "      <th></th>\n",
       "      <th>user_id</th>\n",
       "      <th>device_type_canonical</th>\n",
       "      <th>orders_count</th>\n",
       "      <th>avg_days_since_prev</th>\n",
       "    </tr>\n",
       "  </thead>\n",
       "  <tbody>\n",
       "    <tr>\n",
       "      <th>0</th>\n",
       "      <td>0005ca5e93f2cf4</td>\n",
       "      <td>mobile</td>\n",
       "      <td>1</td>\n",
       "      <td>75.0</td>\n",
       "    </tr>\n",
       "    <tr>\n",
       "      <th>1</th>\n",
       "      <td>000898990054619</td>\n",
       "      <td>mobile</td>\n",
       "      <td>2</td>\n",
       "      <td>51.0</td>\n",
       "    </tr>\n",
       "    <tr>\n",
       "      <th>2</th>\n",
       "      <td>000a55a418c128c</td>\n",
       "      <td>mobile</td>\n",
       "      <td>2</td>\n",
       "      <td>16.0</td>\n",
       "    </tr>\n",
       "    <tr>\n",
       "      <th>3</th>\n",
       "      <td>001e7037d013f0f</td>\n",
       "      <td>mobile</td>\n",
       "      <td>2</td>\n",
       "      <td>43.5</td>\n",
       "    </tr>\n",
       "    <tr>\n",
       "      <th>4</th>\n",
       "      <td>00245c702bc343e</td>\n",
       "      <td>mobile</td>\n",
       "      <td>2</td>\n",
       "      <td>27.5</td>\n",
       "    </tr>\n",
       "  </tbody>\n",
       "</table>\n",
       "</div>"
      ],
      "text/plain": [
       "           user_id device_type_canonical  orders_count  avg_days_since_prev\n",
       "0  0005ca5e93f2cf4                mobile             1                 75.0\n",
       "1  000898990054619                mobile             2                 51.0\n",
       "2  000a55a418c128c                mobile             2                 16.0\n",
       "3  001e7037d013f0f                mobile             2                 43.5\n",
       "4  00245c702bc343e                mobile             2                 27.5"
      ]
     },
     "metadata": {},
     "output_type": "display_data"
    },
    {
     "name": "stdout",
     "output_type": "stream",
     "text": [
      "Гипотеза 1 — Количество заказов на пользователя\n",
      "p-value: 1.380076353582967e-07\n",
      "Отвергаем H₀ — количество заказов на пользователя у mobile больше\n"
     ]
    }
   ],
   "source": [
    "# Объединим данные в один датафрейм по user_id и device_type_canonical\n",
    "orders_per_user_avg = orders_per_user.merge(\n",
    "    avg_days_since_prev, \n",
    "    on=['user_id', 'device_type_canonical']\n",
    ")\n",
    "\n",
    "display(orders_per_user_avg.head())\n",
    "\n",
    "# Проверим гипотезу по количеству заказов на пользователя\n",
    "desktop_orders = orders_per_user_avg[orders_per_user_avg['device_type_canonical'] == 'desktop']['orders_count']\n",
    "mobile_orders = orders_per_user_avg[orders_per_user_avg['device_type_canonical'] == 'mobile']['orders_count']\n",
    "\n",
    "stat_orders, pval_orders = mannwhitneyu(mobile_orders, desktop_orders, alternative='greater')\n",
    "print('Гипотеза 1 — Количество заказов на пользователя')\n",
    "print('p-value:', pval_orders)\n",
    "if pval_orders < 0.05:\n",
    "    print('Отвергаем H₀ — количество заказов на пользователя у mobile больше')\n",
    "else:\n",
    "    print('Не отвергаем H₀ — недостаточно доказательств')"
   ]
  },
  {
   "cell_type": "code",
   "execution_count": 46,
   "metadata": {},
   "outputs": [
    {
     "name": "stdout",
     "output_type": "stream",
     "text": [
      "\n",
      "Гипотеза 2 — Среднее время между заказами\n",
      "p-value: 1.3507458651538492e-51\n",
      "Отвергаем H₀ — среднее время между заказами у mobile больше\n"
     ]
    }
   ],
   "source": [
    "# Проверяем гипотезу по времени между заказами\n",
    "desktop_days = orders_per_user_avg[orders_per_user_avg['device_type_canonical'] == 'desktop']['avg_days_since_prev'].dropna()\n",
    "mobile_days = orders_per_user_avg[orders_per_user_avg['device_type_canonical'] == 'mobile']['avg_days_since_prev'].dropna()\n",
    "\n",
    "stat_days, pval_days = mannwhitneyu(mobile_days, desktop_days, alternative='greater')\n",
    "print('\\nГипотеза 2 — Среднее время между заказами')\n",
    "print('p-value:', pval_days)\n",
    "if pval_days < 0.05:\n",
    "    print('Отвергаем H₀ — среднее время между заказами у mobile больше')\n",
    "else:\n",
    "    print('Не отвергаем H₀ — недостаточно доказательств')"
   ]
  },
  {
   "cell_type": "markdown",
   "metadata": {},
   "source": [
    "**Промежуточный вывод:**\n",
    "\n",
    "- Проверка обеих гипотез показала статистически значимые различия между пользователями мобильных и стационарных устройств. Пользователи мобильного приложения, действительно, оформляют больше заказов по сравнению с пользователями desktop. При этом среднее время между заказами у пользователей mobile, также, оказалось больше. Вероятно, это связано с тем, что мобильное приложение удобнее для оформления заказов в любое время и месте."
   ]
  },
  {
   "cell_type": "markdown",
   "metadata": {},
   "source": [
    "### Итоговые выводы и рекомендации"
   ]
  },
  {
   "cell_type": "markdown",
   "metadata": {},
   "source": [
    "**Общий вывод:**\n",
    "\n",
    "В рамках проекта был проведён анализ данных о продаже билетов на мероприятия за летне-осенний период 2024 года. Для анализа использовались данные о заказах, мероприятиях, пользователях и билетных партнёрах.\n",
    "\n",
    "**Основные результаты анализа:**\n",
    "\n",
    "- Наиболее популярными мероприятиями являются концерты и театральные постановки, на них приходится большая часть заказов\n",
    "- Осенью количество заказов увеличилось почти в 2,5 раза по сравнению с июнем — наблюдается сезонный рост активности пользователей и спроса на мероприятия\n",
    "- Средняя стоимость одного билета осенью немного изменилась по разным категориям мероприятий: где-то наблюдалось снижение (театр), где-то — рост (стендап, выставки)\n",
    "- Анализ пользовательской активности показал стабильную недельную цикличность: в будние дни пользователи оформляют больше заказов, а в выходные — активность снижается\n",
    "- Среди регионов лидером по числу мероприятий и заказов стал Каменевский регион, в нём сосредоточено наибольшее количество событий и оформленных заказов\n",
    "- Среди партнёров выделяются явные лидеры по числу заказов и выручке — сервисы \"Билеты без проблем\", \"Лови билет\" и \"Билеты в руки\"\n",
    "\n",
    "**Проверка гипотез:**\n",
    "\n",
    "- Были проверены две гипотезы о разнице активности пользователей mobile и desktop - количество заказов на одного пользователя у mobile статистически значимо выше, среднее время между заказами у mobile, также, статистически значимо выше. \n",
    "- Это подтверждает, что пользователи мобильных устройств более активны и совершают больше заказов, однако интервал между заказами у них выше — возможно, из-за особенностей пользовательского поведения\n",
    "\n",
    "**Рекомендации:**\n",
    "\n",
    "- Продолжить развитие мобильного приложения, так как пользователи mobile показывают большую активность и оформляют больше заказов\n",
    "- Сделать акцент на продвижении мероприятий в Каменевском регионе — это ключевой регион по числу заказов и мероприятий\n",
    "- Уделить внимание популярным билетным партнёрам — возможно, стоит рассмотреть индивидуальные условия сотрудничества с ними\n",
    "- В осенний период увеличивать маркетинговую активность и рекламные кампании — спрос на мероприятия в это время значительно растёт\n",
    "- Внимательно следить за сегментом театральных мероприятий — снижение среднего чека может требовать дополнительной аналитики или корректировки ценовой политики.\n"
   ]
  }
 ],
 "metadata": {
  "ExecuteTimeLog": [
   {
    "duration": 538,
    "start_time": "2025-04-11T15:42:36.129Z"
   },
   {
    "duration": 3643,
    "start_time": "2025-04-11T15:43:45.113Z"
   },
   {
    "duration": 2102,
    "start_time": "2025-04-11T15:43:48.993Z"
   },
   {
    "duration": 5,
    "start_time": "2025-04-11T15:44:19.549Z"
   },
   {
    "duration": 39,
    "start_time": "2025-04-11T15:45:57.717Z"
   },
   {
    "duration": 128,
    "start_time": "2025-04-11T15:46:50.157Z"
   },
   {
    "duration": 112,
    "start_time": "2025-04-11T15:56:28.094Z"
   },
   {
    "duration": 463,
    "start_time": "2025-04-11T16:02:17.484Z"
   },
   {
    "duration": 487,
    "start_time": "2025-04-11T16:04:38.928Z"
   },
   {
    "duration": 141,
    "start_time": "2025-04-11T16:11:48.722Z"
   },
   {
    "duration": 691,
    "start_time": "2025-04-11T16:23:19.475Z"
   },
   {
    "duration": 114,
    "start_time": "2025-04-11T16:24:42.680Z"
   },
   {
    "duration": 226,
    "start_time": "2025-04-11T16:28:52.025Z"
   },
   {
    "duration": 39,
    "start_time": "2025-04-11T16:29:33.405Z"
   },
   {
    "duration": 87,
    "start_time": "2025-04-11T16:29:57.513Z"
   },
   {
    "duration": 9291,
    "start_time": "2025-04-11T16:31:30.832Z"
   },
   {
    "duration": 976,
    "start_time": "2025-04-11T16:32:10.054Z"
   },
   {
    "duration": 230,
    "start_time": "2025-04-11T16:33:35.989Z"
   },
   {
    "duration": 9,
    "start_time": "2025-04-11T16:38:26.695Z"
   },
   {
    "duration": 93,
    "start_time": "2025-04-11T16:39:38.599Z"
   },
   {
    "duration": 545,
    "start_time": "2025-04-11T16:41:57.643Z"
   },
   {
    "duration": 65,
    "start_time": "2025-04-11T16:42:38.790Z"
   },
   {
    "duration": 146,
    "start_time": "2025-04-11T16:47:15.601Z"
   },
   {
    "duration": 224,
    "start_time": "2025-04-11T16:49:17.862Z"
   },
   {
    "duration": 157,
    "start_time": "2025-04-11T16:49:55.265Z"
   },
   {
    "duration": 152,
    "start_time": "2025-04-11T16:51:33.562Z"
   },
   {
    "duration": 440,
    "start_time": "2025-04-11T16:51:44.553Z"
   },
   {
    "duration": 299,
    "start_time": "2025-04-11T16:52:11.648Z"
   },
   {
    "duration": 3219,
    "start_time": "2025-04-11T16:52:27.610Z"
   },
   {
    "duration": 4,
    "start_time": "2025-04-11T16:52:31.769Z"
   },
   {
    "duration": 34,
    "start_time": "2025-04-11T16:52:34.926Z"
   },
   {
    "duration": 123,
    "start_time": "2025-04-11T16:52:37.044Z"
   },
   {
    "duration": 116,
    "start_time": "2025-04-11T16:52:40.249Z"
   },
   {
    "duration": 480,
    "start_time": "2025-04-11T16:52:42.046Z"
   },
   {
    "duration": 141,
    "start_time": "2025-04-11T16:52:44.571Z"
   },
   {
    "duration": 735,
    "start_time": "2025-04-11T16:52:48.656Z"
   },
   {
    "duration": 116,
    "start_time": "2025-04-11T16:52:50.885Z"
   },
   {
    "duration": 212,
    "start_time": "2025-04-11T16:52:54.724Z"
   },
   {
    "duration": 115,
    "start_time": "2025-04-11T16:52:55.749Z"
   },
   {
    "duration": 262,
    "start_time": "2025-04-11T16:52:59.576Z"
   },
   {
    "duration": 9,
    "start_time": "2025-04-11T16:53:04.751Z"
   },
   {
    "duration": 62,
    "start_time": "2025-04-11T16:53:05.584Z"
   },
   {
    "duration": 540,
    "start_time": "2025-04-11T16:53:06.313Z"
   },
   {
    "duration": 75,
    "start_time": "2025-04-11T16:53:07.774Z"
   },
   {
    "duration": 144,
    "start_time": "2025-04-11T16:53:08.537Z"
   },
   {
    "duration": 231,
    "start_time": "2025-04-11T16:53:10.722Z"
   },
   {
    "duration": 165,
    "start_time": "2025-04-11T16:53:11.814Z"
   },
   {
    "duration": 434,
    "start_time": "2025-04-11T16:53:13.790Z"
   },
   {
    "duration": 19,
    "start_time": "2025-04-11T16:54:45.068Z"
   },
   {
    "duration": 18,
    "start_time": "2025-04-11T16:56:07.542Z"
   },
   {
    "duration": 3200,
    "start_time": "2025-04-11T16:57:18.380Z"
   },
   {
    "duration": 4,
    "start_time": "2025-04-11T16:57:22.322Z"
   },
   {
    "duration": 37,
    "start_time": "2025-04-11T16:57:25.818Z"
   },
   {
    "duration": 125,
    "start_time": "2025-04-11T16:57:27.905Z"
   },
   {
    "duration": 109,
    "start_time": "2025-04-11T16:57:31.046Z"
   },
   {
    "duration": 480,
    "start_time": "2025-04-11T16:57:32.996Z"
   },
   {
    "duration": 134,
    "start_time": "2025-04-11T16:57:36.175Z"
   },
   {
    "duration": 714,
    "start_time": "2025-04-11T16:57:39.715Z"
   },
   {
    "duration": 115,
    "start_time": "2025-04-11T16:57:41.248Z"
   },
   {
    "duration": 218,
    "start_time": "2025-04-11T16:57:45.799Z"
   },
   {
    "duration": 106,
    "start_time": "2025-04-11T16:57:46.951Z"
   },
   {
    "duration": 1035,
    "start_time": "2025-04-11T16:57:48.313Z"
   },
   {
    "duration": 237,
    "start_time": "2025-04-11T16:57:51.478Z"
   },
   {
    "duration": 11,
    "start_time": "2025-04-11T16:57:55.103Z"
   },
   {
    "duration": 72,
    "start_time": "2025-04-11T16:57:56.080Z"
   },
   {
    "duration": 537,
    "start_time": "2025-04-11T16:57:56.973Z"
   },
   {
    "duration": 68,
    "start_time": "2025-04-11T16:57:57.882Z"
   },
   {
    "duration": 169,
    "start_time": "2025-04-11T16:57:58.925Z"
   },
   {
    "duration": 188,
    "start_time": "2025-04-11T16:58:01.311Z"
   },
   {
    "duration": 170,
    "start_time": "2025-04-11T16:58:04.086Z"
   },
   {
    "duration": 129,
    "start_time": "2025-04-11T16:58:05.714Z"
   },
   {
    "duration": 334,
    "start_time": "2025-04-11T16:59:46.717Z"
   },
   {
    "duration": 20,
    "start_time": "2025-04-11T17:01:58.070Z"
   },
   {
    "duration": 162,
    "start_time": "2025-04-11T17:05:09.250Z"
   },
   {
    "duration": 3966,
    "start_time": "2025-04-11T17:11:31.245Z"
   },
   {
    "duration": 5,
    "start_time": "2025-04-11T17:12:09.732Z"
   },
   {
    "duration": 26,
    "start_time": "2025-04-11T17:12:45.244Z"
   },
   {
    "duration": 70,
    "start_time": "2025-04-11T17:13:22.714Z"
   },
   {
    "duration": 196,
    "start_time": "2025-04-11T17:13:52.980Z"
   },
   {
    "duration": 3398,
    "start_time": "2025-04-12T10:07:25.922Z"
   },
   {
    "duration": 4,
    "start_time": "2025-04-12T10:07:30.067Z"
   },
   {
    "duration": 33,
    "start_time": "2025-04-12T10:07:31.512Z"
   },
   {
    "duration": 136,
    "start_time": "2025-04-12T10:07:33.102Z"
   },
   {
    "duration": 118,
    "start_time": "2025-04-12T10:07:37.695Z"
   },
   {
    "duration": 481,
    "start_time": "2025-04-12T10:07:41.182Z"
   },
   {
    "duration": 140,
    "start_time": "2025-04-12T10:07:44.968Z"
   },
   {
    "duration": 710,
    "start_time": "2025-04-12T10:07:48.301Z"
   },
   {
    "duration": 114,
    "start_time": "2025-04-12T10:07:49.832Z"
   },
   {
    "duration": 216,
    "start_time": "2025-04-12T10:07:53.489Z"
   },
   {
    "duration": 104,
    "start_time": "2025-04-12T10:07:54.368Z"
   },
   {
    "duration": 1119,
    "start_time": "2025-04-12T10:07:55.379Z"
   },
   {
    "duration": 263,
    "start_time": "2025-04-12T10:07:57.050Z"
   },
   {
    "duration": 10,
    "start_time": "2025-04-12T10:08:00.187Z"
   },
   {
    "duration": 65,
    "start_time": "2025-04-12T10:08:00.983Z"
   },
   {
    "duration": 614,
    "start_time": "2025-04-12T10:08:04.057Z"
   },
   {
    "duration": 71,
    "start_time": "2025-04-12T10:08:04.910Z"
   },
   {
    "duration": 138,
    "start_time": "2025-04-12T10:08:05.806Z"
   },
   {
    "duration": 180,
    "start_time": "2025-04-12T10:08:08.645Z"
   },
   {
    "duration": 155,
    "start_time": "2025-04-12T10:08:09.495Z"
   },
   {
    "duration": 172,
    "start_time": "2025-04-12T10:08:10.577Z"
   },
   {
    "duration": 3919,
    "start_time": "2025-04-12T10:08:14.212Z"
   },
   {
    "duration": 5,
    "start_time": "2025-04-12T10:08:19.094Z"
   },
   {
    "duration": 24,
    "start_time": "2025-04-12T10:08:19.880Z"
   },
   {
    "duration": 64,
    "start_time": "2025-04-12T10:08:20.588Z"
   },
   {
    "duration": 190,
    "start_time": "2025-04-12T10:08:22.820Z"
   },
   {
    "duration": 35,
    "start_time": "2025-04-12T10:12:40.850Z"
   },
   {
    "duration": 170,
    "start_time": "2025-04-12T10:13:02.773Z"
   },
   {
    "duration": 358,
    "start_time": "2025-04-12T10:18:09.519Z"
   },
   {
    "duration": 227,
    "start_time": "2025-04-12T10:19:04.094Z"
   },
   {
    "duration": 219,
    "start_time": "2025-04-12T10:19:13.683Z"
   },
   {
    "duration": 176,
    "start_time": "2025-04-12T10:20:49.791Z"
   },
   {
    "duration": 167,
    "start_time": "2025-04-12T10:21:10.514Z"
   },
   {
    "duration": 246,
    "start_time": "2025-04-12T10:21:54.444Z"
   },
   {
    "duration": 231,
    "start_time": "2025-04-12T10:22:03.393Z"
   },
   {
    "duration": 217,
    "start_time": "2025-04-12T10:22:11.891Z"
   },
   {
    "duration": 235,
    "start_time": "2025-04-12T10:22:19.061Z"
   },
   {
    "duration": 236,
    "start_time": "2025-04-12T10:22:30.120Z"
   },
   {
    "duration": 113,
    "start_time": "2025-04-12T10:28:13.743Z"
   },
   {
    "duration": 385,
    "start_time": "2025-04-12T10:28:22.023Z"
   },
   {
    "duration": 305,
    "start_time": "2025-04-12T10:31:58.370Z"
   },
   {
    "duration": 95,
    "start_time": "2025-04-12T10:42:20.360Z"
   },
   {
    "duration": 646,
    "start_time": "2025-04-12T10:43:35.055Z"
   },
   {
    "duration": 89,
    "start_time": "2025-04-12T10:48:07.594Z"
   },
   {
    "duration": 158,
    "start_time": "2025-04-12T10:49:52.912Z"
   },
   {
    "duration": 315,
    "start_time": "2025-04-12T10:50:21.093Z"
   },
   {
    "duration": 88,
    "start_time": "2025-04-12T10:59:05.671Z"
   },
   {
    "duration": 345,
    "start_time": "2025-04-12T11:01:07.397Z"
   },
   {
    "duration": 4,
    "start_time": "2025-04-12T11:02:19.353Z"
   },
   {
    "duration": 4558,
    "start_time": "2025-04-12T11:04:44.329Z"
   },
   {
    "duration": 632,
    "start_time": "2025-04-12T11:06:03.641Z"
   },
   {
    "duration": 85,
    "start_time": "2025-04-12T11:06:47.959Z"
   },
   {
    "duration": 513,
    "start_time": "2025-04-12T11:07:20.168Z"
   },
   {
    "duration": 3181,
    "start_time": "2025-04-12T11:13:47.959Z"
   },
   {
    "duration": 4,
    "start_time": "2025-04-12T11:13:52.508Z"
   },
   {
    "duration": 34,
    "start_time": "2025-04-12T11:13:59.122Z"
   },
   {
    "duration": 129,
    "start_time": "2025-04-12T11:14:02.988Z"
   },
   {
    "duration": 3221,
    "start_time": "2025-04-12T11:14:22.841Z"
   },
   {
    "duration": 5,
    "start_time": "2025-04-12T11:14:26.870Z"
   },
   {
    "duration": 38,
    "start_time": "2025-04-12T11:14:28.058Z"
   },
   {
    "duration": 131,
    "start_time": "2025-04-12T11:14:29.287Z"
   },
   {
    "duration": 109,
    "start_time": "2025-04-12T11:14:53.577Z"
   },
   {
    "duration": 518,
    "start_time": "2025-04-12T11:14:57.194Z"
   },
   {
    "duration": 146,
    "start_time": "2025-04-12T11:15:01.443Z"
   },
   {
    "duration": 720,
    "start_time": "2025-04-12T11:15:05.596Z"
   },
   {
    "duration": 142,
    "start_time": "2025-04-12T11:15:07.389Z"
   },
   {
    "duration": 228,
    "start_time": "2025-04-12T11:15:12.357Z"
   },
   {
    "duration": 113,
    "start_time": "2025-04-12T11:15:13.498Z"
   },
   {
    "duration": 1061,
    "start_time": "2025-04-12T11:15:14.625Z"
   },
   {
    "duration": 247,
    "start_time": "2025-04-12T11:15:16.509Z"
   },
   {
    "duration": 9,
    "start_time": "2025-04-12T11:15:23.698Z"
   },
   {
    "duration": 71,
    "start_time": "2025-04-12T11:15:24.947Z"
   },
   {
    "duration": 640,
    "start_time": "2025-04-12T11:15:28.164Z"
   },
   {
    "duration": 71,
    "start_time": "2025-04-12T11:15:29.601Z"
   },
   {
    "duration": 152,
    "start_time": "2025-04-12T11:15:32.575Z"
   },
   {
    "duration": 190,
    "start_time": "2025-04-12T11:15:42.476Z"
   },
   {
    "duration": 161,
    "start_time": "2025-04-12T11:15:43.734Z"
   },
   {
    "duration": 180,
    "start_time": "2025-04-12T11:15:45.433Z"
   },
   {
    "duration": 4249,
    "start_time": "2025-04-12T11:15:53.726Z"
   },
   {
    "duration": 5,
    "start_time": "2025-04-12T11:15:57.977Z"
   },
   {
    "duration": 44,
    "start_time": "2025-04-12T11:15:57.983Z"
   },
   {
    "duration": 72,
    "start_time": "2025-04-12T11:15:59.568Z"
   },
   {
    "duration": 226,
    "start_time": "2025-04-12T11:16:01.416Z"
   },
   {
    "duration": 38,
    "start_time": "2025-04-12T11:16:10.849Z"
   },
   {
    "duration": 164,
    "start_time": "2025-04-12T11:16:34.010Z"
   },
   {
    "duration": 373,
    "start_time": "2025-04-12T11:16:51.412Z"
   },
   {
    "duration": 230,
    "start_time": "2025-04-12T11:16:59.015Z"
   },
   {
    "duration": 224,
    "start_time": "2025-04-12T11:17:01.792Z"
   },
   {
    "duration": 124,
    "start_time": "2025-04-12T11:17:24.038Z"
   },
   {
    "duration": 306,
    "start_time": "2025-04-12T11:17:32.423Z"
   },
   {
    "duration": 87,
    "start_time": "2025-04-12T11:17:50.128Z"
   },
   {
    "duration": 471,
    "start_time": "2025-04-12T11:18:10.638Z"
   },
   {
    "duration": 185,
    "start_time": "2025-04-12T11:18:23.211Z"
   },
   {
    "duration": 259,
    "start_time": "2025-04-12T11:18:29.456Z"
   },
   {
    "duration": 93,
    "start_time": "2025-04-12T11:18:42.848Z"
   },
   {
    "duration": 556,
    "start_time": "2025-04-12T11:18:58.865Z"
   },
   {
    "duration": 88,
    "start_time": "2025-04-12T11:19:06.179Z"
   },
   {
    "duration": 505,
    "start_time": "2025-04-12T11:19:09.335Z"
   },
   {
    "duration": 91,
    "start_time": "2025-04-12T15:18:34.998Z"
   },
   {
    "duration": 117,
    "start_time": "2025-04-12T15:19:27.541Z"
   },
   {
    "duration": 128,
    "start_time": "2025-04-12T15:21:21.379Z"
   },
   {
    "duration": 64,
    "start_time": "2025-04-12T15:22:50.691Z"
   },
   {
    "duration": 11,
    "start_time": "2025-04-12T15:25:47.222Z"
   },
   {
    "duration": 38,
    "start_time": "2025-04-12T15:27:30.195Z"
   },
   {
    "duration": 2070,
    "start_time": "2025-04-12T15:28:30.353Z"
   },
   {
    "duration": 40,
    "start_time": "2025-04-12T15:28:46.921Z"
   },
   {
    "duration": 20,
    "start_time": "2025-04-12T15:29:23.441Z"
   },
   {
    "duration": 3185,
    "start_time": "2025-04-12T15:43:29.562Z"
   },
   {
    "duration": 7,
    "start_time": "2025-04-12T15:43:33.610Z"
   },
   {
    "duration": 34,
    "start_time": "2025-04-12T15:43:35.310Z"
   },
   {
    "duration": 125,
    "start_time": "2025-04-12T15:43:36.874Z"
   },
   {
    "duration": 118,
    "start_time": "2025-04-12T15:43:40.619Z"
   },
   {
    "duration": 517,
    "start_time": "2025-04-12T15:43:44.733Z"
   },
   {
    "duration": 154,
    "start_time": "2025-04-12T15:43:54.365Z"
   },
   {
    "duration": 748,
    "start_time": "2025-04-12T15:43:58.325Z"
   },
   {
    "duration": 121,
    "start_time": "2025-04-12T15:43:59.365Z"
   },
   {
    "duration": 230,
    "start_time": "2025-04-12T15:44:03.716Z"
   },
   {
    "duration": 114,
    "start_time": "2025-04-12T15:44:04.755Z"
   },
   {
    "duration": 1121,
    "start_time": "2025-04-12T15:44:05.960Z"
   },
   {
    "duration": 253,
    "start_time": "2025-04-12T15:44:07.694Z"
   },
   {
    "duration": 13,
    "start_time": "2025-04-12T15:44:13.507Z"
   },
   {
    "duration": 73,
    "start_time": "2025-04-12T15:44:14.403Z"
   },
   {
    "duration": 604,
    "start_time": "2025-04-12T15:44:17.231Z"
   },
   {
    "duration": 69,
    "start_time": "2025-04-12T15:44:18.515Z"
   },
   {
    "duration": 149,
    "start_time": "2025-04-12T15:44:19.430Z"
   },
   {
    "duration": 201,
    "start_time": "2025-04-12T15:44:22.926Z"
   },
   {
    "duration": 168,
    "start_time": "2025-04-12T15:44:23.764Z"
   },
   {
    "duration": 181,
    "start_time": "2025-04-12T15:44:24.978Z"
   },
   {
    "duration": 4054,
    "start_time": "2025-04-12T15:44:28.708Z"
   },
   {
    "duration": 4,
    "start_time": "2025-04-12T15:44:33.425Z"
   },
   {
    "duration": 24,
    "start_time": "2025-04-12T15:44:34.239Z"
   },
   {
    "duration": 74,
    "start_time": "2025-04-12T15:44:34.999Z"
   },
   {
    "duration": 208,
    "start_time": "2025-04-12T15:44:39.912Z"
   },
   {
    "duration": 36,
    "start_time": "2025-04-12T15:44:43.638Z"
   },
   {
    "duration": 166,
    "start_time": "2025-04-12T15:44:44.562Z"
   },
   {
    "duration": 379,
    "start_time": "2025-04-12T15:44:47.718Z"
   },
   {
    "duration": 241,
    "start_time": "2025-04-12T15:44:49.388Z"
   },
   {
    "duration": 231,
    "start_time": "2025-04-12T15:44:52.202Z"
   },
   {
    "duration": 125,
    "start_time": "2025-04-12T15:44:54.448Z"
   },
   {
    "duration": 318,
    "start_time": "2025-04-12T15:44:55.617Z"
   },
   {
    "duration": 88,
    "start_time": "2025-04-12T15:44:59.271Z"
   },
   {
    "duration": 473,
    "start_time": "2025-04-12T15:45:00.772Z"
   },
   {
    "duration": 164,
    "start_time": "2025-04-12T15:45:04.529Z"
   },
   {
    "duration": 272,
    "start_time": "2025-04-12T15:45:05.776Z"
   },
   {
    "duration": 93,
    "start_time": "2025-04-12T15:45:09.540Z"
   },
   {
    "duration": 525,
    "start_time": "2025-04-12T15:45:11.138Z"
   },
   {
    "duration": 84,
    "start_time": "2025-04-12T15:45:14.481Z"
   },
   {
    "duration": 519,
    "start_time": "2025-04-12T15:45:17.002Z"
   },
   {
    "duration": 108,
    "start_time": "2025-04-12T15:45:22.937Z"
   },
   {
    "duration": 55,
    "start_time": "2025-04-12T15:45:24.239Z"
   },
   {
    "duration": 55,
    "start_time": "2025-04-12T15:45:27.570Z"
   },
   {
    "duration": 20,
    "start_time": "2025-04-12T15:45:28.546Z"
   },
   {
    "duration": 3273,
    "start_time": "2025-04-12T15:52:58.873Z"
   },
   {
    "duration": 4,
    "start_time": "2025-04-12T15:53:03.017Z"
   },
   {
    "duration": 36,
    "start_time": "2025-04-12T15:53:04.809Z"
   },
   {
    "duration": 136,
    "start_time": "2025-04-12T15:53:06.881Z"
   },
   {
    "duration": 116,
    "start_time": "2025-04-12T15:53:10.552Z"
   },
   {
    "duration": 516,
    "start_time": "2025-04-12T15:53:13.540Z"
   },
   {
    "duration": 146,
    "start_time": "2025-04-12T15:53:16.733Z"
   },
   {
    "duration": 747,
    "start_time": "2025-04-12T15:53:22.452Z"
   },
   {
    "duration": 136,
    "start_time": "2025-04-12T15:53:23.600Z"
   },
   {
    "duration": 226,
    "start_time": "2025-04-12T15:53:27.773Z"
   },
   {
    "duration": 112,
    "start_time": "2025-04-12T15:53:28.932Z"
   },
   {
    "duration": 1070,
    "start_time": "2025-04-12T15:53:30.295Z"
   },
   {
    "duration": 257,
    "start_time": "2025-04-12T15:53:32.486Z"
   },
   {
    "duration": 10,
    "start_time": "2025-04-12T15:53:35.744Z"
   },
   {
    "duration": 73,
    "start_time": "2025-04-12T15:53:36.798Z"
   },
   {
    "duration": 616,
    "start_time": "2025-04-12T15:53:39.711Z"
   },
   {
    "duration": 78,
    "start_time": "2025-04-12T15:53:41.273Z"
   },
   {
    "duration": 152,
    "start_time": "2025-04-12T15:53:42.142Z"
   },
   {
    "duration": 194,
    "start_time": "2025-04-12T15:53:44.770Z"
   },
   {
    "duration": 168,
    "start_time": "2025-04-12T15:53:45.721Z"
   },
   {
    "duration": 188,
    "start_time": "2025-04-12T15:53:47.755Z"
   },
   {
    "duration": 4036,
    "start_time": "2025-04-12T15:53:51.269Z"
   },
   {
    "duration": 6,
    "start_time": "2025-04-12T15:53:55.961Z"
   },
   {
    "duration": 24,
    "start_time": "2025-04-12T15:53:56.819Z"
   },
   {
    "duration": 73,
    "start_time": "2025-04-12T15:53:57.649Z"
   },
   {
    "duration": 205,
    "start_time": "2025-04-12T15:53:59.039Z"
   },
   {
    "duration": 37,
    "start_time": "2025-04-12T15:54:02.328Z"
   },
   {
    "duration": 174,
    "start_time": "2025-04-12T15:54:03.678Z"
   },
   {
    "duration": 377,
    "start_time": "2025-04-12T15:54:06.724Z"
   },
   {
    "duration": 245,
    "start_time": "2025-04-12T15:54:08.580Z"
   },
   {
    "duration": 236,
    "start_time": "2025-04-12T15:54:10.378Z"
   },
   {
    "duration": 122,
    "start_time": "2025-04-12T15:54:13.646Z"
   },
   {
    "duration": 336,
    "start_time": "2025-04-12T15:54:15.147Z"
   },
   {
    "duration": 92,
    "start_time": "2025-04-12T15:54:19.673Z"
   },
   {
    "duration": 478,
    "start_time": "2025-04-12T15:54:20.819Z"
   },
   {
    "duration": 179,
    "start_time": "2025-04-12T15:54:24.410Z"
   },
   {
    "duration": 257,
    "start_time": "2025-04-12T15:54:25.880Z"
   },
   {
    "duration": 96,
    "start_time": "2025-04-12T15:54:29.022Z"
   },
   {
    "duration": 585,
    "start_time": "2025-04-12T15:54:30.085Z"
   },
   {
    "duration": 103,
    "start_time": "2025-04-12T15:54:33.714Z"
   },
   {
    "duration": 518,
    "start_time": "2025-04-12T15:54:36.944Z"
   },
   {
    "duration": 102,
    "start_time": "2025-04-12T15:54:42.115Z"
   },
   {
    "duration": 58,
    "start_time": "2025-04-12T15:54:43.339Z"
   },
   {
    "duration": 40,
    "start_time": "2025-04-12T15:54:46.943Z"
   },
   {
    "duration": 22,
    "start_time": "2025-04-12T15:54:49.129Z"
   },
   {
    "duration": 2868,
    "start_time": "2025-04-13T13:18:14.348Z"
   },
   {
    "duration": 4,
    "start_time": "2025-04-13T13:18:17.219Z"
   },
   {
    "duration": 46,
    "start_time": "2025-04-13T13:18:17.225Z"
   },
   {
    "duration": 130,
    "start_time": "2025-04-13T13:18:17.273Z"
   },
   {
    "duration": 118,
    "start_time": "2025-04-13T13:18:17.406Z"
   },
   {
    "duration": 490,
    "start_time": "2025-04-13T13:18:17.525Z"
   },
   {
    "duration": 154,
    "start_time": "2025-04-13T13:18:18.017Z"
   },
   {
    "duration": 746,
    "start_time": "2025-04-13T13:18:18.174Z"
   },
   {
    "duration": 142,
    "start_time": "2025-04-13T13:18:18.922Z"
   },
   {
    "duration": 324,
    "start_time": "2025-04-13T13:18:19.066Z"
   },
   {
    "duration": 101,
    "start_time": "2025-04-13T13:18:19.392Z"
   },
   {
    "duration": 999,
    "start_time": "2025-04-13T13:18:19.495Z"
   },
   {
    "duration": 242,
    "start_time": "2025-04-13T13:18:20.496Z"
   },
   {
    "duration": 9,
    "start_time": "2025-04-13T13:18:20.743Z"
   },
   {
    "duration": 92,
    "start_time": "2025-04-13T13:18:20.754Z"
   },
   {
    "duration": 574,
    "start_time": "2025-04-13T13:18:20.848Z"
   },
   {
    "duration": 67,
    "start_time": "2025-04-13T13:18:21.424Z"
   },
   {
    "duration": 152,
    "start_time": "2025-04-13T13:18:21.493Z"
   },
   {
    "duration": 221,
    "start_time": "2025-04-13T13:18:21.647Z"
   },
   {
    "duration": 168,
    "start_time": "2025-04-13T13:18:21.869Z"
   },
   {
    "duration": 318,
    "start_time": "2025-04-13T13:18:22.039Z"
   },
   {
    "duration": 4185,
    "start_time": "2025-04-13T13:18:22.359Z"
   },
   {
    "duration": 5,
    "start_time": "2025-04-13T13:18:26.546Z"
   },
   {
    "duration": 83,
    "start_time": "2025-04-13T13:18:26.552Z"
   },
   {
    "duration": 63,
    "start_time": "2025-04-13T13:18:26.636Z"
   },
   {
    "duration": 203,
    "start_time": "2025-04-13T13:18:26.700Z"
   },
   {
    "duration": 42,
    "start_time": "2025-04-13T13:18:26.905Z"
   },
   {
    "duration": 168,
    "start_time": "2025-04-13T13:18:26.949Z"
   },
   {
    "duration": 357,
    "start_time": "2025-04-13T13:18:27.118Z"
   },
   {
    "duration": 221,
    "start_time": "2025-04-13T13:18:27.477Z"
   },
   {
    "duration": 216,
    "start_time": "2025-04-13T13:18:27.700Z"
   },
   {
    "duration": 124,
    "start_time": "2025-04-13T13:18:27.917Z"
   },
   {
    "duration": 307,
    "start_time": "2025-04-13T13:18:28.043Z"
   },
   {
    "duration": 90,
    "start_time": "2025-04-13T13:18:28.352Z"
   },
   {
    "duration": 421,
    "start_time": "2025-04-13T13:18:28.444Z"
   },
   {
    "duration": 201,
    "start_time": "2025-04-13T13:18:28.866Z"
   },
   {
    "duration": 258,
    "start_time": "2025-04-13T13:18:29.069Z"
   },
   {
    "duration": 88,
    "start_time": "2025-04-13T13:18:29.329Z"
   },
   {
    "duration": 560,
    "start_time": "2025-04-13T13:18:29.418Z"
   },
   {
    "duration": 97,
    "start_time": "2025-04-13T13:18:29.980Z"
   },
   {
    "duration": 477,
    "start_time": "2025-04-13T13:18:30.081Z"
   },
   {
    "duration": 104,
    "start_time": "2025-04-13T13:18:30.560Z"
   },
   {
    "duration": 54,
    "start_time": "2025-04-13T13:18:30.666Z"
   },
   {
    "duration": 38,
    "start_time": "2025-04-13T13:18:30.737Z"
   },
   {
    "duration": 20,
    "start_time": "2025-04-13T13:18:30.777Z"
   },
   {
    "duration": 5981,
    "start_time": "2025-04-14T12:28:18.173Z"
   },
   {
    "duration": 4,
    "start_time": "2025-04-14T12:28:24.853Z"
   },
   {
    "duration": 33,
    "start_time": "2025-04-14T12:28:26.525Z"
   },
   {
    "duration": 119,
    "start_time": "2025-04-14T12:28:28.754Z"
   },
   {
    "duration": 103,
    "start_time": "2025-04-14T12:28:37.342Z"
   },
   {
    "duration": 99,
    "start_time": "2025-04-14T12:30:32.040Z"
   },
   {
    "duration": 467,
    "start_time": "2025-04-14T12:30:37.460Z"
   },
   {
    "duration": 193,
    "start_time": "2025-04-14T12:30:40.183Z"
   },
   {
    "duration": 4818,
    "start_time": "2025-04-14T12:32:08.734Z"
   },
   {
    "duration": 4,
    "start_time": "2025-04-14T12:32:14.350Z"
   },
   {
    "duration": 34,
    "start_time": "2025-04-14T12:32:16.071Z"
   },
   {
    "duration": 120,
    "start_time": "2025-04-14T12:32:17.774Z"
   },
   {
    "duration": 102,
    "start_time": "2025-04-14T12:32:21.929Z"
   },
   {
    "duration": 2,
    "start_time": "2025-04-14T12:32:54.590Z"
   },
   {
    "duration": 446,
    "start_time": "2025-04-14T12:32:57.790Z"
   },
   {
    "duration": 613,
    "start_time": "2025-04-14T12:33:39.970Z"
   },
   {
    "duration": 3270,
    "start_time": "2025-04-14T12:36:23.890Z"
   },
   {
    "duration": 4,
    "start_time": "2025-04-14T12:36:28.194Z"
   },
   {
    "duration": 32,
    "start_time": "2025-04-14T12:36:29.946Z"
   },
   {
    "duration": 119,
    "start_time": "2025-04-14T12:36:31.157Z"
   },
   {
    "duration": 104,
    "start_time": "2025-04-14T12:36:35.093Z"
   },
   {
    "duration": 643,
    "start_time": "2025-04-14T12:36:45.462Z"
   },
   {
    "duration": 179,
    "start_time": "2025-04-14T12:38:43.346Z"
   },
   {
    "duration": 683,
    "start_time": "2025-04-14T12:38:50.800Z"
   },
   {
    "duration": 159,
    "start_time": "2025-04-14T12:38:52.430Z"
   },
   {
    "duration": 3938,
    "start_time": "2025-04-14T12:46:08.428Z"
   },
   {
    "duration": 5,
    "start_time": "2025-04-14T12:46:12.367Z"
   },
   {
    "duration": 31,
    "start_time": "2025-04-14T12:46:13.405Z"
   },
   {
    "duration": 119,
    "start_time": "2025-04-14T12:46:14.487Z"
   },
   {
    "duration": 102,
    "start_time": "2025-04-14T12:46:19.404Z"
   },
   {
    "duration": 639,
    "start_time": "2025-04-14T12:46:23.038Z"
   },
   {
    "duration": 184,
    "start_time": "2025-04-14T12:46:28.181Z"
   },
   {
    "duration": 660,
    "start_time": "2025-04-14T12:46:33.274Z"
   },
   {
    "duration": 162,
    "start_time": "2025-04-14T12:46:34.243Z"
   },
   {
    "duration": 224,
    "start_time": "2025-04-14T12:46:41.324Z"
   },
   {
    "duration": 89,
    "start_time": "2025-04-14T12:46:42.380Z"
   },
   {
    "duration": 987,
    "start_time": "2025-04-14T12:46:43.391Z"
   },
   {
    "duration": 236,
    "start_time": "2025-04-14T12:46:45.118Z"
   },
   {
    "duration": 8,
    "start_time": "2025-04-14T12:47:15.303Z"
   },
   {
    "duration": 71,
    "start_time": "2025-04-14T12:47:16.200Z"
   },
   {
    "duration": 629,
    "start_time": "2025-04-14T12:49:56.670Z"
   },
   {
    "duration": 101,
    "start_time": "2025-04-14T12:50:00.907Z"
   },
   {
    "duration": 102,
    "start_time": "2025-04-14T12:52:18.470Z"
   },
   {
    "duration": 168,
    "start_time": "2025-04-14T12:55:47.831Z"
   },
   {
    "duration": 248,
    "start_time": "2025-04-14T13:00:44.510Z"
   },
   {
    "duration": 162,
    "start_time": "2025-04-14T13:00:45.456Z"
   },
   {
    "duration": 162,
    "start_time": "2025-04-14T13:00:47.706Z"
   },
   {
    "duration": 3617,
    "start_time": "2025-04-14T13:00:50.654Z"
   },
   {
    "duration": 5,
    "start_time": "2025-04-14T13:00:54.272Z"
   },
   {
    "duration": 23,
    "start_time": "2025-04-14T13:00:55.148Z"
   },
   {
    "duration": 59,
    "start_time": "2025-04-14T13:00:56.017Z"
   },
   {
    "duration": 179,
    "start_time": "2025-04-14T13:00:57.272Z"
   },
   {
    "duration": 37,
    "start_time": "2025-04-14T13:01:12.748Z"
   },
   {
    "duration": 151,
    "start_time": "2025-04-14T13:01:13.513Z"
   },
   {
    "duration": 352,
    "start_time": "2025-04-14T13:01:24.867Z"
   },
   {
    "duration": 212,
    "start_time": "2025-04-14T13:01:26.030Z"
   },
   {
    "duration": 199,
    "start_time": "2025-04-14T13:01:27.446Z"
   },
   {
    "duration": 108,
    "start_time": "2025-04-14T13:01:44.955Z"
   },
   {
    "duration": 333,
    "start_time": "2025-04-14T13:01:45.598Z"
   },
   {
    "duration": 98,
    "start_time": "2025-04-14T13:03:04.553Z"
   },
   {
    "duration": 3,
    "start_time": "2025-04-14T13:03:44.740Z"
   },
   {
    "duration": 975,
    "start_time": "2025-04-14T13:04:19.764Z"
   },
   {
    "duration": 3065,
    "start_time": "2025-04-14T13:26:42.204Z"
   },
   {
    "duration": 4,
    "start_time": "2025-04-14T13:26:45.841Z"
   },
   {
    "duration": 33,
    "start_time": "2025-04-14T13:26:47.305Z"
   },
   {
    "duration": 121,
    "start_time": "2025-04-14T13:26:48.637Z"
   },
   {
    "duration": 104,
    "start_time": "2025-04-14T13:26:53.113Z"
   },
   {
    "duration": 635,
    "start_time": "2025-04-14T13:26:57.033Z"
   },
   {
    "duration": 197,
    "start_time": "2025-04-14T13:27:01.947Z"
   },
   {
    "duration": 660,
    "start_time": "2025-04-14T13:27:05.100Z"
   },
   {
    "duration": 161,
    "start_time": "2025-04-14T13:27:05.989Z"
   },
   {
    "duration": 235,
    "start_time": "2025-04-14T13:27:11.053Z"
   },
   {
    "duration": 90,
    "start_time": "2025-04-14T13:27:12.421Z"
   },
   {
    "duration": 970,
    "start_time": "2025-04-14T13:27:13.313Z"
   },
   {
    "duration": 228,
    "start_time": "2025-04-14T13:27:14.704Z"
   },
   {
    "duration": 9,
    "start_time": "2025-04-14T13:27:18.457Z"
   },
   {
    "duration": 70,
    "start_time": "2025-04-14T13:27:19.342Z"
   },
   {
    "duration": 623,
    "start_time": "2025-04-14T13:27:22.382Z"
   },
   {
    "duration": 3,
    "start_time": "2025-04-14T13:27:23.651Z"
   },
   {
    "duration": 103,
    "start_time": "2025-04-14T13:27:24.755Z"
   },
   {
    "duration": 90,
    "start_time": "2025-04-14T13:27:25.925Z"
   },
   {
    "duration": 168,
    "start_time": "2025-04-14T13:27:29.433Z"
   },
   {
    "duration": 246,
    "start_time": "2025-04-14T13:27:38.555Z"
   },
   {
    "duration": 150,
    "start_time": "2025-04-14T13:27:39.408Z"
   },
   {
    "duration": 163,
    "start_time": "2025-04-14T13:27:41.618Z"
   },
   {
    "duration": 3669,
    "start_time": "2025-04-14T13:27:44.724Z"
   },
   {
    "duration": 5,
    "start_time": "2025-04-14T13:27:48.919Z"
   },
   {
    "duration": 23,
    "start_time": "2025-04-14T13:27:49.770Z"
   },
   {
    "duration": 60,
    "start_time": "2025-04-14T13:27:50.618Z"
   },
   {
    "duration": 178,
    "start_time": "2025-04-14T13:27:51.623Z"
   },
   {
    "duration": 36,
    "start_time": "2025-04-14T13:27:57.190Z"
   },
   {
    "duration": 151,
    "start_time": "2025-04-14T13:27:57.984Z"
   },
   {
    "duration": 376,
    "start_time": "2025-04-14T13:28:01.442Z"
   },
   {
    "duration": 207,
    "start_time": "2025-04-14T13:28:02.620Z"
   },
   {
    "duration": 203,
    "start_time": "2025-04-14T13:28:04.552Z"
   },
   {
    "duration": 110,
    "start_time": "2025-04-14T13:28:08.444Z"
   },
   {
    "duration": 313,
    "start_time": "2025-04-14T13:28:09.221Z"
   },
   {
    "duration": 102,
    "start_time": "2025-04-14T13:28:15.152Z"
   },
   {
    "duration": 1021,
    "start_time": "2025-04-14T13:28:19.442Z"
   },
   {
    "duration": 172,
    "start_time": "2025-04-14T13:28:28.924Z"
   },
   {
    "duration": 250,
    "start_time": "2025-04-14T13:28:30.106Z"
   },
   {
    "duration": 70,
    "start_time": "2025-04-14T13:28:33.935Z"
   },
   {
    "duration": 496,
    "start_time": "2025-04-14T13:28:34.984Z"
   },
   {
    "duration": 76,
    "start_time": "2025-04-14T13:28:36.625Z"
   },
   {
    "duration": 545,
    "start_time": "2025-04-14T13:28:39.204Z"
   },
   {
    "duration": 3122,
    "start_time": "2025-04-14T13:47:27.191Z"
   },
   {
    "duration": 4,
    "start_time": "2025-04-14T13:47:31.197Z"
   },
   {
    "duration": 31,
    "start_time": "2025-04-14T13:47:32.798Z"
   },
   {
    "duration": 117,
    "start_time": "2025-04-14T13:47:34.221Z"
   },
   {
    "duration": 101,
    "start_time": "2025-04-14T13:47:39.373Z"
   },
   {
    "duration": 642,
    "start_time": "2025-04-14T13:47:43.547Z"
   },
   {
    "duration": 177,
    "start_time": "2025-04-14T13:47:51.620Z"
   },
   {
    "duration": 678,
    "start_time": "2025-04-14T13:47:56.214Z"
   },
   {
    "duration": 163,
    "start_time": "2025-04-14T13:47:57.088Z"
   },
   {
    "duration": 232,
    "start_time": "2025-04-14T13:48:05.409Z"
   },
   {
    "duration": 110,
    "start_time": "2025-04-14T13:48:06.370Z"
   },
   {
    "duration": 974,
    "start_time": "2025-04-14T13:48:07.201Z"
   },
   {
    "duration": 223,
    "start_time": "2025-04-14T13:48:08.559Z"
   },
   {
    "duration": 8,
    "start_time": "2025-04-14T13:48:13.179Z"
   },
   {
    "duration": 72,
    "start_time": "2025-04-14T13:48:14.035Z"
   },
   {
    "duration": 613,
    "start_time": "2025-04-14T13:48:16.970Z"
   },
   {
    "duration": 99,
    "start_time": "2025-04-14T13:48:23.738Z"
   },
   {
    "duration": 90,
    "start_time": "2025-04-14T13:48:25.309Z"
   },
   {
    "duration": 200,
    "start_time": "2025-04-14T13:48:26.356Z"
   },
   {
    "duration": 250,
    "start_time": "2025-04-14T13:48:35.068Z"
   },
   {
    "duration": 151,
    "start_time": "2025-04-14T13:48:36.032Z"
   },
   {
    "duration": 169,
    "start_time": "2025-04-14T13:48:37.286Z"
   },
   {
    "duration": 3756,
    "start_time": "2025-04-14T13:48:41.171Z"
   },
   {
    "duration": 5,
    "start_time": "2025-04-14T13:48:45.694Z"
   },
   {
    "duration": 22,
    "start_time": "2025-04-14T13:48:46.667Z"
   },
   {
    "duration": 63,
    "start_time": "2025-04-14T13:48:47.547Z"
   },
   {
    "duration": 181,
    "start_time": "2025-04-14T13:48:48.560Z"
   },
   {
    "duration": 36,
    "start_time": "2025-04-14T13:48:53.668Z"
   },
   {
    "duration": 152,
    "start_time": "2025-04-14T13:48:54.483Z"
   },
   {
    "duration": 344,
    "start_time": "2025-04-14T13:48:57.824Z"
   },
   {
    "duration": 207,
    "start_time": "2025-04-14T13:48:58.949Z"
   },
   {
    "duration": 199,
    "start_time": "2025-04-14T13:48:59.863Z"
   },
   {
    "duration": 108,
    "start_time": "2025-04-14T13:49:04.504Z"
   },
   {
    "duration": 297,
    "start_time": "2025-04-14T13:49:05.416Z"
   },
   {
    "duration": 98,
    "start_time": "2025-04-14T13:49:12.012Z"
   },
   {
    "duration": 1041,
    "start_time": "2025-04-14T13:49:16.362Z"
   },
   {
    "duration": 179,
    "start_time": "2025-04-14T13:49:21.344Z"
   },
   {
    "duration": 253,
    "start_time": "2025-04-14T13:49:22.544Z"
   },
   {
    "duration": 67,
    "start_time": "2025-04-14T13:49:26.816Z"
   },
   {
    "duration": 507,
    "start_time": "2025-04-14T13:49:27.756Z"
   },
   {
    "duration": 60,
    "start_time": "2025-04-14T13:49:29.437Z"
   },
   {
    "duration": 595,
    "start_time": "2025-04-14T13:49:31.744Z"
   },
   {
    "duration": 121,
    "start_time": "2025-04-14T13:49:40.147Z"
   },
   {
    "duration": 54,
    "start_time": "2025-04-14T13:49:41.103Z"
   },
   {
    "duration": 36,
    "start_time": "2025-04-14T13:49:44.673Z"
   },
   {
    "duration": 20,
    "start_time": "2025-04-14T13:49:45.873Z"
   },
   {
    "duration": 4237,
    "start_time": "2025-04-15T13:21:37.135Z"
   },
   {
    "duration": 5,
    "start_time": "2025-04-15T13:21:42.254Z"
   },
   {
    "duration": 37,
    "start_time": "2025-04-15T13:21:43.802Z"
   },
   {
    "duration": 145,
    "start_time": "2025-04-15T13:21:44.917Z"
   },
   {
    "duration": 115,
    "start_time": "2025-04-15T13:21:49.530Z"
   },
   {
    "duration": 801,
    "start_time": "2025-04-15T13:21:54.144Z"
   },
   {
    "duration": 256,
    "start_time": "2025-04-15T13:22:00.341Z"
   },
   {
    "duration": 777,
    "start_time": "2025-04-15T13:22:04.155Z"
   },
   {
    "duration": 190,
    "start_time": "2025-04-15T13:22:04.956Z"
   },
   {
    "duration": 254,
    "start_time": "2025-04-15T13:22:11.945Z"
   },
   {
    "duration": 104,
    "start_time": "2025-04-15T13:22:12.809Z"
   },
   {
    "duration": 1026,
    "start_time": "2025-04-15T13:22:13.629Z"
   },
   {
    "duration": 250,
    "start_time": "2025-04-15T13:22:14.892Z"
   },
   {
    "duration": 9,
    "start_time": "2025-04-15T13:22:21.428Z"
   },
   {
    "duration": 80,
    "start_time": "2025-04-15T13:22:22.139Z"
   },
   {
    "duration": 786,
    "start_time": "2025-04-15T13:24:43.397Z"
   },
   {
    "duration": 131,
    "start_time": "2025-04-15T13:24:46.358Z"
   },
   {
    "duration": 165,
    "start_time": "2025-04-15T13:24:48.349Z"
   },
   {
    "duration": 110,
    "start_time": "2025-04-15T13:27:12.115Z"
   },
   {
    "duration": 166,
    "start_time": "2025-04-15T13:29:59.448Z"
   },
   {
    "duration": 322,
    "start_time": "2025-04-15T13:33:45.751Z"
   },
   {
    "duration": 298,
    "start_time": "2025-04-15T13:34:05.804Z"
   },
   {
    "duration": 141,
    "start_time": "2025-04-15T13:34:31.039Z"
   },
   {
    "duration": 293,
    "start_time": "2025-04-15T13:37:23.602Z"
   },
   {
    "duration": 3291,
    "start_time": "2025-04-15T13:37:40.266Z"
   },
   {
    "duration": 5,
    "start_time": "2025-04-15T13:37:44.433Z"
   },
   {
    "duration": 38,
    "start_time": "2025-04-15T13:37:45.992Z"
   },
   {
    "duration": 140,
    "start_time": "2025-04-15T13:37:47.325Z"
   },
   {
    "duration": 117,
    "start_time": "2025-04-15T13:37:52.304Z"
   },
   {
    "duration": 787,
    "start_time": "2025-04-15T13:37:57.205Z"
   },
   {
    "duration": 217,
    "start_time": "2025-04-15T13:38:01.626Z"
   },
   {
    "duration": 764,
    "start_time": "2025-04-15T13:38:06.090Z"
   },
   {
    "duration": 184,
    "start_time": "2025-04-15T13:38:06.955Z"
   },
   {
    "duration": 257,
    "start_time": "2025-04-15T13:38:14.069Z"
   },
   {
    "duration": 104,
    "start_time": "2025-04-15T13:38:14.994Z"
   },
   {
    "duration": 1163,
    "start_time": "2025-04-15T13:38:15.904Z"
   },
   {
    "duration": 279,
    "start_time": "2025-04-15T13:38:17.071Z"
   },
   {
    "duration": 9,
    "start_time": "2025-04-15T13:38:23.238Z"
   },
   {
    "duration": 84,
    "start_time": "2025-04-15T13:38:23.945Z"
   },
   {
    "duration": 749,
    "start_time": "2025-04-15T13:38:27.215Z"
   },
   {
    "duration": 116,
    "start_time": "2025-04-15T13:38:32.096Z"
   },
   {
    "duration": 279,
    "start_time": "2025-04-15T13:38:44.991Z"
   },
   {
    "duration": 2,
    "start_time": "2025-04-15T13:39:04.443Z"
   },
   {
    "duration": 3533,
    "start_time": "2025-04-15T13:39:50.401Z"
   },
   {
    "duration": 5,
    "start_time": "2025-04-15T13:39:54.876Z"
   },
   {
    "duration": 38,
    "start_time": "2025-04-15T13:39:56.148Z"
   },
   {
    "duration": 135,
    "start_time": "2025-04-15T13:39:57.715Z"
   },
   {
    "duration": 116,
    "start_time": "2025-04-15T13:40:01.121Z"
   },
   {
    "duration": 772,
    "start_time": "2025-04-15T13:40:04.648Z"
   },
   {
    "duration": 211,
    "start_time": "2025-04-15T13:40:10.062Z"
   },
   {
    "duration": 765,
    "start_time": "2025-04-15T13:40:14.365Z"
   },
   {
    "duration": 214,
    "start_time": "2025-04-15T13:40:15.132Z"
   },
   {
    "duration": 257,
    "start_time": "2025-04-15T13:40:20.519Z"
   },
   {
    "duration": 111,
    "start_time": "2025-04-15T13:40:21.552Z"
   },
   {
    "duration": 1146,
    "start_time": "2025-04-15T13:40:22.292Z"
   },
   {
    "duration": 278,
    "start_time": "2025-04-15T13:40:23.441Z"
   },
   {
    "duration": 9,
    "start_time": "2025-04-15T13:40:28.888Z"
   },
   {
    "duration": 92,
    "start_time": "2025-04-15T13:40:29.495Z"
   },
   {
    "duration": 761,
    "start_time": "2025-04-15T13:40:34.171Z"
   },
   {
    "duration": 129,
    "start_time": "2025-04-15T13:40:37.123Z"
   },
   {
    "duration": 333,
    "start_time": "2025-04-15T13:40:38.824Z"
   },
   {
    "duration": 369,
    "start_time": "2025-04-15T13:42:33.567Z"
   },
   {
    "duration": 3,
    "start_time": "2025-04-15T13:42:55.417Z"
   },
   {
    "duration": 3814,
    "start_time": "2025-04-15T13:46:48.664Z"
   },
   {
    "duration": 5,
    "start_time": "2025-04-15T13:46:53.763Z"
   },
   {
    "duration": 42,
    "start_time": "2025-04-15T13:46:55.496Z"
   },
   {
    "duration": 139,
    "start_time": "2025-04-15T13:46:57.219Z"
   },
   {
    "duration": 119,
    "start_time": "2025-04-15T13:47:00.959Z"
   },
   {
    "duration": 800,
    "start_time": "2025-04-15T13:47:04.806Z"
   },
   {
    "duration": 213,
    "start_time": "2025-04-15T13:47:09.906Z"
   },
   {
    "duration": 774,
    "start_time": "2025-04-15T13:47:13.665Z"
   },
   {
    "duration": 197,
    "start_time": "2025-04-15T13:47:14.442Z"
   },
   {
    "duration": 269,
    "start_time": "2025-04-15T13:47:20.041Z"
   },
   {
    "duration": 109,
    "start_time": "2025-04-15T13:47:21.005Z"
   },
   {
    "duration": 1132,
    "start_time": "2025-04-15T13:47:22.065Z"
   },
   {
    "duration": 273,
    "start_time": "2025-04-15T13:47:23.940Z"
   },
   {
    "duration": 10,
    "start_time": "2025-04-15T13:47:27.951Z"
   },
   {
    "duration": 91,
    "start_time": "2025-04-15T13:47:28.716Z"
   },
   {
    "duration": 780,
    "start_time": "2025-04-15T13:47:32.993Z"
   },
   {
    "duration": 127,
    "start_time": "2025-04-15T13:47:37.672Z"
   },
   {
    "duration": 322,
    "start_time": "2025-04-15T13:47:39.949Z"
   },
   {
    "duration": 429,
    "start_time": "2025-04-15T13:47:43.778Z"
   },
   {
    "duration": 344,
    "start_time": "2025-04-15T13:48:09.187Z"
   },
   {
    "duration": 202,
    "start_time": "2025-04-15T13:48:10.380Z"
   },
   {
    "duration": 225,
    "start_time": "2025-04-15T13:48:12.772Z"
   },
   {
    "duration": 5096,
    "start_time": "2025-04-15T13:48:22.225Z"
   },
   {
    "duration": 5,
    "start_time": "2025-04-15T13:48:28.012Z"
   },
   {
    "duration": 31,
    "start_time": "2025-04-15T13:48:29.100Z"
   },
   {
    "duration": 81,
    "start_time": "2025-04-15T13:48:30.007Z"
   },
   {
    "duration": 239,
    "start_time": "2025-04-15T13:48:31.011Z"
   },
   {
    "duration": 50,
    "start_time": "2025-04-15T13:48:43.401Z"
   },
   {
    "duration": 168,
    "start_time": "2025-04-15T13:48:44.363Z"
   },
   {
    "duration": 529,
    "start_time": "2025-04-15T13:48:56.168Z"
   },
   {
    "duration": 265,
    "start_time": "2025-04-15T13:48:57.035Z"
   },
   {
    "duration": 238,
    "start_time": "2025-04-15T13:48:58.389Z"
   },
   {
    "duration": 164,
    "start_time": "2025-04-15T13:49:06.898Z"
   },
   {
    "duration": 316,
    "start_time": "2025-04-15T13:49:07.770Z"
   },
   {
    "duration": 138,
    "start_time": "2025-04-15T13:49:27.791Z"
   },
   {
    "duration": 1260,
    "start_time": "2025-04-15T13:49:31.171Z"
   },
   {
    "duration": 245,
    "start_time": "2025-04-15T13:49:53.038Z"
   },
   {
    "duration": 295,
    "start_time": "2025-04-15T13:49:54.004Z"
   },
   {
    "duration": 83,
    "start_time": "2025-04-15T13:50:11.716Z"
   },
   {
    "duration": 578,
    "start_time": "2025-04-15T13:50:12.556Z"
   },
   {
    "duration": 80,
    "start_time": "2025-04-15T13:50:13.458Z"
   },
   {
    "duration": 565,
    "start_time": "2025-04-15T13:50:14.642Z"
   },
   {
    "duration": 145,
    "start_time": "2025-04-15T13:50:38.023Z"
   },
   {
    "duration": 67,
    "start_time": "2025-04-15T13:50:39.048Z"
   },
   {
    "duration": 46,
    "start_time": "2025-04-15T13:50:43.618Z"
   },
   {
    "duration": 24,
    "start_time": "2025-04-15T13:50:44.860Z"
   },
   {
    "duration": 4246,
    "start_time": "2025-04-15T13:51:09.766Z"
   },
   {
    "duration": 5,
    "start_time": "2025-04-15T13:51:14.804Z"
   },
   {
    "duration": 37,
    "start_time": "2025-04-15T13:51:16.092Z"
   },
   {
    "duration": 139,
    "start_time": "2025-04-15T13:51:17.060Z"
   },
   {
    "duration": 148,
    "start_time": "2025-04-15T13:51:26.208Z"
   },
   {
    "duration": 758,
    "start_time": "2025-04-15T13:51:29.942Z"
   },
   {
    "duration": 206,
    "start_time": "2025-04-15T13:51:35.438Z"
   },
   {
    "duration": 734,
    "start_time": "2025-04-15T13:51:40.316Z"
   },
   {
    "duration": 192,
    "start_time": "2025-04-15T13:51:41.052Z"
   },
   {
    "duration": 274,
    "start_time": "2025-04-15T13:51:46.168Z"
   },
   {
    "duration": 103,
    "start_time": "2025-04-15T13:51:47.218Z"
   },
   {
    "duration": 1122,
    "start_time": "2025-04-15T13:51:48.229Z"
   },
   {
    "duration": 275,
    "start_time": "2025-04-15T13:51:50.216Z"
   },
   {
    "duration": 10,
    "start_time": "2025-04-15T13:51:55.426Z"
   },
   {
    "duration": 81,
    "start_time": "2025-04-15T13:51:56.607Z"
   },
   {
    "duration": 761,
    "start_time": "2025-04-15T13:51:59.959Z"
   },
   {
    "duration": 128,
    "start_time": "2025-04-15T13:52:03.488Z"
   },
   {
    "duration": 308,
    "start_time": "2025-04-15T13:52:04.345Z"
   },
   {
    "duration": 435,
    "start_time": "2025-04-15T13:52:07.937Z"
   },
   {
    "duration": 396,
    "start_time": "2025-04-15T13:52:15.595Z"
   },
   {
    "duration": 224,
    "start_time": "2025-04-15T13:52:16.748Z"
   },
   {
    "duration": 247,
    "start_time": "2025-04-15T13:52:18.005Z"
   },
   {
    "duration": 5122,
    "start_time": "2025-04-15T13:52:22.517Z"
   },
   {
    "duration": 5,
    "start_time": "2025-04-15T13:52:28.468Z"
   },
   {
    "duration": 30,
    "start_time": "2025-04-15T13:52:29.218Z"
   },
   {
    "duration": 86,
    "start_time": "2025-04-15T13:52:29.979Z"
   },
   {
    "duration": 252,
    "start_time": "2025-04-15T13:52:30.803Z"
   },
   {
    "duration": 50,
    "start_time": "2025-04-15T13:52:35.963Z"
   },
   {
    "duration": 172,
    "start_time": "2025-04-15T13:52:36.695Z"
   },
   {
    "duration": 530,
    "start_time": "2025-04-15T13:52:40.959Z"
   },
   {
    "duration": 266,
    "start_time": "2025-04-15T13:52:42.426Z"
   },
   {
    "duration": 260,
    "start_time": "2025-04-15T13:52:43.933Z"
   },
   {
    "duration": 170,
    "start_time": "2025-04-15T13:52:47.928Z"
   },
   {
    "duration": 355,
    "start_time": "2025-04-15T13:52:48.679Z"
   },
   {
    "duration": 136,
    "start_time": "2025-04-15T13:52:53.033Z"
   },
   {
    "duration": 1199,
    "start_time": "2025-04-15T13:52:56.137Z"
   },
   {
    "duration": 248,
    "start_time": "2025-04-15T13:53:03.056Z"
   },
   {
    "duration": 306,
    "start_time": "2025-04-15T13:53:04.007Z"
   },
   {
    "duration": 92,
    "start_time": "2025-04-15T13:53:09.134Z"
   },
   {
    "duration": 594,
    "start_time": "2025-04-15T13:53:10.007Z"
   },
   {
    "duration": 79,
    "start_time": "2025-04-15T13:53:12.850Z"
   },
   {
    "duration": 554,
    "start_time": "2025-04-15T13:53:15.396Z"
   },
   {
    "duration": 139,
    "start_time": "2025-04-15T13:53:21.529Z"
   },
   {
    "duration": 65,
    "start_time": "2025-04-15T13:53:22.945Z"
   },
   {
    "duration": 45,
    "start_time": "2025-04-15T13:53:26.556Z"
   },
   {
    "duration": 23,
    "start_time": "2025-04-15T13:53:28.370Z"
   }
  ],
  "colab": {
   "provenance": []
  },
  "kernelspec": {
   "display_name": "Python 3 (ipykernel)",
   "language": "python",
   "name": "python3"
  },
  "language_info": {
   "codemirror_mode": {
    "name": "ipython",
    "version": 3
   },
   "file_extension": ".py",
   "mimetype": "text/x-python",
   "name": "python",
   "nbconvert_exporter": "python",
   "pygments_lexer": "ipython3",
   "version": "3.9.7"
  },
  "toc": {
   "base_numbering": 1,
   "nav_menu": {},
   "number_sections": true,
   "sideBar": true,
   "skip_h1_title": true,
   "title_cell": "Table of Contents",
   "title_sidebar": "Contents",
   "toc_cell": false,
   "toc_position": {},
   "toc_section_display": true,
   "toc_window_display": false
  }
 },
 "nbformat": 4,
 "nbformat_minor": 1
}
