{
 "cells": [
  {
   "cell_type": "markdown",
   "metadata": {
    "id": "4mJbK1knrJgz"
   },
   "source": [
    "# Проект: Исследование стартапов"
   ]
  },
  {
   "cell_type": "markdown",
   "metadata": {
    "id": "8lQtbsIUyFG6"
   },
   "source": [
    "## Цели и задачи проекта\n",
    "\n",
    "**Цель:** \n",
    "\n",
    "Провести исследовательский анализ рынка для дальнейшего входа на инвестиционный рынок с целью покупки, развития и последующей перепродажей перспектиынх стартапов.\n",
    "\n",
    "**Задачи:**\n",
    "1. Загрузить данные и познакомиться с их содержимым\n",
    "2. Провести предобработку данных\n",
    "3. Провести исследовательский анализ данных:\n",
    "- оценить, можно ли доверять данным о сотрудниках стартапов и их образовании\n",
    "- выявить, что означают покупки за 0 или 1 доллар\n",
    "- узнать какая цена в зависимости от категории стартапов и количества раундов финансирования перед его покупкой\n",
    "- рассчитать и отобразить численные показатели и динамику\n",
    "- выявить показатели и признаки, которые указывают на повышенную вероятность успешной сделки по покупке компании\n",
    "4. Сформулировать итоговые выводы и рекомендации по проведенному анализу"
   ]
  },
  {
   "cell_type": "markdown",
   "metadata": {},
   "source": [
    "## Структура проекта\n",
    "\n",
    "1. Загрузка данных и работа с ними\n",
    "2. Предобработка данных\n",
    "3. Исследовательский анализ данных\n",
    "4. Детальное исследование заведений типа «пиццерия»\n",
    "5. Итоговые выводы"
   ]
  },
  {
   "cell_type": "markdown",
   "metadata": {
    "id": "xqr6uttCrJg0"
   },
   "source": [
    "\n",
    "## Шаг 1. Знакомство с данными: загрузка и первичная предобработка\n",
    "\n",
    "**Для анализа поступили данные:**\n",
    "\n",
    "- `acquisition.csv` - информация о покупках одними компаниями других компаний\n",
    "- `company_and_rounds.csv` - информация о компаниях и раундах финансирования\n",
    "- `degrees.csv` - информация о типе образования сотрудника\n",
    "- `education.csv` - информация об образовании сотрудника\n",
    "- `fund.csv` - информация о фондах\n",
    "- `investment.csv` - информация о раундах инвестирования\n",
    "- `people.csv` - информация о сотрудниках\n",
    "\n",
    "\n",
    "## Описание данных\n",
    "\n",
    "### Описание таблицы `acquisition`\n",
    "- `id` — идентификатор покупки\n",
    "- `acquiring_company_id` — идентификатор покупающей компании\n",
    "- `acquired_company_id` — идентификатор покупаемой компании\n",
    "- `term_code` — варианты расчёта\n",
    "- `price_amount` — сумма сделки\n",
    "- `acquired_at` — дата сделки\n",
    "\n",
    "### Описание таблицы `company_and_rounds`\n",
    "- `company ID` — идентификатор компании\n",
    "- `name` — название компании\n",
    "- `category code` — категория области деятельности компании\n",
    "- `status` — статус компании\n",
    "- `founded at` — дата инвестирования\n",
    "- `closed at` — дата закрытия компании\n",
    "- `domain` — официальный сайт компании\n",
    "- `network username` — ник компании в сети\n",
    "- `country code` — код страны компании\n",
    "- `investment rounds` — число инвестиционных раундов\n",
    "- `funding rounds` — число раундов финансирования\n",
    "- `funding total` — сумма финансирования\n",
    "- `milestones` — вехи финансирования\n",
    "- `funding round id` — идентификатор этапа финансирования\n",
    "- `company id` — идентификатор компании\n",
    "- `funded at` — дата финансирования\n",
    "- `funding round type` — тип финансирования\n",
    "- `raised amount` — сумма финансирования\n",
    "- `pre money valuation` — предварительная денежная оценка\n",
    "- `participants` — число участников\n",
    "- `is first round` — является ли раунд первым\n",
    "- `is last round` — является раунд последним\n",
    "- `milestones` — вехи финансирования\n",
    "\n",
    "### Описание таблицы `fund`\n",
    "- `id` — идентификатор фонда\n",
    "- `name` — название фонда\n",
    "- `category_code` — категория области деятельности компании\n",
    "- `founded_at` — дата создания фонда\n",
    "- `domain` — сайт фонда\n",
    "- `network_username` — ник фонда в сети\n",
    "- `country_code` — код страны фонда\n",
    "- `investment_rounds` — число инвестиционных раундов\n",
    "- `invested_companies` — число профинансированных компаний\n",
    "- `milestones` — вехи финансирования\n",
    "\n",
    "### Описание таблицы` investment`\n",
    "- `id` — идентификатор этапа инвестирования\n",
    "- `funding_round_id` — идентификатор раунда инвестирования\n",
    "- `company_id` — индентификатор компании\n",
    "- `funding_round_type` — тип финансирования\n",
    "- `fund_id` — идентификатор фонда\n",
    "\n",
    "### Описание таблицы `education`\n",
    "- `id` — идентификатор записи об образовании\n",
    "- `person_id` — идентификатор работника\n",
    "- `instituition` — название учебного заведения\n",
    "- `graduated_at` — дата получения образования\n",
    "\n",
    "### Описание таблицы `people`\n",
    "- `id` — идентификатор сотрудника\n",
    "- `first_name` — имя сотрудника\n",
    "- `last_name` — фамилия сотрудника\n",
    "- `company_id` — идентификатор компании\n",
    "- `network_username` — ник в социальных сетях\n",
    "- `graduated_at` — дата получения образования\n",
    "\n",
    "### Описание таблицы `degrees`\n",
    "- `id` — идентификатор записи\n",
    "- `object_id` — идентификатор сотрудника\n",
    "- `degree_type` — тип образования\n",
    "- `subject` — специальность"
   ]
  },
  {
   "cell_type": "markdown",
   "metadata": {
    "id": "W_W4jRazrJg0",
    "vscode": {
     "languageId": "plaintext"
    }
   },
   "source": [
    "### 1.1. Вывод общей информации, исправление названия столбцов\n",
    "\n",
    "Загрузим библиотеки и таблицы. Будем использовать pandas и библиотеки визуализации данных matplotlib и seaborn. Данные датасетов сохраним в переменных.\n",
    "\n",
    "* Загрузите все данные по проекту.\n",
    "\n",
    "* Проверьте названия столбцов и есть ли в датасетах полные дубликаты строк.\n",
    "\n",
    "* Выведите информацию, которая необходима вам для принятия решений о предобработке, для каждого из датасетов."
   ]
  },
  {
   "cell_type": "code",
   "execution_count": 1,
   "metadata": {},
   "outputs": [],
   "source": [
    "# Импортируем библиотеки\n",
    "import pandas as pd\n",
    "\n",
    "# Загружаем библиотеки для визуализации данных\n",
    "import matplotlib.pyplot as plt\n",
    "import seaborn as sns"
   ]
  },
  {
   "cell_type": "raw",
   "metadata": {},
   "source": [
    "# Выгружаем данные в переменные\n",
    "acquisition = pd.read_csv('https://code.s3.yandex.net/datasets/acquisition.csv')\n",
    "company_and_rounds = pd.read_csv('https://code.s3.yandex.net/datasets/company_and_rounds.csv')\n",
    "fund = pd.read_csv('https://code.s3.yandex.net/datasets/fund.csv')\n",
    "investment = pd.read_csv('https://code.s3.yandex.net/datasets/investment.csv')\n",
    "education = pd.read_csv('https://code.s3.yandex.net/datasets/education.csv')\n",
    "people = pd.read_csv('https://code.s3.yandex.net/datasets/people.csv')\n",
    "degrees = pd.read_csv('https://code.s3.yandex.net/datasets/degrees.csv')"
   ]
  },
  {
   "cell_type": "code",
   "execution_count": 2,
   "metadata": {},
   "outputs": [],
   "source": [
    "# Создаем отдельную переменную для повторяющейся части датасетов\n",
    "base_url = 'https://code.s3.yandex.net/datasets/'\n",
    "\n",
    "# Выгружаем данные в переменные\n",
    "acquisition = pd.read_csv(base_url + 'acquisition.csv')\n",
    "company_and_rounds = pd.read_csv(base_url + 'company_and_rounds.csv')\n",
    "fund = pd.read_csv(base_url + 'fund.csv')\n",
    "investment = pd.read_csv(base_url + 'investment.csv')\n",
    "education = pd.read_csv(base_url + 'education.csv')\n",
    "people = pd.read_csv(base_url + 'people.csv')\n",
    "degrees = pd.read_csv(base_url + 'degrees.csv')"
   ]
  },
  {
   "cell_type": "markdown",
   "metadata": {},
   "source": [
    "Познакомимся с данными датасетов — выведем первые строки методом `head()`, а информацию о датафрейме методом `info()`:"
   ]
  },
  {
   "cell_type": "code",
   "execution_count": 3,
   "metadata": {},
   "outputs": [
    {
     "data": {
      "text/html": [
       "<div>\n",
       "<style scoped>\n",
       "    .dataframe tbody tr th:only-of-type {\n",
       "        vertical-align: middle;\n",
       "    }\n",
       "\n",
       "    .dataframe tbody tr th {\n",
       "        vertical-align: top;\n",
       "    }\n",
       "\n",
       "    .dataframe thead th {\n",
       "        text-align: right;\n",
       "    }\n",
       "</style>\n",
       "<table border=\"1\" class=\"dataframe\">\n",
       "  <thead>\n",
       "    <tr style=\"text-align: right;\">\n",
       "      <th></th>\n",
       "      <th>id</th>\n",
       "      <th>acquiring_company_id</th>\n",
       "      <th>acquired_company_id</th>\n",
       "      <th>term_code</th>\n",
       "      <th>price_amount</th>\n",
       "      <th>acquired_at</th>\n",
       "    </tr>\n",
       "  </thead>\n",
       "  <tbody>\n",
       "    <tr>\n",
       "      <th>0</th>\n",
       "      <td>1</td>\n",
       "      <td>11</td>\n",
       "      <td>10</td>\n",
       "      <td>NaN</td>\n",
       "      <td>20000000</td>\n",
       "      <td>2007-05-30</td>\n",
       "    </tr>\n",
       "    <tr>\n",
       "      <th>1</th>\n",
       "      <td>7</td>\n",
       "      <td>59</td>\n",
       "      <td>72</td>\n",
       "      <td>cash</td>\n",
       "      <td>60000000</td>\n",
       "      <td>2007-07-01</td>\n",
       "    </tr>\n",
       "    <tr>\n",
       "      <th>2</th>\n",
       "      <td>8</td>\n",
       "      <td>24</td>\n",
       "      <td>132</td>\n",
       "      <td>cash</td>\n",
       "      <td>280000000</td>\n",
       "      <td>2007-05-01</td>\n",
       "    </tr>\n",
       "    <tr>\n",
       "      <th>3</th>\n",
       "      <td>9</td>\n",
       "      <td>59</td>\n",
       "      <td>155</td>\n",
       "      <td>cash</td>\n",
       "      <td>100000000</td>\n",
       "      <td>2007-06-01</td>\n",
       "    </tr>\n",
       "    <tr>\n",
       "      <th>4</th>\n",
       "      <td>10</td>\n",
       "      <td>212</td>\n",
       "      <td>215</td>\n",
       "      <td>cash</td>\n",
       "      <td>25000000</td>\n",
       "      <td>2007-07-01</td>\n",
       "    </tr>\n",
       "  </tbody>\n",
       "</table>\n",
       "</div>"
      ],
      "text/plain": [
       "   id  acquiring_company_id  acquired_company_id term_code  price_amount  \\\n",
       "0   1                    11                   10       NaN      20000000   \n",
       "1   7                    59                   72      cash      60000000   \n",
       "2   8                    24                  132      cash     280000000   \n",
       "3   9                    59                  155      cash     100000000   \n",
       "4  10                   212                  215      cash      25000000   \n",
       "\n",
       "  acquired_at  \n",
       "0  2007-05-30  \n",
       "1  2007-07-01  \n",
       "2  2007-05-01  \n",
       "3  2007-06-01  \n",
       "4  2007-07-01  "
      ]
     },
     "execution_count": 3,
     "metadata": {},
     "output_type": "execute_result"
    }
   ],
   "source": [
    "acquisition.head()"
   ]
  },
  {
   "cell_type": "code",
   "execution_count": 4,
   "metadata": {},
   "outputs": [
    {
     "name": "stdout",
     "output_type": "stream",
     "text": [
      "<class 'pandas.core.frame.DataFrame'>\n",
      "RangeIndex: 9407 entries, 0 to 9406\n",
      "Data columns (total 6 columns):\n",
      " #   Column                Non-Null Count  Dtype \n",
      "---  ------                --------------  ----- \n",
      " 0   id                    9407 non-null   int64 \n",
      " 1   acquiring_company_id  9407 non-null   int64 \n",
      " 2   acquired_company_id   9407 non-null   int64 \n",
      " 3   term_code             1831 non-null   object\n",
      " 4   price_amount          9407 non-null   int64 \n",
      " 5   acquired_at           9378 non-null   object\n",
      "dtypes: int64(4), object(2)\n",
      "memory usage: 441.1+ KB\n"
     ]
    }
   ],
   "source": [
    "acquisition.info()"
   ]
  },
  {
   "cell_type": "markdown",
   "metadata": {},
   "source": [
    "Датасет `acquisition.csv` содержит 6 столбцов и 9407 строк, в которых представлена информация о покупках одними компаниями других компаний\n",
    "\n",
    "После первичного анализа данных можно сделать следующие выводы:\n",
    "- Названия столбцов приведены к единому формату, дополнительная корректировка не требуется\n",
    "- Все данные представлены типами `object`, `int`\n",
    "- Данные в столбцах `acquiring_company_id`,  `acquired_company_id` и `id` - Эти колонки сейчас имеют тип `int64`, но значения небольшие, их можно заменить на менее объёмный тип\n",
    "- `tepm_code` - содержит строки (тип object), можно заменить на `category`, что существенно сэкономит память\n",
    "- `acquired_at` хранит даты в формате строк (object), для удобства анализа и расчётов рекомендуется преобразовать её в тип `datetime`\n",
    "- Проспуски содержатся в столбцах `term_code` и `acquired_at`\n",
    "\n",
    "Судя по первому знакомству с данными, значения в столбцах соответствуют своему описанию"
   ]
  },
  {
   "cell_type": "raw",
   "metadata": {},
   "source": [
    "company_and_rounds.head()"
   ]
  },
  {
   "cell_type": "code",
   "execution_count": 5,
   "metadata": {},
   "outputs": [
    {
     "data": {
      "text/html": [
       "<div>\n",
       "<style scoped>\n",
       "    .dataframe tbody tr th:only-of-type {\n",
       "        vertical-align: middle;\n",
       "    }\n",
       "\n",
       "    .dataframe tbody tr th {\n",
       "        vertical-align: top;\n",
       "    }\n",
       "\n",
       "    .dataframe thead th {\n",
       "        text-align: right;\n",
       "    }\n",
       "</style>\n",
       "<table border=\"1\" class=\"dataframe\">\n",
       "  <thead>\n",
       "    <tr style=\"text-align: right;\">\n",
       "      <th></th>\n",
       "      <th>197698</th>\n",
       "      <th>50343</th>\n",
       "      <th>90488</th>\n",
       "    </tr>\n",
       "  </thead>\n",
       "  <tbody>\n",
       "    <tr>\n",
       "      <th>company  ID</th>\n",
       "      <td>68026.0</td>\n",
       "      <td>186408.0</td>\n",
       "      <td>228029.0</td>\n",
       "    </tr>\n",
       "    <tr>\n",
       "      <th>name</th>\n",
       "      <td>TheCarePost.com</td>\n",
       "      <td>Idea Transplant</td>\n",
       "      <td>VHRA.info: The Vacation Home Rental's Aid</td>\n",
       "    </tr>\n",
       "    <tr>\n",
       "      <th>category  code</th>\n",
       "      <td>NaN</td>\n",
       "      <td>consulting</td>\n",
       "      <td>consulting</td>\n",
       "    </tr>\n",
       "    <tr>\n",
       "      <th>status</th>\n",
       "      <td>operating</td>\n",
       "      <td>operating</td>\n",
       "      <td>operating</td>\n",
       "    </tr>\n",
       "    <tr>\n",
       "      <th>founded  at</th>\n",
       "      <td>NaN</td>\n",
       "      <td>2003-09-01</td>\n",
       "      <td>2011-01-01</td>\n",
       "    </tr>\n",
       "    <tr>\n",
       "      <th>closed  at</th>\n",
       "      <td>NaN</td>\n",
       "      <td>NaN</td>\n",
       "      <td>NaN</td>\n",
       "    </tr>\n",
       "    <tr>\n",
       "      <th>domain</th>\n",
       "      <td>NaN</td>\n",
       "      <td>ideatransplant.com</td>\n",
       "      <td>vhra.info</td>\n",
       "    </tr>\n",
       "    <tr>\n",
       "      <th>network  username</th>\n",
       "      <td>NaN</td>\n",
       "      <td>ideatransplant</td>\n",
       "      <td>VHRA_info</td>\n",
       "    </tr>\n",
       "    <tr>\n",
       "      <th>country  code</th>\n",
       "      <td>NaN</td>\n",
       "      <td>ISR</td>\n",
       "      <td>CAN</td>\n",
       "    </tr>\n",
       "    <tr>\n",
       "      <th>investment  rounds</th>\n",
       "      <td>0.0</td>\n",
       "      <td>0.0</td>\n",
       "      <td>0.0</td>\n",
       "    </tr>\n",
       "    <tr>\n",
       "      <th>funding  rounds</th>\n",
       "      <td>0.0</td>\n",
       "      <td>0.0</td>\n",
       "      <td>0.0</td>\n",
       "    </tr>\n",
       "    <tr>\n",
       "      <th>funding  total</th>\n",
       "      <td>0.0</td>\n",
       "      <td>0.0</td>\n",
       "      <td>0.0</td>\n",
       "    </tr>\n",
       "    <tr>\n",
       "      <th>milestones</th>\n",
       "      <td>1.0</td>\n",
       "      <td>1.0</td>\n",
       "      <td>0.0</td>\n",
       "    </tr>\n",
       "    <tr>\n",
       "      <th>funding  round  id</th>\n",
       "      <td>NaN</td>\n",
       "      <td>NaN</td>\n",
       "      <td>NaN</td>\n",
       "    </tr>\n",
       "    <tr>\n",
       "      <th>company  id</th>\n",
       "      <td>NaN</td>\n",
       "      <td>NaN</td>\n",
       "      <td>NaN</td>\n",
       "    </tr>\n",
       "    <tr>\n",
       "      <th>funded  at</th>\n",
       "      <td>NaN</td>\n",
       "      <td>NaN</td>\n",
       "      <td>NaN</td>\n",
       "    </tr>\n",
       "    <tr>\n",
       "      <th>funding  round  type</th>\n",
       "      <td>NaN</td>\n",
       "      <td>NaN</td>\n",
       "      <td>NaN</td>\n",
       "    </tr>\n",
       "    <tr>\n",
       "      <th>raised  amount</th>\n",
       "      <td>NaN</td>\n",
       "      <td>NaN</td>\n",
       "      <td>NaN</td>\n",
       "    </tr>\n",
       "    <tr>\n",
       "      <th>pre  money  valuation</th>\n",
       "      <td>NaN</td>\n",
       "      <td>NaN</td>\n",
       "      <td>NaN</td>\n",
       "    </tr>\n",
       "    <tr>\n",
       "      <th>participants</th>\n",
       "      <td>NaN</td>\n",
       "      <td>NaN</td>\n",
       "      <td>NaN</td>\n",
       "    </tr>\n",
       "    <tr>\n",
       "      <th>is  first  round</th>\n",
       "      <td>NaN</td>\n",
       "      <td>NaN</td>\n",
       "      <td>NaN</td>\n",
       "    </tr>\n",
       "    <tr>\n",
       "      <th>is  last  round</th>\n",
       "      <td>NaN</td>\n",
       "      <td>NaN</td>\n",
       "      <td>NaN</td>\n",
       "    </tr>\n",
       "  </tbody>\n",
       "</table>\n",
       "</div>"
      ],
      "text/plain": [
       "                                197698              50343   \\\n",
       "company  ID                    68026.0            186408.0   \n",
       "name                   TheCarePost.com     Idea Transplant   \n",
       "category  code                     NaN          consulting   \n",
       "status                       operating           operating   \n",
       "founded  at                        NaN          2003-09-01   \n",
       "closed  at                         NaN                 NaN   \n",
       "domain                             NaN  ideatransplant.com   \n",
       "network  username                  NaN      ideatransplant   \n",
       "country  code                      NaN                 ISR   \n",
       "investment  rounds                 0.0                 0.0   \n",
       "funding  rounds                    0.0                 0.0   \n",
       "funding  total                     0.0                 0.0   \n",
       "milestones                         1.0                 1.0   \n",
       "funding  round  id                 NaN                 NaN   \n",
       "company  id                        NaN                 NaN   \n",
       "funded  at                         NaN                 NaN   \n",
       "funding  round  type               NaN                 NaN   \n",
       "raised  amount                     NaN                 NaN   \n",
       "pre  money  valuation              NaN                 NaN   \n",
       "participants                       NaN                 NaN   \n",
       "is  first  round                   NaN                 NaN   \n",
       "is  last  round                    NaN                 NaN   \n",
       "\n",
       "                                                          90488   \n",
       "company  ID                                             228029.0  \n",
       "name                   VHRA.info: The Vacation Home Rental's Aid  \n",
       "category  code                                        consulting  \n",
       "status                                                 operating  \n",
       "founded  at                                           2011-01-01  \n",
       "closed  at                                                   NaN  \n",
       "domain                                                 vhra.info  \n",
       "network  username                                      VHRA_info  \n",
       "country  code                                                CAN  \n",
       "investment  rounds                                           0.0  \n",
       "funding  rounds                                              0.0  \n",
       "funding  total                                               0.0  \n",
       "milestones                                                   0.0  \n",
       "funding  round  id                                           NaN  \n",
       "company  id                                                  NaN  \n",
       "funded  at                                                   NaN  \n",
       "funding  round  type                                         NaN  \n",
       "raised  amount                                               NaN  \n",
       "pre  money  valuation                                        NaN  \n",
       "participants                                                 NaN  \n",
       "is  first  round                                             NaN  \n",
       "is  last  round                                              NaN  "
      ]
     },
     "execution_count": 5,
     "metadata": {},
     "output_type": "execute_result"
    }
   ],
   "source": [
    "company_and_rounds.sample(3).T"
   ]
  },
  {
   "cell_type": "code",
   "execution_count": 6,
   "metadata": {},
   "outputs": [
    {
     "name": "stdout",
     "output_type": "stream",
     "text": [
      "<class 'pandas.core.frame.DataFrame'>\n",
      "RangeIndex: 217774 entries, 0 to 217773\n",
      "Data columns (total 22 columns):\n",
      " #   Column                 Non-Null Count   Dtype  \n",
      "---  ------                 --------------   -----  \n",
      " 0   company  ID            217472 non-null  float64\n",
      " 1   name                   217472 non-null  object \n",
      " 2   category  code         143886 non-null  object \n",
      " 3   status                 217472 non-null  object \n",
      " 4   founded  at            109956 non-null  object \n",
      " 5   closed  at             3449 non-null    object \n",
      " 6   domain                 147159 non-null  object \n",
      " 7   network  username      95534 non-null   object \n",
      " 8   country  code          108607 non-null  object \n",
      " 9   investment  rounds     217472 non-null  float64\n",
      " 10  funding  rounds        217472 non-null  float64\n",
      " 11  funding  total         217472 non-null  float64\n",
      " 12  milestones             217472 non-null  float64\n",
      " 13  funding  round  id     52928 non-null   float64\n",
      " 14  company  id            52928 non-null   float64\n",
      " 15  funded  at             52680 non-null   object \n",
      " 16  funding  round  type   52928 non-null   object \n",
      " 17  raised  amount         52928 non-null   float64\n",
      " 18  pre  money  valuation  52928 non-null   float64\n",
      " 19  participants           52928 non-null   float64\n",
      " 20  is  first  round       52928 non-null   float64\n",
      " 21  is  last  round        52928 non-null   float64\n",
      "dtypes: float64(12), object(10)\n",
      "memory usage: 36.6+ MB\n"
     ]
    }
   ],
   "source": [
    "company_and_rounds.info()"
   ]
  },
  {
   "cell_type": "markdown",
   "metadata": {},
   "source": [
    "Датасет `company_and_rounds.csv` содержит 22 столбца и 217774 строк, в которых представлена информация о компаниях и раундах финансирования\n",
    "\n",
    "После первичного анализа данных можно сделать следующие выводы:\n",
    "- Названия столбцов необходимо привести к единому формату (тип snake_case и нижний регистр)\n",
    "- Все данные представлены типами `object`, `float`\n",
    "- Колонки с типом `float64` можно оптимизировать, привести в `int`, т.к. наличие дробной доли в данном случае не несет информации\n",
    "- Столбцы с датами (`founded at`, `closed at`, `funded at`) сейчас имеют тип `object`. Для работы с датами их лучше преобразовать в формат `datetime`\n",
    "- Столбцы с типом `object` могут занимать много памяти, если они содержат повторяющиеся значения, можно заменить их на категориальные `category`.\n",
    "- Во всех столбцах присутствуют пропуски, достаточно большое количество\n",
    "\n",
    "Судя по первому знакомству с данными, значения в столбцах соответствуют своему описанию"
   ]
  },
  {
   "cell_type": "code",
   "execution_count": 7,
   "metadata": {
    "scrolled": false
   },
   "outputs": [
    {
     "data": {
      "text/html": [
       "<div>\n",
       "<style scoped>\n",
       "    .dataframe tbody tr th:only-of-type {\n",
       "        vertical-align: middle;\n",
       "    }\n",
       "\n",
       "    .dataframe tbody tr th {\n",
       "        vertical-align: top;\n",
       "    }\n",
       "\n",
       "    .dataframe thead th {\n",
       "        text-align: right;\n",
       "    }\n",
       "</style>\n",
       "<table border=\"1\" class=\"dataframe\">\n",
       "  <thead>\n",
       "    <tr style=\"text-align: right;\">\n",
       "      <th></th>\n",
       "      <th>id</th>\n",
       "      <th>name</th>\n",
       "      <th>founded_at</th>\n",
       "      <th>domain</th>\n",
       "      <th>network_username</th>\n",
       "      <th>country_code</th>\n",
       "      <th>investment_rounds</th>\n",
       "      <th>invested_companies</th>\n",
       "      <th>milestones</th>\n",
       "    </tr>\n",
       "  </thead>\n",
       "  <tbody>\n",
       "    <tr>\n",
       "      <th>0</th>\n",
       "      <td>13131</td>\n",
       "      <td>NaN</td>\n",
       "      <td>NaN</td>\n",
       "      <td>NaN</td>\n",
       "      <td>NaN</td>\n",
       "      <td>NaN</td>\n",
       "      <td>0</td>\n",
       "      <td>0</td>\n",
       "      <td>0</td>\n",
       "    </tr>\n",
       "    <tr>\n",
       "      <th>1</th>\n",
       "      <td>1</td>\n",
       "      <td>Greylock Partners</td>\n",
       "      <td>1965-01-01</td>\n",
       "      <td>greylock.com</td>\n",
       "      <td>greylockvc</td>\n",
       "      <td>USA</td>\n",
       "      <td>307</td>\n",
       "      <td>196</td>\n",
       "      <td>0</td>\n",
       "    </tr>\n",
       "    <tr>\n",
       "      <th>2</th>\n",
       "      <td>10</td>\n",
       "      <td>Mission Ventures</td>\n",
       "      <td>1996-01-01</td>\n",
       "      <td>missionventures.com</td>\n",
       "      <td>NaN</td>\n",
       "      <td>USA</td>\n",
       "      <td>58</td>\n",
       "      <td>33</td>\n",
       "      <td>0</td>\n",
       "    </tr>\n",
       "    <tr>\n",
       "      <th>3</th>\n",
       "      <td>100</td>\n",
       "      <td>Kapor Enterprises, Inc.</td>\n",
       "      <td>NaN</td>\n",
       "      <td>kei.com</td>\n",
       "      <td>NaN</td>\n",
       "      <td>USA</td>\n",
       "      <td>2</td>\n",
       "      <td>1</td>\n",
       "      <td>0</td>\n",
       "    </tr>\n",
       "    <tr>\n",
       "      <th>4</th>\n",
       "      <td>1000</td>\n",
       "      <td>Speed Ventures</td>\n",
       "      <td>NaN</td>\n",
       "      <td>NaN</td>\n",
       "      <td>NaN</td>\n",
       "      <td>NaN</td>\n",
       "      <td>0</td>\n",
       "      <td>0</td>\n",
       "      <td>1</td>\n",
       "    </tr>\n",
       "    <tr>\n",
       "      <th>5</th>\n",
       "      <td>10000</td>\n",
       "      <td>3x5 Special Opportunity Partners</td>\n",
       "      <td>NaN</td>\n",
       "      <td>NaN</td>\n",
       "      <td>NaN</td>\n",
       "      <td>NaN</td>\n",
       "      <td>4</td>\n",
       "      <td>4</td>\n",
       "      <td>0</td>\n",
       "    </tr>\n",
       "    <tr>\n",
       "      <th>6</th>\n",
       "      <td>10001</td>\n",
       "      <td>Salem Partners</td>\n",
       "      <td>1997-01-01</td>\n",
       "      <td>salempartners.com</td>\n",
       "      <td>NaN</td>\n",
       "      <td>USA</td>\n",
       "      <td>1</td>\n",
       "      <td>1</td>\n",
       "      <td>0</td>\n",
       "    </tr>\n",
       "    <tr>\n",
       "      <th>7</th>\n",
       "      <td>10002</td>\n",
       "      <td>3T Capital</td>\n",
       "      <td>NaN</td>\n",
       "      <td>3tcapital.com</td>\n",
       "      <td>NaN</td>\n",
       "      <td>FRA</td>\n",
       "      <td>3</td>\n",
       "      <td>3</td>\n",
       "      <td>0</td>\n",
       "    </tr>\n",
       "    <tr>\n",
       "      <th>8</th>\n",
       "      <td>10003</td>\n",
       "      <td>Merieux Developpement</td>\n",
       "      <td>2009-01-01</td>\n",
       "      <td>merieux-developpement.com</td>\n",
       "      <td>NaN</td>\n",
       "      <td>FRA</td>\n",
       "      <td>2</td>\n",
       "      <td>2</td>\n",
       "      <td>0</td>\n",
       "    </tr>\n",
       "    <tr>\n",
       "      <th>9</th>\n",
       "      <td>10004</td>\n",
       "      <td>Aquasourca</td>\n",
       "      <td>NaN</td>\n",
       "      <td>aquasourca.com</td>\n",
       "      <td>NaN</td>\n",
       "      <td>FRA</td>\n",
       "      <td>1</td>\n",
       "      <td>1</td>\n",
       "      <td>0</td>\n",
       "    </tr>\n",
       "    <tr>\n",
       "      <th>10</th>\n",
       "      <td>10005</td>\n",
       "      <td>Texas Entrepreneur Networks</td>\n",
       "      <td>2009-01-01</td>\n",
       "      <td>texasenetworks.com</td>\n",
       "      <td>NaN</td>\n",
       "      <td>USA</td>\n",
       "      <td>1</td>\n",
       "      <td>1</td>\n",
       "      <td>0</td>\n",
       "    </tr>\n",
       "    <tr>\n",
       "      <th>11</th>\n",
       "      <td>10007</td>\n",
       "      <td>Precedent Investments</td>\n",
       "      <td>NaN</td>\n",
       "      <td>NaN</td>\n",
       "      <td>NaN</td>\n",
       "      <td>NaN</td>\n",
       "      <td>1</td>\n",
       "      <td>1</td>\n",
       "      <td>0</td>\n",
       "    </tr>\n",
       "    <tr>\n",
       "      <th>12</th>\n",
       "      <td>10008</td>\n",
       "      <td>Navitrio</td>\n",
       "      <td>NaN</td>\n",
       "      <td>navitrio.com</td>\n",
       "      <td>NaN</td>\n",
       "      <td>ISR</td>\n",
       "      <td>1</td>\n",
       "      <td>1</td>\n",
       "      <td>0</td>\n",
       "    </tr>\n",
       "    <tr>\n",
       "      <th>13</th>\n",
       "      <td>1001</td>\n",
       "      <td>Burch Investment Group</td>\n",
       "      <td>NaN</td>\n",
       "      <td>NaN</td>\n",
       "      <td>NaN</td>\n",
       "      <td>USA</td>\n",
       "      <td>1</td>\n",
       "      <td>1</td>\n",
       "      <td>0</td>\n",
       "    </tr>\n",
       "    <tr>\n",
       "      <th>14</th>\n",
       "      <td>10011</td>\n",
       "      <td>DRAW</td>\n",
       "      <td>NaN</td>\n",
       "      <td>NaN</td>\n",
       "      <td>NaN</td>\n",
       "      <td>NaN</td>\n",
       "      <td>0</td>\n",
       "      <td>0</td>\n",
       "      <td>0</td>\n",
       "    </tr>\n",
       "  </tbody>\n",
       "</table>\n",
       "</div>"
      ],
      "text/plain": [
       "       id                              name  founded_at  \\\n",
       "0   13131                               NaN         NaN   \n",
       "1       1                 Greylock Partners  1965-01-01   \n",
       "2      10                  Mission Ventures  1996-01-01   \n",
       "3     100           Kapor Enterprises, Inc.         NaN   \n",
       "4    1000                    Speed Ventures         NaN   \n",
       "5   10000  3x5 Special Opportunity Partners         NaN   \n",
       "6   10001                    Salem Partners  1997-01-01   \n",
       "7   10002                        3T Capital         NaN   \n",
       "8   10003             Merieux Developpement  2009-01-01   \n",
       "9   10004                        Aquasourca         NaN   \n",
       "10  10005       Texas Entrepreneur Networks  2009-01-01   \n",
       "11  10007             Precedent Investments         NaN   \n",
       "12  10008                          Navitrio         NaN   \n",
       "13   1001            Burch Investment Group         NaN   \n",
       "14  10011                              DRAW         NaN   \n",
       "\n",
       "                       domain network_username country_code  \\\n",
       "0                         NaN              NaN          NaN   \n",
       "1                greylock.com       greylockvc          USA   \n",
       "2         missionventures.com              NaN          USA   \n",
       "3                     kei.com              NaN          USA   \n",
       "4                         NaN              NaN          NaN   \n",
       "5                         NaN              NaN          NaN   \n",
       "6           salempartners.com              NaN          USA   \n",
       "7               3tcapital.com              NaN          FRA   \n",
       "8   merieux-developpement.com              NaN          FRA   \n",
       "9              aquasourca.com              NaN          FRA   \n",
       "10         texasenetworks.com              NaN          USA   \n",
       "11                        NaN              NaN          NaN   \n",
       "12               navitrio.com              NaN          ISR   \n",
       "13                        NaN              NaN          USA   \n",
       "14                        NaN              NaN          NaN   \n",
       "\n",
       "    investment_rounds  invested_companies  milestones  \n",
       "0                   0                   0           0  \n",
       "1                 307                 196           0  \n",
       "2                  58                  33           0  \n",
       "3                   2                   1           0  \n",
       "4                   0                   0           1  \n",
       "5                   4                   4           0  \n",
       "6                   1                   1           0  \n",
       "7                   3                   3           0  \n",
       "8                   2                   2           0  \n",
       "9                   1                   1           0  \n",
       "10                  1                   1           0  \n",
       "11                  1                   1           0  \n",
       "12                  1                   1           0  \n",
       "13                  1                   1           0  \n",
       "14                  0                   0           0  "
      ]
     },
     "execution_count": 7,
     "metadata": {},
     "output_type": "execute_result"
    }
   ],
   "source": [
    "fund.head(15)"
   ]
  },
  {
   "cell_type": "code",
   "execution_count": 8,
   "metadata": {},
   "outputs": [
    {
     "name": "stdout",
     "output_type": "stream",
     "text": [
      "<class 'pandas.core.frame.DataFrame'>\n",
      "RangeIndex: 11652 entries, 0 to 11651\n",
      "Data columns (total 9 columns):\n",
      " #   Column              Non-Null Count  Dtype \n",
      "---  ------              --------------  ----- \n",
      " 0   id                  11652 non-null  int64 \n",
      " 1   name                11650 non-null  object\n",
      " 2   founded_at          4605 non-null   object\n",
      " 3   domain              7362 non-null   object\n",
      " 4   network_username    2149 non-null   object\n",
      " 5   country_code        7053 non-null   object\n",
      " 6   investment_rounds   11652 non-null  int64 \n",
      " 7   invested_companies  11652 non-null  int64 \n",
      " 8   milestones          11652 non-null  int64 \n",
      "dtypes: int64(4), object(5)\n",
      "memory usage: 819.4+ KB\n"
     ]
    }
   ],
   "source": [
    "fund.info()"
   ]
  },
  {
   "cell_type": "markdown",
   "metadata": {},
   "source": [
    "Датасет `fund.csv` содержит 9 столбцов и 11652 строк, в которых представлена информация о фондах\n",
    "\n",
    "После первичного анализа данных можно сделать следующие выводы:\n",
    "- Названия столбцов приведены к единому формату\n",
    "- Все данные представлены типами `object`, `int`\n",
    "- В столбцах с целыми числами `int64` можно сделать изменение с целью оптимизации\n",
    "- Колонка с датами `founded_at` сейчас имеет тип `object`, преобразуем её в формат `datetime`\n",
    "- Пропуски присутствуют в столбцах `name`, `founded_at`, `domain`, `network_username`, `country_code`"
   ]
  },
  {
   "cell_type": "code",
   "execution_count": 9,
   "metadata": {},
   "outputs": [
    {
     "data": {
      "text/html": [
       "<div>\n",
       "<style scoped>\n",
       "    .dataframe tbody tr th:only-of-type {\n",
       "        vertical-align: middle;\n",
       "    }\n",
       "\n",
       "    .dataframe tbody tr th {\n",
       "        vertical-align: top;\n",
       "    }\n",
       "\n",
       "    .dataframe thead th {\n",
       "        text-align: right;\n",
       "    }\n",
       "</style>\n",
       "<table border=\"1\" class=\"dataframe\">\n",
       "  <thead>\n",
       "    <tr style=\"text-align: right;\">\n",
       "      <th></th>\n",
       "      <th>id</th>\n",
       "      <th>funding_round_id</th>\n",
       "      <th>company_id</th>\n",
       "      <th>fund_id</th>\n",
       "    </tr>\n",
       "  </thead>\n",
       "  <tbody>\n",
       "    <tr>\n",
       "      <th>0</th>\n",
       "      <td>1</td>\n",
       "      <td>1</td>\n",
       "      <td>4</td>\n",
       "      <td>1</td>\n",
       "    </tr>\n",
       "    <tr>\n",
       "      <th>1</th>\n",
       "      <td>2</td>\n",
       "      <td>1</td>\n",
       "      <td>4</td>\n",
       "      <td>2</td>\n",
       "    </tr>\n",
       "    <tr>\n",
       "      <th>2</th>\n",
       "      <td>3</td>\n",
       "      <td>3</td>\n",
       "      <td>5</td>\n",
       "      <td>4</td>\n",
       "    </tr>\n",
       "    <tr>\n",
       "      <th>3</th>\n",
       "      <td>4</td>\n",
       "      <td>4</td>\n",
       "      <td>5</td>\n",
       "      <td>1</td>\n",
       "    </tr>\n",
       "    <tr>\n",
       "      <th>4</th>\n",
       "      <td>5</td>\n",
       "      <td>4</td>\n",
       "      <td>5</td>\n",
       "      <td>5</td>\n",
       "    </tr>\n",
       "  </tbody>\n",
       "</table>\n",
       "</div>"
      ],
      "text/plain": [
       "   id  funding_round_id  company_id  fund_id\n",
       "0   1                 1           4        1\n",
       "1   2                 1           4        2\n",
       "2   3                 3           5        4\n",
       "3   4                 4           5        1\n",
       "4   5                 4           5        5"
      ]
     },
     "execution_count": 9,
     "metadata": {},
     "output_type": "execute_result"
    }
   ],
   "source": [
    "investment.head()"
   ]
  },
  {
   "cell_type": "code",
   "execution_count": 10,
   "metadata": {},
   "outputs": [
    {
     "name": "stdout",
     "output_type": "stream",
     "text": [
      "<class 'pandas.core.frame.DataFrame'>\n",
      "RangeIndex: 61403 entries, 0 to 61402\n",
      "Data columns (total 4 columns):\n",
      " #   Column            Non-Null Count  Dtype\n",
      "---  ------            --------------  -----\n",
      " 0   id                61403 non-null  int64\n",
      " 1   funding_round_id  61403 non-null  int64\n",
      " 2   company_id        61403 non-null  int64\n",
      " 3   fund_id           61403 non-null  int64\n",
      "dtypes: int64(4)\n",
      "memory usage: 1.9 MB\n"
     ]
    }
   ],
   "source": [
    "investment.info()"
   ]
  },
  {
   "cell_type": "markdown",
   "metadata": {},
   "source": [
    "Датасет `investment.csv` содержит 4 столбца и 61403 строк, в которых представлена  информация о раундах инвестирования\n",
    "\n",
    "После первичного анализа данных можно сделать следующие выводы:\n",
    "- Названия столбцов приведены к единому формату\n",
    "- В таблице все данные представлены в числовом формате `int64`. Чтобы сократить использование памяти, можно провести преобразование типа данных для всех колонок, заменив их на `int32`.\n",
    "- Пропусков в данной таблице нет"
   ]
  },
  {
   "cell_type": "code",
   "execution_count": 11,
   "metadata": {},
   "outputs": [
    {
     "data": {
      "text/html": [
       "<div>\n",
       "<style scoped>\n",
       "    .dataframe tbody tr th:only-of-type {\n",
       "        vertical-align: middle;\n",
       "    }\n",
       "\n",
       "    .dataframe tbody tr th {\n",
       "        vertical-align: top;\n",
       "    }\n",
       "\n",
       "    .dataframe thead th {\n",
       "        text-align: right;\n",
       "    }\n",
       "</style>\n",
       "<table border=\"1\" class=\"dataframe\">\n",
       "  <thead>\n",
       "    <tr style=\"text-align: right;\">\n",
       "      <th></th>\n",
       "      <th>id</th>\n",
       "      <th>person_id</th>\n",
       "      <th>instituition</th>\n",
       "      <th>graduated_at</th>\n",
       "    </tr>\n",
       "  </thead>\n",
       "  <tbody>\n",
       "    <tr>\n",
       "      <th>0</th>\n",
       "      <td>1</td>\n",
       "      <td>6117</td>\n",
       "      <td>NaN</td>\n",
       "      <td>NaN</td>\n",
       "    </tr>\n",
       "    <tr>\n",
       "      <th>1</th>\n",
       "      <td>2</td>\n",
       "      <td>6136</td>\n",
       "      <td>Washington University, St. Louis</td>\n",
       "      <td>1990-01-01</td>\n",
       "    </tr>\n",
       "    <tr>\n",
       "      <th>2</th>\n",
       "      <td>3</td>\n",
       "      <td>6136</td>\n",
       "      <td>Boston University</td>\n",
       "      <td>1992-01-01</td>\n",
       "    </tr>\n",
       "    <tr>\n",
       "      <th>3</th>\n",
       "      <td>4</td>\n",
       "      <td>6005</td>\n",
       "      <td>University of Greenwich</td>\n",
       "      <td>2006-01-01</td>\n",
       "    </tr>\n",
       "    <tr>\n",
       "      <th>4</th>\n",
       "      <td>5</td>\n",
       "      <td>5832</td>\n",
       "      <td>Rice University</td>\n",
       "      <td>NaN</td>\n",
       "    </tr>\n",
       "  </tbody>\n",
       "</table>\n",
       "</div>"
      ],
      "text/plain": [
       "   id  person_id                      instituition graduated_at\n",
       "0   1       6117                               NaN          NaN\n",
       "1   2       6136  Washington University, St. Louis   1990-01-01\n",
       "2   3       6136                 Boston University   1992-01-01\n",
       "3   4       6005           University of Greenwich   2006-01-01\n",
       "4   5       5832                   Rice University          NaN"
      ]
     },
     "execution_count": 11,
     "metadata": {},
     "output_type": "execute_result"
    }
   ],
   "source": [
    "education.head()"
   ]
  },
  {
   "cell_type": "code",
   "execution_count": 12,
   "metadata": {},
   "outputs": [
    {
     "name": "stdout",
     "output_type": "stream",
     "text": [
      "<class 'pandas.core.frame.DataFrame'>\n",
      "RangeIndex: 109610 entries, 0 to 109609\n",
      "Data columns (total 4 columns):\n",
      " #   Column        Non-Null Count   Dtype \n",
      "---  ------        --------------   ----- \n",
      " 0   id            109610 non-null  int64 \n",
      " 1   person_id     109610 non-null  int64 \n",
      " 2   instituition  109555 non-null  object\n",
      " 3   graduated_at  58054 non-null   object\n",
      "dtypes: int64(2), object(2)\n",
      "memory usage: 3.3+ MB\n"
     ]
    }
   ],
   "source": [
    "education.info()"
   ]
  },
  {
   "cell_type": "markdown",
   "metadata": {},
   "source": [
    "Датасет `education.csv` содержит 4 столбца и 109610 строк, в которых представлена информация об образовании сотрудника\n",
    "\n",
    "После первичного анализа данных можно сделать следующие выводы:\n",
    "- Названия столбцов приведены к единому формату\n",
    "- В таблице все данные представлены в типах `int` и `object`\n",
    "- В столбцах с целыми числами `int64` можно сделать изменение с целью оптимизации\n",
    "- Колонка с датами `graduated_at` сейчас имеет тип `object`, преобразуем её в формат `datetime`\n",
    "- Пропуски присутствуют в столбцах с названием учебного заведения и датой получения образования"
   ]
  },
  {
   "cell_type": "code",
   "execution_count": 13,
   "metadata": {},
   "outputs": [
    {
     "data": {
      "text/html": [
       "<div>\n",
       "<style scoped>\n",
       "    .dataframe tbody tr th:only-of-type {\n",
       "        vertical-align: middle;\n",
       "    }\n",
       "\n",
       "    .dataframe tbody tr th {\n",
       "        vertical-align: top;\n",
       "    }\n",
       "\n",
       "    .dataframe thead th {\n",
       "        text-align: right;\n",
       "    }\n",
       "</style>\n",
       "<table border=\"1\" class=\"dataframe\">\n",
       "  <thead>\n",
       "    <tr style=\"text-align: right;\">\n",
       "      <th></th>\n",
       "      <th>id</th>\n",
       "      <th>first_name</th>\n",
       "      <th>last_name</th>\n",
       "      <th>company_id</th>\n",
       "      <th>network_username</th>\n",
       "    </tr>\n",
       "  </thead>\n",
       "  <tbody>\n",
       "    <tr>\n",
       "      <th>0</th>\n",
       "      <td>10</td>\n",
       "      <td>Mark</td>\n",
       "      <td>Zuckerberg</td>\n",
       "      <td>5.0</td>\n",
       "      <td>NaN</td>\n",
       "    </tr>\n",
       "    <tr>\n",
       "      <th>1</th>\n",
       "      <td>100</td>\n",
       "      <td>Peter</td>\n",
       "      <td>Lester</td>\n",
       "      <td>27.0</td>\n",
       "      <td>NaN</td>\n",
       "    </tr>\n",
       "    <tr>\n",
       "      <th>2</th>\n",
       "      <td>1000</td>\n",
       "      <td>Dr. Steven</td>\n",
       "      <td>E. Saunders</td>\n",
       "      <td>292.0</td>\n",
       "      <td>NaN</td>\n",
       "    </tr>\n",
       "    <tr>\n",
       "      <th>3</th>\n",
       "      <td>10000</td>\n",
       "      <td>Neil</td>\n",
       "      <td>Capel</td>\n",
       "      <td>2526.0</td>\n",
       "      <td>NaN</td>\n",
       "    </tr>\n",
       "    <tr>\n",
       "      <th>4</th>\n",
       "      <td>100000</td>\n",
       "      <td>Sue</td>\n",
       "      <td>Pilsch</td>\n",
       "      <td>NaN</td>\n",
       "      <td>NaN</td>\n",
       "    </tr>\n",
       "  </tbody>\n",
       "</table>\n",
       "</div>"
      ],
      "text/plain": [
       "       id  first_name    last_name  company_id network_username\n",
       "0      10        Mark   Zuckerberg         5.0              NaN\n",
       "1     100       Peter       Lester        27.0              NaN\n",
       "2    1000  Dr. Steven  E. Saunders       292.0              NaN\n",
       "3   10000        Neil        Capel      2526.0              NaN\n",
       "4  100000         Sue       Pilsch         NaN              NaN"
      ]
     },
     "execution_count": 13,
     "metadata": {},
     "output_type": "execute_result"
    }
   ],
   "source": [
    "people.head()"
   ]
  },
  {
   "cell_type": "code",
   "execution_count": 14,
   "metadata": {},
   "outputs": [
    {
     "name": "stdout",
     "output_type": "stream",
     "text": [
      "<class 'pandas.core.frame.DataFrame'>\n",
      "RangeIndex: 226709 entries, 0 to 226708\n",
      "Data columns (total 5 columns):\n",
      " #   Column            Non-Null Count   Dtype  \n",
      "---  ------            --------------   -----  \n",
      " 0   id                226709 non-null  int64  \n",
      " 1   first_name        226704 non-null  object \n",
      " 2   last_name         226708 non-null  object \n",
      " 3   company_id        34615 non-null   float64\n",
      " 4   network_username  38867 non-null   object \n",
      "dtypes: float64(1), int64(1), object(3)\n",
      "memory usage: 8.6+ MB\n"
     ]
    }
   ],
   "source": [
    "people.info()"
   ]
  },
  {
   "cell_type": "markdown",
   "metadata": {},
   "source": [
    "Датасет `people.csv` содержит 5 столбцов и 226709 строк, в которых представлена информация о сотрудниках\n",
    "\n",
    "После первичного анализа данных можно сделать следующие выводы:\n",
    "- Названия столбцов приведены к единому формату\n",
    "- В таблице все данные представлены в типах `int`, `object` и `float`\n",
    "- В столбцах `id` и `company_id` рекомендуется сделать оптимизвцию на тип `int32`\n",
    "- Пропуски присутствуют, в столбцах `company_id ` и `network_username` их особенно большое количество"
   ]
  },
  {
   "cell_type": "code",
   "execution_count": 15,
   "metadata": {},
   "outputs": [
    {
     "data": {
      "text/html": [
       "<div>\n",
       "<style scoped>\n",
       "    .dataframe tbody tr th:only-of-type {\n",
       "        vertical-align: middle;\n",
       "    }\n",
       "\n",
       "    .dataframe tbody tr th {\n",
       "        vertical-align: top;\n",
       "    }\n",
       "\n",
       "    .dataframe thead th {\n",
       "        text-align: right;\n",
       "    }\n",
       "</style>\n",
       "<table border=\"1\" class=\"dataframe\">\n",
       "  <thead>\n",
       "    <tr style=\"text-align: right;\">\n",
       "      <th></th>\n",
       "      <th>id</th>\n",
       "      <th>object_id</th>\n",
       "      <th>degree_type</th>\n",
       "      <th>subject</th>\n",
       "    </tr>\n",
       "  </thead>\n",
       "  <tbody>\n",
       "    <tr>\n",
       "      <th>0</th>\n",
       "      <td>1</td>\n",
       "      <td>p:6117</td>\n",
       "      <td>MBA</td>\n",
       "      <td>NaN</td>\n",
       "    </tr>\n",
       "    <tr>\n",
       "      <th>1</th>\n",
       "      <td>2</td>\n",
       "      <td>p:6136</td>\n",
       "      <td>BA</td>\n",
       "      <td>English, French</td>\n",
       "    </tr>\n",
       "    <tr>\n",
       "      <th>2</th>\n",
       "      <td>3</td>\n",
       "      <td>p:6136</td>\n",
       "      <td>MS</td>\n",
       "      <td>Mass Communication</td>\n",
       "    </tr>\n",
       "    <tr>\n",
       "      <th>3</th>\n",
       "      <td>4</td>\n",
       "      <td>p:6005</td>\n",
       "      <td>MS</td>\n",
       "      <td>Internet Technology</td>\n",
       "    </tr>\n",
       "    <tr>\n",
       "      <th>4</th>\n",
       "      <td>5</td>\n",
       "      <td>p:5832</td>\n",
       "      <td>BCS</td>\n",
       "      <td>Computer Science, Psychology</td>\n",
       "    </tr>\n",
       "  </tbody>\n",
       "</table>\n",
       "</div>"
      ],
      "text/plain": [
       "   id object_id degree_type                       subject\n",
       "0   1    p:6117         MBA                           NaN\n",
       "1   2    p:6136          BA               English, French\n",
       "2   3    p:6136          MS            Mass Communication\n",
       "3   4    p:6005          MS           Internet Technology\n",
       "4   5    p:5832         BCS  Computer Science, Psychology"
      ]
     },
     "execution_count": 15,
     "metadata": {},
     "output_type": "execute_result"
    }
   ],
   "source": [
    "degrees.head()"
   ]
  },
  {
   "cell_type": "code",
   "execution_count": 16,
   "metadata": {},
   "outputs": [
    {
     "name": "stdout",
     "output_type": "stream",
     "text": [
      "<class 'pandas.core.frame.DataFrame'>\n",
      "RangeIndex: 109610 entries, 0 to 109609\n",
      "Data columns (total 4 columns):\n",
      " #   Column       Non-Null Count   Dtype \n",
      "---  ------       --------------   ----- \n",
      " 0   id           109610 non-null  int64 \n",
      " 1   object_id    109610 non-null  object\n",
      " 2   degree_type  98392 non-null   object\n",
      " 3   subject      81298 non-null   object\n",
      "dtypes: int64(1), object(3)\n",
      "memory usage: 3.3+ MB\n"
     ]
    }
   ],
   "source": [
    "degrees.info()"
   ]
  },
  {
   "cell_type": "markdown",
   "metadata": {},
   "source": [
    "Датасет `degrees.csv` содержит 4 столбца и 109610 строк, в которых представлена информация о типе образования сотрудника\n",
    "\n",
    "После первичного анализа данных можно сделать следующие выводы:\n",
    "- Названия столбцов приведены к единому формату\n",
    "- В таблице данные представлены в типах `int`, `object`\n",
    "- В столбце `id` рекомендуется изменить тип данных с целью понижения разрядности\n",
    "- Столбец `object_id` - значения имеют формат p:XXXX, что указывает на строковый тип, рекомендуется реобразование к типу `category`, так как идентификаторы часто имеют повторяющиеся значения.\n",
    "- Столбец `degree_type` содержит типы образования, например, MBA, BA, MS, это ограниченный набор категорий, который можно преобразовать в `category`.\n",
    "- Пропуски присутствуют в столбцах с типом образования и специальностью"
   ]
  },
  {
   "cell_type": "markdown",
   "metadata": {},
   "source": [
    "### 1.2. Исправление названия столбцов, смена типов данных, анализ дубликатов и пропусков\n",
    "\n",
    "\n",
    "* Обработайте типы данных в столбцах, которые хранят значения даты и времени, если это необходимо.\n",
    "\n",
    "* Оцените полноту данных — сделайте предварительный вывод, достаточно ли данных для решения задач проекта."
   ]
  },
  {
   "cell_type": "code",
   "execution_count": 17,
   "metadata": {},
   "outputs": [
    {
     "name": "stdout",
     "output_type": "stream",
     "text": [
      "Размер acquisition до обработки: 9407\n",
      "Размер company_and_rounds до обработки: 217774\n",
      "Размер fund до обработки: 11652\n",
      "Размер investment до обработки: 61403\n",
      "Размер education до обработки: 109610\n",
      "Размер people до обработки: 226709\n",
      "Размер degrees до обработки: 109610\n"
     ]
    }
   ],
   "source": [
    "# Посмотрим размеры наших таблиц до обработки\n",
    "print(\"Размер acquisition до обработки:\", len(acquisition))\n",
    "print(\"Размер company_and_rounds до обработки:\", len(company_and_rounds))\n",
    "print(\"Размер fund до обработки:\", len(fund))\n",
    "print(\"Размер investment до обработки:\", len(investment))\n",
    "print(\"Размер education до обработки:\", len(education))\n",
    "print(\"Размер people до обработки:\", len(people))\n",
    "print(\"Размер degrees до обработки:\", len(degrees))"
   ]
  },
  {
   "cell_type": "code",
   "execution_count": 18,
   "metadata": {},
   "outputs": [],
   "source": [
    "# В таблице company_and_rounds переименуем столбец company ID, т.к. он у нас дублируется дважды\n",
    "company_and_rounds.rename(columns={'company  ID': 'company_id_2'}, inplace=True)\n",
    "\n",
    "# Объединим 2 столбца company_id в таблице company_and_rounds\n",
    "company_and_rounds['company_id_combined'] = company_and_rounds['company  id'].combine_first(company_and_rounds['company_id_2'])\n",
    "\n",
    "# Удалим исходные столбцы после объединения\n",
    "company_and_rounds.drop(columns=['company  id', 'company_id_2'], inplace=True)"
   ]
  },
  {
   "cell_type": "code",
   "execution_count": 19,
   "metadata": {},
   "outputs": [
    {
     "name": "stdout",
     "output_type": "stream",
     "text": [
      "Index(['name', 'category_code', 'status', 'founded_at', 'closed_at', 'domain',\n",
      "       'network_username', 'country_code', 'investment_rounds',\n",
      "       'funding_rounds', 'funding_total', 'milestones', 'funding_round_id',\n",
      "       'funded_at', 'funding_round_type', 'raised_amount',\n",
      "       'pre_money_valuation', 'participants', 'is_first_round',\n",
      "       'is_last_round', 'company_id_combined'],\n",
      "      dtype='object')\n"
     ]
    }
   ],
   "source": [
    "# В таблице company_and_rounds приводим все названия столбцов к единому формату\n",
    "company_and_rounds.columns = (company_and_rounds.columns.str.strip()\n",
    "                              .str.lower()\n",
    "                              .str.replace(r\"\\s+\", \"_\", regex=True))\n",
    "print(company_and_rounds.columns)"
   ]
  },
  {
   "cell_type": "code",
   "execution_count": 20,
   "metadata": {},
   "outputs": [
    {
     "data": {
      "text/html": [
       "<div>\n",
       "<style scoped>\n",
       "    .dataframe tbody tr th:only-of-type {\n",
       "        vertical-align: middle;\n",
       "    }\n",
       "\n",
       "    .dataframe tbody tr th {\n",
       "        vertical-align: top;\n",
       "    }\n",
       "\n",
       "    .dataframe thead th {\n",
       "        text-align: right;\n",
       "    }\n",
       "</style>\n",
       "<table border=\"1\" class=\"dataframe\">\n",
       "  <thead>\n",
       "    <tr style=\"text-align: right;\">\n",
       "      <th></th>\n",
       "      <th>name</th>\n",
       "      <th>category_code</th>\n",
       "      <th>status</th>\n",
       "      <th>founded_at</th>\n",
       "      <th>closed_at</th>\n",
       "      <th>domain</th>\n",
       "      <th>network_username</th>\n",
       "      <th>country_code</th>\n",
       "      <th>investment_rounds</th>\n",
       "      <th>funding_rounds</th>\n",
       "      <th>...</th>\n",
       "      <th>milestones</th>\n",
       "      <th>funding_round_id</th>\n",
       "      <th>funded_at</th>\n",
       "      <th>funding_round_type</th>\n",
       "      <th>raised_amount</th>\n",
       "      <th>pre_money_valuation</th>\n",
       "      <th>participants</th>\n",
       "      <th>is_first_round</th>\n",
       "      <th>is_last_round</th>\n",
       "      <th>company_id_combined</th>\n",
       "    </tr>\n",
       "  </thead>\n",
       "  <tbody>\n",
       "    <tr>\n",
       "      <th>0</th>\n",
       "      <td>Wetpaint</td>\n",
       "      <td>web</td>\n",
       "      <td>operating</td>\n",
       "      <td>2005-10-17</td>\n",
       "      <td>NaN</td>\n",
       "      <td>wetpaint-inc.com</td>\n",
       "      <td>BachelrWetpaint</td>\n",
       "      <td>USA</td>\n",
       "      <td>0.0</td>\n",
       "      <td>3.0</td>\n",
       "      <td>...</td>\n",
       "      <td>5.0</td>\n",
       "      <td>888.0</td>\n",
       "      <td>2005-10-01</td>\n",
       "      <td>series-a</td>\n",
       "      <td>5250000.0</td>\n",
       "      <td>0.0</td>\n",
       "      <td>2.0</td>\n",
       "      <td>0.0</td>\n",
       "      <td>1.0</td>\n",
       "      <td>1.0</td>\n",
       "    </tr>\n",
       "    <tr>\n",
       "      <th>1</th>\n",
       "      <td>Wetpaint</td>\n",
       "      <td>web</td>\n",
       "      <td>operating</td>\n",
       "      <td>2005-10-17</td>\n",
       "      <td>NaN</td>\n",
       "      <td>wetpaint-inc.com</td>\n",
       "      <td>BachelrWetpaint</td>\n",
       "      <td>USA</td>\n",
       "      <td>0.0</td>\n",
       "      <td>3.0</td>\n",
       "      <td>...</td>\n",
       "      <td>5.0</td>\n",
       "      <td>889.0</td>\n",
       "      <td>2007-01-01</td>\n",
       "      <td>series-b</td>\n",
       "      <td>9500000.0</td>\n",
       "      <td>0.0</td>\n",
       "      <td>3.0</td>\n",
       "      <td>0.0</td>\n",
       "      <td>0.0</td>\n",
       "      <td>1.0</td>\n",
       "    </tr>\n",
       "    <tr>\n",
       "      <th>2</th>\n",
       "      <td>Wetpaint</td>\n",
       "      <td>web</td>\n",
       "      <td>operating</td>\n",
       "      <td>2005-10-17</td>\n",
       "      <td>NaN</td>\n",
       "      <td>wetpaint-inc.com</td>\n",
       "      <td>BachelrWetpaint</td>\n",
       "      <td>USA</td>\n",
       "      <td>0.0</td>\n",
       "      <td>3.0</td>\n",
       "      <td>...</td>\n",
       "      <td>5.0</td>\n",
       "      <td>2312.0</td>\n",
       "      <td>2008-05-19</td>\n",
       "      <td>series-c+</td>\n",
       "      <td>25000000.0</td>\n",
       "      <td>0.0</td>\n",
       "      <td>4.0</td>\n",
       "      <td>1.0</td>\n",
       "      <td>0.0</td>\n",
       "      <td>1.0</td>\n",
       "    </tr>\n",
       "    <tr>\n",
       "      <th>3</th>\n",
       "      <td>Flektor</td>\n",
       "      <td>games_video</td>\n",
       "      <td>acquired</td>\n",
       "      <td>NaN</td>\n",
       "      <td>NaN</td>\n",
       "      <td>flektor.com</td>\n",
       "      <td>NaN</td>\n",
       "      <td>USA</td>\n",
       "      <td>0.0</td>\n",
       "      <td>0.0</td>\n",
       "      <td>...</td>\n",
       "      <td>0.0</td>\n",
       "      <td>NaN</td>\n",
       "      <td>NaN</td>\n",
       "      <td>NaN</td>\n",
       "      <td>NaN</td>\n",
       "      <td>NaN</td>\n",
       "      <td>NaN</td>\n",
       "      <td>NaN</td>\n",
       "      <td>NaN</td>\n",
       "      <td>10.0</td>\n",
       "    </tr>\n",
       "    <tr>\n",
       "      <th>4</th>\n",
       "      <td>There</td>\n",
       "      <td>games_video</td>\n",
       "      <td>acquired</td>\n",
       "      <td>NaN</td>\n",
       "      <td>NaN</td>\n",
       "      <td>there.com</td>\n",
       "      <td>NaN</td>\n",
       "      <td>USA</td>\n",
       "      <td>0.0</td>\n",
       "      <td>0.0</td>\n",
       "      <td>...</td>\n",
       "      <td>4.0</td>\n",
       "      <td>NaN</td>\n",
       "      <td>NaN</td>\n",
       "      <td>NaN</td>\n",
       "      <td>NaN</td>\n",
       "      <td>NaN</td>\n",
       "      <td>NaN</td>\n",
       "      <td>NaN</td>\n",
       "      <td>NaN</td>\n",
       "      <td>100.0</td>\n",
       "    </tr>\n",
       "  </tbody>\n",
       "</table>\n",
       "<p>5 rows × 21 columns</p>\n",
       "</div>"
      ],
      "text/plain": [
       "       name category_code     status  founded_at closed_at            domain  \\\n",
       "0  Wetpaint           web  operating  2005-10-17       NaN  wetpaint-inc.com   \n",
       "1  Wetpaint           web  operating  2005-10-17       NaN  wetpaint-inc.com   \n",
       "2  Wetpaint           web  operating  2005-10-17       NaN  wetpaint-inc.com   \n",
       "3   Flektor   games_video   acquired         NaN       NaN       flektor.com   \n",
       "4     There   games_video   acquired         NaN       NaN         there.com   \n",
       "\n",
       "  network_username country_code  investment_rounds  funding_rounds  ...  \\\n",
       "0  BachelrWetpaint          USA                0.0             3.0  ...   \n",
       "1  BachelrWetpaint          USA                0.0             3.0  ...   \n",
       "2  BachelrWetpaint          USA                0.0             3.0  ...   \n",
       "3              NaN          USA                0.0             0.0  ...   \n",
       "4              NaN          USA                0.0             0.0  ...   \n",
       "\n",
       "   milestones  funding_round_id   funded_at funding_round_type raised_amount  \\\n",
       "0         5.0             888.0  2005-10-01           series-a     5250000.0   \n",
       "1         5.0             889.0  2007-01-01           series-b     9500000.0   \n",
       "2         5.0            2312.0  2008-05-19          series-c+    25000000.0   \n",
       "3         0.0               NaN         NaN                NaN           NaN   \n",
       "4         4.0               NaN         NaN                NaN           NaN   \n",
       "\n",
       "   pre_money_valuation  participants  is_first_round  is_last_round  \\\n",
       "0                  0.0           2.0             0.0            1.0   \n",
       "1                  0.0           3.0             0.0            0.0   \n",
       "2                  0.0           4.0             1.0            0.0   \n",
       "3                  NaN           NaN             NaN            NaN   \n",
       "4                  NaN           NaN             NaN            NaN   \n",
       "\n",
       "   company_id_combined  \n",
       "0                  1.0  \n",
       "1                  1.0  \n",
       "2                  1.0  \n",
       "3                 10.0  \n",
       "4                100.0  \n",
       "\n",
       "[5 rows x 21 columns]"
      ]
     },
     "execution_count": 20,
     "metadata": {},
     "output_type": "execute_result"
    }
   ],
   "source": [
    "company_and_rounds.head()"
   ]
  },
  {
   "cell_type": "code",
   "execution_count": 21,
   "metadata": {},
   "outputs": [
    {
     "name": "stdout",
     "output_type": "stream",
     "text": [
      "Типы данных для таблицы acquisition:\n",
      "id                               int64\n",
      "acquiring_company_id             int64\n",
      "acquired_company_id              int64\n",
      "term_code                       object\n",
      "price_amount                     int64\n",
      "acquired_at             datetime64[ns]\n",
      "dtype: object\n",
      "\n",
      "Типы данных для таблицы company_and_rounds:\n",
      "name                           object\n",
      "category_code                  object\n",
      "status                         object\n",
      "founded_at             datetime64[ns]\n",
      "closed_at              datetime64[ns]\n",
      "domain                         object\n",
      "network_username               object\n",
      "country_code                   object\n",
      "investment_rounds             float64\n",
      "funding_rounds                float64\n",
      "funding_total                 float64\n",
      "milestones                    float64\n",
      "funding_round_id              float64\n",
      "funded_at              datetime64[ns]\n",
      "funding_round_type             object\n",
      "raised_amount                 float64\n",
      "pre_money_valuation           float64\n",
      "participants                  float64\n",
      "is_first_round                float64\n",
      "is_last_round                 float64\n",
      "company_id_combined           float64\n",
      "dtype: object\n",
      "\n",
      "Типы данных для таблицы fund:\n",
      "id                             int64\n",
      "name                          object\n",
      "founded_at            datetime64[ns]\n",
      "domain                        object\n",
      "network_username              object\n",
      "country_code                  object\n",
      "investment_rounds              int64\n",
      "invested_companies             int64\n",
      "milestones                     int64\n",
      "dtype: object\n",
      "\n",
      "Типы данных для таблицы education:\n",
      "id                       int64\n",
      "person_id                int64\n",
      "instituition            object\n",
      "graduated_at    datetime64[ns]\n",
      "dtype: object\n"
     ]
    }
   ],
   "source": [
    "# Сделаем в таблицах преобразование данных в столбцах в тип datetime\n",
    "acquisition['acquired_at'] = pd.to_datetime(acquisition['acquired_at'], errors='coerce')\n",
    "company_and_rounds['founded_at'] = pd.to_datetime(company_and_rounds['founded_at'], errors='coerce')\n",
    "company_and_rounds['closed_at'] = pd.to_datetime(company_and_rounds['closed_at'], errors='coerce')\n",
    "company_and_rounds['funded_at'] = pd.to_datetime(company_and_rounds['funded_at'], errors='coerce')\n",
    "fund['founded_at'] = pd.to_datetime(fund['founded_at'], errors='coerce')\n",
    "education['graduated_at'] = pd.to_datetime(education['graduated_at'], errors='coerce')\n",
    "print(\"Типы данных для таблицы acquisition:\")\n",
    "print(acquisition.dtypes)\n",
    "print(\"\\nТипы данных для таблицы company_and_rounds:\")\n",
    "print(company_and_rounds.dtypes)\n",
    "print(\"\\nТипы данных для таблицы fund:\")\n",
    "print(fund.dtypes)\n",
    "print(\"\\nТипы данных для таблицы education:\")\n",
    "print(education.dtypes)"
   ]
  },
  {
   "cell_type": "code",
   "execution_count": 22,
   "metadata": {},
   "outputs": [
    {
     "name": "stdout",
     "output_type": "stream",
     "text": [
      "0\n",
      "0\n",
      "0\n",
      "0\n",
      "0\n",
      "0\n",
      "0\n"
     ]
    }
   ],
   "source": [
    "# Проверяем полные дубликаты в наших данных\n",
    "print(acquisition.duplicated().sum())\n",
    "print(company_and_rounds.duplicated().sum())\n",
    "print(fund.duplicated().sum())\n",
    "print(investment.duplicated().sum())\n",
    "print(education.duplicated().sum())\n",
    "print(people.duplicated().sum())\n",
    "print(degrees.duplicated().sum())"
   ]
  },
  {
   "cell_type": "code",
   "execution_count": 23,
   "metadata": {},
   "outputs": [
    {
     "name": "stdout",
     "output_type": "stream",
     "text": [
      "0\n",
      "20989\n",
      "0\n",
      "0\n",
      "0\n",
      "1\n",
      "0\n"
     ]
    }
   ],
   "source": [
    "# Проверим неявные дубликаты\n",
    "print(acquisition.duplicated(subset='id').sum())\n",
    "print(company_and_rounds.duplicated(subset='company_id_combined').sum())\n",
    "print(fund.duplicated(subset='id').sum())\n",
    "print(investment.duplicated(subset='id').sum())\n",
    "print(education.duplicated(subset='id').sum())\n",
    "print(people.duplicated(subset='id').sum())\n",
    "print(degrees.duplicated(subset='id').sum())"
   ]
  },
  {
   "cell_type": "markdown",
   "metadata": {},
   "source": [
    "**Проверка на дубликаты показала, что:**\n",
    "- все наши таблицы не содержат полных дубликатов\n",
    "- в таблице company_and_rounds присутствует 20989 неявных дубликата, разберем их ниже\n",
    "- в таблице people у нас один неявный дубликат дубликат"
   ]
  },
  {
   "cell_type": "code",
   "execution_count": 24,
   "metadata": {},
   "outputs": [
    {
     "data": {
      "text/html": [
       "<div>\n",
       "<style scoped>\n",
       "    .dataframe tbody tr th:only-of-type {\n",
       "        vertical-align: middle;\n",
       "    }\n",
       "\n",
       "    .dataframe tbody tr th {\n",
       "        vertical-align: top;\n",
       "    }\n",
       "\n",
       "    .dataframe thead th {\n",
       "        text-align: right;\n",
       "    }\n",
       "</style>\n",
       "<table border=\"1\" class=\"dataframe\">\n",
       "  <thead>\n",
       "    <tr style=\"text-align: right;\">\n",
       "      <th></th>\n",
       "      <th>name</th>\n",
       "      <th>category_code</th>\n",
       "      <th>status</th>\n",
       "      <th>founded_at</th>\n",
       "      <th>closed_at</th>\n",
       "      <th>domain</th>\n",
       "      <th>network_username</th>\n",
       "      <th>country_code</th>\n",
       "      <th>investment_rounds</th>\n",
       "      <th>funding_rounds</th>\n",
       "      <th>...</th>\n",
       "      <th>milestones</th>\n",
       "      <th>funding_round_id</th>\n",
       "      <th>funded_at</th>\n",
       "      <th>funding_round_type</th>\n",
       "      <th>raised_amount</th>\n",
       "      <th>pre_money_valuation</th>\n",
       "      <th>participants</th>\n",
       "      <th>is_first_round</th>\n",
       "      <th>is_last_round</th>\n",
       "      <th>company_id_combined</th>\n",
       "    </tr>\n",
       "  </thead>\n",
       "  <tbody>\n",
       "    <tr>\n",
       "      <th>0</th>\n",
       "      <td>Wetpaint</td>\n",
       "      <td>web</td>\n",
       "      <td>operating</td>\n",
       "      <td>2005-10-17</td>\n",
       "      <td>NaT</td>\n",
       "      <td>wetpaint-inc.com</td>\n",
       "      <td>BachelrWetpaint</td>\n",
       "      <td>USA</td>\n",
       "      <td>0.0</td>\n",
       "      <td>3.0</td>\n",
       "      <td>...</td>\n",
       "      <td>5.0</td>\n",
       "      <td>888.0</td>\n",
       "      <td>2005-10-01</td>\n",
       "      <td>series-a</td>\n",
       "      <td>5250000.0</td>\n",
       "      <td>0.0</td>\n",
       "      <td>2.0</td>\n",
       "      <td>0.0</td>\n",
       "      <td>1.0</td>\n",
       "      <td>1.0</td>\n",
       "    </tr>\n",
       "    <tr>\n",
       "      <th>1</th>\n",
       "      <td>Wetpaint</td>\n",
       "      <td>web</td>\n",
       "      <td>operating</td>\n",
       "      <td>2005-10-17</td>\n",
       "      <td>NaT</td>\n",
       "      <td>wetpaint-inc.com</td>\n",
       "      <td>BachelrWetpaint</td>\n",
       "      <td>USA</td>\n",
       "      <td>0.0</td>\n",
       "      <td>3.0</td>\n",
       "      <td>...</td>\n",
       "      <td>5.0</td>\n",
       "      <td>889.0</td>\n",
       "      <td>2007-01-01</td>\n",
       "      <td>series-b</td>\n",
       "      <td>9500000.0</td>\n",
       "      <td>0.0</td>\n",
       "      <td>3.0</td>\n",
       "      <td>0.0</td>\n",
       "      <td>0.0</td>\n",
       "      <td>1.0</td>\n",
       "    </tr>\n",
       "    <tr>\n",
       "      <th>2</th>\n",
       "      <td>Wetpaint</td>\n",
       "      <td>web</td>\n",
       "      <td>operating</td>\n",
       "      <td>2005-10-17</td>\n",
       "      <td>NaT</td>\n",
       "      <td>wetpaint-inc.com</td>\n",
       "      <td>BachelrWetpaint</td>\n",
       "      <td>USA</td>\n",
       "      <td>0.0</td>\n",
       "      <td>3.0</td>\n",
       "      <td>...</td>\n",
       "      <td>5.0</td>\n",
       "      <td>2312.0</td>\n",
       "      <td>2008-05-19</td>\n",
       "      <td>series-c+</td>\n",
       "      <td>25000000.0</td>\n",
       "      <td>0.0</td>\n",
       "      <td>4.0</td>\n",
       "      <td>1.0</td>\n",
       "      <td>0.0</td>\n",
       "      <td>1.0</td>\n",
       "    </tr>\n",
       "    <tr>\n",
       "      <th>21</th>\n",
       "      <td>Fitbit</td>\n",
       "      <td>health</td>\n",
       "      <td>operating</td>\n",
       "      <td>2007-10-01</td>\n",
       "      <td>NaT</td>\n",
       "      <td>fitbit.com</td>\n",
       "      <td>fitbit</td>\n",
       "      <td>USA</td>\n",
       "      <td>0.0</td>\n",
       "      <td>5.0</td>\n",
       "      <td>...</td>\n",
       "      <td>0.0</td>\n",
       "      <td>3619.0</td>\n",
       "      <td>2008-10-10</td>\n",
       "      <td>series-a</td>\n",
       "      <td>2000000.0</td>\n",
       "      <td>0.0</td>\n",
       "      <td>2.0</td>\n",
       "      <td>0.0</td>\n",
       "      <td>1.0</td>\n",
       "      <td>10015.0</td>\n",
       "    </tr>\n",
       "    <tr>\n",
       "      <th>22</th>\n",
       "      <td>Fitbit</td>\n",
       "      <td>health</td>\n",
       "      <td>operating</td>\n",
       "      <td>2007-10-01</td>\n",
       "      <td>NaT</td>\n",
       "      <td>fitbit.com</td>\n",
       "      <td>fitbit</td>\n",
       "      <td>USA</td>\n",
       "      <td>0.0</td>\n",
       "      <td>5.0</td>\n",
       "      <td>...</td>\n",
       "      <td>0.0</td>\n",
       "      <td>18213.0</td>\n",
       "      <td>2010-09-10</td>\n",
       "      <td>series-b</td>\n",
       "      <td>9000000.0</td>\n",
       "      <td>0.0</td>\n",
       "      <td>4.0</td>\n",
       "      <td>0.0</td>\n",
       "      <td>0.0</td>\n",
       "      <td>10015.0</td>\n",
       "    </tr>\n",
       "    <tr>\n",
       "      <th>...</th>\n",
       "      <td>...</td>\n",
       "      <td>...</td>\n",
       "      <td>...</td>\n",
       "      <td>...</td>\n",
       "      <td>...</td>\n",
       "      <td>...</td>\n",
       "      <td>...</td>\n",
       "      <td>...</td>\n",
       "      <td>...</td>\n",
       "      <td>...</td>\n",
       "      <td>...</td>\n",
       "      <td>...</td>\n",
       "      <td>...</td>\n",
       "      <td>...</td>\n",
       "      <td>...</td>\n",
       "      <td>...</td>\n",
       "      <td>...</td>\n",
       "      <td>...</td>\n",
       "      <td>...</td>\n",
       "      <td>...</td>\n",
       "      <td>...</td>\n",
       "    </tr>\n",
       "    <tr>\n",
       "      <th>217754</th>\n",
       "      <td>NaN</td>\n",
       "      <td>NaN</td>\n",
       "      <td>NaN</td>\n",
       "      <td>NaT</td>\n",
       "      <td>NaT</td>\n",
       "      <td>NaN</td>\n",
       "      <td>NaN</td>\n",
       "      <td>NaN</td>\n",
       "      <td>NaN</td>\n",
       "      <td>NaN</td>\n",
       "      <td>...</td>\n",
       "      <td>NaN</td>\n",
       "      <td>55529.0</td>\n",
       "      <td>2010-11-22</td>\n",
       "      <td>other</td>\n",
       "      <td>8650000.0</td>\n",
       "      <td>0.0</td>\n",
       "      <td>0.0</td>\n",
       "      <td>0.0</td>\n",
       "      <td>1.0</td>\n",
       "      <td>68946.0</td>\n",
       "    </tr>\n",
       "    <tr>\n",
       "      <th>217756</th>\n",
       "      <td>NaN</td>\n",
       "      <td>NaN</td>\n",
       "      <td>NaN</td>\n",
       "      <td>NaT</td>\n",
       "      <td>NaT</td>\n",
       "      <td>NaN</td>\n",
       "      <td>NaN</td>\n",
       "      <td>NaN</td>\n",
       "      <td>NaN</td>\n",
       "      <td>NaN</td>\n",
       "      <td>...</td>\n",
       "      <td>NaN</td>\n",
       "      <td>53625.0</td>\n",
       "      <td>2011-05-27</td>\n",
       "      <td>venture</td>\n",
       "      <td>4085000.0</td>\n",
       "      <td>0.0</td>\n",
       "      <td>0.0</td>\n",
       "      <td>1.0</td>\n",
       "      <td>0.0</td>\n",
       "      <td>276234.0</td>\n",
       "    </tr>\n",
       "    <tr>\n",
       "      <th>217757</th>\n",
       "      <td>NaN</td>\n",
       "      <td>NaN</td>\n",
       "      <td>NaN</td>\n",
       "      <td>NaT</td>\n",
       "      <td>NaT</td>\n",
       "      <td>NaN</td>\n",
       "      <td>NaN</td>\n",
       "      <td>NaN</td>\n",
       "      <td>NaN</td>\n",
       "      <td>NaN</td>\n",
       "      <td>...</td>\n",
       "      <td>NaN</td>\n",
       "      <td>54426.0</td>\n",
       "      <td>2011-05-13</td>\n",
       "      <td>other</td>\n",
       "      <td>250122.0</td>\n",
       "      <td>0.0</td>\n",
       "      <td>0.0</td>\n",
       "      <td>0.0</td>\n",
       "      <td>1.0</td>\n",
       "      <td>276234.0</td>\n",
       "    </tr>\n",
       "    <tr>\n",
       "      <th>217770</th>\n",
       "      <td>NaN</td>\n",
       "      <td>NaN</td>\n",
       "      <td>NaN</td>\n",
       "      <td>NaT</td>\n",
       "      <td>NaT</td>\n",
       "      <td>NaN</td>\n",
       "      <td>NaN</td>\n",
       "      <td>NaN</td>\n",
       "      <td>NaN</td>\n",
       "      <td>NaN</td>\n",
       "      <td>...</td>\n",
       "      <td>NaN</td>\n",
       "      <td>56542.0</td>\n",
       "      <td>2011-01-13</td>\n",
       "      <td>venture</td>\n",
       "      <td>10633300.0</td>\n",
       "      <td>0.0</td>\n",
       "      <td>0.0</td>\n",
       "      <td>0.0</td>\n",
       "      <td>1.0</td>\n",
       "      <td>55477.0</td>\n",
       "    </tr>\n",
       "    <tr>\n",
       "      <th>217771</th>\n",
       "      <td>NaN</td>\n",
       "      <td>NaN</td>\n",
       "      <td>NaN</td>\n",
       "      <td>NaT</td>\n",
       "      <td>NaT</td>\n",
       "      <td>NaN</td>\n",
       "      <td>NaN</td>\n",
       "      <td>NaN</td>\n",
       "      <td>NaN</td>\n",
       "      <td>NaN</td>\n",
       "      <td>...</td>\n",
       "      <td>NaN</td>\n",
       "      <td>56543.0</td>\n",
       "      <td>2012-05-31</td>\n",
       "      <td>venture</td>\n",
       "      <td>2125720.0</td>\n",
       "      <td>0.0</td>\n",
       "      <td>0.0</td>\n",
       "      <td>1.0</td>\n",
       "      <td>0.0</td>\n",
       "      <td>55477.0</td>\n",
       "    </tr>\n",
       "  </tbody>\n",
       "</table>\n",
       "<p>32206 rows × 21 columns</p>\n",
       "</div>"
      ],
      "text/plain": [
       "            name category_code     status founded_at closed_at  \\\n",
       "0       Wetpaint           web  operating 2005-10-17       NaT   \n",
       "1       Wetpaint           web  operating 2005-10-17       NaT   \n",
       "2       Wetpaint           web  operating 2005-10-17       NaT   \n",
       "21        Fitbit        health  operating 2007-10-01       NaT   \n",
       "22        Fitbit        health  operating 2007-10-01       NaT   \n",
       "...          ...           ...        ...        ...       ...   \n",
       "217754       NaN           NaN        NaN        NaT       NaT   \n",
       "217756       NaN           NaN        NaN        NaT       NaT   \n",
       "217757       NaN           NaN        NaN        NaT       NaT   \n",
       "217770       NaN           NaN        NaN        NaT       NaT   \n",
       "217771       NaN           NaN        NaN        NaT       NaT   \n",
       "\n",
       "                  domain network_username country_code  investment_rounds  \\\n",
       "0       wetpaint-inc.com  BachelrWetpaint          USA                0.0   \n",
       "1       wetpaint-inc.com  BachelrWetpaint          USA                0.0   \n",
       "2       wetpaint-inc.com  BachelrWetpaint          USA                0.0   \n",
       "21            fitbit.com           fitbit          USA                0.0   \n",
       "22            fitbit.com           fitbit          USA                0.0   \n",
       "...                  ...              ...          ...                ...   \n",
       "217754               NaN              NaN          NaN                NaN   \n",
       "217756               NaN              NaN          NaN                NaN   \n",
       "217757               NaN              NaN          NaN                NaN   \n",
       "217770               NaN              NaN          NaN                NaN   \n",
       "217771               NaN              NaN          NaN                NaN   \n",
       "\n",
       "        funding_rounds  ...  milestones  funding_round_id  funded_at  \\\n",
       "0                  3.0  ...         5.0             888.0 2005-10-01   \n",
       "1                  3.0  ...         5.0             889.0 2007-01-01   \n",
       "2                  3.0  ...         5.0            2312.0 2008-05-19   \n",
       "21                 5.0  ...         0.0            3619.0 2008-10-10   \n",
       "22                 5.0  ...         0.0           18213.0 2010-09-10   \n",
       "...                ...  ...         ...               ...        ...   \n",
       "217754             NaN  ...         NaN           55529.0 2010-11-22   \n",
       "217756             NaN  ...         NaN           53625.0 2011-05-27   \n",
       "217757             NaN  ...         NaN           54426.0 2011-05-13   \n",
       "217770             NaN  ...         NaN           56542.0 2011-01-13   \n",
       "217771             NaN  ...         NaN           56543.0 2012-05-31   \n",
       "\n",
       "       funding_round_type raised_amount  pre_money_valuation  participants  \\\n",
       "0                series-a     5250000.0                  0.0           2.0   \n",
       "1                series-b     9500000.0                  0.0           3.0   \n",
       "2               series-c+    25000000.0                  0.0           4.0   \n",
       "21               series-a     2000000.0                  0.0           2.0   \n",
       "22               series-b     9000000.0                  0.0           4.0   \n",
       "...                   ...           ...                  ...           ...   \n",
       "217754              other     8650000.0                  0.0           0.0   \n",
       "217756            venture     4085000.0                  0.0           0.0   \n",
       "217757              other      250122.0                  0.0           0.0   \n",
       "217770            venture    10633300.0                  0.0           0.0   \n",
       "217771            venture     2125720.0                  0.0           0.0   \n",
       "\n",
       "        is_first_round  is_last_round  company_id_combined  \n",
       "0                  0.0            1.0                  1.0  \n",
       "1                  0.0            0.0                  1.0  \n",
       "2                  1.0            0.0                  1.0  \n",
       "21                 0.0            1.0              10015.0  \n",
       "22                 0.0            0.0              10015.0  \n",
       "...                ...            ...                  ...  \n",
       "217754             0.0            1.0              68946.0  \n",
       "217756             1.0            0.0             276234.0  \n",
       "217757             0.0            1.0             276234.0  \n",
       "217770             0.0            1.0              55477.0  \n",
       "217771             1.0            0.0              55477.0  \n",
       "\n",
       "[32206 rows x 21 columns]"
      ]
     },
     "metadata": {},
     "output_type": "display_data"
    }
   ],
   "source": [
    "duplicates = company_and_rounds[company_and_rounds.duplicated(subset='company_id_combined', keep=False)]\n",
    "display(duplicates)"
   ]
  },
  {
   "cell_type": "code",
   "execution_count": 25,
   "metadata": {},
   "outputs": [
    {
     "name": "stdout",
     "output_type": "stream",
     "text": [
      "Объем пропусков в таблице acquisition:\n",
      "id                       0.000000\n",
      "acquiring_company_id     0.000000\n",
      "acquired_company_id      0.000000\n",
      "term_code               80.535771\n",
      "price_amount             0.000000\n",
      "acquired_at              0.308281\n",
      "dtype: float64\n",
      "\n",
      "Объем пропусков в таблице company_and_rounds:\n",
      "name                    0.138676\n",
      "category_code          33.928752\n",
      "status                  0.138676\n",
      "founded_at             49.509124\n",
      "closed_at              98.416248\n",
      "domain                 32.425818\n",
      "network_username       56.131586\n",
      "country_code           50.128574\n",
      "investment_rounds       0.138676\n",
      "funding_rounds          0.138676\n",
      "funding_total           0.138676\n",
      "milestones              0.138676\n",
      "funding_round_id       75.695905\n",
      "funded_at              75.809784\n",
      "funding_round_type     75.695905\n",
      "raised_amount          75.695905\n",
      "pre_money_valuation    75.695905\n",
      "participants           75.695905\n",
      "is_first_round         75.695905\n",
      "is_last_round          75.695905\n",
      "company_id_combined     0.000000\n",
      "dtype: float64\n",
      "\n",
      "Объем пропусков в таблице fund:\n",
      "id                     0.000000\n",
      "name                   0.017164\n",
      "founded_at            60.478888\n",
      "domain                36.817714\n",
      "network_username      81.556814\n",
      "country_code          39.469619\n",
      "investment_rounds      0.000000\n",
      "invested_companies     0.000000\n",
      "milestones             0.000000\n",
      "dtype: float64\n",
      "\n",
      "Объем пропусков в таблице investment:\n",
      "id                  0.0\n",
      "funding_round_id    0.0\n",
      "company_id          0.0\n",
      "fund_id             0.0\n",
      "dtype: float64\n",
      "\n",
      "Объем пропусков в таблице education:\n",
      "id               0.000000\n",
      "person_id        0.000000\n",
      "instituition     0.050178\n",
      "graduated_at    47.035854\n",
      "dtype: float64\n",
      "\n",
      "Объем пропусков в таблице people:\n",
      "id                   0.000000\n",
      "first_name           0.002205\n",
      "last_name            0.000441\n",
      "company_id          84.731528\n",
      "network_username    82.855996\n",
      "dtype: float64\n",
      "\n",
      "Объем пропусков в таблице degrees:\n",
      "id              0.000000\n",
      "object_id       0.000000\n",
      "degree_type    10.234468\n",
      "subject        25.829760\n",
      "dtype: float64\n"
     ]
    }
   ],
   "source": [
    "# Оценим количество пропусков  наших данных в процентах от общего объема\n",
    "print(\"Объем пропусков в таблице acquisition:\")\n",
    "print(acquisition.isna().mean() * 100)\n",
    "print(\"\\nОбъем пропусков в таблице company_and_rounds:\")\n",
    "print(company_and_rounds.isna().mean() * 100)\n",
    "print(\"\\nОбъем пропусков в таблице fund:\")\n",
    "print(fund.isna().mean() * 100)\n",
    "print(\"\\nОбъем пропусков в таблице investment:\")\n",
    "print(investment.isna().mean() * 100)\n",
    "print(\"\\nОбъем пропусков в таблице education:\")\n",
    "print(education.isna().mean() * 100)\n",
    "print(\"\\nОбъем пропусков в таблице people:\")\n",
    "print(people.isna().mean() * 100)\n",
    "print(\"\\nОбъем пропусков в таблице degrees:\")\n",
    "print(degrees.isna().mean() * 100)"
   ]
  },
  {
   "cell_type": "markdown",
   "metadata": {},
   "source": [
    "**Оценка полноты данных:**\n",
    "\n",
    "- Таблица `acquisition`: Для анализа сделок и их характеристик, например, суммы сделки и даты, данных достаточно. Однако, из-за отсутствия данных в `term_code` и `acquired_at`, анализ типов сделок и временных рамок может быть ограничен.\n",
    "\n",
    "- Таблица `company_and_rounds`: Пропуски в важных данных, таких как даты основания и закрытия компаний, могут сильно повлиять на оценку жизненного цикла компании. Без этих данных невозможно точно проанализировать стартапы по временным рамкам. Однако информация о раундах и суммах финансирования может быть полезной для базового анализа.\n",
    "\n",
    "- Таблица `fund`: Данные о фондах не идеальны, но в целом, они могут быть достаточно для анализа их деятельности. Пропуски в `network_username` и `domain` не критичны для большинства видов анализа.\n",
    "\n",
    "- Таблица `investment`: Отсутствие пропусков в этой таблице поможет нам точно сделать анализ инвестиций.\n",
    "\n",
    "- Таблица `education`: Для анализа образования сотрудников пропуски могут быть значимыми, однако, если важно только наличие образования, то пропуски могут не оказать сильного влияния.\n",
    "\n",
    "- Таблица `people`: Высокий уровень пропусков в `company_id` и `network_username` затруднит точную оценку связей между сотрудниками и компаниями. Для анализа этих данных может потребоваться дополнительная обработка.\n",
    "\n",
    "- Таблица `degrees`: Пропуски в данных об образовании могут ограничить использование этой таблицы для глубокого анализа образования сотрудников.\n",
    "\n",
    "**Предварительный вывод:**\n",
    "\n",
    "Данные из таблиц `investment`, `fund` и `acquisition` позволяют выполнить базовый анализ, хотя для более глубоких выводов потребуется дополнительная обработка пропусков и возможное использование дополнительных данных. В идеале, потребуется заполнение пропусков или хотя бы понимание, почему данные отсутствуют, чтобы исключить искажения."
   ]
  },
  {
   "cell_type": "markdown",
   "metadata": {
    "id": "u60cHsn6rJg1"
   },
   "source": [
    "## Шаг 2. Предобработка данных, предварительное исследование\n",
    "\n",
    "### 2.1. Объединять или не объединять — вот в чём вопрос\n",
    "\n",
    "Некоторые названия столбцов встречаются в датасетах чаще других. И, например, в результате предварительной проверки датасетов было выяснено, что столбец `company_id` подходит для объединения данных, так как большая часть значений встречается в разных датасетах не один, а несколько раз. Этот столбец может быть использован для объединения данных.\n",
    "\n",
    "* Установите, подходит ли для объединения данных столбец `network_username`, который встречается в нескольких датасетах. Нам необходимо понимать, дублируется ли для разных датасетов информация в столбцах с таким названием, и если да — то насколько часто.\n",
    "\n",
    "* Оцените, можно ли использовать столбцы с именем `network_username` для объединения данных."
   ]
  },
  {
   "cell_type": "raw",
   "metadata": {
    "id": "Cf5IjfOQrJg1",
    "vscode": {
     "languageId": "plaintext"
    }
   },
   "source": [
    "# Выведем уникальные значения для каждого столбца network_username\n",
    "print(\"Уникальные значения в столбце 'network_username' для таблицы company_and_rounds:\")\n",
    "print(company_and_rounds['network_username'].nunique())\n",
    "\n",
    "print(\"\\nУникальные значения в столбце 'network_username' для таблицы fund:\")\n",
    "print(fund['network_username'].nunique())\n",
    "\n",
    "print(\"\\nУникальные значения в столбце 'network_username' для таблицы people:\")\n",
    "print(people['network_username'].nunique())"
   ]
  },
  {
   "cell_type": "code",
   "execution_count": 26,
   "metadata": {},
   "outputs": [
    {
     "name": "stdout",
     "output_type": "stream",
     "text": [
      "Уникальные значения в столбце 'network_username' для таблицы company_and_rounds (без NaN):\n",
      "79571\n",
      "\n",
      "Уникальные значения в столбце 'network_username' для таблицы fund (без NaN):\n",
      "2098\n",
      "\n",
      "Уникальные значения в столбце 'network_username' для таблицы people (без NaN):\n",
      "38421\n",
      "\n",
      "Пересечение между company_and_rounds и fund:\n",
      "70\n",
      "\n",
      "Пересечение между company_and_rounds и people:\n",
      "2199\n",
      "\n",
      "Пересечение между fund и people:\n",
      "79\n",
      "\n",
      "Общие элементы между company_and_rounds и fund:\n",
      "['telus', 'tradekey', 'RoviCorp', 'Swisscom', 'DowChemical', 'gearylsf', 'novonordisk', 'abnamro', 'startupchile', 'YSCapital']\n",
      "\n",
      "Общие элементы между company_and_rounds и people:\n",
      "['umebooks', 'WHTVRme', 'greenpanelmax', 'w3origin', 'askaticket', 'iheartmuzeek', 'forexfx4x', 'Skirmantas2', 'opitect', 'guzmanadrian']\n",
      "\n",
      "Общие элементы между fund и people:\n",
      "['infowaygraphic', 'oiventures', 'bobsenoff', 'jaichoi', 'journeymalibu', 'conversioncap', 'defrag', 'Couponshoppy', 'shutterscene', 'dshen']\n"
     ]
    }
   ],
   "source": [
    "# Уникальные значения без учета пропусков\n",
    "print(\"Уникальные значения в столбце 'network_username' для таблицы company_and_rounds (без NaN):\")\n",
    "print(company_and_rounds['network_username'].dropna().nunique())\n",
    "\n",
    "print(\"\\nУникальные значения в столбце 'network_username' для таблицы fund (без NaN):\")\n",
    "print(fund['network_username'].dropna().nunique())\n",
    "\n",
    "print(\"\\nУникальные значения в столбце 'network_username' для таблицы people (без NaN):\")\n",
    "print(people['network_username'].dropna().nunique())\n",
    "\n",
    "# Пересечение значений столбца network_username между таблицами без NaN\n",
    "common_in_company_and_rounds_fund = set(company_and_rounds['network_username'].dropna()).intersection(set(fund['network_username'].dropna()))\n",
    "common_in_company_and_rounds_people = set(company_and_rounds['network_username'].dropna()).intersection(set(people['network_username'].dropna()))\n",
    "common_in_fund_people = set(fund['network_username'].dropna()).intersection(set(people['network_username'].dropna()))\n",
    "\n",
    "# Выведем размер пересечений\n",
    "print(\"\\nПересечение между company_and_rounds и fund:\")\n",
    "print(len(common_in_company_and_rounds_fund))\n",
    "\n",
    "print(\"\\nПересечение между company_and_rounds и people:\")\n",
    "print(len(common_in_company_and_rounds_people))\n",
    "\n",
    "print(\"\\nПересечение между fund и people:\")\n",
    "print(len(common_in_fund_people))\n",
    "\n",
    "# Посмотрим на общие элементы в пересечении на примере 10 строк\n",
    "print(\"\\nОбщие элементы между company_and_rounds и fund:\")\n",
    "print(list(common_in_company_and_rounds_fund)[:10])\n",
    "\n",
    "print(\"\\nОбщие элементы между company_and_rounds и people:\")\n",
    "print(list(common_in_company_and_rounds_people)[:10])\n",
    "\n",
    "print(\"\\nОбщие элементы между fund и people:\")\n",
    "print(list(common_in_fund_people)[:10])"
   ]
  },
  {
   "cell_type": "markdown",
   "metadata": {},
   "source": [
    "**Уникальные значения:**\n",
    "\n",
    "- В company_and_rounds 79571 уникальных значений в столбце network_username\n",
    "- В fund — 2098 уникальных значений\n",
    "- В people — 38421 уникальных значений\n",
    "\n",
    "Это говорит о том, что количество уникальных значений `network_username` в таблицах сильно различается. \n",
    "Таблица `company_and_rounds` содержит наибольшее количество уникальных значений, что может указывать на то, что в этой таблице есть множество уникальных пользователей или компаний. В то время как в таблице `fund` количество уникальных значений значительно меньше, что может свидетельствовать о большем количестве повторений в этих данных."
   ]
  },
  {
   "cell_type": "markdown",
   "metadata": {},
   "source": [
    "**Пересечение значений:**\n",
    "\n",
    "- `company_and_rounds` и `fund` - 70 общих значения, что указывает на то, что эти таблицы не пересекаются часто\n",
    "- `company_and_rounds` и `people` - 2199 общих значения, это уже более заметная связь\n",
    "- `fund` и `people` - 79 общих значения, что также указывает на то, что пересечений крайне мало\n",
    "\n",
    "Это показывает, что между таблицами есть пересечения, но их количество относительно невелико.\n",
    "\n",
    "**Общие элементы:**\n",
    "- В пересечении между таблицами встречаются как действительные значения, так и значения NaN (отсутствующие данные). Например, nan встречается в пересечении между всеми таблицами, что указывает на отсутствие значений в этих столбцах в определенных строках.\n",
    "- В пересечении между `company_and_rounds` и `fund` присутствуют такие значения, как 'TxtLoan', 'Syngenta', 'atlassian' и другие, что указывает на совпадение пользователей/компаний в этих двух таблицах.\n",
    "- В пересечении между `company_and_rounds` и `people` есть общие пользователи/компании, такие как 'winwinbooks', 'CHUMNETWORK', 'SEO_soppnox' и т.д.\n",
    "- В пересечении между `fund` и `people` тоже есть общие значения, например, 'AR_Factoring', 'MetCapGroup', 'StartupAngelnet'."
   ]
  },
  {
   "cell_type": "markdown",
   "metadata": {},
   "source": [
    "**Выводы:**\n",
    "\n",
    "1. Количество общих значений (пересечений) между таблицами невелико, что означает, что данные в столбце `network_username` не часто пересекаются между таблицами. Это может означать, например, что каждая таблица хранит информацию о различных наборах пользователей или компаний.\n",
    "\n",
    "2. Хотя пересечение в `company_and_rounds` и `people` относительно велико (2200 общих значений), это всё равно не гарантирует, что мы увидим полную карту (общее кол-во данных `company_and_rounds` - 95534, `people` - 38867), т.е. количество 2199 не настолько большое, чтобы на него опираться.\n",
    "\n",
    "**Рекомендации:**\n",
    "\n",
    "- Для объединения этих таблиц по столбцу `network_username` необходимо предварительно обработать пропуски и дублирующиеся данные, стоит, также, учесть вероятность значительных потерь данных из-за неидеального пересечения.\n",
    "\n",
    "**Итоговый вывод:**\n",
    "- Рекомендуется рассмотреть другой вариант объединения таблиц, я бы не рекомендовала объединение по столбцу `network_username`"
   ]
  },
  {
   "cell_type": "markdown",
   "metadata": {
    "id": "EHcODomVrJg1"
   },
   "source": [
    "\n",
    "### 2.2. Проблемный датасет и причина возникновения пропусков\n",
    "\n",
    "Во время собственного анализа данных у заказчика больше всего вопросов возникло к датасету `company_and_rounds.csv`. В нём много пропусков как раз в информации о раундах, которая заказчику важна. Хотя информация об общем объёме финансирования по раундам присутствует в других датасетах, заказчик считает данные `company_and_rounds.csv` о размере средств наиболее верными.\n",
    "\n",
    "* Любым удобным способом приведите данные в вид, который позволяет проводить анализ в разрезе отдельных компаний. Можно изменять форму данных, порядок их хранения. Обратите внимание на структуру датасета, порядок и названия столбцов, проанализируйте значения.\n",
    "\n",
    "По гипотезе заказчика данные по компаниям из этой таблицы раньше хранились иначе, более удобным для исследования образом.\n",
    "\n",
    "* Максимальным образом сохраняя данные, сохранив их связность и исключив возможные возникающие при этом ошибки, подготовьте данные так, чтобы удобно было отобрать компании по параметрам и рассчитать показатели из расчёта на одну компанию."
   ]
  },
  {
   "cell_type": "code",
   "execution_count": 28,
   "metadata": {},
   "outputs": [
    {
     "name": "stdout",
     "output_type": "stream",
     "text": [
      "<class 'pandas.core.frame.DataFrame'>\n",
      "RangeIndex: 217774 entries, 0 to 217773\n",
      "Data columns (total 21 columns):\n",
      " #   Column               Non-Null Count   Dtype         \n",
      "---  ------               --------------   -----         \n",
      " 0   name                 217472 non-null  object        \n",
      " 1   category_code        143886 non-null  object        \n",
      " 2   status               217472 non-null  object        \n",
      " 3   founded_at           109956 non-null  datetime64[ns]\n",
      " 4   closed_at            3449 non-null    datetime64[ns]\n",
      " 5   domain               147159 non-null  object        \n",
      " 6   network_username     95534 non-null   object        \n",
      " 7   country_code         108607 non-null  object        \n",
      " 8   investment_rounds    217472 non-null  float64       \n",
      " 9   funding_rounds       217472 non-null  float64       \n",
      " 10  funding_total        217472 non-null  float64       \n",
      " 11  milestones           217472 non-null  float64       \n",
      " 12  funding_round_id     52928 non-null   float64       \n",
      " 13  funded_at            52680 non-null   datetime64[ns]\n",
      " 14  funding_round_type   52928 non-null   object        \n",
      " 15  raised_amount        52928 non-null   float64       \n",
      " 16  pre_money_valuation  52928 non-null   float64       \n",
      " 17  participants         52928 non-null   float64       \n",
      " 18  is_first_round       52928 non-null   float64       \n",
      " 19  is_last_round        52928 non-null   float64       \n",
      " 20  company_id_combined  217774 non-null  float64       \n",
      "dtypes: datetime64[ns](3), float64(11), object(7)\n",
      "memory usage: 34.9+ MB\n"
     ]
    }
   ],
   "source": [
    "company_and_rounds.info()"
   ]
  },
  {
   "cell_type": "code",
   "execution_count": 29,
   "metadata": {},
   "outputs": [
    {
     "data": {
      "text/html": [
       "<div>\n",
       "<style scoped>\n",
       "    .dataframe tbody tr th:only-of-type {\n",
       "        vertical-align: middle;\n",
       "    }\n",
       "\n",
       "    .dataframe tbody tr th {\n",
       "        vertical-align: top;\n",
       "    }\n",
       "\n",
       "    .dataframe thead th {\n",
       "        text-align: right;\n",
       "    }\n",
       "</style>\n",
       "<table border=\"1\" class=\"dataframe\">\n",
       "  <thead>\n",
       "    <tr style=\"text-align: right;\">\n",
       "      <th></th>\n",
       "      <th>name</th>\n",
       "      <th>category_code</th>\n",
       "      <th>status</th>\n",
       "      <th>founded_at</th>\n",
       "      <th>closed_at</th>\n",
       "      <th>domain</th>\n",
       "      <th>network_username</th>\n",
       "      <th>country_code</th>\n",
       "      <th>investment_rounds</th>\n",
       "      <th>funding_rounds</th>\n",
       "      <th>...</th>\n",
       "      <th>milestones</th>\n",
       "      <th>funding_round_id</th>\n",
       "      <th>funded_at</th>\n",
       "      <th>funding_round_type</th>\n",
       "      <th>raised_amount</th>\n",
       "      <th>pre_money_valuation</th>\n",
       "      <th>participants</th>\n",
       "      <th>is_first_round</th>\n",
       "      <th>is_last_round</th>\n",
       "      <th>company_id_combined</th>\n",
       "    </tr>\n",
       "  </thead>\n",
       "  <tbody>\n",
       "    <tr>\n",
       "      <th>0</th>\n",
       "      <td>Wetpaint</td>\n",
       "      <td>web</td>\n",
       "      <td>operating</td>\n",
       "      <td>2005-10-17</td>\n",
       "      <td>NaT</td>\n",
       "      <td>wetpaint-inc.com</td>\n",
       "      <td>BachelrWetpaint</td>\n",
       "      <td>USA</td>\n",
       "      <td>0.0</td>\n",
       "      <td>3.0</td>\n",
       "      <td>...</td>\n",
       "      <td>5.0</td>\n",
       "      <td>888.0</td>\n",
       "      <td>2005-10-01</td>\n",
       "      <td>series-a</td>\n",
       "      <td>5250000.0</td>\n",
       "      <td>0.0</td>\n",
       "      <td>2.0</td>\n",
       "      <td>0.0</td>\n",
       "      <td>1.0</td>\n",
       "      <td>1.0</td>\n",
       "    </tr>\n",
       "    <tr>\n",
       "      <th>1</th>\n",
       "      <td>Wetpaint</td>\n",
       "      <td>web</td>\n",
       "      <td>operating</td>\n",
       "      <td>2005-10-17</td>\n",
       "      <td>NaT</td>\n",
       "      <td>wetpaint-inc.com</td>\n",
       "      <td>BachelrWetpaint</td>\n",
       "      <td>USA</td>\n",
       "      <td>0.0</td>\n",
       "      <td>3.0</td>\n",
       "      <td>...</td>\n",
       "      <td>5.0</td>\n",
       "      <td>889.0</td>\n",
       "      <td>2007-01-01</td>\n",
       "      <td>series-b</td>\n",
       "      <td>9500000.0</td>\n",
       "      <td>0.0</td>\n",
       "      <td>3.0</td>\n",
       "      <td>0.0</td>\n",
       "      <td>0.0</td>\n",
       "      <td>1.0</td>\n",
       "    </tr>\n",
       "    <tr>\n",
       "      <th>2</th>\n",
       "      <td>Wetpaint</td>\n",
       "      <td>web</td>\n",
       "      <td>operating</td>\n",
       "      <td>2005-10-17</td>\n",
       "      <td>NaT</td>\n",
       "      <td>wetpaint-inc.com</td>\n",
       "      <td>BachelrWetpaint</td>\n",
       "      <td>USA</td>\n",
       "      <td>0.0</td>\n",
       "      <td>3.0</td>\n",
       "      <td>...</td>\n",
       "      <td>5.0</td>\n",
       "      <td>2312.0</td>\n",
       "      <td>2008-05-19</td>\n",
       "      <td>series-c+</td>\n",
       "      <td>25000000.0</td>\n",
       "      <td>0.0</td>\n",
       "      <td>4.0</td>\n",
       "      <td>1.0</td>\n",
       "      <td>0.0</td>\n",
       "      <td>1.0</td>\n",
       "    </tr>\n",
       "    <tr>\n",
       "      <th>3</th>\n",
       "      <td>Flektor</td>\n",
       "      <td>games_video</td>\n",
       "      <td>acquired</td>\n",
       "      <td>NaT</td>\n",
       "      <td>NaT</td>\n",
       "      <td>flektor.com</td>\n",
       "      <td>NaN</td>\n",
       "      <td>USA</td>\n",
       "      <td>0.0</td>\n",
       "      <td>0.0</td>\n",
       "      <td>...</td>\n",
       "      <td>0.0</td>\n",
       "      <td>NaN</td>\n",
       "      <td>NaT</td>\n",
       "      <td>NaN</td>\n",
       "      <td>NaN</td>\n",
       "      <td>NaN</td>\n",
       "      <td>NaN</td>\n",
       "      <td>NaN</td>\n",
       "      <td>NaN</td>\n",
       "      <td>10.0</td>\n",
       "    </tr>\n",
       "    <tr>\n",
       "      <th>4</th>\n",
       "      <td>There</td>\n",
       "      <td>games_video</td>\n",
       "      <td>acquired</td>\n",
       "      <td>NaT</td>\n",
       "      <td>NaT</td>\n",
       "      <td>there.com</td>\n",
       "      <td>NaN</td>\n",
       "      <td>USA</td>\n",
       "      <td>0.0</td>\n",
       "      <td>0.0</td>\n",
       "      <td>...</td>\n",
       "      <td>4.0</td>\n",
       "      <td>NaN</td>\n",
       "      <td>NaT</td>\n",
       "      <td>NaN</td>\n",
       "      <td>NaN</td>\n",
       "      <td>NaN</td>\n",
       "      <td>NaN</td>\n",
       "      <td>NaN</td>\n",
       "      <td>NaN</td>\n",
       "      <td>100.0</td>\n",
       "    </tr>\n",
       "  </tbody>\n",
       "</table>\n",
       "<p>5 rows × 21 columns</p>\n",
       "</div>"
      ],
      "text/plain": [
       "       name category_code     status founded_at closed_at            domain  \\\n",
       "0  Wetpaint           web  operating 2005-10-17       NaT  wetpaint-inc.com   \n",
       "1  Wetpaint           web  operating 2005-10-17       NaT  wetpaint-inc.com   \n",
       "2  Wetpaint           web  operating 2005-10-17       NaT  wetpaint-inc.com   \n",
       "3   Flektor   games_video   acquired        NaT       NaT       flektor.com   \n",
       "4     There   games_video   acquired        NaT       NaT         there.com   \n",
       "\n",
       "  network_username country_code  investment_rounds  funding_rounds  ...  \\\n",
       "0  BachelrWetpaint          USA                0.0             3.0  ...   \n",
       "1  BachelrWetpaint          USA                0.0             3.0  ...   \n",
       "2  BachelrWetpaint          USA                0.0             3.0  ...   \n",
       "3              NaN          USA                0.0             0.0  ...   \n",
       "4              NaN          USA                0.0             0.0  ...   \n",
       "\n",
       "   milestones  funding_round_id  funded_at funding_round_type raised_amount  \\\n",
       "0         5.0             888.0 2005-10-01           series-a     5250000.0   \n",
       "1         5.0             889.0 2007-01-01           series-b     9500000.0   \n",
       "2         5.0            2312.0 2008-05-19          series-c+    25000000.0   \n",
       "3         0.0               NaN        NaT                NaN           NaN   \n",
       "4         4.0               NaN        NaT                NaN           NaN   \n",
       "\n",
       "   pre_money_valuation  participants  is_first_round  is_last_round  \\\n",
       "0                  0.0           2.0             0.0            1.0   \n",
       "1                  0.0           3.0             0.0            0.0   \n",
       "2                  0.0           4.0             1.0            0.0   \n",
       "3                  NaN           NaN             NaN            NaN   \n",
       "4                  NaN           NaN             NaN            NaN   \n",
       "\n",
       "   company_id_combined  \n",
       "0                  1.0  \n",
       "1                  1.0  \n",
       "2                  1.0  \n",
       "3                 10.0  \n",
       "4                100.0  \n",
       "\n",
       "[5 rows x 21 columns]"
      ]
     },
     "execution_count": 29,
     "metadata": {},
     "output_type": "execute_result"
    }
   ],
   "source": [
    "company_and_rounds.head()"
   ]
  },
  {
   "cell_type": "code",
   "execution_count": 30,
   "metadata": {},
   "outputs": [
    {
     "data": {
      "text/plain": [
       "name                      302\n",
       "category_code           73888\n",
       "status                    302\n",
       "founded_at             107818\n",
       "closed_at              214325\n",
       "domain                  70615\n",
       "network_username       122240\n",
       "country_code           109167\n",
       "investment_rounds         302\n",
       "funding_rounds            302\n",
       "funding_total             302\n",
       "milestones                302\n",
       "funding_round_id       164846\n",
       "funded_at              165094\n",
       "funding_round_type     164846\n",
       "raised_amount          164846\n",
       "pre_money_valuation    164846\n",
       "participants           164846\n",
       "is_first_round         164846\n",
       "is_last_round          164846\n",
       "company_id_combined         0\n",
       "dtype: int64"
      ]
     },
     "execution_count": 30,
     "metadata": {},
     "output_type": "execute_result"
    }
   ],
   "source": [
    "company_and_rounds.isna().sum()"
   ]
  },
  {
   "cell_type": "markdown",
   "metadata": {},
   "source": [
    "- На основании результата мы видим, что столбцы `category_code`, `country_code`, `founded_at`, `closed_at` и другие содержат большое количество пропусков. Это потенциально полезные данные для анализа, их нужно обрабатывать с осторожностью.\n",
    "\n",
    "- Данные в столбце `company_id_combined` являются важными для сохранения структуры данных, поскольку он используется для идентификации компаний. Для анализа финансирования основным ключом стоит выбрать столбец `funding_round_id`, так как он предоставляет уникальную информацию о каждом раунде финансирования."
   ]
  },
  {
   "cell_type": "code",
   "execution_count": 31,
   "metadata": {},
   "outputs": [
    {
     "name": "stdout",
     "output_type": "stream",
     "text": [
      "196785\n",
      "217774\n"
     ]
    }
   ],
   "source": [
    "print(company_and_rounds['company_id_combined'].nunique())\n",
    "print(len(company_and_rounds['company_id_combined']))"
   ]
  },
  {
   "cell_type": "code",
   "execution_count": 32,
   "metadata": {},
   "outputs": [
    {
     "data": {
      "text/html": [
       "<div>\n",
       "<style scoped>\n",
       "    .dataframe tbody tr th:only-of-type {\n",
       "        vertical-align: middle;\n",
       "    }\n",
       "\n",
       "    .dataframe tbody tr th {\n",
       "        vertical-align: top;\n",
       "    }\n",
       "\n",
       "    .dataframe thead th {\n",
       "        text-align: right;\n",
       "    }\n",
       "</style>\n",
       "<table border=\"1\" class=\"dataframe\">\n",
       "  <thead>\n",
       "    <tr style=\"text-align: right;\">\n",
       "      <th></th>\n",
       "      <th>company_id_combined</th>\n",
       "      <th>total_raised_amount</th>\n",
       "      <th>total_funding_rounds</th>\n",
       "      <th>average_participants_per_round</th>\n",
       "      <th>category_code</th>\n",
       "      <th>company_status</th>\n",
       "      <th>investment_rounds</th>\n",
       "    </tr>\n",
       "  </thead>\n",
       "  <tbody>\n",
       "    <tr>\n",
       "      <th>0</th>\n",
       "      <td>1.0</td>\n",
       "      <td>3.975000e+07</td>\n",
       "      <td>3</td>\n",
       "      <td>3.000000</td>\n",
       "      <td>web</td>\n",
       "      <td>operating</td>\n",
       "      <td>0.0</td>\n",
       "    </tr>\n",
       "    <tr>\n",
       "      <th>1</th>\n",
       "      <td>2.0</td>\n",
       "      <td>0.000000e+00</td>\n",
       "      <td>0</td>\n",
       "      <td>NaN</td>\n",
       "      <td>enterprise</td>\n",
       "      <td>operating</td>\n",
       "      <td>0.0</td>\n",
       "    </tr>\n",
       "    <tr>\n",
       "      <th>2</th>\n",
       "      <td>3.0</td>\n",
       "      <td>0.000000e+00</td>\n",
       "      <td>0</td>\n",
       "      <td>NaN</td>\n",
       "      <td>software</td>\n",
       "      <td>operating</td>\n",
       "      <td>0.0</td>\n",
       "    </tr>\n",
       "    <tr>\n",
       "      <th>3</th>\n",
       "      <td>4.0</td>\n",
       "      <td>4.500000e+07</td>\n",
       "      <td>4</td>\n",
       "      <td>3.500000</td>\n",
       "      <td>news</td>\n",
       "      <td>acquired</td>\n",
       "      <td>0.0</td>\n",
       "    </tr>\n",
       "    <tr>\n",
       "      <th>4</th>\n",
       "      <td>5.0</td>\n",
       "      <td>2.425700e+09</td>\n",
       "      <td>11</td>\n",
       "      <td>1.818182</td>\n",
       "      <td>social</td>\n",
       "      <td>ipo</td>\n",
       "      <td>3.0</td>\n",
       "    </tr>\n",
       "    <tr>\n",
       "      <th>...</th>\n",
       "      <td>...</td>\n",
       "      <td>...</td>\n",
       "      <td>...</td>\n",
       "      <td>...</td>\n",
       "      <td>...</td>\n",
       "      <td>...</td>\n",
       "      <td>...</td>\n",
       "    </tr>\n",
       "    <tr>\n",
       "      <th>196780</th>\n",
       "      <td>286210.0</td>\n",
       "      <td>0.000000e+00</td>\n",
       "      <td>0</td>\n",
       "      <td>NaN</td>\n",
       "      <td>None</td>\n",
       "      <td>operating</td>\n",
       "      <td>0.0</td>\n",
       "    </tr>\n",
       "    <tr>\n",
       "      <th>196781</th>\n",
       "      <td>286211.0</td>\n",
       "      <td>0.000000e+00</td>\n",
       "      <td>0</td>\n",
       "      <td>NaN</td>\n",
       "      <td>None</td>\n",
       "      <td>operating</td>\n",
       "      <td>0.0</td>\n",
       "    </tr>\n",
       "    <tr>\n",
       "      <th>196782</th>\n",
       "      <td>286212.0</td>\n",
       "      <td>0.000000e+00</td>\n",
       "      <td>0</td>\n",
       "      <td>NaN</td>\n",
       "      <td>None</td>\n",
       "      <td>operating</td>\n",
       "      <td>0.0</td>\n",
       "    </tr>\n",
       "    <tr>\n",
       "      <th>196783</th>\n",
       "      <td>286213.0</td>\n",
       "      <td>0.000000e+00</td>\n",
       "      <td>0</td>\n",
       "      <td>NaN</td>\n",
       "      <td>None</td>\n",
       "      <td>operating</td>\n",
       "      <td>0.0</td>\n",
       "    </tr>\n",
       "    <tr>\n",
       "      <th>196784</th>\n",
       "      <td>286215.0</td>\n",
       "      <td>2.712500e+05</td>\n",
       "      <td>1</td>\n",
       "      <td>0.000000</td>\n",
       "      <td>ecommerce</td>\n",
       "      <td>operating</td>\n",
       "      <td>0.0</td>\n",
       "    </tr>\n",
       "  </tbody>\n",
       "</table>\n",
       "<p>196785 rows × 7 columns</p>\n",
       "</div>"
      ],
      "text/plain": [
       "        company_id_combined  total_raised_amount  total_funding_rounds  \\\n",
       "0                       1.0         3.975000e+07                     3   \n",
       "1                       2.0         0.000000e+00                     0   \n",
       "2                       3.0         0.000000e+00                     0   \n",
       "3                       4.0         4.500000e+07                     4   \n",
       "4                       5.0         2.425700e+09                    11   \n",
       "...                     ...                  ...                   ...   \n",
       "196780             286210.0         0.000000e+00                     0   \n",
       "196781             286211.0         0.000000e+00                     0   \n",
       "196782             286212.0         0.000000e+00                     0   \n",
       "196783             286213.0         0.000000e+00                     0   \n",
       "196784             286215.0         2.712500e+05                     1   \n",
       "\n",
       "        average_participants_per_round category_code company_status  \\\n",
       "0                             3.000000           web      operating   \n",
       "1                                  NaN    enterprise      operating   \n",
       "2                                  NaN      software      operating   \n",
       "3                             3.500000          news       acquired   \n",
       "4                             1.818182        social            ipo   \n",
       "...                                ...           ...            ...   \n",
       "196780                             NaN          None      operating   \n",
       "196781                             NaN          None      operating   \n",
       "196782                             NaN          None      operating   \n",
       "196783                             NaN          None      operating   \n",
       "196784                        0.000000     ecommerce      operating   \n",
       "\n",
       "        investment_rounds  \n",
       "0                     0.0  \n",
       "1                     0.0  \n",
       "2                     0.0  \n",
       "3                     0.0  \n",
       "4                     3.0  \n",
       "...                   ...  \n",
       "196780                0.0  \n",
       "196781                0.0  \n",
       "196782                0.0  \n",
       "196783                0.0  \n",
       "196784                0.0  \n",
       "\n",
       "[196785 rows x 7 columns]"
      ]
     },
     "metadata": {},
     "output_type": "display_data"
    }
   ],
   "source": [
    "# Сагрегируем данные о компаниях и их раундах финансирования, чтобы получить обобщенную информацию по каждой компании\n",
    "company_summary = company_and_rounds.groupby('company_id_combined').agg({\n",
    "    'raised_amount': 'sum',                \n",
    "    'funding_round_id': 'count',          \n",
    "    'participants': 'mean',               \n",
    "    'category_code': 'first',              \n",
    "    'status': 'first',\n",
    "    'investment_rounds': 'first'\n",
    "}).reset_index()\n",
    "\n",
    "# Переименуем столбцы для лучшего восприятия\n",
    "company_summary.rename(columns={\n",
    "    'raised_amount': 'total_raised_amount',           \n",
    "    'funding_round_id': 'total_funding_rounds',       \n",
    "    'participants': 'average_participants_per_round', \n",
    "    'category code': 'category_code',                \n",
    "    'status': 'company_status',\n",
    "    'investment_rounds': 'investment_rounds'\n",
    "}, inplace=True)\n",
    "\n",
    "display(company_summary)"
   ]
  },
  {
   "cell_type": "code",
   "execution_count": 33,
   "metadata": {},
   "outputs": [
    {
     "name": "stdout",
     "output_type": "stream",
     "text": [
      "0    5_250_000.00\n",
      "1    9_500_000.00\n",
      "2   25_000_000.00\n",
      "3             NaN\n",
      "4             NaN\n",
      "Name: raised_amount, dtype: float64\n"
     ]
    },
    {
     "data": {
      "text/html": [
       "<div>\n",
       "<style scoped>\n",
       "    .dataframe tbody tr th:only-of-type {\n",
       "        vertical-align: middle;\n",
       "    }\n",
       "\n",
       "    .dataframe tbody tr th {\n",
       "        vertical-align: top;\n",
       "    }\n",
       "\n",
       "    .dataframe thead th {\n",
       "        text-align: right;\n",
       "    }\n",
       "</style>\n",
       "<table border=\"1\" class=\"dataframe\">\n",
       "  <thead>\n",
       "    <tr style=\"text-align: right;\">\n",
       "      <th></th>\n",
       "      <th>company_id_combined</th>\n",
       "      <th>total_raised_amount</th>\n",
       "      <th>total_funding_rounds</th>\n",
       "      <th>average_participants_per_round</th>\n",
       "      <th>category_code</th>\n",
       "      <th>company_status</th>\n",
       "      <th>investment_rounds</th>\n",
       "    </tr>\n",
       "  </thead>\n",
       "  <tbody>\n",
       "    <tr>\n",
       "      <th>0</th>\n",
       "      <td>1.00</td>\n",
       "      <td>39_750_000.00</td>\n",
       "      <td>3</td>\n",
       "      <td>3.00</td>\n",
       "      <td>web</td>\n",
       "      <td>operating</td>\n",
       "      <td>0.00</td>\n",
       "    </tr>\n",
       "    <tr>\n",
       "      <th>1</th>\n",
       "      <td>2.00</td>\n",
       "      <td>0.00</td>\n",
       "      <td>0</td>\n",
       "      <td>NaN</td>\n",
       "      <td>enterprise</td>\n",
       "      <td>operating</td>\n",
       "      <td>0.00</td>\n",
       "    </tr>\n",
       "    <tr>\n",
       "      <th>2</th>\n",
       "      <td>3.00</td>\n",
       "      <td>0.00</td>\n",
       "      <td>0</td>\n",
       "      <td>NaN</td>\n",
       "      <td>software</td>\n",
       "      <td>operating</td>\n",
       "      <td>0.00</td>\n",
       "    </tr>\n",
       "    <tr>\n",
       "      <th>3</th>\n",
       "      <td>4.00</td>\n",
       "      <td>45_000_000.00</td>\n",
       "      <td>4</td>\n",
       "      <td>3.50</td>\n",
       "      <td>news</td>\n",
       "      <td>acquired</td>\n",
       "      <td>0.00</td>\n",
       "    </tr>\n",
       "    <tr>\n",
       "      <th>4</th>\n",
       "      <td>5.00</td>\n",
       "      <td>2_425_700_000.00</td>\n",
       "      <td>11</td>\n",
       "      <td>1.82</td>\n",
       "      <td>social</td>\n",
       "      <td>ipo</td>\n",
       "      <td>3.00</td>\n",
       "    </tr>\n",
       "    <tr>\n",
       "      <th>...</th>\n",
       "      <td>...</td>\n",
       "      <td>...</td>\n",
       "      <td>...</td>\n",
       "      <td>...</td>\n",
       "      <td>...</td>\n",
       "      <td>...</td>\n",
       "      <td>...</td>\n",
       "    </tr>\n",
       "    <tr>\n",
       "      <th>196780</th>\n",
       "      <td>286_210.00</td>\n",
       "      <td>0.00</td>\n",
       "      <td>0</td>\n",
       "      <td>NaN</td>\n",
       "      <td>None</td>\n",
       "      <td>operating</td>\n",
       "      <td>0.00</td>\n",
       "    </tr>\n",
       "    <tr>\n",
       "      <th>196781</th>\n",
       "      <td>286_211.00</td>\n",
       "      <td>0.00</td>\n",
       "      <td>0</td>\n",
       "      <td>NaN</td>\n",
       "      <td>None</td>\n",
       "      <td>operating</td>\n",
       "      <td>0.00</td>\n",
       "    </tr>\n",
       "    <tr>\n",
       "      <th>196782</th>\n",
       "      <td>286_212.00</td>\n",
       "      <td>0.00</td>\n",
       "      <td>0</td>\n",
       "      <td>NaN</td>\n",
       "      <td>None</td>\n",
       "      <td>operating</td>\n",
       "      <td>0.00</td>\n",
       "    </tr>\n",
       "    <tr>\n",
       "      <th>196783</th>\n",
       "      <td>286_213.00</td>\n",
       "      <td>0.00</td>\n",
       "      <td>0</td>\n",
       "      <td>NaN</td>\n",
       "      <td>None</td>\n",
       "      <td>operating</td>\n",
       "      <td>0.00</td>\n",
       "    </tr>\n",
       "    <tr>\n",
       "      <th>196784</th>\n",
       "      <td>286_215.00</td>\n",
       "      <td>271_250.00</td>\n",
       "      <td>1</td>\n",
       "      <td>0.00</td>\n",
       "      <td>ecommerce</td>\n",
       "      <td>operating</td>\n",
       "      <td>0.00</td>\n",
       "    </tr>\n",
       "  </tbody>\n",
       "</table>\n",
       "<p>196785 rows × 7 columns</p>\n",
       "</div>"
      ],
      "text/plain": [
       "        company_id_combined  total_raised_amount  total_funding_rounds  \\\n",
       "0                      1.00        39_750_000.00                     3   \n",
       "1                      2.00                 0.00                     0   \n",
       "2                      3.00                 0.00                     0   \n",
       "3                      4.00        45_000_000.00                     4   \n",
       "4                      5.00     2_425_700_000.00                    11   \n",
       "...                     ...                  ...                   ...   \n",
       "196780           286_210.00                 0.00                     0   \n",
       "196781           286_211.00                 0.00                     0   \n",
       "196782           286_212.00                 0.00                     0   \n",
       "196783           286_213.00                 0.00                     0   \n",
       "196784           286_215.00           271_250.00                     1   \n",
       "\n",
       "        average_participants_per_round category_code company_status  \\\n",
       "0                                 3.00           web      operating   \n",
       "1                                  NaN    enterprise      operating   \n",
       "2                                  NaN      software      operating   \n",
       "3                                 3.50          news       acquired   \n",
       "4                                 1.82        social            ipo   \n",
       "...                                ...           ...            ...   \n",
       "196780                             NaN          None      operating   \n",
       "196781                             NaN          None      operating   \n",
       "196782                             NaN          None      operating   \n",
       "196783                             NaN          None      operating   \n",
       "196784                            0.00     ecommerce      operating   \n",
       "\n",
       "        investment_rounds  \n",
       "0                    0.00  \n",
       "1                    0.00  \n",
       "2                    0.00  \n",
       "3                    0.00  \n",
       "4                    3.00  \n",
       "...                   ...  \n",
       "196780               0.00  \n",
       "196781               0.00  \n",
       "196782               0.00  \n",
       "196783               0.00  \n",
       "196784               0.00  \n",
       "\n",
       "[196785 rows x 7 columns]"
      ]
     },
     "metadata": {},
     "output_type": "display_data"
    }
   ],
   "source": [
    "# Устанавливаем вывод чисел в обычном формате\n",
    "pd.set_option('display.float_format', '{:_.2f}'.format)\n",
    "print(company_and_rounds['raised_amount'].head())\n",
    "display(company_summary)"
   ]
  },
  {
   "cell_type": "code",
   "execution_count": 34,
   "metadata": {},
   "outputs": [
    {
     "name": "stdout",
     "output_type": "stream",
     "text": [
      "<class 'pandas.core.frame.DataFrame'>\n",
      "Int64Index: 217774 entries, 0 to 217773\n",
      "Data columns (total 27 columns):\n",
      " #   Column                          Non-Null Count   Dtype         \n",
      "---  ------                          --------------   -----         \n",
      " 0   name                            217472 non-null  object        \n",
      " 1   category_code                   143886 non-null  object        \n",
      " 2   status                          217472 non-null  object        \n",
      " 3   founded_at                      109956 non-null  datetime64[ns]\n",
      " 4   closed_at                       3449 non-null    datetime64[ns]\n",
      " 5   domain                          147159 non-null  object        \n",
      " 6   network_username                95534 non-null   object        \n",
      " 7   country_code                    108607 non-null  object        \n",
      " 8   investment_rounds               217472 non-null  float64       \n",
      " 9   funding_rounds                  217472 non-null  float64       \n",
      " 10  funding_total                   217472 non-null  float64       \n",
      " 11  milestones                      217472 non-null  float64       \n",
      " 12  funding_round_id                52928 non-null   float64       \n",
      " 13  funded_at                       52680 non-null   datetime64[ns]\n",
      " 14  funding_round_type              52928 non-null   object        \n",
      " 15  raised_amount                   52928 non-null   float64       \n",
      " 16  pre_money_valuation             52928 non-null   float64       \n",
      " 17  participants                    52928 non-null   float64       \n",
      " 18  is_first_round                  52928 non-null   float64       \n",
      " 19  is_last_round                   52928 non-null   float64       \n",
      " 20  company_id_combined             217774 non-null  float64       \n",
      " 21  total_raised_amount             217774 non-null  float64       \n",
      " 22  total_funding_rounds            217774 non-null  int64         \n",
      " 23  average_participants_per_round  52928 non-null   float64       \n",
      " 24  category_code_summary           143886 non-null  object        \n",
      " 25  company_status                  217472 non-null  object        \n",
      " 26  investment_rounds_summary       217472 non-null  float64       \n",
      "dtypes: datetime64[ns](3), float64(14), int64(1), object(9)\n",
      "memory usage: 46.5+ MB\n",
      "None\n"
     ]
    }
   ],
   "source": [
    "# Соединим исходную таблицу с агрегированной таблицей с суммарной информацией по компаниям\n",
    "final_company_and_rounds = company_and_rounds.merge(company_summary, on='company_id_combined', suffixes=('', '_summary'))\n",
    "print(final_company_and_rounds.info())"
   ]
  },
  {
   "cell_type": "code",
   "execution_count": 35,
   "metadata": {},
   "outputs": [
    {
     "data": {
      "text/html": [
       "<div>\n",
       "<style scoped>\n",
       "    .dataframe tbody tr th:only-of-type {\n",
       "        vertical-align: middle;\n",
       "    }\n",
       "\n",
       "    .dataframe tbody tr th {\n",
       "        vertical-align: top;\n",
       "    }\n",
       "\n",
       "    .dataframe thead th {\n",
       "        text-align: right;\n",
       "    }\n",
       "</style>\n",
       "<table border=\"1\" class=\"dataframe\">\n",
       "  <thead>\n",
       "    <tr style=\"text-align: right;\">\n",
       "      <th></th>\n",
       "      <th>114252</th>\n",
       "      <th>136248</th>\n",
       "      <th>68189</th>\n",
       "    </tr>\n",
       "  </thead>\n",
       "  <tbody>\n",
       "    <tr>\n",
       "      <th>name</th>\n",
       "      <td>Mentals</td>\n",
       "      <td>Adobe Marketing Cloud</td>\n",
       "      <td>doDecals</td>\n",
       "    </tr>\n",
       "    <tr>\n",
       "      <th>category_code</th>\n",
       "      <td>games_video</td>\n",
       "      <td>NaN</td>\n",
       "      <td>ecommerce</td>\n",
       "    </tr>\n",
       "    <tr>\n",
       "      <th>status</th>\n",
       "      <td>operating</td>\n",
       "      <td>operating</td>\n",
       "      <td>operating</td>\n",
       "    </tr>\n",
       "    <tr>\n",
       "      <th>founded_at</th>\n",
       "      <td>NaT</td>\n",
       "      <td>NaT</td>\n",
       "      <td>2012-06-01 00:00:00</td>\n",
       "    </tr>\n",
       "    <tr>\n",
       "      <th>closed_at</th>\n",
       "      <td>NaT</td>\n",
       "      <td>NaT</td>\n",
       "      <td>NaT</td>\n",
       "    </tr>\n",
       "    <tr>\n",
       "      <th>domain</th>\n",
       "      <td>mentals.com</td>\n",
       "      <td>NaN</td>\n",
       "      <td>dodecals.com</td>\n",
       "    </tr>\n",
       "    <tr>\n",
       "      <th>network_username</th>\n",
       "      <td>MentalsTeam</td>\n",
       "      <td>NaN</td>\n",
       "      <td>dodecals</td>\n",
       "    </tr>\n",
       "    <tr>\n",
       "      <th>country_code</th>\n",
       "      <td>NaN</td>\n",
       "      <td>NaN</td>\n",
       "      <td>IND</td>\n",
       "    </tr>\n",
       "    <tr>\n",
       "      <th>investment_rounds</th>\n",
       "      <td>0.00</td>\n",
       "      <td>0.00</td>\n",
       "      <td>0.00</td>\n",
       "    </tr>\n",
       "    <tr>\n",
       "      <th>funding_rounds</th>\n",
       "      <td>0.00</td>\n",
       "      <td>0.00</td>\n",
       "      <td>0.00</td>\n",
       "    </tr>\n",
       "    <tr>\n",
       "      <th>funding_total</th>\n",
       "      <td>0.00</td>\n",
       "      <td>0.00</td>\n",
       "      <td>0.00</td>\n",
       "    </tr>\n",
       "    <tr>\n",
       "      <th>milestones</th>\n",
       "      <td>0.00</td>\n",
       "      <td>0.00</td>\n",
       "      <td>1.00</td>\n",
       "    </tr>\n",
       "    <tr>\n",
       "      <th>funding_round_id</th>\n",
       "      <td>NaN</td>\n",
       "      <td>NaN</td>\n",
       "      <td>NaN</td>\n",
       "    </tr>\n",
       "    <tr>\n",
       "      <th>funded_at</th>\n",
       "      <td>NaT</td>\n",
       "      <td>NaT</td>\n",
       "      <td>NaT</td>\n",
       "    </tr>\n",
       "    <tr>\n",
       "      <th>funding_round_type</th>\n",
       "      <td>NaN</td>\n",
       "      <td>NaN</td>\n",
       "      <td>NaN</td>\n",
       "    </tr>\n",
       "    <tr>\n",
       "      <th>raised_amount</th>\n",
       "      <td>NaN</td>\n",
       "      <td>NaN</td>\n",
       "      <td>NaN</td>\n",
       "    </tr>\n",
       "    <tr>\n",
       "      <th>pre_money_valuation</th>\n",
       "      <td>NaN</td>\n",
       "      <td>NaN</td>\n",
       "      <td>NaN</td>\n",
       "    </tr>\n",
       "    <tr>\n",
       "      <th>participants</th>\n",
       "      <td>NaN</td>\n",
       "      <td>NaN</td>\n",
       "      <td>NaN</td>\n",
       "    </tr>\n",
       "    <tr>\n",
       "      <th>is_first_round</th>\n",
       "      <td>NaN</td>\n",
       "      <td>NaN</td>\n",
       "      <td>NaN</td>\n",
       "    </tr>\n",
       "    <tr>\n",
       "      <th>is_last_round</th>\n",
       "      <td>NaN</td>\n",
       "      <td>NaN</td>\n",
       "      <td>NaN</td>\n",
       "    </tr>\n",
       "    <tr>\n",
       "      <th>company_id_combined</th>\n",
       "      <td>250_144.00</td>\n",
       "      <td>270_503.00</td>\n",
       "      <td>205_540.00</td>\n",
       "    </tr>\n",
       "    <tr>\n",
       "      <th>total_raised_amount</th>\n",
       "      <td>0.00</td>\n",
       "      <td>0.00</td>\n",
       "      <td>0.00</td>\n",
       "    </tr>\n",
       "    <tr>\n",
       "      <th>total_funding_rounds</th>\n",
       "      <td>0</td>\n",
       "      <td>0</td>\n",
       "      <td>0</td>\n",
       "    </tr>\n",
       "    <tr>\n",
       "      <th>average_participants_per_round</th>\n",
       "      <td>NaN</td>\n",
       "      <td>NaN</td>\n",
       "      <td>NaN</td>\n",
       "    </tr>\n",
       "    <tr>\n",
       "      <th>category_code_summary</th>\n",
       "      <td>games_video</td>\n",
       "      <td>None</td>\n",
       "      <td>ecommerce</td>\n",
       "    </tr>\n",
       "    <tr>\n",
       "      <th>company_status</th>\n",
       "      <td>operating</td>\n",
       "      <td>operating</td>\n",
       "      <td>operating</td>\n",
       "    </tr>\n",
       "    <tr>\n",
       "      <th>investment_rounds_summary</th>\n",
       "      <td>0.00</td>\n",
       "      <td>0.00</td>\n",
       "      <td>0.00</td>\n",
       "    </tr>\n",
       "  </tbody>\n",
       "</table>\n",
       "</div>"
      ],
      "text/plain": [
       "                                     114252                 136248  \\\n",
       "name                                Mentals  Adobe Marketing Cloud   \n",
       "category_code                   games_video                    NaN   \n",
       "status                            operating              operating   \n",
       "founded_at                              NaT                    NaT   \n",
       "closed_at                               NaT                    NaT   \n",
       "domain                          mentals.com                    NaN   \n",
       "network_username                MentalsTeam                    NaN   \n",
       "country_code                            NaN                    NaN   \n",
       "investment_rounds                      0.00                   0.00   \n",
       "funding_rounds                         0.00                   0.00   \n",
       "funding_total                          0.00                   0.00   \n",
       "milestones                             0.00                   0.00   \n",
       "funding_round_id                        NaN                    NaN   \n",
       "funded_at                               NaT                    NaT   \n",
       "funding_round_type                      NaN                    NaN   \n",
       "raised_amount                           NaN                    NaN   \n",
       "pre_money_valuation                     NaN                    NaN   \n",
       "participants                            NaN                    NaN   \n",
       "is_first_round                          NaN                    NaN   \n",
       "is_last_round                           NaN                    NaN   \n",
       "company_id_combined              250_144.00             270_503.00   \n",
       "total_raised_amount                    0.00                   0.00   \n",
       "total_funding_rounds                      0                      0   \n",
       "average_participants_per_round          NaN                    NaN   \n",
       "category_code_summary           games_video                   None   \n",
       "company_status                    operating              operating   \n",
       "investment_rounds_summary              0.00                   0.00   \n",
       "\n",
       "                                             68189   \n",
       "name                                       doDecals  \n",
       "category_code                             ecommerce  \n",
       "status                                    operating  \n",
       "founded_at                      2012-06-01 00:00:00  \n",
       "closed_at                                       NaT  \n",
       "domain                                 dodecals.com  \n",
       "network_username                           dodecals  \n",
       "country_code                                    IND  \n",
       "investment_rounds                              0.00  \n",
       "funding_rounds                                 0.00  \n",
       "funding_total                                  0.00  \n",
       "milestones                                     1.00  \n",
       "funding_round_id                                NaN  \n",
       "funded_at                                       NaT  \n",
       "funding_round_type                              NaN  \n",
       "raised_amount                                   NaN  \n",
       "pre_money_valuation                             NaN  \n",
       "participants                                    NaN  \n",
       "is_first_round                                  NaN  \n",
       "is_last_round                                   NaN  \n",
       "company_id_combined                      205_540.00  \n",
       "total_raised_amount                            0.00  \n",
       "total_funding_rounds                              0  \n",
       "average_participants_per_round                  NaN  \n",
       "category_code_summary                     ecommerce  \n",
       "company_status                            operating  \n",
       "investment_rounds_summary                      0.00  "
      ]
     },
     "execution_count": 35,
     "metadata": {},
     "output_type": "execute_result"
    }
   ],
   "source": [
    "final_company_and_rounds.sample(3).T"
   ]
  },
  {
   "cell_type": "code",
   "execution_count": 36,
   "metadata": {
    "scrolled": false
   },
   "outputs": [
    {
     "name": "stdout",
     "output_type": "stream",
     "text": [
      "Найденные дубликаты:\n"
     ]
    },
    {
     "data": {
      "text/html": [
       "<div>\n",
       "<style scoped>\n",
       "    .dataframe tbody tr th:only-of-type {\n",
       "        vertical-align: middle;\n",
       "    }\n",
       "\n",
       "    .dataframe tbody tr th {\n",
       "        vertical-align: top;\n",
       "    }\n",
       "\n",
       "    .dataframe thead th {\n",
       "        text-align: right;\n",
       "    }\n",
       "</style>\n",
       "<table border=\"1\" class=\"dataframe\">\n",
       "  <thead>\n",
       "    <tr style=\"text-align: right;\">\n",
       "      <th></th>\n",
       "      <th>name</th>\n",
       "      <th>category_code</th>\n",
       "      <th>status</th>\n",
       "      <th>founded_at</th>\n",
       "      <th>closed_at</th>\n",
       "      <th>domain</th>\n",
       "      <th>network_username</th>\n",
       "      <th>country_code</th>\n",
       "      <th>investment_rounds</th>\n",
       "      <th>funding_rounds</th>\n",
       "      <th>...</th>\n",
       "      <th>participants</th>\n",
       "      <th>is_first_round</th>\n",
       "      <th>is_last_round</th>\n",
       "      <th>company_id_combined</th>\n",
       "      <th>total_raised_amount</th>\n",
       "      <th>total_funding_rounds</th>\n",
       "      <th>average_participants_per_round</th>\n",
       "      <th>category_code_summary</th>\n",
       "      <th>company_status</th>\n",
       "      <th>investment_rounds_summary</th>\n",
       "    </tr>\n",
       "  </thead>\n",
       "  <tbody>\n",
       "    <tr>\n",
       "      <th>0</th>\n",
       "      <td>Wetpaint</td>\n",
       "      <td>web</td>\n",
       "      <td>operating</td>\n",
       "      <td>2005-10-17</td>\n",
       "      <td>NaT</td>\n",
       "      <td>wetpaint-inc.com</td>\n",
       "      <td>BachelrWetpaint</td>\n",
       "      <td>USA</td>\n",
       "      <td>0.00</td>\n",
       "      <td>3.00</td>\n",
       "      <td>...</td>\n",
       "      <td>2.00</td>\n",
       "      <td>0.00</td>\n",
       "      <td>1.00</td>\n",
       "      <td>1.00</td>\n",
       "      <td>39_750_000.00</td>\n",
       "      <td>3</td>\n",
       "      <td>3.00</td>\n",
       "      <td>web</td>\n",
       "      <td>operating</td>\n",
       "      <td>0.00</td>\n",
       "    </tr>\n",
       "    <tr>\n",
       "      <th>1</th>\n",
       "      <td>Wetpaint</td>\n",
       "      <td>web</td>\n",
       "      <td>operating</td>\n",
       "      <td>2005-10-17</td>\n",
       "      <td>NaT</td>\n",
       "      <td>wetpaint-inc.com</td>\n",
       "      <td>BachelrWetpaint</td>\n",
       "      <td>USA</td>\n",
       "      <td>0.00</td>\n",
       "      <td>3.00</td>\n",
       "      <td>...</td>\n",
       "      <td>3.00</td>\n",
       "      <td>0.00</td>\n",
       "      <td>0.00</td>\n",
       "      <td>1.00</td>\n",
       "      <td>39_750_000.00</td>\n",
       "      <td>3</td>\n",
       "      <td>3.00</td>\n",
       "      <td>web</td>\n",
       "      <td>operating</td>\n",
       "      <td>0.00</td>\n",
       "    </tr>\n",
       "    <tr>\n",
       "      <th>2</th>\n",
       "      <td>Wetpaint</td>\n",
       "      <td>web</td>\n",
       "      <td>operating</td>\n",
       "      <td>2005-10-17</td>\n",
       "      <td>NaT</td>\n",
       "      <td>wetpaint-inc.com</td>\n",
       "      <td>BachelrWetpaint</td>\n",
       "      <td>USA</td>\n",
       "      <td>0.00</td>\n",
       "      <td>3.00</td>\n",
       "      <td>...</td>\n",
       "      <td>4.00</td>\n",
       "      <td>1.00</td>\n",
       "      <td>0.00</td>\n",
       "      <td>1.00</td>\n",
       "      <td>39_750_000.00</td>\n",
       "      <td>3</td>\n",
       "      <td>3.00</td>\n",
       "      <td>web</td>\n",
       "      <td>operating</td>\n",
       "      <td>0.00</td>\n",
       "    </tr>\n",
       "    <tr>\n",
       "      <th>21</th>\n",
       "      <td>Fitbit</td>\n",
       "      <td>health</td>\n",
       "      <td>operating</td>\n",
       "      <td>2007-10-01</td>\n",
       "      <td>NaT</td>\n",
       "      <td>fitbit.com</td>\n",
       "      <td>fitbit</td>\n",
       "      <td>USA</td>\n",
       "      <td>0.00</td>\n",
       "      <td>5.00</td>\n",
       "      <td>...</td>\n",
       "      <td>2.00</td>\n",
       "      <td>0.00</td>\n",
       "      <td>1.00</td>\n",
       "      <td>10_015.00</td>\n",
       "      <td>68_069_200.00</td>\n",
       "      <td>5</td>\n",
       "      <td>3.80</td>\n",
       "      <td>health</td>\n",
       "      <td>operating</td>\n",
       "      <td>0.00</td>\n",
       "    </tr>\n",
       "    <tr>\n",
       "      <th>22</th>\n",
       "      <td>Fitbit</td>\n",
       "      <td>health</td>\n",
       "      <td>operating</td>\n",
       "      <td>2007-10-01</td>\n",
       "      <td>NaT</td>\n",
       "      <td>fitbit.com</td>\n",
       "      <td>fitbit</td>\n",
       "      <td>USA</td>\n",
       "      <td>0.00</td>\n",
       "      <td>5.00</td>\n",
       "      <td>...</td>\n",
       "      <td>4.00</td>\n",
       "      <td>0.00</td>\n",
       "      <td>0.00</td>\n",
       "      <td>10_015.00</td>\n",
       "      <td>68_069_200.00</td>\n",
       "      <td>5</td>\n",
       "      <td>3.80</td>\n",
       "      <td>health</td>\n",
       "      <td>operating</td>\n",
       "      <td>0.00</td>\n",
       "    </tr>\n",
       "    <tr>\n",
       "      <th>...</th>\n",
       "      <td>...</td>\n",
       "      <td>...</td>\n",
       "      <td>...</td>\n",
       "      <td>...</td>\n",
       "      <td>...</td>\n",
       "      <td>...</td>\n",
       "      <td>...</td>\n",
       "      <td>...</td>\n",
       "      <td>...</td>\n",
       "      <td>...</td>\n",
       "      <td>...</td>\n",
       "      <td>...</td>\n",
       "      <td>...</td>\n",
       "      <td>...</td>\n",
       "      <td>...</td>\n",
       "      <td>...</td>\n",
       "      <td>...</td>\n",
       "      <td>...</td>\n",
       "      <td>...</td>\n",
       "      <td>...</td>\n",
       "      <td>...</td>\n",
       "    </tr>\n",
       "    <tr>\n",
       "      <th>217754</th>\n",
       "      <td>NaN</td>\n",
       "      <td>NaN</td>\n",
       "      <td>NaN</td>\n",
       "      <td>NaT</td>\n",
       "      <td>NaT</td>\n",
       "      <td>NaN</td>\n",
       "      <td>NaN</td>\n",
       "      <td>NaN</td>\n",
       "      <td>NaN</td>\n",
       "      <td>NaN</td>\n",
       "      <td>...</td>\n",
       "      <td>0.00</td>\n",
       "      <td>0.00</td>\n",
       "      <td>1.00</td>\n",
       "      <td>68_946.00</td>\n",
       "      <td>46_747_100.00</td>\n",
       "      <td>2</td>\n",
       "      <td>1.50</td>\n",
       "      <td>NaN</td>\n",
       "      <td>NaN</td>\n",
       "      <td>NaN</td>\n",
       "    </tr>\n",
       "    <tr>\n",
       "      <th>217756</th>\n",
       "      <td>NaN</td>\n",
       "      <td>NaN</td>\n",
       "      <td>NaN</td>\n",
       "      <td>NaT</td>\n",
       "      <td>NaT</td>\n",
       "      <td>NaN</td>\n",
       "      <td>NaN</td>\n",
       "      <td>NaN</td>\n",
       "      <td>NaN</td>\n",
       "      <td>NaN</td>\n",
       "      <td>...</td>\n",
       "      <td>0.00</td>\n",
       "      <td>1.00</td>\n",
       "      <td>0.00</td>\n",
       "      <td>276_234.00</td>\n",
       "      <td>4_335_122.00</td>\n",
       "      <td>2</td>\n",
       "      <td>0.00</td>\n",
       "      <td>NaN</td>\n",
       "      <td>NaN</td>\n",
       "      <td>NaN</td>\n",
       "    </tr>\n",
       "    <tr>\n",
       "      <th>217757</th>\n",
       "      <td>NaN</td>\n",
       "      <td>NaN</td>\n",
       "      <td>NaN</td>\n",
       "      <td>NaT</td>\n",
       "      <td>NaT</td>\n",
       "      <td>NaN</td>\n",
       "      <td>NaN</td>\n",
       "      <td>NaN</td>\n",
       "      <td>NaN</td>\n",
       "      <td>NaN</td>\n",
       "      <td>...</td>\n",
       "      <td>0.00</td>\n",
       "      <td>0.00</td>\n",
       "      <td>1.00</td>\n",
       "      <td>276_234.00</td>\n",
       "      <td>4_335_122.00</td>\n",
       "      <td>2</td>\n",
       "      <td>0.00</td>\n",
       "      <td>NaN</td>\n",
       "      <td>NaN</td>\n",
       "      <td>NaN</td>\n",
       "    </tr>\n",
       "    <tr>\n",
       "      <th>217770</th>\n",
       "      <td>NaN</td>\n",
       "      <td>NaN</td>\n",
       "      <td>NaN</td>\n",
       "      <td>NaT</td>\n",
       "      <td>NaT</td>\n",
       "      <td>NaN</td>\n",
       "      <td>NaN</td>\n",
       "      <td>NaN</td>\n",
       "      <td>NaN</td>\n",
       "      <td>NaN</td>\n",
       "      <td>...</td>\n",
       "      <td>0.00</td>\n",
       "      <td>0.00</td>\n",
       "      <td>1.00</td>\n",
       "      <td>55_477.00</td>\n",
       "      <td>12_759_020.00</td>\n",
       "      <td>2</td>\n",
       "      <td>0.00</td>\n",
       "      <td>NaN</td>\n",
       "      <td>NaN</td>\n",
       "      <td>NaN</td>\n",
       "    </tr>\n",
       "    <tr>\n",
       "      <th>217771</th>\n",
       "      <td>NaN</td>\n",
       "      <td>NaN</td>\n",
       "      <td>NaN</td>\n",
       "      <td>NaT</td>\n",
       "      <td>NaT</td>\n",
       "      <td>NaN</td>\n",
       "      <td>NaN</td>\n",
       "      <td>NaN</td>\n",
       "      <td>NaN</td>\n",
       "      <td>NaN</td>\n",
       "      <td>...</td>\n",
       "      <td>0.00</td>\n",
       "      <td>1.00</td>\n",
       "      <td>0.00</td>\n",
       "      <td>55_477.00</td>\n",
       "      <td>12_759_020.00</td>\n",
       "      <td>2</td>\n",
       "      <td>0.00</td>\n",
       "      <td>NaN</td>\n",
       "      <td>NaN</td>\n",
       "      <td>NaN</td>\n",
       "    </tr>\n",
       "  </tbody>\n",
       "</table>\n",
       "<p>32206 rows × 27 columns</p>\n",
       "</div>"
      ],
      "text/plain": [
       "            name category_code     status founded_at closed_at  \\\n",
       "0       Wetpaint           web  operating 2005-10-17       NaT   \n",
       "1       Wetpaint           web  operating 2005-10-17       NaT   \n",
       "2       Wetpaint           web  operating 2005-10-17       NaT   \n",
       "21        Fitbit        health  operating 2007-10-01       NaT   \n",
       "22        Fitbit        health  operating 2007-10-01       NaT   \n",
       "...          ...           ...        ...        ...       ...   \n",
       "217754       NaN           NaN        NaN        NaT       NaT   \n",
       "217756       NaN           NaN        NaN        NaT       NaT   \n",
       "217757       NaN           NaN        NaN        NaT       NaT   \n",
       "217770       NaN           NaN        NaN        NaT       NaT   \n",
       "217771       NaN           NaN        NaN        NaT       NaT   \n",
       "\n",
       "                  domain network_username country_code  investment_rounds  \\\n",
       "0       wetpaint-inc.com  BachelrWetpaint          USA               0.00   \n",
       "1       wetpaint-inc.com  BachelrWetpaint          USA               0.00   \n",
       "2       wetpaint-inc.com  BachelrWetpaint          USA               0.00   \n",
       "21            fitbit.com           fitbit          USA               0.00   \n",
       "22            fitbit.com           fitbit          USA               0.00   \n",
       "...                  ...              ...          ...                ...   \n",
       "217754               NaN              NaN          NaN                NaN   \n",
       "217756               NaN              NaN          NaN                NaN   \n",
       "217757               NaN              NaN          NaN                NaN   \n",
       "217770               NaN              NaN          NaN                NaN   \n",
       "217771               NaN              NaN          NaN                NaN   \n",
       "\n",
       "        funding_rounds  ...  participants  is_first_round  is_last_round  \\\n",
       "0                 3.00  ...          2.00            0.00           1.00   \n",
       "1                 3.00  ...          3.00            0.00           0.00   \n",
       "2                 3.00  ...          4.00            1.00           0.00   \n",
       "21                5.00  ...          2.00            0.00           1.00   \n",
       "22                5.00  ...          4.00            0.00           0.00   \n",
       "...                ...  ...           ...             ...            ...   \n",
       "217754             NaN  ...          0.00            0.00           1.00   \n",
       "217756             NaN  ...          0.00            1.00           0.00   \n",
       "217757             NaN  ...          0.00            0.00           1.00   \n",
       "217770             NaN  ...          0.00            0.00           1.00   \n",
       "217771             NaN  ...          0.00            1.00           0.00   \n",
       "\n",
       "       company_id_combined total_raised_amount  total_funding_rounds  \\\n",
       "0                     1.00       39_750_000.00                     3   \n",
       "1                     1.00       39_750_000.00                     3   \n",
       "2                     1.00       39_750_000.00                     3   \n",
       "21               10_015.00       68_069_200.00                     5   \n",
       "22               10_015.00       68_069_200.00                     5   \n",
       "...                    ...                 ...                   ...   \n",
       "217754           68_946.00       46_747_100.00                     2   \n",
       "217756          276_234.00        4_335_122.00                     2   \n",
       "217757          276_234.00        4_335_122.00                     2   \n",
       "217770           55_477.00       12_759_020.00                     2   \n",
       "217771           55_477.00       12_759_020.00                     2   \n",
       "\n",
       "        average_participants_per_round  category_code_summary  company_status  \\\n",
       "0                                 3.00                    web       operating   \n",
       "1                                 3.00                    web       operating   \n",
       "2                                 3.00                    web       operating   \n",
       "21                                3.80                 health       operating   \n",
       "22                                3.80                 health       operating   \n",
       "...                                ...                    ...             ...   \n",
       "217754                            1.50                    NaN             NaN   \n",
       "217756                            0.00                    NaN             NaN   \n",
       "217757                            0.00                    NaN             NaN   \n",
       "217770                            0.00                    NaN             NaN   \n",
       "217771                            0.00                    NaN             NaN   \n",
       "\n",
       "        investment_rounds_summary  \n",
       "0                            0.00  \n",
       "1                            0.00  \n",
       "2                            0.00  \n",
       "21                           0.00  \n",
       "22                           0.00  \n",
       "...                           ...  \n",
       "217754                        NaN  \n",
       "217756                        NaN  \n",
       "217757                        NaN  \n",
       "217770                        NaN  \n",
       "217771                        NaN  \n",
       "\n",
       "[32206 rows x 27 columns]"
      ]
     },
     "metadata": {},
     "output_type": "display_data"
    },
    {
     "name": "stdout",
     "output_type": "stream",
     "text": [
      "Сравнение значений в дубликатах:\n"
     ]
    },
    {
     "data": {
      "text/html": [
       "<div>\n",
       "<style scoped>\n",
       "    .dataframe tbody tr th:only-of-type {\n",
       "        vertical-align: middle;\n",
       "    }\n",
       "\n",
       "    .dataframe tbody tr th {\n",
       "        vertical-align: top;\n",
       "    }\n",
       "\n",
       "    .dataframe thead th {\n",
       "        text-align: right;\n",
       "    }\n",
       "</style>\n",
       "<table border=\"1\" class=\"dataframe\">\n",
       "  <thead>\n",
       "    <tr style=\"text-align: right;\">\n",
       "      <th></th>\n",
       "      <th>company_id_combined</th>\n",
       "      <th>total_raised_amount</th>\n",
       "      <th>funding_total</th>\n",
       "      <th>total_funding_rounds</th>\n",
       "      <th>funding_rounds</th>\n",
       "      <th>category_code</th>\n",
       "      <th>status</th>\n",
       "      <th>investment_rounds</th>\n",
       "      <th>raised_amount_match</th>\n",
       "      <th>funding_rounds_match</th>\n",
       "    </tr>\n",
       "  </thead>\n",
       "  <tbody>\n",
       "    <tr>\n",
       "      <th>0</th>\n",
       "      <td>1.00</td>\n",
       "      <td>39_750_000.00</td>\n",
       "      <td>39_750_000.00</td>\n",
       "      <td>3</td>\n",
       "      <td>3.00</td>\n",
       "      <td>web</td>\n",
       "      <td>operating</td>\n",
       "      <td>0.00</td>\n",
       "      <td>True</td>\n",
       "      <td>True</td>\n",
       "    </tr>\n",
       "    <tr>\n",
       "      <th>1</th>\n",
       "      <td>1.00</td>\n",
       "      <td>39_750_000.00</td>\n",
       "      <td>39_750_000.00</td>\n",
       "      <td>3</td>\n",
       "      <td>3.00</td>\n",
       "      <td>web</td>\n",
       "      <td>operating</td>\n",
       "      <td>0.00</td>\n",
       "      <td>True</td>\n",
       "      <td>True</td>\n",
       "    </tr>\n",
       "    <tr>\n",
       "      <th>2</th>\n",
       "      <td>1.00</td>\n",
       "      <td>39_750_000.00</td>\n",
       "      <td>39_750_000.00</td>\n",
       "      <td>3</td>\n",
       "      <td>3.00</td>\n",
       "      <td>web</td>\n",
       "      <td>operating</td>\n",
       "      <td>0.00</td>\n",
       "      <td>True</td>\n",
       "      <td>True</td>\n",
       "    </tr>\n",
       "    <tr>\n",
       "      <th>21</th>\n",
       "      <td>10_015.00</td>\n",
       "      <td>68_069_200.00</td>\n",
       "      <td>68_069_200.00</td>\n",
       "      <td>5</td>\n",
       "      <td>5.00</td>\n",
       "      <td>health</td>\n",
       "      <td>operating</td>\n",
       "      <td>0.00</td>\n",
       "      <td>True</td>\n",
       "      <td>True</td>\n",
       "    </tr>\n",
       "    <tr>\n",
       "      <th>22</th>\n",
       "      <td>10_015.00</td>\n",
       "      <td>68_069_200.00</td>\n",
       "      <td>68_069_200.00</td>\n",
       "      <td>5</td>\n",
       "      <td>5.00</td>\n",
       "      <td>health</td>\n",
       "      <td>operating</td>\n",
       "      <td>0.00</td>\n",
       "      <td>True</td>\n",
       "      <td>True</td>\n",
       "    </tr>\n",
       "    <tr>\n",
       "      <th>...</th>\n",
       "      <td>...</td>\n",
       "      <td>...</td>\n",
       "      <td>...</td>\n",
       "      <td>...</td>\n",
       "      <td>...</td>\n",
       "      <td>...</td>\n",
       "      <td>...</td>\n",
       "      <td>...</td>\n",
       "      <td>...</td>\n",
       "      <td>...</td>\n",
       "    </tr>\n",
       "    <tr>\n",
       "      <th>217754</th>\n",
       "      <td>68_946.00</td>\n",
       "      <td>46_747_100.00</td>\n",
       "      <td>NaN</td>\n",
       "      <td>2</td>\n",
       "      <td>NaN</td>\n",
       "      <td>NaN</td>\n",
       "      <td>NaN</td>\n",
       "      <td>NaN</td>\n",
       "      <td>False</td>\n",
       "      <td>False</td>\n",
       "    </tr>\n",
       "    <tr>\n",
       "      <th>217756</th>\n",
       "      <td>276_234.00</td>\n",
       "      <td>4_335_122.00</td>\n",
       "      <td>NaN</td>\n",
       "      <td>2</td>\n",
       "      <td>NaN</td>\n",
       "      <td>NaN</td>\n",
       "      <td>NaN</td>\n",
       "      <td>NaN</td>\n",
       "      <td>False</td>\n",
       "      <td>False</td>\n",
       "    </tr>\n",
       "    <tr>\n",
       "      <th>217757</th>\n",
       "      <td>276_234.00</td>\n",
       "      <td>4_335_122.00</td>\n",
       "      <td>NaN</td>\n",
       "      <td>2</td>\n",
       "      <td>NaN</td>\n",
       "      <td>NaN</td>\n",
       "      <td>NaN</td>\n",
       "      <td>NaN</td>\n",
       "      <td>False</td>\n",
       "      <td>False</td>\n",
       "    </tr>\n",
       "    <tr>\n",
       "      <th>217770</th>\n",
       "      <td>55_477.00</td>\n",
       "      <td>12_759_020.00</td>\n",
       "      <td>NaN</td>\n",
       "      <td>2</td>\n",
       "      <td>NaN</td>\n",
       "      <td>NaN</td>\n",
       "      <td>NaN</td>\n",
       "      <td>NaN</td>\n",
       "      <td>False</td>\n",
       "      <td>False</td>\n",
       "    </tr>\n",
       "    <tr>\n",
       "      <th>217771</th>\n",
       "      <td>55_477.00</td>\n",
       "      <td>12_759_020.00</td>\n",
       "      <td>NaN</td>\n",
       "      <td>2</td>\n",
       "      <td>NaN</td>\n",
       "      <td>NaN</td>\n",
       "      <td>NaN</td>\n",
       "      <td>NaN</td>\n",
       "      <td>False</td>\n",
       "      <td>False</td>\n",
       "    </tr>\n",
       "  </tbody>\n",
       "</table>\n",
       "<p>32206 rows × 10 columns</p>\n",
       "</div>"
      ],
      "text/plain": [
       "        company_id_combined  total_raised_amount  funding_total  \\\n",
       "0                      1.00        39_750_000.00  39_750_000.00   \n",
       "1                      1.00        39_750_000.00  39_750_000.00   \n",
       "2                      1.00        39_750_000.00  39_750_000.00   \n",
       "21                10_015.00        68_069_200.00  68_069_200.00   \n",
       "22                10_015.00        68_069_200.00  68_069_200.00   \n",
       "...                     ...                  ...            ...   \n",
       "217754            68_946.00        46_747_100.00            NaN   \n",
       "217756           276_234.00         4_335_122.00            NaN   \n",
       "217757           276_234.00         4_335_122.00            NaN   \n",
       "217770            55_477.00        12_759_020.00            NaN   \n",
       "217771            55_477.00        12_759_020.00            NaN   \n",
       "\n",
       "        total_funding_rounds  funding_rounds category_code     status  \\\n",
       "0                          3            3.00           web  operating   \n",
       "1                          3            3.00           web  operating   \n",
       "2                          3            3.00           web  operating   \n",
       "21                         5            5.00        health  operating   \n",
       "22                         5            5.00        health  operating   \n",
       "...                      ...             ...           ...        ...   \n",
       "217754                     2             NaN           NaN        NaN   \n",
       "217756                     2             NaN           NaN        NaN   \n",
       "217757                     2             NaN           NaN        NaN   \n",
       "217770                     2             NaN           NaN        NaN   \n",
       "217771                     2             NaN           NaN        NaN   \n",
       "\n",
       "        investment_rounds  raised_amount_match  funding_rounds_match  \n",
       "0                    0.00                 True                  True  \n",
       "1                    0.00                 True                  True  \n",
       "2                    0.00                 True                  True  \n",
       "21                   0.00                 True                  True  \n",
       "22                   0.00                 True                  True  \n",
       "...                   ...                  ...                   ...  \n",
       "217754                NaN                False                 False  \n",
       "217756                NaN                False                 False  \n",
       "217757                NaN                False                 False  \n",
       "217770                NaN                False                 False  \n",
       "217771                NaN                False                 False  \n",
       "\n",
       "[32206 rows x 10 columns]"
      ]
     },
     "metadata": {},
     "output_type": "display_data"
    }
   ],
   "source": [
    "# Найдем дубликаты по company_id_combined\n",
    "duplicates = final_company_and_rounds[final_company_and_rounds.duplicated(subset=['company_id_combined'], keep=False)]\n",
    "print(\"Найденные дубликаты:\")\n",
    "display(duplicates)\n",
    "\n",
    "# Создаем копию для работы с дубликатами\n",
    "duplicates_comparison = duplicates[['company_id_combined', 'total_raised_amount', 'funding_total', 'total_funding_rounds', 'funding_rounds', 'category_code', 'status', 'investment_rounds']].copy()\n",
    "\n",
    "#Сравним значения total_raised_amount и funding_total, а также total_funding_rounds и funding_rounds\n",
    "duplicates_comparison['raised_amount_match'] = duplicates_comparison['total_raised_amount'] == duplicates_comparison['funding_total']\n",
    "duplicates_comparison['funding_rounds_match'] = duplicates_comparison['total_funding_rounds'] == duplicates_comparison['funding_rounds']\n",
    "\n",
    "print(\"Сравнение значений в дубликатах:\")\n",
    "display(duplicates_comparison)"
   ]
  },
  {
   "cell_type": "code",
   "execution_count": 37,
   "metadata": {},
   "outputs": [
    {
     "data": {
      "text/html": [
       "<div>\n",
       "<style scoped>\n",
       "    .dataframe tbody tr th:only-of-type {\n",
       "        vertical-align: middle;\n",
       "    }\n",
       "\n",
       "    .dataframe tbody tr th {\n",
       "        vertical-align: top;\n",
       "    }\n",
       "\n",
       "    .dataframe thead th {\n",
       "        text-align: right;\n",
       "    }\n",
       "</style>\n",
       "<table border=\"1\" class=\"dataframe\">\n",
       "  <thead>\n",
       "    <tr style=\"text-align: right;\">\n",
       "      <th></th>\n",
       "      <th>company_id_combined</th>\n",
       "      <th>total_raised_amount</th>\n",
       "      <th>funding_total</th>\n",
       "      <th>total_funding_rounds</th>\n",
       "      <th>funding_rounds</th>\n",
       "      <th>category_code</th>\n",
       "      <th>status</th>\n",
       "      <th>investment_rounds</th>\n",
       "      <th>raised_amount_match</th>\n",
       "      <th>funding_rounds_match</th>\n",
       "    </tr>\n",
       "  </thead>\n",
       "  <tbody>\n",
       "    <tr>\n",
       "      <th>0</th>\n",
       "      <td>1.00</td>\n",
       "      <td>39_750_000.00</td>\n",
       "      <td>39_750_000.00</td>\n",
       "      <td>3</td>\n",
       "      <td>3.00</td>\n",
       "      <td>web</td>\n",
       "      <td>operating</td>\n",
       "      <td>0.00</td>\n",
       "      <td>True</td>\n",
       "      <td>True</td>\n",
       "    </tr>\n",
       "    <tr>\n",
       "      <th>21</th>\n",
       "      <td>10_015.00</td>\n",
       "      <td>68_069_200.00</td>\n",
       "      <td>68_069_200.00</td>\n",
       "      <td>5</td>\n",
       "      <td>5.00</td>\n",
       "      <td>health</td>\n",
       "      <td>operating</td>\n",
       "      <td>0.00</td>\n",
       "      <td>True</td>\n",
       "      <td>True</td>\n",
       "    </tr>\n",
       "    <tr>\n",
       "      <th>26</th>\n",
       "      <td>100_155.00</td>\n",
       "      <td>10_125_293.00</td>\n",
       "      <td>10_125_300.00</td>\n",
       "      <td>3</td>\n",
       "      <td>3.00</td>\n",
       "      <td>cleantech</td>\n",
       "      <td>operating</td>\n",
       "      <td>0.00</td>\n",
       "      <td>False</td>\n",
       "      <td>True</td>\n",
       "    </tr>\n",
       "    <tr>\n",
       "      <th>32</th>\n",
       "      <td>10_018.00</td>\n",
       "      <td>33_000_000.00</td>\n",
       "      <td>33_000_000.00</td>\n",
       "      <td>3</td>\n",
       "      <td>3.00</td>\n",
       "      <td>analytics</td>\n",
       "      <td>operating</td>\n",
       "      <td>0.00</td>\n",
       "      <td>True</td>\n",
       "      <td>True</td>\n",
       "    </tr>\n",
       "    <tr>\n",
       "      <th>46</th>\n",
       "      <td>100_238.00</td>\n",
       "      <td>11_300_000.00</td>\n",
       "      <td>11_300_000.00</td>\n",
       "      <td>2</td>\n",
       "      <td>2.00</td>\n",
       "      <td>medical</td>\n",
       "      <td>operating</td>\n",
       "      <td>0.00</td>\n",
       "      <td>True</td>\n",
       "      <td>True</td>\n",
       "    </tr>\n",
       "    <tr>\n",
       "      <th>...</th>\n",
       "      <td>...</td>\n",
       "      <td>...</td>\n",
       "      <td>...</td>\n",
       "      <td>...</td>\n",
       "      <td>...</td>\n",
       "      <td>...</td>\n",
       "      <td>...</td>\n",
       "      <td>...</td>\n",
       "      <td>...</td>\n",
       "      <td>...</td>\n",
       "    </tr>\n",
       "    <tr>\n",
       "      <th>217740</th>\n",
       "      <td>246_631.00</td>\n",
       "      <td>735_000.00</td>\n",
       "      <td>NaN</td>\n",
       "      <td>5</td>\n",
       "      <td>NaN</td>\n",
       "      <td>NaN</td>\n",
       "      <td>NaN</td>\n",
       "      <td>NaN</td>\n",
       "      <td>False</td>\n",
       "      <td>False</td>\n",
       "    </tr>\n",
       "    <tr>\n",
       "      <th>217746</th>\n",
       "      <td>269_998.00</td>\n",
       "      <td>8_000_000.00</td>\n",
       "      <td>NaN</td>\n",
       "      <td>2</td>\n",
       "      <td>NaN</td>\n",
       "      <td>NaN</td>\n",
       "      <td>NaN</td>\n",
       "      <td>NaN</td>\n",
       "      <td>False</td>\n",
       "      <td>False</td>\n",
       "    </tr>\n",
       "    <tr>\n",
       "      <th>217753</th>\n",
       "      <td>68_946.00</td>\n",
       "      <td>46_747_100.00</td>\n",
       "      <td>NaN</td>\n",
       "      <td>2</td>\n",
       "      <td>NaN</td>\n",
       "      <td>NaN</td>\n",
       "      <td>NaN</td>\n",
       "      <td>NaN</td>\n",
       "      <td>False</td>\n",
       "      <td>False</td>\n",
       "    </tr>\n",
       "    <tr>\n",
       "      <th>217756</th>\n",
       "      <td>276_234.00</td>\n",
       "      <td>4_335_122.00</td>\n",
       "      <td>NaN</td>\n",
       "      <td>2</td>\n",
       "      <td>NaN</td>\n",
       "      <td>NaN</td>\n",
       "      <td>NaN</td>\n",
       "      <td>NaN</td>\n",
       "      <td>False</td>\n",
       "      <td>False</td>\n",
       "    </tr>\n",
       "    <tr>\n",
       "      <th>217770</th>\n",
       "      <td>55_477.00</td>\n",
       "      <td>12_759_020.00</td>\n",
       "      <td>NaN</td>\n",
       "      <td>2</td>\n",
       "      <td>NaN</td>\n",
       "      <td>NaN</td>\n",
       "      <td>NaN</td>\n",
       "      <td>NaN</td>\n",
       "      <td>False</td>\n",
       "      <td>False</td>\n",
       "    </tr>\n",
       "  </tbody>\n",
       "</table>\n",
       "<p>11217 rows × 10 columns</p>\n",
       "</div>"
      ],
      "text/plain": [
       "        company_id_combined  total_raised_amount  funding_total  \\\n",
       "0                      1.00        39_750_000.00  39_750_000.00   \n",
       "21                10_015.00        68_069_200.00  68_069_200.00   \n",
       "26               100_155.00        10_125_293.00  10_125_300.00   \n",
       "32                10_018.00        33_000_000.00  33_000_000.00   \n",
       "46               100_238.00        11_300_000.00  11_300_000.00   \n",
       "...                     ...                  ...            ...   \n",
       "217740           246_631.00           735_000.00            NaN   \n",
       "217746           269_998.00         8_000_000.00            NaN   \n",
       "217753            68_946.00        46_747_100.00            NaN   \n",
       "217756           276_234.00         4_335_122.00            NaN   \n",
       "217770            55_477.00        12_759_020.00            NaN   \n",
       "\n",
       "        total_funding_rounds  funding_rounds category_code     status  \\\n",
       "0                          3            3.00           web  operating   \n",
       "21                         5            5.00        health  operating   \n",
       "26                         3            3.00     cleantech  operating   \n",
       "32                         3            3.00     analytics  operating   \n",
       "46                         2            2.00       medical  operating   \n",
       "...                      ...             ...           ...        ...   \n",
       "217740                     5             NaN           NaN        NaN   \n",
       "217746                     2             NaN           NaN        NaN   \n",
       "217753                     2             NaN           NaN        NaN   \n",
       "217756                     2             NaN           NaN        NaN   \n",
       "217770                     2             NaN           NaN        NaN   \n",
       "\n",
       "        investment_rounds  raised_amount_match  funding_rounds_match  \n",
       "0                    0.00                 True                  True  \n",
       "21                   0.00                 True                  True  \n",
       "26                   0.00                False                  True  \n",
       "32                   0.00                 True                  True  \n",
       "46                   0.00                 True                  True  \n",
       "...                   ...                  ...                   ...  \n",
       "217740                NaN                False                 False  \n",
       "217746                NaN                False                 False  \n",
       "217753                NaN                False                 False  \n",
       "217756                NaN                False                 False  \n",
       "217770                NaN                False                 False  \n",
       "\n",
       "[11217 rows x 10 columns]"
      ]
     },
     "metadata": {},
     "output_type": "display_data"
    }
   ],
   "source": [
    "# Удалим дубликаты\n",
    "final_cleaned_data = duplicates_comparison.drop_duplicates(subset='company_id_combined')\n",
    "\n",
    "# Выводим результат\n",
    "display(final_cleaned_data)"
   ]
  },
  {
   "cell_type": "code",
   "execution_count": 38,
   "metadata": {},
   "outputs": [
    {
     "name": "stdout",
     "output_type": "stream",
     "text": [
      "name                           object\n",
      "category_code                category\n",
      "status                       category\n",
      "founded_at             datetime64[ns]\n",
      "closed_at              datetime64[ns]\n",
      "domain                         object\n",
      "network_username               object\n",
      "country_code                 category\n",
      "investment_rounds             float64\n",
      "funding_rounds                float64\n",
      "funding_total                 float64\n",
      "milestones                    float64\n",
      "funding_round_id              float64\n",
      "funded_at              datetime64[ns]\n",
      "funding_round_type           category\n",
      "raised_amount                 float64\n",
      "pre_money_valuation           float64\n",
      "participants                  float64\n",
      "is_first_round                float64\n",
      "is_last_round                 float64\n",
      "company_id_combined           float64\n",
      "dtype: object\n"
     ]
    }
   ],
   "source": [
    "# Преобразуем подходящие столбцы в категориальный тип для ускорения фильтрации и сортировки и сокращения памяти\n",
    "company_and_rounds['category_code'] = company_and_rounds['category_code'].astype('category')\n",
    "company_and_rounds['status'] = company_and_rounds['status'].astype('category')\n",
    "company_and_rounds['country_code'] = company_and_rounds['country_code'].astype('category')\n",
    "company_and_rounds['funding_round_type'] = company_and_rounds['funding_round_type'].astype('category')\n",
    "\n",
    "# Приведем данные в столбце closed_at к временным\n",
    "company_and_rounds['closed_at'] = pd.to_datetime(company_and_rounds['closed_at'], errors='coerce')\n",
    "\n",
    "# Проверяем изменение типов\n",
    "print(company_and_rounds.dtypes)"
   ]
  },
  {
   "cell_type": "markdown",
   "metadata": {},
   "source": [
    "**Результат по итогу работы:**\n",
    "\n",
    "1. Агрегация данных - данные сагрегированы по компаниям, что дало обобщённую информацию: суммарное финансирование, количество раундов, среднее число участников.\n",
    "\n",
    "2. Сделали проверку по `company_id_combined`, избавились от ненужных дубликатов\n",
    "\n",
    "3. Оптимизация типов данных - преобразованы подходящие столбцы (`category_code`, `status`, `country_code`, `funding_round_type`) в категориальный тип, что сокращает объём занимаемой памяти и ускоряет фильтрацию/сортировку. Временные данные (`founded_at`, `closed_at`) приведены к типу datetime64, что облегчает анализ временных интервалов.\n",
    "\n",
    "4. Соединение таблиц - исходная таблица объединена с агрегированными данными, что добавляет удобство в фильтрации и расчётах на уровне компаний, вывод чисел настроен в стандартном формате, что улучшает восприятие данных."
   ]
  },
  {
   "cell_type": "markdown",
   "metadata": {
    "id": "g2bHIIjcrJg1"
   },
   "source": [
    "\n",
    "### 2.3. Раунды финансирования по годам\n",
    "\n",
    "* Составьте сводную таблицу по годам, в которой на основании столбца `raised_amount` для каждого года указан:\n",
    "\n",
    "  * типичный размер средств, выделяемый в рамках одного раунда;\n",
    "  * общее количество раундов финансирования за этот год.\n",
    "\n",
    "* Оставьте в таблице информацию только для тех лет, для которых есть информация о более чем 50 раундах финансирования.\n",
    "\n",
    "* На основе получившейся таблицы постройте график, который будет отражать динамику типичного размера средств, которые стартапы получали в рамках одного раунда финансирования.\n",
    "\n",
    "На основе полученных данных ответьте на вопросы:\n",
    "\n",
    "* В каком году типичный размер собранных в рамках одного раунда средств был максимален?\n",
    "\n",
    "* Какая тенденция по количеству раундов и выделяемых в рамках каждого раунда средств наблюдалась в 2013 году?"
   ]
  },
  {
   "cell_type": "code",
   "execution_count": 40,
   "metadata": {
    "id": "ovyDibxNrJg1",
    "vscode": {
     "languageId": "plaintext"
    }
   },
   "outputs": [
    {
     "data": {
      "text/html": [
       "<div>\n",
       "<style scoped>\n",
       "    .dataframe tbody tr th:only-of-type {\n",
       "        vertical-align: middle;\n",
       "    }\n",
       "\n",
       "    .dataframe tbody tr th {\n",
       "        vertical-align: top;\n",
       "    }\n",
       "\n",
       "    .dataframe thead th {\n",
       "        text-align: right;\n",
       "    }\n",
       "</style>\n",
       "<table border=\"1\" class=\"dataframe\">\n",
       "  <thead>\n",
       "    <tr style=\"text-align: right;\">\n",
       "      <th></th>\n",
       "      <th>year</th>\n",
       "      <th>typical_raised_amount</th>\n",
       "      <th>total_rounds</th>\n",
       "    </tr>\n",
       "  </thead>\n",
       "  <tbody>\n",
       "    <tr>\n",
       "      <th>15</th>\n",
       "      <td>1_999.00</td>\n",
       "      <td>2_000_000.00</td>\n",
       "      <td>76</td>\n",
       "    </tr>\n",
       "    <tr>\n",
       "      <th>16</th>\n",
       "      <td>2_000.00</td>\n",
       "      <td>4_200_000.00</td>\n",
       "      <td>125</td>\n",
       "    </tr>\n",
       "    <tr>\n",
       "      <th>17</th>\n",
       "      <td>2_001.00</td>\n",
       "      <td>3_000_000.00</td>\n",
       "      <td>96</td>\n",
       "    </tr>\n",
       "    <tr>\n",
       "      <th>18</th>\n",
       "      <td>2_002.00</td>\n",
       "      <td>4_200_000.00</td>\n",
       "      <td>116</td>\n",
       "    </tr>\n",
       "    <tr>\n",
       "      <th>19</th>\n",
       "      <td>2_003.00</td>\n",
       "      <td>3_000_000.00</td>\n",
       "      <td>159</td>\n",
       "    </tr>\n",
       "    <tr>\n",
       "      <th>20</th>\n",
       "      <td>2_004.00</td>\n",
       "      <td>5_000_000.00</td>\n",
       "      <td>291</td>\n",
       "    </tr>\n",
       "    <tr>\n",
       "      <th>21</th>\n",
       "      <td>2_005.00</td>\n",
       "      <td>5_500_000.00</td>\n",
       "      <td>1633</td>\n",
       "    </tr>\n",
       "    <tr>\n",
       "      <th>22</th>\n",
       "      <td>2_006.00</td>\n",
       "      <td>5_000_000.00</td>\n",
       "      <td>2436</td>\n",
       "    </tr>\n",
       "    <tr>\n",
       "      <th>23</th>\n",
       "      <td>2_007.00</td>\n",
       "      <td>3_973_320.00</td>\n",
       "      <td>3279</td>\n",
       "    </tr>\n",
       "    <tr>\n",
       "      <th>24</th>\n",
       "      <td>2_008.00</td>\n",
       "      <td>3_110_000.00</td>\n",
       "      <td>3774</td>\n",
       "    </tr>\n",
       "    <tr>\n",
       "      <th>25</th>\n",
       "      <td>2_009.00</td>\n",
       "      <td>2_000_000.00</td>\n",
       "      <td>4151</td>\n",
       "    </tr>\n",
       "    <tr>\n",
       "      <th>26</th>\n",
       "      <td>2_010.00</td>\n",
       "      <td>1_602_500.00</td>\n",
       "      <td>6221</td>\n",
       "    </tr>\n",
       "    <tr>\n",
       "      <th>27</th>\n",
       "      <td>2_011.00</td>\n",
       "      <td>1_200_000.00</td>\n",
       "      <td>9204</td>\n",
       "    </tr>\n",
       "    <tr>\n",
       "      <th>28</th>\n",
       "      <td>2_012.00</td>\n",
       "      <td>1_000_000.00</td>\n",
       "      <td>9970</td>\n",
       "    </tr>\n",
       "    <tr>\n",
       "      <th>29</th>\n",
       "      <td>2_013.00</td>\n",
       "      <td>1_200_000.00</td>\n",
       "      <td>11072</td>\n",
       "    </tr>\n",
       "  </tbody>\n",
       "</table>\n",
       "</div>"
      ],
      "text/plain": [
       "       year  typical_raised_amount  total_rounds\n",
       "15 1_999.00           2_000_000.00            76\n",
       "16 2_000.00           4_200_000.00           125\n",
       "17 2_001.00           3_000_000.00            96\n",
       "18 2_002.00           4_200_000.00           116\n",
       "19 2_003.00           3_000_000.00           159\n",
       "20 2_004.00           5_000_000.00           291\n",
       "21 2_005.00           5_500_000.00          1633\n",
       "22 2_006.00           5_000_000.00          2436\n",
       "23 2_007.00           3_973_320.00          3279\n",
       "24 2_008.00           3_110_000.00          3774\n",
       "25 2_009.00           2_000_000.00          4151\n",
       "26 2_010.00           1_602_500.00          6221\n",
       "27 2_011.00           1_200_000.00          9204\n",
       "28 2_012.00           1_000_000.00          9970\n",
       "29 2_013.00           1_200_000.00         11072"
      ]
     },
     "metadata": {},
     "output_type": "display_data"
    }
   ],
   "source": [
    "# Преобразовываем столбец funded_at в datetime для выделения года\n",
    "company_and_rounds['funded_at'] = pd.to_datetime(company_and_rounds['funded_at'], errors='coerce')\n",
    "\n",
    "# Добавляем столбец с годом\n",
    "company_and_rounds['year'] = company_and_rounds['funded_at'].dt.year\n",
    "\n",
    "# Создаем сводную таблицу\n",
    "pivot_table = (\n",
    "    company_and_rounds.groupby('year').agg(typical_raised_amount=('raised_amount', 'median'), # Медианное значение как \"типичное\"\n",
    "        total_rounds=('raised_amount', 'count')).reset_index())  # Общее кол-во раундов\n",
    "\n",
    "# Фильтрация по количеству раундов (больше 50)\n",
    "filtered_table = pivot_table[pivot_table['total_rounds'] > 50]\n",
    "\n",
    "# Вывод результата\n",
    "display(filtered_table)"
   ]
  },
  {
   "cell_type": "code",
   "execution_count": 41,
   "metadata": {},
   "outputs": [
    {
     "data": {
      "text/html": [
       "<div>\n",
       "<style scoped>\n",
       "    .dataframe tbody tr th:only-of-type {\n",
       "        vertical-align: middle;\n",
       "    }\n",
       "\n",
       "    .dataframe tbody tr th {\n",
       "        vertical-align: top;\n",
       "    }\n",
       "\n",
       "    .dataframe thead th {\n",
       "        text-align: right;\n",
       "    }\n",
       "</style>\n",
       "<table border=\"1\" class=\"dataframe\">\n",
       "  <thead>\n",
       "    <tr style=\"text-align: right;\">\n",
       "      <th></th>\n",
       "      <th>year</th>\n",
       "      <th>typical_raised_amount</th>\n",
       "      <th>total_rounds</th>\n",
       "    </tr>\n",
       "  </thead>\n",
       "  <tbody>\n",
       "    <tr>\n",
       "      <th>15</th>\n",
       "      <td>1_999.00</td>\n",
       "      <td>2_000_000.00</td>\n",
       "      <td>76</td>\n",
       "    </tr>\n",
       "    <tr>\n",
       "      <th>16</th>\n",
       "      <td>2_000.00</td>\n",
       "      <td>4_200_000.00</td>\n",
       "      <td>125</td>\n",
       "    </tr>\n",
       "    <tr>\n",
       "      <th>17</th>\n",
       "      <td>2_001.00</td>\n",
       "      <td>3_000_000.00</td>\n",
       "      <td>96</td>\n",
       "    </tr>\n",
       "    <tr>\n",
       "      <th>18</th>\n",
       "      <td>2_002.00</td>\n",
       "      <td>4_200_000.00</td>\n",
       "      <td>116</td>\n",
       "    </tr>\n",
       "    <tr>\n",
       "      <th>19</th>\n",
       "      <td>2_003.00</td>\n",
       "      <td>3_000_000.00</td>\n",
       "      <td>159</td>\n",
       "    </tr>\n",
       "    <tr>\n",
       "      <th>20</th>\n",
       "      <td>2_004.00</td>\n",
       "      <td>5_000_000.00</td>\n",
       "      <td>291</td>\n",
       "    </tr>\n",
       "    <tr>\n",
       "      <th>21</th>\n",
       "      <td>2_005.00</td>\n",
       "      <td>5_500_000.00</td>\n",
       "      <td>1633</td>\n",
       "    </tr>\n",
       "    <tr>\n",
       "      <th>22</th>\n",
       "      <td>2_006.00</td>\n",
       "      <td>5_000_000.00</td>\n",
       "      <td>2436</td>\n",
       "    </tr>\n",
       "    <tr>\n",
       "      <th>23</th>\n",
       "      <td>2_007.00</td>\n",
       "      <td>3_973_320.00</td>\n",
       "      <td>3279</td>\n",
       "    </tr>\n",
       "    <tr>\n",
       "      <th>24</th>\n",
       "      <td>2_008.00</td>\n",
       "      <td>3_110_000.00</td>\n",
       "      <td>3774</td>\n",
       "    </tr>\n",
       "    <tr>\n",
       "      <th>25</th>\n",
       "      <td>2_009.00</td>\n",
       "      <td>2_000_000.00</td>\n",
       "      <td>4151</td>\n",
       "    </tr>\n",
       "    <tr>\n",
       "      <th>26</th>\n",
       "      <td>2_010.00</td>\n",
       "      <td>1_602_500.00</td>\n",
       "      <td>6221</td>\n",
       "    </tr>\n",
       "    <tr>\n",
       "      <th>27</th>\n",
       "      <td>2_011.00</td>\n",
       "      <td>1_200_000.00</td>\n",
       "      <td>9204</td>\n",
       "    </tr>\n",
       "    <tr>\n",
       "      <th>28</th>\n",
       "      <td>2_012.00</td>\n",
       "      <td>1_000_000.00</td>\n",
       "      <td>9970</td>\n",
       "    </tr>\n",
       "    <tr>\n",
       "      <th>29</th>\n",
       "      <td>2_013.00</td>\n",
       "      <td>1_200_000.00</td>\n",
       "      <td>11072</td>\n",
       "    </tr>\n",
       "  </tbody>\n",
       "</table>\n",
       "</div>"
      ],
      "text/plain": [
       "       year  typical_raised_amount  total_rounds\n",
       "15 1_999.00           2_000_000.00            76\n",
       "16 2_000.00           4_200_000.00           125\n",
       "17 2_001.00           3_000_000.00            96\n",
       "18 2_002.00           4_200_000.00           116\n",
       "19 2_003.00           3_000_000.00           159\n",
       "20 2_004.00           5_000_000.00           291\n",
       "21 2_005.00           5_500_000.00          1633\n",
       "22 2_006.00           5_000_000.00          2436\n",
       "23 2_007.00           3_973_320.00          3279\n",
       "24 2_008.00           3_110_000.00          3774\n",
       "25 2_009.00           2_000_000.00          4151\n",
       "26 2_010.00           1_602_500.00          6221\n",
       "27 2_011.00           1_200_000.00          9204\n",
       "28 2_012.00           1_000_000.00          9970\n",
       "29 2_013.00           1_200_000.00         11072"
      ]
     },
     "metadata": {},
     "output_type": "display_data"
    }
   ],
   "source": [
    "# Удалим строки с годом 1900, поскольку они не несут полезной информации для заказчика (это были заглушки для пропусков)\n",
    "filtered_table = filtered_table[filtered_table['year'] != 1900]\n",
    "display(filtered_table)"
   ]
  },
  {
   "cell_type": "code",
   "execution_count": 42,
   "metadata": {},
   "outputs": [
    {
     "data": {
      "image/png": "[encoded data removed]",
      "text/plain": [
       "<Figure size 720x432 with 1 Axes>"
      ]
     },
     "metadata": {
      "needs_background": "light"
     },
     "output_type": "display_data"
    }
   ],
   "source": [
    "# Удалим строки с годом 1900 и 1990, а также с нулевым финансированием\n",
    "filtered_table = filtered_table[\n",
    "    (filtered_table['year'] != 1900) & \n",
    "    (filtered_table['year'] != 1990) & \n",
    "    (filtered_table['typical_raised_amount'] > 0)\n",
    "]\n",
    "\n",
    "# Данные для графика\n",
    "years = filtered_table['year']\n",
    "typical_raised_amount = filtered_table['typical_raised_amount']\n",
    "\n",
    "# Построение графика\n",
    "plt.figure(figsize=(10, 6))\n",
    "plt.plot(years, typical_raised_amount, marker='o', linestyle='-', color='b', label='Типичный размер средств')\n",
    "\n",
    "# Настройка графика\n",
    "plt.title('Динамика типичного размера средств по годам', fontsize=14)\n",
    "plt.xlabel('Год', fontsize=12)\n",
    "plt.ylabel('Типичный размер средств', fontsize=12)\n",
    "plt.grid(True, linestyle='--', alpha=0.7)\n",
    "plt.xticks(years, rotation=45)\n",
    "plt.legend(fontsize=10)\n",
    "\n",
    "# Отображение графика\n",
    "plt.tight_layout()\n",
    "plt.show()"
   ]
  },
  {
   "cell_type": "code",
   "execution_count": 44,
   "metadata": {},
   "outputs": [
    {
     "name": "stdout",
     "output_type": "stream",
     "text": [
      "Год с максимальным размером собранных средств: 2005.0\n"
     ]
    }
   ],
   "source": [
    "# Находим индекс строки с максимальным значением типичного размера средств\n",
    "max_raised_year = filtered_table.loc[filtered_table['typical_raised_amount'].idxmax()]\n",
    "print(f\"Год с максимальным размером собранных средств: {max_raised_year['year']}\")"
   ]
  },
  {
   "cell_type": "code",
   "execution_count": 45,
   "metadata": {},
   "outputs": [
    {
     "name": "stdout",
     "output_type": "stream",
     "text": [
      "В 2013 году было 11072 раундов, а типичный размер собранных средств составлял 1200000.0.\n"
     ]
    }
   ],
   "source": [
    "# Фильтруем таблицу по 2013 году\n",
    "year_2013_data = filtered_table[filtered_table['year'] == 2013]\n",
    "\n",
    "# Извлекаем информацию о количестве раундов и типичном размере средств в 2013 году\n",
    "total_rounds_2013 = year_2013_data['total_rounds'].values[0]\n",
    "typical_raised_2013 = year_2013_data['typical_raised_amount'].values[0]\n",
    "\n",
    "# Выводим информацию\n",
    "print(f\"В 2013 году было {total_rounds_2013} раундов, а типичный размер собранных средств составлял {typical_raised_2013}.\")"
   ]
  },
  {
   "cell_type": "markdown",
   "metadata": {},
   "source": [
    "**В результате полученных данных и визуализации мы видим:**\n",
    "\n",
    "1. В 2005 году был собран максимальный размер средств, в этом году стартапы получили наибольшую сумму в рамках одного раунда.\n",
    "\n",
    "2. Тенденция по количеству раундов и выделяемых в рамках каждого раунда средств в 2013 году:\n",
    "\n",
    "- В 2013 году было проведено 11,072 раунда финансирования, что является самым высоким значением за весь период. Это говорит о том, что стартапы стали активно привлекать инвестиции, количество раундов сильно увеличилось.\n",
    "- Типичный размер средств в 2013 году составил 1,200,000. Это значение ниже, чем в 2005 году (5,500,000), что может свидетельствовать о том, что в последние годы было больше мелких раундов с меньшими суммами, чем в более ранние годы, когда размеры раундов были значительно выше.\n",
    "\n",
    "**Вывод:**\n",
    "- Максимальный размер средств был собран в 2005 году (5,500,000 на один раунд).\n",
    "- В 2013 году наблюдается увеличение количества раундов до 11,072, но снижение размера средств, выделяемых на один раунд (1,200,000). Это может означать, что стартапы стали привлекать более мелкие суммы, но гораздо более активно, чем в предыдущие годы."
   ]
  },
  {
   "cell_type": "markdown",
   "metadata": {
    "id": "45if1en1rJg2"
   },
   "source": [
    "\n",
    "### 2.4. Люди и их образование\n",
    "\n",
    "Заказчик хочет понять, зависит ли полнота сведений о сотрудниках (например, об их образовании) от размера компаний.\n",
    "\n",
    "* Оцените, насколько информация об образовании сотрудников полна. Используя датасеты `people.csv` и `education.csv`, разделите все компании на несколько групп по количеству сотрудников и оцените среднюю долю сотрудников без информации об образовании в каждой из групп.\n",
    "\n",
    "* Оцените, возможно ли для выполнения задания присоединить к этим таблицам ещё и таблицу `degrees.csv`."
   ]
  },
  {
   "cell_type": "code",
   "execution_count": 46,
   "metadata": {
    "id": "psPO7C4MrJg2",
    "vscode": {
     "languageId": "plaintext"
    }
   },
   "outputs": [
    {
     "name": "stdout",
     "output_type": "stream",
     "text": [
      "Уникальные значения в столбце 'id' для таблицы people:\n",
      "226708\n",
      "\n",
      "Уникальные значения в столбце 'person_id' для таблицы education:\n",
      "68451\n"
     ]
    }
   ],
   "source": [
    "# Выведем уникальные значения\n",
    "print(\"Уникальные значения в столбце 'id' для таблицы people:\")\n",
    "print(people['id'].nunique())\n",
    "print(\"\\nУникальные значения в столбце 'person_id' для таблицы education:\")\n",
    "print(education['person_id'].nunique())"
   ]
  },
  {
   "cell_type": "code",
   "execution_count": 47,
   "metadata": {},
   "outputs": [
    {
     "name": "stdout",
     "output_type": "stream",
     "text": [
      "\n",
      "Пересечение между people и education:\n",
      "68071\n"
     ]
    }
   ],
   "source": [
    "# Выведем пересечение значений\n",
    "people_education = set(people['id']).intersection(set(education['person_id']))\n",
    "\n",
    "# Выведем размер пересечений\n",
    "print(\"\\nПересечение между people и education:\")\n",
    "print(len(people_education))"
   ]
  },
  {
   "cell_type": "code",
   "execution_count": 48,
   "metadata": {},
   "outputs": [
    {
     "data": {
      "text/html": [
       "<div>\n",
       "<style scoped>\n",
       "    .dataframe tbody tr th:only-of-type {\n",
       "        vertical-align: middle;\n",
       "    }\n",
       "\n",
       "    .dataframe tbody tr th {\n",
       "        vertical-align: top;\n",
       "    }\n",
       "\n",
       "    .dataframe thead th {\n",
       "        text-align: right;\n",
       "    }\n",
       "</style>\n",
       "<table border=\"1\" class=\"dataframe\">\n",
       "  <thead>\n",
       "    <tr style=\"text-align: right;\">\n",
       "      <th></th>\n",
       "      <th>id_people</th>\n",
       "      <th>first_name</th>\n",
       "      <th>last_name</th>\n",
       "      <th>company_id</th>\n",
       "      <th>network_username</th>\n",
       "      <th>id_education</th>\n",
       "      <th>person_id</th>\n",
       "      <th>instituition</th>\n",
       "      <th>graduated_at</th>\n",
       "    </tr>\n",
       "  </thead>\n",
       "  <tbody>\n",
       "    <tr>\n",
       "      <th>0</th>\n",
       "      <td>10</td>\n",
       "      <td>Mark</td>\n",
       "      <td>Zuckerberg</td>\n",
       "      <td>5.00</td>\n",
       "      <td>NaN</td>\n",
       "      <td>2_415.00</td>\n",
       "      <td>10.00</td>\n",
       "      <td>Harvard University</td>\n",
       "      <td>NaT</td>\n",
       "    </tr>\n",
       "    <tr>\n",
       "      <th>1</th>\n",
       "      <td>100</td>\n",
       "      <td>Peter</td>\n",
       "      <td>Lester</td>\n",
       "      <td>27.00</td>\n",
       "      <td>NaN</td>\n",
       "      <td>NaN</td>\n",
       "      <td>NaN</td>\n",
       "      <td>NaN</td>\n",
       "      <td>NaT</td>\n",
       "    </tr>\n",
       "    <tr>\n",
       "      <th>2</th>\n",
       "      <td>1000</td>\n",
       "      <td>Dr. Steven</td>\n",
       "      <td>E. Saunders</td>\n",
       "      <td>292.00</td>\n",
       "      <td>NaN</td>\n",
       "      <td>NaN</td>\n",
       "      <td>NaN</td>\n",
       "      <td>NaN</td>\n",
       "      <td>NaT</td>\n",
       "    </tr>\n",
       "    <tr>\n",
       "      <th>3</th>\n",
       "      <td>10000</td>\n",
       "      <td>Neil</td>\n",
       "      <td>Capel</td>\n",
       "      <td>2_526.00</td>\n",
       "      <td>NaN</td>\n",
       "      <td>NaN</td>\n",
       "      <td>NaN</td>\n",
       "      <td>NaN</td>\n",
       "      <td>NaT</td>\n",
       "    </tr>\n",
       "    <tr>\n",
       "      <th>4</th>\n",
       "      <td>100000</td>\n",
       "      <td>Sue</td>\n",
       "      <td>Pilsch</td>\n",
       "      <td>NaN</td>\n",
       "      <td>NaN</td>\n",
       "      <td>NaN</td>\n",
       "      <td>NaN</td>\n",
       "      <td>NaN</td>\n",
       "      <td>NaT</td>\n",
       "    </tr>\n",
       "    <tr>\n",
       "      <th>...</th>\n",
       "      <td>...</td>\n",
       "      <td>...</td>\n",
       "      <td>...</td>\n",
       "      <td>...</td>\n",
       "      <td>...</td>\n",
       "      <td>...</td>\n",
       "      <td>...</td>\n",
       "      <td>...</td>\n",
       "      <td>...</td>\n",
       "    </tr>\n",
       "    <tr>\n",
       "      <th>267689</th>\n",
       "      <td>99999</td>\n",
       "      <td>Ramon</td>\n",
       "      <td>Peypoch</td>\n",
       "      <td>NaN</td>\n",
       "      <td>NaN</td>\n",
       "      <td>NaN</td>\n",
       "      <td>NaN</td>\n",
       "      <td>NaN</td>\n",
       "      <td>NaT</td>\n",
       "    </tr>\n",
       "    <tr>\n",
       "      <th>267690</th>\n",
       "      <td>174088</td>\n",
       "      <td>Dr. Ray</td>\n",
       "      <td>Woods</td>\n",
       "      <td>188_200.00</td>\n",
       "      <td>network</td>\n",
       "      <td>25_958.00</td>\n",
       "      <td>174_088.00</td>\n",
       "      <td>Sydney University Medical School</td>\n",
       "      <td>1982-01-01</td>\n",
       "    </tr>\n",
       "    <tr>\n",
       "      <th>267691</th>\n",
       "      <td>118386</td>\n",
       "      <td>Ricardo</td>\n",
       "      <td>Durand</td>\n",
       "      <td>143_419.00</td>\n",
       "      <td>itechsocialnet</td>\n",
       "      <td>18_871.00</td>\n",
       "      <td>118_386.00</td>\n",
       "      <td>ESCS</td>\n",
       "      <td>2004-01-01</td>\n",
       "    </tr>\n",
       "    <tr>\n",
       "      <th>267692</th>\n",
       "      <td>175827</td>\n",
       "      <td>mahesh</td>\n",
       "      <td>kumar</td>\n",
       "      <td>NaN</td>\n",
       "      <td>socialnethubs</td>\n",
       "      <td>NaN</td>\n",
       "      <td>NaN</td>\n",
       "      <td>NaN</td>\n",
       "      <td>NaT</td>\n",
       "    </tr>\n",
       "    <tr>\n",
       "      <th>267693</th>\n",
       "      <td>178190</td>\n",
       "      <td>Alex</td>\n",
       "      <td>Smith</td>\n",
       "      <td>NaN</td>\n",
       "      <td>esocialnetlike</td>\n",
       "      <td>NaN</td>\n",
       "      <td>NaN</td>\n",
       "      <td>NaN</td>\n",
       "      <td>NaT</td>\n",
       "    </tr>\n",
       "  </tbody>\n",
       "</table>\n",
       "<p>267694 rows × 9 columns</p>\n",
       "</div>"
      ],
      "text/plain": [
       "        id_people  first_name    last_name  company_id network_username  \\\n",
       "0              10        Mark   Zuckerberg        5.00              NaN   \n",
       "1             100       Peter       Lester       27.00              NaN   \n",
       "2            1000  Dr. Steven  E. Saunders      292.00              NaN   \n",
       "3           10000        Neil        Capel    2_526.00              NaN   \n",
       "4          100000         Sue       Pilsch         NaN              NaN   \n",
       "...           ...         ...          ...         ...              ...   \n",
       "267689      99999       Ramon      Peypoch         NaN              NaN   \n",
       "267690     174088     Dr. Ray        Woods  188_200.00          network   \n",
       "267691     118386     Ricardo       Durand  143_419.00   itechsocialnet   \n",
       "267692     175827      mahesh        kumar         NaN    socialnethubs   \n",
       "267693     178190        Alex        Smith         NaN   esocialnetlike   \n",
       "\n",
       "        id_education  person_id                      instituition graduated_at  \n",
       "0           2_415.00      10.00                Harvard University          NaT  \n",
       "1                NaN        NaN                               NaN          NaT  \n",
       "2                NaN        NaN                               NaN          NaT  \n",
       "3                NaN        NaN                               NaN          NaT  \n",
       "4                NaN        NaN                               NaN          NaT  \n",
       "...              ...        ...                               ...          ...  \n",
       "267689           NaN        NaN                               NaN          NaT  \n",
       "267690     25_958.00 174_088.00  Sydney University Medical School   1982-01-01  \n",
       "267691     18_871.00 118_386.00                              ESCS   2004-01-01  \n",
       "267692           NaN        NaN                               NaN          NaT  \n",
       "267693           NaN        NaN                               NaN          NaT  \n",
       "\n",
       "[267694 rows x 9 columns]"
      ]
     },
     "metadata": {},
     "output_type": "display_data"
    },
    {
     "data": {
      "text/plain": [
       "id_people                    int64\n",
       "first_name                  object\n",
       "last_name                   object\n",
       "company_id                 float64\n",
       "network_username            object\n",
       "id_education               float64\n",
       "person_id                  float64\n",
       "instituition                object\n",
       "graduated_at        datetime64[ns]\n",
       "dtype: object"
      ]
     },
     "execution_count": 48,
     "metadata": {},
     "output_type": "execute_result"
    }
   ],
   "source": [
    "# Объединим таблицы people и education, оставив все данные о сотрудниках и присоединив образование\n",
    "merged_people_education = people.merge(education, left_on='id', right_on='person_id', how='left')\n",
    "\n",
    "# Заменяем названия столбцов\n",
    "merged_people_education.rename(columns={'id_x': 'id_people', 'id_y': 'id_education'}, inplace=True)\n",
    "\n",
    "display(merged_people_education)\n",
    "merged_people_education.dtypes"
   ]
  },
  {
   "cell_type": "code",
   "execution_count": 49,
   "metadata": {},
   "outputs": [
    {
     "data": {
      "text/html": [
       "<div>\n",
       "<style scoped>\n",
       "    .dataframe tbody tr th:only-of-type {\n",
       "        vertical-align: middle;\n",
       "    }\n",
       "\n",
       "    .dataframe tbody tr th {\n",
       "        vertical-align: top;\n",
       "    }\n",
       "\n",
       "    .dataframe thead th {\n",
       "        text-align: right;\n",
       "    }\n",
       "</style>\n",
       "<table border=\"1\" class=\"dataframe\">\n",
       "  <thead>\n",
       "    <tr style=\"text-align: right;\">\n",
       "      <th></th>\n",
       "      <th>id</th>\n",
       "      <th>object_id</th>\n",
       "      <th>degree_type</th>\n",
       "      <th>subject</th>\n",
       "    </tr>\n",
       "  </thead>\n",
       "  <tbody>\n",
       "    <tr>\n",
       "      <th>0</th>\n",
       "      <td>1</td>\n",
       "      <td>6117</td>\n",
       "      <td>MBA</td>\n",
       "      <td>NaN</td>\n",
       "    </tr>\n",
       "    <tr>\n",
       "      <th>1</th>\n",
       "      <td>2</td>\n",
       "      <td>6136</td>\n",
       "      <td>BA</td>\n",
       "      <td>English, French</td>\n",
       "    </tr>\n",
       "    <tr>\n",
       "      <th>2</th>\n",
       "      <td>3</td>\n",
       "      <td>6136</td>\n",
       "      <td>MS</td>\n",
       "      <td>Mass Communication</td>\n",
       "    </tr>\n",
       "    <tr>\n",
       "      <th>3</th>\n",
       "      <td>4</td>\n",
       "      <td>6005</td>\n",
       "      <td>MS</td>\n",
       "      <td>Internet Technology</td>\n",
       "    </tr>\n",
       "    <tr>\n",
       "      <th>4</th>\n",
       "      <td>5</td>\n",
       "      <td>5832</td>\n",
       "      <td>BCS</td>\n",
       "      <td>Computer Science, Psychology</td>\n",
       "    </tr>\n",
       "    <tr>\n",
       "      <th>...</th>\n",
       "      <td>...</td>\n",
       "      <td>...</td>\n",
       "      <td>...</td>\n",
       "      <td>...</td>\n",
       "    </tr>\n",
       "    <tr>\n",
       "      <th>109605</th>\n",
       "      <td>109606</td>\n",
       "      <td>268589</td>\n",
       "      <td>CPA</td>\n",
       "      <td>NaN</td>\n",
       "    </tr>\n",
       "    <tr>\n",
       "      <th>109606</th>\n",
       "      <td>109607</td>\n",
       "      <td>268527</td>\n",
       "      <td>MS &amp; BS</td>\n",
       "      <td>Engineering</td>\n",
       "    </tr>\n",
       "    <tr>\n",
       "      <th>109607</th>\n",
       "      <td>109608</td>\n",
       "      <td>268527</td>\n",
       "      <td>PhD</td>\n",
       "      <td>Engineering</td>\n",
       "    </tr>\n",
       "    <tr>\n",
       "      <th>109608</th>\n",
       "      <td>109609</td>\n",
       "      <td>268528</td>\n",
       "      <td>B.S.</td>\n",
       "      <td>Electrical Engineering</td>\n",
       "    </tr>\n",
       "    <tr>\n",
       "      <th>109609</th>\n",
       "      <td>109610</td>\n",
       "      <td>268528</td>\n",
       "      <td>J.D.</td>\n",
       "      <td>NaN</td>\n",
       "    </tr>\n",
       "  </tbody>\n",
       "</table>\n",
       "<p>109610 rows × 4 columns</p>\n",
       "</div>"
      ],
      "text/plain": [
       "            id  object_id degree_type                       subject\n",
       "0            1       6117         MBA                           NaN\n",
       "1            2       6136          BA               English, French\n",
       "2            3       6136          MS            Mass Communication\n",
       "3            4       6005          MS           Internet Technology\n",
       "4            5       5832         BCS  Computer Science, Psychology\n",
       "...        ...        ...         ...                           ...\n",
       "109605  109606     268589         CPA                           NaN\n",
       "109606  109607     268527     MS & BS                   Engineering\n",
       "109607  109608     268527         PhD                   Engineering\n",
       "109608  109609     268528        B.S.        Electrical Engineering\n",
       "109609  109610     268528        J.D.                           NaN\n",
       "\n",
       "[109610 rows x 4 columns]"
      ]
     },
     "metadata": {},
     "output_type": "display_data"
    }
   ],
   "source": [
    "# Извлекаем числовые значения из столбца 'object_id' таблицы degrees и приводим их к числовому типу\n",
    "degrees['object_id'] = degrees['object_id'].astype(str).str.extract('(\\d+)')\n",
    "degrees['object_id'] = degrees['object_id'].astype(float).fillna(-100).astype(int)\n",
    "display(degrees)"
   ]
  },
  {
   "cell_type": "code",
   "execution_count": 50,
   "metadata": {},
   "outputs": [
    {
     "name": "stdout",
     "output_type": "stream",
     "text": [
      "Уникальные значения в столбце 'id_people' для таблицы merged_people_education:\n",
      "226708\n",
      "\n",
      "Уникальные значения в столбце 'object_id' для таблицы degrees:\n",
      "68451\n"
     ]
    }
   ],
   "source": [
    "# Выведем уникальные значения\n",
    "print(\"Уникальные значения в столбце 'id_people' для таблицы merged_people_education:\")\n",
    "print(merged_people_education['id_people'].nunique())\n",
    "print(\"\\nУникальные значения в столбце 'object_id' для таблицы degrees:\")\n",
    "print(degrees['object_id'].nunique())"
   ]
  },
  {
   "cell_type": "code",
   "execution_count": 51,
   "metadata": {},
   "outputs": [
    {
     "name": "stdout",
     "output_type": "stream",
     "text": [
      "\n",
      "Пересечение между merged_people_education и degrees:\n",
      "68071\n"
     ]
    }
   ],
   "source": [
    "# Выведем пересечение значений\n",
    "merged_people_education_degrees = set(merged_people_education['id_people']).intersection(set(degrees['object_id']))\n",
    "\n",
    "# Выведем размер пересечений\n",
    "print(\"\\nПересечение между merged_people_education и degrees:\")\n",
    "print(len(merged_people_education_degrees))"
   ]
  },
  {
   "cell_type": "markdown",
   "metadata": {},
   "source": [
    "**Анализ данных и вывод:**\n",
    "1. Уникальные значения:\n",
    "- В таблице `merged_people_education` уникальных значений `id_people` — 226708 из 226709 строк.\n",
    "- В таблице `degrees` уникальных значений `object_id` — 68451 из 109610 строк.\n",
    "\n",
    "2. Пересечение значений: пересечение между `id_people` и `object_id` составляет 68071, что означает, что значительное количество значений из `object_id` таблицы `degrees` есть в `id_people`, но не все.\n",
    "\n",
    "3. Вывод: да, таблицы можно объединить по столбцам `id_people` и `object_id`, для анализа полноты информации об образовании лучше использовать LEFT JOIN, чтобы сохранить всех сотрудников и отметить тех, для кого нет данных об образовании."
   ]
  },
  {
   "cell_type": "code",
   "execution_count": 52,
   "metadata": {},
   "outputs": [
    {
     "data": {
      "text/html": [
       "<div>\n",
       "<style scoped>\n",
       "    .dataframe tbody tr th:only-of-type {\n",
       "        vertical-align: middle;\n",
       "    }\n",
       "\n",
       "    .dataframe tbody tr th {\n",
       "        vertical-align: top;\n",
       "    }\n",
       "\n",
       "    .dataframe thead th {\n",
       "        text-align: right;\n",
       "    }\n",
       "</style>\n",
       "<table border=\"1\" class=\"dataframe\">\n",
       "  <thead>\n",
       "    <tr style=\"text-align: right;\">\n",
       "      <th></th>\n",
       "      <th>id_people</th>\n",
       "      <th>first_name</th>\n",
       "      <th>last_name</th>\n",
       "      <th>company_id</th>\n",
       "      <th>network_username</th>\n",
       "      <th>id_education</th>\n",
       "      <th>person_id</th>\n",
       "      <th>instituition</th>\n",
       "      <th>graduated_at</th>\n",
       "      <th>id_degrees</th>\n",
       "      <th>object_id</th>\n",
       "      <th>degree_type</th>\n",
       "      <th>subject</th>\n",
       "    </tr>\n",
       "  </thead>\n",
       "  <tbody>\n",
       "    <tr>\n",
       "      <th>0</th>\n",
       "      <td>10</td>\n",
       "      <td>Mark</td>\n",
       "      <td>Zuckerberg</td>\n",
       "      <td>5.00</td>\n",
       "      <td>NaN</td>\n",
       "      <td>2_415.00</td>\n",
       "      <td>10.00</td>\n",
       "      <td>Harvard University</td>\n",
       "      <td>NaT</td>\n",
       "      <td>2_415.00</td>\n",
       "      <td>10.00</td>\n",
       "      <td>NaN</td>\n",
       "      <td>Computer Science</td>\n",
       "    </tr>\n",
       "    <tr>\n",
       "      <th>1</th>\n",
       "      <td>100</td>\n",
       "      <td>Peter</td>\n",
       "      <td>Lester</td>\n",
       "      <td>27.00</td>\n",
       "      <td>NaN</td>\n",
       "      <td>NaN</td>\n",
       "      <td>NaN</td>\n",
       "      <td>NaN</td>\n",
       "      <td>NaT</td>\n",
       "      <td>NaN</td>\n",
       "      <td>NaN</td>\n",
       "      <td>NaN</td>\n",
       "      <td>NaN</td>\n",
       "    </tr>\n",
       "    <tr>\n",
       "      <th>2</th>\n",
       "      <td>1000</td>\n",
       "      <td>Dr. Steven</td>\n",
       "      <td>E. Saunders</td>\n",
       "      <td>292.00</td>\n",
       "      <td>NaN</td>\n",
       "      <td>NaN</td>\n",
       "      <td>NaN</td>\n",
       "      <td>NaN</td>\n",
       "      <td>NaT</td>\n",
       "      <td>NaN</td>\n",
       "      <td>NaN</td>\n",
       "      <td>NaN</td>\n",
       "      <td>NaN</td>\n",
       "    </tr>\n",
       "    <tr>\n",
       "      <th>3</th>\n",
       "      <td>10000</td>\n",
       "      <td>Neil</td>\n",
       "      <td>Capel</td>\n",
       "      <td>2_526.00</td>\n",
       "      <td>NaN</td>\n",
       "      <td>NaN</td>\n",
       "      <td>NaN</td>\n",
       "      <td>NaN</td>\n",
       "      <td>NaT</td>\n",
       "      <td>NaN</td>\n",
       "      <td>NaN</td>\n",
       "      <td>NaN</td>\n",
       "      <td>NaN</td>\n",
       "    </tr>\n",
       "    <tr>\n",
       "      <th>4</th>\n",
       "      <td>100000</td>\n",
       "      <td>Sue</td>\n",
       "      <td>Pilsch</td>\n",
       "      <td>NaN</td>\n",
       "      <td>NaN</td>\n",
       "      <td>NaN</td>\n",
       "      <td>NaN</td>\n",
       "      <td>NaN</td>\n",
       "      <td>NaT</td>\n",
       "      <td>NaN</td>\n",
       "      <td>NaN</td>\n",
       "      <td>NaN</td>\n",
       "      <td>NaN</td>\n",
       "    </tr>\n",
       "    <tr>\n",
       "      <th>...</th>\n",
       "      <td>...</td>\n",
       "      <td>...</td>\n",
       "      <td>...</td>\n",
       "      <td>...</td>\n",
       "      <td>...</td>\n",
       "      <td>...</td>\n",
       "      <td>...</td>\n",
       "      <td>...</td>\n",
       "      <td>...</td>\n",
       "      <td>...</td>\n",
       "      <td>...</td>\n",
       "      <td>...</td>\n",
       "      <td>...</td>\n",
       "    </tr>\n",
       "    <tr>\n",
       "      <th>370831</th>\n",
       "      <td>99999</td>\n",
       "      <td>Ramon</td>\n",
       "      <td>Peypoch</td>\n",
       "      <td>NaN</td>\n",
       "      <td>NaN</td>\n",
       "      <td>NaN</td>\n",
       "      <td>NaN</td>\n",
       "      <td>NaN</td>\n",
       "      <td>NaT</td>\n",
       "      <td>NaN</td>\n",
       "      <td>NaN</td>\n",
       "      <td>NaN</td>\n",
       "      <td>NaN</td>\n",
       "    </tr>\n",
       "    <tr>\n",
       "      <th>370832</th>\n",
       "      <td>174088</td>\n",
       "      <td>Dr. Ray</td>\n",
       "      <td>Woods</td>\n",
       "      <td>188_200.00</td>\n",
       "      <td>network</td>\n",
       "      <td>25_958.00</td>\n",
       "      <td>174_088.00</td>\n",
       "      <td>Sydney University Medical School</td>\n",
       "      <td>1982-01-01</td>\n",
       "      <td>25_958.00</td>\n",
       "      <td>174_088.00</td>\n",
       "      <td>M.B.B.S.</td>\n",
       "      <td>Medicine</td>\n",
       "    </tr>\n",
       "    <tr>\n",
       "      <th>370833</th>\n",
       "      <td>118386</td>\n",
       "      <td>Ricardo</td>\n",
       "      <td>Durand</td>\n",
       "      <td>143_419.00</td>\n",
       "      <td>itechsocialnet</td>\n",
       "      <td>18_871.00</td>\n",
       "      <td>118_386.00</td>\n",
       "      <td>ESCS</td>\n",
       "      <td>2004-01-01</td>\n",
       "      <td>18_871.00</td>\n",
       "      <td>118_386.00</td>\n",
       "      <td>PhD</td>\n",
       "      <td>Journalism</td>\n",
       "    </tr>\n",
       "    <tr>\n",
       "      <th>370834</th>\n",
       "      <td>175827</td>\n",
       "      <td>mahesh</td>\n",
       "      <td>kumar</td>\n",
       "      <td>NaN</td>\n",
       "      <td>socialnethubs</td>\n",
       "      <td>NaN</td>\n",
       "      <td>NaN</td>\n",
       "      <td>NaN</td>\n",
       "      <td>NaT</td>\n",
       "      <td>NaN</td>\n",
       "      <td>NaN</td>\n",
       "      <td>NaN</td>\n",
       "      <td>NaN</td>\n",
       "    </tr>\n",
       "    <tr>\n",
       "      <th>370835</th>\n",
       "      <td>178190</td>\n",
       "      <td>Alex</td>\n",
       "      <td>Smith</td>\n",
       "      <td>NaN</td>\n",
       "      <td>esocialnetlike</td>\n",
       "      <td>NaN</td>\n",
       "      <td>NaN</td>\n",
       "      <td>NaN</td>\n",
       "      <td>NaT</td>\n",
       "      <td>NaN</td>\n",
       "      <td>NaN</td>\n",
       "      <td>NaN</td>\n",
       "      <td>NaN</td>\n",
       "    </tr>\n",
       "  </tbody>\n",
       "</table>\n",
       "<p>370836 rows × 13 columns</p>\n",
       "</div>"
      ],
      "text/plain": [
       "        id_people  first_name    last_name  company_id network_username  \\\n",
       "0              10        Mark   Zuckerberg        5.00              NaN   \n",
       "1             100       Peter       Lester       27.00              NaN   \n",
       "2            1000  Dr. Steven  E. Saunders      292.00              NaN   \n",
       "3           10000        Neil        Capel    2_526.00              NaN   \n",
       "4          100000         Sue       Pilsch         NaN              NaN   \n",
       "...           ...         ...          ...         ...              ...   \n",
       "370831      99999       Ramon      Peypoch         NaN              NaN   \n",
       "370832     174088     Dr. Ray        Woods  188_200.00          network   \n",
       "370833     118386     Ricardo       Durand  143_419.00   itechsocialnet   \n",
       "370834     175827      mahesh        kumar         NaN    socialnethubs   \n",
       "370835     178190        Alex        Smith         NaN   esocialnetlike   \n",
       "\n",
       "        id_education  person_id                      instituition  \\\n",
       "0           2_415.00      10.00                Harvard University   \n",
       "1                NaN        NaN                               NaN   \n",
       "2                NaN        NaN                               NaN   \n",
       "3                NaN        NaN                               NaN   \n",
       "4                NaN        NaN                               NaN   \n",
       "...              ...        ...                               ...   \n",
       "370831           NaN        NaN                               NaN   \n",
       "370832     25_958.00 174_088.00  Sydney University Medical School   \n",
       "370833     18_871.00 118_386.00                              ESCS   \n",
       "370834           NaN        NaN                               NaN   \n",
       "370835           NaN        NaN                               NaN   \n",
       "\n",
       "       graduated_at  id_degrees  object_id degree_type           subject  \n",
       "0               NaT    2_415.00      10.00         NaN  Computer Science  \n",
       "1               NaT         NaN        NaN         NaN               NaN  \n",
       "2               NaT         NaN        NaN         NaN               NaN  \n",
       "3               NaT         NaN        NaN         NaN               NaN  \n",
       "4               NaT         NaN        NaN         NaN               NaN  \n",
       "...             ...         ...        ...         ...               ...  \n",
       "370831          NaT         NaN        NaN         NaN               NaN  \n",
       "370832   1982-01-01   25_958.00 174_088.00    M.B.B.S.          Medicine  \n",
       "370833   2004-01-01   18_871.00 118_386.00         PhD        Journalism  \n",
       "370834          NaT         NaN        NaN         NaN               NaN  \n",
       "370835          NaT         NaN        NaN         NaN               NaN  \n",
       "\n",
       "[370836 rows x 13 columns]"
      ]
     },
     "metadata": {},
     "output_type": "display_data"
    }
   ],
   "source": [
    "merged_people_education_degrees = merged_people_education.merge(degrees, left_on='id_people', right_on='object_id', how='left')\n",
    "\n",
    "# Заменим название столбца\n",
    "merged_people_education_degrees.rename(columns={'id': 'id_degrees'}, inplace=True)\n",
    "display(merged_people_education_degrees)"
   ]
  },
  {
   "cell_type": "code",
   "execution_count": 53,
   "metadata": {},
   "outputs": [
    {
     "name": "stdout",
     "output_type": "stream",
     "text": [
      "Наличие информации об образовании:\n",
      "True     212198\n",
      "False    158638\n",
      "Name: has_education, dtype: int64\n"
     ]
    }
   ],
   "source": [
    "# Проверим наличие информации об образовании\n",
    "merged_people_education_degrees['has_education'] = merged_people_education_degrees['id_education'].notna()| merged_people_education_degrees['id_degrees'].notna()\n",
    "print(\"Наличие информации об образовании:\")\n",
    "print(merged_people_education_degrees['has_education'].value_counts())"
   ]
  },
  {
   "cell_type": "code",
   "execution_count": 54,
   "metadata": {},
   "outputs": [
    {
     "name": "stdout",
     "output_type": "stream",
     "text": [
      "Количество сотрудников в каждой компании:\n"
     ]
    },
    {
     "data": {
      "text/html": [
       "<div>\n",
       "<style scoped>\n",
       "    .dataframe tbody tr th:only-of-type {\n",
       "        vertical-align: middle;\n",
       "    }\n",
       "\n",
       "    .dataframe tbody tr th {\n",
       "        vertical-align: top;\n",
       "    }\n",
       "\n",
       "    .dataframe thead th {\n",
       "        text-align: right;\n",
       "    }\n",
       "</style>\n",
       "<table border=\"1\" class=\"dataframe\">\n",
       "  <thead>\n",
       "    <tr style=\"text-align: right;\">\n",
       "      <th></th>\n",
       "      <th>company_id</th>\n",
       "      <th>employee_count</th>\n",
       "    </tr>\n",
       "  </thead>\n",
       "  <tbody>\n",
       "    <tr>\n",
       "      <th>0</th>\n",
       "      <td>1.00</td>\n",
       "      <td>2</td>\n",
       "    </tr>\n",
       "    <tr>\n",
       "      <th>1</th>\n",
       "      <td>2.00</td>\n",
       "      <td>1</td>\n",
       "    </tr>\n",
       "    <tr>\n",
       "      <th>2</th>\n",
       "      <td>3.00</td>\n",
       "      <td>3</td>\n",
       "    </tr>\n",
       "    <tr>\n",
       "      <th>3</th>\n",
       "      <td>4.00</td>\n",
       "      <td>13</td>\n",
       "    </tr>\n",
       "    <tr>\n",
       "      <th>4</th>\n",
       "      <td>5.00</td>\n",
       "      <td>61</td>\n",
       "    </tr>\n",
       "    <tr>\n",
       "      <th>...</th>\n",
       "      <td>...</td>\n",
       "      <td>...</td>\n",
       "    </tr>\n",
       "    <tr>\n",
       "      <th>22917</th>\n",
       "      <td>285_897.00</td>\n",
       "      <td>2</td>\n",
       "    </tr>\n",
       "    <tr>\n",
       "      <th>22918</th>\n",
       "      <td>285_953.00</td>\n",
       "      <td>1</td>\n",
       "    </tr>\n",
       "    <tr>\n",
       "      <th>22919</th>\n",
       "      <td>285_972.00</td>\n",
       "      <td>2</td>\n",
       "    </tr>\n",
       "    <tr>\n",
       "      <th>22920</th>\n",
       "      <td>285_996.00</td>\n",
       "      <td>1</td>\n",
       "    </tr>\n",
       "    <tr>\n",
       "      <th>22921</th>\n",
       "      <td>286_091.00</td>\n",
       "      <td>6</td>\n",
       "    </tr>\n",
       "  </tbody>\n",
       "</table>\n",
       "<p>22922 rows × 2 columns</p>\n",
       "</div>"
      ],
      "text/plain": [
       "       company_id  employee_count\n",
       "0            1.00               2\n",
       "1            2.00               1\n",
       "2            3.00               3\n",
       "3            4.00              13\n",
       "4            5.00              61\n",
       "...           ...             ...\n",
       "22917  285_897.00               2\n",
       "22918  285_953.00               1\n",
       "22919  285_972.00               2\n",
       "22920  285_996.00               1\n",
       "22921  286_091.00               6\n",
       "\n",
       "[22922 rows x 2 columns]"
      ]
     },
     "metadata": {},
     "output_type": "display_data"
    }
   ],
   "source": [
    "# Считаем количество сотрудников в каждой компании\n",
    "company_employee_count = merged_people_education_degrees.groupby('company_id')['id_people'].nunique().reset_index()\n",
    "company_employee_count.rename(columns={'id_people': 'employee_count'}, inplace=True)\n",
    "print(\"Количество сотрудников в каждой компании:\")\n",
    "display(company_employee_count)"
   ]
  },
  {
   "cell_type": "code",
   "execution_count": 55,
   "metadata": {},
   "outputs": [
    {
     "name": "stdout",
     "output_type": "stream",
     "text": [
      "Доля сотрудников без образования:\n"
     ]
    },
    {
     "data": {
      "text/html": [
       "<div>\n",
       "<style scoped>\n",
       "    .dataframe tbody tr th:only-of-type {\n",
       "        vertical-align: middle;\n",
       "    }\n",
       "\n",
       "    .dataframe tbody tr th {\n",
       "        vertical-align: top;\n",
       "    }\n",
       "\n",
       "    .dataframe thead th {\n",
       "        text-align: right;\n",
       "    }\n",
       "</style>\n",
       "<table border=\"1\" class=\"dataframe\">\n",
       "  <thead>\n",
       "    <tr style=\"text-align: right;\">\n",
       "      <th></th>\n",
       "      <th>company_id</th>\n",
       "      <th>employee_count</th>\n",
       "      <th>no_education_count</th>\n",
       "      <th>no_education_ratio</th>\n",
       "    </tr>\n",
       "  </thead>\n",
       "  <tbody>\n",
       "    <tr>\n",
       "      <th>0</th>\n",
       "      <td>1.00</td>\n",
       "      <td>2</td>\n",
       "      <td>1.00</td>\n",
       "      <td>0.50</td>\n",
       "    </tr>\n",
       "    <tr>\n",
       "      <th>1</th>\n",
       "      <td>2.00</td>\n",
       "      <td>1</td>\n",
       "      <td>0.00</td>\n",
       "      <td>0.00</td>\n",
       "    </tr>\n",
       "    <tr>\n",
       "      <th>2</th>\n",
       "      <td>3.00</td>\n",
       "      <td>3</td>\n",
       "      <td>1.00</td>\n",
       "      <td>0.33</td>\n",
       "    </tr>\n",
       "    <tr>\n",
       "      <th>3</th>\n",
       "      <td>4.00</td>\n",
       "      <td>13</td>\n",
       "      <td>1.00</td>\n",
       "      <td>0.08</td>\n",
       "    </tr>\n",
       "    <tr>\n",
       "      <th>4</th>\n",
       "      <td>5.00</td>\n",
       "      <td>61</td>\n",
       "      <td>16.00</td>\n",
       "      <td>0.26</td>\n",
       "    </tr>\n",
       "    <tr>\n",
       "      <th>...</th>\n",
       "      <td>...</td>\n",
       "      <td>...</td>\n",
       "      <td>...</td>\n",
       "      <td>...</td>\n",
       "    </tr>\n",
       "    <tr>\n",
       "      <th>22917</th>\n",
       "      <td>285_897.00</td>\n",
       "      <td>2</td>\n",
       "      <td>0.00</td>\n",
       "      <td>0.00</td>\n",
       "    </tr>\n",
       "    <tr>\n",
       "      <th>22918</th>\n",
       "      <td>285_953.00</td>\n",
       "      <td>1</td>\n",
       "      <td>1.00</td>\n",
       "      <td>1.00</td>\n",
       "    </tr>\n",
       "    <tr>\n",
       "      <th>22919</th>\n",
       "      <td>285_972.00</td>\n",
       "      <td>2</td>\n",
       "      <td>1.00</td>\n",
       "      <td>0.50</td>\n",
       "    </tr>\n",
       "    <tr>\n",
       "      <th>22920</th>\n",
       "      <td>285_996.00</td>\n",
       "      <td>1</td>\n",
       "      <td>0.00</td>\n",
       "      <td>0.00</td>\n",
       "    </tr>\n",
       "    <tr>\n",
       "      <th>22921</th>\n",
       "      <td>286_091.00</td>\n",
       "      <td>6</td>\n",
       "      <td>2.00</td>\n",
       "      <td>0.33</td>\n",
       "    </tr>\n",
       "  </tbody>\n",
       "</table>\n",
       "<p>22922 rows × 4 columns</p>\n",
       "</div>"
      ],
      "text/plain": [
       "       company_id  employee_count  no_education_count  no_education_ratio\n",
       "0            1.00               2                1.00                0.50\n",
       "1            2.00               1                0.00                0.00\n",
       "2            3.00               3                1.00                0.33\n",
       "3            4.00              13                1.00                0.08\n",
       "4            5.00              61               16.00                0.26\n",
       "...           ...             ...                 ...                 ...\n",
       "22917  285_897.00               2                0.00                0.00\n",
       "22918  285_953.00               1                1.00                1.00\n",
       "22919  285_972.00               2                1.00                0.50\n",
       "22920  285_996.00               1                0.00                0.00\n",
       "22921  286_091.00               6                2.00                0.33\n",
       "\n",
       "[22922 rows x 4 columns]"
      ]
     },
     "metadata": {},
     "output_type": "display_data"
    }
   ],
   "source": [
    "# Считаем количество сотрудников без образования\n",
    "no_education_count = merged_people_education_degrees[~merged_people_education_degrees['has_education']].groupby('company_id')['id_people'].nunique().reset_index()\n",
    "no_education_count.rename(columns={'id_people': 'no_education_count'}, inplace=True)\n",
    "\n",
    "# Объединяем данные с общим количеством сотрудников в каждой компании\n",
    "company_education = company_employee_count.merge(no_education_count, on='company_id', how='left')\n",
    "\n",
    "# Заполняем пропуски в количестве сотрудников без образования (если таких сотрудников нет, ставим 0)\n",
    "company_education['no_education_count'] = company_education['no_education_count'].fillna(0)\n",
    "\n",
    "# Рассчитываем долю сотрудников без образования\n",
    "company_education['no_education_ratio'] = company_education['no_education_count'] / company_education['employee_count']\n",
    "print(\"Доля сотрудников без образования:\")\n",
    "display(company_education)"
   ]
  },
  {
   "cell_type": "code",
   "execution_count": 56,
   "metadata": {},
   "outputs": [
    {
     "data": {
      "text/html": [
       "<div>\n",
       "<style scoped>\n",
       "    .dataframe tbody tr th:only-of-type {\n",
       "        vertical-align: middle;\n",
       "    }\n",
       "\n",
       "    .dataframe tbody tr th {\n",
       "        vertical-align: top;\n",
       "    }\n",
       "\n",
       "    .dataframe thead th {\n",
       "        text-align: right;\n",
       "    }\n",
       "</style>\n",
       "<table border=\"1\" class=\"dataframe\">\n",
       "  <thead>\n",
       "    <tr style=\"text-align: right;\">\n",
       "      <th></th>\n",
       "      <th>employee_group</th>\n",
       "      <th>avg_no_education_ratio</th>\n",
       "    </tr>\n",
       "  </thead>\n",
       "  <tbody>\n",
       "    <tr>\n",
       "      <th>0</th>\n",
       "      <td>0-10</td>\n",
       "      <td>0.47</td>\n",
       "    </tr>\n",
       "    <tr>\n",
       "      <th>1</th>\n",
       "      <td>11-50</td>\n",
       "      <td>0.44</td>\n",
       "    </tr>\n",
       "    <tr>\n",
       "      <th>2</th>\n",
       "      <td>51-100</td>\n",
       "      <td>0.29</td>\n",
       "    </tr>\n",
       "    <tr>\n",
       "      <th>3</th>\n",
       "      <td>101-500</td>\n",
       "      <td>0.28</td>\n",
       "    </tr>\n",
       "    <tr>\n",
       "      <th>4</th>\n",
       "      <td>500+</td>\n",
       "      <td>NaN</td>\n",
       "    </tr>\n",
       "  </tbody>\n",
       "</table>\n",
       "</div>"
      ],
      "text/plain": [
       "  employee_group  avg_no_education_ratio\n",
       "0           0-10                    0.47\n",
       "1          11-50                    0.44\n",
       "2         51-100                    0.29\n",
       "3        101-500                    0.28\n",
       "4           500+                     NaN"
      ]
     },
     "metadata": {},
     "output_type": "display_data"
    }
   ],
   "source": [
    "# Создаем категории по числу сотрудников\n",
    "bins = [0, 10, 50, 100, 500, float('inf')]\n",
    "labels = ['0-10', '11-50', '51-100', '101-500', '500+']\n",
    "company_education['employee_group'] = pd.cut(company_education['employee_count'], bins=bins, labels=labels)\n",
    "\n",
    "# Группируем данные по категориям числа сотрудников\n",
    "result = company_education.groupby('employee_group')['no_education_ratio'].mean().reset_index()\n",
    "\n",
    "# Переименовываем столбцы для удобства\n",
    "result.rename(columns={'no_education_ratio': 'avg_no_education_ratio'}, inplace=True)\n",
    "\n",
    "# Выводим результат\n",
    "display(result)"
   ]
  },
  {
   "cell_type": "code",
   "execution_count": 57,
   "metadata": {},
   "outputs": [
    {
     "data": {
      "text/html": [
       "<div>\n",
       "<style scoped>\n",
       "    .dataframe tbody tr th:only-of-type {\n",
       "        vertical-align: middle;\n",
       "    }\n",
       "\n",
       "    .dataframe tbody tr th {\n",
       "        vertical-align: top;\n",
       "    }\n",
       "\n",
       "    .dataframe thead th {\n",
       "        text-align: right;\n",
       "    }\n",
       "</style>\n",
       "<table border=\"1\" class=\"dataframe\">\n",
       "  <thead>\n",
       "    <tr style=\"text-align: right;\">\n",
       "      <th></th>\n",
       "      <th>employee_group</th>\n",
       "      <th>avg_no_education_ratio</th>\n",
       "    </tr>\n",
       "  </thead>\n",
       "  <tbody>\n",
       "    <tr>\n",
       "      <th>0</th>\n",
       "      <td>1</td>\n",
       "      <td>0.46</td>\n",
       "    </tr>\n",
       "    <tr>\n",
       "      <th>1</th>\n",
       "      <td>2-5</td>\n",
       "      <td>0.48</td>\n",
       "    </tr>\n",
       "    <tr>\n",
       "      <th>2</th>\n",
       "      <td>6-10</td>\n",
       "      <td>0.53</td>\n",
       "    </tr>\n",
       "    <tr>\n",
       "      <th>3</th>\n",
       "      <td>11-50</td>\n",
       "      <td>0.44</td>\n",
       "    </tr>\n",
       "    <tr>\n",
       "      <th>4</th>\n",
       "      <td>51-100</td>\n",
       "      <td>0.29</td>\n",
       "    </tr>\n",
       "    <tr>\n",
       "      <th>5</th>\n",
       "      <td>101-500</td>\n",
       "      <td>0.28</td>\n",
       "    </tr>\n",
       "    <tr>\n",
       "      <th>6</th>\n",
       "      <td>500+</td>\n",
       "      <td>NaN</td>\n",
       "    </tr>\n",
       "  </tbody>\n",
       "</table>\n",
       "</div>"
      ],
      "text/plain": [
       "  employee_group  avg_no_education_ratio\n",
       "0              1                    0.46\n",
       "1            2-5                    0.48\n",
       "2           6-10                    0.53\n",
       "3          11-50                    0.44\n",
       "4         51-100                    0.29\n",
       "5        101-500                    0.28\n",
       "6           500+                     NaN"
      ]
     },
     "metadata": {},
     "output_type": "display_data"
    }
   ],
   "source": [
    "# Создаем категории по числу сотрудников\n",
    "bins = [0, 1, 5, 10, 50, 100, 500, float('inf')]\n",
    "labels = ['1', '2-5', '6-10', '11-50', '51-100', '101-500', '500+']\n",
    "company_education['employee_group'] = pd.cut(company_education['employee_count'], bins=bins, labels=labels)\n",
    "\n",
    "# Группируем данные по категориям числа сотрудников\n",
    "result = company_education.groupby('employee_group')['no_education_ratio'].mean().reset_index()\n",
    "\n",
    "# Переименовываем столбцы для удобства\n",
    "result.rename(columns={'no_education_ratio': 'avg_no_education_ratio'}, inplace=True)\n",
    "\n",
    "# Выводим результат\n",
    "display(result)"
   ]
  },
  {
   "cell_type": "code",
   "execution_count": 58,
   "metadata": {},
   "outputs": [
    {
     "data": {
      "text/html": [
       "<div>\n",
       "<style scoped>\n",
       "    .dataframe tbody tr th:only-of-type {\n",
       "        vertical-align: middle;\n",
       "    }\n",
       "\n",
       "    .dataframe tbody tr th {\n",
       "        vertical-align: top;\n",
       "    }\n",
       "\n",
       "    .dataframe thead th {\n",
       "        text-align: right;\n",
       "    }\n",
       "</style>\n",
       "<table border=\"1\" class=\"dataframe\">\n",
       "  <thead>\n",
       "    <tr style=\"text-align: right;\">\n",
       "      <th></th>\n",
       "      <th>employee_group</th>\n",
       "      <th>avg_no_education_ratio</th>\n",
       "    </tr>\n",
       "  </thead>\n",
       "  <tbody>\n",
       "    <tr>\n",
       "      <th>0</th>\n",
       "      <td>1</td>\n",
       "      <td>0</td>\n",
       "    </tr>\n",
       "    <tr>\n",
       "      <th>1</th>\n",
       "      <td>2-5</td>\n",
       "      <td>0</td>\n",
       "    </tr>\n",
       "    <tr>\n",
       "      <th>2</th>\n",
       "      <td>6-10</td>\n",
       "      <td>1</td>\n",
       "    </tr>\n",
       "    <tr>\n",
       "      <th>3</th>\n",
       "      <td>11-50</td>\n",
       "      <td>0</td>\n",
       "    </tr>\n",
       "    <tr>\n",
       "      <th>4</th>\n",
       "      <td>51-100</td>\n",
       "      <td>0</td>\n",
       "    </tr>\n",
       "    <tr>\n",
       "      <th>5</th>\n",
       "      <td>101-500</td>\n",
       "      <td>0</td>\n",
       "    </tr>\n",
       "    <tr>\n",
       "      <th>6</th>\n",
       "      <td>500+</td>\n",
       "      <td>NaN</td>\n",
       "    </tr>\n",
       "  </tbody>\n",
       "</table>\n",
       "</div>"
      ],
      "text/plain": [
       "  employee_group  avg_no_education_ratio\n",
       "0              1                       0\n",
       "1            2-5                       0\n",
       "2           6-10                       1\n",
       "3          11-50                       0\n",
       "4         51-100                       0\n",
       "5        101-500                       0\n",
       "6           500+                     NaN"
      ]
     },
     "metadata": {},
     "output_type": "display_data"
    }
   ],
   "source": [
    "# Рассчитываем среднюю долю сотрудников без образования по группам\n",
    "education_analysis = company_education.groupby('employee_group')['no_education_ratio'].mean().reset_index().round(2)\n",
    "education_analysis.rename(columns={'no_education_ratio': 'avg_no_education_ratio'}, inplace=True)\n",
    "\n",
    "# Выводим результат\n",
    "with pd.option_context('display.max_colwidth', 120, 'display.float_format', '{:,.0f}'.format):\n",
    "    display(education_analysis)"
   ]
  },
  {
   "cell_type": "code",
   "execution_count": 59,
   "metadata": {},
   "outputs": [
    {
     "data": {
      "image/png": "[encoded data removed]",
      "text/plain": [
       "<Figure size 432x288 with 1 Axes>"
      ]
     },
     "metadata": {
      "needs_background": "light"
     },
     "output_type": "display_data"
    }
   ],
   "source": [
    "# Визуализация\n",
    "plt.bar(education_analysis['employee_group'], education_analysis['avg_no_education_ratio'])\n",
    "plt.title('Средняя доля сотрудников без информации об образовании')\n",
    "plt.xlabel('Группы компаний (по числу сотрудников)')\n",
    "plt.ylabel('Доля сотрудников без образования')\n",
    "plt.show()"
   ]
  },
  {
   "cell_type": "markdown",
   "metadata": {},
   "source": [
    "**Вывод на основе результатов:**\n",
    "\n",
    "1. Небольшие компании (6-10 сотрудников):\n",
    "- Средняя доля сотрудников без образования — 53%. Это самая высокая доля, что может свидетельствовать о меньшем уровне доступности информации или меньшем внимании к сбору данных в небольших организациях.\n",
    "\n",
    "2. Компании с одним сотрудником или количеством 2-5 человек:\n",
    "- Доля, также, достаточно высока, 46% и 48%\n",
    "\n",
    "3. Компании среднего размера (11-50 сотрудников) - доля снижается до 44%, что указывает на более полные данные об образовании по мере увеличения размера компании.\n",
    "\n",
    "4. Крупные компании (101-500 сотрудников) - средняя доля сотрудников без образования составляет 28%, что подтверждает предыдущую теорию, что по мере увеличения компании доля сотрудников без образования снижается.\n",
    "\n",
    "5. Очень крупные компании (500+ сотрудников) - средняя доля сотрудников без образования не указана, что может указывать на отсутствие данных для этой категории.\n",
    "\n",
    "**Итоговый вывод:**\n",
    "\n",
    "На основании анализа можно сделать вывод, что полнота сведений об образовании сотрудников, как правило, увеличивается с размером компании. В компаниях с меньшим количеством сотрудников (0-10) наблюдается самая высокая доля сотрудников без данных об образовании, в средних и крупных компаниях этот показатель снижается. Это может быть связано с тем, что большие компании чаще уделяют внимание сбору и поддержанию более полных данных о своих сотрудниках."
   ]
  },
  {
   "cell_type": "markdown",
   "metadata": {
    "id": "bmVYhphNrJg2"
   },
   "source": [
    "\n",
    "## Шаг 3. Исследовательский анализ объединённых таблиц\n",
    "\n",
    "<big>Приступите к шагу 3 после проверки ревьюера.</big>"
   ]
  },
  {
   "cell_type": "markdown",
   "metadata": {
    "id": "3Di6tCT3rJg2"
   },
   "source": [
    "\n",
    "### 3.1. Объединение данных\n",
    "\n",
    "Объедините данные для ответа на вопросы заказчика, которые касаются интересующих его компаний.\n",
    "\n",
    "В качестве основы для объединённой таблицы возьмите данные из обработанного датасета `company_and_rounds.csv` — выберите только те компании, у которых указаны значения `funding_rounds` или `investment_rounds` больше нуля, и те, у которых в колонке `status` указано `acquired`.\n",
    "\n",
    "Далее работайте только с этими данными."
   ]
  },
  {
   "cell_type": "code",
   "execution_count": 60,
   "metadata": {},
   "outputs": [
    {
     "data": {
      "text/html": [
       "<div>\n",
       "<style scoped>\n",
       "    .dataframe tbody tr th:only-of-type {\n",
       "        vertical-align: middle;\n",
       "    }\n",
       "\n",
       "    .dataframe tbody tr th {\n",
       "        vertical-align: top;\n",
       "    }\n",
       "\n",
       "    .dataframe thead th {\n",
       "        text-align: right;\n",
       "    }\n",
       "</style>\n",
       "<table border=\"1\" class=\"dataframe\">\n",
       "  <thead>\n",
       "    <tr style=\"text-align: right;\">\n",
       "      <th></th>\n",
       "      <th>name</th>\n",
       "      <th>category_code</th>\n",
       "      <th>status</th>\n",
       "      <th>founded_at</th>\n",
       "      <th>closed_at</th>\n",
       "      <th>domain</th>\n",
       "      <th>network_username</th>\n",
       "      <th>country_code</th>\n",
       "      <th>investment_rounds</th>\n",
       "      <th>funding_rounds</th>\n",
       "      <th>...</th>\n",
       "      <th>funding_round_id</th>\n",
       "      <th>funded_at</th>\n",
       "      <th>funding_round_type</th>\n",
       "      <th>raised_amount</th>\n",
       "      <th>pre_money_valuation</th>\n",
       "      <th>participants</th>\n",
       "      <th>is_first_round</th>\n",
       "      <th>is_last_round</th>\n",
       "      <th>company_id_combined</th>\n",
       "      <th>year</th>\n",
       "    </tr>\n",
       "  </thead>\n",
       "  <tbody>\n",
       "    <tr>\n",
       "      <th>0</th>\n",
       "      <td>Wetpaint</td>\n",
       "      <td>web</td>\n",
       "      <td>operating</td>\n",
       "      <td>2005-10-17</td>\n",
       "      <td>NaT</td>\n",
       "      <td>wetpaint-inc.com</td>\n",
       "      <td>BachelrWetpaint</td>\n",
       "      <td>USA</td>\n",
       "      <td>0.00</td>\n",
       "      <td>3.00</td>\n",
       "      <td>...</td>\n",
       "      <td>888.00</td>\n",
       "      <td>2005-10-01</td>\n",
       "      <td>series-a</td>\n",
       "      <td>5_250_000.00</td>\n",
       "      <td>0.00</td>\n",
       "      <td>2.00</td>\n",
       "      <td>0.00</td>\n",
       "      <td>1.00</td>\n",
       "      <td>1.00</td>\n",
       "      <td>2_005.00</td>\n",
       "    </tr>\n",
       "    <tr>\n",
       "      <th>1</th>\n",
       "      <td>Wetpaint</td>\n",
       "      <td>web</td>\n",
       "      <td>operating</td>\n",
       "      <td>2005-10-17</td>\n",
       "      <td>NaT</td>\n",
       "      <td>wetpaint-inc.com</td>\n",
       "      <td>BachelrWetpaint</td>\n",
       "      <td>USA</td>\n",
       "      <td>0.00</td>\n",
       "      <td>3.00</td>\n",
       "      <td>...</td>\n",
       "      <td>889.00</td>\n",
       "      <td>2007-01-01</td>\n",
       "      <td>series-b</td>\n",
       "      <td>9_500_000.00</td>\n",
       "      <td>0.00</td>\n",
       "      <td>3.00</td>\n",
       "      <td>0.00</td>\n",
       "      <td>0.00</td>\n",
       "      <td>1.00</td>\n",
       "      <td>2_007.00</td>\n",
       "    </tr>\n",
       "    <tr>\n",
       "      <th>2</th>\n",
       "      <td>Wetpaint</td>\n",
       "      <td>web</td>\n",
       "      <td>operating</td>\n",
       "      <td>2005-10-17</td>\n",
       "      <td>NaT</td>\n",
       "      <td>wetpaint-inc.com</td>\n",
       "      <td>BachelrWetpaint</td>\n",
       "      <td>USA</td>\n",
       "      <td>0.00</td>\n",
       "      <td>3.00</td>\n",
       "      <td>...</td>\n",
       "      <td>2_312.00</td>\n",
       "      <td>2008-05-19</td>\n",
       "      <td>series-c+</td>\n",
       "      <td>25_000_000.00</td>\n",
       "      <td>0.00</td>\n",
       "      <td>4.00</td>\n",
       "      <td>1.00</td>\n",
       "      <td>0.00</td>\n",
       "      <td>1.00</td>\n",
       "      <td>2_008.00</td>\n",
       "    </tr>\n",
       "    <tr>\n",
       "      <th>3</th>\n",
       "      <td>Flektor</td>\n",
       "      <td>games_video</td>\n",
       "      <td>acquired</td>\n",
       "      <td>NaT</td>\n",
       "      <td>NaT</td>\n",
       "      <td>flektor.com</td>\n",
       "      <td>NaN</td>\n",
       "      <td>USA</td>\n",
       "      <td>0.00</td>\n",
       "      <td>0.00</td>\n",
       "      <td>...</td>\n",
       "      <td>NaN</td>\n",
       "      <td>NaT</td>\n",
       "      <td>NaN</td>\n",
       "      <td>NaN</td>\n",
       "      <td>NaN</td>\n",
       "      <td>NaN</td>\n",
       "      <td>NaN</td>\n",
       "      <td>NaN</td>\n",
       "      <td>10.00</td>\n",
       "      <td>NaN</td>\n",
       "    </tr>\n",
       "    <tr>\n",
       "      <th>4</th>\n",
       "      <td>There</td>\n",
       "      <td>games_video</td>\n",
       "      <td>acquired</td>\n",
       "      <td>NaT</td>\n",
       "      <td>NaT</td>\n",
       "      <td>there.com</td>\n",
       "      <td>NaN</td>\n",
       "      <td>USA</td>\n",
       "      <td>0.00</td>\n",
       "      <td>0.00</td>\n",
       "      <td>...</td>\n",
       "      <td>NaN</td>\n",
       "      <td>NaT</td>\n",
       "      <td>NaN</td>\n",
       "      <td>NaN</td>\n",
       "      <td>NaN</td>\n",
       "      <td>NaN</td>\n",
       "      <td>NaN</td>\n",
       "      <td>NaN</td>\n",
       "      <td>100.00</td>\n",
       "      <td>NaN</td>\n",
       "    </tr>\n",
       "    <tr>\n",
       "      <th>...</th>\n",
       "      <td>...</td>\n",
       "      <td>...</td>\n",
       "      <td>...</td>\n",
       "      <td>...</td>\n",
       "      <td>...</td>\n",
       "      <td>...</td>\n",
       "      <td>...</td>\n",
       "      <td>...</td>\n",
       "      <td>...</td>\n",
       "      <td>...</td>\n",
       "      <td>...</td>\n",
       "      <td>...</td>\n",
       "      <td>...</td>\n",
       "      <td>...</td>\n",
       "      <td>...</td>\n",
       "      <td>...</td>\n",
       "      <td>...</td>\n",
       "      <td>...</td>\n",
       "      <td>...</td>\n",
       "      <td>...</td>\n",
       "      <td>...</td>\n",
       "    </tr>\n",
       "    <tr>\n",
       "      <th>217466</th>\n",
       "      <td>Zend Technologies</td>\n",
       "      <td>software</td>\n",
       "      <td>operating</td>\n",
       "      <td>1999-01-01</td>\n",
       "      <td>NaT</td>\n",
       "      <td>zend.com</td>\n",
       "      <td>networkzend</td>\n",
       "      <td>USA</td>\n",
       "      <td>0.00</td>\n",
       "      <td>4.00</td>\n",
       "      <td>...</td>\n",
       "      <td>20_896.00</td>\n",
       "      <td>2011-01-10</td>\n",
       "      <td>venture</td>\n",
       "      <td>7_000_000.00</td>\n",
       "      <td>0.00</td>\n",
       "      <td>1.00</td>\n",
       "      <td>1.00</td>\n",
       "      <td>0.00</td>\n",
       "      <td>3_429.00</td>\n",
       "      <td>2_011.00</td>\n",
       "    </tr>\n",
       "    <tr>\n",
       "      <th>217467</th>\n",
       "      <td>Flowgram</td>\n",
       "      <td>web</td>\n",
       "      <td>closed</td>\n",
       "      <td>2007-06-01</td>\n",
       "      <td>2008-06-11</td>\n",
       "      <td>flowgram.com</td>\n",
       "      <td>network</td>\n",
       "      <td>USA</td>\n",
       "      <td>0.00</td>\n",
       "      <td>1.00</td>\n",
       "      <td>...</td>\n",
       "      <td>2_836.00</td>\n",
       "      <td>2008-01-31</td>\n",
       "      <td>angel</td>\n",
       "      <td>1_300_000.00</td>\n",
       "      <td>0.00</td>\n",
       "      <td>8.00</td>\n",
       "      <td>1.00</td>\n",
       "      <td>1.00</td>\n",
       "      <td>7_748.00</td>\n",
       "      <td>2_008.00</td>\n",
       "    </tr>\n",
       "    <tr>\n",
       "      <th>217469</th>\n",
       "      <td>Photonet</td>\n",
       "      <td>photo_video</td>\n",
       "      <td>acquired</td>\n",
       "      <td>2010-03-01</td>\n",
       "      <td>NaT</td>\n",
       "      <td>Photonet.com</td>\n",
       "      <td>Photonet</td>\n",
       "      <td>USA</td>\n",
       "      <td>0.00</td>\n",
       "      <td>3.00</td>\n",
       "      <td>...</td>\n",
       "      <td>12_687.00</td>\n",
       "      <td>2010-03-05</td>\n",
       "      <td>angel</td>\n",
       "      <td>500_000.00</td>\n",
       "      <td>0.00</td>\n",
       "      <td>2.00</td>\n",
       "      <td>0.00</td>\n",
       "      <td>1.00</td>\n",
       "      <td>43_233.00</td>\n",
       "      <td>2_010.00</td>\n",
       "    </tr>\n",
       "    <tr>\n",
       "      <th>217470</th>\n",
       "      <td>Photonet</td>\n",
       "      <td>photo_video</td>\n",
       "      <td>acquired</td>\n",
       "      <td>2010-03-01</td>\n",
       "      <td>NaT</td>\n",
       "      <td>Photonet.com</td>\n",
       "      <td>Photonet</td>\n",
       "      <td>USA</td>\n",
       "      <td>0.00</td>\n",
       "      <td>3.00</td>\n",
       "      <td>...</td>\n",
       "      <td>21_259.00</td>\n",
       "      <td>2011-02-02</td>\n",
       "      <td>series-a</td>\n",
       "      <td>7_000_000.00</td>\n",
       "      <td>0.00</td>\n",
       "      <td>5.00</td>\n",
       "      <td>0.00</td>\n",
       "      <td>0.00</td>\n",
       "      <td>43_233.00</td>\n",
       "      <td>2_011.00</td>\n",
       "    </tr>\n",
       "    <tr>\n",
       "      <th>217471</th>\n",
       "      <td>Photonet</td>\n",
       "      <td>photo_video</td>\n",
       "      <td>acquired</td>\n",
       "      <td>2010-03-01</td>\n",
       "      <td>NaT</td>\n",
       "      <td>Photonet.com</td>\n",
       "      <td>Photonet</td>\n",
       "      <td>USA</td>\n",
       "      <td>0.00</td>\n",
       "      <td>3.00</td>\n",
       "      <td>...</td>\n",
       "      <td>28_645.00</td>\n",
       "      <td>2012-04-05</td>\n",
       "      <td>series-b</td>\n",
       "      <td>50_000_000.00</td>\n",
       "      <td>0.00</td>\n",
       "      <td>5.00</td>\n",
       "      <td>1.00</td>\n",
       "      <td>0.00</td>\n",
       "      <td>43_233.00</td>\n",
       "      <td>2_012.00</td>\n",
       "    </tr>\n",
       "  </tbody>\n",
       "</table>\n",
       "<p>61666 rows × 22 columns</p>\n",
       "</div>"
      ],
      "text/plain": [
       "                     name category_code     status founded_at  closed_at  \\\n",
       "0                Wetpaint           web  operating 2005-10-17        NaT   \n",
       "1                Wetpaint           web  operating 2005-10-17        NaT   \n",
       "2                Wetpaint           web  operating 2005-10-17        NaT   \n",
       "3                 Flektor   games_video   acquired        NaT        NaT   \n",
       "4                   There   games_video   acquired        NaT        NaT   \n",
       "...                   ...           ...        ...        ...        ...   \n",
       "217466  Zend Technologies      software  operating 1999-01-01        NaT   \n",
       "217467           Flowgram           web     closed 2007-06-01 2008-06-11   \n",
       "217469           Photonet   photo_video   acquired 2010-03-01        NaT   \n",
       "217470           Photonet   photo_video   acquired 2010-03-01        NaT   \n",
       "217471           Photonet   photo_video   acquired 2010-03-01        NaT   \n",
       "\n",
       "                  domain network_username country_code  investment_rounds  \\\n",
       "0       wetpaint-inc.com  BachelrWetpaint          USA               0.00   \n",
       "1       wetpaint-inc.com  BachelrWetpaint          USA               0.00   \n",
       "2       wetpaint-inc.com  BachelrWetpaint          USA               0.00   \n",
       "3            flektor.com              NaN          USA               0.00   \n",
       "4              there.com              NaN          USA               0.00   \n",
       "...                  ...              ...          ...                ...   \n",
       "217466          zend.com      networkzend          USA               0.00   \n",
       "217467      flowgram.com          network          USA               0.00   \n",
       "217469      Photonet.com         Photonet          USA               0.00   \n",
       "217470      Photonet.com         Photonet          USA               0.00   \n",
       "217471      Photonet.com         Photonet          USA               0.00   \n",
       "\n",
       "        funding_rounds  ...  funding_round_id  funded_at  funding_round_type  \\\n",
       "0                 3.00  ...            888.00 2005-10-01            series-a   \n",
       "1                 3.00  ...            889.00 2007-01-01            series-b   \n",
       "2                 3.00  ...          2_312.00 2008-05-19           series-c+   \n",
       "3                 0.00  ...               NaN        NaT                 NaN   \n",
       "4                 0.00  ...               NaN        NaT                 NaN   \n",
       "...                ...  ...               ...        ...                 ...   \n",
       "217466            4.00  ...         20_896.00 2011-01-10             venture   \n",
       "217467            1.00  ...          2_836.00 2008-01-31               angel   \n",
       "217469            3.00  ...         12_687.00 2010-03-05               angel   \n",
       "217470            3.00  ...         21_259.00 2011-02-02            series-a   \n",
       "217471            3.00  ...         28_645.00 2012-04-05            series-b   \n",
       "\n",
       "       raised_amount pre_money_valuation  participants  is_first_round  \\\n",
       "0       5_250_000.00                0.00          2.00            0.00   \n",
       "1       9_500_000.00                0.00          3.00            0.00   \n",
       "2      25_000_000.00                0.00          4.00            1.00   \n",
       "3                NaN                 NaN           NaN             NaN   \n",
       "4                NaN                 NaN           NaN             NaN   \n",
       "...              ...                 ...           ...             ...   \n",
       "217466  7_000_000.00                0.00          1.00            1.00   \n",
       "217467  1_300_000.00                0.00          8.00            1.00   \n",
       "217469    500_000.00                0.00          2.00            0.00   \n",
       "217470  7_000_000.00                0.00          5.00            0.00   \n",
       "217471 50_000_000.00                0.00          5.00            1.00   \n",
       "\n",
       "        is_last_round  company_id_combined     year  \n",
       "0                1.00                 1.00 2_005.00  \n",
       "1                0.00                 1.00 2_007.00  \n",
       "2                0.00                 1.00 2_008.00  \n",
       "3                 NaN                10.00      NaN  \n",
       "4                 NaN               100.00      NaN  \n",
       "...               ...                  ...      ...  \n",
       "217466           0.00             3_429.00 2_011.00  \n",
       "217467           1.00             7_748.00 2_008.00  \n",
       "217469           1.00            43_233.00 2_010.00  \n",
       "217470           0.00            43_233.00 2_011.00  \n",
       "217471           0.00            43_233.00 2_012.00  \n",
       "\n",
       "[61666 rows x 22 columns]"
      ]
     },
     "metadata": {},
     "output_type": "display_data"
    }
   ],
   "source": [
    "# Сделаем фильтрацию на основе заданных условий\n",
    "filtered_data = company_and_rounds[\n",
    "    ((company_and_rounds['funding_rounds'] > 0) | (company_and_rounds['investment_rounds'] > 0)) | \n",
    "    (company_and_rounds['status'] == 'acquired')\n",
    "]\n",
    "display(filtered_data)"
   ]
  },
  {
   "cell_type": "code",
   "execution_count": 61,
   "metadata": {},
   "outputs": [
    {
     "data": {
      "text/html": [
       "<div>\n",
       "<style scoped>\n",
       "    .dataframe tbody tr th:only-of-type {\n",
       "        vertical-align: middle;\n",
       "    }\n",
       "\n",
       "    .dataframe tbody tr th {\n",
       "        vertical-align: top;\n",
       "    }\n",
       "\n",
       "    .dataframe thead th {\n",
       "        text-align: right;\n",
       "    }\n",
       "</style>\n",
       "<table border=\"1\" class=\"dataframe\">\n",
       "  <thead>\n",
       "    <tr style=\"text-align: right;\">\n",
       "      <th></th>\n",
       "      <th>name</th>\n",
       "      <th>category_code</th>\n",
       "      <th>status</th>\n",
       "      <th>founded_at</th>\n",
       "      <th>closed_at</th>\n",
       "      <th>domain</th>\n",
       "      <th>network_username</th>\n",
       "      <th>country_code</th>\n",
       "      <th>investment_rounds</th>\n",
       "      <th>funding_rounds</th>\n",
       "      <th>...</th>\n",
       "      <th>is_first_round</th>\n",
       "      <th>is_last_round</th>\n",
       "      <th>company_id_combined</th>\n",
       "      <th>year</th>\n",
       "      <th>id</th>\n",
       "      <th>acquiring_company_id</th>\n",
       "      <th>acquired_company_id</th>\n",
       "      <th>term_code</th>\n",
       "      <th>price_amount</th>\n",
       "      <th>acquired_at</th>\n",
       "    </tr>\n",
       "  </thead>\n",
       "  <tbody>\n",
       "    <tr>\n",
       "      <th>0</th>\n",
       "      <td>Wetpaint</td>\n",
       "      <td>web</td>\n",
       "      <td>operating</td>\n",
       "      <td>2005-10-17</td>\n",
       "      <td>NaT</td>\n",
       "      <td>wetpaint-inc.com</td>\n",
       "      <td>BachelrWetpaint</td>\n",
       "      <td>USA</td>\n",
       "      <td>0.00</td>\n",
       "      <td>3.00</td>\n",
       "      <td>...</td>\n",
       "      <td>0.00</td>\n",
       "      <td>1.00</td>\n",
       "      <td>1.00</td>\n",
       "      <td>2_005.00</td>\n",
       "      <td>NaN</td>\n",
       "      <td>NaN</td>\n",
       "      <td>NaN</td>\n",
       "      <td>NaN</td>\n",
       "      <td>NaN</td>\n",
       "      <td>NaT</td>\n",
       "    </tr>\n",
       "    <tr>\n",
       "      <th>1</th>\n",
       "      <td>Wetpaint</td>\n",
       "      <td>web</td>\n",
       "      <td>operating</td>\n",
       "      <td>2005-10-17</td>\n",
       "      <td>NaT</td>\n",
       "      <td>wetpaint-inc.com</td>\n",
       "      <td>BachelrWetpaint</td>\n",
       "      <td>USA</td>\n",
       "      <td>0.00</td>\n",
       "      <td>3.00</td>\n",
       "      <td>...</td>\n",
       "      <td>0.00</td>\n",
       "      <td>0.00</td>\n",
       "      <td>1.00</td>\n",
       "      <td>2_007.00</td>\n",
       "      <td>NaN</td>\n",
       "      <td>NaN</td>\n",
       "      <td>NaN</td>\n",
       "      <td>NaN</td>\n",
       "      <td>NaN</td>\n",
       "      <td>NaT</td>\n",
       "    </tr>\n",
       "    <tr>\n",
       "      <th>2</th>\n",
       "      <td>Wetpaint</td>\n",
       "      <td>web</td>\n",
       "      <td>operating</td>\n",
       "      <td>2005-10-17</td>\n",
       "      <td>NaT</td>\n",
       "      <td>wetpaint-inc.com</td>\n",
       "      <td>BachelrWetpaint</td>\n",
       "      <td>USA</td>\n",
       "      <td>0.00</td>\n",
       "      <td>3.00</td>\n",
       "      <td>...</td>\n",
       "      <td>1.00</td>\n",
       "      <td>0.00</td>\n",
       "      <td>1.00</td>\n",
       "      <td>2_008.00</td>\n",
       "      <td>NaN</td>\n",
       "      <td>NaN</td>\n",
       "      <td>NaN</td>\n",
       "      <td>NaN</td>\n",
       "      <td>NaN</td>\n",
       "      <td>NaT</td>\n",
       "    </tr>\n",
       "    <tr>\n",
       "      <th>3</th>\n",
       "      <td>Flektor</td>\n",
       "      <td>games_video</td>\n",
       "      <td>acquired</td>\n",
       "      <td>NaT</td>\n",
       "      <td>NaT</td>\n",
       "      <td>flektor.com</td>\n",
       "      <td>NaN</td>\n",
       "      <td>USA</td>\n",
       "      <td>0.00</td>\n",
       "      <td>0.00</td>\n",
       "      <td>...</td>\n",
       "      <td>NaN</td>\n",
       "      <td>NaN</td>\n",
       "      <td>10.00</td>\n",
       "      <td>NaN</td>\n",
       "      <td>1.00</td>\n",
       "      <td>11.00</td>\n",
       "      <td>10.00</td>\n",
       "      <td>NaN</td>\n",
       "      <td>20_000_000.00</td>\n",
       "      <td>2007-05-30</td>\n",
       "    </tr>\n",
       "    <tr>\n",
       "      <th>4</th>\n",
       "      <td>There</td>\n",
       "      <td>games_video</td>\n",
       "      <td>acquired</td>\n",
       "      <td>NaT</td>\n",
       "      <td>NaT</td>\n",
       "      <td>there.com</td>\n",
       "      <td>NaN</td>\n",
       "      <td>USA</td>\n",
       "      <td>0.00</td>\n",
       "      <td>0.00</td>\n",
       "      <td>...</td>\n",
       "      <td>NaN</td>\n",
       "      <td>NaN</td>\n",
       "      <td>100.00</td>\n",
       "      <td>NaN</td>\n",
       "      <td>20.00</td>\n",
       "      <td>377.00</td>\n",
       "      <td>100.00</td>\n",
       "      <td>cash</td>\n",
       "      <td>0.00</td>\n",
       "      <td>2005-05-29</td>\n",
       "    </tr>\n",
       "    <tr>\n",
       "      <th>...</th>\n",
       "      <td>...</td>\n",
       "      <td>...</td>\n",
       "      <td>...</td>\n",
       "      <td>...</td>\n",
       "      <td>...</td>\n",
       "      <td>...</td>\n",
       "      <td>...</td>\n",
       "      <td>...</td>\n",
       "      <td>...</td>\n",
       "      <td>...</td>\n",
       "      <td>...</td>\n",
       "      <td>...</td>\n",
       "      <td>...</td>\n",
       "      <td>...</td>\n",
       "      <td>...</td>\n",
       "      <td>...</td>\n",
       "      <td>...</td>\n",
       "      <td>...</td>\n",
       "      <td>...</td>\n",
       "      <td>...</td>\n",
       "      <td>...</td>\n",
       "    </tr>\n",
       "    <tr>\n",
       "      <th>61850</th>\n",
       "      <td>Zend Technologies</td>\n",
       "      <td>software</td>\n",
       "      <td>operating</td>\n",
       "      <td>1999-01-01</td>\n",
       "      <td>NaT</td>\n",
       "      <td>zend.com</td>\n",
       "      <td>networkzend</td>\n",
       "      <td>USA</td>\n",
       "      <td>0.00</td>\n",
       "      <td>4.00</td>\n",
       "      <td>...</td>\n",
       "      <td>1.00</td>\n",
       "      <td>0.00</td>\n",
       "      <td>3_429.00</td>\n",
       "      <td>2_011.00</td>\n",
       "      <td>NaN</td>\n",
       "      <td>NaN</td>\n",
       "      <td>NaN</td>\n",
       "      <td>NaN</td>\n",
       "      <td>NaN</td>\n",
       "      <td>NaT</td>\n",
       "    </tr>\n",
       "    <tr>\n",
       "      <th>61851</th>\n",
       "      <td>Flowgram</td>\n",
       "      <td>web</td>\n",
       "      <td>closed</td>\n",
       "      <td>2007-06-01</td>\n",
       "      <td>2008-06-11</td>\n",
       "      <td>flowgram.com</td>\n",
       "      <td>network</td>\n",
       "      <td>USA</td>\n",
       "      <td>0.00</td>\n",
       "      <td>1.00</td>\n",
       "      <td>...</td>\n",
       "      <td>1.00</td>\n",
       "      <td>1.00</td>\n",
       "      <td>7_748.00</td>\n",
       "      <td>2_008.00</td>\n",
       "      <td>NaN</td>\n",
       "      <td>NaN</td>\n",
       "      <td>NaN</td>\n",
       "      <td>NaN</td>\n",
       "      <td>NaN</td>\n",
       "      <td>NaT</td>\n",
       "    </tr>\n",
       "    <tr>\n",
       "      <th>61852</th>\n",
       "      <td>Photonet</td>\n",
       "      <td>photo_video</td>\n",
       "      <td>acquired</td>\n",
       "      <td>2010-03-01</td>\n",
       "      <td>NaT</td>\n",
       "      <td>Photonet.com</td>\n",
       "      <td>Photonet</td>\n",
       "      <td>USA</td>\n",
       "      <td>0.00</td>\n",
       "      <td>3.00</td>\n",
       "      <td>...</td>\n",
       "      <td>0.00</td>\n",
       "      <td>1.00</td>\n",
       "      <td>43_233.00</td>\n",
       "      <td>2_010.00</td>\n",
       "      <td>6_968.00</td>\n",
       "      <td>5.00</td>\n",
       "      <td>43_233.00</td>\n",
       "      <td>cash_and_stock</td>\n",
       "      <td>1_010_470_000.00</td>\n",
       "      <td>2012-04-09</td>\n",
       "    </tr>\n",
       "    <tr>\n",
       "      <th>61853</th>\n",
       "      <td>Photonet</td>\n",
       "      <td>photo_video</td>\n",
       "      <td>acquired</td>\n",
       "      <td>2010-03-01</td>\n",
       "      <td>NaT</td>\n",
       "      <td>Photonet.com</td>\n",
       "      <td>Photonet</td>\n",
       "      <td>USA</td>\n",
       "      <td>0.00</td>\n",
       "      <td>3.00</td>\n",
       "      <td>...</td>\n",
       "      <td>0.00</td>\n",
       "      <td>0.00</td>\n",
       "      <td>43_233.00</td>\n",
       "      <td>2_011.00</td>\n",
       "      <td>6_968.00</td>\n",
       "      <td>5.00</td>\n",
       "      <td>43_233.00</td>\n",
       "      <td>cash_and_stock</td>\n",
       "      <td>1_010_470_000.00</td>\n",
       "      <td>2012-04-09</td>\n",
       "    </tr>\n",
       "    <tr>\n",
       "      <th>61854</th>\n",
       "      <td>Photonet</td>\n",
       "      <td>photo_video</td>\n",
       "      <td>acquired</td>\n",
       "      <td>2010-03-01</td>\n",
       "      <td>NaT</td>\n",
       "      <td>Photonet.com</td>\n",
       "      <td>Photonet</td>\n",
       "      <td>USA</td>\n",
       "      <td>0.00</td>\n",
       "      <td>3.00</td>\n",
       "      <td>...</td>\n",
       "      <td>1.00</td>\n",
       "      <td>0.00</td>\n",
       "      <td>43_233.00</td>\n",
       "      <td>2_012.00</td>\n",
       "      <td>6_968.00</td>\n",
       "      <td>5.00</td>\n",
       "      <td>43_233.00</td>\n",
       "      <td>cash_and_stock</td>\n",
       "      <td>1_010_470_000.00</td>\n",
       "      <td>2012-04-09</td>\n",
       "    </tr>\n",
       "  </tbody>\n",
       "</table>\n",
       "<p>61855 rows × 28 columns</p>\n",
       "</div>"
      ],
      "text/plain": [
       "                    name category_code     status founded_at  closed_at  \\\n",
       "0               Wetpaint           web  operating 2005-10-17        NaT   \n",
       "1               Wetpaint           web  operating 2005-10-17        NaT   \n",
       "2               Wetpaint           web  operating 2005-10-17        NaT   \n",
       "3                Flektor   games_video   acquired        NaT        NaT   \n",
       "4                  There   games_video   acquired        NaT        NaT   \n",
       "...                  ...           ...        ...        ...        ...   \n",
       "61850  Zend Technologies      software  operating 1999-01-01        NaT   \n",
       "61851           Flowgram           web     closed 2007-06-01 2008-06-11   \n",
       "61852           Photonet   photo_video   acquired 2010-03-01        NaT   \n",
       "61853           Photonet   photo_video   acquired 2010-03-01        NaT   \n",
       "61854           Photonet   photo_video   acquired 2010-03-01        NaT   \n",
       "\n",
       "                 domain network_username country_code  investment_rounds  \\\n",
       "0      wetpaint-inc.com  BachelrWetpaint          USA               0.00   \n",
       "1      wetpaint-inc.com  BachelrWetpaint          USA               0.00   \n",
       "2      wetpaint-inc.com  BachelrWetpaint          USA               0.00   \n",
       "3           flektor.com              NaN          USA               0.00   \n",
       "4             there.com              NaN          USA               0.00   \n",
       "...                 ...              ...          ...                ...   \n",
       "61850          zend.com      networkzend          USA               0.00   \n",
       "61851      flowgram.com          network          USA               0.00   \n",
       "61852      Photonet.com         Photonet          USA               0.00   \n",
       "61853      Photonet.com         Photonet          USA               0.00   \n",
       "61854      Photonet.com         Photonet          USA               0.00   \n",
       "\n",
       "       funding_rounds  ...  is_first_round  is_last_round  \\\n",
       "0                3.00  ...            0.00           1.00   \n",
       "1                3.00  ...            0.00           0.00   \n",
       "2                3.00  ...            1.00           0.00   \n",
       "3                0.00  ...             NaN            NaN   \n",
       "4                0.00  ...             NaN            NaN   \n",
       "...               ...  ...             ...            ...   \n",
       "61850            4.00  ...            1.00           0.00   \n",
       "61851            1.00  ...            1.00           1.00   \n",
       "61852            3.00  ...            0.00           1.00   \n",
       "61853            3.00  ...            0.00           0.00   \n",
       "61854            3.00  ...            1.00           0.00   \n",
       "\n",
       "       company_id_combined     year       id  acquiring_company_id  \\\n",
       "0                     1.00 2_005.00      NaN                   NaN   \n",
       "1                     1.00 2_007.00      NaN                   NaN   \n",
       "2                     1.00 2_008.00      NaN                   NaN   \n",
       "3                    10.00      NaN     1.00                 11.00   \n",
       "4                   100.00      NaN    20.00                377.00   \n",
       "...                    ...      ...      ...                   ...   \n",
       "61850             3_429.00 2_011.00      NaN                   NaN   \n",
       "61851             7_748.00 2_008.00      NaN                   NaN   \n",
       "61852            43_233.00 2_010.00 6_968.00                  5.00   \n",
       "61853            43_233.00 2_011.00 6_968.00                  5.00   \n",
       "61854            43_233.00 2_012.00 6_968.00                  5.00   \n",
       "\n",
       "       acquired_company_id       term_code     price_amount  acquired_at  \n",
       "0                      NaN             NaN              NaN          NaT  \n",
       "1                      NaN             NaN              NaN          NaT  \n",
       "2                      NaN             NaN              NaN          NaT  \n",
       "3                    10.00             NaN    20_000_000.00   2007-05-30  \n",
       "4                   100.00            cash             0.00   2005-05-29  \n",
       "...                    ...             ...              ...          ...  \n",
       "61850                  NaN             NaN              NaN          NaT  \n",
       "61851                  NaN             NaN              NaN          NaT  \n",
       "61852            43_233.00  cash_and_stock 1_010_470_000.00   2012-04-09  \n",
       "61853            43_233.00  cash_and_stock 1_010_470_000.00   2012-04-09  \n",
       "61854            43_233.00  cash_and_stock 1_010_470_000.00   2012-04-09  \n",
       "\n",
       "[61855 rows x 28 columns]"
      ]
     },
     "metadata": {},
     "output_type": "display_data"
    }
   ],
   "source": [
    "# Объединим данные с таблицей acquisition, чтобы дополнить данные информацией о сделках\n",
    "merged_data = filtered_data.merge(\n",
    "    acquisition,\n",
    "    left_on='company_id_combined', \n",
    "    right_on='acquired_company_id',  # Компании, которые были приобретены\n",
    "    how='left'\n",
    ")\n",
    "display(merged_data)"
   ]
  },
  {
   "cell_type": "code",
   "execution_count": 62,
   "metadata": {},
   "outputs": [
    {
     "name": "stdout",
     "output_type": "stream",
     "text": [
      "Количество уникальных компаний в результирующей таблице: 40747\n"
     ]
    }
   ],
   "source": [
    "# Проверяем количество уникальных компаний в результирующей таблице\n",
    "unique_companies_count = merged_data['company_id_combined'].nunique()\n",
    "print(f\"Количество уникальных компаний в результирующей таблице: {unique_companies_count}\")"
   ]
  },
  {
   "cell_type": "markdown",
   "metadata": {
    "id": "DFHINkV3rJg2"
   },
   "source": [
    "\n",
    "### 3.2. Анализ выбросов\n",
    "\n",
    "Заказчика интересует обычный для рассматриваемого периода размер средств, который предоставлялся компаниям.\n",
    "\n",
    "* По предобработанному столбцу `funding_total` оцените, какой размер общего финансирования для одной компании будет типичным, а какой — выбивающимся.\n",
    "\n",
    "* Аномальные значения установите графически, а типичные при помощи таблиц и формул.\n",
    "\n",
    "* В процессе расчёта значений обратите внимание, например, на показатели, возвращаемые методом `.describe()`, — объясните их. Применимы ли к таким данным обычные способы нахождения типичных значений?"
   ]
  },
  {
   "cell_type": "code",
   "execution_count": 63,
   "metadata": {
    "id": "8jm75fKXrJg2",
    "vscode": {
     "languageId": "plaintext"
    }
   },
   "outputs": [
    {
     "data": {
      "text/plain": [
       "count          61_855.00\n",
       "mean       21_134_481.57\n",
       "std        90_028_934.06\n",
       "min                 0.00\n",
       "25%            59_700.00\n",
       "50%         2_477_000.00\n",
       "75%        15_950_000.00\n",
       "max     5_700_000_000.00\n",
       "Name: funding_total, dtype: float64"
      ]
     },
     "metadata": {},
     "output_type": "display_data"
    },
    {
     "data": {
      "text/plain": [
       "0.00             13352\n",
       "1_000_000.00       766\n",
       "500_000.00         560\n",
       "2_000_000.00       525\n",
       "100_000.00         523\n",
       "10_000_000.00      476\n",
       "5_000_000.00       463\n",
       "3_000_000.00       419\n",
       "1_500_000.00       411\n",
       "50_000.00          383\n",
       "Name: funding_total, dtype: int64"
      ]
     },
     "metadata": {},
     "output_type": "display_data"
    },
    {
     "data": {
      "text/plain": [
       "30927   0.00\n",
       "26439   0.00\n",
       "26438   0.00\n",
       "26432   0.00\n",
       "26431   0.00\n",
       "26430   0.00\n",
       "26428   0.00\n",
       "26424   0.00\n",
       "26440   0.00\n",
       "58234   0.00\n",
       "Name: funding_total, dtype: float64"
      ]
     },
     "metadata": {},
     "output_type": "display_data"
    },
    {
     "data": {
      "text/plain": [
       "2293    5_700_000_000.00\n",
       "2294    5_700_000_000.00\n",
       "2295    5_700_000_000.00\n",
       "2296    5_700_000_000.00\n",
       "46526   3_985_050_000.00\n",
       "46527   3_985_050_000.00\n",
       "24964   2_600_000_000.00\n",
       "61813   2_425_700_000.00\n",
       "61812   2_425_700_000.00\n",
       "61814   2_425_700_000.00\n",
       "Name: funding_total, dtype: float64"
      ]
     },
     "metadata": {},
     "output_type": "display_data"
    }
   ],
   "source": [
    "# Посмотрим основные статистические показатели\n",
    "display(merged_data['funding_total'].describe())\n",
    "\n",
    "# Проверим уникальные значения\n",
    "display(merged_data['funding_total'].value_counts().head(10))  # Часто встречающиеся значения\n",
    "display(merged_data['funding_total'].sort_values().head(10))   # Минимальные значения\n",
    "display(merged_data['funding_total'].sort_values(ascending=False).head(10))  # Максимальные значения"
   ]
  },
  {
   "cell_type": "markdown",
   "metadata": {},
   "source": [
    "**Ключевые выводы:**\n",
    "1. Общие выводы:\n",
    "- Средний общий размер финансирования составляет около 21.13 млн долларов, однако стандартное отклонение очень велико, что указывает на сильную вариативность данных.\n",
    "- Медиана - 2.477 млн долларов, значительно меньше среднего, что говорит о наличии больших выбросов.\n",
    "- Минимум - 0 долларов, что нам говорит о том, что есть компании без финансирования.\n",
    "- Максимум - 5.7 млрд долларов, ааномально высокое значение, подтверждает наличие выбросов.\n",
    "\n",
    "2. Часто встречающиеся значения:\n",
    "- самое частое значение 0 долларов (13,352 записи)."
   ]
  },
  {
   "cell_type": "code",
   "execution_count": 64,
   "metadata": {},
   "outputs": [
    {
     "name": "stdout",
     "output_type": "stream",
     "text": [
      "Нижняя граница выбросов: -23775750.0\n",
      "Верхняя граница выбросов: 39785450.0\n",
      "Количество выбросов: 7922\n",
      "Количество типичных значений: 53933\n"
     ]
    }
   ],
   "source": [
    "# Вычисляем IQR и границы выбросов\n",
    "Q1 = merged_data['funding_total'].quantile(0.25)\n",
    "Q3 = merged_data['funding_total'].quantile(0.75)\n",
    "IQR = Q3 - Q1\n",
    "\n",
    "lower_bound = Q1 - 1.5 * IQR\n",
    "upper_bound = Q3 + 1.5 * IQR\n",
    "\n",
    "print(f\"Нижняя граница выбросов: {lower_bound}\")\n",
    "print(f\"Верхняя граница выбросов: {upper_bound}\")\n",
    "\n",
    "# Отфильтруем выбросы\n",
    "outliers = merged_data[(merged_data['funding_total'] < lower_bound) | (merged_data['funding_total'] > upper_bound)]\n",
    "typical = merged_data[(merged_data['funding_total'] >= lower_bound) & (merged_data['funding_total'] <= upper_bound)]\n",
    "\n",
    "print(f\"Количество выбросов: {outliers.shape[0]}\")\n",
    "print(f\"Количество типичных значений: {typical.shape[0]}\")"
   ]
  },
  {
   "cell_type": "markdown",
   "metadata": {},
   "source": [
    "**Мы выяснили следующую информацию:**\n",
    "\n",
    "1. Границы выбросов:\n",
    "- Нижняя граница: -23,775,750 долларов. Это указывает на то, что нижняя граница выбросов неадекватна для таких данных.\n",
    "- Верхняя граница: 39,785,450 долларов, что выглядит вполне разумным.\n",
    "\n",
    "2. Типичные значения:\n",
    "- Количество типичных значений: 53,933. Это компании с финансированием между 0 и ~39.8 млн долларов. Значительное большинство данных (~87%) находится в типичном диапазоне.\n",
    "\n",
    "3. Выбивающиеся значения:\n",
    "- Количество выбросов: 7,922, это около 13% от общего числа компаний.\n",
    "- Компании с отрицательным финансированием отсутствуют, что логично."
   ]
  },
  {
   "cell_type": "code",
   "execution_count": 65,
   "metadata": {},
   "outputs": [
    {
     "data": {
      "image/png": "[encoded data removed]",
      "text/plain": [
       "<Figure size 720x432 with 1 Axes>"
      ]
     },
     "metadata": {
      "needs_background": "light"
     },
     "output_type": "display_data"
    }
   ],
   "source": [
    "# Визуализируем данные\n",
    "plt.figure(figsize=(10, 6))\n",
    "sns.histplot(merged_data['funding_total'], bins=30, kde=True)\n",
    "plt.axvline(lower_bound, color='r', linestyle='--', label='Нижняя граница выбросов')\n",
    "plt.axvline(upper_bound, color='g', linestyle='--', label='Верхняя граница выбросов')\n",
    "plt.title('Распределение funding_total с выделением выбросов')\n",
    "plt.legend()\n",
    "plt.show()"
   ]
  },
  {
   "cell_type": "code",
   "execution_count": 66,
   "metadata": {},
   "outputs": [
    {
     "data": {
      "image/png": "[encoded data removed]",
      "text/plain": [
       "<Figure size 720x432 with 1 Axes>"
      ]
     },
     "metadata": {
      "needs_background": "light"
     },
     "output_type": "display_data"
    }
   ],
   "source": [
    "# Boxplot\n",
    "plt.figure(figsize=(10, 6))\n",
    "sns.boxplot(x=merged_data['funding_total'])\n",
    "plt.title('Ящик с усами для funding_total')\n",
    "plt.show()"
   ]
  },
  {
   "cell_type": "markdown",
   "metadata": {},
   "source": [
    "**На основе полученных графиков можно сделать следующие выводы:**\n",
    "\n",
    "1. Гистограмма с выделением выбросов:\n",
    "\n",
    "Распределение данных:\n",
    "- Данные по столбцу funding_total сильно смещены влево.\n",
    "- Большинство компаний имеют низкие значения общего финансирования (ближе к 0), что характерно для малого и среднего бизнеса.\n",
    "Выбросы:\n",
    "- Значения, значительно превышающие верхнюю границу выбросов (~39.8 млн долларов), представлены как отдельные пики в правой части графика. Эти выбросы соответствуют крупным инвестициям и, вероятно, относятся к стартапам, которые привлекли значительное финансирование.\n",
    "\n",
    "2. Boxplot (Ящик с усами):\n",
    "\n",
    "Выбросы:\n",
    "- Верхние выбросы явно выделяются на графике и представляют компании с финансированием значительно выше типичного диапазона.\n",
    "- Верхние значения финансирования (~3-5 млрд долларов) подтверждают наличие сильных выбросов.\n",
    "- Типичные значения: большинство данных расположено в пределах ящика, что соответствует типичному диапазону финансирования (между 25-м и 75-м процентилями).\n",
    "\n",
    "3. Границы выбросов:\n",
    "- Нижняя граница (отрицательное значение) не отображается, так как значения финансирования не могут быть отрицательными. Фактически нижняя граница равна 0, что разумно.\n",
    "- Верхняя граница (~39.8 млн долларов) хорошо видна, и все значения выше этой границы считаются выбросами.\n",
    "\n",
    "4. Общие выводы:\n",
    "- Большинство компаний имеют низкое финансирование: это подтверждается концентрацией значений около 0 на гистограмме.\n",
    "- Выбросы составляют значительную часть данных: около 13% компаний (7,922 записи) имеют финансирование выше верхней границы выбросов (~39.8 млн долларов)."
   ]
  },
  {
   "cell_type": "markdown",
   "metadata": {},
   "source": [
    "**Итоговый вывод:**\n",
    "\n",
    "Типичное финансирование для компаний варьируется от 0 до ~39.8 млн долларов, в то время как компании с финансированием выше этой границы относятся к выбросам, что подтверждено графиками и статистическими исследованиями."
   ]
  },
  {
   "cell_type": "markdown",
   "metadata": {
    "id": "JqkRAQrIrJg2"
   },
   "source": [
    "\n",
    "### 3.3. Куплены забесплатно?\n",
    "\n",
    "* Исследуйте компании, которые были проданы за ноль или за один доллар, и при этом известно, что у них был ненулевой общий объём финансирования.\n",
    "\n",
    "Кроме этого, заказчик скоро получит доступ к базе данных SQLite, которая содержит данные по ценам покупки стартапов и размерам предварительного финансирования.\n",
    "\n",
    "Известно, что данные в базе похожи на имеющиеся, однако в ней отсутствуют как оконные функции, так и встроенные функции для расчёта квартилей и процентилей. Эту работу придётся делать вручную. Для облегчения расчётов заказчик хочет определить, каким процентилям соответствуют выбросы.\n",
    "\n",
    "* Рассчитайте аналитически верхнюю и нижнюю границу выбросов для столбца `funding_total` и укажите, каким процентилям границы соответствуют. Учитывая озвученные выше предпосылки и собственные соображения, сделайте выводы о корректности планируемой заказчиком замены нижней и верхней границы выбросов на значения, рассчитанные по процентилям."
   ]
  },
  {
   "cell_type": "code",
   "execution_count": 67,
   "metadata": {
    "id": "wJHXCBwwrJg2",
    "vscode": {
     "languageId": "plaintext"
    }
   },
   "outputs": [
    {
     "data": {
      "text/html": [
       "<div>\n",
       "<style scoped>\n",
       "    .dataframe tbody tr th:only-of-type {\n",
       "        vertical-align: middle;\n",
       "    }\n",
       "\n",
       "    .dataframe tbody tr th {\n",
       "        vertical-align: top;\n",
       "    }\n",
       "\n",
       "    .dataframe thead th {\n",
       "        text-align: right;\n",
       "    }\n",
       "</style>\n",
       "<table border=\"1\" class=\"dataframe\">\n",
       "  <thead>\n",
       "    <tr style=\"text-align: right;\">\n",
       "      <th></th>\n",
       "      <th>name</th>\n",
       "      <th>category_code</th>\n",
       "      <th>status</th>\n",
       "      <th>founded_at</th>\n",
       "      <th>closed_at</th>\n",
       "      <th>domain</th>\n",
       "      <th>network_username</th>\n",
       "      <th>country_code</th>\n",
       "      <th>investment_rounds</th>\n",
       "      <th>funding_rounds</th>\n",
       "      <th>...</th>\n",
       "      <th>is_first_round</th>\n",
       "      <th>is_last_round</th>\n",
       "      <th>company_id_combined</th>\n",
       "      <th>year</th>\n",
       "      <th>id</th>\n",
       "      <th>acquiring_company_id</th>\n",
       "      <th>acquired_company_id</th>\n",
       "      <th>term_code</th>\n",
       "      <th>price_amount</th>\n",
       "      <th>acquired_at</th>\n",
       "    </tr>\n",
       "  </thead>\n",
       "  <tbody>\n",
       "    <tr>\n",
       "      <th>38</th>\n",
       "      <td>Jumptap</td>\n",
       "      <td>mobile</td>\n",
       "      <td>acquired</td>\n",
       "      <td>2005-01-01</td>\n",
       "      <td>NaT</td>\n",
       "      <td>jumptap.com</td>\n",
       "      <td>jumptap</td>\n",
       "      <td>USA</td>\n",
       "      <td>0.00</td>\n",
       "      <td>7.00</td>\n",
       "      <td>...</td>\n",
       "      <td>0.00</td>\n",
       "      <td>0.00</td>\n",
       "      <td>10_054.00</td>\n",
       "      <td>2_008.00</td>\n",
       "      <td>9_288.00</td>\n",
       "      <td>23_283.00</td>\n",
       "      <td>10_054.00</td>\n",
       "      <td>cash_and_stock</td>\n",
       "      <td>0.00</td>\n",
       "      <td>2013-08-13</td>\n",
       "    </tr>\n",
       "    <tr>\n",
       "      <th>39</th>\n",
       "      <td>Jumptap</td>\n",
       "      <td>mobile</td>\n",
       "      <td>acquired</td>\n",
       "      <td>2005-01-01</td>\n",
       "      <td>NaT</td>\n",
       "      <td>jumptap.com</td>\n",
       "      <td>jumptap</td>\n",
       "      <td>USA</td>\n",
       "      <td>0.00</td>\n",
       "      <td>7.00</td>\n",
       "      <td>...</td>\n",
       "      <td>0.00</td>\n",
       "      <td>1.00</td>\n",
       "      <td>10_054.00</td>\n",
       "      <td>2_005.00</td>\n",
       "      <td>9_288.00</td>\n",
       "      <td>23_283.00</td>\n",
       "      <td>10_054.00</td>\n",
       "      <td>cash_and_stock</td>\n",
       "      <td>0.00</td>\n",
       "      <td>2013-08-13</td>\n",
       "    </tr>\n",
       "    <tr>\n",
       "      <th>40</th>\n",
       "      <td>Jumptap</td>\n",
       "      <td>mobile</td>\n",
       "      <td>acquired</td>\n",
       "      <td>2005-01-01</td>\n",
       "      <td>NaT</td>\n",
       "      <td>jumptap.com</td>\n",
       "      <td>jumptap</td>\n",
       "      <td>USA</td>\n",
       "      <td>0.00</td>\n",
       "      <td>7.00</td>\n",
       "      <td>...</td>\n",
       "      <td>0.00</td>\n",
       "      <td>0.00</td>\n",
       "      <td>10_054.00</td>\n",
       "      <td>2_005.00</td>\n",
       "      <td>9_288.00</td>\n",
       "      <td>23_283.00</td>\n",
       "      <td>10_054.00</td>\n",
       "      <td>cash_and_stock</td>\n",
       "      <td>0.00</td>\n",
       "      <td>2013-08-13</td>\n",
       "    </tr>\n",
       "    <tr>\n",
       "      <th>41</th>\n",
       "      <td>Jumptap</td>\n",
       "      <td>mobile</td>\n",
       "      <td>acquired</td>\n",
       "      <td>2005-01-01</td>\n",
       "      <td>NaT</td>\n",
       "      <td>jumptap.com</td>\n",
       "      <td>jumptap</td>\n",
       "      <td>USA</td>\n",
       "      <td>0.00</td>\n",
       "      <td>7.00</td>\n",
       "      <td>...</td>\n",
       "      <td>0.00</td>\n",
       "      <td>0.00</td>\n",
       "      <td>10_054.00</td>\n",
       "      <td>2_006.00</td>\n",
       "      <td>9_288.00</td>\n",
       "      <td>23_283.00</td>\n",
       "      <td>10_054.00</td>\n",
       "      <td>cash_and_stock</td>\n",
       "      <td>0.00</td>\n",
       "      <td>2013-08-13</td>\n",
       "    </tr>\n",
       "    <tr>\n",
       "      <th>42</th>\n",
       "      <td>Jumptap</td>\n",
       "      <td>mobile</td>\n",
       "      <td>acquired</td>\n",
       "      <td>2005-01-01</td>\n",
       "      <td>NaT</td>\n",
       "      <td>jumptap.com</td>\n",
       "      <td>jumptap</td>\n",
       "      <td>USA</td>\n",
       "      <td>0.00</td>\n",
       "      <td>7.00</td>\n",
       "      <td>...</td>\n",
       "      <td>0.00</td>\n",
       "      <td>0.00</td>\n",
       "      <td>10_054.00</td>\n",
       "      <td>2_011.00</td>\n",
       "      <td>9_288.00</td>\n",
       "      <td>23_283.00</td>\n",
       "      <td>10_054.00</td>\n",
       "      <td>cash_and_stock</td>\n",
       "      <td>0.00</td>\n",
       "      <td>2013-08-13</td>\n",
       "    </tr>\n",
       "    <tr>\n",
       "      <th>...</th>\n",
       "      <td>...</td>\n",
       "      <td>...</td>\n",
       "      <td>...</td>\n",
       "      <td>...</td>\n",
       "      <td>...</td>\n",
       "      <td>...</td>\n",
       "      <td>...</td>\n",
       "      <td>...</td>\n",
       "      <td>...</td>\n",
       "      <td>...</td>\n",
       "      <td>...</td>\n",
       "      <td>...</td>\n",
       "      <td>...</td>\n",
       "      <td>...</td>\n",
       "      <td>...</td>\n",
       "      <td>...</td>\n",
       "      <td>...</td>\n",
       "      <td>...</td>\n",
       "      <td>...</td>\n",
       "      <td>...</td>\n",
       "      <td>...</td>\n",
       "    </tr>\n",
       "    <tr>\n",
       "      <th>61765</th>\n",
       "      <td>UBmatrix</td>\n",
       "      <td>software</td>\n",
       "      <td>acquired</td>\n",
       "      <td>2005-01-01</td>\n",
       "      <td>NaT</td>\n",
       "      <td>ubmatrix.com</td>\n",
       "      <td>NaN</td>\n",
       "      <td>USA</td>\n",
       "      <td>0.00</td>\n",
       "      <td>2.00</td>\n",
       "      <td>...</td>\n",
       "      <td>0.00</td>\n",
       "      <td>1.00</td>\n",
       "      <td>9_905.00</td>\n",
       "      <td>2_005.00</td>\n",
       "      <td>3_381.00</td>\n",
       "      <td>41_119.00</td>\n",
       "      <td>9_905.00</td>\n",
       "      <td>NaN</td>\n",
       "      <td>0.00</td>\n",
       "      <td>2010-06-24</td>\n",
       "    </tr>\n",
       "    <tr>\n",
       "      <th>61766</th>\n",
       "      <td>UBmatrix</td>\n",
       "      <td>software</td>\n",
       "      <td>acquired</td>\n",
       "      <td>2005-01-01</td>\n",
       "      <td>NaT</td>\n",
       "      <td>ubmatrix.com</td>\n",
       "      <td>NaN</td>\n",
       "      <td>USA</td>\n",
       "      <td>0.00</td>\n",
       "      <td>2.00</td>\n",
       "      <td>...</td>\n",
       "      <td>1.00</td>\n",
       "      <td>0.00</td>\n",
       "      <td>9_905.00</td>\n",
       "      <td>2_010.00</td>\n",
       "      <td>3_381.00</td>\n",
       "      <td>41_119.00</td>\n",
       "      <td>9_905.00</td>\n",
       "      <td>NaN</td>\n",
       "      <td>0.00</td>\n",
       "      <td>2010-06-24</td>\n",
       "    </tr>\n",
       "    <tr>\n",
       "      <th>61770</th>\n",
       "      <td>wunderloop</td>\n",
       "      <td>advertising</td>\n",
       "      <td>acquired</td>\n",
       "      <td>1999-01-01</td>\n",
       "      <td>NaT</td>\n",
       "      <td>wunderloop.com</td>\n",
       "      <td>NaN</td>\n",
       "      <td>USA</td>\n",
       "      <td>0.00</td>\n",
       "      <td>1.00</td>\n",
       "      <td>...</td>\n",
       "      <td>1.00</td>\n",
       "      <td>1.00</td>\n",
       "      <td>992.00</td>\n",
       "      <td>2_007.00</td>\n",
       "      <td>9_916.00</td>\n",
       "      <td>19_182.00</td>\n",
       "      <td>992.00</td>\n",
       "      <td>NaN</td>\n",
       "      <td>0.00</td>\n",
       "      <td>2010-07-02</td>\n",
       "    </tr>\n",
       "    <tr>\n",
       "      <th>61790</th>\n",
       "      <td>Zimbra</td>\n",
       "      <td>enterprise</td>\n",
       "      <td>acquired</td>\n",
       "      <td>2003-01-01</td>\n",
       "      <td>NaT</td>\n",
       "      <td>zimbra.com</td>\n",
       "      <td>zimbra</td>\n",
       "      <td>USA</td>\n",
       "      <td>0.00</td>\n",
       "      <td>1.00</td>\n",
       "      <td>...</td>\n",
       "      <td>1.00</td>\n",
       "      <td>1.00</td>\n",
       "      <td>997.00</td>\n",
       "      <td>2_006.00</td>\n",
       "      <td>9_121.00</td>\n",
       "      <td>415.00</td>\n",
       "      <td>997.00</td>\n",
       "      <td>NaN</td>\n",
       "      <td>0.00</td>\n",
       "      <td>2013-07-15</td>\n",
       "    </tr>\n",
       "    <tr>\n",
       "      <th>61832</th>\n",
       "      <td>Yoke</td>\n",
       "      <td>web</td>\n",
       "      <td>acquired</td>\n",
       "      <td>NaT</td>\n",
       "      <td>NaT</td>\n",
       "      <td>apps.socialnet.com::yokeapp</td>\n",
       "      <td>NaN</td>\n",
       "      <td>NaN</td>\n",
       "      <td>0.00</td>\n",
       "      <td>1.00</td>\n",
       "      <td>...</td>\n",
       "      <td>1.00</td>\n",
       "      <td>1.00</td>\n",
       "      <td>153_326.00</td>\n",
       "      <td>2_011.00</td>\n",
       "      <td>7_948.00</td>\n",
       "      <td>2_352.00</td>\n",
       "      <td>153_326.00</td>\n",
       "      <td>NaN</td>\n",
       "      <td>0.00</td>\n",
       "      <td>2012-09-11</td>\n",
       "    </tr>\n",
       "  </tbody>\n",
       "</table>\n",
       "<p>3059 rows × 28 columns</p>\n",
       "</div>"
      ],
      "text/plain": [
       "             name category_code    status founded_at closed_at  \\\n",
       "38        Jumptap        mobile  acquired 2005-01-01       NaT   \n",
       "39        Jumptap        mobile  acquired 2005-01-01       NaT   \n",
       "40        Jumptap        mobile  acquired 2005-01-01       NaT   \n",
       "41        Jumptap        mobile  acquired 2005-01-01       NaT   \n",
       "42        Jumptap        mobile  acquired 2005-01-01       NaT   \n",
       "...           ...           ...       ...        ...       ...   \n",
       "61765    UBmatrix      software  acquired 2005-01-01       NaT   \n",
       "61766    UBmatrix      software  acquired 2005-01-01       NaT   \n",
       "61770  wunderloop   advertising  acquired 1999-01-01       NaT   \n",
       "61790      Zimbra    enterprise  acquired 2003-01-01       NaT   \n",
       "61832        Yoke           web  acquired        NaT       NaT   \n",
       "\n",
       "                            domain network_username country_code  \\\n",
       "38                     jumptap.com          jumptap          USA   \n",
       "39                     jumptap.com          jumptap          USA   \n",
       "40                     jumptap.com          jumptap          USA   \n",
       "41                     jumptap.com          jumptap          USA   \n",
       "42                     jumptap.com          jumptap          USA   \n",
       "...                            ...              ...          ...   \n",
       "61765                 ubmatrix.com              NaN          USA   \n",
       "61766                 ubmatrix.com              NaN          USA   \n",
       "61770               wunderloop.com              NaN          USA   \n",
       "61790                   zimbra.com           zimbra          USA   \n",
       "61832  apps.socialnet.com::yokeapp              NaN          NaN   \n",
       "\n",
       "       investment_rounds  funding_rounds  ...  is_first_round  is_last_round  \\\n",
       "38                  0.00            7.00  ...            0.00           0.00   \n",
       "39                  0.00            7.00  ...            0.00           1.00   \n",
       "40                  0.00            7.00  ...            0.00           0.00   \n",
       "41                  0.00            7.00  ...            0.00           0.00   \n",
       "42                  0.00            7.00  ...            0.00           0.00   \n",
       "...                  ...             ...  ...             ...            ...   \n",
       "61765               0.00            2.00  ...            0.00           1.00   \n",
       "61766               0.00            2.00  ...            1.00           0.00   \n",
       "61770               0.00            1.00  ...            1.00           1.00   \n",
       "61790               0.00            1.00  ...            1.00           1.00   \n",
       "61832               0.00            1.00  ...            1.00           1.00   \n",
       "\n",
       "       company_id_combined     year       id  acquiring_company_id  \\\n",
       "38               10_054.00 2_008.00 9_288.00             23_283.00   \n",
       "39               10_054.00 2_005.00 9_288.00             23_283.00   \n",
       "40               10_054.00 2_005.00 9_288.00             23_283.00   \n",
       "41               10_054.00 2_006.00 9_288.00             23_283.00   \n",
       "42               10_054.00 2_011.00 9_288.00             23_283.00   \n",
       "...                    ...      ...      ...                   ...   \n",
       "61765             9_905.00 2_005.00 3_381.00             41_119.00   \n",
       "61766             9_905.00 2_010.00 3_381.00             41_119.00   \n",
       "61770               992.00 2_007.00 9_916.00             19_182.00   \n",
       "61790               997.00 2_006.00 9_121.00                415.00   \n",
       "61832           153_326.00 2_011.00 7_948.00              2_352.00   \n",
       "\n",
       "       acquired_company_id       term_code  price_amount  acquired_at  \n",
       "38               10_054.00  cash_and_stock          0.00   2013-08-13  \n",
       "39               10_054.00  cash_and_stock          0.00   2013-08-13  \n",
       "40               10_054.00  cash_and_stock          0.00   2013-08-13  \n",
       "41               10_054.00  cash_and_stock          0.00   2013-08-13  \n",
       "42               10_054.00  cash_and_stock          0.00   2013-08-13  \n",
       "...                    ...             ...           ...          ...  \n",
       "61765             9_905.00             NaN          0.00   2010-06-24  \n",
       "61766             9_905.00             NaN          0.00   2010-06-24  \n",
       "61770               992.00             NaN          0.00   2010-07-02  \n",
       "61790               997.00             NaN          0.00   2013-07-15  \n",
       "61832           153_326.00             NaN          0.00   2012-09-11  \n",
       "\n",
       "[3059 rows x 28 columns]"
      ]
     },
     "metadata": {},
     "output_type": "display_data"
    }
   ],
   "source": [
    "# Фильтруем компании с ценой продажи 0 или 1 доллар и ненулевым финансированием\n",
    "zero_or_one_dollar_sales = merged_data[\n",
    "    (merged_data['price_amount'].isin([0, 1])) & \n",
    "    (merged_data['funding_total'] > 0)\n",
    "]\n",
    "display(zero_or_one_dollar_sales)"
   ]
  },
  {
   "cell_type": "code",
   "execution_count": 68,
   "metadata": {},
   "outputs": [
    {
     "name": "stdout",
     "output_type": "stream",
     "text": [
      "Q1 (25-й процентиль): 59700.0\n",
      "Q3 (75-й процентиль): 15950000.0\n",
      "IQR: 15890300.0\n",
      "Нижняя граница выбросов: 0\n",
      "Верхняя граница выбросов: 39785450.0\n"
     ]
    }
   ],
   "source": [
    "# Расчитаем квартили\n",
    "Q1 = merged_data['funding_total'].quantile(0.25)\n",
    "Q3 = merged_data['funding_total'].quantile(0.75)\n",
    "IQR = Q3 - Q1\n",
    "\n",
    "lower_bound = max(0, Q1 - 1.5 * IQR)  # Нижняя граница не может быть меньше нуля\n",
    "upper_bound = Q3 + 1.5 * IQR         \n",
    "\n",
    "print(f\"Q1 (25-й процентиль): {Q1}\")\n",
    "print(f\"Q3 (75-й процентиль): {Q3}\")\n",
    "print(f\"IQR: {IQR}\")\n",
    "print(f\"Нижняя граница выбросов: {lower_bound}\")\n",
    "print(f\"Верхняя граница выбросов: {upper_bound}\")"
   ]
  },
  {
   "cell_type": "code",
   "execution_count": 69,
   "metadata": {},
   "outputs": [
    {
     "name": "stdout",
     "output_type": "stream",
     "text": [
      "Процентиль нижней границы: 0.0%\n",
      "Процентиль верхней границы: 87.1926279201358%\n"
     ]
    }
   ],
   "source": [
    "# Рассчитаем процентиль для нижней и верхней границ\n",
    "lower_percentile = (merged_data['funding_total'] < lower_bound).mean() * 100\n",
    "upper_percentile = (merged_data['funding_total'] <= upper_bound).mean() * 100\n",
    "\n",
    "print(f\"Процентиль нижней границы: {lower_percentile}%\")\n",
    "print(f\"Процентиль верхней границы: {upper_percentile}%\")"
   ]
  },
  {
   "cell_type": "markdown",
   "metadata": {},
   "source": [
    "**На основе полученных данных можно сделать следующие выводы:**\n",
    "\n",
    "1. Квартильные значения и межквартильный размах (IQR):\n",
    "- Q1 (25-й процентиль): 59,700 долларов, это значение, ниже которого находится 25% компаний\n",
    "- Q3 (75-й процентиль): 15,950,000 долларов, это значение, выше которого находится 25% компаний.\n",
    "- IQR (межквартильный размах): 15,890,300 долларов. Разница между Q3 и Q1 показывает диапазон \"типичных\" значений.\n",
    "\n",
    "2. Границы выбросов:\n",
    "- Нижняя граница выбросов - 0 долларов. Значение скорректировано до 0, так как финансирование не может быть отрицательным.\n",
    "- Верхняя граница выбросов - 39,785,450 долларов. Компании с финансированием выше этой суммы считаются выбросами.\n",
    "\n",
    "3. Процентильные значения границ:\n",
    "- Нижняя граница соответствует 0-му процентилю, все значения финансирования выше 0 уже попадают в анализ, поэтому нижняя граница выбросов корректна.\n",
    "- Верхняя граница соответствует 87.2%-му процентилю, значит, около 12.8% компаний имеют финансирование выше этой границы и считаются выбросами.\n",
    "\n",
    "4. Выводы о границах выбросов и их корректности:\n",
    "- Нижняя граница (0): корректна, так как минимальное значение финансирования не может быть отрицательным.\n",
    "- Верхняя граница (~87-й процентиль): граница выбросов захватывает верхние 12.8% компаний, что разумно. Эти компании явно отличаются от остальных по объёму финансирования.\n",
    "\n",
    "**Итоговые выводы:**\n",
    "\n",
    "Типичный диапазон финансирования для компаний - от 59,700 до 15,950,000 долларов. \n",
    "Выбросы начинаются с финансирования выше 39,785,450 долларов."
   ]
  },
  {
   "cell_type": "markdown",
   "metadata": {
    "id": "mEiWpROjrJg2"
   },
   "source": [
    "\n",
    "### 3.4. Цены стартапов по категориям\n",
    "\n",
    "Категории стартапов с наибольшими ценами и значительным разбросом цен могут быть наиболее привлекательными для крупных инвесторов, которые готовы к высоким рискам ради потенциально больших доходов. Среди категорий стартапов выделите категории стартапов, характеризующиеся:\n",
    "\n",
    "* наибольшими ценами;\n",
    "* и наибольшим разбросом цен за стартап.\n",
    "\n",
    "Объясните, почему решили составить топ именно из такого числа категорий и почему рассчитывали именно так."
   ]
  },
  {
   "cell_type": "code",
   "execution_count": 70,
   "metadata": {
    "id": "jQ09dYUWrJg2",
    "vscode": {
     "languageId": "plaintext"
    }
   },
   "outputs": [
    {
     "data": {
      "text/html": [
       "<div>\n",
       "<style scoped>\n",
       "    .dataframe tbody tr th:only-of-type {\n",
       "        vertical-align: middle;\n",
       "    }\n",
       "\n",
       "    .dataframe tbody tr th {\n",
       "        vertical-align: top;\n",
       "    }\n",
       "\n",
       "    .dataframe thead th {\n",
       "        text-align: right;\n",
       "    }\n",
       "</style>\n",
       "<table border=\"1\" class=\"dataframe\">\n",
       "  <thead>\n",
       "    <tr style=\"text-align: right;\">\n",
       "      <th></th>\n",
       "      <th>category_code</th>\n",
       "      <th>mean_price</th>\n",
       "      <th>std_price</th>\n",
       "      <th>min_price</th>\n",
       "      <th>max_price</th>\n",
       "      <th>startup_count</th>\n",
       "    </tr>\n",
       "  </thead>\n",
       "  <tbody>\n",
       "    <tr>\n",
       "      <th>9</th>\n",
       "      <td>enterprise</td>\n",
       "      <td>4_321_448_000.00</td>\n",
       "      <td>104_163_452_703.60</td>\n",
       "      <td>0.00</td>\n",
       "      <td>2_600_000_000_000.00</td>\n",
       "      <td>623</td>\n",
       "    </tr>\n",
       "    <tr>\n",
       "      <th>2</th>\n",
       "      <td>automotive</td>\n",
       "      <td>1_273_833_333.33</td>\n",
       "      <td>2_147_833_365.67</td>\n",
       "      <td>0.00</td>\n",
       "      <td>5_200_000_000.00</td>\n",
       "      <td>6</td>\n",
       "    </tr>\n",
       "    <tr>\n",
       "      <th>32</th>\n",
       "      <td>real_estate</td>\n",
       "      <td>887_600_000.00</td>\n",
       "      <td>2_129_788_210.65</td>\n",
       "      <td>0.00</td>\n",
       "      <td>6_850_000_000.00</td>\n",
       "      <td>10</td>\n",
       "    </tr>\n",
       "    <tr>\n",
       "      <th>24</th>\n",
       "      <td>nanotech</td>\n",
       "      <td>584_000_000.00</td>\n",
       "      <td>NaN</td>\n",
       "      <td>584_000_000.00</td>\n",
       "      <td>584_000_000.00</td>\n",
       "      <td>1</td>\n",
       "    </tr>\n",
       "    <tr>\n",
       "      <th>19</th>\n",
       "      <td>manufacturing</td>\n",
       "      <td>551_738_721.71</td>\n",
       "      <td>947_980_006.15</td>\n",
       "      <td>0.00</td>\n",
       "      <td>4_050_000_000.00</td>\n",
       "      <td>31</td>\n",
       "    </tr>\n",
       "    <tr>\n",
       "      <th>31</th>\n",
       "      <td>public_relations</td>\n",
       "      <td>549_326_700.00</td>\n",
       "      <td>3_802_535_900.24</td>\n",
       "      <td>0.00</td>\n",
       "      <td>39_000_000_000.00</td>\n",
       "      <td>250</td>\n",
       "    </tr>\n",
       "    <tr>\n",
       "      <th>3</th>\n",
       "      <td>biotech</td>\n",
       "      <td>370_841_772.36</td>\n",
       "      <td>1_336_462_342.85</td>\n",
       "      <td>0.00</td>\n",
       "      <td>20_000_000_000.00</td>\n",
       "      <td>615</td>\n",
       "    </tr>\n",
       "    <tr>\n",
       "      <th>11</th>\n",
       "      <td>finance</td>\n",
       "      <td>294_108_333.33</td>\n",
       "      <td>700_186_990.28</td>\n",
       "      <td>0.00</td>\n",
       "      <td>4_400_000_000.00</td>\n",
       "      <td>66</td>\n",
       "    </tr>\n",
       "    <tr>\n",
       "      <th>39</th>\n",
       "      <td>transportation</td>\n",
       "      <td>273_076_923.08</td>\n",
       "      <td>475_559_050.23</td>\n",
       "      <td>0.00</td>\n",
       "      <td>1_100_000_000.00</td>\n",
       "      <td>13</td>\n",
       "    </tr>\n",
       "    <tr>\n",
       "      <th>15</th>\n",
       "      <td>health</td>\n",
       "      <td>257_965_909.09</td>\n",
       "      <td>987_582_038.97</td>\n",
       "      <td>0.00</td>\n",
       "      <td>5_400_000_000.00</td>\n",
       "      <td>44</td>\n",
       "    </tr>\n",
       "  </tbody>\n",
       "</table>\n",
       "</div>"
      ],
      "text/plain": [
       "       category_code       mean_price          std_price      min_price  \\\n",
       "9         enterprise 4_321_448_000.00 104_163_452_703.60           0.00   \n",
       "2         automotive 1_273_833_333.33   2_147_833_365.67           0.00   \n",
       "32       real_estate   887_600_000.00   2_129_788_210.65           0.00   \n",
       "24          nanotech   584_000_000.00                NaN 584_000_000.00   \n",
       "19     manufacturing   551_738_721.71     947_980_006.15           0.00   \n",
       "31  public_relations   549_326_700.00   3_802_535_900.24           0.00   \n",
       "3            biotech   370_841_772.36   1_336_462_342.85           0.00   \n",
       "11           finance   294_108_333.33     700_186_990.28           0.00   \n",
       "39    transportation   273_076_923.08     475_559_050.23           0.00   \n",
       "15            health   257_965_909.09     987_582_038.97           0.00   \n",
       "\n",
       "              max_price  startup_count  \n",
       "9  2_600_000_000_000.00            623  \n",
       "2      5_200_000_000.00              6  \n",
       "32     6_850_000_000.00             10  \n",
       "24       584_000_000.00              1  \n",
       "19     4_050_000_000.00             31  \n",
       "31    39_000_000_000.00            250  \n",
       "3     20_000_000_000.00            615  \n",
       "11     4_400_000_000.00             66  \n",
       "39     1_100_000_000.00             13  \n",
       "15     5_400_000_000.00             44  "
      ]
     },
     "metadata": {},
     "output_type": "display_data"
    },
    {
     "data": {
      "text/html": [
       "<div>\n",
       "<style scoped>\n",
       "    .dataframe tbody tr th:only-of-type {\n",
       "        vertical-align: middle;\n",
       "    }\n",
       "\n",
       "    .dataframe tbody tr th {\n",
       "        vertical-align: top;\n",
       "    }\n",
       "\n",
       "    .dataframe thead th {\n",
       "        text-align: right;\n",
       "    }\n",
       "</style>\n",
       "<table border=\"1\" class=\"dataframe\">\n",
       "  <thead>\n",
       "    <tr style=\"text-align: right;\">\n",
       "      <th></th>\n",
       "      <th>category_code</th>\n",
       "      <th>mean_price</th>\n",
       "      <th>std_price</th>\n",
       "      <th>min_price</th>\n",
       "      <th>max_price</th>\n",
       "      <th>startup_count</th>\n",
       "    </tr>\n",
       "  </thead>\n",
       "  <tbody>\n",
       "    <tr>\n",
       "      <th>9</th>\n",
       "      <td>enterprise</td>\n",
       "      <td>4_321_448_000.00</td>\n",
       "      <td>104_163_452_703.60</td>\n",
       "      <td>0.00</td>\n",
       "      <td>2_600_000_000_000.00</td>\n",
       "      <td>623</td>\n",
       "    </tr>\n",
       "    <tr>\n",
       "      <th>31</th>\n",
       "      <td>public_relations</td>\n",
       "      <td>549_326_700.00</td>\n",
       "      <td>3_802_535_900.24</td>\n",
       "      <td>0.00</td>\n",
       "      <td>39_000_000_000.00</td>\n",
       "      <td>250</td>\n",
       "    </tr>\n",
       "    <tr>\n",
       "      <th>2</th>\n",
       "      <td>automotive</td>\n",
       "      <td>1_273_833_333.33</td>\n",
       "      <td>2_147_833_365.67</td>\n",
       "      <td>0.00</td>\n",
       "      <td>5_200_000_000.00</td>\n",
       "      <td>6</td>\n",
       "    </tr>\n",
       "    <tr>\n",
       "      <th>32</th>\n",
       "      <td>real_estate</td>\n",
       "      <td>887_600_000.00</td>\n",
       "      <td>2_129_788_210.65</td>\n",
       "      <td>0.00</td>\n",
       "      <td>6_850_000_000.00</td>\n",
       "      <td>10</td>\n",
       "    </tr>\n",
       "    <tr>\n",
       "      <th>3</th>\n",
       "      <td>biotech</td>\n",
       "      <td>370_841_772.36</td>\n",
       "      <td>1_336_462_342.85</td>\n",
       "      <td>0.00</td>\n",
       "      <td>20_000_000_000.00</td>\n",
       "      <td>615</td>\n",
       "    </tr>\n",
       "    <tr>\n",
       "      <th>28</th>\n",
       "      <td>other</td>\n",
       "      <td>135_280_530.21</td>\n",
       "      <td>1_058_850_372.21</td>\n",
       "      <td>0.00</td>\n",
       "      <td>18_400_000_000.00</td>\n",
       "      <td>331</td>\n",
       "    </tr>\n",
       "    <tr>\n",
       "      <th>15</th>\n",
       "      <td>health</td>\n",
       "      <td>257_965_909.09</td>\n",
       "      <td>987_582_038.97</td>\n",
       "      <td>0.00</td>\n",
       "      <td>5_400_000_000.00</td>\n",
       "      <td>44</td>\n",
       "    </tr>\n",
       "    <tr>\n",
       "      <th>19</th>\n",
       "      <td>manufacturing</td>\n",
       "      <td>551_738_721.71</td>\n",
       "      <td>947_980_006.15</td>\n",
       "      <td>0.00</td>\n",
       "      <td>4_050_000_000.00</td>\n",
       "      <td>31</td>\n",
       "    </tr>\n",
       "    <tr>\n",
       "      <th>37</th>\n",
       "      <td>software</td>\n",
       "      <td>126_691_904.66</td>\n",
       "      <td>729_174_792.66</td>\n",
       "      <td>0.00</td>\n",
       "      <td>10_200_000_000.00</td>\n",
       "      <td>1838</td>\n",
       "    </tr>\n",
       "    <tr>\n",
       "      <th>11</th>\n",
       "      <td>finance</td>\n",
       "      <td>294_108_333.33</td>\n",
       "      <td>700_186_990.28</td>\n",
       "      <td>0.00</td>\n",
       "      <td>4_400_000_000.00</td>\n",
       "      <td>66</td>\n",
       "    </tr>\n",
       "  </tbody>\n",
       "</table>\n",
       "</div>"
      ],
      "text/plain": [
       "       category_code       mean_price          std_price  min_price  \\\n",
       "9         enterprise 4_321_448_000.00 104_163_452_703.60       0.00   \n",
       "31  public_relations   549_326_700.00   3_802_535_900.24       0.00   \n",
       "2         automotive 1_273_833_333.33   2_147_833_365.67       0.00   \n",
       "32       real_estate   887_600_000.00   2_129_788_210.65       0.00   \n",
       "3            biotech   370_841_772.36   1_336_462_342.85       0.00   \n",
       "28             other   135_280_530.21   1_058_850_372.21       0.00   \n",
       "15            health   257_965_909.09     987_582_038.97       0.00   \n",
       "19     manufacturing   551_738_721.71     947_980_006.15       0.00   \n",
       "37          software   126_691_904.66     729_174_792.66       0.00   \n",
       "11           finance   294_108_333.33     700_186_990.28       0.00   \n",
       "\n",
       "              max_price  startup_count  \n",
       "9  2_600_000_000_000.00            623  \n",
       "31    39_000_000_000.00            250  \n",
       "2      5_200_000_000.00              6  \n",
       "32     6_850_000_000.00             10  \n",
       "3     20_000_000_000.00            615  \n",
       "28    18_400_000_000.00            331  \n",
       "15     5_400_000_000.00             44  \n",
       "19     4_050_000_000.00             31  \n",
       "37    10_200_000_000.00           1838  \n",
       "11     4_400_000_000.00             66  "
      ]
     },
     "metadata": {},
     "output_type": "display_data"
    }
   ],
   "source": [
    "# Группируем данные по категориям и расчитывае метрики\n",
    "category_stats = merged_data.groupby('category_code').agg({\n",
    "    'price_amount': ['mean', 'std', 'min', 'max', 'count']\n",
    "}).reset_index()\n",
    "\n",
    "# Переименуем столбцы для удобства\n",
    "category_stats.columns = ['category_code', 'mean_price', 'std_price', 'min_price', 'max_price', 'startup_count']\n",
    "\n",
    "# Выводим результат\n",
    "display(category_stats.sort_values(by='mean_price', ascending=False).head(10))\n",
    "display(category_stats.sort_values(by='std_price', ascending=False).head(10)) "
   ]
  },
  {
   "cell_type": "markdown",
   "metadata": {},
   "source": [
    "**На основании полученных данных можно сделать следующие выводы:**\n",
    "\n",
    "1. Категории с наибольшими средними ценами:\n",
    "- Enterprise (4.3 млрд долларов): наиболее дорогая категория, с большим количеством стартапов (623). Эта категория привлекает крупных инвесторов.\n",
    "- Automotive (1.27 млрд долларов): несмотря на высокую среднюю цену, низкое количество стартапов (6) указывает на эксклюзивность и высокую стоимость единичных сделок.\n",
    "- Real Estate (887.6 млн долларов): высокая стоимость в сфере недвижимости ожидаема из-за специфики рынка.\n",
    "\n",
    "2. Категории с наибольшим разбросом цен:\n",
    "- Public Relations (3.8 млрд долларов): категория с самым высоким разбросом цен, что говорит о высоких рисках и значительных различиях в оценке стартапов.\n",
    "- Real Estate (2.1 млрд долларов): вторая категория с высоким разбросом, что ожидаемо для сферы недвижимости, где стоимость активов может существенно варьироваться.\n",
    "- Automotive (2.14 млрд долларов): высокий разброс при небольшом количестве стартапов подтверждает уникальность и стоимость сделок.\n",
    "\n",
    "3. Категории, сочетающие высокие средние цены и разброс:\n",
    "- Enterprise: Высокая средняя цена и умеренный разброс делают эту категорию предсказуемо привлекательной.\n",
    "- Real Estate: Высокая цена и значительный разброс указывают на инвестиционные возможности для крупных игроков.\n",
    "- Automotive: Небольшое количество сделок с высокими ценами и рисками."
   ]
  },
  {
   "cell_type": "code",
   "execution_count": 71,
   "metadata": {},
   "outputs": [
    {
     "data": {
      "text/html": [
       "<div>\n",
       "<style scoped>\n",
       "    .dataframe tbody tr th:only-of-type {\n",
       "        vertical-align: middle;\n",
       "    }\n",
       "\n",
       "    .dataframe tbody tr th {\n",
       "        vertical-align: top;\n",
       "    }\n",
       "\n",
       "    .dataframe thead th {\n",
       "        text-align: right;\n",
       "    }\n",
       "</style>\n",
       "<table border=\"1\" class=\"dataframe\">\n",
       "  <thead>\n",
       "    <tr style=\"text-align: right;\">\n",
       "      <th></th>\n",
       "      <th>category_code</th>\n",
       "      <th>mean_price</th>\n",
       "      <th>std_price</th>\n",
       "      <th>min_price</th>\n",
       "      <th>max_price</th>\n",
       "      <th>startup_count</th>\n",
       "    </tr>\n",
       "  </thead>\n",
       "  <tbody>\n",
       "    <tr>\n",
       "      <th>9</th>\n",
       "      <td>enterprise</td>\n",
       "      <td>4_321_448_000.00</td>\n",
       "      <td>104_163_452_703.60</td>\n",
       "      <td>0.00</td>\n",
       "      <td>2_600_000_000_000.00</td>\n",
       "      <td>623</td>\n",
       "    </tr>\n",
       "    <tr>\n",
       "      <th>2</th>\n",
       "      <td>automotive</td>\n",
       "      <td>1_273_833_333.33</td>\n",
       "      <td>2_147_833_365.67</td>\n",
       "      <td>0.00</td>\n",
       "      <td>5_200_000_000.00</td>\n",
       "      <td>6</td>\n",
       "    </tr>\n",
       "    <tr>\n",
       "      <th>32</th>\n",
       "      <td>real_estate</td>\n",
       "      <td>887_600_000.00</td>\n",
       "      <td>2_129_788_210.65</td>\n",
       "      <td>0.00</td>\n",
       "      <td>6_850_000_000.00</td>\n",
       "      <td>10</td>\n",
       "    </tr>\n",
       "    <tr>\n",
       "      <th>19</th>\n",
       "      <td>manufacturing</td>\n",
       "      <td>551_738_721.71</td>\n",
       "      <td>947_980_006.15</td>\n",
       "      <td>0.00</td>\n",
       "      <td>4_050_000_000.00</td>\n",
       "      <td>31</td>\n",
       "    </tr>\n",
       "    <tr>\n",
       "      <th>31</th>\n",
       "      <td>public_relations</td>\n",
       "      <td>549_326_700.00</td>\n",
       "      <td>3_802_535_900.24</td>\n",
       "      <td>0.00</td>\n",
       "      <td>39_000_000_000.00</td>\n",
       "      <td>250</td>\n",
       "    </tr>\n",
       "    <tr>\n",
       "      <th>3</th>\n",
       "      <td>biotech</td>\n",
       "      <td>370_841_772.36</td>\n",
       "      <td>1_336_462_342.85</td>\n",
       "      <td>0.00</td>\n",
       "      <td>20_000_000_000.00</td>\n",
       "      <td>615</td>\n",
       "    </tr>\n",
       "  </tbody>\n",
       "</table>\n",
       "</div>"
      ],
      "text/plain": [
       "       category_code       mean_price          std_price  min_price  \\\n",
       "9         enterprise 4_321_448_000.00 104_163_452_703.60       0.00   \n",
       "2         automotive 1_273_833_333.33   2_147_833_365.67       0.00   \n",
       "32       real_estate   887_600_000.00   2_129_788_210.65       0.00   \n",
       "19     manufacturing   551_738_721.71     947_980_006.15       0.00   \n",
       "31  public_relations   549_326_700.00   3_802_535_900.24       0.00   \n",
       "3            biotech   370_841_772.36   1_336_462_342.85       0.00   \n",
       "\n",
       "              max_price  startup_count  \n",
       "9  2_600_000_000_000.00            623  \n",
       "2      5_200_000_000.00              6  \n",
       "32     6_850_000_000.00             10  \n",
       "19     4_050_000_000.00             31  \n",
       "31    39_000_000_000.00            250  \n",
       "3     20_000_000_000.00            615  "
      ]
     },
     "metadata": {},
     "output_type": "display_data"
    }
   ],
   "source": [
    "# Фильтруем категории с достаточным количеством стартапов\n",
    "significant_categories = category_stats[category_stats['startup_count'] >= 5]\n",
    "\n",
    "# Топ категорий по средней цене\n",
    "top_mean_price = significant_categories.sort_values(by='mean_price', ascending=False).head(5)\n",
    "\n",
    "# Топ категорий по разбросу цен\n",
    "top_std_price = significant_categories.sort_values(by='std_price', ascending=False).head(5)\n",
    "\n",
    "# Объединяем два списка для полного анализа\n",
    "top_categories = pd.concat([top_mean_price, top_std_price]).drop_duplicates()\n",
    "display(top_categories)"
   ]
  },
  {
   "cell_type": "markdown",
   "metadata": {},
   "source": [
    "Пять категорий позволяют сосредоточиться на наиболее значимых сегментах, где высокие средние цены указывают на крупные сделки, высокий разброс цен отражает высокий риск и потенциал для инвесторов.\n",
    "Этот размер выборки достаточен, чтобы выявить ключевые тренды.\n",
    "\n",
    "- Средняя цена показывает привлекательность категории для крупных сделок\n",
    "- Разброс цен (стандартное отклонение) помогает понять риск, связанный с категорией."
   ]
  },
  {
   "cell_type": "markdown",
   "metadata": {},
   "source": [
    "**Рекомендации:**\n",
    "\n",
    "1. Фокус на категории Enterprise: наиболее предсказуемая категория с высокой средней ценой.\n",
    "2. Детальный анализ Public Relations и Real Estate: эти категории интересны из-за большого разброса цен, что предполагает высокий риск, но и потенциал для крупных доходов.\n",
    "3. Рекомендуется сочетать анализ средней цены с оценкой разброса для сбалансированной стратегии инвестирования."
   ]
  },
  {
   "cell_type": "markdown",
   "metadata": {
    "id": "ADOfyVY_rJg3"
   },
   "source": [
    "\n",
    "### 3.5. Сколько раундов продержится стартап перед покупкой\n",
    "\n",
    "* Необходимо проанализировать столбец `funding_rounds`. Исследуйте значения столбца. Заказчика интересует типичное значение количества раундов для каждого возможного статуса стартапа.\n",
    "\n",
    "* Постройте график, который отображает, сколько в среднем раундов финансирования проходило для стартапов из каждой группы. Сделайте выводы."
   ]
  },
  {
   "cell_type": "code",
   "execution_count": 73,
   "metadata": {
    "id": "hgXMPC4WrJg3",
    "vscode": {
     "languageId": "plaintext"
    }
   },
   "outputs": [
    {
     "name": "stdout",
     "output_type": "stream",
     "text": [
      "count   61_855.00\n",
      "mean         2.16\n",
      "std          1.98\n",
      "min          0.00\n",
      "25%          1.00\n",
      "50%          2.00\n",
      "75%          3.00\n",
      "max         15.00\n",
      "Name: funding_rounds, dtype: float64\n",
      "['operating', 'acquired', 'closed', 'ipo']\n",
      "Categories (4, object): ['operating', 'acquired', 'closed', 'ipo']\n"
     ]
    }
   ],
   "source": [
    "# Основная статистика по funding_rounds\n",
    "print(merged_data['funding_rounds'].describe())\n",
    "\n",
    "# Уникальные статусы стартапов\n",
    "print(merged_data['status'].unique())"
   ]
  },
  {
   "cell_type": "markdown",
   "metadata": {},
   "source": [
    "**Общая статистика по `funding_rounds`:**\n",
    "\n",
    "1. Среднее количество раундов: 2.16.\n",
    "2. Медиана равна 2.00 - половина стартапов проходила не более 2 раундов финансирования.\n",
    "3. Максимальное значение - 15 раундов."
   ]
  },
  {
   "cell_type": "code",
   "execution_count": 74,
   "metadata": {},
   "outputs": [
    {
     "data": {
      "text/html": [
       "<div>\n",
       "<style scoped>\n",
       "    .dataframe tbody tr th:only-of-type {\n",
       "        vertical-align: middle;\n",
       "    }\n",
       "\n",
       "    .dataframe tbody tr th {\n",
       "        vertical-align: top;\n",
       "    }\n",
       "\n",
       "    .dataframe thead th {\n",
       "        text-align: right;\n",
       "    }\n",
       "</style>\n",
       "<table border=\"1\" class=\"dataframe\">\n",
       "  <thead>\n",
       "    <tr style=\"text-align: right;\">\n",
       "      <th></th>\n",
       "      <th>status</th>\n",
       "      <th>average_rounds</th>\n",
       "      <th>std_rounds</th>\n",
       "      <th>startup_count</th>\n",
       "    </tr>\n",
       "  </thead>\n",
       "  <tbody>\n",
       "    <tr>\n",
       "      <th>2</th>\n",
       "      <td>ipo</td>\n",
       "      <td>3.99</td>\n",
       "      <td>3.30</td>\n",
       "      <td>1388</td>\n",
       "    </tr>\n",
       "    <tr>\n",
       "      <th>3</th>\n",
       "      <td>operating</td>\n",
       "      <td>2.38</td>\n",
       "      <td>1.90</td>\n",
       "      <td>45666</td>\n",
       "    </tr>\n",
       "    <tr>\n",
       "      <th>1</th>\n",
       "      <td>closed</td>\n",
       "      <td>1.88</td>\n",
       "      <td>1.34</td>\n",
       "      <td>2893</td>\n",
       "    </tr>\n",
       "    <tr>\n",
       "      <th>0</th>\n",
       "      <td>acquired</td>\n",
       "      <td>1.16</td>\n",
       "      <td>1.79</td>\n",
       "      <td>11908</td>\n",
       "    </tr>\n",
       "  </tbody>\n",
       "</table>\n",
       "</div>"
      ],
      "text/plain": [
       "      status  average_rounds  std_rounds  startup_count\n",
       "2        ipo            3.99        3.30           1388\n",
       "3  operating            2.38        1.90          45666\n",
       "1     closed            1.88        1.34           2893\n",
       "0   acquired            1.16        1.79          11908"
      ]
     },
     "metadata": {},
     "output_type": "display_data"
    }
   ],
   "source": [
    "# Группируем данные\n",
    "funding_rounds_by_status = merged_data.groupby('status')['funding_rounds'].agg(['mean', 'std', 'count']).reset_index()\n",
    "\n",
    "# Переименуем столбцы для удобства\n",
    "funding_rounds_by_status.columns = ['status', 'average_rounds', 'std_rounds', 'startup_count']\n",
    "\n",
    "# Сортируем по среднему количеству раундов\n",
    "funding_rounds_by_status = funding_rounds_by_status.sort_values(by='average_rounds', ascending=False)\n",
    "display(funding_rounds_by_status)"
   ]
  },
  {
   "cell_type": "markdown",
   "metadata": {},
   "source": [
    "**Типичные значения для каждого статуса:**\n",
    "\n",
    "1. IPO (среднее: 3.99):\n",
    "- Стартапы, которые вышли на IPO, проходят наибольшее количество раундов финансирования.\n",
    "- Высокое стандартное отклонение (3.30) указывает на то, что некоторые стартапы достигают IPO с небольшим числом раундов, в то время как другие проходят много этапов.\n",
    "2. Operating (среднее: 2.38):\n",
    "- Действующие стартапы имеют второе по величине среднее количество раундов.\n",
    "3. Closed (среднее: 1.88):\n",
    "- Компании, которые закрылись, в среднем проходили меньшее количество раундов.\n",
    "4. Acquired (среднее: 1.16):\n",
    "- Приобретённые стартапы имеют самое низкое среднее количество раундов. Вероятно, они привлекли меньше капитала перед покупкой."
   ]
  },
  {
   "cell_type": "code",
   "execution_count": 75,
   "metadata": {},
   "outputs": [
    {
     "data": {
      "image/png": "[encoded data removed]",
      "text/plain": [
       "<Figure size 864x432 with 1 Axes>"
      ]
     },
     "metadata": {
      "needs_background": "light"
     },
     "output_type": "display_data"
    }
   ],
   "source": [
    "# Построим график\n",
    "plt.figure(figsize=(12, 6))\n",
    "sns.barplot(data=funding_rounds_by_status, x='status', y='average_rounds', color='lightblue')\n",
    "plt.title('Среднее количество раундов финансирования для каждого статуса стартапа')\n",
    "plt.ylabel('Среднее количество раундов')\n",
    "plt.xlabel('Статус стартапа')\n",
    "plt.xticks(rotation=45)\n",
    "plt.show()"
   ]
  },
  {
   "cell_type": "markdown",
   "metadata": {},
   "source": [
    "**Итоговый вывод:**\n",
    "\n",
    "1. Стартапы с разными статусами проходят разное количество раундов финансирования.\n",
    "2. Типичное количество раундов для каждого статуса:\n",
    "- IPO ~4 раунда\n",
    "- Operating ~2.4 раунда\n",
    "- Closed ~1.9 раунда\n",
    "- Acquired ~1.2 раунда\n",
    "\n",
    "3. Стартапы с высоким количеством раундов (IPO и Operating) более привлекательны для долгосрочных инвестиций, так как они уже доказали свою жизнеспособность.\n",
    "4. Компании с небольшим числом раундов (Acquired) могут быть более привлекательными для раннего вхождения или использования их технологий."
   ]
  },
  {
   "cell_type": "markdown",
   "metadata": {
    "id": "VAFEZ2HBrJg3"
   },
   "source": [
    "\n",
    "## Шаг 4. Итоговый вывод и рекомендации\n",
    "\n",
    "Опишите, что было сделано в проекте, какие были сделаны выводы, подкрепляют ли они друг друга или заставляют сомневаться в полученных результатах."
   ]
  },
  {
   "cell_type": "markdown",
   "metadata": {},
   "source": [
    "**В данном проект были выполнены следующие шаги:**\n",
    "\n",
    "1. Загрузка и предобработка данных: данные загружены, проведена проверка на наличие пропусков, дибликатов и некорректных значений\n",
    "2. Исследовательский анализ данных:\n",
    "- Общий анализ финансирования - определены типичные значения и выбросы\n",
    "- Категории стартапов: выявлены категории с наибольшей средней ценой продажи, определены категории с наиболее высоким разбросом цен.\n",
    "- Анализ раундов финансирования: пассчитано среднее количество раундов для разных статусов стартапов.\n",
    "- Визуализация данных: построены графики распределения финансирования, выбросов, а также средних значений по категориям и статусам стартапов.\n",
    "- Стартапы, проданные за символическую сумму (0 или 1 доллар), были выделены и проанализированы."
   ]
  },
  {
   "cell_type": "markdown",
   "metadata": {},
   "source": [
    "**Итоговые выводы:**\n",
    "\n",
    "1. Анализ финансирования (funding_total).\n",
    "- Типичный диапазон финансирования: от 59,700 до 15,950,000 долларов.\n",
    "- Выбросы: значения выше 39,785,450 долларов (87.2%-й процентиль).\n",
    "\n",
    "2. Категории стартапов.\n",
    "- Наибольшая средняя цена: Enterprise (4.3 млрд долларов), Automotive (1.27 млрд долларов), Real Estate (887.6 млн долларов)\n",
    "- Наибольший разброс цен: Public Relations (3.8 млрд долларов), Real Estate (2.1 млрд долларов), Automotive (2.14 млрд долларов).\n",
    "\n",
    "3. Анализ раундов финансирования (funding_rounds).\n",
    "- Среднее количество раундов для статусов: IPO - 4 раунда, Operating - 2.4 раунда, Closed - 1.9 раунда, Acquired - 1.2 раунда.\n",
    "- Стартапы с большим количеством раундов (IPO и Operating) демонстрируют устойчивую траекторию роста.\n",
    "\n",
    "4. Анализ стартапов, проданных за символическую сумму (0 или 1 доллар): эти стартапы имеют ненулевое финансирование, но проходят малое число раундов.\n",
    "\n",
    "5. Визуализация данных: построенные графики подтвердили статистические выводы, сделав их наглядными"
   ]
  }
 ],
 "metadata": {
  "ExecuteTimeLog": [
   {
    "duration": 1435,
    "start_time": "2024-12-18T08:52:04.017Z"
   },
   {
    "duration": 3951,
    "start_time": "2024-12-18T08:52:42.617Z"
   },
   {
    "duration": 3,
    "start_time": "2024-12-18T08:52:48.625Z"
   },
   {
    "duration": 1989,
    "start_time": "2024-12-18T08:55:37.641Z"
   },
   {
    "duration": 2,
    "start_time": "2024-12-18T08:56:19.224Z"
   },
   {
    "duration": 2741,
    "start_time": "2024-12-18T08:56:20.139Z"
   },
   {
    "duration": 12,
    "start_time": "2024-12-18T08:57:52.819Z"
   },
   {
    "duration": 13,
    "start_time": "2024-12-18T08:58:01.089Z"
   },
   {
    "duration": 16,
    "start_time": "2024-12-18T09:05:10.314Z"
   },
   {
    "duration": 10,
    "start_time": "2024-12-18T09:05:15.961Z"
   },
   {
    "duration": 8,
    "start_time": "2024-12-18T09:05:17.641Z"
   },
   {
    "duration": 5,
    "start_time": "2024-12-18T09:05:33.394Z"
   },
   {
    "duration": 21,
    "start_time": "2024-12-18T09:15:45.761Z"
   },
   {
    "duration": 84,
    "start_time": "2024-12-18T09:15:55.000Z"
   },
   {
    "duration": 9,
    "start_time": "2024-12-18T09:22:35.207Z"
   },
   {
    "duration": 82,
    "start_time": "2024-12-18T09:22:37.618Z"
   },
   {
    "duration": 9,
    "start_time": "2024-12-18T09:22:39.361Z"
   },
   {
    "duration": 115,
    "start_time": "2024-12-18T09:22:52.651Z"
   },
   {
    "duration": 9,
    "start_time": "2024-12-18T09:46:36.305Z"
   },
   {
    "duration": 12,
    "start_time": "2024-12-18T09:46:43.052Z"
   },
   {
    "duration": 9,
    "start_time": "2024-12-18T09:51:49.738Z"
   },
   {
    "duration": 13,
    "start_time": "2024-12-18T09:51:52.478Z"
   },
   {
    "duration": 6,
    "start_time": "2024-12-18T09:52:02.853Z"
   },
   {
    "duration": 7,
    "start_time": "2024-12-18T10:00:26.646Z"
   },
   {
    "duration": 9,
    "start_time": "2024-12-18T10:00:34.066Z"
   },
   {
    "duration": 7,
    "start_time": "2024-12-18T10:01:06.391Z"
   },
   {
    "duration": 9,
    "start_time": "2024-12-18T10:01:07.551Z"
   },
   {
    "duration": 6,
    "start_time": "2024-12-18T10:03:57.652Z"
   },
   {
    "duration": 7,
    "start_time": "2024-12-18T10:05:50.274Z"
   },
   {
    "duration": 17,
    "start_time": "2024-12-18T10:05:57.054Z"
   },
   {
    "duration": 7,
    "start_time": "2024-12-18T10:06:05.169Z"
   },
   {
    "duration": 16,
    "start_time": "2024-12-18T10:06:05.835Z"
   },
   {
    "duration": 6,
    "start_time": "2024-12-18T10:11:49.492Z"
   },
   {
    "duration": 17,
    "start_time": "2024-12-18T10:14:10.439Z"
   },
   {
    "duration": 8,
    "start_time": "2024-12-18T10:14:32.852Z"
   },
   {
    "duration": 33,
    "start_time": "2024-12-18T10:14:39.278Z"
   },
   {
    "duration": 8,
    "start_time": "2024-12-18T10:14:47.852Z"
   },
   {
    "duration": 33,
    "start_time": "2024-12-18T10:14:48.709Z"
   },
   {
    "duration": 14,
    "start_time": "2024-12-18T10:17:18.679Z"
   },
   {
    "duration": 11,
    "start_time": "2024-12-18T10:18:34.730Z"
   },
   {
    "duration": 9,
    "start_time": "2024-12-18T10:20:01.963Z"
   },
   {
    "duration": 33,
    "start_time": "2024-12-18T10:20:02.800Z"
   },
   {
    "duration": 8,
    "start_time": "2024-12-18T10:22:53.264Z"
   },
   {
    "duration": 20,
    "start_time": "2024-12-18T10:22:59.128Z"
   },
   {
    "duration": 7,
    "start_time": "2024-12-18T10:23:19.492Z"
   },
   {
    "duration": 234,
    "start_time": "2024-12-18T10:45:52.834Z"
   },
   {
    "duration": 233,
    "start_time": "2024-12-18T10:46:00.362Z"
   },
   {
    "duration": 4,
    "start_time": "2024-12-18T10:46:37.305Z"
   },
   {
    "duration": 5,
    "start_time": "2024-12-18T10:48:15.277Z"
   },
   {
    "duration": 1544,
    "start_time": "2024-12-18T10:57:55.344Z"
   },
   {
    "duration": 3,
    "start_time": "2024-12-18T10:58:53.204Z"
   },
   {
    "duration": 9,
    "start_time": "2024-12-18T11:00:47.868Z"
   },
   {
    "duration": 12,
    "start_time": "2024-12-18T11:03:40.920Z"
   },
   {
    "duration": 2,
    "start_time": "2024-12-18T11:05:05.243Z"
   },
   {
    "duration": 1710,
    "start_time": "2024-12-18T11:05:05.852Z"
   },
   {
    "duration": 7,
    "start_time": "2024-12-18T11:05:07.564Z"
   },
   {
    "duration": 16,
    "start_time": "2024-12-18T11:05:07.573Z"
   },
   {
    "duration": 21,
    "start_time": "2024-12-18T11:05:08.905Z"
   },
   {
    "duration": 81,
    "start_time": "2024-12-18T11:05:09.619Z"
   },
   {
    "duration": 9,
    "start_time": "2024-12-18T11:05:10.833Z"
   },
   {
    "duration": 12,
    "start_time": "2024-12-18T11:05:11.447Z"
   },
   {
    "duration": 6,
    "start_time": "2024-12-18T11:05:12.642Z"
   },
   {
    "duration": 9,
    "start_time": "2024-12-18T11:05:13.264Z"
   },
   {
    "duration": 8,
    "start_time": "2024-12-18T11:05:14.480Z"
   },
   {
    "duration": 17,
    "start_time": "2024-12-18T11:05:15.109Z"
   },
   {
    "duration": 9,
    "start_time": "2024-12-18T11:05:16.290Z"
   },
   {
    "duration": 32,
    "start_time": "2024-12-18T11:05:16.924Z"
   },
   {
    "duration": 8,
    "start_time": "2024-12-18T11:05:18.121Z"
   },
   {
    "duration": 20,
    "start_time": "2024-12-18T11:05:18.763Z"
   },
   {
    "duration": 5,
    "start_time": "2024-12-18T11:11:31.993Z"
   },
   {
    "duration": 6,
    "start_time": "2024-12-18T11:13:11.116Z"
   },
   {
    "duration": 13,
    "start_time": "2024-12-18T11:13:13.210Z"
   },
   {
    "duration": 11,
    "start_time": "2024-12-18T11:21:55.053Z"
   },
   {
    "duration": 1446,
    "start_time": "2024-12-18T12:30:37.218Z"
   },
   {
    "duration": 147,
    "start_time": "2024-12-18T12:31:10.684Z"
   },
   {
    "duration": 64,
    "start_time": "2024-12-18T12:37:06.137Z"
   },
   {
    "duration": 47,
    "start_time": "2024-12-18T16:21:33.237Z"
   },
   {
    "duration": 1364,
    "start_time": "2024-12-18T16:21:47.699Z"
   },
   {
    "duration": 1801,
    "start_time": "2024-12-18T16:21:49.065Z"
   },
   {
    "duration": 12,
    "start_time": "2024-12-18T16:21:50.868Z"
   },
   {
    "duration": 47,
    "start_time": "2024-12-18T16:21:50.881Z"
   },
   {
    "duration": 24,
    "start_time": "2024-12-18T16:21:51.744Z"
   },
   {
    "duration": 103,
    "start_time": "2024-12-18T16:21:52.572Z"
   },
   {
    "duration": 11,
    "start_time": "2024-12-18T16:21:54.086Z"
   },
   {
    "duration": 13,
    "start_time": "2024-12-18T16:21:54.798Z"
   },
   {
    "duration": 7,
    "start_time": "2024-12-18T16:21:56.257Z"
   },
   {
    "duration": 9,
    "start_time": "2024-12-18T16:21:56.979Z"
   },
   {
    "duration": 7,
    "start_time": "2024-12-18T16:21:58.435Z"
   },
   {
    "duration": 19,
    "start_time": "2024-12-18T16:21:59.172Z"
   },
   {
    "duration": 8,
    "start_time": "2024-12-18T16:22:01.035Z"
   },
   {
    "duration": 40,
    "start_time": "2024-12-18T16:22:01.787Z"
   },
   {
    "duration": 8,
    "start_time": "2024-12-18T16:22:03.398Z"
   },
   {
    "duration": 26,
    "start_time": "2024-12-18T16:22:04.208Z"
   },
   {
    "duration": 6,
    "start_time": "2024-12-18T16:22:06.746Z"
   },
   {
    "duration": 5,
    "start_time": "2024-12-18T16:22:07.498Z"
   },
   {
    "duration": 184,
    "start_time": "2024-12-18T16:22:08.309Z"
   },
   {
    "duration": 71,
    "start_time": "2024-12-18T16:22:11.863Z"
   },
   {
    "duration": 9,
    "start_time": "2024-12-18T16:23:23.985Z"
   },
   {
    "duration": 569,
    "start_time": "2024-12-18T16:25:37.361Z"
   },
   {
    "duration": 527,
    "start_time": "2024-12-18T16:26:26.146Z"
   },
   {
    "duration": 64,
    "start_time": "2024-12-18T16:39:35.235Z"
   },
   {
    "duration": 59,
    "start_time": "2024-12-18T16:41:33.760Z"
   },
   {
    "duration": 81,
    "start_time": "2024-12-18T16:52:31.503Z"
   },
   {
    "duration": 69,
    "start_time": "2024-12-18T16:57:18.569Z"
   },
   {
    "duration": 86,
    "start_time": "2024-12-18T16:57:45.713Z"
   },
   {
    "duration": 8,
    "start_time": "2024-12-18T17:07:29.888Z"
   },
   {
    "duration": 7,
    "start_time": "2024-12-18T17:07:35.290Z"
   },
   {
    "duration": 137,
    "start_time": "2024-12-18T17:11:39.262Z"
   },
   {
    "duration": 150,
    "start_time": "2024-12-18T17:14:32.732Z"
   },
   {
    "duration": 48,
    "start_time": "2024-12-19T08:58:08.349Z"
   },
   {
    "duration": 1237,
    "start_time": "2024-12-19T08:58:20.689Z"
   },
   {
    "duration": 2266,
    "start_time": "2024-12-19T08:58:21.928Z"
   },
   {
    "duration": 12,
    "start_time": "2024-12-19T08:58:24.196Z"
   },
   {
    "duration": 21,
    "start_time": "2024-12-19T08:58:24.209Z"
   },
   {
    "duration": 38,
    "start_time": "2024-12-19T08:58:24.232Z"
   },
   {
    "duration": 107,
    "start_time": "2024-12-19T08:58:24.596Z"
   },
   {
    "duration": 10,
    "start_time": "2024-12-19T08:58:25.706Z"
   },
   {
    "duration": 12,
    "start_time": "2024-12-19T08:58:26.270Z"
   },
   {
    "duration": 7,
    "start_time": "2024-12-19T08:58:27.334Z"
   },
   {
    "duration": 10,
    "start_time": "2024-12-19T08:58:27.842Z"
   },
   {
    "duration": 7,
    "start_time": "2024-12-19T08:58:28.937Z"
   },
   {
    "duration": 21,
    "start_time": "2024-12-19T08:58:29.446Z"
   },
   {
    "duration": 8,
    "start_time": "2024-12-19T08:58:30.503Z"
   },
   {
    "duration": 43,
    "start_time": "2024-12-19T08:58:31.042Z"
   },
   {
    "duration": 9,
    "start_time": "2024-12-19T08:58:32.142Z"
   },
   {
    "duration": 25,
    "start_time": "2024-12-19T08:58:32.676Z"
   },
   {
    "duration": 6,
    "start_time": "2024-12-19T08:58:34.413Z"
   },
   {
    "duration": 5,
    "start_time": "2024-12-19T08:58:34.922Z"
   },
   {
    "duration": 174,
    "start_time": "2024-12-19T08:58:35.500Z"
   },
   {
    "duration": 519,
    "start_time": "2024-12-19T08:58:36.292Z"
   },
   {
    "duration": 62,
    "start_time": "2024-12-19T08:58:37.764Z"
   },
   {
    "duration": 76,
    "start_time": "2024-12-19T08:59:11.204Z"
   },
   {
    "duration": 203,
    "start_time": "2024-12-19T08:59:12.247Z"
   },
   {
    "duration": 0,
    "start_time": "2024-12-19T09:49:01.891Z"
   },
   {
    "duration": 0,
    "start_time": "2024-12-19T09:49:01.925Z"
   },
   {
    "duration": 0,
    "start_time": "2024-12-19T09:49:01.926Z"
   },
   {
    "duration": 0,
    "start_time": "2024-12-19T09:49:01.927Z"
   },
   {
    "duration": 0,
    "start_time": "2024-12-19T09:49:01.932Z"
   },
   {
    "duration": 0,
    "start_time": "2024-12-19T09:49:01.933Z"
   },
   {
    "duration": 0,
    "start_time": "2024-12-19T09:49:01.934Z"
   },
   {
    "duration": 0,
    "start_time": "2024-12-19T09:49:01.936Z"
   },
   {
    "duration": 0,
    "start_time": "2024-12-19T09:49:01.946Z"
   },
   {
    "duration": 0,
    "start_time": "2024-12-19T09:49:01.947Z"
   },
   {
    "duration": 0,
    "start_time": "2024-12-19T09:49:01.949Z"
   },
   {
    "duration": 0,
    "start_time": "2024-12-19T09:49:01.953Z"
   },
   {
    "duration": 2,
    "start_time": "2024-12-19T09:53:43.207Z"
   },
   {
    "duration": 2458,
    "start_time": "2024-12-19T09:53:44.131Z"
   },
   {
    "duration": 3,
    "start_time": "2024-12-19T09:53:53.036Z"
   },
   {
    "duration": 2,
    "start_time": "2024-12-19T09:54:37.193Z"
   },
   {
    "duration": 2525,
    "start_time": "2024-12-19T09:54:39.197Z"
   },
   {
    "duration": 8,
    "start_time": "2024-12-19T09:54:41.986Z"
   },
   {
    "duration": 11,
    "start_time": "2024-12-19T09:54:43.153Z"
   },
   {
    "duration": 22,
    "start_time": "2024-12-19T09:54:44.643Z"
   },
   {
    "duration": 108,
    "start_time": "2024-12-19T09:54:45.377Z"
   },
   {
    "duration": 10,
    "start_time": "2024-12-19T09:54:46.886Z"
   },
   {
    "duration": 14,
    "start_time": "2024-12-19T09:54:47.685Z"
   },
   {
    "duration": 7,
    "start_time": "2024-12-19T09:54:49.348Z"
   },
   {
    "duration": 10,
    "start_time": "2024-12-19T09:54:50.062Z"
   },
   {
    "duration": 8,
    "start_time": "2024-12-19T09:54:51.505Z"
   },
   {
    "duration": 22,
    "start_time": "2024-12-19T09:54:52.225Z"
   },
   {
    "duration": 8,
    "start_time": "2024-12-19T09:54:53.610Z"
   },
   {
    "duration": 45,
    "start_time": "2024-12-19T09:54:54.318Z"
   },
   {
    "duration": 8,
    "start_time": "2024-12-19T09:54:55.709Z"
   },
   {
    "duration": 26,
    "start_time": "2024-12-19T09:54:56.513Z"
   },
   {
    "duration": 5,
    "start_time": "2024-12-19T09:54:59.800Z"
   },
   {
    "duration": 1762,
    "start_time": "2024-12-19T10:00:20.183Z"
   },
   {
    "duration": 1599,
    "start_time": "2024-12-19T10:01:14.801Z"
   },
   {
    "duration": 1376,
    "start_time": "2024-12-19T10:03:33.022Z"
   },
   {
    "duration": 3,
    "start_time": "2024-12-19T10:05:30.951Z"
   },
   {
    "duration": 2382,
    "start_time": "2024-12-19T10:05:32.262Z"
   },
   {
    "duration": 8,
    "start_time": "2024-12-19T10:05:35.684Z"
   },
   {
    "duration": 11,
    "start_time": "2024-12-19T10:05:36.798Z"
   },
   {
    "duration": 23,
    "start_time": "2024-12-19T10:05:39.405Z"
   },
   {
    "duration": 112,
    "start_time": "2024-12-19T10:05:40.472Z"
   },
   {
    "duration": 10,
    "start_time": "2024-12-19T10:05:42.222Z"
   },
   {
    "duration": 14,
    "start_time": "2024-12-19T10:05:43.214Z"
   },
   {
    "duration": 7,
    "start_time": "2024-12-19T10:05:44.972Z"
   },
   {
    "duration": 8,
    "start_time": "2024-12-19T10:05:45.896Z"
   },
   {
    "duration": 8,
    "start_time": "2024-12-19T10:05:47.572Z"
   },
   {
    "duration": 20,
    "start_time": "2024-12-19T10:05:48.556Z"
   },
   {
    "duration": 9,
    "start_time": "2024-12-19T10:05:50.194Z"
   },
   {
    "duration": 80,
    "start_time": "2024-12-19T10:05:51.097Z"
   },
   {
    "duration": 8,
    "start_time": "2024-12-19T10:05:52.642Z"
   },
   {
    "duration": 26,
    "start_time": "2024-12-19T10:05:53.457Z"
   },
   {
    "duration": 5,
    "start_time": "2024-12-19T10:05:55.932Z"
   },
   {
    "duration": 1386,
    "start_time": "2024-12-19T10:05:56.786Z"
   },
   {
    "duration": 4,
    "start_time": "2024-12-19T10:05:59.712Z"
   },
   {
    "duration": 162,
    "start_time": "2024-12-19T10:06:00.587Z"
   },
   {
    "duration": 2035,
    "start_time": "2024-12-19T10:06:11.841Z"
   },
   {
    "duration": 3,
    "start_time": "2024-12-19T10:08:20.859Z"
   },
   {
    "duration": 3,
    "start_time": "2024-12-19T10:11:38.012Z"
   },
   {
    "duration": 2,
    "start_time": "2024-12-19T10:11:47.175Z"
   },
   {
    "duration": 3,
    "start_time": "2024-12-19T10:12:15.144Z"
   },
   {
    "duration": 1167,
    "start_time": "2024-12-19T10:12:27.969Z"
   },
   {
    "duration": 2077,
    "start_time": "2024-12-19T10:12:31.901Z"
   },
   {
    "duration": 12,
    "start_time": "2024-12-19T10:12:35.974Z"
   },
   {
    "duration": 11,
    "start_time": "2024-12-19T10:12:37.146Z"
   },
   {
    "duration": 24,
    "start_time": "2024-12-19T10:12:39.002Z"
   },
   {
    "duration": 92,
    "start_time": "2024-12-19T10:12:39.876Z"
   },
   {
    "duration": 10,
    "start_time": "2024-12-19T10:12:41.436Z"
   },
   {
    "duration": 12,
    "start_time": "2024-12-19T10:12:42.303Z"
   },
   {
    "duration": 7,
    "start_time": "2024-12-19T10:12:43.784Z"
   },
   {
    "duration": 9,
    "start_time": "2024-12-19T10:12:44.506Z"
   },
   {
    "duration": 7,
    "start_time": "2024-12-19T10:12:45.994Z"
   },
   {
    "duration": 19,
    "start_time": "2024-12-19T10:12:46.661Z"
   },
   {
    "duration": 9,
    "start_time": "2024-12-19T10:12:48.126Z"
   },
   {
    "duration": 40,
    "start_time": "2024-12-19T10:12:48.822Z"
   },
   {
    "duration": 8,
    "start_time": "2024-12-19T10:12:50.367Z"
   },
   {
    "duration": 24,
    "start_time": "2024-12-19T10:12:51.074Z"
   },
   {
    "duration": 6,
    "start_time": "2024-12-19T10:12:53.537Z"
   },
   {
    "duration": 1553,
    "start_time": "2024-12-19T10:12:54.277Z"
   },
   {
    "duration": 3,
    "start_time": "2024-12-19T10:13:39.718Z"
   },
   {
    "duration": 53,
    "start_time": "2024-12-19T10:16:11.998Z"
   },
   {
    "duration": 1421,
    "start_time": "2024-12-19T10:17:07.098Z"
   },
   {
    "duration": 1559,
    "start_time": "2024-12-19T10:17:30.476Z"
   },
   {
    "duration": 2,
    "start_time": "2024-12-19T10:19:17.758Z"
   },
   {
    "duration": 5,
    "start_time": "2024-12-19T10:19:23.632Z"
   },
   {
    "duration": 1133,
    "start_time": "2024-12-19T10:19:37.023Z"
   },
   {
    "duration": 2063,
    "start_time": "2024-12-19T10:19:39.082Z"
   },
   {
    "duration": 11,
    "start_time": "2024-12-19T10:19:42.747Z"
   },
   {
    "duration": 10,
    "start_time": "2024-12-19T10:19:43.810Z"
   },
   {
    "duration": 21,
    "start_time": "2024-12-19T10:19:45.458Z"
   },
   {
    "duration": 101,
    "start_time": "2024-12-19T10:19:46.454Z"
   },
   {
    "duration": 9,
    "start_time": "2024-12-19T10:19:48.189Z"
   },
   {
    "duration": 12,
    "start_time": "2024-12-19T10:19:49.069Z"
   },
   {
    "duration": 7,
    "start_time": "2024-12-19T10:19:50.563Z"
   },
   {
    "duration": 10,
    "start_time": "2024-12-19T10:19:51.346Z"
   },
   {
    "duration": 8,
    "start_time": "2024-12-19T10:19:52.837Z"
   },
   {
    "duration": 22,
    "start_time": "2024-12-19T10:19:53.634Z"
   },
   {
    "duration": 8,
    "start_time": "2024-12-19T10:19:55.055Z"
   },
   {
    "duration": 44,
    "start_time": "2024-12-19T10:19:55.827Z"
   },
   {
    "duration": 8,
    "start_time": "2024-12-19T10:19:57.341Z"
   },
   {
    "duration": 32,
    "start_time": "2024-12-19T10:19:58.119Z"
   },
   {
    "duration": 6,
    "start_time": "2024-12-19T10:20:00.446Z"
   },
   {
    "duration": 226,
    "start_time": "2024-12-19T10:20:01.351Z"
   },
   {
    "duration": 1480,
    "start_time": "2024-12-19T10:21:01.043Z"
   },
   {
    "duration": 1152,
    "start_time": "2024-12-19T10:21:54.851Z"
   },
   {
    "duration": 2248,
    "start_time": "2024-12-19T10:21:56.834Z"
   },
   {
    "duration": 14,
    "start_time": "2024-12-19T10:22:01.127Z"
   },
   {
    "duration": 13,
    "start_time": "2024-12-19T10:22:02.031Z"
   },
   {
    "duration": 24,
    "start_time": "2024-12-19T10:22:03.536Z"
   },
   {
    "duration": 104,
    "start_time": "2024-12-19T10:22:04.352Z"
   },
   {
    "duration": 10,
    "start_time": "2024-12-19T10:22:05.966Z"
   },
   {
    "duration": 16,
    "start_time": "2024-12-19T10:22:06.837Z"
   },
   {
    "duration": 7,
    "start_time": "2024-12-19T10:22:08.358Z"
   },
   {
    "duration": 11,
    "start_time": "2024-12-19T10:22:09.136Z"
   },
   {
    "duration": 7,
    "start_time": "2024-12-19T10:22:10.583Z"
   },
   {
    "duration": 19,
    "start_time": "2024-12-19T10:22:11.361Z"
   },
   {
    "duration": 8,
    "start_time": "2024-12-19T10:22:12.847Z"
   },
   {
    "duration": 46,
    "start_time": "2024-12-19T10:22:13.605Z"
   },
   {
    "duration": 8,
    "start_time": "2024-12-19T10:22:15.114Z"
   },
   {
    "duration": 31,
    "start_time": "2024-12-19T10:22:15.917Z"
   },
   {
    "duration": 5,
    "start_time": "2024-12-19T10:22:18.594Z"
   },
   {
    "duration": 4,
    "start_time": "2024-12-19T10:22:35.963Z"
   },
   {
    "duration": 11,
    "start_time": "2024-12-19T10:23:04.141Z"
   },
   {
    "duration": 46,
    "start_time": "2024-12-19T10:23:24.436Z"
   },
   {
    "duration": 6,
    "start_time": "2024-12-19T10:23:54.797Z"
   },
   {
    "duration": 22,
    "start_time": "2024-12-19T10:24:41.467Z"
   },
   {
    "duration": 1165,
    "start_time": "2024-12-19T10:26:02.398Z"
   },
   {
    "duration": 2157,
    "start_time": "2024-12-19T10:26:05.487Z"
   },
   {
    "duration": 12,
    "start_time": "2024-12-19T10:26:09.557Z"
   },
   {
    "duration": 11,
    "start_time": "2024-12-19T10:26:10.507Z"
   },
   {
    "duration": 25,
    "start_time": "2024-12-19T10:26:12.172Z"
   },
   {
    "duration": 101,
    "start_time": "2024-12-19T10:26:13.093Z"
   },
   {
    "duration": 14,
    "start_time": "2024-12-19T10:26:14.912Z"
   },
   {
    "duration": 13,
    "start_time": "2024-12-19T10:26:15.852Z"
   },
   {
    "duration": 7,
    "start_time": "2024-12-19T10:26:17.597Z"
   },
   {
    "duration": 9,
    "start_time": "2024-12-19T10:26:18.498Z"
   },
   {
    "duration": 7,
    "start_time": "2024-12-19T10:26:20.607Z"
   },
   {
    "duration": 27,
    "start_time": "2024-12-19T10:26:21.617Z"
   },
   {
    "duration": 9,
    "start_time": "2024-12-19T10:26:23.068Z"
   },
   {
    "duration": 37,
    "start_time": "2024-12-19T10:26:23.762Z"
   },
   {
    "duration": 8,
    "start_time": "2024-12-19T10:26:25.233Z"
   },
   {
    "duration": 24,
    "start_time": "2024-12-19T10:26:25.992Z"
   },
   {
    "duration": 6,
    "start_time": "2024-12-19T10:26:28.448Z"
   },
   {
    "duration": 52,
    "start_time": "2024-12-19T10:26:30.944Z"
   },
   {
    "duration": 5,
    "start_time": "2024-12-19T10:26:37.060Z"
   },
   {
    "duration": 24,
    "start_time": "2024-12-19T10:26:43.406Z"
   },
   {
    "duration": 1318,
    "start_time": "2024-12-19T10:26:49.907Z"
   },
   {
    "duration": 1094,
    "start_time": "2024-12-19T10:28:13.238Z"
   },
   {
    "duration": 1987,
    "start_time": "2024-12-19T10:28:15.258Z"
   },
   {
    "duration": 11,
    "start_time": "2024-12-19T10:28:19.062Z"
   },
   {
    "duration": 12,
    "start_time": "2024-12-19T10:28:20.611Z"
   },
   {
    "duration": 23,
    "start_time": "2024-12-19T10:28:22.082Z"
   },
   {
    "duration": 94,
    "start_time": "2024-12-19T10:28:22.913Z"
   },
   {
    "duration": 9,
    "start_time": "2024-12-19T10:28:24.606Z"
   },
   {
    "duration": 13,
    "start_time": "2024-12-19T10:28:25.595Z"
   },
   {
    "duration": 7,
    "start_time": "2024-12-19T10:28:27.184Z"
   },
   {
    "duration": 8,
    "start_time": "2024-12-19T10:28:28.054Z"
   },
   {
    "duration": 8,
    "start_time": "2024-12-19T10:28:29.598Z"
   },
   {
    "duration": 19,
    "start_time": "2024-12-19T10:28:30.346Z"
   },
   {
    "duration": 9,
    "start_time": "2024-12-19T10:28:31.852Z"
   },
   {
    "duration": 39,
    "start_time": "2024-12-19T10:28:32.667Z"
   },
   {
    "duration": 8,
    "start_time": "2024-12-19T10:28:34.336Z"
   },
   {
    "duration": 23,
    "start_time": "2024-12-19T10:28:35.136Z"
   },
   {
    "duration": 6,
    "start_time": "2024-12-19T10:28:37.756Z"
   },
   {
    "duration": 52,
    "start_time": "2024-12-19T10:28:41.364Z"
   },
   {
    "duration": 5,
    "start_time": "2024-12-19T10:28:44.314Z"
   },
   {
    "duration": 22,
    "start_time": "2024-12-19T10:28:47.210Z"
   },
   {
    "duration": 163,
    "start_time": "2024-12-19T10:29:33.663Z"
   },
   {
    "duration": 550,
    "start_time": "2024-12-19T10:29:35.200Z"
   },
   {
    "duration": 97,
    "start_time": "2024-12-19T10:29:37.592Z"
   },
   {
    "duration": 56,
    "start_time": "2024-12-19T10:30:13.609Z"
   },
   {
    "duration": 10,
    "start_time": "2024-12-19T10:30:20.874Z"
   },
   {
    "duration": 132,
    "start_time": "2024-12-19T10:30:22.054Z"
   },
   {
    "duration": 24,
    "start_time": "2024-12-19T11:10:35.946Z"
   },
   {
    "duration": 53,
    "start_time": "2024-12-19T11:10:37.041Z"
   },
   {
    "duration": 512,
    "start_time": "2024-12-19T11:10:37.978Z"
   },
   {
    "duration": 54,
    "start_time": "2024-12-19T11:10:38.713Z"
   },
   {
    "duration": 11,
    "start_time": "2024-12-19T11:10:40.805Z"
   },
   {
    "duration": 136,
    "start_time": "2024-12-19T11:10:41.896Z"
   },
   {
    "duration": 13,
    "start_time": "2024-12-19T11:14:23.105Z"
   },
   {
    "duration": 12,
    "start_time": "2024-12-19T11:14:37.231Z"
   },
   {
    "duration": 8,
    "start_time": "2024-12-19T11:15:26.333Z"
   },
   {
    "duration": 8,
    "start_time": "2024-12-19T11:16:01.299Z"
   },
   {
    "duration": 17,
    "start_time": "2024-12-19T11:17:55.224Z"
   },
   {
    "duration": 44,
    "start_time": "2024-12-19T11:32:36.999Z"
   },
   {
    "duration": 86,
    "start_time": "2024-12-19T11:34:39.303Z"
   },
   {
    "duration": 5,
    "start_time": "2024-12-19T11:35:40.257Z"
   },
   {
    "duration": 87,
    "start_time": "2024-12-19T11:40:34.664Z"
   },
   {
    "duration": 4,
    "start_time": "2024-12-19T11:40:35.978Z"
   },
   {
    "duration": 10,
    "start_time": "2024-12-19T11:46:46.533Z"
   },
   {
    "duration": 67,
    "start_time": "2024-12-19T11:47:13.190Z"
   },
   {
    "duration": 20,
    "start_time": "2024-12-19T12:14:15.669Z"
   },
   {
    "duration": 19,
    "start_time": "2024-12-19T12:14:18.901Z"
   },
   {
    "duration": 50,
    "start_time": "2024-12-19T12:17:00.379Z"
   },
   {
    "duration": 90,
    "start_time": "2024-12-19T12:31:23.098Z"
   },
   {
    "duration": 110,
    "start_time": "2024-12-19T12:31:44.501Z"
   },
   {
    "duration": 101,
    "start_time": "2024-12-19T12:34:34.656Z"
   },
   {
    "duration": 27,
    "start_time": "2024-12-19T12:37:10.448Z"
   },
   {
    "duration": 57,
    "start_time": "2024-12-19T12:39:05.468Z"
   },
   {
    "duration": 210,
    "start_time": "2024-12-19T12:49:00.319Z"
   },
   {
    "duration": 102,
    "start_time": "2024-12-19T12:49:46.649Z"
   },
   {
    "duration": 14,
    "start_time": "2024-12-19T12:50:13.359Z"
   },
   {
    "duration": 11,
    "start_time": "2024-12-19T12:50:23.882Z"
   },
   {
    "duration": 12,
    "start_time": "2024-12-19T12:51:06.612Z"
   },
   {
    "duration": 255,
    "start_time": "2024-12-19T12:52:42.954Z"
   },
   {
    "duration": 324,
    "start_time": "2024-12-19T12:52:53.436Z"
   },
   {
    "duration": 1140,
    "start_time": "2024-12-19T13:16:50.390Z"
   },
   {
    "duration": 2066,
    "start_time": "2024-12-19T13:16:52.278Z"
   },
   {
    "duration": 12,
    "start_time": "2024-12-19T13:16:56.026Z"
   },
   {
    "duration": 13,
    "start_time": "2024-12-19T13:16:56.853Z"
   },
   {
    "duration": 25,
    "start_time": "2024-12-19T13:16:58.809Z"
   },
   {
    "duration": 97,
    "start_time": "2024-12-19T13:16:59.740Z"
   },
   {
    "duration": 10,
    "start_time": "2024-12-19T13:17:01.314Z"
   },
   {
    "duration": 13,
    "start_time": "2024-12-19T13:17:02.151Z"
   },
   {
    "duration": 7,
    "start_time": "2024-12-19T13:17:03.682Z"
   },
   {
    "duration": 9,
    "start_time": "2024-12-19T13:17:04.500Z"
   },
   {
    "duration": 8,
    "start_time": "2024-12-19T13:17:05.973Z"
   },
   {
    "duration": 19,
    "start_time": "2024-12-19T13:17:06.815Z"
   },
   {
    "duration": 9,
    "start_time": "2024-12-19T13:17:08.248Z"
   },
   {
    "duration": 39,
    "start_time": "2024-12-19T13:17:09.084Z"
   },
   {
    "duration": 8,
    "start_time": "2024-12-19T13:17:10.599Z"
   },
   {
    "duration": 25,
    "start_time": "2024-12-19T13:17:11.384Z"
   },
   {
    "duration": 6,
    "start_time": "2024-12-19T13:17:13.586Z"
   },
   {
    "duration": 52,
    "start_time": "2024-12-19T13:17:14.374Z"
   },
   {
    "duration": 5,
    "start_time": "2024-12-19T13:17:15.086Z"
   },
   {
    "duration": 25,
    "start_time": "2024-12-19T13:17:15.821Z"
   },
   {
    "duration": 162,
    "start_time": "2024-12-19T13:17:16.607Z"
   },
   {
    "duration": 564,
    "start_time": "2024-12-19T13:17:17.798Z"
   },
   {
    "duration": 59,
    "start_time": "2024-12-19T13:17:19.384Z"
   },
   {
    "duration": 73,
    "start_time": "2024-12-19T13:17:20.974Z"
   },
   {
    "duration": 145,
    "start_time": "2024-12-19T13:17:21.815Z"
   },
   {
    "duration": 43,
    "start_time": "2024-12-19T13:17:23.997Z"
   },
   {
    "duration": 88,
    "start_time": "2024-12-19T13:17:26.182Z"
   },
   {
    "duration": 5,
    "start_time": "2024-12-19T13:17:27.137Z"
   },
   {
    "duration": 18,
    "start_time": "2024-12-19T13:17:35.931Z"
   },
   {
    "duration": 50,
    "start_time": "2024-12-19T13:17:38.148Z"
   },
   {
    "duration": 99,
    "start_time": "2024-12-19T13:17:39.659Z"
   },
   {
    "duration": 225,
    "start_time": "2024-12-19T13:17:44.065Z"
   },
   {
    "duration": 20,
    "start_time": "2024-12-19T13:18:10.876Z"
   },
   {
    "duration": 56,
    "start_time": "2024-12-19T13:18:17.704Z"
   },
   {
    "duration": 133,
    "start_time": "2024-12-19T13:29:08.285Z"
   },
   {
    "duration": 126,
    "start_time": "2024-12-19T13:37:40.866Z"
   },
   {
    "duration": 5,
    "start_time": "2024-12-19T13:42:59.597Z"
   },
   {
    "duration": 11,
    "start_time": "2024-12-19T13:46:23.979Z"
   },
   {
    "duration": 10,
    "start_time": "2024-12-19T13:47:33.032Z"
   },
   {
    "duration": 9,
    "start_time": "2024-12-19T13:47:38.632Z"
   },
   {
    "duration": 36,
    "start_time": "2024-12-19T13:49:21.348Z"
   },
   {
    "duration": 40,
    "start_time": "2024-12-19T13:49:28.014Z"
   },
   {
    "duration": 158,
    "start_time": "2024-12-19T13:52:02.355Z"
   },
   {
    "duration": 12,
    "start_time": "2024-12-19T13:53:18.297Z"
   },
   {
    "duration": 41,
    "start_time": "2024-12-19T13:53:52.299Z"
   },
   {
    "duration": 53,
    "start_time": "2024-12-19T13:57:29.095Z"
   },
   {
    "duration": 65,
    "start_time": "2024-12-19T13:57:37.151Z"
   },
   {
    "duration": 7,
    "start_time": "2024-12-19T14:00:17.908Z"
   },
   {
    "duration": 10,
    "start_time": "2024-12-19T14:01:45.455Z"
   },
   {
    "duration": 13,
    "start_time": "2024-12-19T14:01:53.915Z"
   },
   {
    "duration": 8,
    "start_time": "2024-12-19T14:02:49.841Z"
   },
   {
    "duration": 11,
    "start_time": "2024-12-19T14:02:58.721Z"
   },
   {
    "duration": 137,
    "start_time": "2024-12-19T14:03:46.123Z"
   },
   {
    "duration": 1345,
    "start_time": "2024-12-19T15:28:01.377Z"
   },
   {
    "duration": 2197,
    "start_time": "2024-12-19T15:28:14.001Z"
   },
   {
    "duration": 11,
    "start_time": "2024-12-19T15:28:18.730Z"
   },
   {
    "duration": 16,
    "start_time": "2024-12-19T15:28:52.090Z"
   },
   {
    "duration": 25,
    "start_time": "2024-12-19T15:28:54.822Z"
   },
   {
    "duration": 96,
    "start_time": "2024-12-19T15:28:55.511Z"
   },
   {
    "duration": 22,
    "start_time": "2024-12-19T15:28:56.754Z"
   },
   {
    "duration": 15,
    "start_time": "2024-12-19T15:28:57.381Z"
   },
   {
    "duration": 9,
    "start_time": "2024-12-19T15:28:58.579Z"
   },
   {
    "duration": 11,
    "start_time": "2024-12-19T15:28:59.178Z"
   },
   {
    "duration": 9,
    "start_time": "2024-12-19T15:29:00.328Z"
   },
   {
    "duration": 26,
    "start_time": "2024-12-19T15:29:00.920Z"
   },
   {
    "duration": 10,
    "start_time": "2024-12-19T15:29:02.125Z"
   },
   {
    "duration": 68,
    "start_time": "2024-12-19T15:29:02.723Z"
   },
   {
    "duration": 10,
    "start_time": "2024-12-19T15:29:04.174Z"
   },
   {
    "duration": 22,
    "start_time": "2024-12-19T15:29:05.684Z"
   },
   {
    "duration": 21,
    "start_time": "2024-12-19T15:29:12.950Z"
   },
   {
    "duration": 62,
    "start_time": "2024-12-19T15:29:52.712Z"
   },
   {
    "duration": 6,
    "start_time": "2024-12-19T15:30:15.389Z"
   },
   {
    "duration": 22,
    "start_time": "2024-12-19T15:30:24.418Z"
   },
   {
    "duration": 31,
    "start_time": "2024-12-19T15:30:44.195Z"
   },
   {
    "duration": 185,
    "start_time": "2024-12-19T15:30:50.610Z"
   },
   {
    "duration": 590,
    "start_time": "2024-12-19T15:30:59.986Z"
   },
   {
    "duration": 57,
    "start_time": "2024-12-19T15:31:13.138Z"
   },
   {
    "duration": 100,
    "start_time": "2024-12-19T15:32:50.809Z"
   },
   {
    "duration": 194,
    "start_time": "2024-12-19T15:32:57.920Z"
   },
   {
    "duration": 162,
    "start_time": "2024-12-19T15:33:21.266Z"
   },
   {
    "duration": 49,
    "start_time": "2024-12-19T15:35:24.797Z"
   },
   {
    "duration": 125,
    "start_time": "2024-12-19T15:36:47.191Z"
   },
   {
    "duration": 15,
    "start_time": "2024-12-19T15:37:19.089Z"
   },
   {
    "duration": 27,
    "start_time": "2024-12-19T15:40:07.312Z"
   },
   {
    "duration": 95,
    "start_time": "2024-12-19T15:40:15.009Z"
   },
   {
    "duration": 90,
    "start_time": "2024-12-19T15:40:30.935Z"
   },
   {
    "duration": 175,
    "start_time": "2024-12-19T15:48:00.333Z"
   },
   {
    "duration": 13,
    "start_time": "2024-12-19T15:48:11.424Z"
   },
   {
    "duration": 25,
    "start_time": "2024-12-19T15:48:23.910Z"
   },
   {
    "duration": 9,
    "start_time": "2024-12-19T15:48:32.117Z"
   },
   {
    "duration": 1016,
    "start_time": "2024-12-19T15:48:40.356Z"
   },
   {
    "duration": 11,
    "start_time": "2024-12-19T15:49:00.469Z"
   },
   {
    "duration": 9,
    "start_time": "2024-12-19T15:50:32.019Z"
   },
   {
    "duration": 8,
    "start_time": "2024-12-19T15:51:07.198Z"
   },
   {
    "duration": 37,
    "start_time": "2024-12-19T15:52:20.825Z"
   },
   {
    "duration": 9,
    "start_time": "2024-12-19T15:53:20.324Z"
   },
   {
    "duration": 16,
    "start_time": "2024-12-19T15:53:45.880Z"
   },
   {
    "duration": 11,
    "start_time": "2024-12-19T15:54:02.902Z"
   },
   {
    "duration": 96,
    "start_time": "2024-12-19T16:07:41.325Z"
   },
   {
    "duration": 27,
    "start_time": "2024-12-19T16:08:01.983Z"
   },
   {
    "duration": 93,
    "start_time": "2024-12-19T16:08:04.452Z"
   },
   {
    "duration": 398,
    "start_time": "2024-12-19T16:30:38.592Z"
   },
   {
    "duration": 117,
    "start_time": "2024-12-19T16:30:53.412Z"
   },
   {
    "duration": 16,
    "start_time": "2024-12-19T16:35:54.263Z"
   },
   {
    "duration": 11,
    "start_time": "2024-12-19T16:36:18.810Z"
   },
   {
    "duration": 47,
    "start_time": "2024-12-19T16:36:26.904Z"
   },
   {
    "duration": 77,
    "start_time": "2024-12-19T16:36:33.944Z"
   },
   {
    "duration": 4,
    "start_time": "2024-12-19T16:40:29.202Z"
   },
   {
    "duration": 20,
    "start_time": "2024-12-19T16:41:15.051Z"
   },
   {
    "duration": 11,
    "start_time": "2024-12-19T16:41:20.893Z"
   },
   {
    "duration": 18,
    "start_time": "2024-12-19T16:42:14.150Z"
   },
   {
    "duration": 16,
    "start_time": "2024-12-19T16:43:02.945Z"
   },
   {
    "duration": 1053,
    "start_time": "2024-12-19T16:45:31.472Z"
   },
   {
    "duration": 2306,
    "start_time": "2024-12-19T16:45:33.230Z"
   },
   {
    "duration": 13,
    "start_time": "2024-12-19T16:45:37.329Z"
   },
   {
    "duration": 12,
    "start_time": "2024-12-19T16:45:38.013Z"
   },
   {
    "duration": 21,
    "start_time": "2024-12-19T16:45:39.492Z"
   },
   {
    "duration": 96,
    "start_time": "2024-12-19T16:45:40.294Z"
   },
   {
    "duration": 12,
    "start_time": "2024-12-19T16:45:41.865Z"
   },
   {
    "duration": 17,
    "start_time": "2024-12-19T16:45:42.651Z"
   },
   {
    "duration": 6,
    "start_time": "2024-12-19T16:45:44.132Z"
   },
   {
    "duration": 8,
    "start_time": "2024-12-19T16:45:44.904Z"
   },
   {
    "duration": 7,
    "start_time": "2024-12-19T16:45:46.310Z"
   },
   {
    "duration": 15,
    "start_time": "2024-12-19T16:45:47.002Z"
   },
   {
    "duration": 11,
    "start_time": "2024-12-19T16:45:48.461Z"
   },
   {
    "duration": 45,
    "start_time": "2024-12-19T16:45:49.202Z"
   },
   {
    "duration": 8,
    "start_time": "2024-12-19T16:45:50.633Z"
   },
   {
    "duration": 35,
    "start_time": "2024-12-19T16:45:51.471Z"
   },
   {
    "duration": 7,
    "start_time": "2024-12-19T16:45:53.825Z"
   },
   {
    "duration": 55,
    "start_time": "2024-12-19T16:45:54.633Z"
   },
   {
    "duration": 16,
    "start_time": "2024-12-19T16:45:55.349Z"
   },
   {
    "duration": 19,
    "start_time": "2024-12-19T16:45:56.119Z"
   },
   {
    "duration": 159,
    "start_time": "2024-12-19T16:45:56.890Z"
   },
   {
    "duration": 499,
    "start_time": "2024-12-19T16:45:57.695Z"
   },
   {
    "duration": 51,
    "start_time": "2024-12-19T16:45:58.495Z"
   },
   {
    "duration": 87,
    "start_time": "2024-12-19T16:46:00.425Z"
   },
   {
    "duration": 134,
    "start_time": "2024-12-19T16:46:01.269Z"
   },
   {
    "duration": 48,
    "start_time": "2024-12-19T16:46:03.535Z"
   },
   {
    "duration": 87,
    "start_time": "2024-12-19T16:46:05.225Z"
   },
   {
    "duration": 5,
    "start_time": "2024-12-19T16:46:06.032Z"
   },
   {
    "duration": 82,
    "start_time": "2024-12-19T16:46:09.086Z"
   },
   {
    "duration": 21,
    "start_time": "2024-12-19T16:46:13.808Z"
   },
   {
    "duration": 90,
    "start_time": "2024-12-19T16:46:14.880Z"
   },
   {
    "duration": 478,
    "start_time": "2024-12-19T16:46:21.499Z"
   },
   {
    "duration": 18,
    "start_time": "2024-12-19T16:47:29.297Z"
   },
   {
    "duration": 56,
    "start_time": "2024-12-19T16:50:14.954Z"
   },
   {
    "duration": 96,
    "start_time": "2024-12-19T16:52:45.233Z"
   },
   {
    "duration": 38,
    "start_time": "2024-12-19T16:52:52.137Z"
   },
   {
    "duration": 20,
    "start_time": "2024-12-19T16:53:07.730Z"
   },
   {
    "duration": 26,
    "start_time": "2024-12-19T16:55:08.034Z"
   },
   {
    "duration": 21,
    "start_time": "2024-12-19T16:57:20.626Z"
   },
   {
    "duration": 7,
    "start_time": "2024-12-19T17:06:35.290Z"
   },
   {
    "duration": 7,
    "start_time": "2024-12-19T17:07:13.006Z"
   },
   {
    "duration": 33,
    "start_time": "2024-12-19T17:10:39.431Z"
   },
   {
    "duration": 6,
    "start_time": "2024-12-19T17:11:09.877Z"
   },
   {
    "duration": 1038,
    "start_time": "2024-12-19T17:18:59.605Z"
   },
   {
    "duration": 4137,
    "start_time": "2024-12-19T17:19:01.995Z"
   },
   {
    "duration": 1110,
    "start_time": "2024-12-19T17:19:24.582Z"
   },
   {
    "duration": 8238,
    "start_time": "2024-12-19T17:19:27.906Z"
   },
   {
    "duration": 16191,
    "start_time": "2024-12-19T17:19:54.626Z"
   },
   {
    "duration": 13368,
    "start_time": "2024-12-19T17:20:50.846Z"
   },
   {
    "duration": 1048,
    "start_time": "2024-12-19T17:21:14.685Z"
   },
   {
    "duration": 8198,
    "start_time": "2024-12-19T17:21:16.704Z"
   },
   {
    "duration": 8114,
    "start_time": "2024-12-19T17:21:57.282Z"
   },
   {
    "duration": 3712,
    "start_time": "2024-12-19T17:22:39.734Z"
   },
   {
    "duration": 18,
    "start_time": "2024-12-19T17:22:52.949Z"
   },
   {
    "duration": 20,
    "start_time": "2024-12-19T17:22:53.973Z"
   },
   {
    "duration": 20,
    "start_time": "2024-12-19T17:22:55.590Z"
   },
   {
    "duration": 94,
    "start_time": "2024-12-19T17:22:56.503Z"
   },
   {
    "duration": 10,
    "start_time": "2024-12-19T17:22:58.285Z"
   },
   {
    "duration": 11,
    "start_time": "2024-12-19T17:22:59.221Z"
   },
   {
    "duration": 7,
    "start_time": "2024-12-19T17:23:00.790Z"
   },
   {
    "duration": 9,
    "start_time": "2024-12-19T17:23:01.597Z"
   },
   {
    "duration": 7,
    "start_time": "2024-12-19T17:23:03.199Z"
   },
   {
    "duration": 17,
    "start_time": "2024-12-19T17:23:04.186Z"
   },
   {
    "duration": 11,
    "start_time": "2024-12-19T17:23:05.567Z"
   },
   {
    "duration": 33,
    "start_time": "2024-12-19T17:23:06.398Z"
   },
   {
    "duration": 7,
    "start_time": "2024-12-19T17:23:07.816Z"
   },
   {
    "duration": 31,
    "start_time": "2024-12-19T17:23:08.533Z"
   },
   {
    "duration": 5,
    "start_time": "2024-12-19T17:23:10.781Z"
   },
   {
    "duration": 82,
    "start_time": "2024-12-19T17:23:11.565Z"
   },
   {
    "duration": 5,
    "start_time": "2024-12-19T17:23:12.266Z"
   },
   {
    "duration": 23,
    "start_time": "2024-12-19T17:23:12.965Z"
   },
   {
    "duration": 180,
    "start_time": "2024-12-19T17:23:13.704Z"
   },
   {
    "duration": 519,
    "start_time": "2024-12-19T17:23:14.477Z"
   },
   {
    "duration": 54,
    "start_time": "2024-12-19T17:23:15.265Z"
   },
   {
    "duration": 71,
    "start_time": "2024-12-19T17:23:17.038Z"
   },
   {
    "duration": 128,
    "start_time": "2024-12-19T17:23:18.010Z"
   },
   {
    "duration": 49,
    "start_time": "2024-12-19T17:23:21.173Z"
   },
   {
    "duration": 86,
    "start_time": "2024-12-19T17:23:22.821Z"
   },
   {
    "duration": 5,
    "start_time": "2024-12-19T17:23:23.637Z"
   },
   {
    "duration": 76,
    "start_time": "2024-12-19T17:23:26.948Z"
   },
   {
    "duration": 23,
    "start_time": "2024-12-19T17:23:27.862Z"
   },
   {
    "duration": 72,
    "start_time": "2024-12-19T17:23:28.824Z"
   },
   {
    "duration": 446,
    "start_time": "2024-12-19T17:23:30.700Z"
   },
   {
    "duration": 14,
    "start_time": "2024-12-19T17:23:33.500Z"
   },
   {
    "duration": 69,
    "start_time": "2024-12-19T17:23:35.536Z"
   },
   {
    "duration": 5,
    "start_time": "2024-12-19T17:23:39.924Z"
   },
   {
    "duration": 15,
    "start_time": "2024-12-19T17:24:01.810Z"
   },
   {
    "duration": 20,
    "start_time": "2024-12-19T17:27:13.883Z"
   },
   {
    "duration": 10,
    "start_time": "2024-12-19T17:29:20.001Z"
   },
   {
    "duration": 18,
    "start_time": "2024-12-19T17:29:49.168Z"
   },
   {
    "duration": 277,
    "start_time": "2024-12-19T17:30:07.512Z"
   },
   {
    "duration": 287,
    "start_time": "2024-12-19T17:30:30.796Z"
   },
   {
    "duration": 258,
    "start_time": "2024-12-19T17:30:38.173Z"
   },
   {
    "duration": 258,
    "start_time": "2024-12-19T17:35:52.025Z"
   },
   {
    "duration": 260,
    "start_time": "2024-12-19T17:36:01.965Z"
   },
   {
    "duration": 11,
    "start_time": "2024-12-19T17:36:07.518Z"
   },
   {
    "duration": 19,
    "start_time": "2024-12-19T17:36:14.593Z"
   },
   {
    "duration": 1351,
    "start_time": "2024-12-20T07:10:28.464Z"
   },
   {
    "duration": 2816,
    "start_time": "2024-12-20T07:10:31.768Z"
   },
   {
    "duration": 12,
    "start_time": "2024-12-20T07:10:36.078Z"
   },
   {
    "duration": 11,
    "start_time": "2024-12-20T07:10:36.887Z"
   },
   {
    "duration": 25,
    "start_time": "2024-12-20T07:10:38.435Z"
   },
   {
    "duration": 92,
    "start_time": "2024-12-20T07:10:39.191Z"
   },
   {
    "duration": 14,
    "start_time": "2024-12-20T07:10:40.665Z"
   },
   {
    "duration": 11,
    "start_time": "2024-12-20T07:10:41.435Z"
   },
   {
    "duration": 9,
    "start_time": "2024-12-20T07:10:42.935Z"
   },
   {
    "duration": 16,
    "start_time": "2024-12-20T07:10:43.750Z"
   },
   {
    "duration": 7,
    "start_time": "2024-12-20T07:11:31.587Z"
   },
   {
    "duration": 17,
    "start_time": "2024-12-20T07:11:34.391Z"
   },
   {
    "duration": 8,
    "start_time": "2024-12-20T07:11:38.934Z"
   },
   {
    "duration": 32,
    "start_time": "2024-12-20T07:11:41.104Z"
   },
   {
    "duration": 8,
    "start_time": "2024-12-20T07:11:43.411Z"
   },
   {
    "duration": 21,
    "start_time": "2024-12-20T07:11:44.176Z"
   },
   {
    "duration": 6,
    "start_time": "2024-12-20T07:11:46.737Z"
   },
   {
    "duration": 45,
    "start_time": "2024-12-20T07:11:47.669Z"
   },
   {
    "duration": 5,
    "start_time": "2024-12-20T07:11:54.295Z"
   },
   {
    "duration": 19,
    "start_time": "2024-12-20T07:11:55.691Z"
   },
   {
    "duration": 166,
    "start_time": "2024-12-20T07:11:59.353Z"
   },
   {
    "duration": 499,
    "start_time": "2024-12-20T07:12:00.435Z"
   },
   {
    "duration": 51,
    "start_time": "2024-12-20T07:12:02.367Z"
   },
   {
    "duration": 70,
    "start_time": "2024-12-20T07:12:05.044Z"
   },
   {
    "duration": 129,
    "start_time": "2024-12-20T07:12:05.909Z"
   },
   {
    "duration": 53,
    "start_time": "2024-12-20T07:12:10.835Z"
   },
   {
    "duration": 86,
    "start_time": "2024-12-20T07:12:13.478Z"
   },
   {
    "duration": 4,
    "start_time": "2024-12-20T07:12:15.012Z"
   },
   {
    "duration": 67,
    "start_time": "2024-12-20T07:12:22.082Z"
   },
   {
    "duration": 31,
    "start_time": "2024-12-20T07:12:23.045Z"
   },
   {
    "duration": 78,
    "start_time": "2024-12-20T07:12:23.944Z"
   },
   {
    "duration": 448,
    "start_time": "2024-12-20T07:12:26.938Z"
   },
   {
    "duration": 14,
    "start_time": "2024-12-20T07:12:30.765Z"
   },
   {
    "duration": 53,
    "start_time": "2024-12-20T07:13:28.848Z"
   },
   {
    "duration": 11,
    "start_time": "2024-12-20T07:13:37.917Z"
   },
   {
    "duration": 274,
    "start_time": "2024-12-20T07:15:05.566Z"
   },
   {
    "duration": 412,
    "start_time": "2024-12-20T07:18:24.077Z"
   },
   {
    "duration": 18,
    "start_time": "2024-12-20T07:18:26.138Z"
   },
   {
    "duration": 54,
    "start_time": "2024-12-20T07:18:26.935Z"
   },
   {
    "duration": 22,
    "start_time": "2024-12-20T07:18:27.647Z"
   },
   {
    "duration": 299,
    "start_time": "2024-12-20T07:18:28.550Z"
   },
   {
    "duration": 17,
    "start_time": "2024-12-20T07:18:31.417Z"
   },
   {
    "duration": 60,
    "start_time": "2024-12-20T07:23:16.939Z"
   },
   {
    "duration": 12,
    "start_time": "2024-12-20T07:23:20.340Z"
   },
   {
    "duration": 313,
    "start_time": "2024-12-20T07:23:23.752Z"
   },
   {
    "duration": 18,
    "start_time": "2024-12-20T07:23:26.807Z"
   },
   {
    "duration": 76,
    "start_time": "2024-12-20T07:26:26.143Z"
   },
   {
    "duration": 111,
    "start_time": "2024-12-20T07:27:12.971Z"
   },
   {
    "duration": 130,
    "start_time": "2024-12-20T07:29:43.499Z"
   },
   {
    "duration": 14,
    "start_time": "2024-12-20T07:29:44.183Z"
   },
   {
    "duration": 48,
    "start_time": "2024-12-20T07:29:44.768Z"
   },
   {
    "duration": 11,
    "start_time": "2024-12-20T07:29:45.387Z"
   },
   {
    "duration": 250,
    "start_time": "2024-12-20T07:29:45.987Z"
   },
   {
    "duration": 28,
    "start_time": "2024-12-20T07:29:46.545Z"
   },
   {
    "duration": 100,
    "start_time": "2024-12-20T07:31:23.412Z"
   },
   {
    "duration": 37,
    "start_time": "2024-12-20T07:32:16.653Z"
   },
   {
    "duration": 29,
    "start_time": "2024-12-20T07:32:24.745Z"
   },
   {
    "duration": 34,
    "start_time": "2024-12-20T07:34:18.895Z"
   },
   {
    "duration": 105,
    "start_time": "2024-12-20T08:01:43.961Z"
   },
   {
    "duration": 6,
    "start_time": "2024-12-20T08:04:59.141Z"
   },
   {
    "duration": 7,
    "start_time": "2024-12-20T08:05:15.564Z"
   },
   {
    "duration": 8,
    "start_time": "2024-12-20T08:06:07.565Z"
   },
   {
    "duration": 42,
    "start_time": "2024-12-20T08:06:14.266Z"
   },
   {
    "duration": 435,
    "start_time": "2024-12-20T08:15:58.272Z"
   },
   {
    "duration": 307,
    "start_time": "2024-12-20T08:18:52.073Z"
   },
   {
    "duration": 4,
    "start_time": "2024-12-20T08:21:24.477Z"
   },
   {
    "duration": 4,
    "start_time": "2024-12-20T08:22:21.193Z"
   },
   {
    "duration": 1107,
    "start_time": "2024-12-20T08:30:05.778Z"
   },
   {
    "duration": 3373,
    "start_time": "2024-12-20T08:30:06.887Z"
   },
   {
    "duration": 15,
    "start_time": "2024-12-20T08:30:10.262Z"
   },
   {
    "duration": 36,
    "start_time": "2024-12-20T08:30:10.280Z"
   },
   {
    "duration": 21,
    "start_time": "2024-12-20T08:30:11.190Z"
   },
   {
    "duration": 99,
    "start_time": "2024-12-20T08:30:12.131Z"
   },
   {
    "duration": 8,
    "start_time": "2024-12-20T08:30:13.704Z"
   },
   {
    "duration": 12,
    "start_time": "2024-12-20T08:30:14.477Z"
   },
   {
    "duration": 7,
    "start_time": "2024-12-20T08:30:15.874Z"
   },
   {
    "duration": 8,
    "start_time": "2024-12-20T08:30:16.610Z"
   },
   {
    "duration": 8,
    "start_time": "2024-12-20T08:30:18.030Z"
   },
   {
    "duration": 35,
    "start_time": "2024-12-20T08:30:18.737Z"
   },
   {
    "duration": 19,
    "start_time": "2024-12-20T08:30:20.161Z"
   },
   {
    "duration": 34,
    "start_time": "2024-12-20T08:30:20.893Z"
   },
   {
    "duration": 7,
    "start_time": "2024-12-20T08:30:22.538Z"
   },
   {
    "duration": 20,
    "start_time": "2024-12-20T08:30:23.418Z"
   },
   {
    "duration": 5,
    "start_time": "2024-12-20T08:30:25.617Z"
   },
   {
    "duration": 50,
    "start_time": "2024-12-20T08:30:26.370Z"
   },
   {
    "duration": 5,
    "start_time": "2024-12-20T08:30:27.081Z"
   },
   {
    "duration": 35,
    "start_time": "2024-12-20T08:30:27.843Z"
   },
   {
    "duration": 166,
    "start_time": "2024-12-20T08:30:28.677Z"
   },
   {
    "duration": 502,
    "start_time": "2024-12-20T08:30:29.604Z"
   },
   {
    "duration": 47,
    "start_time": "2024-12-20T08:30:30.289Z"
   },
   {
    "duration": 76,
    "start_time": "2024-12-20T08:30:31.922Z"
   },
   {
    "duration": 130,
    "start_time": "2024-12-20T08:30:32.881Z"
   },
   {
    "duration": 43,
    "start_time": "2024-12-20T08:30:35.284Z"
   },
   {
    "duration": 89,
    "start_time": "2024-12-20T08:30:36.946Z"
   },
   {
    "duration": 4,
    "start_time": "2024-12-20T08:30:37.786Z"
   },
   {
    "duration": 89,
    "start_time": "2024-12-20T08:30:40.833Z"
   },
   {
    "duration": 40,
    "start_time": "2024-12-20T08:30:41.548Z"
   },
   {
    "duration": 80,
    "start_time": "2024-12-20T08:30:42.335Z"
   },
   {
    "duration": 437,
    "start_time": "2024-12-20T08:30:43.912Z"
   },
   {
    "duration": 14,
    "start_time": "2024-12-20T08:30:44.697Z"
   },
   {
    "duration": 69,
    "start_time": "2024-12-20T08:30:45.446Z"
   },
   {
    "duration": 32,
    "start_time": "2024-12-20T08:30:46.347Z"
   },
   {
    "duration": 267,
    "start_time": "2024-12-20T08:30:47.151Z"
   },
   {
    "duration": 17,
    "start_time": "2024-12-20T08:30:47.994Z"
   },
   {
    "duration": 139,
    "start_time": "2024-12-20T08:30:48.676Z"
   },
   {
    "duration": 38,
    "start_time": "2024-12-20T08:30:50.869Z"
   },
   {
    "duration": 8,
    "start_time": "2024-12-20T08:30:51.598Z"
   },
   {
    "duration": 337,
    "start_time": "2024-12-20T08:30:52.343Z"
   },
   {
    "duration": 5,
    "start_time": "2024-12-20T08:30:53.379Z"
   },
   {
    "duration": 5,
    "start_time": "2024-12-20T08:30:54.201Z"
   },
   {
    "duration": 17,
    "start_time": "2024-12-20T08:30:56.473Z"
   },
   {
    "duration": 55,
    "start_time": "2024-12-20T08:30:57.365Z"
   },
   {
    "duration": 96,
    "start_time": "2024-12-20T08:30:58.129Z"
   },
   {
    "duration": 236,
    "start_time": "2024-12-20T08:30:58.842Z"
   },
   {
    "duration": 19,
    "start_time": "2024-12-20T08:30:59.604Z"
   },
   {
    "duration": 50,
    "start_time": "2024-12-20T08:31:00.389Z"
   },
   {
    "duration": 146,
    "start_time": "2024-12-20T08:31:01.858Z"
   },
   {
    "duration": 9,
    "start_time": "2024-12-20T08:31:02.622Z"
   },
   {
    "duration": 44,
    "start_time": "2024-12-20T08:31:03.381Z"
   },
   {
    "duration": 153,
    "start_time": "2024-12-20T08:31:04.030Z"
   },
   {
    "duration": 17,
    "start_time": "2024-12-20T08:31:04.869Z"
   },
   {
    "duration": 10,
    "start_time": "2024-12-20T08:31:05.739Z"
   },
   {
    "duration": 141,
    "start_time": "2024-12-20T08:31:06.443Z"
   },
   {
    "duration": 56,
    "start_time": "2024-12-21T10:34:55.058Z"
   },
   {
    "duration": 46,
    "start_time": "2024-12-21T10:53:11.751Z"
   },
   {
    "duration": 1034,
    "start_time": "2024-12-21T10:53:18.661Z"
   },
   {
    "duration": 2327,
    "start_time": "2024-12-21T10:53:19.696Z"
   },
   {
    "duration": 11,
    "start_time": "2024-12-21T10:53:22.025Z"
   },
   {
    "duration": 17,
    "start_time": "2024-12-21T10:53:22.038Z"
   },
   {
    "duration": 22,
    "start_time": "2024-12-21T10:53:22.056Z"
   },
   {
    "duration": 96,
    "start_time": "2024-12-21T10:53:22.079Z"
   },
   {
    "duration": 9,
    "start_time": "2024-12-21T10:53:22.177Z"
   },
   {
    "duration": 26,
    "start_time": "2024-12-21T10:53:22.188Z"
   },
   {
    "duration": 7,
    "start_time": "2024-12-21T10:53:22.216Z"
   },
   {
    "duration": 9,
    "start_time": "2024-12-21T10:53:22.226Z"
   },
   {
    "duration": 8,
    "start_time": "2024-12-21T10:53:22.236Z"
   },
   {
    "duration": 17,
    "start_time": "2024-12-21T10:53:22.245Z"
   },
   {
    "duration": 8,
    "start_time": "2024-12-21T10:53:22.263Z"
   },
   {
    "duration": 61,
    "start_time": "2024-12-21T10:53:22.272Z"
   },
   {
    "duration": 7,
    "start_time": "2024-12-21T10:53:22.335Z"
   },
   {
    "duration": 33,
    "start_time": "2024-12-21T10:53:22.344Z"
   },
   {
    "duration": 5,
    "start_time": "2024-12-21T10:53:22.378Z"
   },
   {
    "duration": 55,
    "start_time": "2024-12-21T10:53:22.384Z"
   },
   {
    "duration": 4,
    "start_time": "2024-12-21T10:53:22.441Z"
   },
   {
    "duration": 36,
    "start_time": "2024-12-21T10:53:22.446Z"
   },
   {
    "duration": 149,
    "start_time": "2024-12-21T10:53:22.483Z"
   },
   {
    "duration": 468,
    "start_time": "2024-12-21T10:53:22.633Z"
   },
   {
    "duration": 54,
    "start_time": "2024-12-21T10:53:23.102Z"
   },
   {
    "duration": 70,
    "start_time": "2024-12-21T10:53:23.158Z"
   },
   {
    "duration": 122,
    "start_time": "2024-12-21T10:53:23.230Z"
   },
   {
    "duration": 39,
    "start_time": "2024-12-21T10:53:23.354Z"
   },
   {
    "duration": 87,
    "start_time": "2024-12-21T10:53:23.395Z"
   },
   {
    "duration": 93,
    "start_time": "2024-12-21T10:53:23.485Z"
   },
   {
    "duration": 3,
    "start_time": "2024-12-21T10:53:31.767Z"
   },
   {
    "duration": 53,
    "start_time": "2024-12-21T10:53:47.149Z"
   },
   {
    "duration": 4,
    "start_time": "2024-12-21T10:53:49.890Z"
   },
   {
    "duration": 1068,
    "start_time": "2024-12-21T11:19:28.434Z"
   },
   {
    "duration": 1912,
    "start_time": "2024-12-21T11:19:29.504Z"
   },
   {
    "duration": 11,
    "start_time": "2024-12-21T11:19:31.418Z"
   },
   {
    "duration": 17,
    "start_time": "2024-12-21T11:19:31.431Z"
   },
   {
    "duration": 40,
    "start_time": "2024-12-21T11:19:31.449Z"
   },
   {
    "duration": 89,
    "start_time": "2024-12-21T11:19:31.491Z"
   },
   {
    "duration": 9,
    "start_time": "2024-12-21T11:19:31.581Z"
   },
   {
    "duration": 43,
    "start_time": "2024-12-21T11:19:31.591Z"
   },
   {
    "duration": 14,
    "start_time": "2024-12-21T11:19:31.636Z"
   },
   {
    "duration": 25,
    "start_time": "2024-12-21T11:19:31.652Z"
   },
   {
    "duration": 7,
    "start_time": "2024-12-21T11:19:31.679Z"
   },
   {
    "duration": 25,
    "start_time": "2024-12-21T11:19:31.687Z"
   },
   {
    "duration": 8,
    "start_time": "2024-12-21T11:19:31.713Z"
   },
   {
    "duration": 37,
    "start_time": "2024-12-21T11:19:31.722Z"
   },
   {
    "duration": 6,
    "start_time": "2024-12-21T11:19:31.761Z"
   },
   {
    "duration": 38,
    "start_time": "2024-12-21T11:19:31.769Z"
   },
   {
    "duration": 5,
    "start_time": "2024-12-21T11:19:31.809Z"
   },
   {
    "duration": 45,
    "start_time": "2024-12-21T11:19:31.815Z"
   },
   {
    "duration": 5,
    "start_time": "2024-12-21T11:19:31.861Z"
   },
   {
    "duration": 26,
    "start_time": "2024-12-21T11:19:31.867Z"
   },
   {
    "duration": 183,
    "start_time": "2024-12-21T11:19:31.894Z"
   },
   {
    "duration": 506,
    "start_time": "2024-12-21T11:19:32.078Z"
   },
   {
    "duration": 59,
    "start_time": "2024-12-21T11:19:32.585Z"
   },
   {
    "duration": 75,
    "start_time": "2024-12-21T11:19:32.646Z"
   },
   {
    "duration": 129,
    "start_time": "2024-12-21T11:19:32.723Z"
   },
   {
    "duration": 57,
    "start_time": "2024-12-21T11:19:32.854Z"
   },
   {
    "duration": 78,
    "start_time": "2024-12-21T11:19:32.913Z"
   },
   {
    "duration": 21,
    "start_time": "2024-12-21T11:19:32.996Z"
   },
   {
    "duration": 12,
    "start_time": "2024-12-21T11:19:33.019Z"
   },
   {
    "duration": 14,
    "start_time": "2024-12-21T11:19:33.033Z"
   },
   {
    "duration": 74,
    "start_time": "2024-12-21T11:19:33.049Z"
   },
   {
    "duration": 23,
    "start_time": "2024-12-21T11:19:33.125Z"
   },
   {
    "duration": 81,
    "start_time": "2024-12-21T11:19:33.149Z"
   },
   {
    "duration": 380,
    "start_time": "2024-12-21T11:19:33.232Z"
   },
   {
    "duration": 15,
    "start_time": "2024-12-21T11:19:33.613Z"
   },
   {
    "duration": 61,
    "start_time": "2024-12-21T11:19:33.629Z"
   },
   {
    "duration": 20,
    "start_time": "2024-12-21T11:19:33.692Z"
   },
   {
    "duration": 264,
    "start_time": "2024-12-21T11:19:33.714Z"
   },
   {
    "duration": 18,
    "start_time": "2024-12-21T11:19:33.979Z"
   },
   {
    "duration": 142,
    "start_time": "2024-12-21T11:19:33.999Z"
   },
   {
    "duration": 35,
    "start_time": "2024-12-21T11:19:34.143Z"
   },
   {
    "duration": 9,
    "start_time": "2024-12-21T11:19:34.180Z"
   },
   {
    "duration": 339,
    "start_time": "2024-12-21T11:19:34.191Z"
   },
   {
    "duration": 5,
    "start_time": "2024-12-21T11:19:34.531Z"
   },
   {
    "duration": 21,
    "start_time": "2024-12-21T11:19:34.537Z"
   },
   {
    "duration": 36,
    "start_time": "2024-12-21T11:19:34.559Z"
   },
   {
    "duration": 45,
    "start_time": "2024-12-21T11:19:34.597Z"
   },
   {
    "duration": 137,
    "start_time": "2024-12-21T11:19:34.643Z"
   },
   {
    "duration": 199,
    "start_time": "2024-12-21T11:19:34.781Z"
   },
   {
    "duration": 18,
    "start_time": "2024-12-21T11:19:34.982Z"
   },
   {
    "duration": 57,
    "start_time": "2024-12-21T11:19:35.001Z"
   },
   {
    "duration": 123,
    "start_time": "2024-12-21T11:19:35.060Z"
   },
   {
    "duration": 8,
    "start_time": "2024-12-21T11:19:35.185Z"
   },
   {
    "duration": 58,
    "start_time": "2024-12-21T11:19:35.195Z"
   },
   {
    "duration": 144,
    "start_time": "2024-12-21T11:19:35.255Z"
   },
   {
    "duration": 13,
    "start_time": "2024-12-21T11:19:35.410Z"
   },
   {
    "duration": 14,
    "start_time": "2024-12-21T11:19:35.425Z"
   },
   {
    "duration": 114,
    "start_time": "2024-12-21T11:19:35.441Z"
   },
   {
    "duration": 53,
    "start_time": "2024-12-21T11:20:44.754Z"
   },
   {
    "duration": 1288,
    "start_time": "2024-12-22T08:48:39.503Z"
   },
   {
    "duration": 3407,
    "start_time": "2024-12-22T08:48:40.793Z"
   },
   {
    "duration": 2021,
    "start_time": "2024-12-22T08:50:50.223Z"
   },
   {
    "duration": 1059,
    "start_time": "2024-12-22T08:51:39.710Z"
   },
   {
    "duration": 1833,
    "start_time": "2024-12-22T08:51:43.201Z"
   },
   {
    "duration": 3,
    "start_time": "2024-12-22T08:54:23.583Z"
   },
   {
    "duration": 1847,
    "start_time": "2024-12-22T08:54:27.148Z"
   },
   {
    "duration": 11,
    "start_time": "2024-12-22T08:56:30.779Z"
   },
   {
    "duration": 11,
    "start_time": "2024-12-22T08:56:31.432Z"
   },
   {
    "duration": 14,
    "start_time": "2024-12-22T08:58:00.323Z"
   },
   {
    "duration": 14,
    "start_time": "2024-12-22T08:58:21.152Z"
   },
   {
    "duration": 14,
    "start_time": "2024-12-22T08:59:14.173Z"
   },
   {
    "duration": 84,
    "start_time": "2024-12-22T08:59:21.108Z"
   },
   {
    "duration": 9,
    "start_time": "2024-12-22T08:59:22.442Z"
   },
   {
    "duration": 12,
    "start_time": "2024-12-22T08:59:23.135Z"
   },
   {
    "duration": 7,
    "start_time": "2024-12-22T08:59:24.527Z"
   },
   {
    "duration": 9,
    "start_time": "2024-12-22T08:59:25.181Z"
   },
   {
    "duration": 7,
    "start_time": "2024-12-22T08:59:26.394Z"
   },
   {
    "duration": 17,
    "start_time": "2024-12-22T08:59:27.028Z"
   },
   {
    "duration": 8,
    "start_time": "2024-12-22T08:59:28.314Z"
   },
   {
    "duration": 32,
    "start_time": "2024-12-22T08:59:28.973Z"
   },
   {
    "duration": 7,
    "start_time": "2024-12-22T08:59:30.273Z"
   },
   {
    "duration": 20,
    "start_time": "2024-12-22T08:59:30.933Z"
   },
   {
    "duration": 7,
    "start_time": "2024-12-22T08:59:37.675Z"
   },
   {
    "duration": 43,
    "start_time": "2024-12-22T08:59:38.567Z"
   },
   {
    "duration": 5,
    "start_time": "2024-12-22T08:59:54.982Z"
   },
   {
    "duration": 22,
    "start_time": "2024-12-22T08:59:57.224Z"
   },
   {
    "duration": 149,
    "start_time": "2024-12-22T08:59:59.611Z"
   },
   {
    "duration": 532,
    "start_time": "2024-12-22T09:00:04.886Z"
   },
   {
    "duration": 54,
    "start_time": "2024-12-22T09:00:06.253Z"
   },
   {
    "duration": 70,
    "start_time": "2024-12-22T09:00:22.129Z"
   },
   {
    "duration": 114,
    "start_time": "2024-12-22T09:00:23.264Z"
   },
   {
    "duration": 117,
    "start_time": "2024-12-22T09:06:54.345Z"
   },
   {
    "duration": 118,
    "start_time": "2024-12-22T09:07:26.994Z"
   },
   {
    "duration": 127,
    "start_time": "2024-12-22T09:09:32.784Z"
   },
   {
    "duration": 1149,
    "start_time": "2024-12-22T09:10:49.044Z"
   },
   {
    "duration": 2316,
    "start_time": "2024-12-22T09:10:51.109Z"
   },
   {
    "duration": 12,
    "start_time": "2024-12-22T09:10:58.842Z"
   },
   {
    "duration": 11,
    "start_time": "2024-12-22T09:10:59.550Z"
   },
   {
    "duration": 15,
    "start_time": "2024-12-22T09:11:01.701Z"
   },
   {
    "duration": 88,
    "start_time": "2024-12-22T09:11:06.001Z"
   },
   {
    "duration": 9,
    "start_time": "2024-12-22T09:11:07.492Z"
   },
   {
    "duration": 11,
    "start_time": "2024-12-22T09:11:08.220Z"
   },
   {
    "duration": 7,
    "start_time": "2024-12-22T09:11:09.905Z"
   },
   {
    "duration": 9,
    "start_time": "2024-12-22T09:11:10.706Z"
   },
   {
    "duration": 7,
    "start_time": "2024-12-22T09:11:14.597Z"
   },
   {
    "duration": 17,
    "start_time": "2024-12-22T09:11:15.286Z"
   },
   {
    "duration": 8,
    "start_time": "2024-12-22T09:11:16.643Z"
   },
   {
    "duration": 32,
    "start_time": "2024-12-22T09:11:17.343Z"
   },
   {
    "duration": 7,
    "start_time": "2024-12-22T09:11:18.650Z"
   },
   {
    "duration": 20,
    "start_time": "2024-12-22T09:11:19.294Z"
   },
   {
    "duration": 4,
    "start_time": "2024-12-22T09:11:23.478Z"
   },
   {
    "duration": 55,
    "start_time": "2024-12-22T09:11:24.235Z"
   },
   {
    "duration": 5,
    "start_time": "2024-12-22T09:11:26.207Z"
   },
   {
    "duration": 21,
    "start_time": "2024-12-22T09:11:27.965Z"
   },
   {
    "duration": 156,
    "start_time": "2024-12-22T09:11:29.045Z"
   },
   {
    "duration": 500,
    "start_time": "2024-12-22T09:11:30.904Z"
   },
   {
    "duration": 52,
    "start_time": "2024-12-22T09:11:31.706Z"
   },
   {
    "duration": 65,
    "start_time": "2024-12-22T09:11:35.645Z"
   },
   {
    "duration": 117,
    "start_time": "2024-12-22T09:11:36.585Z"
   },
   {
    "duration": 128,
    "start_time": "2024-12-22T09:11:47.278Z"
   },
   {
    "duration": 122,
    "start_time": "2024-12-22T09:12:18.884Z"
   },
   {
    "duration": 4,
    "start_time": "2024-12-22T09:18:37.560Z"
   },
   {
    "duration": 391,
    "start_time": "2024-12-22T09:30:19.913Z"
   },
   {
    "duration": 17,
    "start_time": "2024-12-22T09:32:38.676Z"
   },
   {
    "duration": 56,
    "start_time": "2024-12-22T09:32:39.517Z"
   },
   {
    "duration": 13,
    "start_time": "2024-12-22T09:33:23.702Z"
   },
   {
    "duration": 98,
    "start_time": "2024-12-22T09:37:24.604Z"
   },
   {
    "duration": 48,
    "start_time": "2024-12-22T09:38:11.062Z"
   },
   {
    "duration": 1108,
    "start_time": "2024-12-22T09:38:30.465Z"
   },
   {
    "duration": 2464,
    "start_time": "2024-12-22T09:38:32.365Z"
   },
   {
    "duration": 12,
    "start_time": "2024-12-22T09:38:37.715Z"
   },
   {
    "duration": 12,
    "start_time": "2024-12-22T09:38:38.641Z"
   },
   {
    "duration": 15,
    "start_time": "2024-12-22T09:38:41.111Z"
   },
   {
    "duration": 83,
    "start_time": "2024-12-22T09:38:43.287Z"
   },
   {
    "duration": 9,
    "start_time": "2024-12-22T09:38:44.806Z"
   },
   {
    "duration": 15,
    "start_time": "2024-12-22T09:38:45.575Z"
   },
   {
    "duration": 8,
    "start_time": "2024-12-22T09:38:47.145Z"
   },
   {
    "duration": 11,
    "start_time": "2024-12-22T09:38:47.896Z"
   },
   {
    "duration": 7,
    "start_time": "2024-12-22T09:38:49.365Z"
   },
   {
    "duration": 18,
    "start_time": "2024-12-22T09:38:50.084Z"
   },
   {
    "duration": 9,
    "start_time": "2024-12-22T09:38:51.815Z"
   },
   {
    "duration": 32,
    "start_time": "2024-12-22T09:38:52.507Z"
   },
   {
    "duration": 7,
    "start_time": "2024-12-22T09:38:53.932Z"
   },
   {
    "duration": 21,
    "start_time": "2024-12-22T09:38:54.578Z"
   },
   {
    "duration": 5,
    "start_time": "2024-12-22T09:38:57.329Z"
   },
   {
    "duration": 54,
    "start_time": "2024-12-22T09:38:58.039Z"
   },
   {
    "duration": 6,
    "start_time": "2024-12-22T09:38:59.661Z"
   },
   {
    "duration": 21,
    "start_time": "2024-12-22T09:39:01.120Z"
   },
   {
    "duration": 157,
    "start_time": "2024-12-22T09:39:01.859Z"
   },
   {
    "duration": 473,
    "start_time": "2024-12-22T09:39:03.372Z"
   },
   {
    "duration": 49,
    "start_time": "2024-12-22T09:39:04.154Z"
   },
   {
    "duration": 66,
    "start_time": "2024-12-22T09:39:06.418Z"
   },
   {
    "duration": 110,
    "start_time": "2024-12-22T09:39:07.072Z"
   },
   {
    "duration": 123,
    "start_time": "2024-12-22T09:39:11.129Z"
   },
   {
    "duration": 4,
    "start_time": "2024-12-22T09:39:16.529Z"
   },
   {
    "duration": 65,
    "start_time": "2024-12-22T09:39:20.417Z"
   },
   {
    "duration": 21,
    "start_time": "2024-12-22T09:39:23.337Z"
   },
   {
    "duration": 60,
    "start_time": "2024-12-22T09:39:24.434Z"
   },
   {
    "duration": 375,
    "start_time": "2024-12-22T09:39:29.664Z"
   },
   {
    "duration": 14,
    "start_time": "2024-12-22T09:39:34.475Z"
   },
   {
    "duration": 53,
    "start_time": "2024-12-22T09:39:35.251Z"
   },
   {
    "duration": 12,
    "start_time": "2024-12-22T09:39:42.779Z"
   },
   {
    "duration": 237,
    "start_time": "2024-12-22T09:39:49.800Z"
   },
   {
    "duration": 17,
    "start_time": "2024-12-22T09:39:52.979Z"
   },
   {
    "duration": 123,
    "start_time": "2024-12-22T09:39:54.508Z"
   },
   {
    "duration": 72,
    "start_time": "2024-12-22T09:41:46.535Z"
   },
   {
    "duration": 98,
    "start_time": "2024-12-22T09:46:37.688Z"
   },
   {
    "duration": 35,
    "start_time": "2024-12-22T09:46:41.354Z"
   },
   {
    "duration": 8,
    "start_time": "2024-12-22T09:46:42.555Z"
   },
   {
    "duration": 355,
    "start_time": "2024-12-22T09:46:43.835Z"
   },
   {
    "duration": 334,
    "start_time": "2024-12-22T09:48:52.085Z"
   },
   {
    "duration": 339,
    "start_time": "2024-12-22T09:50:07.300Z"
   },
   {
    "duration": 307,
    "start_time": "2024-12-22T09:51:48.586Z"
   },
   {
    "duration": 4,
    "start_time": "2024-12-22T09:54:14.361Z"
   },
   {
    "duration": 5,
    "start_time": "2024-12-22T09:54:15.082Z"
   },
   {
    "duration": 17,
    "start_time": "2024-12-22T09:54:24.913Z"
   },
   {
    "duration": 48,
    "start_time": "2024-12-22T09:54:25.686Z"
   },
   {
    "duration": 87,
    "start_time": "2024-12-22T09:54:30.264Z"
   },
   {
    "duration": 202,
    "start_time": "2024-12-22T09:54:30.958Z"
   },
   {
    "duration": 15,
    "start_time": "2024-12-22T09:54:35.165Z"
   },
   {
    "duration": 47,
    "start_time": "2024-12-22T09:54:35.837Z"
   },
   {
    "duration": 104,
    "start_time": "2024-12-22T09:54:39.595Z"
   },
   {
    "duration": 10,
    "start_time": "2024-12-22T09:54:40.269Z"
   },
   {
    "duration": 41,
    "start_time": "2024-12-22T09:55:51.380Z"
   },
   {
    "duration": 141,
    "start_time": "2024-12-22T09:55:55.189Z"
   },
   {
    "duration": 13,
    "start_time": "2024-12-22T09:59:33.575Z"
   },
   {
    "duration": 1432,
    "start_time": "2024-12-22T13:57:40.600Z"
   },
   {
    "duration": 2496,
    "start_time": "2024-12-22T13:57:42.036Z"
   },
   {
    "duration": 17,
    "start_time": "2024-12-22T13:57:46.215Z"
   },
   {
    "duration": 14,
    "start_time": "2024-12-22T13:57:47.334Z"
   },
   {
    "duration": 15,
    "start_time": "2024-12-22T13:57:49.320Z"
   },
   {
    "duration": 92,
    "start_time": "2024-12-22T13:57:51.225Z"
   },
   {
    "duration": 11,
    "start_time": "2024-12-22T13:57:52.903Z"
   },
   {
    "duration": 19,
    "start_time": "2024-12-22T13:57:53.563Z"
   },
   {
    "duration": 7,
    "start_time": "2024-12-22T13:57:54.838Z"
   },
   {
    "duration": 11,
    "start_time": "2024-12-22T13:57:55.457Z"
   },
   {
    "duration": 7,
    "start_time": "2024-12-22T13:57:56.745Z"
   },
   {
    "duration": 30,
    "start_time": "2024-12-22T13:57:57.354Z"
   },
   {
    "duration": 11,
    "start_time": "2024-12-22T13:57:58.632Z"
   },
   {
    "duration": 59,
    "start_time": "2024-12-22T13:57:59.245Z"
   },
   {
    "duration": 8,
    "start_time": "2024-12-22T13:58:00.467Z"
   },
   {
    "duration": 29,
    "start_time": "2024-12-22T13:58:01.112Z"
   },
   {
    "duration": 7,
    "start_time": "2024-12-22T13:58:03.855Z"
   },
   {
    "duration": 61,
    "start_time": "2024-12-22T13:58:04.521Z"
   },
   {
    "duration": 7,
    "start_time": "2024-12-22T13:58:05.882Z"
   },
   {
    "duration": 31,
    "start_time": "2024-12-22T13:58:07.222Z"
   },
   {
    "duration": 231,
    "start_time": "2024-12-22T13:58:07.961Z"
   },
   {
    "duration": 683,
    "start_time": "2024-12-22T13:58:09.344Z"
   },
   {
    "duration": 85,
    "start_time": "2024-12-22T13:58:10.127Z"
   },
   {
    "duration": 101,
    "start_time": "2024-12-22T13:58:12.576Z"
   },
   {
    "duration": 137,
    "start_time": "2024-12-22T13:58:13.672Z"
   },
   {
    "duration": 227,
    "start_time": "2024-12-22T13:58:17.890Z"
   },
   {
    "duration": 5,
    "start_time": "2024-12-22T13:58:27.648Z"
   },
   {
    "duration": 72,
    "start_time": "2024-12-22T13:58:32.772Z"
   },
   {
    "duration": 30,
    "start_time": "2024-12-22T13:58:33.554Z"
   },
   {
    "duration": 92,
    "start_time": "2024-12-22T13:58:34.313Z"
   },
   {
    "duration": 394,
    "start_time": "2024-12-22T13:58:38.153Z"
   },
   {
    "duration": 16,
    "start_time": "2024-12-22T13:58:40.356Z"
   },
   {
    "duration": 58,
    "start_time": "2024-12-22T13:58:41.029Z"
   },
   {
    "duration": 19,
    "start_time": "2024-12-22T13:58:42.666Z"
   },
   {
    "duration": 300,
    "start_time": "2024-12-22T13:58:44.742Z"
   },
   {
    "duration": 22,
    "start_time": "2024-12-22T13:58:45.527Z"
   },
   {
    "duration": 162,
    "start_time": "2024-12-22T13:58:46.187Z"
   },
   {
    "duration": 100,
    "start_time": "2024-12-22T13:58:48.346Z"
   },
   {
    "duration": 36,
    "start_time": "2024-12-22T13:58:50.930Z"
   },
   {
    "duration": 12,
    "start_time": "2024-12-22T13:58:51.743Z"
   },
   {
    "duration": 427,
    "start_time": "2024-12-22T13:58:53.503Z"
   },
   {
    "duration": 5,
    "start_time": "2024-12-22T13:58:56.161Z"
   },
   {
    "duration": 7,
    "start_time": "2024-12-22T13:58:57.183Z"
   },
   {
    "duration": 27,
    "start_time": "2024-12-22T13:59:00.451Z"
   },
   {
    "duration": 83,
    "start_time": "2024-12-22T13:59:01.256Z"
   },
   {
    "duration": 122,
    "start_time": "2024-12-22T13:59:03.239Z"
   },
   {
    "duration": 254,
    "start_time": "2024-12-22T13:59:04.082Z"
   },
   {
    "duration": 20,
    "start_time": "2024-12-22T13:59:14.994Z"
   },
   {
    "duration": 99,
    "start_time": "2024-12-22T13:59:16.032Z"
   },
   {
    "duration": 150,
    "start_time": "2024-12-22T13:59:19.328Z"
   },
   {
    "duration": 13,
    "start_time": "2024-12-22T13:59:20.263Z"
   },
   {
    "duration": 51,
    "start_time": "2024-12-22T13:59:31.514Z"
   },
   {
    "duration": 222,
    "start_time": "2024-12-22T13:59:32.532Z"
   },
   {
    "duration": 14,
    "start_time": "2024-12-22T13:59:49.026Z"
   },
   {
    "duration": 16,
    "start_time": "2024-12-22T13:59:50.737Z"
   },
   {
    "duration": 14,
    "start_time": "2024-12-22T14:00:53.924Z"
   },
   {
    "duration": 25,
    "start_time": "2024-12-22T14:02:28.296Z"
   },
   {
    "duration": 14,
    "start_time": "2024-12-22T14:02:30.917Z"
   },
   {
    "duration": 15,
    "start_time": "2024-12-22T14:04:57.325Z"
   },
   {
    "duration": 12,
    "start_time": "2024-12-22T14:05:05.317Z"
   },
   {
    "duration": 12,
    "start_time": "2024-12-22T14:05:15.193Z"
   },
   {
    "duration": 12,
    "start_time": "2024-12-22T14:06:03.027Z"
   },
   {
    "duration": 9,
    "start_time": "2024-12-22T14:06:56.663Z"
   },
   {
    "duration": 14,
    "start_time": "2024-12-22T14:08:48.699Z"
   },
   {
    "duration": 10,
    "start_time": "2024-12-22T14:11:39.232Z"
   },
   {
    "duration": 11,
    "start_time": "2024-12-22T14:13:43.535Z"
   },
   {
    "duration": 11,
    "start_time": "2024-12-22T14:13:51.612Z"
   },
   {
    "duration": 11,
    "start_time": "2024-12-22T14:14:09.462Z"
   },
   {
    "duration": 11,
    "start_time": "2024-12-22T14:14:13.078Z"
   },
   {
    "duration": 11,
    "start_time": "2024-12-22T14:14:17.165Z"
   },
   {
    "duration": 11,
    "start_time": "2024-12-22T14:14:24.340Z"
   },
   {
    "duration": 11,
    "start_time": "2024-12-22T14:14:28.482Z"
   },
   {
    "duration": 4,
    "start_time": "2024-12-22T14:17:27.379Z"
   },
   {
    "duration": 3,
    "start_time": "2024-12-22T14:18:09.850Z"
   },
   {
    "duration": 10,
    "start_time": "2024-12-22T14:20:18.440Z"
   },
   {
    "duration": 10,
    "start_time": "2024-12-22T14:20:28.042Z"
   },
   {
    "duration": 10,
    "start_time": "2024-12-22T14:20:31.755Z"
   },
   {
    "duration": 94,
    "start_time": "2024-12-22T14:25:40.570Z"
   },
   {
    "duration": 12,
    "start_time": "2024-12-22T14:25:56.833Z"
   },
   {
    "duration": 16,
    "start_time": "2024-12-22T14:30:10.737Z"
   },
   {
    "duration": 114,
    "start_time": "2024-12-22T14:35:28.995Z"
   },
   {
    "duration": 14,
    "start_time": "2024-12-22T14:36:37.167Z"
   },
   {
    "duration": 116,
    "start_time": "2024-12-22T14:36:39.939Z"
   },
   {
    "duration": 111,
    "start_time": "2024-12-22T14:37:04.969Z"
   },
   {
    "duration": 13,
    "start_time": "2024-12-22T14:37:15.846Z"
   },
   {
    "duration": 11,
    "start_time": "2024-12-22T14:37:17.859Z"
   },
   {
    "duration": 134,
    "start_time": "2024-12-22T14:37:21.483Z"
   },
   {
    "duration": 11,
    "start_time": "2024-12-22T14:38:08.075Z"
   },
   {
    "duration": 208,
    "start_time": "2024-12-22T14:38:12.043Z"
   },
   {
    "duration": 11,
    "start_time": "2024-12-22T14:38:20.465Z"
   },
   {
    "duration": 139,
    "start_time": "2024-12-22T14:38:22.267Z"
   },
   {
    "duration": 4,
    "start_time": "2024-12-22T14:41:37.669Z"
   },
   {
    "duration": 13,
    "start_time": "2024-12-22T14:43:27.243Z"
   },
   {
    "duration": 133,
    "start_time": "2024-12-22T14:45:15.142Z"
   },
   {
    "duration": 517,
    "start_time": "2024-12-22T14:47:30.669Z"
   },
   {
    "duration": 526,
    "start_time": "2024-12-22T14:47:35.269Z"
   },
   {
    "duration": 123,
    "start_time": "2024-12-22T14:49:51.947Z"
   },
   {
    "duration": 418,
    "start_time": "2024-12-22T14:50:40.552Z"
   },
   {
    "duration": 368,
    "start_time": "2024-12-22T14:50:43.797Z"
   },
   {
    "duration": 124,
    "start_time": "2024-12-22T14:50:48.891Z"
   },
   {
    "duration": 510,
    "start_time": "2024-12-22T14:53:10.844Z"
   },
   {
    "duration": 530,
    "start_time": "2024-12-22T14:53:29.015Z"
   },
   {
    "duration": 121,
    "start_time": "2024-12-22T14:53:42.844Z"
   },
   {
    "duration": 11,
    "start_time": "2024-12-22T14:54:04.132Z"
   },
   {
    "duration": 13,
    "start_time": "2024-12-22T14:54:31.120Z"
   },
   {
    "duration": 12,
    "start_time": "2024-12-22T14:54:38.637Z"
   },
   {
    "duration": 139,
    "start_time": "2024-12-22T14:55:10.027Z"
   },
   {
    "duration": 1356,
    "start_time": "2024-12-22T19:01:56.871Z"
   },
   {
    "duration": 2624,
    "start_time": "2024-12-22T19:01:59.512Z"
   },
   {
    "duration": 13,
    "start_time": "2024-12-22T19:02:04.532Z"
   },
   {
    "duration": 11,
    "start_time": "2024-12-22T19:02:05.253Z"
   },
   {
    "duration": 15,
    "start_time": "2024-12-22T19:02:07.399Z"
   },
   {
    "duration": 114,
    "start_time": "2024-12-22T19:02:09.638Z"
   },
   {
    "duration": 10,
    "start_time": "2024-12-22T19:02:11.226Z"
   },
   {
    "duration": 12,
    "start_time": "2024-12-22T19:02:12.063Z"
   },
   {
    "duration": 7,
    "start_time": "2024-12-22T19:02:13.500Z"
   },
   {
    "duration": 11,
    "start_time": "2024-12-22T19:02:14.176Z"
   },
   {
    "duration": 10,
    "start_time": "2024-12-22T19:02:15.633Z"
   },
   {
    "duration": 18,
    "start_time": "2024-12-22T19:02:16.322Z"
   },
   {
    "duration": 10,
    "start_time": "2024-12-22T19:02:17.781Z"
   },
   {
    "duration": 48,
    "start_time": "2024-12-22T19:02:18.770Z"
   },
   {
    "duration": 10,
    "start_time": "2024-12-22T19:02:20.237Z"
   },
   {
    "duration": 21,
    "start_time": "2024-12-22T19:02:20.947Z"
   },
   {
    "duration": 6,
    "start_time": "2024-12-22T19:02:23.617Z"
   },
   {
    "duration": 55,
    "start_time": "2024-12-22T19:02:24.318Z"
   },
   {
    "duration": 5,
    "start_time": "2024-12-22T19:02:25.732Z"
   },
   {
    "duration": 21,
    "start_time": "2024-12-22T19:02:27.085Z"
   },
   {
    "duration": 154,
    "start_time": "2024-12-22T19:02:27.806Z"
   },
   {
    "duration": 495,
    "start_time": "2024-12-22T19:02:29.231Z"
   },
   {
    "duration": 52,
    "start_time": "2024-12-22T19:02:29.879Z"
   },
   {
    "duration": 78,
    "start_time": "2024-12-22T19:02:32.133Z"
   },
   {
    "duration": 113,
    "start_time": "2024-12-22T19:02:32.910Z"
   },
   {
    "duration": 135,
    "start_time": "2024-12-22T19:02:36.571Z"
   },
   {
    "duration": 7,
    "start_time": "2024-12-22T19:02:44.548Z"
   },
   {
    "duration": 66,
    "start_time": "2024-12-22T19:02:50.950Z"
   },
   {
    "duration": 24,
    "start_time": "2024-12-22T19:02:51.794Z"
   },
   {
    "duration": 63,
    "start_time": "2024-12-22T19:02:52.770Z"
   },
   {
    "duration": 398,
    "start_time": "2024-12-22T19:02:59.738Z"
   },
   {
    "duration": 103,
    "start_time": "2024-12-22T19:47:42.003Z"
   },
   {
    "duration": 14,
    "start_time": "2024-12-22T19:51:21.118Z"
   },
   {
    "duration": 3,
    "start_time": "2024-12-22T19:52:31.472Z"
   },
   {
    "duration": 12,
    "start_time": "2024-12-22T19:59:47.443Z"
   },
   {
    "duration": 13,
    "start_time": "2024-12-22T20:01:45.489Z"
   },
   {
    "duration": 13,
    "start_time": "2024-12-22T20:02:05.753Z"
   },
   {
    "duration": 18,
    "start_time": "2024-12-22T20:03:26.267Z"
   },
   {
    "duration": 65,
    "start_time": "2024-12-22T20:04:38.167Z"
   },
   {
    "duration": 9,
    "start_time": "2024-12-22T20:04:51.045Z"
   },
   {
    "duration": 9,
    "start_time": "2024-12-22T20:05:41.056Z"
   },
   {
    "duration": 9,
    "start_time": "2024-12-22T20:07:20.786Z"
   },
   {
    "duration": 8,
    "start_time": "2024-12-22T20:07:29.265Z"
   },
   {
    "duration": 8,
    "start_time": "2024-12-22T20:07:34.224Z"
   },
   {
    "duration": 12,
    "start_time": "2024-12-22T20:07:40.275Z"
   },
   {
    "duration": 10,
    "start_time": "2024-12-22T20:13:01.998Z"
   },
   {
    "duration": 17,
    "start_time": "2024-12-22T20:17:26.281Z"
   },
   {
    "duration": 56,
    "start_time": "2024-12-22T20:17:28.335Z"
   },
   {
    "duration": 11,
    "start_time": "2024-12-22T20:17:31.537Z"
   },
   {
    "duration": 258,
    "start_time": "2024-12-22T20:17:34.396Z"
   },
   {
    "duration": 18,
    "start_time": "2024-12-22T20:17:37.531Z"
   },
   {
    "duration": 128,
    "start_time": "2024-12-22T20:17:39.969Z"
   },
   {
    "duration": 794,
    "start_time": "2024-12-22T21:08:29.814Z"
   },
   {
    "duration": 22,
    "start_time": "2024-12-22T21:10:32.199Z"
   },
   {
    "duration": 862,
    "start_time": "2024-12-22T21:10:38.115Z"
   },
   {
    "duration": 767,
    "start_time": "2024-12-22T21:11:42.766Z"
   },
   {
    "duration": 235,
    "start_time": "2024-12-22T21:12:15.086Z"
   },
   {
    "duration": 17,
    "start_time": "2024-12-22T21:12:20.464Z"
   },
   {
    "duration": 821,
    "start_time": "2024-12-22T21:22:47.374Z"
   },
   {
    "duration": 16,
    "start_time": "2024-12-22T21:24:04.744Z"
   },
   {
    "duration": 112,
    "start_time": "2024-12-22T21:28:05.765Z"
   },
   {
    "duration": 41,
    "start_time": "2024-12-22T21:28:50.946Z"
   },
   {
    "duration": 8,
    "start_time": "2024-12-23T06:42:05.566Z"
   },
   {
    "duration": 7,
    "start_time": "2024-12-23T06:42:10.671Z"
   },
   {
    "duration": 6,
    "start_time": "2024-12-23T06:42:15.616Z"
   },
   {
    "duration": 7,
    "start_time": "2024-12-23T06:42:19.980Z"
   },
   {
    "duration": 7,
    "start_time": "2024-12-23T06:42:24.278Z"
   },
   {
    "duration": 7,
    "start_time": "2024-12-23T06:42:30.112Z"
   },
   {
    "duration": 9,
    "start_time": "2024-12-23T06:42:35.206Z"
   },
   {
    "duration": 7,
    "start_time": "2024-12-23T06:42:45.256Z"
   },
   {
    "duration": 6,
    "start_time": "2024-12-23T06:42:51.983Z"
   },
   {
    "duration": 11,
    "start_time": "2024-12-23T06:43:06.190Z"
   },
   {
    "duration": 7,
    "start_time": "2024-12-23T06:43:18.256Z"
   },
   {
    "duration": 10,
    "start_time": "2024-12-23T06:43:26.693Z"
   },
   {
    "duration": 11,
    "start_time": "2024-12-23T06:43:39.532Z"
   },
   {
    "duration": 5,
    "start_time": "2024-12-23T06:44:08.222Z"
   },
   {
    "duration": 1280,
    "start_time": "2024-12-23T06:44:25.961Z"
   },
   {
    "duration": 2419,
    "start_time": "2024-12-23T06:44:27.596Z"
   },
   {
    "duration": 11,
    "start_time": "2024-12-23T06:44:30.783Z"
   },
   {
    "duration": 13,
    "start_time": "2024-12-23T06:44:32.080Z"
   },
   {
    "duration": 16,
    "start_time": "2024-12-23T06:44:34.834Z"
   },
   {
    "duration": 92,
    "start_time": "2024-12-23T06:44:40.368Z"
   },
   {
    "duration": 10,
    "start_time": "2024-12-23T06:44:41.772Z"
   },
   {
    "duration": 13,
    "start_time": "2024-12-23T06:44:42.071Z"
   },
   {
    "duration": 6,
    "start_time": "2024-12-23T06:44:42.799Z"
   },
   {
    "duration": 10,
    "start_time": "2024-12-23T06:44:43.377Z"
   },
   {
    "duration": 7,
    "start_time": "2024-12-23T06:44:43.977Z"
   },
   {
    "duration": 19,
    "start_time": "2024-12-23T06:44:44.239Z"
   },
   {
    "duration": 9,
    "start_time": "2024-12-23T06:44:45.177Z"
   },
   {
    "duration": 40,
    "start_time": "2024-12-23T06:44:45.451Z"
   },
   {
    "duration": 7,
    "start_time": "2024-12-23T06:44:46.279Z"
   },
   {
    "duration": 23,
    "start_time": "2024-12-23T06:44:46.474Z"
   },
   {
    "duration": 5,
    "start_time": "2024-12-23T06:44:47.967Z"
   },
   {
    "duration": 58,
    "start_time": "2024-12-23T06:44:48.537Z"
   },
   {
    "duration": 5,
    "start_time": "2024-12-23T06:44:49.309Z"
   },
   {
    "duration": 25,
    "start_time": "2024-12-23T06:44:50.036Z"
   },
   {
    "duration": 29,
    "start_time": "2024-12-23T06:45:20.946Z"
   },
   {
    "duration": 38,
    "start_time": "2024-12-23T06:45:27.876Z"
   },
   {
    "duration": 164,
    "start_time": "2024-12-23T06:50:13.128Z"
   },
   {
    "duration": 79,
    "start_time": "2024-12-23T06:50:20.778Z"
   },
   {
    "duration": 77,
    "start_time": "2024-12-23T06:51:19.784Z"
   },
   {
    "duration": 26,
    "start_time": "2024-12-23T06:51:30.471Z"
   },
   {
    "duration": 70,
    "start_time": "2024-12-23T06:51:34.948Z"
   },
   {
    "duration": 381,
    "start_time": "2024-12-23T06:51:48.839Z"
   },
   {
    "duration": 18,
    "start_time": "2024-12-23T06:51:49.994Z"
   },
   {
    "duration": 55,
    "start_time": "2024-12-23T06:51:50.496Z"
   },
   {
    "duration": 14,
    "start_time": "2024-12-23T06:51:50.864Z"
   },
   {
    "duration": 310,
    "start_time": "2024-12-23T06:51:51.435Z"
   },
   {
    "duration": 20,
    "start_time": "2024-12-23T06:51:51.747Z"
   },
   {
    "duration": 112,
    "start_time": "2024-12-23T06:51:51.836Z"
   },
   {
    "duration": 25,
    "start_time": "2024-12-23T06:52:06.495Z"
   },
   {
    "duration": 95,
    "start_time": "2024-12-23T07:04:26.928Z"
   },
   {
    "duration": 99,
    "start_time": "2024-12-23T07:04:38.703Z"
   },
   {
    "duration": 143,
    "start_time": "2024-12-23T07:04:44.651Z"
   },
   {
    "duration": 262,
    "start_time": "2024-12-23T07:04:59.119Z"
   },
   {
    "duration": 26,
    "start_time": "2024-12-23T07:05:00.680Z"
   },
   {
    "duration": 134,
    "start_time": "2024-12-23T07:05:04.386Z"
   },
   {
    "duration": 243,
    "start_time": "2024-12-23T07:05:31.657Z"
   },
   {
    "duration": 1206,
    "start_time": "2024-12-23T07:29:53.130Z"
   },
   {
    "duration": 2433,
    "start_time": "2024-12-23T07:29:56.018Z"
   },
   {
    "duration": 14,
    "start_time": "2024-12-23T07:30:16.011Z"
   },
   {
    "duration": 14,
    "start_time": "2024-12-23T07:30:17.061Z"
   },
   {
    "duration": 16,
    "start_time": "2024-12-23T07:30:20.348Z"
   },
   {
    "duration": 92,
    "start_time": "2024-12-23T07:30:22.667Z"
   },
   {
    "duration": 10,
    "start_time": "2024-12-23T07:30:23.966Z"
   },
   {
    "duration": 14,
    "start_time": "2024-12-23T07:30:24.595Z"
   },
   {
    "duration": 7,
    "start_time": "2024-12-23T07:30:25.856Z"
   },
   {
    "duration": 10,
    "start_time": "2024-12-23T07:30:26.470Z"
   },
   {
    "duration": 7,
    "start_time": "2024-12-23T07:30:27.620Z"
   },
   {
    "duration": 20,
    "start_time": "2024-12-23T07:30:28.191Z"
   },
   {
    "duration": 9,
    "start_time": "2024-12-23T07:30:29.337Z"
   },
   {
    "duration": 42,
    "start_time": "2024-12-23T07:30:29.902Z"
   },
   {
    "duration": 8,
    "start_time": "2024-12-23T07:30:31.091Z"
   },
   {
    "duration": 24,
    "start_time": "2024-12-23T07:30:31.664Z"
   },
   {
    "duration": 6,
    "start_time": "2024-12-23T07:30:34.240Z"
   },
   {
    "duration": 60,
    "start_time": "2024-12-23T07:30:34.969Z"
   },
   {
    "duration": 5,
    "start_time": "2024-12-23T07:30:36.358Z"
   },
   {
    "duration": 36,
    "start_time": "2024-12-23T07:30:37.859Z"
   },
   {
    "duration": 174,
    "start_time": "2024-12-23T07:31:19.904Z"
   },
   {
    "duration": 573,
    "start_time": "2024-12-23T07:31:26.165Z"
   },
   {
    "duration": 63,
    "start_time": "2024-12-23T07:31:26.910Z"
   },
   {
    "duration": 33,
    "start_time": "2024-12-23T07:31:45.659Z"
   },
   {
    "duration": 51,
    "start_time": "2024-12-23T07:31:46.439Z"
   },
   {
    "duration": 547,
    "start_time": "2024-12-23T07:31:47.972Z"
   },
   {
    "duration": 63,
    "start_time": "2024-12-23T07:31:48.576Z"
   },
   {
    "duration": 93,
    "start_time": "2024-12-23T07:31:51.597Z"
   },
   {
    "duration": 133,
    "start_time": "2024-12-23T07:31:52.227Z"
   },
   {
    "duration": 137,
    "start_time": "2024-12-23T07:31:57.950Z"
   },
   {
    "duration": 4,
    "start_time": "2024-12-23T07:32:07.964Z"
   },
   {
    "duration": 77,
    "start_time": "2024-12-23T07:32:31.879Z"
   },
   {
    "duration": 25,
    "start_time": "2024-12-23T07:32:32.720Z"
   },
   {
    "duration": 70,
    "start_time": "2024-12-23T07:32:34.718Z"
   },
   {
    "duration": 375,
    "start_time": "2024-12-23T07:32:47.964Z"
   },
   {
    "duration": 398,
    "start_time": "2024-12-23T07:38:01.186Z"
   },
   {
    "duration": 99,
    "start_time": "2024-12-23T07:43:06.015Z"
   },
   {
    "duration": 23,
    "start_time": "2024-12-23T07:43:06.912Z"
   },
   {
    "duration": 75,
    "start_time": "2024-12-23T07:43:07.851Z"
   },
   {
    "duration": 14,
    "start_time": "2024-12-23T07:44:27.614Z"
   },
   {
    "duration": 54,
    "start_time": "2024-12-23T07:44:59.077Z"
   },
   {
    "duration": 13,
    "start_time": "2024-12-23T07:45:11.372Z"
   },
   {
    "duration": 14,
    "start_time": "2024-12-23T07:49:25.264Z"
   },
   {
    "duration": 52,
    "start_time": "2024-12-23T07:49:32.403Z"
   },
   {
    "duration": 13,
    "start_time": "2024-12-23T07:49:40.445Z"
   },
   {
    "duration": 276,
    "start_time": "2024-12-23T07:50:04.040Z"
   },
   {
    "duration": 28,
    "start_time": "2024-12-23T07:50:04.865Z"
   },
   {
    "duration": 98,
    "start_time": "2024-12-23T07:50:39.724Z"
   },
   {
    "duration": 1202,
    "start_time": "2024-12-23T09:05:19.550Z"
   },
   {
    "duration": 2613,
    "start_time": "2024-12-23T09:05:21.944Z"
   },
   {
    "duration": 13,
    "start_time": "2024-12-23T09:05:27.918Z"
   },
   {
    "duration": 13,
    "start_time": "2024-12-23T09:05:28.775Z"
   },
   {
    "duration": 17,
    "start_time": "2024-12-23T09:05:31.057Z"
   },
   {
    "duration": 105,
    "start_time": "2024-12-23T09:05:33.127Z"
   },
   {
    "duration": 11,
    "start_time": "2024-12-23T09:05:34.623Z"
   },
   {
    "duration": 13,
    "start_time": "2024-12-23T09:05:35.333Z"
   },
   {
    "duration": 7,
    "start_time": "2024-12-23T09:05:36.787Z"
   },
   {
    "duration": 10,
    "start_time": "2024-12-23T09:05:37.544Z"
   },
   {
    "duration": 8,
    "start_time": "2024-12-23T09:05:38.974Z"
   },
   {
    "duration": 21,
    "start_time": "2024-12-23T09:05:39.651Z"
   },
   {
    "duration": 10,
    "start_time": "2024-12-23T09:05:41.004Z"
   },
   {
    "duration": 46,
    "start_time": "2024-12-23T09:05:41.681Z"
   },
   {
    "duration": 8,
    "start_time": "2024-12-23T09:05:42.997Z"
   },
   {
    "duration": 24,
    "start_time": "2024-12-23T09:05:43.647Z"
   },
   {
    "duration": 6,
    "start_time": "2024-12-23T09:05:46.280Z"
   },
   {
    "duration": 59,
    "start_time": "2024-12-23T09:05:46.922Z"
   },
   {
    "duration": 5,
    "start_time": "2024-12-23T09:05:48.307Z"
   },
   {
    "duration": 24,
    "start_time": "2024-12-23T09:05:53.631Z"
   },
   {
    "duration": 173,
    "start_time": "2024-12-23T09:05:54.499Z"
   },
   {
    "duration": 580,
    "start_time": "2024-12-23T09:05:56.152Z"
   },
   {
    "duration": 62,
    "start_time": "2024-12-23T09:05:56.945Z"
   },
   {
    "duration": 71,
    "start_time": "2024-12-23T09:05:59.833Z"
   },
   {
    "duration": 137,
    "start_time": "2024-12-23T09:06:01.365Z"
   },
   {
    "duration": 140,
    "start_time": "2024-12-23T09:06:04.946Z"
   },
   {
    "duration": 6,
    "start_time": "2024-12-23T09:06:09.867Z"
   },
   {
    "duration": 77,
    "start_time": "2024-12-23T09:06:21.359Z"
   },
   {
    "duration": 27,
    "start_time": "2024-12-23T09:06:22.230Z"
   },
   {
    "duration": 69,
    "start_time": "2024-12-23T09:06:23.061Z"
   },
   {
    "duration": 16,
    "start_time": "2024-12-23T09:06:53.555Z"
   },
   {
    "duration": 13,
    "start_time": "2024-12-23T09:07:35.591Z"
   },
   {
    "duration": 102,
    "start_time": "2024-12-23T09:07:35.606Z"
   },
   {
    "duration": 15,
    "start_time": "2024-12-23T09:07:38.861Z"
   },
   {
    "duration": 51,
    "start_time": "2024-12-23T09:07:39.887Z"
   },
   {
    "duration": 13,
    "start_time": "2024-12-23T09:07:41.531Z"
   },
   {
    "duration": 281,
    "start_time": "2024-12-23T09:07:58.983Z"
   },
   {
    "duration": 28,
    "start_time": "2024-12-23T09:08:01.254Z"
   },
   {
    "duration": 23,
    "start_time": "2024-12-23T09:08:09.576Z"
   },
   {
    "duration": 102,
    "start_time": "2024-12-23T09:08:23.470Z"
   },
   {
    "duration": 256,
    "start_time": "2024-12-23T09:09:21.956Z"
   },
   {
    "duration": 97,
    "start_time": "2024-12-23T09:10:24.538Z"
   },
   {
    "duration": 89,
    "start_time": "2024-12-23T09:11:50.392Z"
   },
   {
    "duration": 79,
    "start_time": "2024-12-23T09:13:09.391Z"
   },
   {
    "duration": 16,
    "start_time": "2024-12-23T09:13:19.430Z"
   },
   {
    "duration": 100,
    "start_time": "2024-12-23T09:15:16.903Z"
   },
   {
    "duration": 1186,
    "start_time": "2024-12-23T09:17:04.055Z"
   },
   {
    "duration": 1918,
    "start_time": "2024-12-23T09:17:08.322Z"
   },
   {
    "duration": 12,
    "start_time": "2024-12-23T09:17:13.838Z"
   },
   {
    "duration": 14,
    "start_time": "2024-12-23T09:17:14.675Z"
   },
   {
    "duration": 16,
    "start_time": "2024-12-23T09:17:17.104Z"
   },
   {
    "duration": 97,
    "start_time": "2024-12-23T09:17:19.140Z"
   },
   {
    "duration": 10,
    "start_time": "2024-12-23T09:17:20.560Z"
   },
   {
    "duration": 12,
    "start_time": "2024-12-23T09:17:21.235Z"
   },
   {
    "duration": 7,
    "start_time": "2024-12-23T09:17:22.618Z"
   },
   {
    "duration": 14,
    "start_time": "2024-12-23T09:17:23.273Z"
   },
   {
    "duration": 8,
    "start_time": "2024-12-23T09:17:24.647Z"
   },
   {
    "duration": 19,
    "start_time": "2024-12-23T09:17:25.381Z"
   },
   {
    "duration": 10,
    "start_time": "2024-12-23T09:17:26.694Z"
   },
   {
    "duration": 38,
    "start_time": "2024-12-23T09:17:27.325Z"
   },
   {
    "duration": 8,
    "start_time": "2024-12-23T09:17:28.636Z"
   },
   {
    "duration": 25,
    "start_time": "2024-12-23T09:17:29.288Z"
   },
   {
    "duration": 5,
    "start_time": "2024-12-23T09:17:31.887Z"
   },
   {
    "duration": 58,
    "start_time": "2024-12-23T09:17:32.560Z"
   },
   {
    "duration": 5,
    "start_time": "2024-12-23T09:17:33.829Z"
   },
   {
    "duration": 22,
    "start_time": "2024-12-23T09:17:35.133Z"
   },
   {
    "duration": 168,
    "start_time": "2024-12-23T09:17:35.784Z"
   },
   {
    "duration": 590,
    "start_time": "2024-12-23T09:17:37.100Z"
   },
   {
    "duration": 62,
    "start_time": "2024-12-23T09:17:37.830Z"
   },
   {
    "duration": 76,
    "start_time": "2024-12-23T09:17:40.954Z"
   },
   {
    "duration": 142,
    "start_time": "2024-12-23T09:17:41.655Z"
   },
   {
    "duration": 134,
    "start_time": "2024-12-23T09:17:45.200Z"
   },
   {
    "duration": 4,
    "start_time": "2024-12-23T09:17:50.278Z"
   },
   {
    "duration": 82,
    "start_time": "2024-12-23T09:17:54.112Z"
   },
   {
    "duration": 23,
    "start_time": "2024-12-23T09:17:54.834Z"
   },
   {
    "duration": 69,
    "start_time": "2024-12-23T09:17:55.548Z"
   },
   {
    "duration": 15,
    "start_time": "2024-12-23T09:18:04.060Z"
   },
   {
    "duration": 56,
    "start_time": "2024-12-23T09:18:05.601Z"
   },
   {
    "duration": 14,
    "start_time": "2024-12-23T09:18:09.028Z"
   },
   {
    "duration": 266,
    "start_time": "2024-12-23T09:18:11.203Z"
   },
   {
    "duration": 30,
    "start_time": "2024-12-23T09:18:11.951Z"
   },
   {
    "duration": 133,
    "start_time": "2024-12-23T09:18:12.713Z"
   },
   {
    "duration": 18,
    "start_time": "2024-12-23T09:18:13.381Z"
   },
   {
    "duration": 102,
    "start_time": "2024-12-23T09:18:15.438Z"
   },
   {
    "duration": 37,
    "start_time": "2024-12-23T09:18:17.632Z"
   },
   {
    "duration": 9,
    "start_time": "2024-12-23T09:18:18.396Z"
   },
   {
    "duration": 329,
    "start_time": "2024-12-23T09:18:20.023Z"
   },
   {
    "duration": 5,
    "start_time": "2024-12-23T09:18:25.481Z"
   },
   {
    "duration": 5,
    "start_time": "2024-12-23T09:18:26.285Z"
   },
   {
    "duration": 18,
    "start_time": "2024-12-23T09:18:29.052Z"
   },
   {
    "duration": 50,
    "start_time": "2024-12-23T09:18:29.815Z"
   },
   {
    "duration": 97,
    "start_time": "2024-12-23T09:18:31.208Z"
   },
   {
    "duration": 251,
    "start_time": "2024-12-23T09:18:31.927Z"
   },
   {
    "duration": 17,
    "start_time": "2024-12-23T09:18:33.281Z"
   },
   {
    "duration": 53,
    "start_time": "2024-12-23T09:18:34.001Z"
   },
   {
    "duration": 113,
    "start_time": "2024-12-23T09:18:36.146Z"
   },
   {
    "duration": 10,
    "start_time": "2024-12-23T09:18:36.839Z"
   },
   {
    "duration": 49,
    "start_time": "2024-12-23T09:18:38.151Z"
   },
   {
    "duration": 147,
    "start_time": "2024-12-23T09:18:38.954Z"
   },
   {
    "duration": 14,
    "start_time": "2024-12-23T09:18:41.292Z"
   },
   {
    "duration": 13,
    "start_time": "2024-12-23T09:18:42.107Z"
   },
   {
    "duration": 12,
    "start_time": "2024-12-23T09:18:44.446Z"
   },
   {
    "duration": 125,
    "start_time": "2024-12-23T09:18:46.576Z"
   },
   {
    "duration": 1454,
    "start_time": "2024-12-24T08:55:58.927Z"
   },
   {
    "duration": 2271,
    "start_time": "2024-12-24T08:56:00.383Z"
   },
   {
    "duration": 13,
    "start_time": "2024-12-24T08:56:02.656Z"
   },
   {
    "duration": 65,
    "start_time": "2024-12-24T08:56:02.670Z"
   },
   {
    "duration": 57,
    "start_time": "2024-12-24T08:56:02.737Z"
   },
   {
    "duration": 104,
    "start_time": "2024-12-24T08:56:02.796Z"
   },
   {
    "duration": 10,
    "start_time": "2024-12-24T08:56:02.902Z"
   },
   {
    "duration": 68,
    "start_time": "2024-12-24T08:56:02.915Z"
   },
   {
    "duration": 49,
    "start_time": "2024-12-24T08:56:02.985Z"
   },
   {
    "duration": 34,
    "start_time": "2024-12-24T08:56:03.036Z"
   },
   {
    "duration": 20,
    "start_time": "2024-12-24T08:56:03.072Z"
   },
   {
    "duration": 27,
    "start_time": "2024-12-24T08:56:03.093Z"
   },
   {
    "duration": 47,
    "start_time": "2024-12-24T08:56:03.122Z"
   },
   {
    "duration": 65,
    "start_time": "2024-12-24T08:56:03.172Z"
   },
   {
    "duration": 8,
    "start_time": "2024-12-24T08:56:03.238Z"
   },
   {
    "duration": 35,
    "start_time": "2024-12-24T08:56:03.247Z"
   },
   {
    "duration": 16,
    "start_time": "2024-12-24T08:56:03.284Z"
   },
   {
    "duration": 87,
    "start_time": "2024-12-24T08:56:03.301Z"
   },
   {
    "duration": 5,
    "start_time": "2024-12-24T08:56:03.390Z"
   },
   {
    "duration": 37,
    "start_time": "2024-12-24T08:56:03.397Z"
   },
   {
    "duration": 231,
    "start_time": "2024-12-24T08:56:03.435Z"
   },
   {
    "duration": 624,
    "start_time": "2024-12-24T08:56:03.667Z"
   },
   {
    "duration": 71,
    "start_time": "2024-12-24T08:56:04.293Z"
   },
   {
    "duration": 88,
    "start_time": "2024-12-24T08:56:04.366Z"
   },
   {
    "duration": 153,
    "start_time": "2024-12-24T08:56:04.456Z"
   },
   {
    "duration": 181,
    "start_time": "2024-12-24T08:56:04.611Z"
   },
   {
    "duration": 5,
    "start_time": "2024-12-24T08:56:04.793Z"
   },
   {
    "duration": 96,
    "start_time": "2024-12-24T08:56:04.800Z"
   },
   {
    "duration": 40,
    "start_time": "2024-12-24T08:56:04.897Z"
   },
   {
    "duration": 111,
    "start_time": "2024-12-24T08:56:04.939Z"
   },
   {
    "duration": 15,
    "start_time": "2024-12-24T08:56:05.052Z"
   },
   {
    "duration": 72,
    "start_time": "2024-12-24T08:56:05.068Z"
   },
   {
    "duration": 14,
    "start_time": "2024-12-24T08:56:05.142Z"
   },
   {
    "duration": 339,
    "start_time": "2024-12-24T08:56:05.158Z"
   },
   {
    "duration": 33,
    "start_time": "2024-12-24T08:56:05.499Z"
   },
   {
    "duration": 160,
    "start_time": "2024-12-24T08:56:05.534Z"
   },
   {
    "duration": 15,
    "start_time": "2024-12-24T08:56:05.696Z"
   },
   {
    "duration": 131,
    "start_time": "2024-12-24T08:56:05.713Z"
   },
   {
    "duration": 97,
    "start_time": "2024-12-24T08:56:05.845Z"
   },
   {
    "duration": 15,
    "start_time": "2024-12-24T08:57:30.651Z"
   },
   {
    "duration": 16,
    "start_time": "2024-12-24T08:57:33.738Z"
   },
   {
    "duration": 17,
    "start_time": "2024-12-24T08:58:37.034Z"
   },
   {
    "duration": 16,
    "start_time": "2024-12-24T08:58:55.913Z"
   },
   {
    "duration": 4,
    "start_time": "2024-12-24T09:00:04.915Z"
   },
   {
    "duration": 108,
    "start_time": "2024-12-24T09:00:13.241Z"
   },
   {
    "duration": 9,
    "start_time": "2024-12-24T09:00:17.247Z"
   },
   {
    "duration": 15,
    "start_time": "2024-12-24T09:00:32.001Z"
   },
   {
    "duration": 31,
    "start_time": "2024-12-24T09:00:41.313Z"
   },
   {
    "duration": 15,
    "start_time": "2024-12-24T09:00:46.270Z"
   },
   {
    "duration": 28,
    "start_time": "2024-12-24T09:02:16.440Z"
   },
   {
    "duration": 28,
    "start_time": "2024-12-24T09:02:27.183Z"
   },
   {
    "duration": 92,
    "start_time": "2024-12-24T09:04:15.725Z"
   },
   {
    "duration": 3,
    "start_time": "2024-12-24T09:04:52.636Z"
   },
   {
    "duration": 2234,
    "start_time": "2024-12-24T09:04:52.641Z"
   },
   {
    "duration": 9,
    "start_time": "2024-12-24T09:04:54.877Z"
   },
   {
    "duration": 30,
    "start_time": "2024-12-24T09:04:54.887Z"
   },
   {
    "duration": 27,
    "start_time": "2024-12-24T09:04:54.919Z"
   },
   {
    "duration": 126,
    "start_time": "2024-12-24T09:04:54.948Z"
   },
   {
    "duration": 10,
    "start_time": "2024-12-24T09:04:55.076Z"
   },
   {
    "duration": 21,
    "start_time": "2024-12-24T09:04:55.088Z"
   },
   {
    "duration": 21,
    "start_time": "2024-12-24T09:04:55.111Z"
   },
   {
    "duration": 26,
    "start_time": "2024-12-24T09:04:55.134Z"
   },
   {
    "duration": 13,
    "start_time": "2024-12-24T09:04:55.163Z"
   },
   {
    "duration": 31,
    "start_time": "2024-12-24T09:04:55.178Z"
   },
   {
    "duration": 27,
    "start_time": "2024-12-24T09:04:55.211Z"
   },
   {
    "duration": 49,
    "start_time": "2024-12-24T09:04:55.239Z"
   },
   {
    "duration": 14,
    "start_time": "2024-12-24T09:04:55.290Z"
   },
   {
    "duration": 32,
    "start_time": "2024-12-24T09:04:55.306Z"
   },
   {
    "duration": 28,
    "start_time": "2024-12-24T09:04:55.339Z"
   },
   {
    "duration": 66,
    "start_time": "2024-12-24T09:04:55.368Z"
   },
   {
    "duration": 5,
    "start_time": "2024-12-24T09:04:55.436Z"
   },
   {
    "duration": 47,
    "start_time": "2024-12-24T09:04:55.443Z"
   },
   {
    "duration": 231,
    "start_time": "2024-12-24T09:04:55.491Z"
   },
   {
    "duration": 643,
    "start_time": "2024-12-24T09:04:55.723Z"
   },
   {
    "duration": 72,
    "start_time": "2024-12-24T09:04:56.367Z"
   },
   {
    "duration": 75,
    "start_time": "2024-12-24T09:04:56.441Z"
   },
   {
    "duration": 158,
    "start_time": "2024-12-24T09:04:56.529Z"
   },
   {
    "duration": 174,
    "start_time": "2024-12-24T09:04:56.688Z"
   },
   {
    "duration": 5,
    "start_time": "2024-12-24T09:04:56.863Z"
   },
   {
    "duration": 95,
    "start_time": "2024-12-24T09:04:56.870Z"
   },
   {
    "duration": 21,
    "start_time": "2024-12-24T09:04:56.968Z"
   },
   {
    "duration": 96,
    "start_time": "2024-12-24T09:04:56.991Z"
   },
   {
    "duration": 15,
    "start_time": "2024-12-24T09:04:57.089Z"
   },
   {
    "duration": 74,
    "start_time": "2024-12-24T09:04:57.107Z"
   },
   {
    "duration": 13,
    "start_time": "2024-12-24T09:04:57.182Z"
   },
   {
    "duration": 304,
    "start_time": "2024-12-24T09:04:57.196Z"
   },
   {
    "duration": 30,
    "start_time": "2024-12-24T09:04:57.502Z"
   },
   {
    "duration": 127,
    "start_time": "2024-12-24T09:04:57.534Z"
   },
   {
    "duration": 16,
    "start_time": "2024-12-24T09:04:57.662Z"
   },
   {
    "duration": 131,
    "start_time": "2024-12-24T09:04:57.680Z"
   },
   {
    "duration": 36,
    "start_time": "2024-12-24T09:04:57.812Z"
   },
   {
    "duration": 40,
    "start_time": "2024-12-24T09:04:57.849Z"
   },
   {
    "duration": 8,
    "start_time": "2024-12-24T09:04:57.891Z"
   },
   {
    "duration": 466,
    "start_time": "2024-12-24T09:04:57.900Z"
   },
   {
    "duration": 121,
    "start_time": "2024-12-24T09:04:58.368Z"
   },
   {
    "duration": 667,
    "start_time": "2024-12-24T09:06:14.475Z"
   },
   {
    "duration": 683,
    "start_time": "2024-12-24T09:06:30.303Z"
   },
   {
    "duration": 145,
    "start_time": "2024-12-24T09:06:43.288Z"
   },
   {
    "duration": 152,
    "start_time": "2024-12-24T09:06:56.146Z"
   },
   {
    "duration": 1823,
    "start_time": "2024-12-24T09:07:32.452Z"
   },
   {
    "duration": 132,
    "start_time": "2024-12-24T09:08:57.061Z"
   },
   {
    "duration": 1911,
    "start_time": "2024-12-24T09:09:17.321Z"
   },
   {
    "duration": 1232,
    "start_time": "2024-12-24T09:17:16.738Z"
   },
   {
    "duration": 2343,
    "start_time": "2024-12-24T09:17:17.972Z"
   },
   {
    "duration": 13,
    "start_time": "2024-12-24T09:17:20.317Z"
   },
   {
    "duration": 13,
    "start_time": "2024-12-24T09:17:20.332Z"
   },
   {
    "duration": 24,
    "start_time": "2024-12-24T09:17:20.346Z"
   },
   {
    "duration": 105,
    "start_time": "2024-12-24T09:17:20.371Z"
   },
   {
    "duration": 11,
    "start_time": "2024-12-24T09:17:20.478Z"
   },
   {
    "duration": 34,
    "start_time": "2024-12-24T09:17:20.490Z"
   },
   {
    "duration": 29,
    "start_time": "2024-12-24T09:17:20.526Z"
   },
   {
    "duration": 15,
    "start_time": "2024-12-24T09:17:20.558Z"
   },
   {
    "duration": 27,
    "start_time": "2024-12-24T09:17:20.575Z"
   },
   {
    "duration": 42,
    "start_time": "2024-12-24T09:17:20.603Z"
   },
   {
    "duration": 10,
    "start_time": "2024-12-24T09:17:20.647Z"
   },
   {
    "duration": 84,
    "start_time": "2024-12-24T09:17:20.658Z"
   },
   {
    "duration": 8,
    "start_time": "2024-12-24T09:17:20.744Z"
   },
   {
    "duration": 43,
    "start_time": "2024-12-24T09:17:20.754Z"
   },
   {
    "duration": 8,
    "start_time": "2024-12-24T09:17:20.799Z"
   },
   {
    "duration": 90,
    "start_time": "2024-12-24T09:17:20.809Z"
   },
   {
    "duration": 5,
    "start_time": "2024-12-24T09:17:20.900Z"
   },
   {
    "duration": 44,
    "start_time": "2024-12-24T09:17:20.907Z"
   },
   {
    "duration": 203,
    "start_time": "2024-12-24T09:17:20.953Z"
   },
   {
    "duration": 588,
    "start_time": "2024-12-24T09:17:21.158Z"
   },
   {
    "duration": 59,
    "start_time": "2024-12-24T09:17:21.748Z"
   },
   {
    "duration": 94,
    "start_time": "2024-12-24T09:17:21.809Z"
   },
   {
    "duration": 159,
    "start_time": "2024-12-24T09:17:21.905Z"
   },
   {
    "duration": 168,
    "start_time": "2024-12-24T09:17:22.066Z"
   },
   {
    "duration": 5,
    "start_time": "2024-12-24T09:17:22.235Z"
   },
   {
    "duration": 103,
    "start_time": "2024-12-24T09:17:22.244Z"
   },
   {
    "duration": 26,
    "start_time": "2024-12-24T09:17:22.349Z"
   },
   {
    "duration": 95,
    "start_time": "2024-12-24T09:17:22.377Z"
   },
   {
    "duration": 15,
    "start_time": "2024-12-24T09:17:22.473Z"
   },
   {
    "duration": 104,
    "start_time": "2024-12-24T09:17:22.490Z"
   },
   {
    "duration": 14,
    "start_time": "2024-12-24T09:17:22.596Z"
   },
   {
    "duration": 295,
    "start_time": "2024-12-24T09:17:22.611Z"
   },
   {
    "duration": 30,
    "start_time": "2024-12-24T09:17:22.908Z"
   },
   {
    "duration": 153,
    "start_time": "2024-12-24T09:17:22.939Z"
   },
   {
    "duration": 16,
    "start_time": "2024-12-24T09:17:23.093Z"
   },
   {
    "duration": 127,
    "start_time": "2024-12-24T09:17:23.111Z"
   },
   {
    "duration": 27,
    "start_time": "2024-12-24T09:17:23.240Z"
   },
   {
    "duration": 39,
    "start_time": "2024-12-24T09:17:23.269Z"
   },
   {
    "duration": 9,
    "start_time": "2024-12-24T09:17:23.331Z"
   },
   {
    "duration": 404,
    "start_time": "2024-12-24T09:17:23.341Z"
   },
   {
    "duration": 1857,
    "start_time": "2024-12-24T09:17:23.747Z"
   },
   {
    "duration": 4,
    "start_time": "2024-12-24T09:17:25.606Z"
   },
   {
    "duration": 21,
    "start_time": "2024-12-24T09:17:25.612Z"
   },
   {
    "duration": 60,
    "start_time": "2024-12-24T09:17:25.634Z"
   },
   {
    "duration": 53,
    "start_time": "2024-12-24T09:17:25.696Z"
   },
   {
    "duration": 105,
    "start_time": "2024-12-24T09:17:25.750Z"
   },
   {
    "duration": 251,
    "start_time": "2024-12-24T09:17:25.856Z"
   },
   {
    "duration": 26,
    "start_time": "2024-12-24T09:17:26.108Z"
   },
   {
    "duration": 57,
    "start_time": "2024-12-24T09:17:26.136Z"
   },
   {
    "duration": 154,
    "start_time": "2024-12-24T09:17:26.194Z"
   },
   {
    "duration": 10,
    "start_time": "2024-12-24T09:17:26.350Z"
   },
   {
    "duration": 58,
    "start_time": "2024-12-24T09:17:26.361Z"
   },
   {
    "duration": 163,
    "start_time": "2024-12-24T09:17:26.429Z"
   },
   {
    "duration": 12,
    "start_time": "2024-12-24T09:17:26.594Z"
   },
   {
    "duration": 28,
    "start_time": "2024-12-24T09:17:26.608Z"
   },
   {
    "duration": 10,
    "start_time": "2024-12-24T09:17:26.638Z"
   },
   {
    "duration": 148,
    "start_time": "2024-12-24T09:17:26.649Z"
   },
   {
    "duration": 1406,
    "start_time": "2024-12-24T09:40:14.777Z"
   },
   {
    "duration": 2060,
    "start_time": "2024-12-24T09:40:18.141Z"
   },
   {
    "duration": 17,
    "start_time": "2024-12-24T09:40:24.688Z"
   },
   {
    "duration": 13,
    "start_time": "2024-12-24T09:40:25.501Z"
   },
   {
    "duration": 17,
    "start_time": "2024-12-24T09:40:27.651Z"
   },
   {
    "duration": 105,
    "start_time": "2024-12-24T09:40:31.284Z"
   },
   {
    "duration": 10,
    "start_time": "2024-12-24T09:40:32.665Z"
   },
   {
    "duration": 14,
    "start_time": "2024-12-24T09:40:33.299Z"
   },
   {
    "duration": 8,
    "start_time": "2024-12-24T09:40:34.586Z"
   },
   {
    "duration": 10,
    "start_time": "2024-12-24T09:40:35.199Z"
   },
   {
    "duration": 8,
    "start_time": "2024-12-24T09:40:36.608Z"
   },
   {
    "duration": 20,
    "start_time": "2024-12-24T09:40:37.307Z"
   },
   {
    "duration": 10,
    "start_time": "2024-12-24T09:40:38.720Z"
   },
   {
    "duration": 40,
    "start_time": "2024-12-24T09:40:39.591Z"
   },
   {
    "duration": 8,
    "start_time": "2024-12-24T09:40:41.032Z"
   },
   {
    "duration": 26,
    "start_time": "2024-12-24T09:40:41.683Z"
   },
   {
    "duration": 6,
    "start_time": "2024-12-24T09:40:44.893Z"
   },
   {
    "duration": 61,
    "start_time": "2024-12-24T09:40:45.538Z"
   },
   {
    "duration": 5,
    "start_time": "2024-12-24T09:40:46.884Z"
   },
   {
    "duration": 31,
    "start_time": "2024-12-24T09:40:48.304Z"
   },
   {
    "duration": 176,
    "start_time": "2024-12-24T09:40:49.071Z"
   },
   {
    "duration": 573,
    "start_time": "2024-12-24T09:40:50.493Z"
   },
   {
    "duration": 61,
    "start_time": "2024-12-24T09:40:51.202Z"
   },
   {
    "duration": 76,
    "start_time": "2024-12-24T09:40:53.647Z"
   },
   {
    "duration": 145,
    "start_time": "2024-12-24T09:40:54.436Z"
   },
   {
    "duration": 144,
    "start_time": "2024-12-24T09:40:58.075Z"
   },
   {
    "duration": 5,
    "start_time": "2024-12-24T09:41:05.759Z"
   },
   {
    "duration": 78,
    "start_time": "2024-12-24T09:41:11.260Z"
   },
   {
    "duration": 25,
    "start_time": "2024-12-24T09:41:12.143Z"
   },
   {
    "duration": 70,
    "start_time": "2024-12-24T09:41:12.954Z"
   },
   {
    "duration": 15,
    "start_time": "2024-12-24T09:41:37.957Z"
   },
   {
    "duration": 57,
    "start_time": "2024-12-24T09:41:39.058Z"
   },
   {
    "duration": 14,
    "start_time": "2024-12-24T09:41:41.005Z"
   },
   {
    "duration": 296,
    "start_time": "2024-12-24T09:41:45.184Z"
   },
   {
    "duration": 24,
    "start_time": "2024-12-24T09:41:46.106Z"
   },
   {
    "duration": 141,
    "start_time": "2024-12-24T09:41:46.964Z"
   },
   {
    "duration": 17,
    "start_time": "2024-12-24T09:41:48.138Z"
   },
   {
    "duration": 108,
    "start_time": "2024-12-24T09:41:55.252Z"
   },
   {
    "duration": 171,
    "start_time": "2024-12-24T09:46:29.391Z"
   },
   {
    "duration": 15,
    "start_time": "2024-12-24T09:48:24.592Z"
   },
   {
    "duration": 220,
    "start_time": "2024-12-24T09:49:28.999Z"
   },
   {
    "duration": 46,
    "start_time": "2024-12-24T09:49:29.561Z"
   },
   {
    "duration": 80,
    "start_time": "2024-12-24T09:49:30.175Z"
   },
   {
    "duration": 18,
    "start_time": "2024-12-24T09:49:37.382Z"
   },
   {
    "duration": 15,
    "start_time": "2024-12-24T09:55:09.311Z"
   },
   {
    "duration": 1299,
    "start_time": "2024-12-24T09:57:31.501Z"
   },
   {
    "duration": 2773,
    "start_time": "2024-12-24T09:57:33.908Z"
   },
   {
    "duration": 14,
    "start_time": "2024-12-24T09:57:39.353Z"
   },
   {
    "duration": 13,
    "start_time": "2024-12-24T09:57:39.982Z"
   },
   {
    "duration": 16,
    "start_time": "2024-12-24T09:57:41.994Z"
   },
   {
    "duration": 116,
    "start_time": "2024-12-24T09:57:44.438Z"
   },
   {
    "duration": 10,
    "start_time": "2024-12-24T09:57:45.707Z"
   },
   {
    "duration": 15,
    "start_time": "2024-12-24T09:57:46.285Z"
   },
   {
    "duration": 11,
    "start_time": "2024-12-24T09:57:47.433Z"
   },
   {
    "duration": 11,
    "start_time": "2024-12-24T09:57:47.977Z"
   },
   {
    "duration": 13,
    "start_time": "2024-12-24T09:57:49.148Z"
   },
   {
    "duration": 21,
    "start_time": "2024-12-24T09:57:49.707Z"
   },
   {
    "duration": 11,
    "start_time": "2024-12-24T09:57:50.828Z"
   },
   {
    "duration": 42,
    "start_time": "2024-12-24T09:57:51.473Z"
   },
   {
    "duration": 9,
    "start_time": "2024-12-24T09:57:52.675Z"
   },
   {
    "duration": 26,
    "start_time": "2024-12-24T09:57:53.278Z"
   },
   {
    "duration": 6,
    "start_time": "2024-12-24T09:57:55.658Z"
   },
   {
    "duration": 58,
    "start_time": "2024-12-24T09:57:56.296Z"
   },
   {
    "duration": 6,
    "start_time": "2024-12-24T09:57:57.826Z"
   },
   {
    "duration": 25,
    "start_time": "2024-12-24T09:57:59.164Z"
   },
   {
    "duration": 171,
    "start_time": "2024-12-24T09:57:59.807Z"
   },
   {
    "duration": 619,
    "start_time": "2024-12-24T09:58:01.085Z"
   },
   {
    "duration": 72,
    "start_time": "2024-12-24T09:58:01.706Z"
   },
   {
    "duration": 82,
    "start_time": "2024-12-24T09:58:03.918Z"
   },
   {
    "duration": 157,
    "start_time": "2024-12-24T09:58:04.548Z"
   },
   {
    "duration": 156,
    "start_time": "2024-12-24T09:58:07.903Z"
   },
   {
    "duration": 5,
    "start_time": "2024-12-24T09:58:12.108Z"
   },
   {
    "duration": 78,
    "start_time": "2024-12-24T09:58:17.302Z"
   },
   {
    "duration": 34,
    "start_time": "2024-12-24T09:58:18.091Z"
   },
   {
    "duration": 75,
    "start_time": "2024-12-24T09:58:19.116Z"
   },
   {
    "duration": 16,
    "start_time": "2024-12-24T09:58:25.368Z"
   },
   {
    "duration": 99,
    "start_time": "2024-12-24T09:58:27.717Z"
   },
   {
    "duration": 17,
    "start_time": "2024-12-24T09:58:33.966Z"
   },
   {
    "duration": 333,
    "start_time": "2024-12-24T09:58:38.670Z"
   },
   {
    "duration": 83,
    "start_time": "2024-12-24T09:58:45.272Z"
   },
   {
    "duration": 173,
    "start_time": "2024-12-24T09:58:47.158Z"
   },
   {
    "duration": 90,
    "start_time": "2024-12-24T09:59:03.286Z"
   },
   {
    "duration": 18,
    "start_time": "2024-12-24T09:59:12.033Z"
   },
   {
    "duration": 124,
    "start_time": "2024-12-24T09:59:18.251Z"
   },
   {
    "duration": 29,
    "start_time": "2024-12-24T09:59:24.650Z"
   },
   {
    "duration": 40,
    "start_time": "2024-12-24T09:59:36.683Z"
   },
   {
    "duration": 9,
    "start_time": "2024-12-24T09:59:37.402Z"
   },
   {
    "duration": 352,
    "start_time": "2024-12-24T09:59:38.891Z"
   },
   {
    "duration": 1890,
    "start_time": "2024-12-24T10:00:34.170Z"
   },
   {
    "duration": 6,
    "start_time": "2024-12-24T10:00:36.062Z"
   },
   {
    "duration": 5,
    "start_time": "2024-12-24T10:00:38.603Z"
   },
   {
    "duration": 19,
    "start_time": "2024-12-24T10:00:41.867Z"
   },
   {
    "duration": 56,
    "start_time": "2024-12-24T10:00:42.582Z"
   },
   {
    "duration": 104,
    "start_time": "2024-12-24T10:00:44.137Z"
   },
   {
    "duration": 254,
    "start_time": "2024-12-24T10:00:44.926Z"
   },
   {
    "duration": 17,
    "start_time": "2024-12-24T10:00:46.715Z"
   },
   {
    "duration": 58,
    "start_time": "2024-12-24T10:00:47.537Z"
   },
   {
    "duration": 113,
    "start_time": "2024-12-24T10:00:49.699Z"
   },
   {
    "duration": 10,
    "start_time": "2024-12-24T10:00:50.525Z"
   },
   {
    "duration": 53,
    "start_time": "2024-12-24T10:00:52.150Z"
   },
   {
    "duration": 156,
    "start_time": "2024-12-24T10:00:53.207Z"
   },
   {
    "duration": 13,
    "start_time": "2024-12-24T10:01:35.155Z"
   },
   {
    "duration": 14,
    "start_time": "2024-12-24T10:01:36.221Z"
   },
   {
    "duration": 12,
    "start_time": "2024-12-24T10:01:41.799Z"
   },
   {
    "duration": 13,
    "start_time": "2024-12-24T10:03:04.477Z"
   },
   {
    "duration": 134,
    "start_time": "2024-12-24T10:03:32.892Z"
   },
   {
    "duration": 139,
    "start_time": "2024-12-24T10:04:09.236Z"
   },
   {
    "duration": 1699,
    "start_time": "2024-12-24T15:40:11.881Z"
   },
   {
    "duration": 2623,
    "start_time": "2024-12-24T15:40:15.107Z"
   },
   {
    "duration": 18,
    "start_time": "2024-12-24T15:40:22.648Z"
   },
   {
    "duration": 42,
    "start_time": "2024-12-24T15:40:23.583Z"
   },
   {
    "duration": 32,
    "start_time": "2024-12-24T15:40:28.895Z"
   },
   {
    "duration": 185,
    "start_time": "2024-12-24T15:40:31.935Z"
   },
   {
    "duration": 25,
    "start_time": "2024-12-24T15:40:33.288Z"
   },
   {
    "duration": 27,
    "start_time": "2024-12-24T15:40:33.976Z"
   },
   {
    "duration": 12,
    "start_time": "2024-12-24T15:40:35.367Z"
   },
   {
    "duration": 20,
    "start_time": "2024-12-24T15:40:36.073Z"
   },
   {
    "duration": 11,
    "start_time": "2024-12-24T15:40:37.448Z"
   },
   {
    "duration": 46,
    "start_time": "2024-12-24T15:40:38.185Z"
   },
   {
    "duration": 24,
    "start_time": "2024-12-24T15:40:39.601Z"
   },
   {
    "duration": 61,
    "start_time": "2024-12-24T15:40:40.272Z"
   },
   {
    "duration": 23,
    "start_time": "2024-12-24T15:40:41.700Z"
   },
   {
    "duration": 53,
    "start_time": "2024-12-24T15:40:42.376Z"
   },
   {
    "duration": 15,
    "start_time": "2024-12-24T15:40:45.106Z"
   },
   {
    "duration": 76,
    "start_time": "2024-12-24T15:40:45.784Z"
   },
   {
    "duration": 14,
    "start_time": "2024-12-24T15:40:47.225Z"
   },
   {
    "duration": 40,
    "start_time": "2024-12-24T15:40:48.664Z"
   },
   {
    "duration": 291,
    "start_time": "2024-12-24T15:40:49.329Z"
   },
   {
    "duration": 736,
    "start_time": "2024-12-24T15:40:50.739Z"
   },
   {
    "duration": 89,
    "start_time": "2024-12-24T15:40:51.478Z"
   },
   {
    "duration": 119,
    "start_time": "2024-12-24T15:40:53.625Z"
   },
   {
    "duration": 251,
    "start_time": "2024-12-24T15:40:54.570Z"
   },
   {
    "duration": 229,
    "start_time": "2024-12-24T15:40:58.049Z"
   },
   {
    "duration": 6,
    "start_time": "2024-12-24T15:41:02.376Z"
   },
   {
    "duration": 158,
    "start_time": "2024-12-24T15:41:07.203Z"
   },
   {
    "duration": 38,
    "start_time": "2024-12-24T15:41:07.928Z"
   },
   {
    "duration": 123,
    "start_time": "2024-12-24T15:41:08.656Z"
   },
   {
    "duration": 20,
    "start_time": "2024-12-24T15:41:14.320Z"
   },
   {
    "duration": 150,
    "start_time": "2024-12-24T15:41:15.034Z"
   },
   {
    "duration": 45,
    "start_time": "2024-12-24T15:41:16.472Z"
   },
   {
    "duration": 453,
    "start_time": "2024-12-24T15:41:19.343Z"
   },
   {
    "duration": 106,
    "start_time": "2024-12-24T15:41:20.033Z"
   },
   {
    "duration": 134,
    "start_time": "2024-12-24T15:41:20.918Z"
   },
   {
    "duration": 42,
    "start_time": "2024-12-24T15:41:21.691Z"
   },
   {
    "duration": 157,
    "start_time": "2024-12-24T15:41:24.027Z"
   },
   {
    "duration": 50,
    "start_time": "2024-12-24T15:41:28.352Z"
   },
   {
    "duration": 56,
    "start_time": "2024-12-24T15:41:30.427Z"
   },
   {
    "duration": 27,
    "start_time": "2024-12-24T15:41:31.216Z"
   },
   {
    "duration": 488,
    "start_time": "2024-12-24T15:41:32.761Z"
   },
   {
    "duration": 2417,
    "start_time": "2024-12-24T15:41:35.644Z"
   },
   {
    "duration": 5,
    "start_time": "2024-12-24T15:41:38.064Z"
   },
   {
    "duration": 25,
    "start_time": "2024-12-24T15:41:38.071Z"
   },
   {
    "duration": 45,
    "start_time": "2024-12-24T15:41:40.472Z"
   },
   {
    "duration": 95,
    "start_time": "2024-12-24T15:41:41.143Z"
   },
   {
    "duration": 154,
    "start_time": "2024-12-24T15:41:42.732Z"
   },
   {
    "duration": 353,
    "start_time": "2024-12-24T15:41:43.449Z"
   },
   {
    "duration": 27,
    "start_time": "2024-12-24T15:41:45.129Z"
   },
   {
    "duration": 98,
    "start_time": "2024-12-24T15:41:45.857Z"
   },
   {
    "duration": 205,
    "start_time": "2024-12-24T15:41:48.065Z"
   },
   {
    "duration": 27,
    "start_time": "2024-12-24T15:41:48.802Z"
   },
   {
    "duration": 98,
    "start_time": "2024-12-24T15:41:50.264Z"
   },
   {
    "duration": 211,
    "start_time": "2024-12-24T15:41:51.034Z"
   },
   {
    "duration": 27,
    "start_time": "2024-12-24T15:41:53.901Z"
   },
   {
    "duration": 17,
    "start_time": "2024-12-24T15:41:54.649Z"
   },
   {
    "duration": 31,
    "start_time": "2024-12-24T15:41:57.707Z"
   },
   {
    "duration": 200,
    "start_time": "2024-12-24T15:42:01.497Z"
   },
   {
    "duration": 1592,
    "start_time": "2024-12-24T15:53:55.409Z"
   },
   {
    "duration": 2627,
    "start_time": "2024-12-24T15:53:58.101Z"
   },
   {
    "duration": 36,
    "start_time": "2024-12-24T15:54:02.580Z"
   },
   {
    "duration": 17,
    "start_time": "2024-12-24T15:54:02.815Z"
   },
   {
    "duration": 29,
    "start_time": "2024-12-24T15:54:04.799Z"
   },
   {
    "duration": 120,
    "start_time": "2024-12-24T15:54:07.463Z"
   },
   {
    "duration": 18,
    "start_time": "2024-12-24T15:54:08.807Z"
   },
   {
    "duration": 28,
    "start_time": "2024-12-24T15:54:09.441Z"
   },
   {
    "duration": 10,
    "start_time": "2024-12-24T15:54:10.769Z"
   },
   {
    "duration": 19,
    "start_time": "2024-12-24T15:54:11.407Z"
   },
   {
    "duration": 16,
    "start_time": "2024-12-24T15:54:12.699Z"
   },
   {
    "duration": 35,
    "start_time": "2024-12-24T15:54:13.399Z"
   },
   {
    "duration": 13,
    "start_time": "2024-12-24T15:54:14.656Z"
   },
   {
    "duration": 64,
    "start_time": "2024-12-24T15:54:15.311Z"
   },
   {
    "duration": 11,
    "start_time": "2024-12-24T15:54:16.611Z"
   },
   {
    "duration": 55,
    "start_time": "2024-12-24T15:54:17.265Z"
   },
   {
    "duration": 12,
    "start_time": "2024-12-24T15:54:19.798Z"
   },
   {
    "duration": 81,
    "start_time": "2024-12-24T15:54:20.451Z"
   },
   {
    "duration": 11,
    "start_time": "2024-12-24T15:54:21.816Z"
   },
   {
    "duration": 35,
    "start_time": "2024-12-24T15:54:23.048Z"
   },
   {
    "duration": 284,
    "start_time": "2024-12-24T15:54:23.665Z"
   },
   {
    "duration": 922,
    "start_time": "2024-12-24T15:54:25.012Z"
   },
   {
    "duration": 112,
    "start_time": "2024-12-24T15:54:25.937Z"
   },
   {
    "duration": 118,
    "start_time": "2024-12-24T15:54:27.629Z"
   },
   {
    "duration": 263,
    "start_time": "2024-12-24T15:54:28.281Z"
   },
   {
    "duration": 188,
    "start_time": "2024-12-24T15:54:31.361Z"
   },
   {
    "duration": 7,
    "start_time": "2024-12-24T15:54:35.120Z"
   },
   {
    "duration": 150,
    "start_time": "2024-12-24T15:54:39.377Z"
   },
   {
    "duration": 32,
    "start_time": "2024-12-24T15:54:40.017Z"
   },
   {
    "duration": 136,
    "start_time": "2024-12-24T15:54:40.673Z"
   },
   {
    "duration": 22,
    "start_time": "2024-12-24T15:54:49.232Z"
   },
   {
    "duration": 174,
    "start_time": "2024-12-24T15:54:50.482Z"
   },
   {
    "duration": 19,
    "start_time": "2024-12-24T15:54:59.240Z"
   },
   {
    "duration": 472,
    "start_time": "2024-12-24T15:55:07.049Z"
   },
   {
    "duration": 109,
    "start_time": "2024-12-24T15:55:14.666Z"
   },
   {
    "duration": 264,
    "start_time": "2024-12-24T15:55:15.770Z"
   },
   {
    "duration": 178,
    "start_time": "2024-12-24T15:59:46.277Z"
   },
   {
    "duration": 80,
    "start_time": "2024-12-24T16:00:42.662Z"
   },
   {
    "duration": 72,
    "start_time": "2024-12-24T16:01:18.654Z"
   },
   {
    "duration": 144,
    "start_time": "2024-12-24T16:03:50.176Z"
   },
   {
    "duration": 29,
    "start_time": "2024-12-24T16:03:54.968Z"
   },
   {
    "duration": 180,
    "start_time": "2024-12-24T16:07:25.466Z"
   },
   {
    "duration": 22,
    "start_time": "2024-12-24T16:07:32.042Z"
   },
   {
    "duration": 464,
    "start_time": "2024-12-24T16:07:45.622Z"
   },
   {
    "duration": 94,
    "start_time": "2024-12-24T16:07:53.043Z"
   },
   {
    "duration": 134,
    "start_time": "2024-12-24T16:08:00.764Z"
   },
   {
    "duration": 25,
    "start_time": "2024-12-24T16:08:09.074Z"
   },
   {
    "duration": 210,
    "start_time": "2024-12-24T16:08:26.212Z"
   },
   {
    "duration": 41,
    "start_time": "2024-12-24T16:08:42.134Z"
   },
   {
    "duration": 22,
    "start_time": "2024-12-24T16:13:05.454Z"
   },
   {
    "duration": 150,
    "start_time": "2024-12-24T16:16:40.227Z"
   },
   {
    "duration": 29,
    "start_time": "2024-12-24T16:16:51.594Z"
   },
   {
    "duration": 21,
    "start_time": "2024-12-24T16:17:11.849Z"
   },
   {
    "duration": 26,
    "start_time": "2024-12-24T16:21:18.333Z"
   },
   {
    "duration": 17,
    "start_time": "2024-12-24T16:22:00.957Z"
   },
   {
    "duration": 31,
    "start_time": "2024-12-24T16:46:39.586Z"
   },
   {
    "duration": 28,
    "start_time": "2024-12-24T16:46:46.833Z"
   },
   {
    "duration": 34,
    "start_time": "2024-12-24T16:47:49.563Z"
   },
   {
    "duration": 1308,
    "start_time": "2024-12-25T10:20:41.978Z"
   },
   {
    "duration": 2034,
    "start_time": "2024-12-25T10:20:44.306Z"
   },
   {
    "duration": 13,
    "start_time": "2024-12-25T10:20:49.543Z"
   },
   {
    "duration": 13,
    "start_time": "2024-12-25T10:20:50.194Z"
   },
   {
    "duration": 15,
    "start_time": "2024-12-25T10:20:51.883Z"
   },
   {
    "duration": 96,
    "start_time": "2024-12-25T10:20:54.064Z"
   },
   {
    "duration": 9,
    "start_time": "2024-12-25T10:20:55.122Z"
   },
   {
    "duration": 13,
    "start_time": "2024-12-25T10:20:55.639Z"
   },
   {
    "duration": 6,
    "start_time": "2024-12-25T10:20:56.701Z"
   },
   {
    "duration": 10,
    "start_time": "2024-12-25T10:20:57.204Z"
   },
   {
    "duration": 7,
    "start_time": "2024-12-25T10:20:58.234Z"
   },
   {
    "duration": 20,
    "start_time": "2024-12-25T10:20:58.765Z"
   },
   {
    "duration": 9,
    "start_time": "2024-12-25T10:20:59.818Z"
   },
   {
    "duration": 39,
    "start_time": "2024-12-25T10:21:00.323Z"
   },
   {
    "duration": 8,
    "start_time": "2024-12-25T10:21:01.379Z"
   },
   {
    "duration": 24,
    "start_time": "2024-12-25T10:21:02.244Z"
   },
   {
    "duration": 6,
    "start_time": "2024-12-25T10:21:04.513Z"
   },
   {
    "duration": 59,
    "start_time": "2024-12-25T10:21:05.021Z"
   },
   {
    "duration": 5,
    "start_time": "2024-12-25T10:21:06.098Z"
   },
   {
    "duration": 22,
    "start_time": "2024-12-25T10:21:07.236Z"
   },
   {
    "duration": 169,
    "start_time": "2024-12-25T10:21:07.825Z"
   },
   {
    "duration": 557,
    "start_time": "2024-12-25T10:21:09.085Z"
   },
   {
    "duration": 57,
    "start_time": "2024-12-25T10:21:09.686Z"
   },
   {
    "duration": 72,
    "start_time": "2024-12-25T10:21:11.524Z"
   },
   {
    "duration": 134,
    "start_time": "2024-12-25T10:21:12.114Z"
   },
   {
    "duration": 133,
    "start_time": "2024-12-25T10:21:14.893Z"
   },
   {
    "duration": 5,
    "start_time": "2024-12-25T10:21:18.566Z"
   },
   {
    "duration": 79,
    "start_time": "2024-12-25T10:21:22.539Z"
   },
   {
    "duration": 24,
    "start_time": "2024-12-25T10:21:23.070Z"
   },
   {
    "duration": 69,
    "start_time": "2024-12-25T10:21:23.609Z"
   },
   {
    "duration": 15,
    "start_time": "2024-12-25T10:21:27.911Z"
   },
   {
    "duration": 96,
    "start_time": "2024-12-25T10:21:28.520Z"
   },
   {
    "duration": 15,
    "start_time": "2024-12-25T10:21:29.672Z"
   },
   {
    "duration": 341,
    "start_time": "2024-12-25T10:21:31.904Z"
   },
   {
    "duration": 90,
    "start_time": "2024-12-25T10:21:32.508Z"
   },
   {
    "duration": 87,
    "start_time": "2024-12-25T10:21:33.123Z"
   },
   {
    "duration": 18,
    "start_time": "2024-12-25T10:21:33.720Z"
   },
   {
    "duration": 100,
    "start_time": "2024-12-25T10:21:36.150Z"
   },
   {
    "duration": 27,
    "start_time": "2024-12-25T10:21:38.307Z"
   },
   {
    "duration": 35,
    "start_time": "2024-12-25T10:21:39.426Z"
   },
   {
    "duration": 8,
    "start_time": "2024-12-25T10:21:40.015Z"
   },
   {
    "duration": 388,
    "start_time": "2024-12-25T10:21:41.218Z"
   },
   {
    "duration": 1735,
    "start_time": "2024-12-25T10:21:43.485Z"
   },
   {
    "duration": 10,
    "start_time": "2024-12-25T10:21:45.222Z"
   },
   {
    "duration": 61,
    "start_time": "2024-12-25T10:21:45.233Z"
   },
   {
    "duration": 20,
    "start_time": "2024-12-25T10:21:46.960Z"
   },
   {
    "duration": 50,
    "start_time": "2024-12-25T10:21:47.502Z"
   },
   {
    "duration": 123,
    "start_time": "2024-12-25T10:21:48.586Z"
   },
   {
    "duration": 216,
    "start_time": "2024-12-25T10:21:49.176Z"
   },
   {
    "duration": 16,
    "start_time": "2024-12-25T10:21:50.356Z"
   },
   {
    "duration": 53,
    "start_time": "2024-12-25T10:21:50.891Z"
   },
   {
    "duration": 123,
    "start_time": "2024-12-25T10:21:52.506Z"
   },
   {
    "duration": 13,
    "start_time": "2024-12-25T10:21:53.182Z"
   },
   {
    "duration": 48,
    "start_time": "2024-12-25T10:21:54.276Z"
   },
   {
    "duration": 140,
    "start_time": "2024-12-25T10:21:54.855Z"
   },
   {
    "duration": 12,
    "start_time": "2024-12-25T10:21:57.274Z"
   },
   {
    "duration": 12,
    "start_time": "2024-12-25T10:21:57.869Z"
   },
   {
    "duration": 11,
    "start_time": "2024-12-25T10:22:00.183Z"
   },
   {
    "duration": 129,
    "start_time": "2024-12-25T10:22:02.783Z"
   },
   {
    "duration": 15,
    "start_time": "2024-12-25T10:22:06.943Z"
   },
   {
    "duration": 21,
    "start_time": "2024-12-25T10:22:07.978Z"
   },
   {
    "duration": 3,
    "start_time": "2024-12-25T10:24:03.027Z"
   },
   {
    "duration": 4,
    "start_time": "2024-12-25T10:24:15.876Z"
   },
   {
    "duration": 4,
    "start_time": "2024-12-25T10:24:54.176Z"
   },
   {
    "duration": 13,
    "start_time": "2024-12-25T10:24:59.640Z"
   },
   {
    "duration": 3,
    "start_time": "2024-12-25T10:25:43.407Z"
   },
   {
    "duration": 15,
    "start_time": "2024-12-25T10:33:02.959Z"
   },
   {
    "duration": 75,
    "start_time": "2024-12-25T10:33:30.009Z"
   },
   {
    "duration": 25,
    "start_time": "2024-12-25T10:36:50.066Z"
   },
   {
    "duration": 5,
    "start_time": "2024-12-25T10:37:22.753Z"
   },
   {
    "duration": 3,
    "start_time": "2024-12-25T10:37:38.292Z"
   },
   {
    "duration": 16,
    "start_time": "2024-12-25T10:41:24.033Z"
   },
   {
    "duration": 21,
    "start_time": "2024-12-25T10:41:47.638Z"
   },
   {
    "duration": 4,
    "start_time": "2024-12-25T10:41:48.526Z"
   },
   {
    "duration": 1205,
    "start_time": "2024-12-25T10:44:07.165Z"
   },
   {
    "duration": 2064,
    "start_time": "2024-12-25T10:44:08.493Z"
   },
   {
    "duration": 12,
    "start_time": "2024-12-25T10:44:11.943Z"
   },
   {
    "duration": 12,
    "start_time": "2024-12-25T10:44:12.516Z"
   },
   {
    "duration": 16,
    "start_time": "2024-12-25T10:44:14.242Z"
   },
   {
    "duration": 109,
    "start_time": "2024-12-25T10:44:16.365Z"
   },
   {
    "duration": 18,
    "start_time": "2024-12-25T10:44:17.425Z"
   },
   {
    "duration": 14,
    "start_time": "2024-12-25T10:44:18.009Z"
   },
   {
    "duration": 7,
    "start_time": "2024-12-25T10:44:19.905Z"
   },
   {
    "duration": 25,
    "start_time": "2024-12-25T10:44:19.914Z"
   },
   {
    "duration": 10,
    "start_time": "2024-12-25T10:44:20.746Z"
   },
   {
    "duration": 19,
    "start_time": "2024-12-25T10:44:21.274Z"
   },
   {
    "duration": 10,
    "start_time": "2024-12-25T10:44:22.355Z"
   },
   {
    "duration": 47,
    "start_time": "2024-12-25T10:44:22.874Z"
   },
   {
    "duration": 7,
    "start_time": "2024-12-25T10:44:23.985Z"
   },
   {
    "duration": 23,
    "start_time": "2024-12-25T10:44:24.504Z"
   },
   {
    "duration": 7,
    "start_time": "2024-12-25T10:44:26.602Z"
   },
   {
    "duration": 66,
    "start_time": "2024-12-25T10:44:27.135Z"
   },
   {
    "duration": 6,
    "start_time": "2024-12-25T10:44:28.218Z"
   },
   {
    "duration": 34,
    "start_time": "2024-12-25T10:44:29.268Z"
   },
   {
    "duration": 205,
    "start_time": "2024-12-25T10:44:29.818Z"
   },
   {
    "duration": 615,
    "start_time": "2024-12-25T10:44:30.875Z"
   },
   {
    "duration": 83,
    "start_time": "2024-12-25T10:44:31.493Z"
   },
   {
    "duration": 78,
    "start_time": "2024-12-25T10:44:33.096Z"
   },
   {
    "duration": 145,
    "start_time": "2024-12-25T10:44:33.595Z"
   },
   {
    "duration": 161,
    "start_time": "2024-12-25T10:44:36.321Z"
   },
   {
    "duration": 5,
    "start_time": "2024-12-25T10:44:40.146Z"
   },
   {
    "duration": 76,
    "start_time": "2024-12-25T10:44:44.207Z"
   },
   {
    "duration": 28,
    "start_time": "2024-12-25T10:44:44.837Z"
   },
   {
    "duration": 69,
    "start_time": "2024-12-25T10:44:45.404Z"
   },
   {
    "duration": 15,
    "start_time": "2024-12-25T10:44:49.439Z"
   },
   {
    "duration": 102,
    "start_time": "2024-12-25T10:44:49.949Z"
   },
   {
    "duration": 23,
    "start_time": "2024-12-25T10:44:51.014Z"
   },
   {
    "duration": 317,
    "start_time": "2024-12-25T10:44:53.007Z"
   },
   {
    "duration": 84,
    "start_time": "2024-12-25T10:44:53.520Z"
   },
   {
    "duration": 90,
    "start_time": "2024-12-25T10:44:53.998Z"
   },
   {
    "duration": 21,
    "start_time": "2024-12-25T10:44:55.083Z"
   },
   {
    "duration": 103,
    "start_time": "2024-12-25T10:44:56.912Z"
   },
   {
    "duration": 27,
    "start_time": "2024-12-25T10:44:58.983Z"
   },
   {
    "duration": 37,
    "start_time": "2024-12-25T10:45:00.079Z"
   },
   {
    "duration": 9,
    "start_time": "2024-12-25T10:45:00.639Z"
   },
   {
    "duration": 374,
    "start_time": "2024-12-25T10:45:01.763Z"
   },
   {
    "duration": 1806,
    "start_time": "2024-12-25T10:45:03.897Z"
   },
   {
    "duration": 6,
    "start_time": "2024-12-25T10:45:05.706Z"
   },
   {
    "duration": 47,
    "start_time": "2024-12-25T10:45:05.714Z"
   },
   {
    "duration": 23,
    "start_time": "2024-12-25T10:45:07.191Z"
   },
   {
    "duration": 50,
    "start_time": "2024-12-25T10:45:07.719Z"
   },
   {
    "duration": 114,
    "start_time": "2024-12-25T10:45:08.851Z"
   },
   {
    "duration": 266,
    "start_time": "2024-12-25T10:45:09.431Z"
   },
   {
    "duration": 18,
    "start_time": "2024-12-25T10:45:10.483Z"
   },
   {
    "duration": 51,
    "start_time": "2024-12-25T10:45:11.064Z"
   },
   {
    "duration": 135,
    "start_time": "2024-12-25T10:45:12.749Z"
   },
   {
    "duration": 10,
    "start_time": "2024-12-25T10:45:14.350Z"
   },
   {
    "duration": 46,
    "start_time": "2024-12-25T10:45:15.467Z"
   },
   {
    "duration": 177,
    "start_time": "2024-12-25T10:45:16.019Z"
   },
   {
    "duration": 12,
    "start_time": "2024-12-25T10:45:18.111Z"
   },
   {
    "duration": 13,
    "start_time": "2024-12-25T10:45:18.646Z"
   },
   {
    "duration": 14,
    "start_time": "2024-12-25T10:45:20.728Z"
   },
   {
    "duration": 148,
    "start_time": "2024-12-25T10:45:23.313Z"
   },
   {
    "duration": 22,
    "start_time": "2024-12-25T10:45:27.415Z"
   },
   {
    "duration": 15,
    "start_time": "2024-12-25T10:45:28.364Z"
   },
   {
    "duration": 3,
    "start_time": "2024-12-25T10:45:30.247Z"
   },
   {
    "duration": 102,
    "start_time": "2024-12-25T10:59:02.277Z"
   },
   {
    "duration": 1299,
    "start_time": "2024-12-25T11:05:53.943Z"
   },
   {
    "duration": 2347,
    "start_time": "2024-12-25T11:05:55.245Z"
   },
   {
    "duration": 15,
    "start_time": "2024-12-25T11:05:58.465Z"
   },
   {
    "duration": 14,
    "start_time": "2024-12-25T11:05:59.033Z"
   },
   {
    "duration": 18,
    "start_time": "2024-12-25T11:06:00.829Z"
   },
   {
    "duration": 100,
    "start_time": "2024-12-25T11:06:03.004Z"
   },
   {
    "duration": 15,
    "start_time": "2024-12-25T11:06:04.132Z"
   },
   {
    "duration": 16,
    "start_time": "2024-12-25T11:06:04.665Z"
   },
   {
    "duration": 7,
    "start_time": "2024-12-25T11:06:05.805Z"
   },
   {
    "duration": 11,
    "start_time": "2024-12-25T11:06:06.315Z"
   },
   {
    "duration": 8,
    "start_time": "2024-12-25T11:06:07.379Z"
   },
   {
    "duration": 19,
    "start_time": "2024-12-25T11:06:07.893Z"
   },
   {
    "duration": 11,
    "start_time": "2024-12-25T11:06:08.972Z"
   },
   {
    "duration": 41,
    "start_time": "2024-12-25T11:06:09.462Z"
   },
   {
    "duration": 8,
    "start_time": "2024-12-25T11:06:10.483Z"
   },
   {
    "duration": 26,
    "start_time": "2024-12-25T11:06:10.986Z"
   },
   {
    "duration": 6,
    "start_time": "2024-12-25T11:06:13.000Z"
   },
   {
    "duration": 66,
    "start_time": "2024-12-25T11:06:13.495Z"
   },
   {
    "duration": 6,
    "start_time": "2024-12-25T11:06:14.513Z"
   },
   {
    "duration": 36,
    "start_time": "2024-12-25T11:06:15.559Z"
   },
   {
    "duration": 162,
    "start_time": "2024-12-25T11:06:16.129Z"
   },
   {
    "duration": 688,
    "start_time": "2024-12-25T11:06:17.199Z"
   },
   {
    "duration": 78,
    "start_time": "2024-12-25T11:06:17.889Z"
   },
   {
    "duration": 84,
    "start_time": "2024-12-25T11:06:19.581Z"
   },
   {
    "duration": 154,
    "start_time": "2024-12-25T11:06:19.952Z"
   },
   {
    "duration": 166,
    "start_time": "2024-12-25T11:06:22.628Z"
   },
   {
    "duration": 7,
    "start_time": "2024-12-25T11:06:26.092Z"
   },
   {
    "duration": 81,
    "start_time": "2024-12-25T11:06:29.683Z"
   },
   {
    "duration": 35,
    "start_time": "2024-12-25T11:06:30.200Z"
   },
   {
    "duration": 84,
    "start_time": "2024-12-25T11:06:30.733Z"
   },
   {
    "duration": 21,
    "start_time": "2024-12-25T11:06:35.222Z"
   },
   {
    "duration": 156,
    "start_time": "2024-12-25T11:06:35.791Z"
   },
   {
    "duration": 22,
    "start_time": "2024-12-25T11:06:36.871Z"
   },
   {
    "duration": 325,
    "start_time": "2024-12-25T11:06:38.755Z"
   },
   {
    "duration": 106,
    "start_time": "2024-12-25T11:06:39.283Z"
   },
   {
    "duration": 125,
    "start_time": "2024-12-25T11:06:39.825Z"
   },
   {
    "duration": 22,
    "start_time": "2024-12-25T11:06:40.421Z"
   },
   {
    "duration": 124,
    "start_time": "2024-12-25T11:06:42.083Z"
   },
   {
    "duration": 41,
    "start_time": "2024-12-25T11:06:44.300Z"
   },
   {
    "duration": 40,
    "start_time": "2024-12-25T11:06:45.524Z"
   },
   {
    "duration": 13,
    "start_time": "2024-12-25T11:06:46.923Z"
   },
   {
    "duration": 381,
    "start_time": "2024-12-25T11:06:48.775Z"
   },
   {
    "duration": 1920,
    "start_time": "2024-12-25T11:06:51.315Z"
   },
   {
    "duration": 5,
    "start_time": "2024-12-25T11:06:53.237Z"
   },
   {
    "duration": 42,
    "start_time": "2024-12-25T11:06:53.244Z"
   },
   {
    "duration": 20,
    "start_time": "2024-12-25T11:06:55.256Z"
   },
   {
    "duration": 54,
    "start_time": "2024-12-25T11:06:55.813Z"
   },
   {
    "duration": 111,
    "start_time": "2024-12-25T11:06:56.907Z"
   },
   {
    "duration": 228,
    "start_time": "2024-12-25T11:06:57.484Z"
   },
   {
    "duration": 23,
    "start_time": "2024-12-25T11:06:58.644Z"
   },
   {
    "duration": 54,
    "start_time": "2024-12-25T11:06:59.193Z"
   },
   {
    "duration": 152,
    "start_time": "2024-12-25T11:07:00.756Z"
   },
   {
    "duration": 11,
    "start_time": "2024-12-25T11:07:01.406Z"
   },
   {
    "duration": 71,
    "start_time": "2024-12-25T11:07:02.476Z"
   },
   {
    "duration": 214,
    "start_time": "2024-12-25T11:07:03.086Z"
   },
   {
    "duration": 20,
    "start_time": "2024-12-25T11:07:05.227Z"
   },
   {
    "duration": 20,
    "start_time": "2024-12-25T11:07:05.772Z"
   },
   {
    "duration": 18,
    "start_time": "2024-12-25T11:07:07.971Z"
   },
   {
    "duration": 179,
    "start_time": "2024-12-25T11:07:10.451Z"
   },
   {
    "duration": 23,
    "start_time": "2024-12-25T11:07:17.066Z"
   },
   {
    "duration": 83,
    "start_time": "2024-12-25T11:07:27.439Z"
   },
   {
    "duration": 16,
    "start_time": "2024-12-25T11:07:48.799Z"
   },
   {
    "duration": 82,
    "start_time": "2024-12-25T11:08:58.815Z"
   },
   {
    "duration": 84,
    "start_time": "2024-12-25T11:11:01.874Z"
   },
   {
    "duration": 47,
    "start_time": "2024-12-25T11:11:50.619Z"
   },
   {
    "duration": 39,
    "start_time": "2024-12-25T11:12:13.675Z"
   },
   {
    "duration": 34,
    "start_time": "2024-12-25T11:12:19.372Z"
   },
   {
    "duration": 5,
    "start_time": "2024-12-25T11:13:13.680Z"
   },
   {
    "duration": 3,
    "start_time": "2024-12-25T11:13:57.649Z"
   },
   {
    "duration": 107,
    "start_time": "2024-12-25T11:18:34.027Z"
   },
   {
    "duration": 111,
    "start_time": "2024-12-25T11:19:04.295Z"
   },
   {
    "duration": 14,
    "start_time": "2024-12-25T11:24:58.678Z"
   },
   {
    "duration": 114,
    "start_time": "2024-12-25T11:25:17.783Z"
   },
   {
    "duration": 113,
    "start_time": "2024-12-25T11:25:25.887Z"
   },
   {
    "duration": 37,
    "start_time": "2024-12-25T11:25:26.906Z"
   },
   {
    "duration": 3,
    "start_time": "2024-12-25T11:25:30.269Z"
   },
   {
    "duration": 23,
    "start_time": "2024-12-25T11:40:36.040Z"
   },
   {
    "duration": 491,
    "start_time": "2024-12-25T11:48:20.090Z"
   },
   {
    "duration": 35,
    "start_time": "2024-12-25T11:48:39.421Z"
   },
   {
    "duration": 1233,
    "start_time": "2024-12-25T11:49:12.020Z"
   },
   {
    "duration": 2196,
    "start_time": "2024-12-25T11:49:13.418Z"
   },
   {
    "duration": 12,
    "start_time": "2024-12-25T11:49:17.523Z"
   },
   {
    "duration": 13,
    "start_time": "2024-12-25T11:49:18.091Z"
   },
   {
    "duration": 15,
    "start_time": "2024-12-25T11:49:19.762Z"
   },
   {
    "duration": 104,
    "start_time": "2024-12-25T11:49:21.889Z"
   },
   {
    "duration": 11,
    "start_time": "2024-12-25T11:49:22.931Z"
   },
   {
    "duration": 13,
    "start_time": "2024-12-25T11:49:23.464Z"
   },
   {
    "duration": 8,
    "start_time": "2024-12-25T11:49:24.580Z"
   },
   {
    "duration": 11,
    "start_time": "2024-12-25T11:49:25.084Z"
   },
   {
    "duration": 8,
    "start_time": "2024-12-25T11:49:26.065Z"
   },
   {
    "duration": 18,
    "start_time": "2024-12-25T11:49:26.580Z"
   },
   {
    "duration": 9,
    "start_time": "2024-12-25T11:49:27.599Z"
   },
   {
    "duration": 38,
    "start_time": "2024-12-25T11:49:28.119Z"
   },
   {
    "duration": 8,
    "start_time": "2024-12-25T11:49:29.175Z"
   },
   {
    "duration": 24,
    "start_time": "2024-12-25T11:49:29.678Z"
   },
   {
    "duration": 6,
    "start_time": "2024-12-25T11:49:31.724Z"
   },
   {
    "duration": 59,
    "start_time": "2024-12-25T11:49:32.251Z"
   },
   {
    "duration": 5,
    "start_time": "2024-12-25T11:49:33.224Z"
   },
   {
    "duration": 21,
    "start_time": "2024-12-25T11:49:34.211Z"
   },
   {
    "duration": 173,
    "start_time": "2024-12-25T11:49:34.729Z"
   },
   {
    "duration": 583,
    "start_time": "2024-12-25T11:49:35.762Z"
   },
   {
    "duration": 60,
    "start_time": "2024-12-25T11:49:36.347Z"
   },
   {
    "duration": 76,
    "start_time": "2024-12-25T11:49:37.948Z"
   },
   {
    "duration": 134,
    "start_time": "2024-12-25T11:49:38.491Z"
   },
   {
    "duration": 132,
    "start_time": "2024-12-25T11:49:41.203Z"
   },
   {
    "duration": 5,
    "start_time": "2024-12-25T11:49:44.243Z"
   },
   {
    "duration": 74,
    "start_time": "2024-12-25T11:49:47.647Z"
   },
   {
    "duration": 27,
    "start_time": "2024-12-25T11:49:48.163Z"
   },
   {
    "duration": 70,
    "start_time": "2024-12-25T11:49:48.675Z"
   },
   {
    "duration": 15,
    "start_time": "2024-12-25T11:49:52.538Z"
   },
   {
    "duration": 97,
    "start_time": "2024-12-25T11:49:53.006Z"
   },
   {
    "duration": 17,
    "start_time": "2024-12-25T11:49:53.988Z"
   },
   {
    "duration": 332,
    "start_time": "2024-12-25T11:49:56.014Z"
   },
   {
    "duration": 89,
    "start_time": "2024-12-25T11:49:56.594Z"
   },
   {
    "duration": 92,
    "start_time": "2024-12-25T11:49:57.168Z"
   },
   {
    "duration": 19,
    "start_time": "2024-12-25T11:49:57.700Z"
   },
   {
    "duration": 99,
    "start_time": "2024-12-25T11:49:59.223Z"
   },
   {
    "duration": 26,
    "start_time": "2024-12-25T11:50:01.359Z"
   },
   {
    "duration": 40,
    "start_time": "2024-12-25T11:50:02.359Z"
   },
   {
    "duration": 9,
    "start_time": "2024-12-25T11:50:02.846Z"
   },
   {
    "duration": 328,
    "start_time": "2024-12-25T11:50:03.935Z"
   },
   {
    "duration": 1747,
    "start_time": "2024-12-25T11:50:05.987Z"
   },
   {
    "duration": 4,
    "start_time": "2024-12-25T11:50:07.736Z"
   },
   {
    "duration": 9,
    "start_time": "2024-12-25T11:50:07.741Z"
   },
   {
    "duration": 19,
    "start_time": "2024-12-25T11:50:10.771Z"
   },
   {
    "duration": 51,
    "start_time": "2024-12-25T11:50:11.303Z"
   },
   {
    "duration": 102,
    "start_time": "2024-12-25T11:50:12.314Z"
   },
   {
    "duration": 225,
    "start_time": "2024-12-25T11:50:12.820Z"
   },
   {
    "duration": 17,
    "start_time": "2024-12-25T11:50:13.863Z"
   },
   {
    "duration": 58,
    "start_time": "2024-12-25T11:50:14.392Z"
   },
   {
    "duration": 152,
    "start_time": "2024-12-25T11:50:15.958Z"
   },
   {
    "duration": 10,
    "start_time": "2024-12-25T11:50:16.447Z"
   },
   {
    "duration": 49,
    "start_time": "2024-12-25T11:50:17.478Z"
   },
   {
    "duration": 158,
    "start_time": "2024-12-25T11:50:18.014Z"
   },
   {
    "duration": 13,
    "start_time": "2024-12-25T11:50:19.941Z"
   },
   {
    "duration": 13,
    "start_time": "2024-12-25T11:50:20.462Z"
   },
   {
    "duration": 11,
    "start_time": "2024-12-25T11:50:22.449Z"
   },
   {
    "duration": 132,
    "start_time": "2024-12-25T11:50:24.953Z"
   },
   {
    "duration": 17,
    "start_time": "2024-12-25T11:50:29.555Z"
   },
   {
    "duration": 116,
    "start_time": "2024-12-25T11:50:30.794Z"
   },
   {
    "duration": 94,
    "start_time": "2024-12-25T11:50:32.601Z"
   },
   {
    "duration": 506,
    "start_time": "2024-12-25T11:50:36.847Z"
   },
   {
    "duration": 130,
    "start_time": "2024-12-25T11:51:29.238Z"
   },
   {
    "duration": 132,
    "start_time": "2024-12-25T11:51:41.675Z"
   },
   {
    "duration": 17,
    "start_time": "2024-12-25T11:52:25.067Z"
   },
   {
    "duration": 120,
    "start_time": "2024-12-25T11:52:29.779Z"
   },
   {
    "duration": 125,
    "start_time": "2024-12-25T11:52:37.970Z"
   },
   {
    "duration": 549,
    "start_time": "2024-12-25T11:52:47.249Z"
   },
   {
    "duration": 35,
    "start_time": "2024-12-25T11:52:54.396Z"
   },
   {
    "duration": 3,
    "start_time": "2024-12-25T11:53:10.746Z"
   },
   {
    "duration": 481,
    "start_time": "2024-12-25T11:54:03.723Z"
   },
   {
    "duration": 35,
    "start_time": "2024-12-25T11:54:13.593Z"
   },
   {
    "duration": 4,
    "start_time": "2024-12-25T11:55:01.926Z"
   },
   {
    "duration": 3,
    "start_time": "2024-12-25T11:55:05.991Z"
   },
   {
    "duration": 1183,
    "start_time": "2024-12-25T11:55:32.312Z"
   },
   {
    "duration": 1910,
    "start_time": "2024-12-25T11:55:33.606Z"
   },
   {
    "duration": 12,
    "start_time": "2024-12-25T11:55:37.128Z"
   },
   {
    "duration": 12,
    "start_time": "2024-12-25T11:55:37.752Z"
   },
   {
    "duration": 16,
    "start_time": "2024-12-25T11:55:39.526Z"
   },
   {
    "duration": 101,
    "start_time": "2024-12-25T11:55:41.670Z"
   },
   {
    "duration": 11,
    "start_time": "2024-12-25T11:55:42.805Z"
   },
   {
    "duration": 13,
    "start_time": "2024-12-25T11:55:43.415Z"
   },
   {
    "duration": 7,
    "start_time": "2024-12-25T11:55:44.634Z"
   },
   {
    "duration": 10,
    "start_time": "2024-12-25T11:55:45.307Z"
   },
   {
    "duration": 8,
    "start_time": "2024-12-25T11:55:46.696Z"
   },
   {
    "duration": 20,
    "start_time": "2024-12-25T11:55:47.339Z"
   },
   {
    "duration": 9,
    "start_time": "2024-12-25T11:55:48.500Z"
   },
   {
    "duration": 38,
    "start_time": "2024-12-25T11:55:49.056Z"
   },
   {
    "duration": 8,
    "start_time": "2024-12-25T11:55:50.152Z"
   },
   {
    "duration": 24,
    "start_time": "2024-12-25T11:55:50.705Z"
   },
   {
    "duration": 5,
    "start_time": "2024-12-25T11:55:52.894Z"
   },
   {
    "duration": 59,
    "start_time": "2024-12-25T11:55:53.436Z"
   },
   {
    "duration": 5,
    "start_time": "2024-12-25T11:55:54.543Z"
   },
   {
    "duration": 23,
    "start_time": "2024-12-25T11:55:56.354Z"
   },
   {
    "duration": 172,
    "start_time": "2024-12-25T11:55:56.954Z"
   },
   {
    "duration": 680,
    "start_time": "2024-12-25T11:55:58.111Z"
   },
   {
    "duration": 85,
    "start_time": "2024-12-25T11:55:58.793Z"
   },
   {
    "duration": 79,
    "start_time": "2024-12-25T11:56:00.485Z"
   },
   {
    "duration": 142,
    "start_time": "2024-12-25T11:56:01.227Z"
   },
   {
    "duration": 135,
    "start_time": "2024-12-25T11:56:04.293Z"
   },
   {
    "duration": 5,
    "start_time": "2024-12-25T11:56:07.970Z"
   },
   {
    "duration": 75,
    "start_time": "2024-12-25T11:56:11.621Z"
   },
   {
    "duration": 25,
    "start_time": "2024-12-25T11:56:12.218Z"
   },
   {
    "duration": 71,
    "start_time": "2024-12-25T11:56:12.732Z"
   },
   {
    "duration": 16,
    "start_time": "2024-12-25T11:56:16.911Z"
   },
   {
    "duration": 98,
    "start_time": "2024-12-25T11:56:17.434Z"
   },
   {
    "duration": 16,
    "start_time": "2024-12-25T11:56:19.322Z"
   },
   {
    "duration": 320,
    "start_time": "2024-12-25T11:56:20.987Z"
   },
   {
    "duration": 110,
    "start_time": "2024-12-25T11:56:21.559Z"
   },
   {
    "duration": 89,
    "start_time": "2024-12-25T11:56:22.118Z"
   },
   {
    "duration": 18,
    "start_time": "2024-12-25T11:56:22.672Z"
   },
   {
    "duration": 106,
    "start_time": "2024-12-25T11:56:24.278Z"
   },
   {
    "duration": 27,
    "start_time": "2024-12-25T11:56:26.353Z"
   },
   {
    "duration": 37,
    "start_time": "2024-12-25T11:56:27.427Z"
   },
   {
    "duration": 8,
    "start_time": "2024-12-25T11:56:28.005Z"
   },
   {
    "duration": 333,
    "start_time": "2024-12-25T11:56:29.100Z"
   },
   {
    "duration": 1812,
    "start_time": "2024-12-25T11:56:31.268Z"
   },
   {
    "duration": 5,
    "start_time": "2024-12-25T11:56:33.082Z"
   },
   {
    "duration": 18,
    "start_time": "2024-12-25T11:56:33.088Z"
   },
   {
    "duration": 20,
    "start_time": "2024-12-25T11:56:35.722Z"
   },
   {
    "duration": 55,
    "start_time": "2024-12-25T11:56:36.248Z"
   },
   {
    "duration": 105,
    "start_time": "2024-12-25T11:56:37.296Z"
   },
   {
    "duration": 239,
    "start_time": "2024-12-25T11:56:37.824Z"
   },
   {
    "duration": 16,
    "start_time": "2024-12-25T11:56:38.820Z"
   },
   {
    "duration": 54,
    "start_time": "2024-12-25T11:56:39.348Z"
   },
   {
    "duration": 124,
    "start_time": "2024-12-25T11:56:40.905Z"
   },
   {
    "duration": 11,
    "start_time": "2024-12-25T11:56:41.466Z"
   },
   {
    "duration": 46,
    "start_time": "2024-12-25T11:56:42.492Z"
   },
   {
    "duration": 150,
    "start_time": "2024-12-25T11:56:43.043Z"
   },
   {
    "duration": 14,
    "start_time": "2024-12-25T11:56:45.063Z"
   },
   {
    "duration": 14,
    "start_time": "2024-12-25T11:56:45.608Z"
   },
   {
    "duration": 15,
    "start_time": "2024-12-25T11:56:47.690Z"
   },
   {
    "duration": 132,
    "start_time": "2024-12-25T11:56:50.268Z"
   },
   {
    "duration": 15,
    "start_time": "2024-12-25T11:56:53.718Z"
   },
   {
    "duration": 117,
    "start_time": "2024-12-25T11:57:03.986Z"
   },
   {
    "duration": 87,
    "start_time": "2024-12-25T11:57:14.792Z"
   },
   {
    "duration": 601,
    "start_time": "2024-12-25T11:59:05.155Z"
   },
   {
    "duration": 36,
    "start_time": "2024-12-25T11:59:08.483Z"
   },
   {
    "duration": 3,
    "start_time": "2024-12-25T11:59:11.175Z"
   },
   {
    "duration": 141,
    "start_time": "2024-12-25T12:44:02.684Z"
   },
   {
    "duration": 134,
    "start_time": "2024-12-25T12:45:06.506Z"
   },
   {
    "duration": 29,
    "start_time": "2024-12-25T12:48:04.470Z"
   },
   {
    "duration": 448,
    "start_time": "2024-12-25T12:50:11.763Z"
   },
   {
    "duration": 10,
    "start_time": "2024-12-25T12:51:28.859Z"
   },
   {
    "duration": 1273,
    "start_time": "2024-12-25T12:52:03.815Z"
   },
   {
    "duration": 2428,
    "start_time": "2024-12-25T12:52:05.678Z"
   },
   {
    "duration": 14,
    "start_time": "2024-12-25T12:52:09.093Z"
   },
   {
    "duration": 13,
    "start_time": "2024-12-25T12:52:09.656Z"
   },
   {
    "duration": 16,
    "start_time": "2024-12-25T12:52:11.395Z"
   },
   {
    "duration": 100,
    "start_time": "2024-12-25T12:52:13.568Z"
   },
   {
    "duration": 10,
    "start_time": "2024-12-25T12:52:14.647Z"
   },
   {
    "duration": 25,
    "start_time": "2024-12-25T12:52:15.251Z"
   },
   {
    "duration": 7,
    "start_time": "2024-12-25T12:52:16.282Z"
   },
   {
    "duration": 10,
    "start_time": "2024-12-25T12:52:16.799Z"
   },
   {
    "duration": 8,
    "start_time": "2024-12-25T12:52:17.850Z"
   },
   {
    "duration": 20,
    "start_time": "2024-12-25T12:52:18.362Z"
   },
   {
    "duration": 10,
    "start_time": "2024-12-25T12:52:19.369Z"
   },
   {
    "duration": 43,
    "start_time": "2024-12-25T12:52:19.873Z"
   },
   {
    "duration": 9,
    "start_time": "2024-12-25T12:52:20.858Z"
   },
   {
    "duration": 25,
    "start_time": "2024-12-25T12:52:21.337Z"
   },
   {
    "duration": 9,
    "start_time": "2024-12-25T12:52:23.351Z"
   },
   {
    "duration": 69,
    "start_time": "2024-12-25T12:52:23.858Z"
   },
   {
    "duration": 5,
    "start_time": "2024-12-25T12:52:24.815Z"
   },
   {
    "duration": 25,
    "start_time": "2024-12-25T12:52:25.790Z"
   },
   {
    "duration": 174,
    "start_time": "2024-12-25T12:52:26.315Z"
   },
   {
    "duration": 639,
    "start_time": "2024-12-25T12:52:27.308Z"
   },
   {
    "duration": 88,
    "start_time": "2024-12-25T12:52:27.949Z"
   },
   {
    "duration": 79,
    "start_time": "2024-12-25T12:52:29.402Z"
   },
   {
    "duration": 152,
    "start_time": "2024-12-25T12:52:29.909Z"
   },
   {
    "duration": 147,
    "start_time": "2024-12-25T12:52:32.505Z"
   },
   {
    "duration": 4,
    "start_time": "2024-12-25T12:52:35.614Z"
   },
   {
    "duration": 85,
    "start_time": "2024-12-25T12:52:39.050Z"
   },
   {
    "duration": 33,
    "start_time": "2024-12-25T12:52:39.549Z"
   },
   {
    "duration": 72,
    "start_time": "2024-12-25T12:52:40.058Z"
   },
   {
    "duration": 16,
    "start_time": "2024-12-25T12:52:43.783Z"
   },
   {
    "duration": 107,
    "start_time": "2024-12-25T12:52:44.278Z"
   },
   {
    "duration": 17,
    "start_time": "2024-12-25T12:52:45.350Z"
   },
   {
    "duration": 342,
    "start_time": "2024-12-25T12:52:47.229Z"
   },
   {
    "duration": 92,
    "start_time": "2024-12-25T12:52:47.687Z"
   },
   {
    "duration": 97,
    "start_time": "2024-12-25T12:52:48.143Z"
   },
   {
    "duration": 19,
    "start_time": "2024-12-25T12:52:48.588Z"
   },
   {
    "duration": 105,
    "start_time": "2024-12-25T12:52:50.438Z"
   },
   {
    "duration": 27,
    "start_time": "2024-12-25T12:52:52.280Z"
   },
   {
    "duration": 41,
    "start_time": "2024-12-25T12:52:53.264Z"
   },
   {
    "duration": 9,
    "start_time": "2024-12-25T12:52:53.697Z"
   },
   {
    "duration": 355,
    "start_time": "2024-12-25T12:52:54.678Z"
   },
   {
    "duration": 1792,
    "start_time": "2024-12-25T12:52:56.560Z"
   },
   {
    "duration": 5,
    "start_time": "2024-12-25T12:52:58.354Z"
   },
   {
    "duration": 8,
    "start_time": "2024-12-25T12:52:58.361Z"
   },
   {
    "duration": 20,
    "start_time": "2024-12-25T12:53:00.834Z"
   },
   {
    "duration": 57,
    "start_time": "2024-12-25T12:53:01.309Z"
   },
   {
    "duration": 128,
    "start_time": "2024-12-25T12:53:02.316Z"
   },
   {
    "duration": 242,
    "start_time": "2024-12-25T12:53:02.835Z"
   },
   {
    "duration": 18,
    "start_time": "2024-12-25T12:53:03.791Z"
   },
   {
    "duration": 57,
    "start_time": "2024-12-25T12:53:04.313Z"
   },
   {
    "duration": 136,
    "start_time": "2024-12-25T12:53:05.751Z"
   },
   {
    "duration": 11,
    "start_time": "2024-12-25T12:53:06.271Z"
   },
   {
    "duration": 52,
    "start_time": "2024-12-25T12:53:07.274Z"
   },
   {
    "duration": 163,
    "start_time": "2024-12-25T12:53:07.790Z"
   },
   {
    "duration": 14,
    "start_time": "2024-12-25T12:53:09.722Z"
   },
   {
    "duration": 19,
    "start_time": "2024-12-25T12:53:10.208Z"
   },
   {
    "duration": 14,
    "start_time": "2024-12-25T12:53:12.055Z"
   },
   {
    "duration": 132,
    "start_time": "2024-12-25T12:53:14.402Z"
   },
   {
    "duration": 27,
    "start_time": "2024-12-25T12:53:17.587Z"
   },
   {
    "duration": 101,
    "start_time": "2024-12-25T12:53:19.456Z"
   },
   {
    "duration": 503,
    "start_time": "2024-12-25T12:54:52.022Z"
   },
   {
    "duration": 100,
    "start_time": "2024-12-25T12:55:42.448Z"
   },
   {
    "duration": 4,
    "start_time": "2024-12-25T12:55:54.763Z"
   },
   {
    "duration": 1538,
    "start_time": "2024-12-25T15:36:47.842Z"
   },
   {
    "duration": 3059,
    "start_time": "2024-12-25T15:36:50.066Z"
   },
   {
    "duration": 14,
    "start_time": "2024-12-25T15:36:54.136Z"
   },
   {
    "duration": 14,
    "start_time": "2024-12-25T15:36:54.882Z"
   },
   {
    "duration": 19,
    "start_time": "2024-12-25T15:36:56.929Z"
   },
   {
    "duration": 108,
    "start_time": "2024-12-25T15:36:59.425Z"
   },
   {
    "duration": 13,
    "start_time": "2024-12-25T15:37:00.648Z"
   },
   {
    "duration": 16,
    "start_time": "2024-12-25T15:37:01.281Z"
   },
   {
    "duration": 10,
    "start_time": "2024-12-25T15:37:02.521Z"
   },
   {
    "duration": 12,
    "start_time": "2024-12-25T15:37:03.129Z"
   },
   {
    "duration": 9,
    "start_time": "2024-12-25T15:37:04.377Z"
   },
   {
    "duration": 21,
    "start_time": "2024-12-25T15:37:05.034Z"
   },
   {
    "duration": 11,
    "start_time": "2024-12-25T15:37:06.289Z"
   },
   {
    "duration": 44,
    "start_time": "2024-12-25T15:37:06.905Z"
   },
   {
    "duration": 10,
    "start_time": "2024-12-25T15:37:08.169Z"
   },
   {
    "duration": 30,
    "start_time": "2024-12-25T15:37:08.834Z"
   },
   {
    "duration": 7,
    "start_time": "2024-12-25T15:37:11.313Z"
   },
   {
    "duration": 65,
    "start_time": "2024-12-25T15:37:11.906Z"
   },
   {
    "duration": 6,
    "start_time": "2024-12-25T15:37:13.226Z"
   },
   {
    "duration": 27,
    "start_time": "2024-12-25T15:37:14.425Z"
   },
   {
    "duration": 204,
    "start_time": "2024-12-25T15:37:15.059Z"
   },
   {
    "duration": 691,
    "start_time": "2024-12-25T15:37:16.313Z"
   },
   {
    "duration": 87,
    "start_time": "2024-12-25T15:37:17.007Z"
   },
   {
    "duration": 97,
    "start_time": "2024-12-25T15:37:18.753Z"
   },
   {
    "duration": 160,
    "start_time": "2024-12-25T15:37:19.386Z"
   },
   {
    "duration": 178,
    "start_time": "2024-12-25T15:37:22.307Z"
   },
   {
    "duration": 5,
    "start_time": "2024-12-25T15:37:26.081Z"
   },
   {
    "duration": 111,
    "start_time": "2024-12-25T15:37:30.257Z"
   },
   {
    "duration": 28,
    "start_time": "2024-12-25T15:37:30.922Z"
   },
   {
    "duration": 78,
    "start_time": "2024-12-25T15:37:31.530Z"
   },
   {
    "duration": 18,
    "start_time": "2024-12-25T15:37:35.201Z"
   },
   {
    "duration": 113,
    "start_time": "2024-12-25T15:37:35.842Z"
   },
   {
    "duration": 21,
    "start_time": "2024-12-25T15:37:37.049Z"
   },
   {
    "duration": 360,
    "start_time": "2024-12-25T15:37:39.425Z"
   },
   {
    "duration": 117,
    "start_time": "2024-12-25T15:37:40.073Z"
   },
   {
    "duration": 107,
    "start_time": "2024-12-25T15:37:41.193Z"
   },
   {
    "duration": 21,
    "start_time": "2024-12-25T15:37:41.302Z"
   },
   {
    "duration": 132,
    "start_time": "2024-12-25T15:37:43.082Z"
   },
   {
    "duration": 31,
    "start_time": "2024-12-25T15:37:45.505Z"
   },
   {
    "duration": 45,
    "start_time": "2024-12-25T15:37:46.810Z"
   },
   {
    "duration": 12,
    "start_time": "2024-12-25T15:37:47.442Z"
   },
   {
    "duration": 425,
    "start_time": "2024-12-25T15:37:48.714Z"
   },
   {
    "duration": 2031,
    "start_time": "2024-12-25T15:37:51.161Z"
   },
   {
    "duration": 6,
    "start_time": "2024-12-25T15:37:53.194Z"
   },
   {
    "duration": 41,
    "start_time": "2024-12-25T15:37:53.202Z"
   },
   {
    "duration": 21,
    "start_time": "2024-12-25T15:37:55.481Z"
   },
   {
    "duration": 61,
    "start_time": "2024-12-25T15:37:56.121Z"
   },
   {
    "duration": 131,
    "start_time": "2024-12-25T15:37:57.369Z"
   },
   {
    "duration": 263,
    "start_time": "2024-12-25T15:37:58.033Z"
   },
   {
    "duration": 20,
    "start_time": "2024-12-25T15:37:59.329Z"
   },
   {
    "duration": 65,
    "start_time": "2024-12-25T15:37:59.954Z"
   },
   {
    "duration": 159,
    "start_time": "2024-12-25T15:38:01.769Z"
   },
   {
    "duration": 12,
    "start_time": "2024-12-25T15:38:02.467Z"
   },
   {
    "duration": 60,
    "start_time": "2024-12-25T15:38:03.650Z"
   },
   {
    "duration": 181,
    "start_time": "2024-12-25T15:38:04.300Z"
   },
   {
    "duration": 15,
    "start_time": "2024-12-25T15:38:06.698Z"
   },
   {
    "duration": 15,
    "start_time": "2024-12-25T15:38:07.314Z"
   },
   {
    "duration": 14,
    "start_time": "2024-12-25T15:38:09.747Z"
   },
   {
    "duration": 157,
    "start_time": "2024-12-25T15:38:12.730Z"
   },
   {
    "duration": 46,
    "start_time": "2024-12-25T15:50:44.964Z"
   },
   {
    "duration": 142,
    "start_time": "2024-12-25T15:54:19.798Z"
   },
   {
    "duration": 62,
    "start_time": "2024-12-25T15:59:49.235Z"
   },
   {
    "duration": 56,
    "start_time": "2024-12-25T16:01:00.868Z"
   },
   {
    "duration": 6,
    "start_time": "2024-12-25T16:02:12.907Z"
   },
   {
    "duration": 51,
    "start_time": "2024-12-25T16:04:49.998Z"
   },
   {
    "duration": 6,
    "start_time": "2024-12-25T16:05:46.470Z"
   },
   {
    "duration": 21,
    "start_time": "2024-12-25T16:22:31.852Z"
   },
   {
    "duration": 82,
    "start_time": "2024-12-25T16:46:50.126Z"
   },
   {
    "duration": 147,
    "start_time": "2024-12-25T16:46:55.245Z"
   },
   {
    "duration": 9,
    "start_time": "2024-12-25T16:47:20.158Z"
   },
   {
    "duration": 7,
    "start_time": "2024-12-25T16:48:16.246Z"
   },
   {
    "duration": 6,
    "start_time": "2024-12-25T16:48:51.462Z"
   },
   {
    "duration": 8,
    "start_time": "2024-12-25T16:49:17.398Z"
   },
   {
    "duration": 28,
    "start_time": "2024-12-25T16:53:19.929Z"
   },
   {
    "duration": 31,
    "start_time": "2024-12-25T16:53:33.626Z"
   },
   {
    "duration": 40,
    "start_time": "2024-12-25T16:53:41.441Z"
   },
   {
    "duration": 47,
    "start_time": "2024-12-25T16:53:55.186Z"
   },
   {
    "duration": 38,
    "start_time": "2024-12-25T16:54:13.633Z"
   },
   {
    "duration": 33,
    "start_time": "2024-12-25T16:54:30.338Z"
   },
   {
    "duration": 36,
    "start_time": "2024-12-25T17:01:52.658Z"
   },
   {
    "duration": 903,
    "start_time": "2024-12-25T17:03:20.537Z"
   },
   {
    "duration": 145,
    "start_time": "2024-12-25T17:03:32.769Z"
   },
   {
    "duration": 42,
    "start_time": "2024-12-25T18:09:00.378Z"
   },
   {
    "duration": 11,
    "start_time": "2024-12-25T18:10:19.195Z"
   },
   {
    "duration": 7,
    "start_time": "2024-12-25T18:10:44.532Z"
   },
   {
    "duration": 40,
    "start_time": "2024-12-25T18:18:57.793Z"
   },
   {
    "duration": 107,
    "start_time": "2024-12-25T18:22:11.716Z"
   },
   {
    "duration": 1211,
    "start_time": "2024-12-25T18:29:13.273Z"
   },
   {
    "duration": 19,
    "start_time": "2024-12-25T18:33:07.101Z"
   },
   {
    "duration": 16,
    "start_time": "2024-12-25T18:34:05.614Z"
   },
   {
    "duration": 266,
    "start_time": "2024-12-25T18:41:41.507Z"
   },
   {
    "duration": 276,
    "start_time": "2024-12-25T18:42:17.499Z"
   },
   {
    "duration": 1405,
    "start_time": "2024-12-25T18:51:14.313Z"
   },
   {
    "duration": 2786,
    "start_time": "2024-12-25T18:51:16.386Z"
   },
   {
    "duration": 19,
    "start_time": "2024-12-25T18:51:20.385Z"
   },
   {
    "duration": 20,
    "start_time": "2024-12-25T18:51:21.074Z"
   },
   {
    "duration": 19,
    "start_time": "2024-12-25T18:51:23.049Z"
   },
   {
    "duration": 123,
    "start_time": "2024-12-25T18:51:25.561Z"
   },
   {
    "duration": 22,
    "start_time": "2024-12-25T18:51:26.867Z"
   },
   {
    "duration": 17,
    "start_time": "2024-12-25T18:51:27.537Z"
   },
   {
    "duration": 7,
    "start_time": "2024-12-25T18:51:28.849Z"
   },
   {
    "duration": 15,
    "start_time": "2024-12-25T18:51:29.499Z"
   },
   {
    "duration": 10,
    "start_time": "2024-12-25T18:51:30.737Z"
   },
   {
    "duration": 36,
    "start_time": "2024-12-25T18:51:31.425Z"
   },
   {
    "duration": 12,
    "start_time": "2024-12-25T18:51:32.761Z"
   },
   {
    "duration": 47,
    "start_time": "2024-12-25T18:51:33.377Z"
   },
   {
    "duration": 12,
    "start_time": "2024-12-25T18:51:34.737Z"
   },
   {
    "duration": 46,
    "start_time": "2024-12-25T18:51:35.370Z"
   },
   {
    "duration": 12,
    "start_time": "2024-12-25T18:51:38.009Z"
   },
   {
    "duration": 74,
    "start_time": "2024-12-25T18:51:38.643Z"
   },
   {
    "duration": 8,
    "start_time": "2024-12-25T18:51:39.945Z"
   },
   {
    "duration": 39,
    "start_time": "2024-12-25T18:51:41.303Z"
   },
   {
    "duration": 212,
    "start_time": "2024-12-25T18:51:41.874Z"
   },
   {
    "duration": 721,
    "start_time": "2024-12-25T18:51:43.210Z"
   },
   {
    "duration": 110,
    "start_time": "2024-12-25T18:51:43.957Z"
   },
   {
    "duration": 120,
    "start_time": "2024-12-25T18:51:46.242Z"
   },
   {
    "duration": 171,
    "start_time": "2024-12-25T18:51:46.899Z"
   },
   {
    "duration": 175,
    "start_time": "2024-12-25T18:51:49.977Z"
   },
   {
    "duration": 6,
    "start_time": "2024-12-25T18:51:53.761Z"
   },
   {
    "duration": 148,
    "start_time": "2024-12-25T18:51:57.961Z"
   },
   {
    "duration": 29,
    "start_time": "2024-12-25T18:51:58.611Z"
   },
   {
    "duration": 107,
    "start_time": "2024-12-25T18:51:59.338Z"
   },
   {
    "duration": 26,
    "start_time": "2024-12-25T18:52:04.042Z"
   },
   {
    "duration": 130,
    "start_time": "2024-12-25T18:52:04.730Z"
   },
   {
    "duration": 20,
    "start_time": "2024-12-25T18:52:06.089Z"
   },
   {
    "duration": 426,
    "start_time": "2024-12-25T18:52:08.410Z"
   },
   {
    "duration": 120,
    "start_time": "2024-12-25T18:52:09.610Z"
   },
   {
    "duration": 123,
    "start_time": "2024-12-25T18:52:10.539Z"
   },
   {
    "duration": 33,
    "start_time": "2024-12-25T18:52:11.754Z"
   },
   {
    "duration": 184,
    "start_time": "2024-12-25T18:52:13.810Z"
   },
   {
    "duration": 32,
    "start_time": "2024-12-25T18:52:16.234Z"
   },
   {
    "duration": 44,
    "start_time": "2024-12-25T18:52:17.505Z"
   },
   {
    "duration": 10,
    "start_time": "2024-12-25T18:52:18.138Z"
   },
   {
    "duration": 452,
    "start_time": "2024-12-25T18:52:19.378Z"
   },
   {
    "duration": 2287,
    "start_time": "2024-12-25T18:52:21.442Z"
   },
   {
    "duration": 6,
    "start_time": "2024-12-25T18:52:23.732Z"
   },
   {
    "duration": 41,
    "start_time": "2024-12-25T18:52:23.740Z"
   },
   {
    "duration": 24,
    "start_time": "2024-12-25T18:52:26.674Z"
   },
   {
    "duration": 73,
    "start_time": "2024-12-25T18:52:27.234Z"
   },
   {
    "duration": 149,
    "start_time": "2024-12-25T18:52:28.401Z"
   },
   {
    "duration": 275,
    "start_time": "2024-12-25T18:52:29.011Z"
   },
   {
    "duration": 25,
    "start_time": "2024-12-25T18:52:30.314Z"
   },
   {
    "duration": 83,
    "start_time": "2024-12-25T18:52:30.971Z"
   },
   {
    "duration": 193,
    "start_time": "2024-12-25T18:52:32.851Z"
   },
   {
    "duration": 14,
    "start_time": "2024-12-25T18:52:33.555Z"
   },
   {
    "duration": 53,
    "start_time": "2024-12-25T18:52:34.722Z"
   },
   {
    "duration": 188,
    "start_time": "2024-12-25T18:52:35.347Z"
   },
   {
    "duration": 15,
    "start_time": "2024-12-25T18:52:37.762Z"
   },
   {
    "duration": 15,
    "start_time": "2024-12-25T18:52:38.339Z"
   },
   {
    "duration": 14,
    "start_time": "2024-12-25T18:52:40.658Z"
   },
   {
    "duration": 174,
    "start_time": "2024-12-25T18:52:43.571Z"
   },
   {
    "duration": 78,
    "start_time": "2024-12-25T18:52:47.130Z"
   },
   {
    "duration": 157,
    "start_time": "2024-12-25T18:52:47.851Z"
   },
   {
    "duration": 9,
    "start_time": "2024-12-25T18:52:48.643Z"
   },
   {
    "duration": 35,
    "start_time": "2024-12-25T18:52:50.481Z"
   },
   {
    "duration": 37,
    "start_time": "2024-12-25T18:52:52.234Z"
   },
   {
    "duration": 909,
    "start_time": "2024-12-25T18:52:53.723Z"
   },
   {
    "duration": 159,
    "start_time": "2024-12-25T18:52:54.635Z"
   },
   {
    "duration": 42,
    "start_time": "2024-12-25T18:52:57.323Z"
   },
   {
    "duration": 9,
    "start_time": "2024-12-25T18:52:58.107Z"
   },
   {
    "duration": 6,
    "start_time": "2024-12-25T18:52:58.836Z"
   },
   {
    "duration": 33,
    "start_time": "2024-12-25T18:53:01.002Z"
   },
   {
    "duration": 104,
    "start_time": "2024-12-25T18:53:02.483Z"
   },
   {
    "duration": 13,
    "start_time": "2024-12-25T18:53:05.427Z"
   },
   {
    "duration": 17,
    "start_time": "2024-12-25T18:53:06.802Z"
   },
   {
    "duration": 174,
    "start_time": "2024-12-25T18:53:08.203Z"
   },
   {
    "duration": 58,
    "start_time": "2024-12-26T15:17:21.883Z"
   },
   {
    "duration": 1658,
    "start_time": "2024-12-26T15:17:56.672Z"
   },
   {
    "duration": 2721,
    "start_time": "2024-12-26T15:17:58.332Z"
   },
   {
    "duration": 30,
    "start_time": "2024-12-26T15:18:01.055Z"
   },
   {
    "duration": 18,
    "start_time": "2024-12-26T15:18:01.088Z"
   },
   {
    "duration": 18,
    "start_time": "2024-12-26T15:18:01.108Z"
   },
   {
    "duration": 152,
    "start_time": "2024-12-26T15:18:01.128Z"
   },
   {
    "duration": 16,
    "start_time": "2024-12-26T15:18:01.284Z"
   },
   {
    "duration": 19,
    "start_time": "2024-12-26T15:18:01.302Z"
   },
   {
    "duration": 49,
    "start_time": "2024-12-26T15:18:01.323Z"
   },
   {
    "duration": 24,
    "start_time": "2024-12-26T15:18:01.381Z"
   },
   {
    "duration": 22,
    "start_time": "2024-12-26T15:18:01.407Z"
   },
   {
    "duration": 66,
    "start_time": "2024-12-26T15:18:01.430Z"
   },
   {
    "duration": 17,
    "start_time": "2024-12-26T15:18:01.498Z"
   },
   {
    "duration": 55,
    "start_time": "2024-12-26T15:18:01.517Z"
   },
   {
    "duration": 15,
    "start_time": "2024-12-26T15:18:01.574Z"
   },
   {
    "duration": 42,
    "start_time": "2024-12-26T15:18:01.592Z"
   },
   {
    "duration": 13,
    "start_time": "2024-12-26T15:18:01.636Z"
   },
   {
    "duration": 94,
    "start_time": "2024-12-26T15:18:01.651Z"
   },
   {
    "duration": 28,
    "start_time": "2024-12-26T15:18:01.747Z"
   },
   {
    "duration": 51,
    "start_time": "2024-12-26T15:18:01.781Z"
   },
   {
    "duration": 215,
    "start_time": "2024-12-26T15:18:01.834Z"
   },
   {
    "duration": 763,
    "start_time": "2024-12-26T15:18:02.051Z"
   },
   {
    "duration": 94,
    "start_time": "2024-12-26T15:18:02.815Z"
   },
   {
    "duration": 115,
    "start_time": "2024-12-26T15:18:02.911Z"
   },
   {
    "duration": 210,
    "start_time": "2024-12-26T15:18:03.029Z"
   },
   {
    "duration": 217,
    "start_time": "2024-12-26T15:18:03.241Z"
   },
   {
    "duration": 16,
    "start_time": "2024-12-26T15:18:03.460Z"
   },
   {
    "duration": 147,
    "start_time": "2024-12-26T15:18:03.483Z"
   },
   {
    "duration": 46,
    "start_time": "2024-12-26T15:18:03.632Z"
   },
   {
    "duration": 97,
    "start_time": "2024-12-26T15:18:03.686Z"
   },
   {
    "duration": 20,
    "start_time": "2024-12-26T15:18:03.785Z"
   },
   {
    "duration": 156,
    "start_time": "2024-12-26T15:18:03.807Z"
   },
   {
    "duration": 25,
    "start_time": "2024-12-26T15:18:03.966Z"
   },
   {
    "duration": 416,
    "start_time": "2024-12-26T15:18:03.993Z"
   },
   {
    "duration": 119,
    "start_time": "2024-12-26T15:18:04.411Z"
   },
   {
    "duration": 152,
    "start_time": "2024-12-26T15:18:04.532Z"
   },
   {
    "duration": 23,
    "start_time": "2024-12-26T15:18:04.689Z"
   },
   {
    "duration": 172,
    "start_time": "2024-12-26T15:18:04.713Z"
   },
   {
    "duration": 33,
    "start_time": "2024-12-26T15:18:04.890Z"
   },
   {
    "duration": 70,
    "start_time": "2024-12-26T15:18:04.925Z"
   },
   {
    "duration": 11,
    "start_time": "2024-12-26T15:18:04.997Z"
   },
   {
    "duration": 440,
    "start_time": "2024-12-26T15:18:05.009Z"
   },
   {
    "duration": 2058,
    "start_time": "2024-12-26T15:18:05.451Z"
   },
   {
    "duration": 6,
    "start_time": "2024-12-26T15:18:07.511Z"
   },
   {
    "duration": 10,
    "start_time": "2024-12-26T15:18:07.519Z"
   },
   {
    "duration": 61,
    "start_time": "2024-12-26T15:18:07.531Z"
   },
   {
    "duration": 58,
    "start_time": "2024-12-26T15:18:07.594Z"
   },
   {
    "duration": 141,
    "start_time": "2024-12-26T15:18:07.654Z"
   },
   {
    "duration": 343,
    "start_time": "2024-12-26T15:18:07.798Z"
   },
   {
    "duration": 43,
    "start_time": "2024-12-26T15:18:08.143Z"
   },
   {
    "duration": 60,
    "start_time": "2024-12-26T15:18:08.188Z"
   },
   {
    "duration": 185,
    "start_time": "2024-12-26T15:18:08.250Z"
   },
   {
    "duration": 12,
    "start_time": "2024-12-26T15:18:08.436Z"
   },
   {
    "duration": 63,
    "start_time": "2024-12-26T15:18:08.464Z"
   },
   {
    "duration": 183,
    "start_time": "2024-12-26T15:18:08.529Z"
   },
   {
    "duration": 15,
    "start_time": "2024-12-26T15:18:08.713Z"
   },
   {
    "duration": 41,
    "start_time": "2024-12-26T15:18:08.730Z"
   },
   {
    "duration": 17,
    "start_time": "2024-12-26T15:18:08.772Z"
   },
   {
    "duration": 183,
    "start_time": "2024-12-26T15:18:08.791Z"
   },
   {
    "duration": 93,
    "start_time": "2024-12-26T15:18:08.976Z"
   },
   {
    "duration": 150,
    "start_time": "2024-12-26T15:18:09.072Z"
   },
   {
    "duration": 8,
    "start_time": "2024-12-26T15:18:09.224Z"
   },
   {
    "duration": 59,
    "start_time": "2024-12-26T15:18:09.234Z"
   },
   {
    "duration": 44,
    "start_time": "2024-12-26T15:18:09.295Z"
   },
   {
    "duration": 883,
    "start_time": "2024-12-26T15:18:09.361Z"
   },
   {
    "duration": 166,
    "start_time": "2024-12-26T15:18:10.245Z"
   },
   {
    "duration": 78,
    "start_time": "2024-12-26T15:18:10.413Z"
   },
   {
    "duration": 16,
    "start_time": "2024-12-26T15:18:10.493Z"
   },
   {
    "duration": 7,
    "start_time": "2024-12-26T15:18:10.511Z"
   },
   {
    "duration": 78,
    "start_time": "2024-12-26T15:18:10.520Z"
   },
   {
    "duration": 128,
    "start_time": "2024-12-26T15:18:10.600Z"
   },
   {
    "duration": 214,
    "start_time": "2024-12-26T15:18:10.730Z"
   },
   {
    "duration": 26,
    "start_time": "2024-12-26T15:18:10.945Z"
   },
   {
    "duration": 27,
    "start_time": "2024-12-26T15:18:10.973Z"
   },
   {
    "duration": 230,
    "start_time": "2024-12-26T15:18:11.002Z"
   },
   {
    "duration": 173,
    "start_time": "2024-12-26T15:18:40.745Z"
   },
   {
    "duration": 177,
    "start_time": "2024-12-26T15:18:48.809Z"
   },
   {
    "duration": 175,
    "start_time": "2024-12-26T15:19:16.914Z"
   },
   {
    "duration": 168,
    "start_time": "2024-12-26T15:19:30.049Z"
   },
   {
    "duration": 1392,
    "start_time": "2024-12-26T15:22:55.684Z"
   },
   {
    "duration": 2499,
    "start_time": "2024-12-26T15:22:57.078Z"
   },
   {
    "duration": 19,
    "start_time": "2024-12-26T15:22:59.581Z"
   },
   {
    "duration": 16,
    "start_time": "2024-12-26T15:22:59.603Z"
   },
   {
    "duration": 20,
    "start_time": "2024-12-26T15:22:59.620Z"
   },
   {
    "duration": 139,
    "start_time": "2024-12-26T15:22:59.642Z"
   },
   {
    "duration": 14,
    "start_time": "2024-12-26T15:22:59.783Z"
   },
   {
    "duration": 21,
    "start_time": "2024-12-26T15:22:59.799Z"
   },
   {
    "duration": 8,
    "start_time": "2024-12-26T15:22:59.821Z"
   },
   {
    "duration": 40,
    "start_time": "2024-12-26T15:22:59.832Z"
   },
   {
    "duration": 10,
    "start_time": "2024-12-26T15:22:59.874Z"
   },
   {
    "duration": 30,
    "start_time": "2024-12-26T15:22:59.886Z"
   },
   {
    "duration": 10,
    "start_time": "2024-12-26T15:22:59.918Z"
   },
   {
    "duration": 81,
    "start_time": "2024-12-26T15:22:59.930Z"
   },
   {
    "duration": 10,
    "start_time": "2024-12-26T15:23:00.013Z"
   },
   {
    "duration": 71,
    "start_time": "2024-12-26T15:23:00.025Z"
   },
   {
    "duration": 44,
    "start_time": "2024-12-26T15:23:00.099Z"
   },
   {
    "duration": 162,
    "start_time": "2024-12-26T15:23:00.145Z"
   },
   {
    "duration": 18,
    "start_time": "2024-12-26T15:23:00.309Z"
   },
   {
    "duration": 51,
    "start_time": "2024-12-26T15:23:00.329Z"
   },
   {
    "duration": 267,
    "start_time": "2024-12-26T15:23:00.382Z"
   },
   {
    "duration": 762,
    "start_time": "2024-12-26T15:23:00.651Z"
   },
   {
    "duration": 89,
    "start_time": "2024-12-26T15:23:01.415Z"
   },
   {
    "duration": 107,
    "start_time": "2024-12-26T15:23:01.506Z"
   },
   {
    "duration": 211,
    "start_time": "2024-12-26T15:23:01.615Z"
   },
   {
    "duration": 187,
    "start_time": "2024-12-26T15:23:01.828Z"
   },
   {
    "duration": 6,
    "start_time": "2024-12-26T15:23:02.017Z"
   },
   {
    "duration": 118,
    "start_time": "2024-12-26T15:23:02.029Z"
   },
   {
    "duration": 42,
    "start_time": "2024-12-26T15:23:02.149Z"
   },
   {
    "duration": 94,
    "start_time": "2024-12-26T15:23:02.193Z"
   },
   {
    "duration": 16,
    "start_time": "2024-12-26T15:23:02.289Z"
   },
   {
    "duration": 131,
    "start_time": "2024-12-26T15:23:02.308Z"
   },
   {
    "duration": 39,
    "start_time": "2024-12-26T15:23:02.441Z"
   },
   {
    "duration": 471,
    "start_time": "2024-12-26T15:23:02.482Z"
   },
   {
    "duration": 131,
    "start_time": "2024-12-26T15:23:02.960Z"
   },
   {
    "duration": 123,
    "start_time": "2024-12-26T15:23:03.093Z"
   },
   {
    "duration": 20,
    "start_time": "2024-12-26T15:23:03.218Z"
   },
   {
    "duration": 153,
    "start_time": "2024-12-26T15:23:03.240Z"
   },
   {
    "duration": 34,
    "start_time": "2024-12-26T15:23:03.395Z"
   },
   {
    "duration": 67,
    "start_time": "2024-12-26T15:23:03.431Z"
   },
   {
    "duration": 11,
    "start_time": "2024-12-26T15:23:03.499Z"
   },
   {
    "duration": 488,
    "start_time": "2024-12-26T15:23:03.512Z"
   },
   {
    "duration": 2018,
    "start_time": "2024-12-26T15:23:04.002Z"
   },
   {
    "duration": 5,
    "start_time": "2024-12-26T15:23:06.021Z"
   },
   {
    "duration": 49,
    "start_time": "2024-12-26T15:23:06.028Z"
   },
   {
    "duration": 40,
    "start_time": "2024-12-26T15:23:06.079Z"
   },
   {
    "duration": 76,
    "start_time": "2024-12-26T15:23:06.121Z"
   },
   {
    "duration": 146,
    "start_time": "2024-12-26T15:23:06.199Z"
   },
   {
    "duration": 308,
    "start_time": "2024-12-26T15:23:06.347Z"
   },
   {
    "duration": 25,
    "start_time": "2024-12-26T15:23:06.660Z"
   },
   {
    "duration": 82,
    "start_time": "2024-12-26T15:23:06.687Z"
   },
   {
    "duration": 145,
    "start_time": "2024-12-26T15:23:06.772Z"
   },
   {
    "duration": 12,
    "start_time": "2024-12-26T15:23:06.919Z"
   },
   {
    "duration": 74,
    "start_time": "2024-12-26T15:23:06.933Z"
   },
   {
    "duration": 191,
    "start_time": "2024-12-26T15:23:07.009Z"
   },
   {
    "duration": 18,
    "start_time": "2024-12-26T15:23:07.203Z"
   },
   {
    "duration": 15,
    "start_time": "2024-12-26T15:23:07.223Z"
   },
   {
    "duration": 22,
    "start_time": "2024-12-26T15:23:07.264Z"
   },
   {
    "duration": 161,
    "start_time": "2024-12-26T15:23:07.289Z"
   },
   {
    "duration": 90,
    "start_time": "2024-12-26T15:23:07.461Z"
   },
   {
    "duration": 175,
    "start_time": "2024-12-26T15:23:07.559Z"
   },
   {
    "duration": 7,
    "start_time": "2024-12-26T15:23:07.736Z"
   },
   {
    "duration": 72,
    "start_time": "2024-12-26T15:23:07.745Z"
   },
   {
    "duration": 39,
    "start_time": "2024-12-26T15:23:07.819Z"
   },
   {
    "duration": 865,
    "start_time": "2024-12-26T15:23:07.859Z"
   },
   {
    "duration": 156,
    "start_time": "2024-12-26T15:23:08.726Z"
   },
   {
    "duration": 46,
    "start_time": "2024-12-26T15:23:08.884Z"
   },
   {
    "duration": 42,
    "start_time": "2024-12-26T15:23:08.932Z"
   },
   {
    "duration": 7,
    "start_time": "2024-12-26T15:23:08.977Z"
   },
   {
    "duration": 126,
    "start_time": "2024-12-26T15:23:08.986Z"
   },
   {
    "duration": 18,
    "start_time": "2024-12-26T15:23:09.113Z"
   },
   {
    "duration": 194,
    "start_time": "2024-12-26T15:23:09.133Z"
   },
   {
    "duration": 12,
    "start_time": "2024-12-26T15:23:09.329Z"
   },
   {
    "duration": 38,
    "start_time": "2024-12-26T15:23:09.343Z"
   },
   {
    "duration": 217,
    "start_time": "2024-12-26T15:23:09.383Z"
   }
  ],
  "colab": {
   "provenance": []
  },
  "kernelspec": {
   "display_name": "Python 3 (ipykernel)",
   "language": "python",
   "name": "python3"
  },
  "language_info": {
   "codemirror_mode": {
    "name": "ipython",
    "version": 3
   },
   "file_extension": ".py",
   "mimetype": "text/x-python",
   "name": "python",
   "nbconvert_exporter": "python",
   "pygments_lexer": "ipython3",
   "version": "3.9.7"
  },
  "toc": {
   "base_numbering": 1,
   "nav_menu": {},
   "number_sections": true,
   "sideBar": true,
   "skip_h1_title": true,
   "title_cell": "Table of Contents",
   "title_sidebar": "Contents",
   "toc_cell": false,
   "toc_position": {},
   "toc_section_display": true,
   "toc_window_display": false
  }
 },
 "nbformat": 4,
 "nbformat_minor": 1
}
