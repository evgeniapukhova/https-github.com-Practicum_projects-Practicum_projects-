{
 "cells": [
  {
   "cell_type": "markdown",
   "metadata": {
    "deletable": false,
    "editable": false,
    "id": "1xwNO7BJsK7k"
   },
   "source": [
    "# Проверка гипотез в бизнесе\n",
    "В этом проекте вы попробуете себя в роли аналитика крупного сервиса проката самокатов GoFast. Компания предоставила три датасета с данными о пользователях сервиса, их поездках за один год, а также стоимости услуг в подписках. Вас просят проанализировать демографию пользователей и особенности использования самокатов, а также определить возможную выгоду от распространения платной подписки на самокаты."
   ]
  },
  {
   "cell_type": "markdown",
   "metadata": {
    "deletable": false,
    "editable": false,
    "id": "gzyXNgprsK7m"
   },
   "source": [
    "# Описание данных\n",
    "\n",
    "Таблица с пользователями `users_go.csv`\n",
    "\n",
    "- `user_id` — уникальный идентификатор пользователя.\n",
    "\n",
    "- `name` — имя пользователя.\n",
    "\n",
    "- `age` — возраст.\n",
    "\n",
    "- `city` — город.\n",
    "\n",
    "- `subscription_type` — тип подписки: `free`, `ultra`.\n",
    "\n",
    "Таблица с поездками `rides_go.csv`\n",
    "\n",
    "- `user_id` — уникальный идентификатор пользователя.\n",
    "\n",
    "- `distance` — расстояние в метрах, которое пользователь проехал в текущей сессии.\n",
    "\n",
    "- `duration` — продолжительность сессии в минутах, то есть время с того момента, как пользователь нажал кнопку «Начать поездку», до того, как он нажал кнопку «Завершить поездку».\n",
    "\n",
    "- `date` — дата совершения поездки.\n",
    "\n",
    "Таблица с подписками `subscriptions_go.csv`\n",
    "\n",
    "- `subscription_type` — тип подписки.\n",
    "\n",
    "- `minute_price` — стоимость одной минуты поездки по этой подписке.\n",
    "\n",
    "- `start_ride_price` — стоимость начала поездки.\n",
    "\n",
    "- `subscription_fee` — стоимость ежемесячного платежа."
   ]
  },
  {
   "cell_type": "markdown",
   "metadata": {
    "deletable": false,
    "editable": false,
    "id": "Gpc3MBZRsK7m"
   },
   "source": [
    "---\n",
    "## Задание 1. Загрузка данных\n",
    "На первом этапе загрузите все необходимые данные и познакомьтесь с содержанием таблиц."
   ]
  },
  {
   "cell_type": "markdown",
   "metadata": {
    "deletable": false,
    "editable": false,
    "id": "vSu11HpOsK7m",
    "tags": [
     "start_task"
    ]
   },
   "source": [
    "### Задача 1.1 Импорт библиотеки pandas\n",
    "Импортируйте библиотеку pandas с сокращением `pd`."
   ]
  },
  {
   "cell_type": "code",
   "execution_count": 1,
   "metadata": {
    "deletable": false,
    "id": "n97uaKsR7LbX"
   },
   "outputs": [],
   "source": [
    "import pandas as pd"
   ]
  },
  {
   "cell_type": "markdown",
   "metadata": {
    "deletable": false,
    "editable": false,
    "id": "iiB5hMdMsK7n",
    "tags": [
     "start_task"
    ]
   },
   "source": [
    "### Задача 1.2 Чтение данных\n",
    "Cчитайте и сохраните в отдельные датафреймы три CSV-файла. Датафреймы назовите в соответствии с названиями файлов, добавив префикс `df_`, например `df_users_go`. Для доступа к файлам используйте следующие ссылки:\n",
    "\n",
    "- https://code.s3.yandex.net/datasets/users_go.csv\n",
    "- https://code.s3.yandex.net/datasets/rides_go.csv\n",
    "- https://code.s3.yandex.net/datasets/subscriptions_go.csv"
   ]
  },
  {
   "cell_type": "code",
   "execution_count": 2,
   "metadata": {
    "deletable": false,
    "id": "jvIwXMOz7HaE"
   },
   "outputs": [],
   "source": [
    "df_users_go = pd.read_csv('https://code.s3.yandex.net/datasets/users_go.csv')\n",
    "df_rides_go = pd.read_csv('https://code.s3.yandex.net/datasets/rides_go.csv')\n",
    "df_subscriptions_go = pd.read_csv('https://code.s3.yandex.net/datasets/subscriptions_go.csv')"
   ]
  },
  {
   "cell_type": "markdown",
   "metadata": {
    "deletable": false,
    "editable": false,
    "id": "zw-1DjajsK7o",
    "tags": [
     "start_task"
    ]
   },
   "source": [
    "### Задача 1.3 Печать первых строк\n",
    "Выведите первые пять строк каждого датафрейма. Познакомьтесь с содержанием таблиц."
   ]
  },
  {
   "cell_type": "markdown",
   "metadata": {
    "deletable": false,
    "editable": false,
    "id": "sO6J_nPe7aUd"
   },
   "source": [
    "<details>\n",
    "<summary>Открыть подсказку</summary>\n",
    "Чтобы распечатать несколько датафреймов в одной ячейке, можно воспользоваться функцией <code>display()</code>.\n",
    "</details>"
   ]
  },
  {
   "cell_type": "code",
   "execution_count": 3,
   "metadata": {
    "deletable": false,
    "id": "7aqE6vqSHZE-"
   },
   "outputs": [
    {
     "data": {
      "text/html": [
       "<div>\n",
       "<style scoped>\n",
       "    .dataframe tbody tr th:only-of-type {\n",
       "        vertical-align: middle;\n",
       "    }\n",
       "\n",
       "    .dataframe tbody tr th {\n",
       "        vertical-align: top;\n",
       "    }\n",
       "\n",
       "    .dataframe thead th {\n",
       "        text-align: right;\n",
       "    }\n",
       "</style>\n",
       "<table border=\"1\" class=\"dataframe\">\n",
       "  <thead>\n",
       "    <tr style=\"text-align: right;\">\n",
       "      <th></th>\n",
       "      <th>user_id</th>\n",
       "      <th>name</th>\n",
       "      <th>age</th>\n",
       "      <th>city</th>\n",
       "      <th>subscription_type</th>\n",
       "    </tr>\n",
       "  </thead>\n",
       "  <tbody>\n",
       "    <tr>\n",
       "      <th>0</th>\n",
       "      <td>1</td>\n",
       "      <td>Кира</td>\n",
       "      <td>22</td>\n",
       "      <td>Тюмень</td>\n",
       "      <td>ultra</td>\n",
       "    </tr>\n",
       "    <tr>\n",
       "      <th>1</th>\n",
       "      <td>2</td>\n",
       "      <td>Станислав</td>\n",
       "      <td>31</td>\n",
       "      <td>Омск</td>\n",
       "      <td>ultra</td>\n",
       "    </tr>\n",
       "    <tr>\n",
       "      <th>2</th>\n",
       "      <td>3</td>\n",
       "      <td>Алексей</td>\n",
       "      <td>20</td>\n",
       "      <td>Москва</td>\n",
       "      <td>ultra</td>\n",
       "    </tr>\n",
       "    <tr>\n",
       "      <th>3</th>\n",
       "      <td>4</td>\n",
       "      <td>Константин</td>\n",
       "      <td>26</td>\n",
       "      <td>Ростов-на-Дону</td>\n",
       "      <td>ultra</td>\n",
       "    </tr>\n",
       "    <tr>\n",
       "      <th>4</th>\n",
       "      <td>5</td>\n",
       "      <td>Адель</td>\n",
       "      <td>28</td>\n",
       "      <td>Омск</td>\n",
       "      <td>ultra</td>\n",
       "    </tr>\n",
       "  </tbody>\n",
       "</table>\n",
       "</div>"
      ],
      "text/plain": [
       "   user_id        name  age            city subscription_type\n",
       "0        1        Кира   22          Тюмень             ultra\n",
       "1        2   Станислав   31            Омск             ultra\n",
       "2        3     Алексей   20          Москва             ultra\n",
       "3        4  Константин   26  Ростов-на-Дону             ultra\n",
       "4        5       Адель   28            Омск             ultra"
      ]
     },
     "metadata": {},
     "output_type": "display_data"
    },
    {
     "data": {
      "text/html": [
       "<div>\n",
       "<style scoped>\n",
       "    .dataframe tbody tr th:only-of-type {\n",
       "        vertical-align: middle;\n",
       "    }\n",
       "\n",
       "    .dataframe tbody tr th {\n",
       "        vertical-align: top;\n",
       "    }\n",
       "\n",
       "    .dataframe thead th {\n",
       "        text-align: right;\n",
       "    }\n",
       "</style>\n",
       "<table border=\"1\" class=\"dataframe\">\n",
       "  <thead>\n",
       "    <tr style=\"text-align: right;\">\n",
       "      <th></th>\n",
       "      <th>user_id</th>\n",
       "      <th>distance</th>\n",
       "      <th>duration</th>\n",
       "      <th>date</th>\n",
       "    </tr>\n",
       "  </thead>\n",
       "  <tbody>\n",
       "    <tr>\n",
       "      <th>0</th>\n",
       "      <td>1</td>\n",
       "      <td>4409.919140</td>\n",
       "      <td>25.599769</td>\n",
       "      <td>2021-01-01</td>\n",
       "    </tr>\n",
       "    <tr>\n",
       "      <th>1</th>\n",
       "      <td>1</td>\n",
       "      <td>2617.592153</td>\n",
       "      <td>15.816871</td>\n",
       "      <td>2021-01-18</td>\n",
       "    </tr>\n",
       "    <tr>\n",
       "      <th>2</th>\n",
       "      <td>1</td>\n",
       "      <td>754.159807</td>\n",
       "      <td>6.232113</td>\n",
       "      <td>2021-04-20</td>\n",
       "    </tr>\n",
       "    <tr>\n",
       "      <th>3</th>\n",
       "      <td>1</td>\n",
       "      <td>2694.783254</td>\n",
       "      <td>18.511000</td>\n",
       "      <td>2021-08-11</td>\n",
       "    </tr>\n",
       "    <tr>\n",
       "      <th>4</th>\n",
       "      <td>1</td>\n",
       "      <td>4028.687306</td>\n",
       "      <td>26.265803</td>\n",
       "      <td>2021-08-28</td>\n",
       "    </tr>\n",
       "  </tbody>\n",
       "</table>\n",
       "</div>"
      ],
      "text/plain": [
       "   user_id     distance   duration        date\n",
       "0        1  4409.919140  25.599769  2021-01-01\n",
       "1        1  2617.592153  15.816871  2021-01-18\n",
       "2        1   754.159807   6.232113  2021-04-20\n",
       "3        1  2694.783254  18.511000  2021-08-11\n",
       "4        1  4028.687306  26.265803  2021-08-28"
      ]
     },
     "metadata": {},
     "output_type": "display_data"
    },
    {
     "data": {
      "text/html": [
       "<div>\n",
       "<style scoped>\n",
       "    .dataframe tbody tr th:only-of-type {\n",
       "        vertical-align: middle;\n",
       "    }\n",
       "\n",
       "    .dataframe tbody tr th {\n",
       "        vertical-align: top;\n",
       "    }\n",
       "\n",
       "    .dataframe thead th {\n",
       "        text-align: right;\n",
       "    }\n",
       "</style>\n",
       "<table border=\"1\" class=\"dataframe\">\n",
       "  <thead>\n",
       "    <tr style=\"text-align: right;\">\n",
       "      <th></th>\n",
       "      <th>subscription_type</th>\n",
       "      <th>minute_price</th>\n",
       "      <th>start_ride_price</th>\n",
       "      <th>subscription_fee</th>\n",
       "    </tr>\n",
       "  </thead>\n",
       "  <tbody>\n",
       "    <tr>\n",
       "      <th>0</th>\n",
       "      <td>free</td>\n",
       "      <td>8</td>\n",
       "      <td>50</td>\n",
       "      <td>0</td>\n",
       "    </tr>\n",
       "    <tr>\n",
       "      <th>1</th>\n",
       "      <td>ultra</td>\n",
       "      <td>6</td>\n",
       "      <td>0</td>\n",
       "      <td>199</td>\n",
       "    </tr>\n",
       "  </tbody>\n",
       "</table>\n",
       "</div>"
      ],
      "text/plain": [
       "  subscription_type  minute_price  start_ride_price  subscription_fee\n",
       "0              free             8                50                 0\n",
       "1             ultra             6                 0               199"
      ]
     },
     "metadata": {},
     "output_type": "display_data"
    }
   ],
   "source": [
    "display(df_users_go.head())\n",
    "display(df_rides_go.head())\n",
    "display(df_subscriptions_go.head())"
   ]
  },
  {
   "cell_type": "markdown",
   "metadata": {
    "deletable": false,
    "editable": false,
    "id": "zjZVYVQ3sK7p",
    "tags": [
     "start_task"
    ]
   },
   "source": [
    "### Задача 1.4 Подсчёт строк\n",
    "Определите количество строк в каждом из трёх датафреймов. Это поможет оценить объём данных и выявить аномалии, например слишком малое количество записей. В качестве ответа запишите три целых числа в одну строку через пробел."
   ]
  },
  {
   "cell_type": "code",
   "execution_count": 4,
   "metadata": {
    "deletable": false,
    "id": "I-mEFxuHHavX"
   },
   "outputs": [
    {
     "name": "stdout",
     "output_type": "stream",
     "text": [
      "1565 18068 2\n"
     ]
    }
   ],
   "source": [
    "print(len(df_users_go), len(df_rides_go), len(df_subscriptions_go))"
   ]
  },
  {
   "cell_type": "markdown",
   "metadata": {
    "deletable": false,
    "editable": false,
    "id": "xXmiI6QYsK7q"
   },
   "source": [
    "---\n",
    "## Задание 2. Знакомство с данными и их предварительная подготовка\n",
    "\n",
    "Прежде чем начать анализ, важно убедиться в качестве предоставленных данных. Выполните несколько шагов, чтобы лучше понять структуру и устранить потенциальные проблемы в таблицах."
   ]
  },
  {
   "cell_type": "markdown",
   "metadata": {
    "deletable": false,
    "editable": false,
    "id": "2D6UywOBsK7q",
    "tags": [
     "start_task"
    ]
   },
   "source": [
    "### Задача 2.1 Определение типов данных\n",
    "В датафрейме `df_rides_go` выведите типы данных каждой колонки стандартным атрибутом `dtypes`. Так вы проверите корректность типов и подготовите данные для дальнейшей обработки."
   ]
  },
  {
   "cell_type": "code",
   "execution_count": 5,
   "metadata": {
    "deletable": false,
    "id": "B40wZ2cnHfAM"
   },
   "outputs": [
    {
     "name": "stdout",
     "output_type": "stream",
     "text": [
      "user_id       int64\n",
      "distance    float64\n",
      "duration    float64\n",
      "date         object\n",
      "dtype: object\n"
     ]
    }
   ],
   "source": [
    "print(df_rides_go.dtypes)"
   ]
  },
  {
   "cell_type": "markdown",
   "metadata": {
    "deletable": false,
    "editable": false,
    "id": "R0EN6gRJsK7r",
    "tags": [
     "start_task"
    ]
   },
   "source": [
    "### Задача 2.2 Преобразование формата даты\n",
    "Приведите столбец `date` в датафрейме `df_rides_go` к типу даты pandas, используя метод `pd.to_datetime()`, изученный вами в одном из прошлых спринтов. Этот шаг упростит работу с временными данными."
   ]
  },
  {
   "cell_type": "code",
   "execution_count": 6,
   "metadata": {
    "deletable": false,
    "id": "flLYZquqHggn"
   },
   "outputs": [
    {
     "name": "stdout",
     "output_type": "stream",
     "text": [
      "user_id              int64\n",
      "distance           float64\n",
      "duration           float64\n",
      "date        datetime64[ns]\n",
      "dtype: object\n"
     ]
    }
   ],
   "source": [
    "df_rides_go['date'] = pd.to_datetime(df_rides_go['date'])\n",
    "print(df_rides_go.dtypes)"
   ]
  },
  {
   "cell_type": "markdown",
   "metadata": {
    "deletable": false,
    "editable": false,
    "id": "RVxOqAqtsK7r",
    "tags": [
     "start_task"
    ]
   },
   "source": [
    "### Задача 2.3 Создание столбца с месяцем\n",
    "На основе столбца `date` создайте новый столбец `month`, содержащий номер месяца. Это нужно для последующей группировки данных и анализа сезонных трендов."
   ]
  },
  {
   "cell_type": "code",
   "execution_count": 7,
   "metadata": {
    "deletable": false,
    "id": "LYkUO3EnHhu5"
   },
   "outputs": [
    {
     "name": "stdout",
     "output_type": "stream",
     "text": [
      "        date  month\n",
      "0 2021-01-01      1\n",
      "1 2021-01-18      1\n",
      "2 2021-04-20      4\n",
      "3 2021-08-11      8\n",
      "4 2021-08-28      8\n"
     ]
    }
   ],
   "source": [
    "df_rides_go['month'] = df_rides_go['date'].dt.month\n",
    "print(df_rides_go[['date', 'month']].head())"
   ]
  },
  {
   "cell_type": "markdown",
   "metadata": {
    "deletable": false,
    "editable": false,
    "id": "u69-EsMDsK7w",
    "tags": [
     "start_task"
    ]
   },
   "source": [
    "### Задача 2.4 Поиск дублей и пропусков\n",
    "В датафрейме пользователей `df_users_go` определите количество пропусков и дубликатов. Это необходимо для понимания полноты и уникальности данных пользователей. Ответ выведите в виде двух целых чисел, разделённых пробелом. Например: `10 20`."
   ]
  },
  {
   "cell_type": "code",
   "execution_count": 8,
   "metadata": {
    "deletable": false,
    "id": "Bsfa7IX3Hi7w"
   },
   "outputs": [
    {
     "name": "stdout",
     "output_type": "stream",
     "text": [
      "0 31\n"
     ]
    }
   ],
   "source": [
    "missing_values = df_users_go.isna().sum().sum()  # Количество пропусков\n",
    "duplicates = df_users_go.duplicated().sum()  # Количество дубликатов\n",
    "print(missing_values, duplicates)"
   ]
  },
  {
   "cell_type": "markdown",
   "metadata": {
    "deletable": false,
    "editable": false,
    "id": "0n5_KBqtsK7y",
    "tags": [
     "start_task"
    ]
   },
   "source": [
    "### Задача 2.5 Заполнение пропусков и удаление дублей\n",
    "При наличии пропущенных значений заполните их нулями, а все дубликаты удалите. Это шаг необходим для улучшения качества данных, что является ключевым для точного анализа. Все операции проводите с созданными в рамках задачи 1 датафреймами."
   ]
  },
  {
   "cell_type": "markdown",
   "metadata": {
    "deletable": false,
    "editable": false,
    "id": "0pfQQZP7-n_F"
   },
   "source": [
    "<details>\n",
    "<summary>Открыть подсказку</summary>\n",
    "Внимательно изучите результаты предыдущих шагов и определите, какие датасеты вам понадобятся.\n",
    "</details>"
   ]
  },
  {
   "cell_type": "code",
   "execution_count": 9,
   "metadata": {
    "deletable": false,
    "id": "X75yCyl_HkUS"
   },
   "outputs": [
    {
     "name": "stdout",
     "output_type": "stream",
     "text": [
      "0 0\n"
     ]
    }
   ],
   "source": [
    "df_users_go = df_users_go.fillna(0) #Заполним пропуски нулями\n",
    "df_users_go = df_users_go.drop_duplicates() #Удаляем дубликаты\n",
    "missing_values = df_users_go.isna().sum().sum() #Проверяем\n",
    "duplicates = df_users_go.duplicated().sum()\n",
    "print(missing_values, duplicates)"
   ]
  },
  {
   "cell_type": "code",
   "execution_count": 10,
   "metadata": {},
   "outputs": [
    {
     "name": "stdout",
     "output_type": "stream",
     "text": [
      "Пропуски в каждом столбце:\n",
      "user_id     0\n",
      "distance    0\n",
      "duration    0\n",
      "date        0\n",
      "month       0\n",
      "dtype: int64\n",
      "Количество дубликатов: 0\n"
     ]
    }
   ],
   "source": [
    "# Проверяем пропуски в df_rides_go\n",
    "missing_values_rides = df_rides_go.isna().sum()\n",
    "print(\"Пропуски в каждом столбце:\")\n",
    "print(missing_values_rides)\n",
    "\n",
    "# Проверяем количество дубликатов\n",
    "duplicates_rides = df_rides_go.duplicated().sum()\n",
    "print(f\"Количество дубликатов: {duplicates_rides}\")"
   ]
  },
  {
   "cell_type": "markdown",
   "metadata": {
    "deletable": false,
    "editable": false,
    "id": "kAGj3NxDsK7z",
    "tags": [
     "start_task"
    ]
   },
   "source": [
    "### Задача 2.6 Округление длительности поездки\n",
    "В датафрейме поездок `df_rides_go` округлите время поездки `duration` до целого числа стандартным методом `round()`. Затем приведите эту колонку к целочисленному типу `int`. Этот шаг затем поможет вам правильно рассчитать прибыль, так как плата взимается только за целое число минут."
   ]
  },
  {
   "cell_type": "code",
   "execution_count": 11,
   "metadata": {
    "deletable": false,
    "id": "pm5FYnl_HlSd"
   },
   "outputs": [
    {
     "name": "stdout",
     "output_type": "stream",
     "text": [
      "0    26\n",
      "1    16\n",
      "2     6\n",
      "3    19\n",
      "4    26\n",
      "Name: duration, dtype: int64\n"
     ]
    }
   ],
   "source": [
    "df_rides_go['duration'] = df_rides_go['duration'].round().astype(int)\n",
    "print(df_rides_go['duration'].head())"
   ]
  },
  {
   "cell_type": "markdown",
   "metadata": {
    "deletable": false,
    "editable": false,
    "id": "r5kzIOGGsK7z"
   },
   "source": [
    "---\n",
    "## Задание 3. Исследовательский анализ данных (EDA)\n",
    "Исследовательский анализ данных — неотъемлемая часть работы аналитика. В этом задании вы внимательнее изучите и визуализируете информацию о географии и демографии сервиса, а также лучше поймёте закономерности в дистанциях и длительности поездок.\n"
   ]
  },
  {
   "cell_type": "markdown",
   "metadata": {
    "deletable": false,
    "editable": false,
    "id": "mnLLcghssK70",
    "tags": [
     "start_task"
    ]
   },
   "source": [
    "### Задача 3.1 Импорт библиотеки matplotlib\n",
    "Импортируйте библиотеку matplotlib.pyplot с сокращением `plt`."
   ]
  },
  {
   "cell_type": "code",
   "execution_count": 12,
   "metadata": {
    "deletable": false,
    "id": "gtf8ylhTHnBO"
   },
   "outputs": [],
   "source": [
    "import matplotlib.pyplot as plt"
   ]
  },
  {
   "cell_type": "markdown",
   "metadata": {
    "deletable": false,
    "editable": false,
    "id": "v4xEIrk1sK70",
    "tags": [
     "start_task"
    ]
   },
   "source": [
    "### Задача 3.2 Количество пользователей по городам.\n",
    "Пользуясь данными из датафрейма `df_users_go`, изучите количество пользователей в каждом из городов. Создайте и выведите на экран объект `pd.Series`, названный `users_by_city_count`, с одной колонкой `count` — суммарным количеством пользователей в каждом городе `city`, отсортированным по убыванию."
   ]
  },
  {
   "cell_type": "markdown",
   "metadata": {
    "deletable": false,
    "editable": false,
    "id": "UuAD6cGfE1Lp"
   },
   "source": [
    "<details>\n",
    "<summary>Открыть подсказку</summary>\n",
    "В этом задании можно воспользоваться методом <code>value_counts()</code>.\n",
    "</details>"
   ]
  },
  {
   "cell_type": "code",
   "execution_count": 13,
   "metadata": {
    "deletable": false,
    "id": "rkqVGZ9HHoXm"
   },
   "outputs": [
    {
     "name": "stdout",
     "output_type": "stream",
     "text": [
      "Пятигорск         219\n",
      "Екатеринбург      204\n",
      "Ростов-на-Дону    198\n",
      "Краснодар         193\n",
      "Сочи              189\n",
      "Омск              183\n",
      "Тюмень            180\n",
      "Москва            168\n",
      "Name: city, dtype: int64\n"
     ]
    }
   ],
   "source": [
    "users_by_city_count = df_users_go['city'].value_counts()\n",
    "# Меняем название колонки\n",
    "users_by_city_count = users_by_city_count.rename('city')\n",
    "print(users_by_city_count)"
   ]
  },
  {
   "cell_type": "markdown",
   "metadata": {
    "deletable": false,
    "editable": false,
    "id": "T4MURCh8sK76",
    "tags": [
     "start_task"
    ]
   },
   "source": [
    "### Задача 3.3 Количество пользователей подписки\n",
    "Создайте и выведите на экран серию `subscription_type_count` с количеством пользователей для каждого типа подписки `subscription_type`."
   ]
  },
  {
   "cell_type": "markdown",
   "metadata": {
    "deletable": false,
    "editable": false,
    "id": "M_6HyiPdFeNH"
   },
   "source": [
    "<details>\n",
    "<summary>Открыть подсказку</summary>\n",
    "В этом задании можно воспользоваться методом <code>value_counts()</code>.\n",
    "</details>"
   ]
  },
  {
   "cell_type": "code",
   "execution_count": 14,
   "metadata": {
    "deletable": false,
    "id": "Fc_B3eFvHpum"
   },
   "outputs": [
    {
     "name": "stdout",
     "output_type": "stream",
     "text": [
      "free     835\n",
      "ultra    699\n",
      "Name: subscription_type, dtype: int64\n"
     ]
    }
   ],
   "source": [
    "subscription_type_count = df_users_go['subscription_type'].value_counts()\n",
    "subscription_type_count = subscription_type_count.rename('subscription_type')\n",
    "print(subscription_type_count)"
   ]
  },
  {
   "cell_type": "markdown",
   "metadata": {
    "deletable": false,
    "editable": false,
    "id": "O3lz5rR4sK77",
    "tags": [
     "start_task"
    ]
   },
   "source": [
    "### Задача 3.4 Круговая диаграмма\n",
    "Постройте круговую диаграмму, указав процент пользователей с `free` и `ultra` подпиской. Вызовите метод `plot()` для серии `subscription_type_count` с указанием нужного аргумента для построения круговой диаграммы.\n",
    "\n",
    "Затем добавьте следующее:\n",
    "- **Заголовок.** Установите заголовок с помощью параметра `title`, задав его как `'Соотношение пользователей с подпиской и без подписки'`.\n",
    "- **Процентные метки.** Используйте параметр `autopct='%.0f%%'` для отображения процентных значений на диаграмме. Достаточно передать аргумент в указанном виде методу `plot()`. Процентные метки часто хорошо дополняют круговые диаграммы.\n",
    "- **Подпись оси Y.** Установите пустую строку для подписи оси Y `(ylabel='')`, чтобы она не отображалась.\n",
    "- **Цвета секторов.** Используйте параметр `colors`, задав красный цвет `red` для пользователей без подписки и зелёный `green` для подписчиков.\n",
    "\n",
    "Затем вызовите `plt.show()` для отображения диаграммы."
   ]
  },
  {
   "cell_type": "code",
   "execution_count": 15,
   "metadata": {
    "deletable": false,
    "id": "xdIJI_KoHr7b"
   },
   "outputs": [
    {
     "data": {
      "image/png": "[encoded data removed]",
      "text/plain": [
       "<Figure size 432x288 with 1 Axes>"
      ]
     },
     "metadata": {},
     "output_type": "display_data"
    }
   ],
   "source": [
    "subscription_type_count.plot(\n",
    "    kind='pie',\n",
    "    title='Соотношение пользователей с подпиской и без подписки',\n",
    "    autopct='%.0f%%',\n",
    "    ylabel='',\n",
    "    colors=['red', 'green'])\n",
    "\n",
    "plt.show()"
   ]
  },
  {
   "cell_type": "markdown",
   "metadata": {
    "deletable": false,
    "editable": false,
    "id": "AghuPrntsK78",
    "tags": [
     "start_task"
    ]
   },
   "source": [
    "### Задача 3.5 Гистограмма возрастов\n",
    "Постройте гистограмму возрастов `age` пользователей самокатов. Используйте количество бинов, равное разности максимального и минимального значений возраста.\n",
    "\n",
    "Что нужно сделать:\n",
    "\n",
    "1. Определить количество бинов `n_bins` как разницу между максимальным и минимальным значениями в столбце `age`.\n",
    "2. Использовать метод `hist()` для столбца `df_users_go['age']`.\n",
    "3. Установить количество бинов через параметр `bins=n_bins`.\n",
    "4. Назначить заголовок графика как `'Возраст пользователей'` с помощью `plt.title()`.\n",
    "5. Установить подпись оси X как `'Возраст'` с помощью `plt.xlabel()`.\n",
    "6. Вызвать `plt.show()` для визуального отображения гистограммы."
   ]
  },
  {
   "cell_type": "code",
   "execution_count": 16,
   "metadata": {
    "deletable": false,
    "id": "E-0ubIOKmbCR"
   },
   "outputs": [
    {
     "data": {
      "image/png": "[encoded data removed]",
      "text/plain": [
       "<Figure size 432x288 with 1 Axes>"
      ]
     },
     "metadata": {
      "needs_background": "light"
     },
     "output_type": "display_data"
    }
   ],
   "source": [
    "n_bins = df_users_go['age'].max() - df_users_go['age'].min() # Определяем количество бинов\n",
    "\n",
    "# Строим гистограмму\n",
    "df_users_go['age'].hist(bins=n_bins)\n",
    "plt.title('Возраст пользователей')\n",
    "plt.xlabel('Возраст')\n",
    "plt.show()"
   ]
  },
  {
   "cell_type": "markdown",
   "metadata": {
    "deletable": false,
    "editable": false,
    "id": "s0gjcXIasK7-",
    "tags": [
     "start_task"
    ]
   },
   "source": [
    "### Задача 3.6 Несовершеннолетние пользователи\n",
    "Рассчитайте долю несовершеннолетних (возрастом менее 18 лет) пользователей самокатов."
   ]
  },
  {
   "cell_type": "markdown",
   "metadata": {
    "deletable": false,
    "editable": false,
    "id": "7VY_FIj0Ifet"
   },
   "source": [
    "<details>\n",
    "<summary>Открыть подсказку</summary>\n",
    "Для начала необходимо рассчитать количество пользователей младше 18 лет — для этого вспомните принцип использования логических масок в pandas. Затем полученное значение следует разделить на количество строк в таблице. Получить его можно, например, из кортежа, который выдаёт атрибут <code>shape</code>.\n",
    "</details>"
   ]
  },
  {
   "cell_type": "code",
   "execution_count": 17,
   "metadata": {
    "deletable": false,
    "id": "OR-1q5LJI9UK"
   },
   "outputs": [
    {
     "name": "stdout",
     "output_type": "stream",
     "text": [
      "Доля несовершеннолетних пользователей самокатов составляет 5%.\n"
     ]
    }
   ],
   "source": [
    "minor_users = df_users_go[df_users_go['age'] < 18]  # Пользователи младше 18 лет\n",
    "minor_count = minor_users.shape[0]  # Количество несовершеннолетних\n",
    "total_users = df_users_go.shape[0]  # Общее количество\n",
    "users_under_18_ratio = int((minor_count / total_users) * 100)  # Преобразуем долю в процент и приводим к int\n",
    "print(f'Доля несовершеннолетних пользователей самокатов составляет {users_under_18_ratio}%.')"
   ]
  },
  {
   "cell_type": "markdown",
   "metadata": {
    "deletable": false,
    "editable": false,
    "id": "FK3h1H-nP5NW",
    "tags": [
     "start_task"
    ]
   },
   "source": [
    "### Задача 3.7 Характеристики длительности поездки\n",
    "Длительность поездки является важной метрикой в работе сервиса проката самокатов. Если средняя длительность поездок будет слишком высокой, самокаты будут быстрее выходить из строя. Если слишком низкой, значит, клиентам что-то не нравится в сервисе.\n",
    "\n",
    "В этом задании с помощью описательной статистики вы изучите длительность поездок:\n",
    "\n",
    "1. Используйте колонку `duration` из датафрейма `df_rides_go`.\n",
    "2. Расчитайте среднее значение и стандартное отклонение длительности поездки. Для расчёта стандартного отклонения можно воспользоваться методом `std()`.\n",
    "3. Рассчитайте 25-й и 75-й процентили длительности поездки.\n",
    "4. Выведите на экран ответ по предложенному шаблону.\n",
    "\n",
    "Используя шаблон, сформулируйте и выведите текстовый вывод о средней длительности поездки, а также о 25-м и 75-м процентилях длительности.\n"
   ]
  },
  {
   "cell_type": "code",
   "execution_count": 18,
   "metadata": {
    "deletable": false,
    "id": "Gnhi9BqZKr3-"
   },
   "outputs": [
    {
     "name": "stdout",
     "output_type": "stream",
     "text": [
      "Средняя длительность поездки 18 минут со стандартным отклонением 6. Основная часть поездок занимает от 14 до 22 минут.\n"
     ]
    }
   ],
   "source": [
    "duration_mean = round(df_rides_go['duration'].mean())  # Округляем перед int\n",
    "duration_std = round(df_rides_go['duration'].std())  \n",
    "\n",
    "duration_pct25 = round(df_rides_go['duration'].quantile(0.25))\n",
    "duration_pct75 = round(df_rides_go['duration'].quantile(0.75))\n",
    "\n",
    "print(f'Средняя длительность поездки {duration_mean} минут со стандартным отклонением {duration_std}. Основная часть поездок занимает от {duration_pct25} до {duration_pct75} минут.')"
   ]
  },
  {
   "cell_type": "markdown",
   "metadata": {
    "deletable": false,
    "editable": false,
    "id": "tyrEdxs0sK8C"
   },
   "source": [
    "---\n",
    "## Задание 4. Объединение данных\n",
    "\n",
    "В самом начале урока вы загрузили три таблицы, настало время объединить все эти данные в один датафрейм."
   ]
  },
  {
   "cell_type": "markdown",
   "metadata": {
    "deletable": false,
    "editable": false,
    "id": "diTj4AtBsK8C",
    "tags": [
     "start_task"
    ]
   },
   "source": [
    "### Задача 4.1 Объединение таблицы пользователей и поездок\n",
    "Объедините датафреймы с информацией о пользователях `df_users_go` и поездках `df_rides_go`. Полученный датафрейм назовите просто `df`. При объединении используйте метод `merge()` по общей для двух таблиц колонке и тип объединения `left`."
   ]
  },
  {
   "cell_type": "code",
   "execution_count": 19,
   "metadata": {
    "deletable": false,
    "id": "WwPCouN0nhPk"
   },
   "outputs": [
    {
     "data": {
      "text/html": [
       "<div>\n",
       "<style scoped>\n",
       "    .dataframe tbody tr th:only-of-type {\n",
       "        vertical-align: middle;\n",
       "    }\n",
       "\n",
       "    .dataframe tbody tr th {\n",
       "        vertical-align: top;\n",
       "    }\n",
       "\n",
       "    .dataframe thead th {\n",
       "        text-align: right;\n",
       "    }\n",
       "</style>\n",
       "<table border=\"1\" class=\"dataframe\">\n",
       "  <thead>\n",
       "    <tr style=\"text-align: right;\">\n",
       "      <th></th>\n",
       "      <th>user_id</th>\n",
       "      <th>distance</th>\n",
       "      <th>duration</th>\n",
       "      <th>date</th>\n",
       "      <th>month</th>\n",
       "      <th>name</th>\n",
       "      <th>age</th>\n",
       "      <th>city</th>\n",
       "      <th>subscription_type</th>\n",
       "    </tr>\n",
       "  </thead>\n",
       "  <tbody>\n",
       "    <tr>\n",
       "      <th>0</th>\n",
       "      <td>1</td>\n",
       "      <td>4409.919140</td>\n",
       "      <td>26</td>\n",
       "      <td>2021-01-01</td>\n",
       "      <td>1</td>\n",
       "      <td>Кира</td>\n",
       "      <td>22</td>\n",
       "      <td>Тюмень</td>\n",
       "      <td>ultra</td>\n",
       "    </tr>\n",
       "    <tr>\n",
       "      <th>1</th>\n",
       "      <td>1</td>\n",
       "      <td>2617.592153</td>\n",
       "      <td>16</td>\n",
       "      <td>2021-01-18</td>\n",
       "      <td>1</td>\n",
       "      <td>Кира</td>\n",
       "      <td>22</td>\n",
       "      <td>Тюмень</td>\n",
       "      <td>ultra</td>\n",
       "    </tr>\n",
       "    <tr>\n",
       "      <th>2</th>\n",
       "      <td>1</td>\n",
       "      <td>754.159807</td>\n",
       "      <td>6</td>\n",
       "      <td>2021-04-20</td>\n",
       "      <td>4</td>\n",
       "      <td>Кира</td>\n",
       "      <td>22</td>\n",
       "      <td>Тюмень</td>\n",
       "      <td>ultra</td>\n",
       "    </tr>\n",
       "    <tr>\n",
       "      <th>3</th>\n",
       "      <td>1</td>\n",
       "      <td>2694.783254</td>\n",
       "      <td>19</td>\n",
       "      <td>2021-08-11</td>\n",
       "      <td>8</td>\n",
       "      <td>Кира</td>\n",
       "      <td>22</td>\n",
       "      <td>Тюмень</td>\n",
       "      <td>ultra</td>\n",
       "    </tr>\n",
       "    <tr>\n",
       "      <th>4</th>\n",
       "      <td>1</td>\n",
       "      <td>4028.687306</td>\n",
       "      <td>26</td>\n",
       "      <td>2021-08-28</td>\n",
       "      <td>8</td>\n",
       "      <td>Кира</td>\n",
       "      <td>22</td>\n",
       "      <td>Тюмень</td>\n",
       "      <td>ultra</td>\n",
       "    </tr>\n",
       "  </tbody>\n",
       "</table>\n",
       "</div>"
      ],
      "text/plain": [
       "   user_id     distance  duration       date  month  name  age    city  \\\n",
       "0        1  4409.919140        26 2021-01-01      1  Кира   22  Тюмень   \n",
       "1        1  2617.592153        16 2021-01-18      1  Кира   22  Тюмень   \n",
       "2        1   754.159807         6 2021-04-20      4  Кира   22  Тюмень   \n",
       "3        1  2694.783254        19 2021-08-11      8  Кира   22  Тюмень   \n",
       "4        1  4028.687306        26 2021-08-28      8  Кира   22  Тюмень   \n",
       "\n",
       "  subscription_type  \n",
       "0             ultra  \n",
       "1             ultra  \n",
       "2             ultra  \n",
       "3             ultra  \n",
       "4             ultra  "
      ]
     },
     "execution_count": 19,
     "metadata": {},
     "output_type": "execute_result"
    }
   ],
   "source": [
    "df = df_rides_go.merge(df_users_go, on='user_id', how='left')\n",
    "df.head()"
   ]
  },
  {
   "cell_type": "markdown",
   "metadata": {
    "deletable": false,
    "editable": false,
    "id": "-RP6pSRQsK8D",
    "tags": [
     "start_task"
    ]
   },
   "source": [
    "### Задача 4.2 Присоединение информации о подписках\n",
    "Присоедините к полученному датафрейму `df` информацию о подписках из `df_subscriptions_go`, используя метод `merge()` по общей колонке и тип объединения `left`.\n"
   ]
  },
  {
   "cell_type": "code",
   "execution_count": 20,
   "metadata": {
    "deletable": false,
    "id": "G2coeCg2n6oe"
   },
   "outputs": [
    {
     "data": {
      "text/html": [
       "<div>\n",
       "<style scoped>\n",
       "    .dataframe tbody tr th:only-of-type {\n",
       "        vertical-align: middle;\n",
       "    }\n",
       "\n",
       "    .dataframe tbody tr th {\n",
       "        vertical-align: top;\n",
       "    }\n",
       "\n",
       "    .dataframe thead th {\n",
       "        text-align: right;\n",
       "    }\n",
       "</style>\n",
       "<table border=\"1\" class=\"dataframe\">\n",
       "  <thead>\n",
       "    <tr style=\"text-align: right;\">\n",
       "      <th></th>\n",
       "      <th>user_id</th>\n",
       "      <th>distance</th>\n",
       "      <th>duration</th>\n",
       "      <th>date</th>\n",
       "      <th>month</th>\n",
       "      <th>name</th>\n",
       "      <th>age</th>\n",
       "      <th>city</th>\n",
       "      <th>subscription_type</th>\n",
       "      <th>minute_price</th>\n",
       "      <th>start_ride_price</th>\n",
       "      <th>subscription_fee</th>\n",
       "    </tr>\n",
       "  </thead>\n",
       "  <tbody>\n",
       "    <tr>\n",
       "      <th>0</th>\n",
       "      <td>1</td>\n",
       "      <td>4409.919140</td>\n",
       "      <td>26</td>\n",
       "      <td>2021-01-01</td>\n",
       "      <td>1</td>\n",
       "      <td>Кира</td>\n",
       "      <td>22</td>\n",
       "      <td>Тюмень</td>\n",
       "      <td>ultra</td>\n",
       "      <td>6</td>\n",
       "      <td>0</td>\n",
       "      <td>199</td>\n",
       "    </tr>\n",
       "    <tr>\n",
       "      <th>1</th>\n",
       "      <td>1</td>\n",
       "      <td>2617.592153</td>\n",
       "      <td>16</td>\n",
       "      <td>2021-01-18</td>\n",
       "      <td>1</td>\n",
       "      <td>Кира</td>\n",
       "      <td>22</td>\n",
       "      <td>Тюмень</td>\n",
       "      <td>ultra</td>\n",
       "      <td>6</td>\n",
       "      <td>0</td>\n",
       "      <td>199</td>\n",
       "    </tr>\n",
       "    <tr>\n",
       "      <th>2</th>\n",
       "      <td>1</td>\n",
       "      <td>754.159807</td>\n",
       "      <td>6</td>\n",
       "      <td>2021-04-20</td>\n",
       "      <td>4</td>\n",
       "      <td>Кира</td>\n",
       "      <td>22</td>\n",
       "      <td>Тюмень</td>\n",
       "      <td>ultra</td>\n",
       "      <td>6</td>\n",
       "      <td>0</td>\n",
       "      <td>199</td>\n",
       "    </tr>\n",
       "    <tr>\n",
       "      <th>3</th>\n",
       "      <td>1</td>\n",
       "      <td>2694.783254</td>\n",
       "      <td>19</td>\n",
       "      <td>2021-08-11</td>\n",
       "      <td>8</td>\n",
       "      <td>Кира</td>\n",
       "      <td>22</td>\n",
       "      <td>Тюмень</td>\n",
       "      <td>ultra</td>\n",
       "      <td>6</td>\n",
       "      <td>0</td>\n",
       "      <td>199</td>\n",
       "    </tr>\n",
       "    <tr>\n",
       "      <th>4</th>\n",
       "      <td>1</td>\n",
       "      <td>4028.687306</td>\n",
       "      <td>26</td>\n",
       "      <td>2021-08-28</td>\n",
       "      <td>8</td>\n",
       "      <td>Кира</td>\n",
       "      <td>22</td>\n",
       "      <td>Тюмень</td>\n",
       "      <td>ultra</td>\n",
       "      <td>6</td>\n",
       "      <td>0</td>\n",
       "      <td>199</td>\n",
       "    </tr>\n",
       "  </tbody>\n",
       "</table>\n",
       "</div>"
      ],
      "text/plain": [
       "   user_id     distance  duration       date  month  name  age    city  \\\n",
       "0        1  4409.919140        26 2021-01-01      1  Кира   22  Тюмень   \n",
       "1        1  2617.592153        16 2021-01-18      1  Кира   22  Тюмень   \n",
       "2        1   754.159807         6 2021-04-20      4  Кира   22  Тюмень   \n",
       "3        1  2694.783254        19 2021-08-11      8  Кира   22  Тюмень   \n",
       "4        1  4028.687306        26 2021-08-28      8  Кира   22  Тюмень   \n",
       "\n",
       "  subscription_type  minute_price  start_ride_price  subscription_fee  \n",
       "0             ultra             6                 0               199  \n",
       "1             ultra             6                 0               199  \n",
       "2             ultra             6                 0               199  \n",
       "3             ultra             6                 0               199  \n",
       "4             ultra             6                 0               199  "
      ]
     },
     "execution_count": 20,
     "metadata": {},
     "output_type": "execute_result"
    }
   ],
   "source": [
    "df = df.merge(df_subscriptions_go, on='subscription_type', how='left')\n",
    "df.head()"
   ]
  },
  {
   "cell_type": "markdown",
   "metadata": {
    "deletable": false,
    "editable": false,
    "id": "RGrvW_QIsK8D",
    "tags": [
     "start_task"
    ]
   },
   "source": [
    "### Задача 4.3. Размеры объединённого датафрейма\n",
    "Для финальной проверки выведите на экран первые пять строк датафрейма, а также количество строк и столбцов полученного датафрейма `df`. Этот этап позволит убедиться, что никакие записи не потерялись при объединении."
   ]
  },
  {
   "cell_type": "code",
   "execution_count": 21,
   "metadata": {
    "deletable": false,
    "id": "9isF62fNLWAD"
   },
   "outputs": [
    {
     "data": {
      "text/html": [
       "<div>\n",
       "<style scoped>\n",
       "    .dataframe tbody tr th:only-of-type {\n",
       "        vertical-align: middle;\n",
       "    }\n",
       "\n",
       "    .dataframe tbody tr th {\n",
       "        vertical-align: top;\n",
       "    }\n",
       "\n",
       "    .dataframe thead th {\n",
       "        text-align: right;\n",
       "    }\n",
       "</style>\n",
       "<table border=\"1\" class=\"dataframe\">\n",
       "  <thead>\n",
       "    <tr style=\"text-align: right;\">\n",
       "      <th></th>\n",
       "      <th>user_id</th>\n",
       "      <th>distance</th>\n",
       "      <th>duration</th>\n",
       "      <th>date</th>\n",
       "      <th>month</th>\n",
       "      <th>name</th>\n",
       "      <th>age</th>\n",
       "      <th>city</th>\n",
       "      <th>subscription_type</th>\n",
       "      <th>minute_price</th>\n",
       "      <th>start_ride_price</th>\n",
       "      <th>subscription_fee</th>\n",
       "    </tr>\n",
       "  </thead>\n",
       "  <tbody>\n",
       "    <tr>\n",
       "      <th>0</th>\n",
       "      <td>1</td>\n",
       "      <td>4409.919140</td>\n",
       "      <td>26</td>\n",
       "      <td>2021-01-01</td>\n",
       "      <td>1</td>\n",
       "      <td>Кира</td>\n",
       "      <td>22</td>\n",
       "      <td>Тюмень</td>\n",
       "      <td>ultra</td>\n",
       "      <td>6</td>\n",
       "      <td>0</td>\n",
       "      <td>199</td>\n",
       "    </tr>\n",
       "    <tr>\n",
       "      <th>1</th>\n",
       "      <td>1</td>\n",
       "      <td>2617.592153</td>\n",
       "      <td>16</td>\n",
       "      <td>2021-01-18</td>\n",
       "      <td>1</td>\n",
       "      <td>Кира</td>\n",
       "      <td>22</td>\n",
       "      <td>Тюмень</td>\n",
       "      <td>ultra</td>\n",
       "      <td>6</td>\n",
       "      <td>0</td>\n",
       "      <td>199</td>\n",
       "    </tr>\n",
       "    <tr>\n",
       "      <th>2</th>\n",
       "      <td>1</td>\n",
       "      <td>754.159807</td>\n",
       "      <td>6</td>\n",
       "      <td>2021-04-20</td>\n",
       "      <td>4</td>\n",
       "      <td>Кира</td>\n",
       "      <td>22</td>\n",
       "      <td>Тюмень</td>\n",
       "      <td>ultra</td>\n",
       "      <td>6</td>\n",
       "      <td>0</td>\n",
       "      <td>199</td>\n",
       "    </tr>\n",
       "    <tr>\n",
       "      <th>3</th>\n",
       "      <td>1</td>\n",
       "      <td>2694.783254</td>\n",
       "      <td>19</td>\n",
       "      <td>2021-08-11</td>\n",
       "      <td>8</td>\n",
       "      <td>Кира</td>\n",
       "      <td>22</td>\n",
       "      <td>Тюмень</td>\n",
       "      <td>ultra</td>\n",
       "      <td>6</td>\n",
       "      <td>0</td>\n",
       "      <td>199</td>\n",
       "    </tr>\n",
       "    <tr>\n",
       "      <th>4</th>\n",
       "      <td>1</td>\n",
       "      <td>4028.687306</td>\n",
       "      <td>26</td>\n",
       "      <td>2021-08-28</td>\n",
       "      <td>8</td>\n",
       "      <td>Кира</td>\n",
       "      <td>22</td>\n",
       "      <td>Тюмень</td>\n",
       "      <td>ultra</td>\n",
       "      <td>6</td>\n",
       "      <td>0</td>\n",
       "      <td>199</td>\n",
       "    </tr>\n",
       "  </tbody>\n",
       "</table>\n",
       "</div>"
      ],
      "text/plain": [
       "   user_id     distance  duration       date  month  name  age    city  \\\n",
       "0        1  4409.919140        26 2021-01-01      1  Кира   22  Тюмень   \n",
       "1        1  2617.592153        16 2021-01-18      1  Кира   22  Тюмень   \n",
       "2        1   754.159807         6 2021-04-20      4  Кира   22  Тюмень   \n",
       "3        1  2694.783254        19 2021-08-11      8  Кира   22  Тюмень   \n",
       "4        1  4028.687306        26 2021-08-28      8  Кира   22  Тюмень   \n",
       "\n",
       "  subscription_type  minute_price  start_ride_price  subscription_fee  \n",
       "0             ultra             6                 0               199  \n",
       "1             ultra             6                 0               199  \n",
       "2             ultra             6                 0               199  \n",
       "3             ultra             6                 0               199  \n",
       "4             ultra             6                 0               199  "
      ]
     },
     "metadata": {},
     "output_type": "display_data"
    },
    {
     "name": "stdout",
     "output_type": "stream",
     "text": [
      "В полученном датафрейме 18068 строк и 12 столбцов.\n"
     ]
    }
   ],
   "source": [
    "# Выводим первые строки датафрейма\n",
    "display(df.head())\n",
    "\n",
    "# Выводим количество строк и столбцов в объединённом датафрейме\n",
    "n_rows, n_cols = df.shape\n",
    "print(f'В полученном датафрейме {n_rows} строк и {n_cols} столбцов.')"
   ]
  },
  {
   "cell_type": "markdown",
   "metadata": {
    "deletable": false,
    "editable": false,
    "id": "j4fAbR0dsK8E",
    "tags": [
     "start_task"
    ]
   },
   "source": [
    "### Задача 4.4 Отдельные датафреймы для пользователей с подпиской и без\n",
    "Создайте два вспомогательных датафрейма на основе `df`: первый только для пользователей с подпиской `df_ultra` и второй только для пользователей без подписки `df_free`. В следующих заданиях два этих датафрейма пригодятся при изучении поведения пользователей с подпиской и без, а также при проверке продуктовых гипотез."
   ]
  },
  {
   "cell_type": "code",
   "execution_count": 22,
   "metadata": {
    "deletable": false,
    "id": "sKY6MwNNosYg"
   },
   "outputs": [],
   "source": [
    "df_ultra = df[df['subscription_type'] == 'ultra']\n",
    "df_free = df[df['subscription_type'] == 'free']"
   ]
  },
  {
   "cell_type": "markdown",
   "metadata": {
    "deletable": false,
    "editable": false,
    "id": "EsOUpiJ1sK8F",
    "tags": [
     "start_task"
    ]
   },
   "source": [
    "### Задача 4.5 Гистограмма длительности поездок для обоих групп\n",
    "На одном графике постройте гистограмму распределения длительности поездок `duration` для пользователей с подпиской и без.\n",
    "\n",
    "Что нужно сделать:\n",
    "\n",
    "1. Установить размер графика: 15 по горизонтали и 5 по вертикали. Использовать `plt.figure(figsize=(15, 5))`.\n",
    "2. Отобразить данные из столбца `duration` датафрейма `df_free` с помощью метода `hist()`, задав количество бинов `bins=30` и метку `label='free'`.\n",
    "3. Отобразить данные из столбца `duration` датафрейма `df_ultra` с помощью метода `hist()`, также задав количество бинов `bins=30` и метку `label='ultra'`.\n",
    "4. Установить подпись оси X как `'Длительность поездки, мин.'`, используя `plt.xlabel()`.\n",
    "5. Задать заголовок графика как `'Гистограмма распределения длительности поездок'` методом `plt.title()`.\n",
    "6. Добавить легенду для различения категорий на графике с использованием `plt.legend()`.\n",
    "7. Вызвать `plt.show()` для показа графика пользователю.\n",
    "\n",
    "Для удобства воспользуйтесь датафреймами, созданными на прошлом шаге, — `df_ultra` и `df_free`.\n",
    "\n",
    "Дополнительно рассчитайте среднюю длительность поездки для пользователей с подпиской и без, округлив ее до целых стандартной функцией `round` и распечатайте на экран при помощи шаблона."
   ]
  },
  {
   "cell_type": "code",
   "execution_count": 23,
   "metadata": {
    "deletable": false,
    "id": "qw6ZmTHspFbc"
   },
   "outputs": [
    {
     "data": {
      "image/png": "[encoded data removed]",
      "text/plain": [
       "<Figure size 1080x360 with 1 Axes>"
      ]
     },
     "metadata": {
      "needs_background": "light"
     },
     "output_type": "display_data"
    },
    {
     "name": "stdout",
     "output_type": "stream",
     "text": [
      "Средняя длительность поездки для пользователей без подписки 17 мин, а для пользователей с подпиской 19 мин\n"
     ]
    }
   ],
   "source": [
    "# Гистограмма длительности поездки для пользователей с подпиской и без\n",
    "plt.figure(figsize=(15, 5))\n",
    "plt.hist(df_free['duration'], bins=30, alpha=0.7, label='free', color='red') # Пользователи без подписки\n",
    "plt.hist(df_ultra['duration'], bins=30, alpha=0.7, label='ultra', color='green') # Пользователи с подпиской\n",
    "plt.xlabel('Длительность поездки, мин.')\n",
    "plt.title('Гистограмма распределения длительности поездок')\n",
    "plt.legend()\n",
    "plt.show()\n",
    "\n",
    "# Расчет и вывод на экран средней длительности поездки для пользователей с подпиской и без\n",
    "mean_duration_free = round(df_free['duration'].mean())\n",
    "mean_duration_ultra = round(df_ultra['duration'].mean())\n",
    "print(f'Средняя длительность поездки для пользователей без подписки {mean_duration_free} мин, а для пользователей с подпиской {mean_duration_ultra} мин')"
   ]
  },
  {
   "cell_type": "markdown",
   "metadata": {
    "deletable": false,
    "editable": false,
    "id": "oasgRJ_osK8G"
   },
   "source": [
    "---\n",
    "## Задание 5. Подсчёт выручки\n",
    "Данные о количестве и длительности поездок объединены с ценами и тарифами, а значит, теперь есть всё необходимое, чтобы рассчитать важный для бизнеса показатель — выручку."
   ]
  },
  {
   "cell_type": "markdown",
   "metadata": {
    "deletable": false,
    "editable": false,
    "id": "LVBMnLV0sK8G",
    "tags": [
     "start_task"
    ]
   },
   "source": [
    "### Задача 5.1 Данные сгруппированные по нужным колонкам\n",
    "Сгруппируйте данные по следующим столбцам: `user_id`, `name`, `subscription_type`, `month`. Группировку призводите в датафрейме `df_gp`. В итоговом датафрейме `df_gp` должен сохраниться порядок агрегации изначальных столбцов и не должны использоваться групповые индексы (опция `as_index=False`).\n"
   ]
  },
  {
   "cell_type": "code",
   "execution_count": 24,
   "metadata": {
    "deletable": false,
    "id": "Ij2VX1plpVQI"
   },
   "outputs": [],
   "source": [
    "df_gp = df.groupby(['user_id', 'name', 'subscription_type', 'month'], as_index=False)"
   ]
  },
  {
   "cell_type": "markdown",
   "metadata": {
    "deletable": false,
    "editable": false,
    "id": "UVBq7IWjsK8H",
    "tags": [
     "start_task"
    ]
   },
   "source": [
    "### Задача 5.2 Подсчёт агрегированных метрик\n",
    "Создайте новый датафрейм `df_agg`. В нём для каждой группы рассчитайте и добавьте в датафрейм следующие агрегированные значения, используя метод `agg()`:\n",
    "- `total_distance` — сумма значений в столбце `distance`.\n",
    "- `total_duration` — сумма значений в столбце `duration`.\n",
    "- `rides_count` — количество элементов в столбце `duration`.\n",
    "- `subscription_type` — первое значение в группе для столбца `subscription_type`.\n",
    "- `minute_price` — первое значение в группе для столбца `minute_price`.\n",
    "- `start_ride_price` — первое значение в группе для столбца `start_ride_price`.\n",
    "- `subscription_fee` — первое значение в группе для столбца `subscription_fee`."
   ]
  },
  {
   "cell_type": "markdown",
   "metadata": {
    "deletable": false,
    "editable": false,
    "id": "p5MR_VMxNHKs"
   },
   "source": [
    "<details>\n",
    "<summary>Открыть подсказку</summary>\n",
    "В этом задании удобнее всего сделать агрегацию с использованием кортежей.\n",
    "</details>"
   ]
  },
  {
   "cell_type": "code",
   "execution_count": 26,
   "metadata": {
    "deletable": false,
    "id": "8NEOkiIONXHF"
   },
   "outputs": [],
   "source": [
    "df_agg = df_gp.agg(\n",
    "    total_distance=('distance', 'sum'),\n",
    "    total_duration=('duration', 'sum'),\n",
    "    rides_count=('duration', 'count'),\n",
    "    subscription_type=('subscription_type', 'first'),\n",
    "    minute_price=('minute_price', 'first'),\n",
    "    start_ride_price=('start_ride_price', 'first'),\n",
    "    subscription_fee=('subscription_fee', 'first'),\n",
    ")"
   ]
  },
  {
   "cell_type": "markdown",
   "metadata": {
    "deletable": false,
    "editable": false,
    "id": "l6uH5vWSsK8H",
    "tags": [
     "start_task"
    ]
   },
   "source": [
    "### Задача 5.3 Функция для подсчёта выручки\n",
    "Создайте функцию `calculate_monthly_revenue(row)` для расчёта месячной выручки по формуле:\n",
    "\n",
    "`monthly_revenue` = `start_ride_price` * `rides_count` + `minute_price` * `total_duration` + `subscription_fee`\n",
    "\n",
    "В качестве входных данных функция будет принимать одну строку `row` датафрейма. Вспомните, как в таком случае обращаться к каждой колонке.\n",
    "\n",
    "Здесь:\n",
    "- `start_ride_price * rides_count` — выручка от начала каждой поездки.\n",
    "- `minute_price * total_duration` — выручка за время использования.\n",
    "- `subscription_fee` — фиксированная выручка от подписок."
   ]
  },
  {
   "cell_type": "code",
   "execution_count": 27,
   "metadata": {
    "deletable": false,
    "id": "4nzdjVb8qDds"
   },
   "outputs": [],
   "source": [
    "def calculate_monthly_revenue(row):\n",
    "    return (row['start_ride_price'] * row['rides_count'] + \n",
    "            row['minute_price'] * row['total_duration'] + \n",
    "            row['subscription_fee'])"
   ]
  },
  {
   "cell_type": "markdown",
   "metadata": {
    "deletable": false,
    "editable": false,
    "id": "bH0zftBAsK8I",
    "tags": [
     "start_task"
    ]
   },
   "source": [
    "### Задача 5.4 Создание столбца с месячной выручкой на пользователя\n",
    "Создайте новый столбец с месячной выручкой на пользователя `monthly_revenue`. Для этого примените функцию `calculate_monthly_revenue(row)` к каждой строке агрегированного датафрейма `df_agg`."
   ]
  },
  {
   "cell_type": "code",
   "execution_count": 28,
   "metadata": {
    "deletable": false,
    "id": "iUo_b7nmqVL3"
   },
   "outputs": [
    {
     "data": {
      "text/html": [
       "<div>\n",
       "<style scoped>\n",
       "    .dataframe tbody tr th:only-of-type {\n",
       "        vertical-align: middle;\n",
       "    }\n",
       "\n",
       "    .dataframe tbody tr th {\n",
       "        vertical-align: top;\n",
       "    }\n",
       "\n",
       "    .dataframe thead th {\n",
       "        text-align: right;\n",
       "    }\n",
       "</style>\n",
       "<table border=\"1\" class=\"dataframe\">\n",
       "  <thead>\n",
       "    <tr style=\"text-align: right;\">\n",
       "      <th></th>\n",
       "      <th>user_id</th>\n",
       "      <th>name</th>\n",
       "      <th>month</th>\n",
       "      <th>total_distance</th>\n",
       "      <th>total_duration</th>\n",
       "      <th>rides_count</th>\n",
       "      <th>subscription_type</th>\n",
       "      <th>minute_price</th>\n",
       "      <th>start_ride_price</th>\n",
       "      <th>subscription_fee</th>\n",
       "      <th>monthly_revenue</th>\n",
       "    </tr>\n",
       "  </thead>\n",
       "  <tbody>\n",
       "    <tr>\n",
       "      <th>0</th>\n",
       "      <td>1</td>\n",
       "      <td>Кира</td>\n",
       "      <td>1</td>\n",
       "      <td>7027.511294</td>\n",
       "      <td>42</td>\n",
       "      <td>2</td>\n",
       "      <td>ultra</td>\n",
       "      <td>6</td>\n",
       "      <td>0</td>\n",
       "      <td>199</td>\n",
       "      <td>451</td>\n",
       "    </tr>\n",
       "    <tr>\n",
       "      <th>1</th>\n",
       "      <td>1</td>\n",
       "      <td>Кира</td>\n",
       "      <td>4</td>\n",
       "      <td>754.159807</td>\n",
       "      <td>6</td>\n",
       "      <td>1</td>\n",
       "      <td>ultra</td>\n",
       "      <td>6</td>\n",
       "      <td>0</td>\n",
       "      <td>199</td>\n",
       "      <td>235</td>\n",
       "    </tr>\n",
       "    <tr>\n",
       "      <th>2</th>\n",
       "      <td>1</td>\n",
       "      <td>Кира</td>\n",
       "      <td>8</td>\n",
       "      <td>6723.470560</td>\n",
       "      <td>45</td>\n",
       "      <td>2</td>\n",
       "      <td>ultra</td>\n",
       "      <td>6</td>\n",
       "      <td>0</td>\n",
       "      <td>199</td>\n",
       "      <td>469</td>\n",
       "    </tr>\n",
       "    <tr>\n",
       "      <th>3</th>\n",
       "      <td>1</td>\n",
       "      <td>Кира</td>\n",
       "      <td>10</td>\n",
       "      <td>5809.911100</td>\n",
       "      <td>32</td>\n",
       "      <td>2</td>\n",
       "      <td>ultra</td>\n",
       "      <td>6</td>\n",
       "      <td>0</td>\n",
       "      <td>199</td>\n",
       "      <td>391</td>\n",
       "    </tr>\n",
       "    <tr>\n",
       "      <th>4</th>\n",
       "      <td>1</td>\n",
       "      <td>Кира</td>\n",
       "      <td>11</td>\n",
       "      <td>7003.499363</td>\n",
       "      <td>53</td>\n",
       "      <td>3</td>\n",
       "      <td>ultra</td>\n",
       "      <td>6</td>\n",
       "      <td>0</td>\n",
       "      <td>199</td>\n",
       "      <td>517</td>\n",
       "    </tr>\n",
       "  </tbody>\n",
       "</table>\n",
       "</div>"
      ],
      "text/plain": [
       "   user_id  name  month  total_distance  total_duration  rides_count  \\\n",
       "0        1  Кира      1     7027.511294              42            2   \n",
       "1        1  Кира      4      754.159807               6            1   \n",
       "2        1  Кира      8     6723.470560              45            2   \n",
       "3        1  Кира     10     5809.911100              32            2   \n",
       "4        1  Кира     11     7003.499363              53            3   \n",
       "\n",
       "  subscription_type  minute_price  start_ride_price  subscription_fee  \\\n",
       "0             ultra             6                 0               199   \n",
       "1             ultra             6                 0               199   \n",
       "2             ultra             6                 0               199   \n",
       "3             ultra             6                 0               199   \n",
       "4             ultra             6                 0               199   \n",
       "\n",
       "   monthly_revenue  \n",
       "0              451  \n",
       "1              235  \n",
       "2              469  \n",
       "3              391  \n",
       "4              517  "
      ]
     },
     "execution_count": 28,
     "metadata": {},
     "output_type": "execute_result"
    }
   ],
   "source": [
    "df_agg['monthly_revenue'] = df_agg.apply(calculate_monthly_revenue, axis=1)\n",
    "df_agg.head()"
   ]
  },
  {
   "cell_type": "markdown",
   "metadata": {
    "deletable": false,
    "editable": false,
    "id": "HTbnNX3msK8I",
    "tags": [
     "start_task"
    ]
   },
   "source": [
    "### Задача 5.5 Поиск пользователя с максимальной выручкой\n",
    "Исследуйте полученные значения выручки. Найдите пользователя с максимальной суммарной выручкой за весь период наблюдения и для него выведите на экран `user_id`, имя, месяц, количество поездок и выручку за каждый из месяцев."
   ]
  },
  {
   "cell_type": "markdown",
   "metadata": {
    "deletable": false,
    "editable": false,
    "id": "ORj5Kf9EPYno"
   },
   "source": [
    "<details>\n",
    "<summary>Открыть подсказку</summary>\n",
    "Для найденного пользователя выведите колонки <code>user_id</code>, <code>name</code>, <code>month</code>, <code>rides_count</code>, <code>monthly_revenue</code>.\n",
    "</details>"
   ]
  },
  {
   "cell_type": "code",
   "execution_count": 29,
   "metadata": {
    "deletable": false,
    "id": "G93dZkJgqozi"
   },
   "outputs": [
    {
     "data": {
      "text/html": [
       "<div>\n",
       "<style scoped>\n",
       "    .dataframe tbody tr th:only-of-type {\n",
       "        vertical-align: middle;\n",
       "    }\n",
       "\n",
       "    .dataframe tbody tr th {\n",
       "        vertical-align: top;\n",
       "    }\n",
       "\n",
       "    .dataframe thead th {\n",
       "        text-align: right;\n",
       "    }\n",
       "</style>\n",
       "<table border=\"1\" class=\"dataframe\">\n",
       "  <thead>\n",
       "    <tr style=\"text-align: right;\">\n",
       "      <th></th>\n",
       "      <th>user_id</th>\n",
       "      <th>name</th>\n",
       "      <th>month</th>\n",
       "      <th>rides_count</th>\n",
       "      <th>monthly_revenue</th>\n",
       "    </tr>\n",
       "  </thead>\n",
       "  <tbody>\n",
       "    <tr>\n",
       "      <th>8877</th>\n",
       "      <td>1236</td>\n",
       "      <td>Александр</td>\n",
       "      <td>1</td>\n",
       "      <td>2</td>\n",
       "      <td>228</td>\n",
       "    </tr>\n",
       "    <tr>\n",
       "      <th>8878</th>\n",
       "      <td>1236</td>\n",
       "      <td>Александр</td>\n",
       "      <td>2</td>\n",
       "      <td>3</td>\n",
       "      <td>614</td>\n",
       "    </tr>\n",
       "    <tr>\n",
       "      <th>8879</th>\n",
       "      <td>1236</td>\n",
       "      <td>Александр</td>\n",
       "      <td>3</td>\n",
       "      <td>5</td>\n",
       "      <td>762</td>\n",
       "    </tr>\n",
       "    <tr>\n",
       "      <th>8880</th>\n",
       "      <td>1236</td>\n",
       "      <td>Александр</td>\n",
       "      <td>4</td>\n",
       "      <td>1</td>\n",
       "      <td>202</td>\n",
       "    </tr>\n",
       "    <tr>\n",
       "      <th>8881</th>\n",
       "      <td>1236</td>\n",
       "      <td>Александр</td>\n",
       "      <td>5</td>\n",
       "      <td>3</td>\n",
       "      <td>574</td>\n",
       "    </tr>\n",
       "    <tr>\n",
       "      <th>8882</th>\n",
       "      <td>1236</td>\n",
       "      <td>Александр</td>\n",
       "      <td>6</td>\n",
       "      <td>1</td>\n",
       "      <td>282</td>\n",
       "    </tr>\n",
       "    <tr>\n",
       "      <th>8883</th>\n",
       "      <td>1236</td>\n",
       "      <td>Александр</td>\n",
       "      <td>7</td>\n",
       "      <td>1</td>\n",
       "      <td>290</td>\n",
       "    </tr>\n",
       "    <tr>\n",
       "      <th>8884</th>\n",
       "      <td>1236</td>\n",
       "      <td>Александр</td>\n",
       "      <td>8</td>\n",
       "      <td>2</td>\n",
       "      <td>452</td>\n",
       "    </tr>\n",
       "    <tr>\n",
       "      <th>8885</th>\n",
       "      <td>1236</td>\n",
       "      <td>Александр</td>\n",
       "      <td>9</td>\n",
       "      <td>1</td>\n",
       "      <td>122</td>\n",
       "    </tr>\n",
       "    <tr>\n",
       "      <th>8886</th>\n",
       "      <td>1236</td>\n",
       "      <td>Александр</td>\n",
       "      <td>10</td>\n",
       "      <td>3</td>\n",
       "      <td>430</td>\n",
       "    </tr>\n",
       "    <tr>\n",
       "      <th>8887</th>\n",
       "      <td>1236</td>\n",
       "      <td>Александр</td>\n",
       "      <td>11</td>\n",
       "      <td>3</td>\n",
       "      <td>494</td>\n",
       "    </tr>\n",
       "    <tr>\n",
       "      <th>8888</th>\n",
       "      <td>1236</td>\n",
       "      <td>Александр</td>\n",
       "      <td>12</td>\n",
       "      <td>2</td>\n",
       "      <td>476</td>\n",
       "    </tr>\n",
       "  </tbody>\n",
       "</table>\n",
       "</div>"
      ],
      "text/plain": [
       "      user_id       name  month  rides_count  monthly_revenue\n",
       "8877     1236  Александр      1            2              228\n",
       "8878     1236  Александр      2            3              614\n",
       "8879     1236  Александр      3            5              762\n",
       "8880     1236  Александр      4            1              202\n",
       "8881     1236  Александр      5            3              574\n",
       "8882     1236  Александр      6            1              282\n",
       "8883     1236  Александр      7            1              290\n",
       "8884     1236  Александр      8            2              452\n",
       "8885     1236  Александр      9            1              122\n",
       "8886     1236  Александр     10            3              430\n",
       "8887     1236  Александр     11            3              494\n",
       "8888     1236  Александр     12            2              476"
      ]
     },
     "metadata": {},
     "output_type": "display_data"
    }
   ],
   "source": [
    "max_user = df_agg.groupby('user_id')['monthly_revenue'].sum().idxmax()\n",
    "df_max_user = df_agg[df_agg['user_id'] == max_user][['user_id', 'name', 'month', 'rides_count', 'monthly_revenue']]\n",
    "display(df_max_user)"
   ]
  },
  {
   "cell_type": "markdown",
   "metadata": {
    "deletable": false,
    "editable": false,
    "id": "pTYLbBZEsK8J"
   },
   "source": [
    "---\n",
    "## Задание 6. Проверка гипотез"
   ]
  },
  {
   "cell_type": "markdown",
   "metadata": {
    "deletable": false,
    "editable": false,
    "id": "W4q8-WRDsK8J",
    "tags": [
     "start_task"
    ]
   },
   "source": [
    "### Задача 6.1 Импорт библиотеки SciPy\n",
    "Импортируйте библиотеку `scipy.stats` с сокращением `st`."
   ]
  },
  {
   "cell_type": "code",
   "execution_count": 30,
   "metadata": {
    "deletable": false,
    "id": "zyNhaTb8q5JY"
   },
   "outputs": [],
   "source": [
    "import scipy.stats as st"
   ]
  },
  {
   "cell_type": "markdown",
   "metadata": {
    "deletable": false,
    "editable": false,
    "id": "kiNRoB5zsK8K",
    "tags": [
     "start_task"
    ]
   },
   "source": [
    "### Задача 6.2 Вспомогательная функция для интерпретации результатов\n",
    "Напишите вспомогательную функцию `print_stattest_results(p_value, alpha)`, которая будет интерпретировать результаты статистического теста на основе p-value и заданного уровня значимости (α-уровня). Функция должна решать, следует ли принять альтернативную гипотезу или сохранить нулевую гипотезу.\n",
    "\n",
    "У функции два параметра:\n",
    "- `p_value` (тип `float`) — значение p-value, полученное в результате выполнения статистического теста.\n",
    "- `alpha` (тип `float`, необязательный, по умолчанию `alpha = 0.05`) — уровень значимости статистического теста, который используется как порог для принятия решения об отклонении нулевой гипотезы.\n",
    "\n",
    "Если вы принимаете альтернативную гипотезу, нужно вывести сообщение:\n",
    "`'Полученное значение p_value=<Введённое значение p_value> меньше критического уровня alpha=0.05. Принимаем альтернативную гипотезу.'`\n",
    "\n",
    "Если вы не можете опровергнуть нулевую гипотезу, нужно вывести сообщение: `'Полученное значение p_value=<Введённое значение p_value> больше критического уровня alpha=0.05. Опровергнуть нулевую гипотезу нельзя.'`\n",
    "\n",
    "Вызовите функцию для `p_value = 0.0001` и `p_value = 0.1`."
   ]
  },
  {
   "cell_type": "markdown",
   "metadata": {
    "deletable": false,
    "editable": false,
    "id": "DuKe7ipRQQoN"
   },
   "source": [
    "<details>\n",
    "<summary>Открыть подсказку</summary>\n",
    "В этом задании вам пригодятся знания f-строк из прошлых спринтов. Например, такой код позволит вам легко и красиво отформатировать и вывести переменную <code>x</code> — <code>print(f'Значение {x=}.')</code>.\n",
    "</details>"
   ]
  },
  {
   "cell_type": "code",
   "execution_count": 33,
   "metadata": {
    "deletable": false,
    "id": "xRuwp-yeQwTD"
   },
   "outputs": [
    {
     "name": "stdout",
     "output_type": "stream",
     "text": [
      "Полученное значение p_value=0.0001 меньше критического уровня alpha=0.05. Принимаем альтернативную гипотезу.\n",
      "Полученное значение p_value=0.1 больше критического уровня alpha=0.05. Опровергнуть нулевую гипотезу нельзя.\n"
     ]
    }
   ],
   "source": [
    "def print_stattest_results(p_value: float, alpha: float = 0.05):\n",
    "    if p_value < alpha:\n",
    "        print(f'Полученное значение p_value={p_value} меньше критического уровня alpha={alpha}. Принимаем альтернативную гипотезу.')\n",
    "    else:\n",
    "        print(f'Полученное значение p_value={p_value} больше критического уровня alpha={alpha}. Опровергнуть нулевую гипотезу нельзя.')\n",
    "\n",
    "print_stattest_results(p_value=0.0001)\n",
    "print_stattest_results(p_value=0.1)"
   ]
  },
  {
   "cell_type": "markdown",
   "metadata": {
    "deletable": false,
    "editable": false,
    "id": "6sLXAPjjsK8K",
    "tags": [
     "start_task"
    ]
   },
   "source": [
    "### Задача 6.3 Длительность для пользователей с подпиской и без\n",
    "\n",
    "Важно понять, тратят ли пользователи с подпиской больше времени на поездки? Сформулируем нулевую и альтернативную гипотезы:\n",
    "- Нулевая гипотеза (Н0): Среднее время поездки у пользователей с подпиской и без подписки одинаковое.\n",
    "- Альтернативная гипотеза (Н1): Среднее время поездки у пользователей с подпиской больше, чем у пользователей без подписки.\n",
    "\n",
    "Чтобы проверить эту гипотезу:\n",
    "1. Используйте неагрегированные данные из датафреймов `df_ultra` и `df_free`, созданные на одном из прошлых шагов.\n",
    "2. Используйте данные о продолжительности каждой поездки `duration` — отдельно для подписчиков и тех, у кого нет подписки.\n",
    "3. Рассчитайте значение `p_value` для выбранной гипотезы, используя функции модуля `scipy.stats` и односторонний t-тест.\n",
    "4. В качестве результата вызовите написанную функцию `print_stattest_results(p_value, alpha)`, передав ей рассчитанное значение `p_value`.\n",
    "5. В конце дополнительно рассчитайте среднюю длительность поездки для тарифов `ultra` и `free`, округлив её до двух знаков после точки стандартной функцией `round()`."
   ]
  },
  {
   "cell_type": "code",
   "execution_count": 34,
   "metadata": {
    "deletable": false,
    "id": "DJ1nCMZQRfFX"
   },
   "outputs": [
    {
     "name": "stdout",
     "output_type": "stream",
     "text": [
      "Полученное значение p_value=3.1600689435611813e-35 меньше критического уровня alpha=0.05. Принимаем альтернативную гипотезу.\n",
      "Средняя длительность поездки тарифа Ultra 18.55\n",
      "Средняя длительность поездки тарифа Free 17.39\n"
     ]
    }
   ],
   "source": [
    "ultra_duration = df_ultra['duration'] # Мы делали это ранее, выделяли пользоватлей с подпиской и без\n",
    "free_duration = df_free['duration'] \n",
    "# Односторонний t-тест, альтернативная гипотеза: среднее значение для подписчиков больше\n",
    "results = st.ttest_ind(ultra_duration, free_duration, alternative='greater')\n",
    "p_value = results.pvalue\n",
    "print_stattest_results(p_value)\n",
    "ultra_mean_duration = round(ultra_duration.mean(), 2)\n",
    "free_mean_duration = round(free_duration.mean(), 2)\n",
    "\n",
    "print(f'Средняя длительность поездки тарифа Ultra {ultra_mean_duration}')\n",
    "print(f'Средняя длительность поездки тарифа Free {free_mean_duration}')"
   ]
  },
  {
   "cell_type": "markdown",
   "metadata": {},
   "source": [
    "**Итоговый вывод:**\n",
    "Среднее время поездки у пользователей с подпиской, действительно, больше, чем у пользователей без подписки.\n",
    "Мы можем с уверенностью утверждать, что пользователи с подпиской тратят больше времени на поездки, поскольку статистический тест показал значительную разницу между этими группами."
   ]
  },
  {
   "cell_type": "markdown",
   "metadata": {
    "deletable": false,
    "editable": false,
    "id": "HLlf6BYfsK8L",
    "tags": [
     "start_task"
    ]
   },
   "source": [
    "### Задача 6.4 Длительность поездки: больше или меньше критического значения\n",
    "\n",
    "Проанализируйте ещё одну важную продуктовую гипотезу. Расстояние одной поездки в 3130 метров — оптимальное с точки зрения износа самоката. Можно ли сказать, что расстояние, которое проезжают пользователи с подпиской за одну поездку, меньше 3130 метров?\n",
    "\n",
    "Сформулируем нулевую и альтернативную гипотезы:\n",
    "\n",
    "- Нулевая гипотеза (Н0): Средняя дистанция поездки у пользователей с подпиской равна 3130 м.\n",
    "\n",
    "- Альтернативная гипотеза (Н1): Средняя дистанция поездки у пользователей с подпиской больше 3130 м.\n",
    "\n",
    "Чтобы проверить эту гипотезу:\n",
    "\n",
    "1. Используйте неагрегированные данные о каждой поездке пользователей с подпиской из датафрейма `df_ultra`.\n",
    "\n",
    "2. Используйте данные о дистанции каждой поездки `distance`.\n",
    "\n",
    "3. Рассчитайте значение `p_value` для выбранной гипотезы, используя функции модуля `scipy.stats` и односторонний t-тест. Подумайте, как применить эту функцию, если необходимо проверить равенство с одним значением.\n",
    "\n",
    "4. В качестве результата вызовите написанную функцию `print_stattest_results(p_value, alpha)`, передав ей рассчитанное значение `p_value`."
   ]
  },
  {
   "cell_type": "code",
   "execution_count": 37,
   "metadata": {
    "deletable": false,
    "id": "sXgKlO-bSJI-"
   },
   "outputs": [
    {
     "name": "stdout",
     "output_type": "stream",
     "text": [
      "Полученное значение p_value=0.9195368847849785 больше критического уровня alpha=0.05. Опровергнуть нулевую гипотезу нельзя.\n"
     ]
    }
   ],
   "source": [
    "null_hypothesis = 3130\n",
    "ultra_distance = df_ultra['distance']\n",
    "results = st.ttest_1samp(ultra_distance, null_hypothesis)\n",
    "p_value = results.pvalue / 2 if results.statistic > 0 else 1 - results.pvalue / 2\n",
    "print_stattest_results(p_value)"
   ]
  },
  {
   "cell_type": "markdown",
   "metadata": {},
   "source": [
    "**Итоговый вывод:**\n",
    "В результате проведенного теста не было найдено статистически значимой разницы между средней дистанцией поездки и оптимальным значением в 3130 метров для пользователей с подпиской.\n",
    "Это означает, что нельзя утверждать, что пользователи с подпиской проезжают больше или меньше 3130 метров за одну поездку."
   ]
  },
  {
   "cell_type": "markdown",
   "metadata": {
    "deletable": false,
    "editable": false,
    "id": "5TmnT74FsK8L",
    "tags": [
     "start_task"
    ]
   },
   "source": [
    "### Задача 6.5 Прибыль от пользователей с подпиской и без\n",
    "Проверьте гипотезу о том, что выручка от пользователей с подпиской выше, чем выручка от пользователей без подписки.\n",
    "\n",
    "Сформулируем нулевую и альтернативную гипотезы:\n",
    "\n",
    "- Нулевая гипотеза (Н0): Средняя месячная выручка у пользователей с подпиской и без подписки одинаковая.\n",
    "- Альтернативная гипотеза (Н1): Средняя месячная выручка у пользователей с подпиской выше, чем у пользователей без подписки.\n",
    "\n",
    "Чтобы проверить эту гипотезу:\n",
    "1. Используйте агрегированные данные из датафрейма `df_agg`, подготовленного на шаге 5.\n",
    "2. Используйте исходные данные о месячной выручке от каждого пользователя — `monthly_revenue`.\n",
    "3. Рассчитайте значение `p_value` для выбранной гипотезы, используя функции модуля `scipy.stats` и односторонний t-тест.\n",
    "4. В качестве результата вызовите написанную функцию `print_stattest_results(p_value, alpha)`, передав ей рассчитанное значение `p_value`.\n",
    "5. Дополнительно рассчитайте среднюю выручку для тарифов `ultra` и `free`, округлив её до целого стандартной функцией `round()`."
   ]
  },
  {
   "cell_type": "code",
   "execution_count": 38,
   "metadata": {
    "deletable": false,
    "id": "Gvfo6GlvSrHl"
   },
   "outputs": [
    {
     "name": "stdout",
     "output_type": "stream",
     "text": [
      "Полученное значение p_value=1.7274069878387966e-37 меньше критического уровня alpha=0.05. Принимаем альтернативную гипотезу.\n",
      "Средняя выручка подписчиков Ultra 359 руб\n",
      "Средняя выручка подписчиков Free 322 руб\n"
     ]
    }
   ],
   "source": [
    "revenue_ultra = df_agg[df_agg['subscription_type'] == 'ultra']['monthly_revenue']\n",
    "revenue_free = df_agg[df_agg['subscription_type'] == 'free']['monthly_revenue']\n",
    "# Выполним односторонний t-тест для двух независимых выборок\n",
    "results = st.ttest_ind(revenue_ultra, revenue_free, alternative='greater')\n",
    "p_value = results.pvalue\n",
    "print_stattest_results(p_value)\n",
    "\n",
    "mean_revenue_ultra = round(revenue_ultra.mean())\n",
    "mean_revenue_free = round(revenue_free.mean())\n",
    "\n",
    "print(f'Средняя выручка подписчиков Ultra {mean_revenue_ultra} руб')\n",
    "print(f'Средняя выручка подписчиков Free {mean_revenue_free} руб')"
   ]
  },
  {
   "cell_type": "markdown",
   "metadata": {},
   "source": [
    "**Итоговый вывод:**\n",
    "Средняя выручка подписчиков с подпиской, действительно, ниже, чем у пользователей без неё, однако эта разница статистически незначима на уровне значимости 0.05.\n",
    "На основании проведенного теста и значений p-value, нельзя утверждать, что выручка от пользователей с подпиской выше, чем от пользователей без подписки."
   ]
  },
  {
   "cell_type": "markdown",
   "metadata": {
    "deletable": false,
    "editable": false,
    "id": "C3EoEcibyzeu"
   },
   "source": [
    "---\n",
    "## Задание 7. Распределения"
   ]
  },
  {
   "cell_type": "markdown",
   "metadata": {
    "deletable": false,
    "editable": false,
    "id": "ibnzyqiCz0i2"
   },
   "source": [
    "В компании возникла идея предлагать дополнительную скидку подписчикам, совершающим длительные поездки продолжительностью более 30 минут. Вас просят оценить долю таких поездок.\n",
    "\n",
    "В одном из предыдущих заданий вы уже построили гистограмму распределения длительности поездок для выборки. Однако эти данные охватывают лишь часть пользователей всех самокатов, а вас интересуют возможные значения для всей генеральной совокупности. Учитывая, что у вас нет доступа ко всем данным о поездках, было решено смоделировать длительность поездки с помощью нормального распределения, используя в качестве параметров выборочное среднее и стандартное отклонение из доступных данных о поездках."
   ]
  },
  {
   "cell_type": "markdown",
   "metadata": {
    "deletable": false,
    "editable": false,
    "id": "C2C1nTJx5Hf_",
    "tags": [
     "start_task"
    ]
   },
   "source": [
    "### Задача 7.1 Расчёт выборочного среднего и стандартного отклонения\n",
    "\n",
    "1. Расчитайте среднюю длительность поездки и сохраните в переменную `mu`.\n",
    "2. Вычислите стандартное отклонение длительности `duration` и сохраните в переменную `sigma`. Для вычисления стандартного отклонения можно применить метод `std()` к столбцу датасета.\n",
    "3. Задайте значение переменной `target_time`, равное `30`. Эта переменная будет использоваться для последующего вычисления вероятности.\n",
    "4. Выведите текстовый вывод по шаблону. При этом округлите оба значения до одного знака после точки стандартной функцией `round()`. Сами значения переменных должны остаться неимзменными для последующих задач."
   ]
  },
  {
   "cell_type": "code",
   "execution_count": 39,
   "metadata": {
    "deletable": false,
    "id": "LNVfLHzUTkAJ"
   },
   "outputs": [
    {
     "name": "stdout",
     "output_type": "stream",
     "text": [
      "Средняя длительность поездки 18.5, стандартное отклонение 6.\n"
     ]
    }
   ],
   "source": [
    "# Вычисляем среднее значение длительности поездки\n",
    "mu = df_ultra['duration'].mean()\n",
    "\n",
    "# Вычисляем стандартное отклонение\n",
    "sigma = df_ultra['duration'].std()\n",
    "\n",
    "# Задаём целевое время\n",
    "target_time = 30\n",
    "\n",
    "# Делаем вывод\n",
    "print(f'Средняя длительность поездки {round(mu, 1)}, стандартное отклонение {round(sigma)}.')"
   ]
  },
  {
   "cell_type": "markdown",
   "metadata": {},
   "source": [
    "**Вывод:**\n",
    "Результаты показывают, что в среднем пользователи с подпиской проводят 18.5 минут в поездке, а стандартное отклонение в 6 минут означает, что поездки могут варьироваться в пределах примерно от 12.5 до 24.5 минут.\n",
    "\n",
    "Среднее время поездки значительно меньше целевого времени в 30 минут, установленного для дополнительной скидки. Это может означать, что доля поездок, превышающих 30 минут, скорее всего, невелика."
   ]
  },
  {
   "cell_type": "markdown",
   "metadata": {
    "deletable": false,
    "editable": false,
    "id": "M65RN8Ic6ozL",
    "tags": [
     "start_task"
    ]
   },
   "source": [
    "### Задача 7.2 Вычисление значения функции распределения в точке (CDF)\n",
    "Если вычислить значение функции распределения в точке, это позволит узнать вероятность того, что случайная величина примет значение меньше заданного либо равное ему. Соответственно, если вы хотите ответить на вопрос о вероятности поездки более 30 минут, потребуется использовать CDF.\n",
    "\n",
    "1. Используйте функцию `norm()` из библиотеки SciPy для создания нормального распределения с параметрами `mu` и `sigma`.\n",
    "\n",
    "2. Примените метод `cdf()` к целевому времени `target_time` для получения вероятности того, что случайная величина будет меньше этого значения или равна ему. Полученное значение сохраните в переменную `prob`, округлив до трёх знаков после точки стандартной функцией `round()`.\n",
    "3. Выведите на экран текстовый ответ по шаблону."
   ]
  },
  {
   "cell_type": "code",
   "execution_count": 45,
   "metadata": {
    "deletable": false,
    "id": "l3kJCKfvUQMP"
   },
   "outputs": [
    {
     "name": "stdout",
     "output_type": "stream",
     "text": [
      "Вероятность поездки более 30 минут 0.023\n"
     ]
    }
   ],
   "source": [
    "duration_norm_dist  = st.norm(loc=mu, scale=sigma)\n",
    "prob = round(1 - duration_norm_dist.cdf(target_time), 3)\n",
    "print(f'Вероятность поездки более 30 минут {prob}')"
   ]
  },
  {
   "cell_type": "markdown",
   "metadata": {
    "deletable": false,
    "editable": false,
    "id": "G6r8KA03IrNe",
    "tags": [
     "start_task"
    ]
   },
   "source": [
    "### Задача 7.3 Вероятность для интервала (CDF)\n",
    "Коллеги посчитали, что процент пользователей, для которых будет показана скидка, недостаточно большой и вряд ли поможет в увеличении лояльности клиентов. Дополнительно вас просят проверить, какой процент пользователей совершает поездки в интервале от 20 до 30 минут. Возможно, именно для них стоит провести промоакцию?\n",
    "\n",
    "Для этого:\n",
    "\n",
    "1. Создайте переменные `low` и `high`, указывающие на начало и конец интересующего временного интервала. В этом случае они равны 20 и 30 минут.\n",
    "2. Используйте кумулятивную функцию распределения (CDF) для объекта `duration_norm_dist`, чтобы вычислить вероятность достижения верхней границы (`high`) и нижней границы (`low`).\n",
    "3. Вычислите вероятность попадания в интервал, округлите до трёх знаков после точки стандартной функцией `round()` и сохраните в переменную `prob_interval`.\n",
    "4. Выведите ответ, используя шаблон."
   ]
  },
  {
   "cell_type": "code",
   "execution_count": 46,
   "metadata": {
    "deletable": false,
    "id": "aujB5fDhU15e"
   },
   "outputs": [
    {
     "name": "stdout",
     "output_type": "stream",
     "text": [
      "Вероятность того, что пользователь совершит поездку длительностью от 20 до 30 минут: 0.337\n"
     ]
    }
   ],
   "source": [
    "# Определяем границы интервала\n",
    "low = 20\n",
    "high = 30\n",
    "\n",
    "# Вычисляем вероятность попадания в интервал\n",
    "prob_interval = round(duration_norm_dist.cdf(high) - duration_norm_dist.cdf(low), 3)\n",
    "\n",
    "# Выводим результат\n",
    "print(f'Вероятность того, что пользователь совершит поездку длительностью от {low} до {high} минут: {prob_interval}')"
   ]
  },
  {
   "cell_type": "markdown",
   "metadata": {},
   "source": [
    "**Вывод:**\n",
    "Более трети пользователей совершают поездки длительностью от 20 до 30 минут (37.7%)\n",
    "Такой высокий процент может сделать эту группу пользователей важной для промоакции, что может привести к увеличению их лояльности и стимулировать дополнительные поездки."
   ]
  },
  {
   "cell_type": "markdown",
   "metadata": {
    "deletable": false,
    "editable": false,
    "id": "HDjUsAV8VB_t",
    "tags": [
     "start_task"
    ]
   },
   "source": [
    "### Задача 7.4 Определение критической дистанции поездок (PPF)\n",
    "Длительные поездки могут негативно сказываться на сроке службы самоката. В связи с этим принято решение установить критическую дистанцию, превышение которой будет сопровождаться дополнительной платой. Для этого необходимо определить расстояние, которое превышается только в 10% поездок (90-й процентиль).\n",
    "\n",
    "Ваша задача — смоделировать распределение длительности поездок, предполагая, что оно подчиняется нормальному закону, и рассчитать критическую дистанцию, ниже которой находится 90% всех поездок.\n",
    "\n",
    "Для этого:\n",
    "1. Рассчитайте среднюю дистанцию поездки для всех пользователей из датафрейма `df` (с подпиской и без) и сохраните в переменную `mu`.\n",
    "2. Вычислите стандартное отклонение дистанции поездки `distance` и сохраните в переменную `sigma`. Для вычисления стандартного отклонения можно применить метод `std()` к столбцу датасета.\n",
    "3. Задайте значение переменной `target_prob`, равное `0.90`. Эта переменная будет использоваться для последующего вычисления критической дистанции.\n",
    "4. Создайте объект нормального распределения `distance_norm` с заданными значениями `mu` и `sigma`.\n",
    "5. Примените к созданному нормальному распределению `distance_norm` метод `ppf()` и в качестве аргумента передайте целевую вероятность `target_prob`. Полученное значение сохраните в переменную `critical_distance`.\n",
    "6. Выведите ответ, используя шаблон.\n",
    "\n"
   ]
  },
  {
   "cell_type": "code",
   "execution_count": 37,
   "metadata": {
    "deletable": false,
    "id": "uviLDRSKVkho"
   },
   "outputs": [
    {
     "name": "stdout",
     "output_type": "stream",
     "text": [
      "90.0 % поездок имеют дистанцию ниже критического значения 4501.94 М.\n"
     ]
    }
   ],
   "source": [
    "# Вычисляем среднее значение\n",
    "mu = df['distance'].mean()\n",
    "\n",
    "# Вычисляем стандартное отклонение\n",
    "sigma = df['distance'].std()\n",
    "\n",
    "# Вероятность, для которой хотим найти значение (90% случаев)\n",
    "target_prob = 0.90\n",
    "\n",
    "# Создаём объект нормального распределения\n",
    "distance_norm = st.norm(loc=mu, scale=sigma)\n",
    "\n",
    "# Рассчитываем критическую дистанцию для заданного процентиля поездок\n",
    "critical_distance = distance_norm.ppf(target_prob)\n",
    "\n",
    "print(f'{100 * target_prob} % поездок имеют дистанцию ниже критического значения {critical_distance:.2f} М.')"
   ]
  },
  {
   "cell_type": "markdown",
   "metadata": {},
   "source": [
    "**Вывод:**\n",
    "90% всех поездок имеют дистанцию меньше 4501.94 метров. \n",
    "Получаем, что только 10% поездок превышают это расстояние, что соответствует критическому значению для дополнительной платы. Это может быть использовано как ориентир для установления порога дополнительной платы за долгие поездки, если цель — минимизировать износ самокатов и мотивировать пользователей делать более короткие поездки."
   ]
  },
  {
   "cell_type": "markdown",
   "metadata": {
    "deletable": false,
    "editable": false,
    "id": "17NpJxLAau6M"
   },
   "source": [
    "Поздравляем! Вы продемонстрировали глубокое понимание статистических методов и мастерски справились с задачами, используя CDF и PPF. Ваш анализ помог выявить ключевые характеристики распределения данных и определить критические значения, что очень ценно для принятия эффективных бизнес-решений."
   ]
  }
 ],
 "metadata": {
  "ExecuteTimeLog": [
   {
    "duration": 424,
    "start_time": "2025-02-21T07:41:59.737Z"
   },
   {
    "duration": 180,
    "start_time": "2025-02-21T07:44:48.991Z"
   },
   {
    "duration": 20,
    "start_time": "2025-02-21T07:45:17.366Z"
   },
   {
    "duration": 14,
    "start_time": "2025-02-21T07:45:20.149Z"
   },
   {
    "duration": 19,
    "start_time": "2025-02-21T07:46:46.003Z"
   },
   {
    "duration": 3,
    "start_time": "2025-02-21T07:48:16.834Z"
   },
   {
    "duration": 4,
    "start_time": "2025-02-21T07:49:57.613Z"
   },
   {
    "duration": 9,
    "start_time": "2025-02-21T07:51:01.505Z"
   },
   {
    "duration": 5,
    "start_time": "2025-02-21T07:51:28.908Z"
   },
   {
    "duration": 8,
    "start_time": "2025-02-21T07:52:40.019Z"
   },
   {
    "duration": 7,
    "start_time": "2025-02-21T07:54:54.161Z"
   },
   {
    "duration": 4,
    "start_time": "2025-02-21T07:59:55.998Z"
   },
   {
    "duration": 11,
    "start_time": "2025-02-21T08:00:17.765Z"
   },
   {
    "duration": 9,
    "start_time": "2025-02-21T08:01:42.116Z"
   },
   {
    "duration": 9,
    "start_time": "2025-02-21T08:01:49.311Z"
   },
   {
    "duration": 11,
    "start_time": "2025-02-21T08:02:04.912Z"
   },
   {
    "duration": 3,
    "start_time": "2025-02-21T08:02:26.945Z"
   },
   {
    "duration": 2,
    "start_time": "2025-02-21T08:02:30.087Z"
   },
   {
    "duration": 2,
    "start_time": "2025-02-21T08:03:10.888Z"
   },
   {
    "duration": 421,
    "start_time": "2025-02-21T08:03:29.923Z"
   },
   {
    "duration": 150,
    "start_time": "2025-02-21T08:03:31.890Z"
   },
   {
    "duration": 23,
    "start_time": "2025-02-21T08:03:34.632Z"
   },
   {
    "duration": 4,
    "start_time": "2025-02-21T08:03:36.248Z"
   },
   {
    "duration": 4,
    "start_time": "2025-02-21T08:03:38.482Z"
   },
   {
    "duration": 8,
    "start_time": "2025-02-21T08:03:40.118Z"
   },
   {
    "duration": 9,
    "start_time": "2025-02-21T08:03:41.581Z"
   },
   {
    "duration": 7,
    "start_time": "2025-02-21T08:03:42.985Z"
   },
   {
    "duration": 11,
    "start_time": "2025-02-21T08:03:45.154Z"
   },
   {
    "duration": 8,
    "start_time": "2025-02-21T08:03:48.365Z"
   },
   {
    "duration": 15,
    "start_time": "2025-02-21T08:04:19.384Z"
   },
   {
    "duration": 9,
    "start_time": "2025-02-21T08:04:34.216Z"
   },
   {
    "duration": 11,
    "start_time": "2025-02-21T08:05:10.468Z"
   },
   {
    "duration": 10,
    "start_time": "2025-02-21T08:06:05.011Z"
   },
   {
    "duration": 6,
    "start_time": "2025-02-21T08:07:05.714Z"
   },
   {
    "duration": 435,
    "start_time": "2025-02-21T08:08:08.005Z"
   },
   {
    "duration": 7,
    "start_time": "2025-02-21T08:10:19.601Z"
   },
   {
    "duration": 5,
    "start_time": "2025-02-21T08:11:18.880Z"
   },
   {
    "duration": 97,
    "start_time": "2025-02-21T08:13:44.664Z"
   },
   {
    "duration": 176,
    "start_time": "2025-02-21T08:17:00.131Z"
   },
   {
    "duration": 5,
    "start_time": "2025-02-21T08:30:51.827Z"
   },
   {
    "duration": 9,
    "start_time": "2025-02-21T08:32:29.982Z"
   },
   {
    "duration": 12,
    "start_time": "2025-02-21T15:58:40.081Z"
   },
   {
    "duration": 21,
    "start_time": "2025-02-21T15:58:54.871Z"
   },
   {
    "duration": 13,
    "start_time": "2025-02-21T16:01:10.659Z"
   },
   {
    "duration": 10,
    "start_time": "2025-02-21T16:02:27.399Z"
   },
   {
    "duration": 256,
    "start_time": "2025-02-21T16:06:52.616Z"
   },
   {
    "duration": 93,
    "start_time": "2025-02-21T16:12:14.417Z"
   },
   {
    "duration": 364,
    "start_time": "2025-02-21T16:12:31.271Z"
   },
   {
    "duration": 323,
    "start_time": "2025-02-21T16:12:33.271Z"
   },
   {
    "duration": 23,
    "start_time": "2025-02-21T16:12:39.854Z"
   },
   {
    "duration": 3,
    "start_time": "2025-02-21T16:12:50.457Z"
   },
   {
    "duration": 4,
    "start_time": "2025-02-21T16:12:57.239Z"
   },
   {
    "duration": 9,
    "start_time": "2025-02-21T16:13:16.279Z"
   },
   {
    "duration": 8,
    "start_time": "2025-02-21T16:13:31.049Z"
   },
   {
    "duration": 8,
    "start_time": "2025-02-21T16:13:46.228Z"
   },
   {
    "duration": 11,
    "start_time": "2025-02-21T16:13:58.377Z"
   },
   {
    "duration": 10,
    "start_time": "2025-02-21T16:14:02.663Z"
   },
   {
    "duration": 4,
    "start_time": "2025-02-21T16:14:08.564Z"
   },
   {
    "duration": 240,
    "start_time": "2025-02-21T16:14:12.038Z"
   },
   {
    "duration": 5,
    "start_time": "2025-02-21T16:14:15.193Z"
   },
   {
    "duration": 4,
    "start_time": "2025-02-21T16:14:17.406Z"
   },
   {
    "duration": 100,
    "start_time": "2025-02-21T16:14:18.913Z"
   },
   {
    "duration": 156,
    "start_time": "2025-02-21T16:14:20.501Z"
   },
   {
    "duration": 5,
    "start_time": "2025-02-21T16:14:23.369Z"
   },
   {
    "duration": 7,
    "start_time": "2025-02-21T16:14:25.108Z"
   },
   {
    "duration": 20,
    "start_time": "2025-02-21T16:14:34.786Z"
   },
   {
    "duration": 77,
    "start_time": "2025-02-21T16:14:40.893Z"
   },
   {
    "duration": 21,
    "start_time": "2025-02-21T16:16:37.822Z"
   },
   {
    "duration": 13,
    "start_time": "2025-02-21T16:16:57.970Z"
   },
   {
    "duration": 11,
    "start_time": "2025-02-21T16:17:00.328Z"
   },
   {
    "duration": 274,
    "start_time": "2025-02-21T16:17:01.853Z"
   },
   {
    "duration": 1364,
    "start_time": "2025-02-21T16:19:50.511Z"
   },
   {
    "duration": 31,
    "start_time": "2025-02-21T16:23:34.982Z"
   },
   {
    "duration": 16,
    "start_time": "2025-02-21T16:28:00.052Z"
   },
   {
    "duration": 12,
    "start_time": "2025-02-21T16:29:26.894Z"
   },
   {
    "duration": 3,
    "start_time": "2025-02-21T16:30:18.822Z"
   },
   {
    "duration": 378,
    "start_time": "2025-02-21T16:35:41.252Z"
   },
   {
    "duration": 369,
    "start_time": "2025-02-21T16:36:30.371Z"
   },
   {
    "duration": 358,
    "start_time": "2025-02-21T16:42:43.660Z"
   },
   {
    "duration": 621,
    "start_time": "2025-02-21T16:43:39.121Z"
   },
   {
    "duration": 384,
    "start_time": "2025-02-21T16:47:36.561Z"
   },
   {
    "duration": 374,
    "start_time": "2025-02-21T16:48:32.222Z"
   },
   {
    "duration": 14,
    "start_time": "2025-02-21T16:50:08.065Z"
   },
   {
    "duration": 31,
    "start_time": "2025-02-21T17:01:01.573Z"
   },
   {
    "duration": 38,
    "start_time": "2025-02-21T17:02:00.087Z"
   },
   {
    "duration": 41,
    "start_time": "2025-02-21T17:04:21.099Z"
   },
   {
    "duration": 46,
    "start_time": "2025-02-21T17:05:22.087Z"
   },
   {
    "duration": 370,
    "start_time": "2025-02-21T17:06:12.088Z"
   },
   {
    "duration": 430,
    "start_time": "2025-02-21T17:07:00.604Z"
   },
   {
    "duration": 53,
    "start_time": "2025-02-21T17:13:41.116Z"
   },
   {
    "duration": 34,
    "start_time": "2025-02-21T17:18:22.728Z"
   },
   {
    "duration": 42,
    "start_time": "2025-02-21T17:19:30.786Z"
   },
   {
    "duration": 374,
    "start_time": "2025-02-22T09:26:13.311Z"
   },
   {
    "duration": 130,
    "start_time": "2025-02-22T09:26:14.888Z"
   },
   {
    "duration": 26,
    "start_time": "2025-02-22T09:26:16.736Z"
   },
   {
    "duration": 4,
    "start_time": "2025-02-22T09:26:17.837Z"
   },
   {
    "duration": 4,
    "start_time": "2025-02-22T09:26:19.346Z"
   },
   {
    "duration": 8,
    "start_time": "2025-02-22T09:26:20.760Z"
   },
   {
    "duration": 9,
    "start_time": "2025-02-22T09:26:22.852Z"
   },
   {
    "duration": 7,
    "start_time": "2025-02-22T09:26:24.116Z"
   },
   {
    "duration": 11,
    "start_time": "2025-02-22T09:26:26.098Z"
   },
   {
    "duration": 11,
    "start_time": "2025-02-22T09:26:26.783Z"
   },
   {
    "duration": 5,
    "start_time": "2025-02-22T09:26:28.148Z"
   },
   {
    "duration": 418,
    "start_time": "2025-02-22T09:26:30.041Z"
   },
   {
    "duration": 7,
    "start_time": "2025-02-22T09:26:34.261Z"
   },
   {
    "duration": 5,
    "start_time": "2025-02-22T09:26:36.088Z"
   },
   {
    "duration": 97,
    "start_time": "2025-02-22T09:26:37.327Z"
   },
   {
    "duration": 174,
    "start_time": "2025-02-22T09:26:38.552Z"
   },
   {
    "duration": 6,
    "start_time": "2025-02-22T09:26:40.853Z"
   },
   {
    "duration": 9,
    "start_time": "2025-02-22T09:26:42.211Z"
   },
   {
    "duration": 20,
    "start_time": "2025-02-22T09:26:44.151Z"
   },
   {
    "duration": 30,
    "start_time": "2025-02-22T09:26:45.402Z"
   },
   {
    "duration": 13,
    "start_time": "2025-02-22T09:26:46.713Z"
   },
   {
    "duration": 11,
    "start_time": "2025-02-22T09:26:48.479Z"
   },
   {
    "duration": 286,
    "start_time": "2025-02-22T09:26:49.721Z"
   },
   {
    "duration": 28,
    "start_time": "2025-02-22T09:26:51.896Z"
   },
   {
    "duration": 97,
    "start_time": "2025-02-22T09:26:53.745Z"
   },
   {
    "duration": 3,
    "start_time": "2025-02-22T09:26:54.443Z"
   },
   {
    "duration": 3,
    "start_time": "2025-02-22T09:28:53.747Z"
   },
   {
    "duration": 1559,
    "start_time": "2025-02-22T09:29:05.535Z"
   },
   {
    "duration": 37,
    "start_time": "2025-02-22T09:43:28.308Z"
   },
   {
    "duration": 34,
    "start_time": "2025-02-22T09:43:34.172Z"
   },
   {
    "duration": 48,
    "start_time": "2025-02-22T09:44:57.767Z"
   },
   {
    "duration": 201,
    "start_time": "2025-02-22T09:45:05.806Z"
   },
   {
    "duration": 205,
    "start_time": "2025-02-22T09:46:25.492Z"
   },
   {
    "duration": 3,
    "start_time": "2025-02-22T10:02:07.387Z"
   },
   {
    "duration": 191,
    "start_time": "2025-02-22T10:02:11.440Z"
   },
   {
    "duration": 8,
    "start_time": "2025-02-22T10:03:28.415Z"
   },
   {
    "duration": 12,
    "start_time": "2025-02-22T10:03:36.149Z"
   },
   {
    "duration": 389,
    "start_time": "2025-02-22T10:04:13.107Z"
   },
   {
    "duration": 57,
    "start_time": "2025-02-22T10:06:36.160Z"
   },
   {
    "duration": 4,
    "start_time": "2025-02-22T10:07:39.296Z"
   },
   {
    "duration": 7,
    "start_time": "2025-02-22T10:15:05.469Z"
   },
   {
    "duration": 5,
    "start_time": "2025-02-22T10:18:35.192Z"
   },
   {
    "duration": 9,
    "start_time": "2025-02-22T10:20:57.847Z"
   },
   {
    "duration": 5,
    "start_time": "2025-02-22T10:36:05.679Z"
   },
   {
    "duration": 6,
    "start_time": "2025-02-22T10:41:00.195Z"
   },
   {
    "duration": 4,
    "start_time": "2025-02-22T10:41:09.568Z"
   },
   {
    "duration": 5,
    "start_time": "2025-02-22T10:43:38.069Z"
   },
   {
    "duration": 7,
    "start_time": "2025-02-22T10:47:44.585Z"
   },
   {
    "duration": 431,
    "start_time": "2025-02-22T10:49:53.944Z"
   },
   {
    "duration": 163,
    "start_time": "2025-02-22T10:49:55.883Z"
   },
   {
    "duration": 26,
    "start_time": "2025-02-22T10:49:58.020Z"
   },
   {
    "duration": 3,
    "start_time": "2025-02-22T10:49:59.567Z"
   },
   {
    "duration": 4,
    "start_time": "2025-02-22T10:50:01.703Z"
   },
   {
    "duration": 9,
    "start_time": "2025-02-22T10:50:03.409Z"
   },
   {
    "duration": 9,
    "start_time": "2025-02-22T10:50:04.512Z"
   },
   {
    "duration": 7,
    "start_time": "2025-02-22T10:50:05.850Z"
   },
   {
    "duration": 10,
    "start_time": "2025-02-22T10:50:07.780Z"
   },
   {
    "duration": 10,
    "start_time": "2025-02-22T10:50:08.392Z"
   },
   {
    "duration": 5,
    "start_time": "2025-02-22T10:50:09.773Z"
   },
   {
    "duration": 230,
    "start_time": "2025-02-22T10:50:11.586Z"
   },
   {
    "duration": 5,
    "start_time": "2025-02-22T10:50:13.549Z"
   },
   {
    "duration": 6,
    "start_time": "2025-02-22T10:50:15.387Z"
   },
   {
    "duration": 97,
    "start_time": "2025-02-22T10:50:16.707Z"
   },
   {
    "duration": 164,
    "start_time": "2025-02-22T10:50:18.010Z"
   },
   {
    "duration": 5,
    "start_time": "2025-02-22T10:50:20.004Z"
   },
   {
    "duration": 8,
    "start_time": "2025-02-22T10:50:21.189Z"
   },
   {
    "duration": 18,
    "start_time": "2025-02-22T10:50:23.136Z"
   },
   {
    "duration": 20,
    "start_time": "2025-02-22T10:50:24.472Z"
   },
   {
    "duration": 15,
    "start_time": "2025-02-22T10:50:25.800Z"
   },
   {
    "duration": 11,
    "start_time": "2025-02-22T10:50:27.115Z"
   },
   {
    "duration": 259,
    "start_time": "2025-02-22T10:50:28.397Z"
   },
   {
    "duration": 30,
    "start_time": "2025-02-22T10:50:30.977Z"
   },
   {
    "duration": 47,
    "start_time": "2025-02-22T10:50:32.874Z"
   },
   {
    "duration": 3,
    "start_time": "2025-02-22T10:50:34.192Z"
   },
   {
    "duration": 214,
    "start_time": "2025-02-22T10:50:35.550Z"
   },
   {
    "duration": 13,
    "start_time": "2025-02-22T10:50:37.537Z"
   },
   {
    "duration": 448,
    "start_time": "2025-02-22T10:50:39.512Z"
   },
   {
    "duration": 5,
    "start_time": "2025-02-22T10:50:41.812Z"
   },
   {
    "duration": 7,
    "start_time": "2025-02-22T10:50:43.159Z"
   },
   {
    "duration": 6,
    "start_time": "2025-02-22T10:50:45.100Z"
   },
   {
    "duration": 11,
    "start_time": "2025-02-22T10:50:47.220Z"
   },
   {
    "duration": 5,
    "start_time": "2025-02-22T10:50:50.448Z"
   },
   {
    "duration": 104,
    "start_time": "2025-02-22T10:50:52.374Z"
   },
   {
    "duration": 5,
    "start_time": "2025-02-22T10:50:54.450Z"
   },
   {
    "duration": 9,
    "start_time": "2025-02-22T10:50:56.372Z"
   },
   {
    "duration": 5,
    "start_time": "2025-02-22T10:55:03.368Z"
   },
   {
    "duration": 456,
    "start_time": "2025-02-22T14:02:30.896Z"
   },
   {
    "duration": 542,
    "start_time": "2025-02-22T14:02:32.093Z"
   },
   {
    "duration": 24,
    "start_time": "2025-02-22T14:02:33.845Z"
   },
   {
    "duration": 3,
    "start_time": "2025-02-22T14:02:35.063Z"
   },
   {
    "duration": 8,
    "start_time": "2025-02-22T14:02:36.716Z"
   },
   {
    "duration": 10,
    "start_time": "2025-02-22T14:02:37.924Z"
   },
   {
    "duration": 8,
    "start_time": "2025-02-22T14:02:39.066Z"
   },
   {
    "duration": 7,
    "start_time": "2025-02-22T14:02:40.185Z"
   },
   {
    "duration": 10,
    "start_time": "2025-02-22T14:02:41.966Z"
   },
   {
    "duration": 11,
    "start_time": "2025-02-22T14:02:42.643Z"
   },
   {
    "duration": 8,
    "start_time": "2025-02-22T14:02:43.802Z"
   },
   {
    "duration": 240,
    "start_time": "2025-02-22T14:02:45.474Z"
   },
   {
    "duration": 8,
    "start_time": "2025-02-22T14:02:47.974Z"
   },
   {
    "duration": 6,
    "start_time": "2025-02-22T14:02:51.973Z"
   },
   {
    "duration": 102,
    "start_time": "2025-02-22T14:02:54.023Z"
   },
   {
    "duration": 168,
    "start_time": "2025-02-22T14:02:55.235Z"
   },
   {
    "duration": 7,
    "start_time": "2025-02-22T14:15:15.719Z"
   },
   {
    "duration": 8,
    "start_time": "2025-02-22T14:17:26.171Z"
   },
   {
    "duration": 8,
    "start_time": "2025-02-22T14:17:53.187Z"
   },
   {
    "duration": 9,
    "start_time": "2025-02-22T14:18:14.721Z"
   },
   {
    "duration": 11,
    "start_time": "2025-02-22T14:21:14.619Z"
   },
   {
    "duration": 420,
    "start_time": "2025-02-22T14:23:02.823Z"
   },
   {
    "duration": 159,
    "start_time": "2025-02-22T14:23:04.271Z"
   },
   {
    "duration": 23,
    "start_time": "2025-02-22T14:23:07.749Z"
   },
   {
    "duration": 4,
    "start_time": "2025-02-22T14:23:09.041Z"
   },
   {
    "duration": 5,
    "start_time": "2025-02-22T14:23:10.877Z"
   },
   {
    "duration": 12,
    "start_time": "2025-02-22T14:23:12.173Z"
   },
   {
    "duration": 11,
    "start_time": "2025-02-22T14:23:13.316Z"
   },
   {
    "duration": 9,
    "start_time": "2025-02-22T14:23:14.522Z"
   },
   {
    "duration": 14,
    "start_time": "2025-02-22T14:23:16.298Z"
   },
   {
    "duration": 10,
    "start_time": "2025-02-22T14:23:16.966Z"
   },
   {
    "duration": 5,
    "start_time": "2025-02-22T14:23:18.218Z"
   },
   {
    "duration": 248,
    "start_time": "2025-02-22T14:23:20.389Z"
   },
   {
    "duration": 6,
    "start_time": "2025-02-22T14:23:22.488Z"
   },
   {
    "duration": 4,
    "start_time": "2025-02-22T14:23:24.367Z"
   },
   {
    "duration": 113,
    "start_time": "2025-02-22T14:23:25.613Z"
   },
   {
    "duration": 178,
    "start_time": "2025-02-22T14:23:26.930Z"
   },
   {
    "duration": 5,
    "start_time": "2025-02-22T14:23:29.069Z"
   },
   {
    "duration": 11,
    "start_time": "2025-02-22T14:23:30.807Z"
   },
   {
    "duration": 20,
    "start_time": "2025-02-22T14:23:32.822Z"
   },
   {
    "duration": 21,
    "start_time": "2025-02-22T14:23:34.193Z"
   },
   {
    "duration": 13,
    "start_time": "2025-02-22T14:23:35.626Z"
   },
   {
    "duration": 15,
    "start_time": "2025-02-22T14:23:38.678Z"
   },
   {
    "duration": 272,
    "start_time": "2025-02-22T14:23:40.402Z"
   },
   {
    "duration": 3,
    "start_time": "2025-02-22T14:25:47.327Z"
   },
   {
    "duration": 49,
    "start_time": "2025-02-22T14:29:20.799Z"
   },
   {
    "duration": 42,
    "start_time": "2025-02-22T14:30:21.464Z"
   },
   {
    "duration": 6,
    "start_time": "2025-02-22T14:31:18.014Z"
   },
   {
    "duration": 221,
    "start_time": "2025-02-22T14:31:19.285Z"
   },
   {
    "duration": 12,
    "start_time": "2025-02-22T14:31:26.146Z"
   },
   {
    "duration": 503,
    "start_time": "2025-02-22T14:31:46.227Z"
   },
   {
    "duration": 4,
    "start_time": "2025-02-22T14:33:14.587Z"
   },
   {
    "duration": 5,
    "start_time": "2025-02-22T14:35:47.135Z"
   },
   {
    "duration": 4,
    "start_time": "2025-02-22T14:37:34.161Z"
   },
   {
    "duration": 7,
    "start_time": "2025-02-22T14:38:06.100Z"
   },
   {
    "duration": 5,
    "start_time": "2025-02-22T15:01:05.599Z"
   },
   {
    "duration": 5,
    "start_time": "2025-02-22T15:01:50.754Z"
   },
   {
    "duration": 5,
    "start_time": "2025-02-22T15:03:48.320Z"
   },
   {
    "duration": 20,
    "start_time": "2025-02-22T15:04:23.014Z"
   },
   {
    "duration": 5,
    "start_time": "2025-02-22T15:04:42.676Z"
   },
   {
    "duration": 108,
    "start_time": "2025-02-22T15:04:47.252Z"
   },
   {
    "duration": 6,
    "start_time": "2025-02-22T15:07:59.376Z"
   },
   {
    "duration": 8,
    "start_time": "2025-02-22T15:10:12.723Z"
   },
   {
    "duration": 7,
    "start_time": "2025-02-22T15:13:15.143Z"
   },
   {
    "duration": 6,
    "start_time": "2025-02-22T15:14:35.977Z"
   },
   {
    "duration": 6,
    "start_time": "2025-02-22T15:29:26.065Z"
   },
   {
    "duration": 5,
    "start_time": "2025-02-22T15:30:05.127Z"
   }
  ],
  "colab": {
   "provenance": [],
   "toc_visible": true
  },
  "kernelspec": {
   "display_name": "Python 3 (ipykernel)",
   "language": "python",
   "name": "python3"
  },
  "language_info": {
   "codemirror_mode": {
    "name": "ipython",
    "version": 3
   },
   "file_extension": ".py",
   "mimetype": "text/x-python",
   "name": "python",
   "nbconvert_exporter": "python",
   "pygments_lexer": "ipython3",
   "version": "3.9.7"
  },
  "toc": {
   "base_numbering": 1,
   "nav_menu": {},
   "number_sections": true,
   "sideBar": true,
   "skip_h1_title": true,
   "title_cell": "Table of Contents",
   "title_sidebar": "Contents",
   "toc_cell": false,
   "toc_position": {},
   "toc_section_display": true,
   "toc_window_display": false
  }
 },
 "nbformat": 4,
 "nbformat_minor": 1
}
