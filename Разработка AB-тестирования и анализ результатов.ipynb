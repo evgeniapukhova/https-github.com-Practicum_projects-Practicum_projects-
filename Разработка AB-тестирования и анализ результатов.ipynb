{
 "cells": [
  {
   "cell_type": "markdown",
   "metadata": {
    "id": "u98L9TgH0eMk"
   },
   "source": [
    "# Разработка A/B-тестирования и анализ результатов\n",
    "\n",
    "Вы работаете продуктовым аналитиком в компании, которая разрабатывает развлекательное приложение с функцией «бесконечной» ленты, как, например, в приложениях с короткими видео. В вашем приложении существует две модели монетизации: первая — ежемесячная платная подписка, которая позволяет пользователям смотреть ленту без рекламы, вторая — демонстрация рекламы для пользователей, которые ещё не оформили подписку.\n",
    "\n",
    "Команда разработчиков рекомендательных систем создала новый алгоритм рекомендаций, который, по их мнению, будет показывать более интересный контент для каждого пользователя. Вас, как аналитика, просят помочь рассчитать параметры A/B-теста, который позволит проверить эту гипотезу, и проанализировать его результаты."
   ]
  },
  {
   "cell_type": "markdown",
   "metadata": {
    "id": "LJBRALHs0eMf"
   },
   "source": [
    "## Описание данных\n",
    "\n",
    "Вы будете работать с тремя таблицами:\n",
    "\n",
    "- `sessions_project_history.csv` — таблица с историческими данными по сессиям пользователей на период с 2025-08-15 по 2025-09-23. Путь к файлу: `/datasets/sessions_project_history.csv`.\n",
    "\n",
    "- `sessions_project_test_part.csv` — таблица с данными за первый день проведения A/B-теста, то есть за 2025-10-14. Путь к файлу: `/datasets/sessions_project_test_part.csv`.\n",
    "\n",
    "- `sessions_project_test.csv` — таблица с данными за весь период проведения A/B-теста, то есть с 2025-10-14 по 2025-11-02. Путь к файлу: `/datasets/sessions_project_test.csv`.\n",
    "\n",
    "У этих таблиц почти совпадает структура и содержание колонок, различаются лишь периоды наблюдения.\n",
    "\n",
    "Поля таблиц `sessions_project_history.csv`, `sessions_project_test.csv`, `sessions_project_test_part.csv`:\n",
    "\n",
    "- `user_id` — идентификатор пользователя;\n",
    "\n",
    "- `session_id` — идентификатор сессии в приложении;\n",
    "\n",
    "- `session_date` — дата сессии;\n",
    "\n",
    "- `session_start_ts` — дата и время начала сессии;\n",
    "\n",
    "- `install_date` — дата установки приложения;\n",
    "\n",
    "- `session_number` — порядковый номер сессии для конкретного пользователя;\n",
    "\n",
    "- `registration_flag` — является ли пользователь зарегистрированным;\n",
    "\n",
    "- `page_counter` — количество просмотренных страниц во время сессии;\n",
    "\n",
    "- `region` — регион пользователя;\n",
    "\n",
    "- `device` — тип устройства пользователя;\n",
    "\n",
    "- `test_group` — тестовая группа (в таблице с историческими данными этого столбца нет).\n",
    "\n",
    "\n",
    "## Что нужно сделать\n",
    "Ваши задачи: рассчитать параметры теста, оценить корректность его проведения и проанализировать результаты эксперимента."
   ]
  },
  {
   "cell_type": "markdown",
   "metadata": {
    "id": "UpOucjID0eMl"
   },
   "source": [
    "### 1. Работа с историческими данными (EDA)"
   ]
  },
  {
   "cell_type": "markdown",
   "metadata": {
    "id": "8iJMtL-30eMl"
   },
   "source": [
    "#### 1.1. Загрузка исторических данных\n",
    "На первом этапе поработайте с историческими данными приложения:\n",
    "\n",
    "- Импортируйте библиотеку pandas.\n",
    "\n",
    "- Считайте и сохраните в датафрейм `sessions_history` CSV-файл с историческими данными о сессиях пользователей `sessions_project_history.csv`.\n",
    "\n",
    "Выведите на экран первые пять строк полученного датафрейма."
   ]
  },
  {
   "cell_type": "code",
   "execution_count": 1,
   "metadata": {
    "id": "6TPR2-1RPboT"
   },
   "outputs": [],
   "source": [
    "import pandas as pd"
   ]
  },
  {
   "cell_type": "code",
   "execution_count": 2,
   "metadata": {},
   "outputs": [],
   "source": [
    "sessions_history = pd.read_csv('https://code.s3.yandex.net/datasets/sessions_project_history.csv')"
   ]
  },
  {
   "cell_type": "code",
   "execution_count": 3,
   "metadata": {},
   "outputs": [
    {
     "data": {
      "text/html": [
       "<div>\n",
       "<style scoped>\n",
       "    .dataframe tbody tr th:only-of-type {\n",
       "        vertical-align: middle;\n",
       "    }\n",
       "\n",
       "    .dataframe tbody tr th {\n",
       "        vertical-align: top;\n",
       "    }\n",
       "\n",
       "    .dataframe thead th {\n",
       "        text-align: right;\n",
       "    }\n",
       "</style>\n",
       "<table border=\"1\" class=\"dataframe\">\n",
       "  <thead>\n",
       "    <tr style=\"text-align: right;\">\n",
       "      <th></th>\n",
       "      <th>user_id</th>\n",
       "      <th>session_id</th>\n",
       "      <th>session_date</th>\n",
       "      <th>session_start_ts</th>\n",
       "      <th>install_date</th>\n",
       "      <th>session_number</th>\n",
       "      <th>registration_flag</th>\n",
       "      <th>page_counter</th>\n",
       "      <th>region</th>\n",
       "      <th>device</th>\n",
       "    </tr>\n",
       "  </thead>\n",
       "  <tbody>\n",
       "    <tr>\n",
       "      <th>0</th>\n",
       "      <td>E302123B7000BFE4</td>\n",
       "      <td>F9AF61A0C2023832</td>\n",
       "      <td>2025-08-15</td>\n",
       "      <td>2025-08-15 17:47:35</td>\n",
       "      <td>2025-08-15</td>\n",
       "      <td>1</td>\n",
       "      <td>0</td>\n",
       "      <td>3</td>\n",
       "      <td>CIS</td>\n",
       "      <td>iPhone</td>\n",
       "    </tr>\n",
       "    <tr>\n",
       "      <th>1</th>\n",
       "      <td>2530F72E221829FB</td>\n",
       "      <td>85003A206CBDAC6F</td>\n",
       "      <td>2025-08-15</td>\n",
       "      <td>2025-08-15 16:42:14</td>\n",
       "      <td>2025-08-15</td>\n",
       "      <td>1</td>\n",
       "      <td>0</td>\n",
       "      <td>4</td>\n",
       "      <td>MENA</td>\n",
       "      <td>Android</td>\n",
       "    </tr>\n",
       "    <tr>\n",
       "      <th>2</th>\n",
       "      <td>876E020A4FC512F5</td>\n",
       "      <td>3677423E49D72DEE</td>\n",
       "      <td>2025-08-15</td>\n",
       "      <td>2025-08-15 12:30:00</td>\n",
       "      <td>2025-08-15</td>\n",
       "      <td>1</td>\n",
       "      <td>0</td>\n",
       "      <td>4</td>\n",
       "      <td>EU</td>\n",
       "      <td>PC</td>\n",
       "    </tr>\n",
       "    <tr>\n",
       "      <th>3</th>\n",
       "      <td>2640B349E1D81584</td>\n",
       "      <td>956B45F5915CA225</td>\n",
       "      <td>2025-08-15</td>\n",
       "      <td>2025-08-15 15:31:31</td>\n",
       "      <td>2025-08-15</td>\n",
       "      <td>1</td>\n",
       "      <td>0</td>\n",
       "      <td>4</td>\n",
       "      <td>CIS</td>\n",
       "      <td>Android</td>\n",
       "    </tr>\n",
       "    <tr>\n",
       "      <th>4</th>\n",
       "      <td>94E1CBFAEF1F5EE9</td>\n",
       "      <td>83BF0DA35F9F1F40</td>\n",
       "      <td>2025-08-15</td>\n",
       "      <td>2025-08-15 21:33:53</td>\n",
       "      <td>2025-08-15</td>\n",
       "      <td>1</td>\n",
       "      <td>0</td>\n",
       "      <td>3</td>\n",
       "      <td>CIS</td>\n",
       "      <td>Android</td>\n",
       "    </tr>\n",
       "    <tr>\n",
       "      <th>...</th>\n",
       "      <td>...</td>\n",
       "      <td>...</td>\n",
       "      <td>...</td>\n",
       "      <td>...</td>\n",
       "      <td>...</td>\n",
       "      <td>...</td>\n",
       "      <td>...</td>\n",
       "      <td>...</td>\n",
       "      <td>...</td>\n",
       "      <td>...</td>\n",
       "    </tr>\n",
       "    <tr>\n",
       "      <th>435919</th>\n",
       "      <td>769BC199AF26FEF8</td>\n",
       "      <td>914903B51D69C5EA</td>\n",
       "      <td>2025-09-17</td>\n",
       "      <td>2025-09-17 21:33:57</td>\n",
       "      <td>2025-09-04</td>\n",
       "      <td>3</td>\n",
       "      <td>1</td>\n",
       "      <td>3</td>\n",
       "      <td>CIS</td>\n",
       "      <td>PC</td>\n",
       "    </tr>\n",
       "    <tr>\n",
       "      <th>435920</th>\n",
       "      <td>599DED39F3CD2ADE</td>\n",
       "      <td>66ADBE343C94DCDA</td>\n",
       "      <td>2025-09-17</td>\n",
       "      <td>2025-09-17 17:11:46</td>\n",
       "      <td>2025-09-04</td>\n",
       "      <td>4</td>\n",
       "      <td>0</td>\n",
       "      <td>4</td>\n",
       "      <td>MENA</td>\n",
       "      <td>iPhone</td>\n",
       "    </tr>\n",
       "    <tr>\n",
       "      <th>435921</th>\n",
       "      <td>1FA20C4BC94E64B2</td>\n",
       "      <td>C4CCD7E81733665F</td>\n",
       "      <td>2025-09-17</td>\n",
       "      <td>2025-09-17 19:36:55</td>\n",
       "      <td>2025-09-04</td>\n",
       "      <td>4</td>\n",
       "      <td>0</td>\n",
       "      <td>4</td>\n",
       "      <td>CIS</td>\n",
       "      <td>Android</td>\n",
       "    </tr>\n",
       "    <tr>\n",
       "      <th>435922</th>\n",
       "      <td>88E5FC3016A7A0AD</td>\n",
       "      <td>6834FB4914B56200</td>\n",
       "      <td>2025-09-17</td>\n",
       "      <td>2025-09-17 22:13:33</td>\n",
       "      <td>2025-09-04</td>\n",
       "      <td>5</td>\n",
       "      <td>0</td>\n",
       "      <td>4</td>\n",
       "      <td>MENA</td>\n",
       "      <td>PC</td>\n",
       "    </tr>\n",
       "    <tr>\n",
       "      <th>435923</th>\n",
       "      <td>5CC144801F7B0D1D</td>\n",
       "      <td>8CC9E67AFF5D9CA8</td>\n",
       "      <td>2025-09-17</td>\n",
       "      <td>2025-09-17 15:23:46</td>\n",
       "      <td>2025-09-04</td>\n",
       "      <td>3</td>\n",
       "      <td>0</td>\n",
       "      <td>2</td>\n",
       "      <td>MENA</td>\n",
       "      <td>iPhone</td>\n",
       "    </tr>\n",
       "  </tbody>\n",
       "</table>\n",
       "<p>435924 rows × 10 columns</p>\n",
       "</div>"
      ],
      "text/plain": [
       "                 user_id        session_id session_date     session_start_ts  \\\n",
       "0       E302123B7000BFE4  F9AF61A0C2023832   2025-08-15  2025-08-15 17:47:35   \n",
       "1       2530F72E221829FB  85003A206CBDAC6F   2025-08-15  2025-08-15 16:42:14   \n",
       "2       876E020A4FC512F5  3677423E49D72DEE   2025-08-15  2025-08-15 12:30:00   \n",
       "3       2640B349E1D81584  956B45F5915CA225   2025-08-15  2025-08-15 15:31:31   \n",
       "4       94E1CBFAEF1F5EE9  83BF0DA35F9F1F40   2025-08-15  2025-08-15 21:33:53   \n",
       "...                  ...               ...          ...                  ...   \n",
       "435919  769BC199AF26FEF8  914903B51D69C5EA   2025-09-17  2025-09-17 21:33:57   \n",
       "435920  599DED39F3CD2ADE  66ADBE343C94DCDA   2025-09-17  2025-09-17 17:11:46   \n",
       "435921  1FA20C4BC94E64B2  C4CCD7E81733665F   2025-09-17  2025-09-17 19:36:55   \n",
       "435922  88E5FC3016A7A0AD  6834FB4914B56200   2025-09-17  2025-09-17 22:13:33   \n",
       "435923  5CC144801F7B0D1D  8CC9E67AFF5D9CA8   2025-09-17  2025-09-17 15:23:46   \n",
       "\n",
       "       install_date  session_number  registration_flag  page_counter region  \\\n",
       "0        2025-08-15               1                  0             3    CIS   \n",
       "1        2025-08-15               1                  0             4   MENA   \n",
       "2        2025-08-15               1                  0             4     EU   \n",
       "3        2025-08-15               1                  0             4    CIS   \n",
       "4        2025-08-15               1                  0             3    CIS   \n",
       "...             ...             ...                ...           ...    ...   \n",
       "435919   2025-09-04               3                  1             3    CIS   \n",
       "435920   2025-09-04               4                  0             4   MENA   \n",
       "435921   2025-09-04               4                  0             4    CIS   \n",
       "435922   2025-09-04               5                  0             4   MENA   \n",
       "435923   2025-09-04               3                  0             2   MENA   \n",
       "\n",
       "         device  \n",
       "0        iPhone  \n",
       "1       Android  \n",
       "2            PC  \n",
       "3       Android  \n",
       "4       Android  \n",
       "...         ...  \n",
       "435919       PC  \n",
       "435920   iPhone  \n",
       "435921  Android  \n",
       "435922       PC  \n",
       "435923   iPhone  \n",
       "\n",
       "[435924 rows x 10 columns]"
      ]
     },
     "metadata": {},
     "output_type": "display_data"
    }
   ],
   "source": [
    "display(sessions_history)"
   ]
  },
  {
   "cell_type": "markdown",
   "metadata": {
    "id": "qTDoiODz0eMo"
   },
   "source": [
    "#### 1.2. Знакомство с данными\n",
    "- Для каждого уникального пользователя `user_id` рассчитайте количество уникальных сессий `session_id`.\n",
    "\n",
    "- Выведите на экран все данные из таблицы `sessions_history` для одного пользователя с наибольшим количеством сессий. Если таких пользователей несколько, выберите любого из них.\n",
    "\n",
    "- Изучите таблицу для одного пользователя, чтобы лучше понять логику формирования каждого столбца данных.\n",
    "\n"
   ]
  },
  {
   "cell_type": "code",
   "execution_count": 4,
   "metadata": {
    "id": "PWZO9vTIPbPN"
   },
   "outputs": [
    {
     "data": {
      "text/html": [
       "<div>\n",
       "<style scoped>\n",
       "    .dataframe tbody tr th:only-of-type {\n",
       "        vertical-align: middle;\n",
       "    }\n",
       "\n",
       "    .dataframe tbody tr th {\n",
       "        vertical-align: top;\n",
       "    }\n",
       "\n",
       "    .dataframe thead th {\n",
       "        text-align: right;\n",
       "    }\n",
       "</style>\n",
       "<table border=\"1\" class=\"dataframe\">\n",
       "  <thead>\n",
       "    <tr style=\"text-align: right;\">\n",
       "      <th></th>\n",
       "      <th>user_id</th>\n",
       "      <th>session_id</th>\n",
       "      <th>session_date</th>\n",
       "      <th>session_start_ts</th>\n",
       "      <th>install_date</th>\n",
       "      <th>session_number</th>\n",
       "      <th>registration_flag</th>\n",
       "      <th>page_counter</th>\n",
       "      <th>region</th>\n",
       "      <th>device</th>\n",
       "    </tr>\n",
       "  </thead>\n",
       "  <tbody>\n",
       "    <tr>\n",
       "      <th>115558</th>\n",
       "      <td>10E0DEFC1ABDBBE0</td>\n",
       "      <td>B8F0423BBFFCF5DC</td>\n",
       "      <td>2025-08-14</td>\n",
       "      <td>2025-08-14 13:57:39</td>\n",
       "      <td>2025-08-14</td>\n",
       "      <td>1</td>\n",
       "      <td>0</td>\n",
       "      <td>4</td>\n",
       "      <td>CIS</td>\n",
       "      <td>Android</td>\n",
       "    </tr>\n",
       "    <tr>\n",
       "      <th>191751</th>\n",
       "      <td>10E0DEFC1ABDBBE0</td>\n",
       "      <td>87CA2FA549473837</td>\n",
       "      <td>2025-08-15</td>\n",
       "      <td>2025-08-15 16:42:10</td>\n",
       "      <td>2025-08-14</td>\n",
       "      <td>2</td>\n",
       "      <td>0</td>\n",
       "      <td>3</td>\n",
       "      <td>CIS</td>\n",
       "      <td>Android</td>\n",
       "    </tr>\n",
       "    <tr>\n",
       "      <th>239370</th>\n",
       "      <td>10E0DEFC1ABDBBE0</td>\n",
       "      <td>4ADD8011DCDCE318</td>\n",
       "      <td>2025-08-16</td>\n",
       "      <td>2025-08-16 19:53:21</td>\n",
       "      <td>2025-08-14</td>\n",
       "      <td>3</td>\n",
       "      <td>0</td>\n",
       "      <td>3</td>\n",
       "      <td>CIS</td>\n",
       "      <td>Android</td>\n",
       "    </tr>\n",
       "    <tr>\n",
       "      <th>274629</th>\n",
       "      <td>10E0DEFC1ABDBBE0</td>\n",
       "      <td>DF0FD0E09BF1F3D7</td>\n",
       "      <td>2025-08-17</td>\n",
       "      <td>2025-08-17 15:03:43</td>\n",
       "      <td>2025-08-14</td>\n",
       "      <td>4</td>\n",
       "      <td>0</td>\n",
       "      <td>1</td>\n",
       "      <td>CIS</td>\n",
       "      <td>Android</td>\n",
       "    </tr>\n",
       "    <tr>\n",
       "      <th>302501</th>\n",
       "      <td>10E0DEFC1ABDBBE0</td>\n",
       "      <td>3C221774B4DE6885</td>\n",
       "      <td>2025-08-18</td>\n",
       "      <td>2025-08-18 17:29:14</td>\n",
       "      <td>2025-08-14</td>\n",
       "      <td>5</td>\n",
       "      <td>0</td>\n",
       "      <td>4</td>\n",
       "      <td>CIS</td>\n",
       "      <td>Android</td>\n",
       "    </tr>\n",
       "    <tr>\n",
       "      <th>325557</th>\n",
       "      <td>10E0DEFC1ABDBBE0</td>\n",
       "      <td>031BD7A67048105B</td>\n",
       "      <td>2025-08-19</td>\n",
       "      <td>2025-08-19 13:23:55</td>\n",
       "      <td>2025-08-14</td>\n",
       "      <td>6</td>\n",
       "      <td>0</td>\n",
       "      <td>2</td>\n",
       "      <td>CIS</td>\n",
       "      <td>Android</td>\n",
       "    </tr>\n",
       "    <tr>\n",
       "      <th>345336</th>\n",
       "      <td>10E0DEFC1ABDBBE0</td>\n",
       "      <td>FF4315CF4AD4B100</td>\n",
       "      <td>2025-08-20</td>\n",
       "      <td>2025-08-20 19:31:54</td>\n",
       "      <td>2025-08-14</td>\n",
       "      <td>7</td>\n",
       "      <td>0</td>\n",
       "      <td>2</td>\n",
       "      <td>CIS</td>\n",
       "      <td>Android</td>\n",
       "    </tr>\n",
       "    <tr>\n",
       "      <th>377532</th>\n",
       "      <td>10E0DEFC1ABDBBE0</td>\n",
       "      <td>4045FEA0747203B4</td>\n",
       "      <td>2025-08-22</td>\n",
       "      <td>2025-08-22 17:54:13</td>\n",
       "      <td>2025-08-14</td>\n",
       "      <td>8</td>\n",
       "      <td>0</td>\n",
       "      <td>2</td>\n",
       "      <td>CIS</td>\n",
       "      <td>Android</td>\n",
       "    </tr>\n",
       "    <tr>\n",
       "      <th>403538</th>\n",
       "      <td>10E0DEFC1ABDBBE0</td>\n",
       "      <td>344B086C421C7F37</td>\n",
       "      <td>2025-08-24</td>\n",
       "      <td>2025-08-24 14:46:13</td>\n",
       "      <td>2025-08-14</td>\n",
       "      <td>9</td>\n",
       "      <td>0</td>\n",
       "      <td>2</td>\n",
       "      <td>CIS</td>\n",
       "      <td>Android</td>\n",
       "    </tr>\n",
       "    <tr>\n",
       "      <th>414743</th>\n",
       "      <td>10E0DEFC1ABDBBE0</td>\n",
       "      <td>054F20BA371E4C9D</td>\n",
       "      <td>2025-08-25</td>\n",
       "      <td>2025-08-25 18:36:41</td>\n",
       "      <td>2025-08-14</td>\n",
       "      <td>10</td>\n",
       "      <td>0</td>\n",
       "      <td>3</td>\n",
       "      <td>CIS</td>\n",
       "      <td>Android</td>\n",
       "    </tr>\n",
       "  </tbody>\n",
       "</table>\n",
       "</div>"
      ],
      "text/plain": [
       "                 user_id        session_id session_date     session_start_ts  \\\n",
       "115558  10E0DEFC1ABDBBE0  B8F0423BBFFCF5DC   2025-08-14  2025-08-14 13:57:39   \n",
       "191751  10E0DEFC1ABDBBE0  87CA2FA549473837   2025-08-15  2025-08-15 16:42:10   \n",
       "239370  10E0DEFC1ABDBBE0  4ADD8011DCDCE318   2025-08-16  2025-08-16 19:53:21   \n",
       "274629  10E0DEFC1ABDBBE0  DF0FD0E09BF1F3D7   2025-08-17  2025-08-17 15:03:43   \n",
       "302501  10E0DEFC1ABDBBE0  3C221774B4DE6885   2025-08-18  2025-08-18 17:29:14   \n",
       "325557  10E0DEFC1ABDBBE0  031BD7A67048105B   2025-08-19  2025-08-19 13:23:55   \n",
       "345336  10E0DEFC1ABDBBE0  FF4315CF4AD4B100   2025-08-20  2025-08-20 19:31:54   \n",
       "377532  10E0DEFC1ABDBBE0  4045FEA0747203B4   2025-08-22  2025-08-22 17:54:13   \n",
       "403538  10E0DEFC1ABDBBE0  344B086C421C7F37   2025-08-24  2025-08-24 14:46:13   \n",
       "414743  10E0DEFC1ABDBBE0  054F20BA371E4C9D   2025-08-25  2025-08-25 18:36:41   \n",
       "\n",
       "       install_date  session_number  registration_flag  page_counter region  \\\n",
       "115558   2025-08-14               1                  0             4    CIS   \n",
       "191751   2025-08-14               2                  0             3    CIS   \n",
       "239370   2025-08-14               3                  0             3    CIS   \n",
       "274629   2025-08-14               4                  0             1    CIS   \n",
       "302501   2025-08-14               5                  0             4    CIS   \n",
       "325557   2025-08-14               6                  0             2    CIS   \n",
       "345336   2025-08-14               7                  0             2    CIS   \n",
       "377532   2025-08-14               8                  0             2    CIS   \n",
       "403538   2025-08-14               9                  0             2    CIS   \n",
       "414743   2025-08-14              10                  0             3    CIS   \n",
       "\n",
       "         device  \n",
       "115558  Android  \n",
       "191751  Android  \n",
       "239370  Android  \n",
       "274629  Android  \n",
       "302501  Android  \n",
       "325557  Android  \n",
       "345336  Android  \n",
       "377532  Android  \n",
       "403538  Android  \n",
       "414743  Android  "
      ]
     },
     "metadata": {},
     "output_type": "display_data"
    }
   ],
   "source": [
    "# Количество уникальных сессий для каждого пользователя\n",
    "user_sessions = sessions_history.groupby('user_id')['session_id'].nunique().reset_index()\n",
    "user_sessions.columns = ['user_id', 'unique_sessions']\n",
    "\n",
    "# Пользователь с max количеством сессий\n",
    "max_sessions_user = user_sessions[user_sessions['unique_sessions'] == user_sessions['unique_sessions'].max()]['user_id'].iloc[0]\n",
    "\n",
    "# Выведем все данные для выбранного пользователя\n",
    "user_data = sessions_history[sessions_history['user_id'] == max_sessions_user]\n",
    "display(user_data)"
   ]
  },
  {
   "cell_type": "markdown",
   "metadata": {},
   "source": [
    "Мы видим, что пользователь 10E0DEFC1ABDBBE0 оказался самым активным, с 10 уникальными сессиями за период с 14 по 25 августа 2025"
   ]
  },
  {
   "cell_type": "code",
   "execution_count": 5,
   "metadata": {},
   "outputs": [
    {
     "name": "stdout",
     "output_type": "stream",
     "text": [
      "<class 'pandas.core.frame.DataFrame'>\n",
      "Int64Index: 10 entries, 115558 to 414743\n",
      "Data columns (total 10 columns):\n",
      " #   Column             Non-Null Count  Dtype \n",
      "---  ------             --------------  ----- \n",
      " 0   user_id            10 non-null     object\n",
      " 1   session_id         10 non-null     object\n",
      " 2   session_date       10 non-null     object\n",
      " 3   session_start_ts   10 non-null     object\n",
      " 4   install_date       10 non-null     object\n",
      " 5   session_number     10 non-null     int64 \n",
      " 6   registration_flag  10 non-null     int64 \n",
      " 7   page_counter       10 non-null     int64 \n",
      " 8   region             10 non-null     object\n",
      " 9   device             10 non-null     object\n",
      "dtypes: int64(3), object(7)\n",
      "memory usage: 880.0+ bytes\n"
     ]
    },
    {
     "data": {
      "text/plain": [
       "None"
      ]
     },
     "metadata": {},
     "output_type": "display_data"
    }
   ],
   "source": [
    "display(user_data.info())"
   ]
  },
  {
   "cell_type": "markdown",
   "metadata": {},
   "source": [
    "**Общий вывод**\n",
    "\n",
    "- Пользователь имеет 10 сессий, что соответсвует фильтрации.\n",
    "- Данные корректные, без пропусков.\n",
    "- Типы данных соответствуют данным, но можно преобразовать даты в datetime"
   ]
  },
  {
   "cell_type": "markdown",
   "metadata": {
    "id": "CmcGpJTP0eMq"
   },
   "source": [
    "#### 1.3. Анализ числа регистраций\n",
    "Одна из важнейших метрик продукта — число зарегистрированных пользователей. Используя исторические данные, визуализируйте, как менялось число регистраций в приложении за время его существования.\n",
    "\n",
    "- Агрегируйте исторические данные и рассчитайте число уникальных пользователей и число зарегистрированных пользователей для каждого дня наблюдения. Для простоты считайте, что у пользователя в течение дня бывает одна сессия максимум и статус регистрации в течение одного дня не может измениться.\n",
    "\n",
    "- Постройте линейные графики общего числа пользователей и общего числа зарегистрированных пользователей по дням. Отобразите их на одном графике.\n",
    "\n",
    "- Постройте отдельный линейный график доли зарегистрированных пользователей от всех пользователей по дням.\n",
    "\n",
    "- На обоих графиках должны быть заголовок, подписанные оси X и Y, сетка и легенда."
   ]
  },
  {
   "cell_type": "code",
   "execution_count": 6,
   "metadata": {
    "id": "tN_6Ml3EPatS"
   },
   "outputs": [],
   "source": [
    "import matplotlib.pyplot as plt"
   ]
  },
  {
   "cell_type": "code",
   "execution_count": 7,
   "metadata": {},
   "outputs": [],
   "source": [
    "# Преобразуем дату сессии в формат datetime\n",
    "sessions_history['session_date'] = pd.to_datetime(sessions_history['session_date'])"
   ]
  },
  {
   "cell_type": "code",
   "execution_count": 8,
   "metadata": {},
   "outputs": [
    {
     "data": {
      "text/html": [
       "<div>\n",
       "<style scoped>\n",
       "    .dataframe tbody tr th:only-of-type {\n",
       "        vertical-align: middle;\n",
       "    }\n",
       "\n",
       "    .dataframe tbody tr th {\n",
       "        vertical-align: top;\n",
       "    }\n",
       "\n",
       "    .dataframe thead th {\n",
       "        text-align: right;\n",
       "    }\n",
       "</style>\n",
       "<table border=\"1\" class=\"dataframe\">\n",
       "  <thead>\n",
       "    <tr style=\"text-align: right;\">\n",
       "      <th></th>\n",
       "      <th>session_date</th>\n",
       "      <th>total_users</th>\n",
       "      <th>registered_users</th>\n",
       "    </tr>\n",
       "  </thead>\n",
       "  <tbody>\n",
       "    <tr>\n",
       "      <th>0</th>\n",
       "      <td>2025-08-11</td>\n",
       "      <td>3919</td>\n",
       "      <td>169</td>\n",
       "    </tr>\n",
       "    <tr>\n",
       "      <th>1</th>\n",
       "      <td>2025-08-12</td>\n",
       "      <td>6056</td>\n",
       "      <td>336</td>\n",
       "    </tr>\n",
       "    <tr>\n",
       "      <th>2</th>\n",
       "      <td>2025-08-13</td>\n",
       "      <td>8489</td>\n",
       "      <td>464</td>\n",
       "    </tr>\n",
       "    <tr>\n",
       "      <th>3</th>\n",
       "      <td>2025-08-14</td>\n",
       "      <td>10321</td>\n",
       "      <td>625</td>\n",
       "    </tr>\n",
       "    <tr>\n",
       "      <th>4</th>\n",
       "      <td>2025-08-15</td>\n",
       "      <td>14065</td>\n",
       "      <td>840</td>\n",
       "    </tr>\n",
       "    <tr>\n",
       "      <th>5</th>\n",
       "      <td>2025-08-16</td>\n",
       "      <td>12205</td>\n",
       "      <td>916</td>\n",
       "    </tr>\n",
       "    <tr>\n",
       "      <th>6</th>\n",
       "      <td>2025-08-17</td>\n",
       "      <td>11200</td>\n",
       "      <td>833</td>\n",
       "    </tr>\n",
       "    <tr>\n",
       "      <th>7</th>\n",
       "      <td>2025-08-18</td>\n",
       "      <td>10839</td>\n",
       "      <td>860</td>\n",
       "    </tr>\n",
       "    <tr>\n",
       "      <th>8</th>\n",
       "      <td>2025-08-19</td>\n",
       "      <td>12118</td>\n",
       "      <td>831</td>\n",
       "    </tr>\n",
       "    <tr>\n",
       "      <th>9</th>\n",
       "      <td>2025-08-20</td>\n",
       "      <td>13514</td>\n",
       "      <td>1008</td>\n",
       "    </tr>\n",
       "    <tr>\n",
       "      <th>10</th>\n",
       "      <td>2025-08-21</td>\n",
       "      <td>15051</td>\n",
       "      <td>1063</td>\n",
       "    </tr>\n",
       "    <tr>\n",
       "      <th>11</th>\n",
       "      <td>2025-08-22</td>\n",
       "      <td>17563</td>\n",
       "      <td>1251</td>\n",
       "    </tr>\n",
       "    <tr>\n",
       "      <th>12</th>\n",
       "      <td>2025-08-23</td>\n",
       "      <td>16082</td>\n",
       "      <td>1253</td>\n",
       "    </tr>\n",
       "    <tr>\n",
       "      <th>13</th>\n",
       "      <td>2025-08-24</td>\n",
       "      <td>13683</td>\n",
       "      <td>1181</td>\n",
       "    </tr>\n",
       "    <tr>\n",
       "      <th>14</th>\n",
       "      <td>2025-08-25</td>\n",
       "      <td>13635</td>\n",
       "      <td>1060</td>\n",
       "    </tr>\n",
       "    <tr>\n",
       "      <th>15</th>\n",
       "      <td>2025-08-26</td>\n",
       "      <td>13289</td>\n",
       "      <td>1050</td>\n",
       "    </tr>\n",
       "    <tr>\n",
       "      <th>16</th>\n",
       "      <td>2025-08-27</td>\n",
       "      <td>14766</td>\n",
       "      <td>1076</td>\n",
       "    </tr>\n",
       "    <tr>\n",
       "      <th>17</th>\n",
       "      <td>2025-08-28</td>\n",
       "      <td>15388</td>\n",
       "      <td>1175</td>\n",
       "    </tr>\n",
       "    <tr>\n",
       "      <th>18</th>\n",
       "      <td>2025-08-29</td>\n",
       "      <td>16873</td>\n",
       "      <td>1174</td>\n",
       "    </tr>\n",
       "    <tr>\n",
       "      <th>19</th>\n",
       "      <td>2025-08-30</td>\n",
       "      <td>14891</td>\n",
       "      <td>1165</td>\n",
       "    </tr>\n",
       "    <tr>\n",
       "      <th>20</th>\n",
       "      <td>2025-08-31</td>\n",
       "      <td>13266</td>\n",
       "      <td>1105</td>\n",
       "    </tr>\n",
       "    <tr>\n",
       "      <th>21</th>\n",
       "      <td>2025-09-01</td>\n",
       "      <td>12685</td>\n",
       "      <td>1028</td>\n",
       "    </tr>\n",
       "    <tr>\n",
       "      <th>22</th>\n",
       "      <td>2025-09-02</td>\n",
       "      <td>12672</td>\n",
       "      <td>1039</td>\n",
       "    </tr>\n",
       "    <tr>\n",
       "      <th>23</th>\n",
       "      <td>2025-09-03</td>\n",
       "      <td>12777</td>\n",
       "      <td>1035</td>\n",
       "    </tr>\n",
       "    <tr>\n",
       "      <th>24</th>\n",
       "      <td>2025-09-04</td>\n",
       "      <td>13683</td>\n",
       "      <td>1007</td>\n",
       "    </tr>\n",
       "    <tr>\n",
       "      <th>25</th>\n",
       "      <td>2025-09-05</td>\n",
       "      <td>15324</td>\n",
       "      <td>1030</td>\n",
       "    </tr>\n",
       "    <tr>\n",
       "      <th>26</th>\n",
       "      <td>2025-09-06</td>\n",
       "      <td>13078</td>\n",
       "      <td>1023</td>\n",
       "    </tr>\n",
       "    <tr>\n",
       "      <th>27</th>\n",
       "      <td>2025-09-07</td>\n",
       "      <td>12367</td>\n",
       "      <td>1069</td>\n",
       "    </tr>\n",
       "    <tr>\n",
       "      <th>28</th>\n",
       "      <td>2025-09-08</td>\n",
       "      <td>11826</td>\n",
       "      <td>1009</td>\n",
       "    </tr>\n",
       "    <tr>\n",
       "      <th>29</th>\n",
       "      <td>2025-09-09</td>\n",
       "      <td>11780</td>\n",
       "      <td>980</td>\n",
       "    </tr>\n",
       "    <tr>\n",
       "      <th>30</th>\n",
       "      <td>2025-09-10</td>\n",
       "      <td>12526</td>\n",
       "      <td>1015</td>\n",
       "    </tr>\n",
       "    <tr>\n",
       "      <th>31</th>\n",
       "      <td>2025-09-11</td>\n",
       "      <td>8623</td>\n",
       "      <td>824</td>\n",
       "    </tr>\n",
       "    <tr>\n",
       "      <th>32</th>\n",
       "      <td>2025-09-12</td>\n",
       "      <td>6436</td>\n",
       "      <td>669</td>\n",
       "    </tr>\n",
       "    <tr>\n",
       "      <th>33</th>\n",
       "      <td>2025-09-13</td>\n",
       "      <td>5183</td>\n",
       "      <td>537</td>\n",
       "    </tr>\n",
       "    <tr>\n",
       "      <th>34</th>\n",
       "      <td>2025-09-14</td>\n",
       "      <td>4364</td>\n",
       "      <td>440</td>\n",
       "    </tr>\n",
       "    <tr>\n",
       "      <th>35</th>\n",
       "      <td>2025-09-15</td>\n",
       "      <td>3698</td>\n",
       "      <td>383</td>\n",
       "    </tr>\n",
       "    <tr>\n",
       "      <th>36</th>\n",
       "      <td>2025-09-16</td>\n",
       "      <td>3032</td>\n",
       "      <td>286</td>\n",
       "    </tr>\n",
       "    <tr>\n",
       "      <th>37</th>\n",
       "      <td>2025-09-17</td>\n",
       "      <td>2548</td>\n",
       "      <td>272</td>\n",
       "    </tr>\n",
       "    <tr>\n",
       "      <th>38</th>\n",
       "      <td>2025-09-18</td>\n",
       "      <td>1952</td>\n",
       "      <td>201</td>\n",
       "    </tr>\n",
       "    <tr>\n",
       "      <th>39</th>\n",
       "      <td>2025-09-19</td>\n",
       "      <td>1418</td>\n",
       "      <td>132</td>\n",
       "    </tr>\n",
       "    <tr>\n",
       "      <th>40</th>\n",
       "      <td>2025-09-20</td>\n",
       "      <td>1100</td>\n",
       "      <td>107</td>\n",
       "    </tr>\n",
       "    <tr>\n",
       "      <th>41</th>\n",
       "      <td>2025-09-21</td>\n",
       "      <td>776</td>\n",
       "      <td>87</td>\n",
       "    </tr>\n",
       "    <tr>\n",
       "      <th>42</th>\n",
       "      <td>2025-09-22</td>\n",
       "      <td>546</td>\n",
       "      <td>68</td>\n",
       "    </tr>\n",
       "    <tr>\n",
       "      <th>43</th>\n",
       "      <td>2025-09-23</td>\n",
       "      <td>317</td>\n",
       "      <td>32</td>\n",
       "    </tr>\n",
       "  </tbody>\n",
       "</table>\n",
       "</div>"
      ],
      "text/plain": [
       "   session_date  total_users  registered_users\n",
       "0    2025-08-11         3919               169\n",
       "1    2025-08-12         6056               336\n",
       "2    2025-08-13         8489               464\n",
       "3    2025-08-14        10321               625\n",
       "4    2025-08-15        14065               840\n",
       "5    2025-08-16        12205               916\n",
       "6    2025-08-17        11200               833\n",
       "7    2025-08-18        10839               860\n",
       "8    2025-08-19        12118               831\n",
       "9    2025-08-20        13514              1008\n",
       "10   2025-08-21        15051              1063\n",
       "11   2025-08-22        17563              1251\n",
       "12   2025-08-23        16082              1253\n",
       "13   2025-08-24        13683              1181\n",
       "14   2025-08-25        13635              1060\n",
       "15   2025-08-26        13289              1050\n",
       "16   2025-08-27        14766              1076\n",
       "17   2025-08-28        15388              1175\n",
       "18   2025-08-29        16873              1174\n",
       "19   2025-08-30        14891              1165\n",
       "20   2025-08-31        13266              1105\n",
       "21   2025-09-01        12685              1028\n",
       "22   2025-09-02        12672              1039\n",
       "23   2025-09-03        12777              1035\n",
       "24   2025-09-04        13683              1007\n",
       "25   2025-09-05        15324              1030\n",
       "26   2025-09-06        13078              1023\n",
       "27   2025-09-07        12367              1069\n",
       "28   2025-09-08        11826              1009\n",
       "29   2025-09-09        11780               980\n",
       "30   2025-09-10        12526              1015\n",
       "31   2025-09-11         8623               824\n",
       "32   2025-09-12         6436               669\n",
       "33   2025-09-13         5183               537\n",
       "34   2025-09-14         4364               440\n",
       "35   2025-09-15         3698               383\n",
       "36   2025-09-16         3032               286\n",
       "37   2025-09-17         2548               272\n",
       "38   2025-09-18         1952               201\n",
       "39   2025-09-19         1418               132\n",
       "40   2025-09-20         1100               107\n",
       "41   2025-09-21          776                87\n",
       "42   2025-09-22          546                68\n",
       "43   2025-09-23          317                32"
      ]
     },
     "metadata": {},
     "output_type": "display_data"
    }
   ],
   "source": [
    "# Агрегируем по дате\n",
    "daily_data = sessions_history.groupby('session_date').agg(\n",
    "    total_users=('user_id', 'nunique'),\n",
    "    registered_users=('registration_flag', lambda x: (x == 1).sum())\n",
    ").reset_index()\n",
    "display(daily_data)"
   ]
  },
  {
   "cell_type": "code",
   "execution_count": 9,
   "metadata": {},
   "outputs": [
    {
     "data": {
      "image/png": "[encoded data removed]",
      "text/plain": [
       "<Figure size 720x432 with 1 Axes>"
      ]
     },
     "metadata": {
      "needs_background": "light"
     },
     "output_type": "display_data"
    }
   ],
   "source": [
    "# Визуализация общего числа пользователей и числа зарегистрированных пользователей\n",
    "plt.figure(figsize=(10, 6))\n",
    "plt.plot(daily_data['session_date'], daily_data['total_users'], label='Общее количество пользователей', color='b')\n",
    "plt.plot(daily_data['session_date'], daily_data['registered_users'], label='Количество зарегистрированных пользователей', color='g')\n",
    "plt.xlabel('Дата')\n",
    "plt.ylabel('Число пользователей')\n",
    "plt.title('Общее количество пользователей всего и количество зарегистрированных пользователей по дням')\n",
    "plt.grid(True)\n",
    "plt.legend()\n",
    "plt.xticks(rotation=45)\n",
    "plt.tight_layout()\n",
    "plt.show()"
   ]
  },
  {
   "cell_type": "markdown",
   "metadata": {},
   "source": [
    "**Выводы:**\n",
    "\n",
    "- общее количество пользователей в день имеет волнообразный характер с пиками и спадами\n",
    "- количество зарегистрированных пользователей существенно ниже, но также имеет характер, схожий с общим числом пользователей\n",
    "- после 10 сентября наблюдается значительное снижение активности пользователей"
   ]
  },
  {
   "cell_type": "code",
   "execution_count": 10,
   "metadata": {},
   "outputs": [
    {
     "data": {
      "image/png": "[encoded data removed]",
      "text/plain": [
       "<Figure size 720x432 with 1 Axes>"
      ]
     },
     "metadata": {
      "needs_background": "light"
     },
     "output_type": "display_data"
    }
   ],
   "source": [
    "# Визуализация доли зарегистрированных пользователей от общего количества пользователей\n",
    "daily_data['registration_rate'] = daily_data['registered_users'] / daily_data['total_users']\n",
    "plt.figure(figsize=(10, 6))\n",
    "plt.plot(daily_data['session_date'], daily_data['registration_rate'], label='Доля зарегистрированных пользователей', color='g')\n",
    "plt.xlabel('Дата')\n",
    "plt.ylabel('Доля зарегистрированных пользователей')\n",
    "plt.title('Доля зарегистрированных пользователей от общего количества пользователей по дням')\n",
    "plt.grid(True)\n",
    "plt.legend()\n",
    "plt.xticks(rotation=45)\n",
    "plt.tight_layout()\n",
    "plt.show()"
   ]
  },
  {
   "cell_type": "markdown",
   "metadata": {},
   "source": [
    "**Выводы:**\n",
    "\n",
    "- доля зарегистрированных пользователей постепенно растет, начиная с 4-5%, достигая более 10% ближе к концу периода\n",
    "- после 10 сентября, когда общее количество пользователей падает, доля зарегистрированных пользователей наоборот растет, что может быть показателем более высокой конверсии среди оставшихся активных пользователей"
   ]
  },
  {
   "cell_type": "markdown",
   "metadata": {},
   "source": [
    "**Общий вывод:**\n",
    "\n",
    "- В первые недели после запуска активность пользователей росла, затем достигла пика и начала снижаться.\n",
    "- Количество новых регистраций в день также начало снижаться после 10 сентября, но доля зарегистрированных пользователей выросла.\n",
    "\n",
    "Это может быть показателем того, что первоначальный всплеск трафика (возможно, за счет рекламы или маркетинговых акций) привел много пользователей, но затем общий интерес к продукту снизился.\n",
    "Но повышение доли регистраций может говорить о том, что оставшиеся пользователи стали более мотивированными или улучшились процессы (например, упростился сам процесс регистрации, появились бонусы за регистрацию и т. д.)"
   ]
  },
  {
   "cell_type": "markdown",
   "metadata": {
    "id": "UR7D7RhF0eMr"
   },
   "source": [
    "#### 1.4. Анализ числа просмотренных страниц\n",
    "Другая важная метрика продукта — число просмотренных страниц в приложении. Чем больше страниц просмотрено, тем сильнее пользователь увлечён контентом, а значит, выше шансы на то, что он зарегистрируется и оплатит подписку.\n",
    "\n",
    "- Найдите количество сессий для каждого значения количества просмотренных страниц. Например: одну страницу просмотрели в 29160 сессиях, две страницы в 105536 сессиях и так далее.\n",
    "\n",
    "- Постройте столбчатую диаграмму, где по оси X будет число просмотренных страниц, по оси Y — количество сессий.\n",
    "\n",
    "- На диаграмме должны быть заголовок, подписанные оси X и Y."
   ]
  },
  {
   "cell_type": "code",
   "execution_count": 11,
   "metadata": {
    "id": "cb6hPlVzPaSf"
   },
   "outputs": [
    {
     "data": {
      "text/html": [
       "<div>\n",
       "<style scoped>\n",
       "    .dataframe tbody tr th:only-of-type {\n",
       "        vertical-align: middle;\n",
       "    }\n",
       "\n",
       "    .dataframe tbody tr th {\n",
       "        vertical-align: top;\n",
       "    }\n",
       "\n",
       "    .dataframe thead th {\n",
       "        text-align: right;\n",
       "    }\n",
       "</style>\n",
       "<table border=\"1\" class=\"dataframe\">\n",
       "  <thead>\n",
       "    <tr style=\"text-align: right;\">\n",
       "      <th></th>\n",
       "      <th>page_counter</th>\n",
       "      <th>session_count</th>\n",
       "    </tr>\n",
       "  </thead>\n",
       "  <tbody>\n",
       "    <tr>\n",
       "      <th>0</th>\n",
       "      <td>1</td>\n",
       "      <td>29160</td>\n",
       "    </tr>\n",
       "    <tr>\n",
       "      <th>1</th>\n",
       "      <td>2</td>\n",
       "      <td>105536</td>\n",
       "    </tr>\n",
       "    <tr>\n",
       "      <th>2</th>\n",
       "      <td>3</td>\n",
       "      <td>166690</td>\n",
       "    </tr>\n",
       "    <tr>\n",
       "      <th>3</th>\n",
       "      <td>4</td>\n",
       "      <td>105569</td>\n",
       "    </tr>\n",
       "    <tr>\n",
       "      <th>4</th>\n",
       "      <td>5</td>\n",
       "      <td>26288</td>\n",
       "    </tr>\n",
       "    <tr>\n",
       "      <th>5</th>\n",
       "      <td>6</td>\n",
       "      <td>2589</td>\n",
       "    </tr>\n",
       "    <tr>\n",
       "      <th>6</th>\n",
       "      <td>7</td>\n",
       "      <td>92</td>\n",
       "    </tr>\n",
       "  </tbody>\n",
       "</table>\n",
       "</div>"
      ],
      "text/plain": [
       "   page_counter  session_count\n",
       "0             1          29160\n",
       "1             2         105536\n",
       "2             3         166690\n",
       "3             4         105569\n",
       "4             5          26288\n",
       "5             6           2589\n",
       "6             7             92"
      ]
     },
     "metadata": {},
     "output_type": "display_data"
    }
   ],
   "source": [
    "# Количество сессий для каждого значения просмотренных страниц\n",
    "page_sessions = sessions_history.groupby('page_counter').agg(\n",
    "    session_count=('session_id', 'nunique')\n",
    ").reset_index()\n",
    "display(page_sessions)"
   ]
  },
  {
   "cell_type": "code",
   "execution_count": 12,
   "metadata": {},
   "outputs": [
    {
     "data": {
      "image/png": "[encoded data removed]",
      "text/plain": [
       "<Figure size 720x432 with 1 Axes>"
      ]
     },
     "metadata": {
      "needs_background": "light"
     },
     "output_type": "display_data"
    }
   ],
   "source": [
    "# Построение столбчатой диаграммы\n",
    "plt.figure(figsize=(10, 6))\n",
    "plt.bar(page_sessions['page_counter'], page_sessions['session_count'], color='b')\n",
    "plt.title('Количество сессий в зависимости от числа просмотренных страниц')\n",
    "plt.xlabel('Число просмотренных страниц')\n",
    "plt.ylabel('Количество сессий')\n",
    "plt.grid(True)\n",
    "plt.show()"
   ]
  },
  {
   "cell_type": "markdown",
   "metadata": {},
   "source": [
    "**Выводы:**\n",
    "\n",
    "- наиболее частое число просмотренных страниц за сессию — 3 (166 690 сессий)\n",
    "- заметный спад после 3 страниц — количество сессий уменьшается с увеличением числа просмотренных страниц\n",
    "- очень мало длинных сессий — лишь 92 сессии с 7 просмотренными страницами, что говорит о том, что пользователи редко остаются на сайте долгоя"
   ]
  },
  {
   "cell_type": "markdown",
   "metadata": {
    "id": "xDltSpVP0eMr"
   },
   "source": [
    "#### 1.5. Доля пользователей, просмотревших более четырёх страниц\n",
    "Продуктовая команда продукта считает, что сессии, в рамках которых пользователь просмотрел 4 и более страниц, говорят об удовлетворённости контентом и алгоритмами рекомендаций. Этот показатель является важной прокси-метрикой для продукта.\n",
    "\n",
    "- В датафрейме `sessions_history` создайте дополнительный столбец `good_session`. В него войдёт значение `1`, если за одну сессию было просмотрено 4 и более страниц, и значение `0`, если было просмотрено меньше.\n",
    "\n",
    "- Постройте график со средним значением доли успешных сессий ко всем сессиям по дням за весь период наблюдения."
   ]
  },
  {
   "cell_type": "code",
   "execution_count": 13,
   "metadata": {
    "id": "iygaPfixPYMW"
   },
   "outputs": [
    {
     "data": {
      "text/html": [
       "<div>\n",
       "<style scoped>\n",
       "    .dataframe tbody tr th:only-of-type {\n",
       "        vertical-align: middle;\n",
       "    }\n",
       "\n",
       "    .dataframe tbody tr th {\n",
       "        vertical-align: top;\n",
       "    }\n",
       "\n",
       "    .dataframe thead th {\n",
       "        text-align: right;\n",
       "    }\n",
       "</style>\n",
       "<table border=\"1\" class=\"dataframe\">\n",
       "  <thead>\n",
       "    <tr style=\"text-align: right;\">\n",
       "      <th></th>\n",
       "      <th>session_date</th>\n",
       "      <th>page_counter</th>\n",
       "      <th>good_session</th>\n",
       "    </tr>\n",
       "  </thead>\n",
       "  <tbody>\n",
       "    <tr>\n",
       "      <th>0</th>\n",
       "      <td>2025-08-15</td>\n",
       "      <td>3</td>\n",
       "      <td>0</td>\n",
       "    </tr>\n",
       "    <tr>\n",
       "      <th>1</th>\n",
       "      <td>2025-08-15</td>\n",
       "      <td>4</td>\n",
       "      <td>1</td>\n",
       "    </tr>\n",
       "    <tr>\n",
       "      <th>2</th>\n",
       "      <td>2025-08-15</td>\n",
       "      <td>4</td>\n",
       "      <td>1</td>\n",
       "    </tr>\n",
       "    <tr>\n",
       "      <th>3</th>\n",
       "      <td>2025-08-15</td>\n",
       "      <td>4</td>\n",
       "      <td>1</td>\n",
       "    </tr>\n",
       "    <tr>\n",
       "      <th>4</th>\n",
       "      <td>2025-08-15</td>\n",
       "      <td>3</td>\n",
       "      <td>0</td>\n",
       "    </tr>\n",
       "  </tbody>\n",
       "</table>\n",
       "</div>"
      ],
      "text/plain": [
       "  session_date  page_counter  good_session\n",
       "0   2025-08-15             3             0\n",
       "1   2025-08-15             4             1\n",
       "2   2025-08-15             4             1\n",
       "3   2025-08-15             4             1\n",
       "4   2025-08-15             3             0"
      ]
     },
     "metadata": {},
     "output_type": "display_data"
    }
   ],
   "source": [
    "# Добавим столбец good_session\n",
    "sessions_history['good_session'] = sessions_history['page_counter'].apply(lambda x: 1 if x >= 4 else 0)\n",
    "display(sessions_history[['session_date', 'page_counter', 'good_session']].head())"
   ]
  },
  {
   "cell_type": "code",
   "execution_count": 14,
   "metadata": {},
   "outputs": [
    {
     "data": {
      "text/html": [
       "<div>\n",
       "<style scoped>\n",
       "    .dataframe tbody tr th:only-of-type {\n",
       "        vertical-align: middle;\n",
       "    }\n",
       "\n",
       "    .dataframe tbody tr th {\n",
       "        vertical-align: top;\n",
       "    }\n",
       "\n",
       "    .dataframe thead th {\n",
       "        text-align: right;\n",
       "    }\n",
       "</style>\n",
       "<table border=\"1\" class=\"dataframe\">\n",
       "  <thead>\n",
       "    <tr style=\"text-align: right;\">\n",
       "      <th></th>\n",
       "      <th>session_date</th>\n",
       "      <th>good_session_share</th>\n",
       "    </tr>\n",
       "  </thead>\n",
       "  <tbody>\n",
       "    <tr>\n",
       "      <th>0</th>\n",
       "      <td>2025-08-11</td>\n",
       "      <td>0.312835</td>\n",
       "    </tr>\n",
       "    <tr>\n",
       "      <th>1</th>\n",
       "      <td>2025-08-12</td>\n",
       "      <td>0.302015</td>\n",
       "    </tr>\n",
       "    <tr>\n",
       "      <th>2</th>\n",
       "      <td>2025-08-13</td>\n",
       "      <td>0.306750</td>\n",
       "    </tr>\n",
       "    <tr>\n",
       "      <th>3</th>\n",
       "      <td>2025-08-14</td>\n",
       "      <td>0.316055</td>\n",
       "    </tr>\n",
       "    <tr>\n",
       "      <th>4</th>\n",
       "      <td>2025-08-15</td>\n",
       "      <td>0.304941</td>\n",
       "    </tr>\n",
       "    <tr>\n",
       "      <th>5</th>\n",
       "      <td>2025-08-16</td>\n",
       "      <td>0.306186</td>\n",
       "    </tr>\n",
       "    <tr>\n",
       "      <th>6</th>\n",
       "      <td>2025-08-17</td>\n",
       "      <td>0.317589</td>\n",
       "    </tr>\n",
       "    <tr>\n",
       "      <th>7</th>\n",
       "      <td>2025-08-18</td>\n",
       "      <td>0.310545</td>\n",
       "    </tr>\n",
       "    <tr>\n",
       "      <th>8</th>\n",
       "      <td>2025-08-19</td>\n",
       "      <td>0.312840</td>\n",
       "    </tr>\n",
       "    <tr>\n",
       "      <th>9</th>\n",
       "      <td>2025-08-20</td>\n",
       "      <td>0.306941</td>\n",
       "    </tr>\n",
       "    <tr>\n",
       "      <th>10</th>\n",
       "      <td>2025-08-21</td>\n",
       "      <td>0.303169</td>\n",
       "    </tr>\n",
       "    <tr>\n",
       "      <th>11</th>\n",
       "      <td>2025-08-22</td>\n",
       "      <td>0.313158</td>\n",
       "    </tr>\n",
       "    <tr>\n",
       "      <th>12</th>\n",
       "      <td>2025-08-23</td>\n",
       "      <td>0.302077</td>\n",
       "    </tr>\n",
       "    <tr>\n",
       "      <th>13</th>\n",
       "      <td>2025-08-24</td>\n",
       "      <td>0.309800</td>\n",
       "    </tr>\n",
       "    <tr>\n",
       "      <th>14</th>\n",
       "      <td>2025-08-25</td>\n",
       "      <td>0.305464</td>\n",
       "    </tr>\n",
       "    <tr>\n",
       "      <th>15</th>\n",
       "      <td>2025-08-26</td>\n",
       "      <td>0.310934</td>\n",
       "    </tr>\n",
       "    <tr>\n",
       "      <th>16</th>\n",
       "      <td>2025-08-27</td>\n",
       "      <td>0.311120</td>\n",
       "    </tr>\n",
       "    <tr>\n",
       "      <th>17</th>\n",
       "      <td>2025-08-28</td>\n",
       "      <td>0.310567</td>\n",
       "    </tr>\n",
       "    <tr>\n",
       "      <th>18</th>\n",
       "      <td>2025-08-29</td>\n",
       "      <td>0.313104</td>\n",
       "    </tr>\n",
       "    <tr>\n",
       "      <th>19</th>\n",
       "      <td>2025-08-30</td>\n",
       "      <td>0.313814</td>\n",
       "    </tr>\n",
       "    <tr>\n",
       "      <th>20</th>\n",
       "      <td>2025-08-31</td>\n",
       "      <td>0.302503</td>\n",
       "    </tr>\n",
       "    <tr>\n",
       "      <th>21</th>\n",
       "      <td>2025-09-01</td>\n",
       "      <td>0.312495</td>\n",
       "    </tr>\n",
       "    <tr>\n",
       "      <th>22</th>\n",
       "      <td>2025-09-02</td>\n",
       "      <td>0.315499</td>\n",
       "    </tr>\n",
       "    <tr>\n",
       "      <th>23</th>\n",
       "      <td>2025-09-03</td>\n",
       "      <td>0.304140</td>\n",
       "    </tr>\n",
       "    <tr>\n",
       "      <th>24</th>\n",
       "      <td>2025-09-04</td>\n",
       "      <td>0.315501</td>\n",
       "    </tr>\n",
       "    <tr>\n",
       "      <th>25</th>\n",
       "      <td>2025-09-05</td>\n",
       "      <td>0.303837</td>\n",
       "    </tr>\n",
       "    <tr>\n",
       "      <th>26</th>\n",
       "      <td>2025-09-06</td>\n",
       "      <td>0.304557</td>\n",
       "    </tr>\n",
       "    <tr>\n",
       "      <th>27</th>\n",
       "      <td>2025-09-07</td>\n",
       "      <td>0.312121</td>\n",
       "    </tr>\n",
       "    <tr>\n",
       "      <th>28</th>\n",
       "      <td>2025-09-08</td>\n",
       "      <td>0.308811</td>\n",
       "    </tr>\n",
       "    <tr>\n",
       "      <th>29</th>\n",
       "      <td>2025-09-09</td>\n",
       "      <td>0.305518</td>\n",
       "    </tr>\n",
       "    <tr>\n",
       "      <th>30</th>\n",
       "      <td>2025-09-10</td>\n",
       "      <td>0.305125</td>\n",
       "    </tr>\n",
       "    <tr>\n",
       "      <th>31</th>\n",
       "      <td>2025-09-11</td>\n",
       "      <td>0.304650</td>\n",
       "    </tr>\n",
       "    <tr>\n",
       "      <th>32</th>\n",
       "      <td>2025-09-12</td>\n",
       "      <td>0.301585</td>\n",
       "    </tr>\n",
       "    <tr>\n",
       "      <th>33</th>\n",
       "      <td>2025-09-13</td>\n",
       "      <td>0.299055</td>\n",
       "    </tr>\n",
       "    <tr>\n",
       "      <th>34</th>\n",
       "      <td>2025-09-14</td>\n",
       "      <td>0.307745</td>\n",
       "    </tr>\n",
       "    <tr>\n",
       "      <th>35</th>\n",
       "      <td>2025-09-15</td>\n",
       "      <td>0.305841</td>\n",
       "    </tr>\n",
       "    <tr>\n",
       "      <th>36</th>\n",
       "      <td>2025-09-16</td>\n",
       "      <td>0.312005</td>\n",
       "    </tr>\n",
       "    <tr>\n",
       "      <th>37</th>\n",
       "      <td>2025-09-17</td>\n",
       "      <td>0.320251</td>\n",
       "    </tr>\n",
       "    <tr>\n",
       "      <th>38</th>\n",
       "      <td>2025-09-18</td>\n",
       "      <td>0.292520</td>\n",
       "    </tr>\n",
       "    <tr>\n",
       "      <th>39</th>\n",
       "      <td>2025-09-19</td>\n",
       "      <td>0.318054</td>\n",
       "    </tr>\n",
       "    <tr>\n",
       "      <th>40</th>\n",
       "      <td>2025-09-20</td>\n",
       "      <td>0.301818</td>\n",
       "    </tr>\n",
       "    <tr>\n",
       "      <th>41</th>\n",
       "      <td>2025-09-21</td>\n",
       "      <td>0.288660</td>\n",
       "    </tr>\n",
       "    <tr>\n",
       "      <th>42</th>\n",
       "      <td>2025-09-22</td>\n",
       "      <td>0.309524</td>\n",
       "    </tr>\n",
       "    <tr>\n",
       "      <th>43</th>\n",
       "      <td>2025-09-23</td>\n",
       "      <td>0.290221</td>\n",
       "    </tr>\n",
       "  </tbody>\n",
       "</table>\n",
       "</div>"
      ],
      "text/plain": [
       "   session_date  good_session_share\n",
       "0    2025-08-11            0.312835\n",
       "1    2025-08-12            0.302015\n",
       "2    2025-08-13            0.306750\n",
       "3    2025-08-14            0.316055\n",
       "4    2025-08-15            0.304941\n",
       "5    2025-08-16            0.306186\n",
       "6    2025-08-17            0.317589\n",
       "7    2025-08-18            0.310545\n",
       "8    2025-08-19            0.312840\n",
       "9    2025-08-20            0.306941\n",
       "10   2025-08-21            0.303169\n",
       "11   2025-08-22            0.313158\n",
       "12   2025-08-23            0.302077\n",
       "13   2025-08-24            0.309800\n",
       "14   2025-08-25            0.305464\n",
       "15   2025-08-26            0.310934\n",
       "16   2025-08-27            0.311120\n",
       "17   2025-08-28            0.310567\n",
       "18   2025-08-29            0.313104\n",
       "19   2025-08-30            0.313814\n",
       "20   2025-08-31            0.302503\n",
       "21   2025-09-01            0.312495\n",
       "22   2025-09-02            0.315499\n",
       "23   2025-09-03            0.304140\n",
       "24   2025-09-04            0.315501\n",
       "25   2025-09-05            0.303837\n",
       "26   2025-09-06            0.304557\n",
       "27   2025-09-07            0.312121\n",
       "28   2025-09-08            0.308811\n",
       "29   2025-09-09            0.305518\n",
       "30   2025-09-10            0.305125\n",
       "31   2025-09-11            0.304650\n",
       "32   2025-09-12            0.301585\n",
       "33   2025-09-13            0.299055\n",
       "34   2025-09-14            0.307745\n",
       "35   2025-09-15            0.305841\n",
       "36   2025-09-16            0.312005\n",
       "37   2025-09-17            0.320251\n",
       "38   2025-09-18            0.292520\n",
       "39   2025-09-19            0.318054\n",
       "40   2025-09-20            0.301818\n",
       "41   2025-09-21            0.288660\n",
       "42   2025-09-22            0.309524\n",
       "43   2025-09-23            0.290221"
      ]
     },
     "metadata": {},
     "output_type": "display_data"
    }
   ],
   "source": [
    "# Рассчитаем среднюю долю успешных сессий\n",
    "daily_good_session = sessions_history.groupby('session_date').agg(\n",
    "    good_session_share=('good_session', 'mean')\n",
    ").reset_index()\n",
    "display(daily_good_session)"
   ]
  },
  {
   "cell_type": "code",
   "execution_count": 15,
   "metadata": {},
   "outputs": [
    {
     "data": {
      "image/png": "[encoded data removed]",
      "text/plain": [
       "<Figure size 720x432 with 1 Axes>"
      ]
     },
     "metadata": {
      "needs_background": "light"
     },
     "output_type": "display_data"
    }
   ],
   "source": [
    "# Визуализируем данные\n",
    "plt.figure(figsize=(10, 6))\n",
    "plt.plot(daily_good_session['session_date'], daily_good_session['good_session_share'], color='b', marker='o')\n",
    "plt.title('Средняя доля успешных сессий по дням')\n",
    "plt.xlabel('Дата')\n",
    "plt.ylabel('Средняя доля успешных сессий')\n",
    "plt.grid(True)\n",
    "plt.xticks(rotation=45)\n",
    "plt.show()"
   ]
  },
  {
   "cell_type": "markdown",
   "metadata": {},
   "source": [
    "**Выводы:**\n",
    "\n",
    "- доля успешных сессий колеблется в районе 30-32%, т.е. примерно треть пользователей просматривает 4 и более страницы за сессию\n",
    "- есть небольшие колебания во времени, но в целом резких падений или всплесков нет, тренд стабильный"
   ]
  },
  {
   "cell_type": "markdown",
   "metadata": {
    "id": "21JcG77Y0eMt"
   },
   "source": [
    "### 2. Подготовка к тесту\n",
    "При планировании теста необходимо проделать несколько важных шагов:\n",
    "\n",
    "- Определиться с целевой метрикой.\n",
    "\n",
    "- Рассчитать необходимый размер выборки.\n",
    "\n",
    "- Исходя из текущих значений трафика, рассчитать необходимую длительность проведения теста."
   ]
  },
  {
   "cell_type": "markdown",
   "metadata": {
    "id": "uzaeln270eMt"
   },
   "source": [
    "#### 2.1. Расчёт размера выборки\n",
    "В рамках курса вам уже приходилось рассчитывать размеры выборки, используя онлайн-калькуляторы. В этом задании предлагаем воспользоваться готовым кодом и рассчитать необходимое для вашего дизайна эксперимента количество пользователей.\n",
    "\n",
    "Для этого установите в коде ниже следующие параметры:\n",
    "\n",
    "- Уровень значимости — 0.05.\n",
    "\n",
    "- Вероятность ошибки второго рода — 0.2.\n",
    "\n",
    "- Мощность теста.\n",
    "\n",
    "- Минимальный детектируемый эффект, или MDE, — 3%. Обратите внимание, что здесь нужно указать десятичную дробь, а не процент.\n",
    "\n",
    "При расчёте размера выборки мы будем использовать метод `solve_power()` из класса `power.NormalIndPower` модуля `statsmodels.stats`.\n",
    "\n",
    "Запустите ячейку и изучите полученное значение."
   ]
  },
  {
   "cell_type": "code",
   "execution_count": 16,
   "metadata": {
    "id": "zSxJyPGPNdaI"
   },
   "outputs": [
    {
     "name": "stdout",
     "output_type": "stream",
     "text": [
      "Необходимый размер выборки для каждой группы: 17441\n"
     ]
    }
   ],
   "source": [
    "from statsmodels.stats.power import NormalIndPower\n",
    "\n",
    "# Задаём параметры\n",
    "alpha = 0.05  # Уровень значимости\n",
    "beta = 0.2  # Ошибка второго рода, часто 1 - мощность\n",
    "power = 0.8  # Мощность теста\n",
    "mde = 0.03  # Минимальный детектируемый эффект\n",
    "\n",
    "# Инициализируем класс NormalIndPower\n",
    "power_analysis = NormalIndPower()\n",
    "\n",
    "# Рассчитываем размер выборки\n",
    "sample_size = power_analysis.solve_power(\n",
    "    effect_size = mde,\n",
    "    power = power,\n",
    "    alpha = alpha,\n",
    "    ratio = 1 # Равномерное распределение выборок\n",
    ")\n",
    "\n",
    "print(f\"Необходимый размер выборки для каждой группы: {int(sample_size)}\")"
   ]
  },
  {
   "cell_type": "markdown",
   "metadata": {
    "id": "qLEv4RoV0eMu"
   },
   "source": [
    "#### 2.1. Расчёт длительности A/B-теста\n",
    "\n",
    "Используйте данные о количестве пользователей в каждой выборке и среднем количестве пользователей приложения. Рассчитайте длительность теста, разделив одно на другое.\n",
    "\n",
    "- Рассчитайте среднее количество уникальных пользователей приложения в день.\n",
    "\n",
    "- Определите длительность теста, исходя из рассчитанного значения размера выборок и среднего дневного трафика приложения. Количество дней округлите в большую сторону."
   ]
  },
  {
   "cell_type": "code",
   "execution_count": 18,
   "metadata": {},
   "outputs": [
    {
     "name": "stdout",
     "output_type": "stream",
     "text": [
      "Рассчитанная длительность A/B-теста при текущем уровне трафика в 9907.363636363636 пользователей в день составит 4 дней\n"
     ]
    }
   ],
   "source": [
    "from math import ceil\n",
    "\n",
    "# Среднее количество пользователей приложения в день по историческим данным\n",
    "avg_daily_users = daily_data['total_users'].mean()\n",
    "\n",
    "# Умножим размер выборки на 2, т.к у нас две группы A и B\n",
    "total_sample_size = sample_size * 2\n",
    "\n",
    "# Рассчитываем длительность теста в днях\n",
    "test_duration = ceil(total_sample_size / avg_daily_users)\n",
    "\n",
    "# Выводим результат\n",
    "print(f\"Рассчитанная длительность A/B-теста при текущем уровне трафика в {avg_daily_users} пользователей в день составит {test_duration} дней\")"
   ]
  },
  {
   "cell_type": "markdown",
   "metadata": {},
   "source": [
    "**Вывод:**\n",
    "\n",
    "- для выявления эффекта в 3% при 95% доверительном уровне необходимо 17 441 пользователей в каждой группе\n",
    "- при среднем трафике в 9907 пользователей в день тест можно завершить за 4 дня"
   ]
  },
  {
   "cell_type": "markdown",
   "metadata": {
    "id": "ZuvtAdha0eMv"
   },
   "source": [
    "### 3. Мониторинг А/В-теста"
   ]
  },
  {
   "cell_type": "markdown",
   "metadata": {
    "id": "jq5sE3Ya0eMv"
   },
   "source": [
    "#### 3.1. Проверка распределения пользователей\n",
    "\n",
    "A/B-тест успешно запущен, и уже доступны данные за первые три дня. На этом этапе нужно убедиться, что всё идёт хорошо: пользователи разделены правильным образом, а интересующие вас метрики корректно считаются.\n",
    "\n",
    "- Считайте и сохраните в датафрейм `sessions_test_part` CSV-файл с историческими данными о сессиях пользователей `sessions_project_test_part.csv`.\n",
    "\n",
    "- Рассчитайте количество уникальных пользователей в каждой из экспериментальных групп для одного дня наблюдения.\n",
    "\n",
    "- Рассчитайте и выведите на экран процентную разницу в количестве пользователей в группах A и B. Постройте любую удобную визуализацию, на которой можно было бы увидеть возможное различие двух групп.\n",
    "\n",
    "Для расчёта процентной разницы воспользуйтесь формулой:\n",
    "$$P = 100 \\cdot  \\frac{|A − B|}{A}$$"
   ]
  },
  {
   "cell_type": "code",
   "execution_count": 19,
   "metadata": {
    "id": "G1bqIzDJOUiz"
   },
   "outputs": [
    {
     "data": {
      "text/html": [
       "<div>\n",
       "<style scoped>\n",
       "    .dataframe tbody tr th:only-of-type {\n",
       "        vertical-align: middle;\n",
       "    }\n",
       "\n",
       "    .dataframe tbody tr th {\n",
       "        vertical-align: top;\n",
       "    }\n",
       "\n",
       "    .dataframe thead th {\n",
       "        text-align: right;\n",
       "    }\n",
       "</style>\n",
       "<table border=\"1\" class=\"dataframe\">\n",
       "  <thead>\n",
       "    <tr style=\"text-align: right;\">\n",
       "      <th></th>\n",
       "      <th>user_id</th>\n",
       "      <th>session_id</th>\n",
       "      <th>session_date</th>\n",
       "      <th>session_start_ts</th>\n",
       "      <th>install_date</th>\n",
       "      <th>session_number</th>\n",
       "      <th>registration_flag</th>\n",
       "      <th>page_counter</th>\n",
       "      <th>region</th>\n",
       "      <th>device</th>\n",
       "      <th>test_group</th>\n",
       "    </tr>\n",
       "  </thead>\n",
       "  <tbody>\n",
       "    <tr>\n",
       "      <th>0</th>\n",
       "      <td>3404844B53442747</td>\n",
       "      <td>B4901323BD537E45</td>\n",
       "      <td>2025-10-14</td>\n",
       "      <td>2025-10-14 19:28:49</td>\n",
       "      <td>2025-10-14</td>\n",
       "      <td>1</td>\n",
       "      <td>0</td>\n",
       "      <td>3</td>\n",
       "      <td>CIS</td>\n",
       "      <td>Android</td>\n",
       "      <td>B</td>\n",
       "    </tr>\n",
       "    <tr>\n",
       "      <th>1</th>\n",
       "      <td>3A2BF4D364E62D89</td>\n",
       "      <td>216FC619308F8788</td>\n",
       "      <td>2025-10-14</td>\n",
       "      <td>2025-10-14 21:11:04</td>\n",
       "      <td>2025-10-14</td>\n",
       "      <td>1</td>\n",
       "      <td>0</td>\n",
       "      <td>3</td>\n",
       "      <td>MENA</td>\n",
       "      <td>iPhone</td>\n",
       "      <td>A</td>\n",
       "    </tr>\n",
       "    <tr>\n",
       "      <th>2</th>\n",
       "      <td>79CDAE11E32B1597</td>\n",
       "      <td>EDFCE4AC1A504074</td>\n",
       "      <td>2025-10-14</td>\n",
       "      <td>2025-10-14 21:44:03</td>\n",
       "      <td>2025-10-14</td>\n",
       "      <td>1</td>\n",
       "      <td>0</td>\n",
       "      <td>3</td>\n",
       "      <td>CIS</td>\n",
       "      <td>iPhone</td>\n",
       "      <td>A</td>\n",
       "    </tr>\n",
       "    <tr>\n",
       "      <th>3</th>\n",
       "      <td>D6AF8D78297A931F</td>\n",
       "      <td>CF0AC0EEDE92C690</td>\n",
       "      <td>2025-10-14</td>\n",
       "      <td>2025-10-14 19:07:55</td>\n",
       "      <td>2025-10-14</td>\n",
       "      <td>1</td>\n",
       "      <td>0</td>\n",
       "      <td>4</td>\n",
       "      <td>CIS</td>\n",
       "      <td>PC</td>\n",
       "      <td>A</td>\n",
       "    </tr>\n",
       "    <tr>\n",
       "      <th>4</th>\n",
       "      <td>37E0CE723AE568E0</td>\n",
       "      <td>2E6ED45E8C86C4E9</td>\n",
       "      <td>2025-10-14</td>\n",
       "      <td>2025-10-14 15:39:44</td>\n",
       "      <td>2025-10-14</td>\n",
       "      <td>1</td>\n",
       "      <td>0</td>\n",
       "      <td>3</td>\n",
       "      <td>CIS</td>\n",
       "      <td>Mac</td>\n",
       "      <td>B</td>\n",
       "    </tr>\n",
       "  </tbody>\n",
       "</table>\n",
       "</div>"
      ],
      "text/plain": [
       "            user_id        session_id session_date     session_start_ts  \\\n",
       "0  3404844B53442747  B4901323BD537E45   2025-10-14  2025-10-14 19:28:49   \n",
       "1  3A2BF4D364E62D89  216FC619308F8788   2025-10-14  2025-10-14 21:11:04   \n",
       "2  79CDAE11E32B1597  EDFCE4AC1A504074   2025-10-14  2025-10-14 21:44:03   \n",
       "3  D6AF8D78297A931F  CF0AC0EEDE92C690   2025-10-14  2025-10-14 19:07:55   \n",
       "4  37E0CE723AE568E0  2E6ED45E8C86C4E9   2025-10-14  2025-10-14 15:39:44   \n",
       "\n",
       "  install_date  session_number  registration_flag  page_counter region  \\\n",
       "0   2025-10-14               1                  0             3    CIS   \n",
       "1   2025-10-14               1                  0             3   MENA   \n",
       "2   2025-10-14               1                  0             3    CIS   \n",
       "3   2025-10-14               1                  0             4    CIS   \n",
       "4   2025-10-14               1                  0             3    CIS   \n",
       "\n",
       "    device test_group  \n",
       "0  Android          B  \n",
       "1   iPhone          A  \n",
       "2   iPhone          A  \n",
       "3       PC          A  \n",
       "4      Mac          B  "
      ]
     },
     "execution_count": 19,
     "metadata": {},
     "output_type": "execute_result"
    }
   ],
   "source": [
    "sessions_test_part = pd.read_csv('https://code.s3.yandex.net/datasets/sessions_project_test_part.csv')\n",
    "sessions_test_part.head()"
   ]
  },
  {
   "cell_type": "code",
   "execution_count": 20,
   "metadata": {},
   "outputs": [
    {
     "data": {
      "text/html": [
       "<div>\n",
       "<style scoped>\n",
       "    .dataframe tbody tr th:only-of-type {\n",
       "        vertical-align: middle;\n",
       "    }\n",
       "\n",
       "    .dataframe tbody tr th {\n",
       "        vertical-align: top;\n",
       "    }\n",
       "\n",
       "    .dataframe thead th {\n",
       "        text-align: right;\n",
       "    }\n",
       "</style>\n",
       "<table border=\"1\" class=\"dataframe\">\n",
       "  <thead>\n",
       "    <tr style=\"text-align: right;\">\n",
       "      <th></th>\n",
       "      <th>session_date</th>\n",
       "      <th>test_group</th>\n",
       "      <th>user_id</th>\n",
       "    </tr>\n",
       "  </thead>\n",
       "  <tbody>\n",
       "    <tr>\n",
       "      <th>0</th>\n",
       "      <td>2025-10-14</td>\n",
       "      <td>A</td>\n",
       "      <td>1477</td>\n",
       "    </tr>\n",
       "    <tr>\n",
       "      <th>1</th>\n",
       "      <td>2025-10-14</td>\n",
       "      <td>B</td>\n",
       "      <td>1466</td>\n",
       "    </tr>\n",
       "  </tbody>\n",
       "</table>\n",
       "</div>"
      ],
      "text/plain": [
       "  session_date test_group  user_id\n",
       "0   2025-10-14          A     1477\n",
       "1   2025-10-14          B     1466"
      ]
     },
     "execution_count": 20,
     "metadata": {},
     "output_type": "execute_result"
    }
   ],
   "source": [
    "# Количество уникальных пользователей для каждой группы по дням\n",
    "unique_users_per_group = sessions_test_part.groupby(['session_date', 'test_group'])['user_id'].nunique().reset_index()\n",
    "unique_users_per_group.head()"
   ]
  },
  {
   "cell_type": "code",
   "execution_count": 21,
   "metadata": {},
   "outputs": [
    {
     "data": {
      "text/html": [
       "<div>\n",
       "<style scoped>\n",
       "    .dataframe tbody tr th:only-of-type {\n",
       "        vertical-align: middle;\n",
       "    }\n",
       "\n",
       "    .dataframe tbody tr th {\n",
       "        vertical-align: top;\n",
       "    }\n",
       "\n",
       "    .dataframe thead th {\n",
       "        text-align: right;\n",
       "    }\n",
       "</style>\n",
       "<table border=\"1\" class=\"dataframe\">\n",
       "  <thead>\n",
       "    <tr style=\"text-align: right;\">\n",
       "      <th></th>\n",
       "      <th>session_date</th>\n",
       "      <th>percentage_difference</th>\n",
       "    </tr>\n",
       "  </thead>\n",
       "  <tbody>\n",
       "    <tr>\n",
       "      <th>0</th>\n",
       "      <td>2025-10-14</td>\n",
       "      <td>0.744753</td>\n",
       "    </tr>\n",
       "  </tbody>\n",
       "</table>\n",
       "</div>"
      ],
      "text/plain": [
       "  session_date  percentage_difference\n",
       "0   2025-10-14               0.744753"
      ]
     },
     "execution_count": 21,
     "metadata": {},
     "output_type": "execute_result"
    }
   ],
   "source": [
    "# Разделим данные по группам\n",
    "group_a = unique_users_per_group[unique_users_per_group['test_group'] == 'A']\n",
    "group_b = unique_users_per_group[unique_users_per_group['test_group'] == 'B']\n",
    "\n",
    "# Объединим данные по датам\n",
    "comparison = pd.merge(group_a, group_b, on='session_date', suffixes=('_A', '_B'))\n",
    "\n",
    "# Рассчитаем разницу в процентах\n",
    "comparison['percentage_difference'] = 100 * abs(comparison['user_id_A'] - comparison['user_id_B']) / comparison['user_id_A']\n",
    "\n",
    "comparison[['session_date', 'percentage_difference']].head()"
   ]
  },
  {
   "cell_type": "code",
   "execution_count": 22,
   "metadata": {},
   "outputs": [
    {
     "data": {
      "image/png": "[encoded data removed]",
      "text/plain": [
       "<Figure size 576x360 with 1 Axes>"
      ]
     },
     "metadata": {
      "needs_background": "light"
     },
     "output_type": "display_data"
    }
   ],
   "source": [
    "# Убедимся, что session_date в формате datetime\n",
    "comparison['session_date'] = pd.to_datetime(comparison['session_date'])\n",
    "\n",
    "# Визуализация разницы между группами A и B\n",
    "plt.figure(figsize=(8, 5))\n",
    "bars_a = plt.bar(comparison['session_date'] - pd.Timedelta(hours=12), comparison['user_id_A'], \n",
    "                 width=0.4, color='b', label='Группа A', align='center')\n",
    "bars_b = plt.bar(comparison['session_date'] + pd.Timedelta(hours=12), comparison['user_id_B'], \n",
    "                 width=0.4, color='g', label='Группа B', align='center')\n",
    "\n",
    "# Добавим аннотации на столбцы\n",
    "for bar in bars_a:\n",
    "    yval = bar.get_height()\n",
    "    plt.text(bar.get_x() + bar.get_width() / 2, yval + 10, int(yval), ha='center', va='bottom', color='black')\n",
    "\n",
    "for bar in bars_b:\n",
    "    yval = bar.get_height()\n",
    "    plt.text(bar.get_x() + bar.get_width() / 2, yval + 10, int(yval), ha='center', va='bottom', color='black')\n",
    "\n",
    "# Настройка графика\n",
    "plt.title('Количество пользователей в группах A и B по дням')\n",
    "plt.xlabel('Дата')\n",
    "plt.ylabel('Количество уникальных пользователей')\n",
    "plt.xticks(rotation=45)\n",
    "plt.legend()\n",
    "plt.tight_layout()\n",
    "plt.show()"
   ]
  },
  {
   "cell_type": "markdown",
   "metadata": {},
   "source": [
    "**Вывод:**\n",
    "\n",
    "- распределение пользователей между группами A и B выглядит сбалансированным, разница между группами составляет менее 1%. \n",
    "- тест был запущен корректно, распределение соответствует ожиданиям."
   ]
  },
  {
   "cell_type": "markdown",
   "metadata": {
    "id": "sgpNY5bv0eM0"
   },
   "source": [
    "#### 3.2. Проверка пересечений пользователей\n",
    "Помимо проверки равенства количества пользователей в группах полезно убедиться в том, что группы независимы. Для этого нужно убедиться, что никто из пользователей случайно не попал в обе группы одновременно.\n",
    "\n",
    "- Рассчитайте количество пользователей, которые встречаются одновременно в группах A и B, или убедитесь, что таких нет."
   ]
  },
  {
   "cell_type": "code",
   "execution_count": 23,
   "metadata": {
    "id": "E72ozN9FOX1u",
    "scrolled": true
   },
   "outputs": [
    {
     "name": "stdout",
     "output_type": "stream",
     "text": [
      "Количество пользователей, которые попадают в группы A и B одновременно: 0\n"
     ]
    }
   ],
   "source": [
    "# Посмотрим пользователей, которые попадают в обе группы\n",
    "overlay_users = pd.merge(\n",
    "    group_a[['user_id']],\n",
    "    group_b[['user_id']],\n",
    "    on='user_id',\n",
    "    how='inner')\n",
    "overlay_users_count = overlay_users['user_id'].nunique()\n",
    "print(f\"Количество пользователей, которые попадают в группы A и B одновременно: {overlay_users_count}\")"
   ]
  },
  {
   "cell_type": "markdown",
   "metadata": {
    "id": "6RvkNLrg0eM1"
   },
   "source": [
    "#### 3.3. Равномерность разделения пользователей по устройствам\n",
    "Полезно также убедиться в том, что пользователи равномерно распределены по всем доступным категориальным переменным — типам устройства и регионам.\n",
    "\n",
    "Постройте две диаграммы:\n",
    "\n",
    "- доля каждого типа устройства для пользователей из группы A,\n",
    "\n",
    "- доля каждого типа устройства для пользователей из группы B.\n",
    "\n",
    "Постарайтесь добавить на диаграммы все необходимые подписи, пояснения и заголовки, которые позволят сделать вывод о том, совпадает ли распределение устройств в группах A и B.\n"
   ]
  },
  {
   "cell_type": "code",
   "execution_count": 24,
   "metadata": {
    "id": "x_IP6PUNPWHC"
   },
   "outputs": [
    {
     "name": "stdout",
     "output_type": "stream",
     "text": [
      "\n",
      "Сравнение распределений типов устройств между группами:\n",
      "    device  device_share_A  device_share_B\n",
      "0  Android        0.444144        0.455662\n",
      "1      Mac        0.105619        0.100955\n",
      "2       PC        0.249831        0.259891\n",
      "3   iPhone        0.200406        0.183492\n",
      "\n",
      "Сравнение распределений регионов между группами:\n",
      "  region  region_share_A  region_share_B\n",
      "0    CIS        0.436019        0.439973\n",
      "1     EU        0.151659        0.148022\n",
      "2   MENA        0.412322        0.412005\n"
     ]
    }
   ],
   "source": [
    "# Группировка типу устройства\n",
    "device_a = sessions_test_part[sessions_test_part['test_group'] == 'A'] \\\n",
    "    .groupby('device')['user_id'].nunique().reset_index(name='user_count')\n",
    "\n",
    "device_b = sessions_test_part[sessions_test_part['test_group'] == 'B'] \\\n",
    "    .groupby('device')['user_id'].nunique().reset_index(name='user_count')\n",
    "\n",
    "# Группировка по регионам\n",
    "region_a = sessions_test_part[sessions_test_part['test_group'] == 'A'] \\\n",
    "    .groupby('region')['user_id'].nunique().reset_index(name='user_count')\n",
    "\n",
    "region_b = sessions_test_part[sessions_test_part['test_group'] == 'B'] \\\n",
    "    .groupby('region')['user_id'].nunique().reset_index(name='user_count')\n",
    "\n",
    "# Рассчаем долю каждого устройства и региона\n",
    "device_a['device_share'] = device_a['user_count'] / device_a['user_count'].sum()\n",
    "device_b['device_share'] = device_b['user_count'] / device_b['user_count'].sum()\n",
    "\n",
    "region_a['region_share'] = region_a['user_count'] / region_a['user_count'].sum()\n",
    "region_b['region_share'] = region_b['user_count'] / region_b['user_count'].sum()\n",
    "\n",
    "# Сравним распределение устройств между группами\n",
    "device_comparison = device_a.merge(device_b, on='device', suffixes=('_A', '_B'))\n",
    "print(\"\\nСравнение распределений типов устройств между группами:\")\n",
    "print(device_comparison[['device', 'device_share_A', 'device_share_B']])\n",
    "\n",
    "# Сравним распределение регионов между группами\n",
    "region_comparison = region_a.merge(region_b, on='region', suffixes=('_A', '_B'))\n",
    "print(\"\\nСравнение распределений регионов между группами:\")\n",
    "print(region_comparison[['region', 'region_share_A', 'region_share_B']])"
   ]
  },
  {
   "cell_type": "markdown",
   "metadata": {},
   "source": [
    "Распределение пользователей по устройствам и регионам в группах A и B достаточно равномерное, т.к доли в группах почти идентичны."
   ]
  },
  {
   "cell_type": "code",
   "execution_count": 25,
   "metadata": {},
   "outputs": [
    {
     "data": {
      "image/png": "[encoded data removed]",
      "text/plain": [
       "<Figure size 720x432 with 1 Axes>"
      ]
     },
     "metadata": {},
     "output_type": "display_data"
    },
    {
     "data": {
      "image/png": "[encoded data removed]",
      "text/plain": [
       "<Figure size 720x432 with 1 Axes>"
      ]
     },
     "metadata": {},
     "output_type": "display_data"
    }
   ],
   "source": [
    "# Группа A\n",
    "plt.figure(figsize=(10, 6))\n",
    "plt.pie(device_a['device_share'], labels=device_a['device'], autopct='%1.1f%%', startangle=90, colors=['b', 'g', 'y', 'r'])\n",
    "plt.title('Доля каждого типа устройства для пользователей из группы A')\n",
    "plt.ylabel('')\n",
    "plt.axis('equal')\n",
    "plt.show()\n",
    "\n",
    "# Группа B\n",
    "plt.figure(figsize=(10, 6))\n",
    "plt.pie(device_b['device_share'], labels=device_b['device'], autopct='%1.1f%%', startangle=90, colors=['b', 'g', 'y', 'r'])\n",
    "plt.title('Доля каждого типа устройства для пользователей из группы B')\n",
    "plt.ylabel('')\n",
    "plt.axis('equal')\n",
    "plt.show()"
   ]
  },
  {
   "cell_type": "markdown",
   "metadata": {
    "id": "gAgmP6vo0eM1"
   },
   "source": [
    "#### 3.4. Равномерность распределения пользователей по регионам\n",
    "Теперь убедитесь, что пользователи равномерно распределены по регионам.\n",
    "\n",
    "Постройте две диаграммы:\n",
    "\n",
    "- доля каждого региона для пользователей из группы A,\n",
    "\n",
    "- доля каждого региона для пользователей из группы B.\n",
    "\n",
    "Постарайтесь добавить на диаграммы все необходимые подписи, пояснения и заголовки, которые позволят сделать вывод о том, совпадает ли распределение регионов в группах A и B. Постарайтесь использовать другой тип диаграммы, не тот, что в прошлом задании.\n"
   ]
  },
  {
   "cell_type": "code",
   "execution_count": 26,
   "metadata": {},
   "outputs": [
    {
     "data": {
      "image/png": "[encoded data removed]",
      "text/plain": [
       "<Figure size 720x432 with 1 Axes>"
      ]
     },
     "metadata": {},
     "output_type": "display_data"
    },
    {
     "data": {
      "image/png": "[encoded data removed]",
      "text/plain": [
       "<Figure size 720x432 with 1 Axes>"
      ]
     },
     "metadata": {},
     "output_type": "display_data"
    }
   ],
   "source": [
    "# Группа A по регионам\n",
    "plt.figure(figsize=(10, 6))\n",
    "plt.pie(region_a['region_share'], labels=region_a['region'], autopct='%1.1f%%', startangle=90, colors=['b', 'g', 'y', 'r'])\n",
    "plt.title('Доля каждого региона для пользователей из группы A')\n",
    "plt.ylabel('')  # Убираем лишнюю метку с оси Y\n",
    "plt.axis('equal')  # Сохраняем круглый вид диаграммы\n",
    "plt.show()\n",
    "\n",
    "# Группа В по регионам\n",
    "plt.figure(figsize=(10, 6))\n",
    "plt.pie(region_b['region_share'], labels=region_b['region'], autopct='%1.1f%%', startangle=90, colors=['b', 'g', 'y', 'r'])\n",
    "plt.title('Доля каждого региона для пользователей из группы B')\n",
    "plt.ylabel('')  # Убираем лишнюю метку с оси Y\n",
    "plt.axis('equal')  # Сохраняем круглый вид диаграммы\n",
    "plt.show()"
   ]
  },
  {
   "cell_type": "markdown",
   "metadata": {
    "id": "X2WSZ-sDrSUi"
   },
   "source": [
    "#### 3.5. Вывод после проверки A/B-теста\n",
    "\n",
    "На основе проведённого анализа A/B-теста сформулируйте и запишите свои выводы. В выводе обязательно укажите:\n",
    "\n",
    "- Были ли обнаружено различие в количестве пользователей в двух группах.\n",
    "\n",
    "- Являются ли выборки независимыми. Было ли обнаружено пересечение пользователей из тестовой и контрольной групп.\n",
    "\n",
    "- Сохраняется ли равномерное распределение пользователей тестовой и контрольной групп по категориальным переменным: устройствам и регионам.\n",
    "\n",
    "Сделайте заключение о том, корректно ли проходит A/B-тест или наблюдаются какие-либо нарушения."
   ]
  },
  {
   "cell_type": "markdown",
   "metadata": {},
   "source": [
    "**Выводы:**\n",
    "\n",
    "1. Различие в количестве пользователей между группами A и B составляет около 0.75%, что указывает на то, что пользователи были равномерно распределены между группами и существенного различия в их количестве не наблюдается\n",
    "2. В ходе проверки независимости выборок мы не обнаружили пользователей, которые случайно попали в обе группы.\n",
    "3. Распределение пользователей по типам устройств в группах A и B почти идентично, с минимальными отклонениями в долях. \n",
    "4. Распределение пользователей по регионам в группах также оказалось схожим, с незначительными отклонениями в долях для каждого региона. \n",
    "\n",
    "**Итоговый вывод:**\n",
    "\n",
    "A/B-тест проходит корректно, его можно считать корректным для дальнейшего анализа и проведения"
   ]
  },
  {
   "cell_type": "markdown",
   "metadata": {
    "id": "nudRr_BQ0eM2"
   },
   "source": [
    "### 4. Проверка результатов A/B-теста\n",
    "\n",
    "A/B-тест завершён, и у вас есть результаты за все дни проведения эксперимента. Необходимо убедиться в корректности теста и верно интерпретировать результаты."
   ]
  },
  {
   "cell_type": "markdown",
   "metadata": {
    "id": "JVve-YBB0eM2"
   },
   "source": [
    "#### 4.1. Получение результатов теста и подсчёт основной метрики\n",
    "\n",
    "- Считайте и сохраните в датафрейм `sessions_test` CSV-файл с историческими данными о сессиях пользователей `sessions_project_test.csv`.\n",
    "\n",
    "- В датафрейме `sessions_test` создайте дополнительный столбец `good_session`. В него войдёт значение `1`, если за одну сессию было просмотрено 4 и более страниц, и значение `0`, если просмотрено меньше."
   ]
  },
  {
   "cell_type": "code",
   "execution_count": 27,
   "metadata": {
    "id": "EqRlwMtKPTir"
   },
   "outputs": [
    {
     "data": {
      "text/html": [
       "<div>\n",
       "<style scoped>\n",
       "    .dataframe tbody tr th:only-of-type {\n",
       "        vertical-align: middle;\n",
       "    }\n",
       "\n",
       "    .dataframe tbody tr th {\n",
       "        vertical-align: top;\n",
       "    }\n",
       "\n",
       "    .dataframe thead th {\n",
       "        text-align: right;\n",
       "    }\n",
       "</style>\n",
       "<table border=\"1\" class=\"dataframe\">\n",
       "  <thead>\n",
       "    <tr style=\"text-align: right;\">\n",
       "      <th></th>\n",
       "      <th>user_id</th>\n",
       "      <th>session_id</th>\n",
       "      <th>session_date</th>\n",
       "      <th>session_start_ts</th>\n",
       "      <th>install_date</th>\n",
       "      <th>session_number</th>\n",
       "      <th>registration_flag</th>\n",
       "      <th>page_counter</th>\n",
       "      <th>region</th>\n",
       "      <th>device</th>\n",
       "      <th>test_group</th>\n",
       "    </tr>\n",
       "  </thead>\n",
       "  <tbody>\n",
       "    <tr>\n",
       "      <th>0</th>\n",
       "      <td>6DAE3B3654DA738E</td>\n",
       "      <td>C69249E26E58F6E2</td>\n",
       "      <td>2025-10-26</td>\n",
       "      <td>2025-10-26 18:15:05</td>\n",
       "      <td>2025-10-16</td>\n",
       "      <td>3</td>\n",
       "      <td>0</td>\n",
       "      <td>3</td>\n",
       "      <td>MENA</td>\n",
       "      <td>Android</td>\n",
       "      <td>A</td>\n",
       "    </tr>\n",
       "    <tr>\n",
       "      <th>1</th>\n",
       "      <td>0A3FE5D1DD59110A</td>\n",
       "      <td>66D66D7C9F5181B7</td>\n",
       "      <td>2025-10-21</td>\n",
       "      <td>2025-10-21 17:04:53</td>\n",
       "      <td>2025-10-15</td>\n",
       "      <td>2</td>\n",
       "      <td>1</td>\n",
       "      <td>2</td>\n",
       "      <td>CIS</td>\n",
       "      <td>Android</td>\n",
       "      <td>B</td>\n",
       "    </tr>\n",
       "    <tr>\n",
       "      <th>2</th>\n",
       "      <td>2041F1D7AA740B88</td>\n",
       "      <td>50DE51D42215E74C</td>\n",
       "      <td>2025-10-23</td>\n",
       "      <td>2025-10-23 17:39:29</td>\n",
       "      <td>2025-10-19</td>\n",
       "      <td>3</td>\n",
       "      <td>0</td>\n",
       "      <td>2</td>\n",
       "      <td>MENA</td>\n",
       "      <td>Android</td>\n",
       "      <td>A</td>\n",
       "    </tr>\n",
       "    <tr>\n",
       "      <th>3</th>\n",
       "      <td>43D7585009168086</td>\n",
       "      <td>5763C0C353C22263</td>\n",
       "      <td>2025-10-24</td>\n",
       "      <td>2025-10-24 15:01:57</td>\n",
       "      <td>2025-10-18</td>\n",
       "      <td>4</td>\n",
       "      <td>0</td>\n",
       "      <td>1</td>\n",
       "      <td>CIS</td>\n",
       "      <td>iPhone</td>\n",
       "      <td>B</td>\n",
       "    </tr>\n",
       "    <tr>\n",
       "      <th>4</th>\n",
       "      <td>15AD68B14D62D88C</td>\n",
       "      <td>B1AD09F93C1053BC</td>\n",
       "      <td>2025-10-17</td>\n",
       "      <td>2025-10-17 17:34:39</td>\n",
       "      <td>2025-10-17</td>\n",
       "      <td>1</td>\n",
       "      <td>0</td>\n",
       "      <td>2</td>\n",
       "      <td>MENA</td>\n",
       "      <td>Android</td>\n",
       "      <td>B</td>\n",
       "    </tr>\n",
       "  </tbody>\n",
       "</table>\n",
       "</div>"
      ],
      "text/plain": [
       "            user_id        session_id session_date     session_start_ts  \\\n",
       "0  6DAE3B3654DA738E  C69249E26E58F6E2   2025-10-26  2025-10-26 18:15:05   \n",
       "1  0A3FE5D1DD59110A  66D66D7C9F5181B7   2025-10-21  2025-10-21 17:04:53   \n",
       "2  2041F1D7AA740B88  50DE51D42215E74C   2025-10-23  2025-10-23 17:39:29   \n",
       "3  43D7585009168086  5763C0C353C22263   2025-10-24  2025-10-24 15:01:57   \n",
       "4  15AD68B14D62D88C  B1AD09F93C1053BC   2025-10-17  2025-10-17 17:34:39   \n",
       "\n",
       "  install_date  session_number  registration_flag  page_counter region  \\\n",
       "0   2025-10-16               3                  0             3   MENA   \n",
       "1   2025-10-15               2                  1             2    CIS   \n",
       "2   2025-10-19               3                  0             2   MENA   \n",
       "3   2025-10-18               4                  0             1    CIS   \n",
       "4   2025-10-17               1                  0             2   MENA   \n",
       "\n",
       "    device test_group  \n",
       "0  Android          A  \n",
       "1  Android          B  \n",
       "2  Android          A  \n",
       "3   iPhone          B  \n",
       "4  Android          B  "
      ]
     },
     "execution_count": 27,
     "metadata": {},
     "output_type": "execute_result"
    }
   ],
   "source": [
    "sessions_test = pd.read_csv('https://code.s3.yandex.net/datasets/sessions_project_test.csv')\n",
    "sessions_test.head()"
   ]
  },
  {
   "cell_type": "code",
   "execution_count": 28,
   "metadata": {},
   "outputs": [
    {
     "data": {
      "text/html": [
       "<div>\n",
       "<style scoped>\n",
       "    .dataframe tbody tr th:only-of-type {\n",
       "        vertical-align: middle;\n",
       "    }\n",
       "\n",
       "    .dataframe tbody tr th {\n",
       "        vertical-align: top;\n",
       "    }\n",
       "\n",
       "    .dataframe thead th {\n",
       "        text-align: right;\n",
       "    }\n",
       "</style>\n",
       "<table border=\"1\" class=\"dataframe\">\n",
       "  <thead>\n",
       "    <tr style=\"text-align: right;\">\n",
       "      <th></th>\n",
       "      <th>user_id</th>\n",
       "      <th>session_id</th>\n",
       "      <th>session_date</th>\n",
       "      <th>session_start_ts</th>\n",
       "      <th>install_date</th>\n",
       "      <th>session_number</th>\n",
       "      <th>registration_flag</th>\n",
       "      <th>page_counter</th>\n",
       "      <th>region</th>\n",
       "      <th>device</th>\n",
       "      <th>test_group</th>\n",
       "      <th>good_session</th>\n",
       "    </tr>\n",
       "  </thead>\n",
       "  <tbody>\n",
       "    <tr>\n",
       "      <th>0</th>\n",
       "      <td>6DAE3B3654DA738E</td>\n",
       "      <td>C69249E26E58F6E2</td>\n",
       "      <td>2025-10-26</td>\n",
       "      <td>2025-10-26 18:15:05</td>\n",
       "      <td>2025-10-16</td>\n",
       "      <td>3</td>\n",
       "      <td>0</td>\n",
       "      <td>3</td>\n",
       "      <td>MENA</td>\n",
       "      <td>Android</td>\n",
       "      <td>A</td>\n",
       "      <td>0</td>\n",
       "    </tr>\n",
       "    <tr>\n",
       "      <th>1</th>\n",
       "      <td>0A3FE5D1DD59110A</td>\n",
       "      <td>66D66D7C9F5181B7</td>\n",
       "      <td>2025-10-21</td>\n",
       "      <td>2025-10-21 17:04:53</td>\n",
       "      <td>2025-10-15</td>\n",
       "      <td>2</td>\n",
       "      <td>1</td>\n",
       "      <td>2</td>\n",
       "      <td>CIS</td>\n",
       "      <td>Android</td>\n",
       "      <td>B</td>\n",
       "      <td>0</td>\n",
       "    </tr>\n",
       "    <tr>\n",
       "      <th>2</th>\n",
       "      <td>2041F1D7AA740B88</td>\n",
       "      <td>50DE51D42215E74C</td>\n",
       "      <td>2025-10-23</td>\n",
       "      <td>2025-10-23 17:39:29</td>\n",
       "      <td>2025-10-19</td>\n",
       "      <td>3</td>\n",
       "      <td>0</td>\n",
       "      <td>2</td>\n",
       "      <td>MENA</td>\n",
       "      <td>Android</td>\n",
       "      <td>A</td>\n",
       "      <td>0</td>\n",
       "    </tr>\n",
       "    <tr>\n",
       "      <th>3</th>\n",
       "      <td>43D7585009168086</td>\n",
       "      <td>5763C0C353C22263</td>\n",
       "      <td>2025-10-24</td>\n",
       "      <td>2025-10-24 15:01:57</td>\n",
       "      <td>2025-10-18</td>\n",
       "      <td>4</td>\n",
       "      <td>0</td>\n",
       "      <td>1</td>\n",
       "      <td>CIS</td>\n",
       "      <td>iPhone</td>\n",
       "      <td>B</td>\n",
       "      <td>0</td>\n",
       "    </tr>\n",
       "    <tr>\n",
       "      <th>4</th>\n",
       "      <td>15AD68B14D62D88C</td>\n",
       "      <td>B1AD09F93C1053BC</td>\n",
       "      <td>2025-10-17</td>\n",
       "      <td>2025-10-17 17:34:39</td>\n",
       "      <td>2025-10-17</td>\n",
       "      <td>1</td>\n",
       "      <td>0</td>\n",
       "      <td>2</td>\n",
       "      <td>MENA</td>\n",
       "      <td>Android</td>\n",
       "      <td>B</td>\n",
       "      <td>0</td>\n",
       "    </tr>\n",
       "  </tbody>\n",
       "</table>\n",
       "</div>"
      ],
      "text/plain": [
       "            user_id        session_id session_date     session_start_ts  \\\n",
       "0  6DAE3B3654DA738E  C69249E26E58F6E2   2025-10-26  2025-10-26 18:15:05   \n",
       "1  0A3FE5D1DD59110A  66D66D7C9F5181B7   2025-10-21  2025-10-21 17:04:53   \n",
       "2  2041F1D7AA740B88  50DE51D42215E74C   2025-10-23  2025-10-23 17:39:29   \n",
       "3  43D7585009168086  5763C0C353C22263   2025-10-24  2025-10-24 15:01:57   \n",
       "4  15AD68B14D62D88C  B1AD09F93C1053BC   2025-10-17  2025-10-17 17:34:39   \n",
       "\n",
       "  install_date  session_number  registration_flag  page_counter region  \\\n",
       "0   2025-10-16               3                  0             3   MENA   \n",
       "1   2025-10-15               2                  1             2    CIS   \n",
       "2   2025-10-19               3                  0             2   MENA   \n",
       "3   2025-10-18               4                  0             1    CIS   \n",
       "4   2025-10-17               1                  0             2   MENA   \n",
       "\n",
       "    device test_group  good_session  \n",
       "0  Android          A             0  \n",
       "1  Android          B             0  \n",
       "2  Android          A             0  \n",
       "3   iPhone          B             0  \n",
       "4  Android          B             0  "
      ]
     },
     "execution_count": 28,
     "metadata": {},
     "output_type": "execute_result"
    }
   ],
   "source": [
    "# Создаем дополнительный столбец good_session\n",
    "sessions_test['good_session'] = sessions_test['page_counter'].apply(lambda x: 1 if x >= 4 else 0)\n",
    "sessions_test.head()"
   ]
  },
  {
   "cell_type": "markdown",
   "metadata": {
    "id": "aeYhrMYy0eM2"
   },
   "source": [
    "#### 4.2. Проверка корректности результатов теста\n",
    "\n",
    "Прежде чем приступать к анализу ключевых продуктовых метрик, необходимо убедиться, что тест проведён корректно и вы будете сравнивать две сопоставимые группы.\n",
    "\n",
    "- Рассчитайте количество уникальных сессий для каждого дня и обеих тестовых групп, используя группировку.\n",
    "\n",
    "- Проверьте, что количество уникальных дневных сессий в двух выборках не различается или различия не статистически значимы. Используйте статистический тест, который позволит сделать вывод о равенстве средних двух выборок.\n",
    "\n",
    "- В качестве ответа выведите на экран полученное значение p-value и интерпретируйте его."
   ]
  },
  {
   "cell_type": "code",
   "execution_count": 29,
   "metadata": {
    "id": "5NUlcltkTTSU"
   },
   "outputs": [
    {
     "data": {
      "text/html": [
       "<div>\n",
       "<style scoped>\n",
       "    .dataframe tbody tr th:only-of-type {\n",
       "        vertical-align: middle;\n",
       "    }\n",
       "\n",
       "    .dataframe tbody tr th {\n",
       "        vertical-align: top;\n",
       "    }\n",
       "\n",
       "    .dataframe thead th {\n",
       "        text-align: right;\n",
       "    }\n",
       "</style>\n",
       "<table border=\"1\" class=\"dataframe\">\n",
       "  <thead>\n",
       "    <tr style=\"text-align: right;\">\n",
       "      <th></th>\n",
       "      <th>session_date</th>\n",
       "      <th>test_group</th>\n",
       "      <th>unique_sessions</th>\n",
       "    </tr>\n",
       "  </thead>\n",
       "  <tbody>\n",
       "    <tr>\n",
       "      <th>0</th>\n",
       "      <td>2025-10-14</td>\n",
       "      <td>A</td>\n",
       "      <td>1502</td>\n",
       "    </tr>\n",
       "    <tr>\n",
       "      <th>1</th>\n",
       "      <td>2025-10-14</td>\n",
       "      <td>B</td>\n",
       "      <td>1628</td>\n",
       "    </tr>\n",
       "    <tr>\n",
       "      <th>2</th>\n",
       "      <td>2025-10-15</td>\n",
       "      <td>A</td>\n",
       "      <td>2235</td>\n",
       "    </tr>\n",
       "    <tr>\n",
       "      <th>3</th>\n",
       "      <td>2025-10-15</td>\n",
       "      <td>B</td>\n",
       "      <td>2283</td>\n",
       "    </tr>\n",
       "    <tr>\n",
       "      <th>4</th>\n",
       "      <td>2025-10-16</td>\n",
       "      <td>A</td>\n",
       "      <td>3280</td>\n",
       "    </tr>\n",
       "  </tbody>\n",
       "</table>\n",
       "</div>"
      ],
      "text/plain": [
       "  session_date test_group  unique_sessions\n",
       "0   2025-10-14          A             1502\n",
       "1   2025-10-14          B             1628\n",
       "2   2025-10-15          A             2235\n",
       "3   2025-10-15          B             2283\n",
       "4   2025-10-16          A             3280"
      ]
     },
     "metadata": {},
     "output_type": "display_data"
    }
   ],
   "source": [
    "# Группируем по дате и группе, считаем уникальные сессии\n",
    "daily_sessions = sessions_test.groupby(['session_date', 'test_group'])['session_id'].nunique().reset_index(name='unique_sessions')\n",
    "\n",
    "display(daily_sessions.head())"
   ]
  },
  {
   "cell_type": "code",
   "execution_count": 30,
   "metadata": {},
   "outputs": [
    {
     "name": "stdout",
     "output_type": "stream",
     "text": [
      "t-statistic: -0.07802281548251853\n",
      "p-value: 0.938219304859116\n"
     ]
    }
   ],
   "source": [
    "from scipy.stats import ttest_ind\n",
    "\n",
    "# Разделим данные на две группы - A и B\n",
    "group_a_sessions = daily_sessions[daily_sessions['test_group'] == 'A']['unique_sessions']\n",
    "group_b_sessions = daily_sessions[daily_sessions['test_group'] == 'B']['unique_sessions']\n",
    "\n",
    "# Используем t-тест для независимых выборок\n",
    "t_stat, p_value = ttest_ind(group_a_sessions, group_b_sessions)\n",
    "\n",
    "print(f\"t-statistic: {t_stat}\")\n",
    "print(f\"p-value: {p_value}\")"
   ]
  },
  {
   "cell_type": "markdown",
   "metadata": {},
   "source": [
    "**Вывод:**\n",
    "\n",
    "1. p-value значительно выше порогового значения 0.05, что означает, что мы не отклоняем нулевую гипотезу (среднее количество уникальных сессий в группах A и B одинаково)\n",
    "\n",
    "2. Мы не можем утверждать, что количество уникальных сессий между группами A и B отличается, что говорит о том, что распределение сессий между группами является сопоставимым.\n",
    "\n",
    "3. Тест прошел корректно, и можно сделать вывод, что между группами A и B нет статистически значимого различия в количестве уникальных сессий. "
   ]
  },
  {
   "cell_type": "markdown",
   "metadata": {
    "id": "7kwRxzg70eM3"
   },
   "source": [
    "#### 4.3. Сравнение доли успешных сессий\n",
    "\n",
    "Когда вы убедились, что количество сессий в обеих выборках не различалось, можно переходить к анализу ключевой метрики — доли успешных сессий.\n",
    "\n",
    "Используйте созданный на первом шаге задания столбец `good_session` и рассчитайте долю успешных сессий для выборок A и B, а также разницу в этом показателе. Полученный вывод отобразите на экране."
   ]
  },
  {
   "cell_type": "code",
   "execution_count": 31,
   "metadata": {
    "id": "Uku-V1CpPRCz"
   },
   "outputs": [
    {
     "name": "stdout",
     "output_type": "stream",
     "text": [
      "Доля успешных сессий в группе A: 0.3077\n",
      "Доля успешных сессий в группе B: 0.3183\n",
      "Разница в доле успешных сессий между группами: 0.0106\n"
     ]
    }
   ],
   "source": [
    "# Рассчитаем долю успешных сессий для каждой группы\n",
    "success_rate_a = sessions_test[sessions_test['test_group'] == 'A']['good_session'].mean()\n",
    "success_rate_b = sessions_test[sessions_test['test_group'] == 'B']['good_session'].mean()\n",
    "\n",
    "# Разница между долями\n",
    "success_rate_difference = success_rate_b - success_rate_a\n",
    "\n",
    "print(f\"Доля успешных сессий в группе A: {success_rate_a:.4f}\")\n",
    "print(f\"Доля успешных сессий в группе B: {success_rate_b:.4f}\")\n",
    "print(f\"Разница в доле успешных сессий между группами: {success_rate_difference:.4f}\")"
   ]
  },
  {
   "cell_type": "markdown",
   "metadata": {
    "id": "9fMFuja10eM4"
   },
   "source": [
    "#### 4.4. Насколько статистически значимо изменение ключевой метрики\n",
    "\n",
    "На предыдущем шаге вы убедились, что количество успешных сессий в тестовой выборке примерно на 1.1% выше, чем в контрольной, но делать выводы только на основе этого значения будет некорректно. Для принятия решения всегда необходимо отвечать на вопрос: является ли это изменение статистически значимым.\n",
    "\n",
    "- Используя статистический тест, рассчитайте, является ли изменение в метрике доли успешных сессий статистически значимым.\n",
    "\n",
    "- Выведите на экран полученное значение p-value и свои выводы о статистической значимости. Напомним, что уровень значимости в эксперименте был выбран на уровне 0.05."
   ]
  },
  {
   "cell_type": "code",
   "execution_count": 32,
   "metadata": {
    "id": "gFvhRGwlPLS0"
   },
   "outputs": [
    {
     "name": "stdout",
     "output_type": "stream",
     "text": [
      "z-statistic: -3.602684259949491\n",
      "p-value: 0.0003149479976072246\n"
     ]
    }
   ],
   "source": [
    "import numpy as np\n",
    "from statsmodels.stats.proportion import proportions_ztest\n",
    "\n",
    "# Количество успешных сессий для каждой группы\n",
    "success_a = (sessions_test[sessions_test['test_group'] == 'A']['good_session']).sum()\n",
    "success_b = (sessions_test[sessions_test['test_group'] == 'B']['good_session']).sum()\n",
    "\n",
    "# Общее количество сессий в каждой группе\n",
    "n_a = len(sessions_test[sessions_test['test_group'] == 'A'])\n",
    "n_b = len(sessions_test[sessions_test['test_group'] == 'B'])\n",
    "\n",
    "# Выполним z-тест для двух пропорций\n",
    "count = np.array([success_a, success_b])\n",
    "nobs = np.array([n_a, n_b])\n",
    "z_stat, p_value = proportions_ztest(count, nobs)\n",
    "\n",
    "print(f\"z-statistic: {z_stat}\")\n",
    "print(f\"p-value: {p_value}\")"
   ]
  },
  {
   "cell_type": "markdown",
   "metadata": {},
   "source": [
    "**Выводы:**\n",
    "\n",
    "1. Поскольку p-value < 0.05, мы отклоняем нулевую гипотезу о равенстве долей успешных сессий в группах A и B\n",
    "2. Результаты показывают, что разница в успешных сессиях между группами A и B является статистически значимой и не произошла случайно."
   ]
  },
  {
   "cell_type": "markdown",
   "metadata": {
    "id": "GnJrkY9Q63zS"
   },
   "source": [
    "#### 4.5. Вывод по результатам A/B-эксперимента\n",
    "\n",
    "На основе проведённого анализа результатов теста сформулируйте и запишите свои выводы для команды разработки приложения. В выводе обязательно укажите:\n",
    "\n",
    "- Характеристики проведённого эксперимента, количество задействованных пользователей и длительность эксперимента.\n",
    "\n",
    "- Повлияло ли внедрение нового алгоритма рекомендаций на рост ключевой метрики и как.\n",
    "\n",
    "- Каким получилось значение p-value для оценки статистической значимости выявленного эффекта.\n",
    "\n",
    "- Стоит ли внедрять новоовведение в приложение."
   ]
  },
  {
   "cell_type": "markdown",
   "metadata": {},
   "source": [
    "**Итоговые выводы:**\n",
    "\n",
    "1. Характеристики проведённого эксперимента:\n",
    "- Эксперимент был проведен на двух группах пользователей (A и B), каждая из которых включала пользователей, сессии которых были проанализированы.\n",
    "- Длительность эксперимента составила 4 дня, и данные были собраны за весь период проведения A/B теста. Для каждой тестовой группы были рассчитаны метрики за все дни наблюдения.\n",
    "\n",
    "2. Влияние внедрения нового алгоритма рекомендаций на рост ключевой метрики:\n",
    "Внедрение нового алгоритма рекомендаций привело к увеличению доли успешных сессий в группе B (тестовая группа) на 1.06% по сравнению с контрольной группой (группа A). Это означает, что новый алгоритм рекомендаций оказался эффективным.\n",
    "\n",
    "3. Значение p-value для оценки статистической значимости выявленного эффекта:\n",
    "Мы провели z-тест для двух пропорций для оценки статистической значимости разницы в доле успешных сессий между группами A и B.\n",
    "Полученное p-value = 0.00031, что значительно меньше уровня значимости 0.05. Это означает, что разница между группами статистически значима, и внедрение нового алгоритма рекомендаций повлияло на рост ключевой метрики.\n",
    "\n",
    "4. Стоит ли внедрять нововведение в приложение?\n",
    "Можно сделать вывод, что новый алгоритм рекомендаций положительно влияет на ключевую метрику (долю успешных сессий).\n",
    "Разница в 1.06% не является очень большой, но при этом она статистически значима и свидетельствует о том, что алгоритм приносит улучшения.\n",
    "\n",
    "**На основе проведенного анализа можно рекомендовать внедрить алгоритм в основное приложение для дальнейшего улучшения пользовательского опыта и достижения целей проекта**"
   ]
  }
 ],
 "metadata": {
  "ExecuteTimeLog": [
   {
    "duration": 378,
    "start_time": "2025-03-06T15:42:10.317Z"
   },
   {
    "duration": 104,
    "start_time": "2025-03-06T15:43:33.922Z"
   },
   {
    "duration": 41,
    "start_time": "2025-03-06T15:44:27.905Z"
   },
   {
    "duration": 2100,
    "start_time": "2025-03-06T15:46:00.222Z"
   },
   {
    "duration": 1936,
    "start_time": "2025-03-06T15:46:03.029Z"
   },
   {
    "duration": 11,
    "start_time": "2025-03-06T15:46:26.976Z"
   },
   {
    "duration": 21,
    "start_time": "2025-03-06T15:46:34.765Z"
   },
   {
    "duration": 1693,
    "start_time": "2025-03-06T15:53:54.864Z"
   },
   {
    "duration": 15,
    "start_time": "2025-03-06T15:53:56.559Z"
   },
   {
    "duration": 15,
    "start_time": "2025-03-06T15:54:00.339Z"
   },
   {
    "duration": 423,
    "start_time": "2025-03-06T15:54:18.340Z"
   },
   {
    "duration": 1841,
    "start_time": "2025-03-06T15:54:19.443Z"
   },
   {
    "duration": 20,
    "start_time": "2025-03-06T15:54:22.058Z"
   },
   {
    "duration": 615,
    "start_time": "2025-03-06T15:57:27.478Z"
   },
   {
    "duration": 12,
    "start_time": "2025-03-06T15:57:59.986Z"
   },
   {
    "duration": 432,
    "start_time": "2025-03-06T16:13:49.345Z"
   },
   {
    "duration": 159,
    "start_time": "2025-03-06T16:14:45.754Z"
   },
   {
    "duration": 20,
    "start_time": "2025-03-06T16:14:51.989Z"
   },
   {
    "duration": 173,
    "start_time": "2025-03-06T16:16:31.242Z"
   },
   {
    "duration": 171,
    "start_time": "2025-03-06T16:17:20.804Z"
   },
   {
    "duration": 479,
    "start_time": "2025-03-06T16:25:03.447Z"
   },
   {
    "duration": 329,
    "start_time": "2025-03-06T16:26:38.559Z"
   },
   {
    "duration": 245,
    "start_time": "2025-03-06T16:30:02.367Z"
   },
   {
    "duration": 235,
    "start_time": "2025-03-06T16:31:25.915Z"
   },
   {
    "duration": 164,
    "start_time": "2025-03-06T16:31:40.506Z"
   },
   {
    "duration": 164,
    "start_time": "2025-03-06T16:31:56.424Z"
   },
   {
    "duration": 173,
    "start_time": "2025-03-06T16:32:07.401Z"
   },
   {
    "duration": 150,
    "start_time": "2025-03-06T16:33:52.228Z"
   },
   {
    "duration": 25,
    "start_time": "2025-03-06T16:34:53.855Z"
   },
   {
    "duration": 197,
    "start_time": "2025-03-06T16:36:13.052Z"
   },
   {
    "duration": 427,
    "start_time": "2025-03-06T16:38:47.379Z"
   },
   {
    "duration": 4,
    "start_time": "2025-03-06T16:42:55.558Z"
   },
   {
    "duration": 72,
    "start_time": "2025-03-06T16:46:15.371Z"
   },
   {
    "duration": 102,
    "start_time": "2025-03-06T16:46:59.868Z"
   },
   {
    "duration": 16,
    "start_time": "2025-03-06T16:47:31.573Z"
   },
   {
    "duration": 18,
    "start_time": "2025-03-06T16:50:36.429Z"
   },
   {
    "duration": 209,
    "start_time": "2025-03-06T16:53:05.135Z"
   },
   {
    "duration": 127,
    "start_time": "2025-03-06T16:55:59.983Z"
   },
   {
    "duration": 141,
    "start_time": "2025-03-06T16:59:23.609Z"
   },
   {
    "duration": 169,
    "start_time": "2025-03-06T17:00:28.492Z"
   },
   {
    "duration": 229,
    "start_time": "2025-03-06T17:01:12.223Z"
   },
   {
    "duration": 164,
    "start_time": "2025-03-06T17:01:23.309Z"
   },
   {
    "duration": 124,
    "start_time": "2025-03-06T17:11:23.548Z"
   },
   {
    "duration": 266,
    "start_time": "2025-03-06T17:23:49.598Z"
   },
   {
    "duration": 8,
    "start_time": "2025-03-06T17:28:05.384Z"
   },
   {
    "duration": 3,
    "start_time": "2025-03-06T17:32:09.213Z"
   },
   {
    "duration": 10,
    "start_time": "2025-03-06T17:32:23.115Z"
   },
   {
    "duration": 6,
    "start_time": "2025-03-06T17:32:38.894Z"
   },
   {
    "duration": 33,
    "start_time": "2025-03-06T17:45:07.813Z"
   },
   {
    "duration": 152,
    "start_time": "2025-03-06T17:51:19.617Z"
   },
   {
    "duration": 145,
    "start_time": "2025-03-06T17:51:45.509Z"
   },
   {
    "duration": 133,
    "start_time": "2025-03-06T17:55:39.511Z"
   },
   {
    "duration": 277,
    "start_time": "2025-03-06T17:59:03.241Z"
   },
   {
    "duration": 293,
    "start_time": "2025-03-06T17:59:25.860Z"
   },
   {
    "duration": 437,
    "start_time": "2025-03-07T06:32:16.654Z"
   },
   {
    "duration": 1939,
    "start_time": "2025-03-07T06:32:17.670Z"
   },
   {
    "duration": 25,
    "start_time": "2025-03-07T06:32:20.698Z"
   },
   {
    "duration": 719,
    "start_time": "2025-03-07T06:32:24.993Z"
   },
   {
    "duration": 638,
    "start_time": "2025-03-07T06:32:29.694Z"
   },
   {
    "duration": 12,
    "start_time": "2025-03-07T06:32:33.434Z"
   },
   {
    "duration": 447,
    "start_time": "2025-03-07T06:32:38.790Z"
   },
   {
    "duration": 170,
    "start_time": "2025-03-07T06:32:40.102Z"
   },
   {
    "duration": 194,
    "start_time": "2025-03-07T06:32:41.944Z"
   },
   {
    "duration": 4,
    "start_time": "2025-03-07T06:32:53.999Z"
   },
   {
    "duration": 244,
    "start_time": "2025-03-07T06:54:40.827Z"
   },
   {
    "duration": 388,
    "start_time": "2025-03-07T06:54:54.889Z"
   },
   {
    "duration": 2279,
    "start_time": "2025-03-07T06:54:55.492Z"
   },
   {
    "duration": 24,
    "start_time": "2025-03-07T06:54:57.772Z"
   },
   {
    "duration": 648,
    "start_time": "2025-03-07T06:55:05.786Z"
   },
   {
    "duration": 13,
    "start_time": "2025-03-07T06:55:09.814Z"
   },
   {
    "duration": 251,
    "start_time": "2025-03-07T06:55:13.584Z"
   },
   {
    "duration": 122,
    "start_time": "2025-03-07T06:55:14.465Z"
   },
   {
    "duration": 212,
    "start_time": "2025-03-07T06:55:15.462Z"
   },
   {
    "duration": 455,
    "start_time": "2025-03-07T06:55:18.818Z"
   },
   {
    "duration": 361,
    "start_time": "2025-03-07T06:55:22.486Z"
   },
   {
    "duration": 277,
    "start_time": "2025-03-07T06:55:26.330Z"
   },
   {
    "duration": 170,
    "start_time": "2025-03-07T06:55:29.072Z"
   },
   {
    "duration": 85,
    "start_time": "2025-03-07T07:05:50.372Z"
   },
   {
    "duration": 444,
    "start_time": "2025-03-07T07:19:49.238Z"
   },
   {
    "duration": 1858,
    "start_time": "2025-03-07T07:19:50.137Z"
   },
   {
    "duration": 31,
    "start_time": "2025-03-07T07:19:51.997Z"
   },
   {
    "duration": 625,
    "start_time": "2025-03-07T07:19:54.783Z"
   },
   {
    "duration": 12,
    "start_time": "2025-03-07T07:19:56.119Z"
   },
   {
    "duration": 247,
    "start_time": "2025-03-07T07:19:58.253Z"
   },
   {
    "duration": 121,
    "start_time": "2025-03-07T07:19:58.876Z"
   },
   {
    "duration": 194,
    "start_time": "2025-03-07T07:19:59.517Z"
   },
   {
    "duration": 451,
    "start_time": "2025-03-07T07:20:00.311Z"
   },
   {
    "duration": 352,
    "start_time": "2025-03-07T07:20:01.632Z"
   },
   {
    "duration": 257,
    "start_time": "2025-03-07T07:20:04.080Z"
   },
   {
    "duration": 164,
    "start_time": "2025-03-07T07:20:04.699Z"
   },
   {
    "duration": 142,
    "start_time": "2025-03-07T07:20:06.751Z"
   },
   {
    "duration": 25,
    "start_time": "2025-03-07T07:20:07.527Z"
   },
   {
    "duration": 183,
    "start_time": "2025-03-07T07:20:09.604Z"
   },
   {
    "duration": 502,
    "start_time": "2025-03-07T07:20:13.405Z"
   },
   {
    "duration": 5,
    "start_time": "2025-03-07T07:20:15.655Z"
   },
   {
    "duration": 127,
    "start_time": "2025-03-07T08:57:39.054Z"
   },
   {
    "duration": 16,
    "start_time": "2025-03-07T08:57:40.605Z"
   },
   {
    "duration": 19,
    "start_time": "2025-03-07T08:57:41.853Z"
   },
   {
    "duration": 284,
    "start_time": "2025-03-07T08:58:30.804Z"
   },
   {
    "duration": 291,
    "start_time": "2025-03-07T09:14:38.055Z"
   },
   {
    "duration": 113,
    "start_time": "2025-03-07T09:15:44.229Z"
   },
   {
    "duration": 249,
    "start_time": "2025-03-07T09:21:07.765Z"
   },
   {
    "duration": 313,
    "start_time": "2025-03-07T09:22:55.172Z"
   },
   {
    "duration": 770,
    "start_time": "2025-03-07T09:23:46.422Z"
   },
   {
    "duration": 752,
    "start_time": "2025-03-07T09:26:57.188Z"
   },
   {
    "duration": 434,
    "start_time": "2025-03-07T09:27:45.436Z"
   },
   {
    "duration": 327,
    "start_time": "2025-03-07T09:29:12.064Z"
   },
   {
    "duration": 420,
    "start_time": "2025-03-07T09:29:43.687Z"
   },
   {
    "duration": 2017,
    "start_time": "2025-03-07T09:29:44.667Z"
   },
   {
    "duration": 22,
    "start_time": "2025-03-07T09:29:47.690Z"
   },
   {
    "duration": 598,
    "start_time": "2025-03-07T09:29:51.925Z"
   },
   {
    "duration": 13,
    "start_time": "2025-03-07T09:29:54.323Z"
   },
   {
    "duration": 267,
    "start_time": "2025-03-07T09:29:56.714Z"
   },
   {
    "duration": 119,
    "start_time": "2025-03-07T09:29:57.870Z"
   },
   {
    "duration": 182,
    "start_time": "2025-03-07T09:29:59.277Z"
   },
   {
    "duration": 456,
    "start_time": "2025-03-07T09:30:00.297Z"
   },
   {
    "duration": 353,
    "start_time": "2025-03-07T09:30:06.937Z"
   },
   {
    "duration": 271,
    "start_time": "2025-03-07T09:30:13.612Z"
   },
   {
    "duration": 167,
    "start_time": "2025-03-07T09:30:14.811Z"
   },
   {
    "duration": 143,
    "start_time": "2025-03-07T09:30:18.286Z"
   },
   {
    "duration": 24,
    "start_time": "2025-03-07T09:30:18.884Z"
   },
   {
    "duration": 184,
    "start_time": "2025-03-07T09:30:19.734Z"
   },
   {
    "duration": 472,
    "start_time": "2025-03-07T09:30:22.321Z"
   },
   {
    "duration": 5,
    "start_time": "2025-03-07T09:30:24.513Z"
   },
   {
    "duration": 61,
    "start_time": "2025-03-07T09:30:27.801Z"
   },
   {
    "duration": 16,
    "start_time": "2025-03-07T09:30:29.955Z"
   },
   {
    "duration": 16,
    "start_time": "2025-03-07T09:30:30.616Z"
   },
   {
    "duration": 952,
    "start_time": "2025-03-07T09:31:59.676Z"
   },
   {
    "duration": 322,
    "start_time": "2025-03-07T09:32:41.753Z"
   },
   {
    "duration": 337,
    "start_time": "2025-03-07T09:35:10.817Z"
   },
   {
    "duration": 329,
    "start_time": "2025-03-07T09:37:46.947Z"
   },
   {
    "duration": 360,
    "start_time": "2025-03-07T09:40:17.605Z"
   },
   {
    "duration": 8,
    "start_time": "2025-03-07T09:44:28.764Z"
   },
   {
    "duration": 108,
    "start_time": "2025-03-07T11:08:29.384Z"
   },
   {
    "duration": 204,
    "start_time": "2025-03-07T11:14:26.395Z"
   },
   {
    "duration": 191,
    "start_time": "2025-03-07T11:15:40.459Z"
   },
   {
    "duration": 214,
    "start_time": "2025-03-07T11:19:15.128Z"
   },
   {
    "duration": 377,
    "start_time": "2025-03-07T18:45:20.808Z"
   },
   {
    "duration": 2012,
    "start_time": "2025-03-07T18:45:21.188Z"
   },
   {
    "duration": 74,
    "start_time": "2025-03-07T18:45:23.202Z"
   },
   {
    "duration": 1197,
    "start_time": "2025-03-07T18:45:23.279Z"
   },
   {
    "duration": 14,
    "start_time": "2025-03-07T18:45:24.479Z"
   },
   {
    "duration": 972,
    "start_time": "2025-03-07T18:45:24.495Z"
   },
   {
    "duration": 435,
    "start_time": "2025-03-07T18:45:25.470Z"
   },
   {
    "duration": 430,
    "start_time": "2025-03-07T18:45:25.964Z"
   },
   {
    "duration": 1365,
    "start_time": "2025-03-07T18:45:26.396Z"
   },
   {
    "duration": 925,
    "start_time": "2025-03-07T18:45:27.764Z"
   },
   {
    "duration": 719,
    "start_time": "2025-03-07T18:45:28.763Z"
   },
   {
    "duration": 483,
    "start_time": "2025-03-07T18:45:29.484Z"
   },
   {
    "duration": 394,
    "start_time": "2025-03-07T18:45:29.970Z"
   },
   {
    "duration": 96,
    "start_time": "2025-03-07T18:45:30.368Z"
   },
   {
    "duration": 999,
    "start_time": "2025-03-07T18:45:30.466Z"
   },
   {
    "duration": 1020,
    "start_time": "2025-03-07T18:45:31.467Z"
   },
   {
    "duration": 75,
    "start_time": "2025-03-07T18:45:32.489Z"
   },
   {
    "duration": 203,
    "start_time": "2025-03-07T18:45:32.566Z"
   },
   {
    "duration": 18,
    "start_time": "2025-03-07T18:45:32.771Z"
   },
   {
    "duration": 28,
    "start_time": "2025-03-07T18:45:32.861Z"
   },
   {
    "duration": 1183,
    "start_time": "2025-03-07T18:45:32.891Z"
   },
   {
    "duration": 10,
    "start_time": "2025-03-07T18:45:34.076Z"
   },
   {
    "duration": 191,
    "start_time": "2025-03-07T18:45:34.088Z"
   },
   {
    "duration": 989,
    "start_time": "2025-03-07T18:45:34.282Z"
   },
   {
    "duration": 1111,
    "start_time": "2025-03-07T18:45:35.273Z"
   },
   {
    "duration": 1195,
    "start_time": "2025-03-07T18:45:36.386Z"
   },
   {
    "duration": 188,
    "start_time": "2025-03-07T18:45:37.584Z"
   },
   {
    "duration": 117,
    "start_time": "2025-03-07T18:45:37.776Z"
   },
   {
    "duration": 72,
    "start_time": "2025-03-07T18:45:37.894Z"
   },
   {
    "duration": 613,
    "start_time": "2025-03-07T18:45:37.968Z"
   },
   {
    "duration": 291,
    "start_time": "2025-03-07T18:45:38.583Z"
   },
   {
    "duration": 449,
    "start_time": "2025-03-07T19:16:46.992Z"
   },
   {
    "duration": 2049,
    "start_time": "2025-03-07T19:16:47.443Z"
   },
   {
    "duration": 22,
    "start_time": "2025-03-07T19:16:49.494Z"
   },
   {
    "duration": 659,
    "start_time": "2025-03-07T19:16:49.518Z"
   },
   {
    "duration": 15,
    "start_time": "2025-03-07T19:16:50.179Z"
   },
   {
    "duration": 392,
    "start_time": "2025-03-07T19:16:50.196Z"
   },
   {
    "duration": 137,
    "start_time": "2025-03-07T19:16:50.590Z"
   },
   {
    "duration": 191,
    "start_time": "2025-03-07T19:16:50.728Z"
   },
   {
    "duration": 482,
    "start_time": "2025-03-07T19:16:50.922Z"
   },
   {
    "duration": 450,
    "start_time": "2025-03-07T19:16:51.406Z"
   },
   {
    "duration": 304,
    "start_time": "2025-03-07T19:16:51.858Z"
   },
   {
    "duration": 216,
    "start_time": "2025-03-07T19:16:52.165Z"
   },
   {
    "duration": 160,
    "start_time": "2025-03-07T19:16:52.383Z"
   },
   {
    "duration": 33,
    "start_time": "2025-03-07T19:16:52.547Z"
   },
   {
    "duration": 217,
    "start_time": "2025-03-07T19:16:52.582Z"
   },
   {
    "duration": 494,
    "start_time": "2025-03-07T19:16:52.801Z"
   },
   {
    "duration": 6,
    "start_time": "2025-03-07T19:16:53.297Z"
   },
   {
    "duration": 374,
    "start_time": "2025-03-07T19:16:53.305Z"
   },
   {
    "duration": 18,
    "start_time": "2025-03-07T19:16:53.682Z"
   },
   {
    "duration": 74,
    "start_time": "2025-03-07T19:16:53.702Z"
   },
   {
    "duration": 367,
    "start_time": "2025-03-07T19:16:53.778Z"
   },
   {
    "duration": 15,
    "start_time": "2025-03-07T19:16:54.148Z"
   },
   {
    "duration": 144,
    "start_time": "2025-03-07T19:16:54.165Z"
   },
   {
    "duration": 264,
    "start_time": "2025-03-07T19:16:54.312Z"
   },
   {
    "duration": 217,
    "start_time": "2025-03-07T19:16:54.579Z"
   },
   {
    "duration": 570,
    "start_time": "2025-03-07T19:16:54.798Z"
   },
   {
    "duration": 46,
    "start_time": "2025-03-07T19:16:55.370Z"
   },
   {
    "duration": 73,
    "start_time": "2025-03-07T19:16:55.418Z"
   },
   {
    "duration": 8,
    "start_time": "2025-03-07T19:16:55.494Z"
   },
   {
    "duration": 46,
    "start_time": "2025-03-07T19:16:55.504Z"
   },
   {
    "duration": 154,
    "start_time": "2025-03-07T19:16:55.562Z"
   },
   {
    "duration": 442,
    "start_time": "2025-03-07T19:20:03.023Z"
   },
   {
    "duration": 1839,
    "start_time": "2025-03-07T19:20:03.467Z"
   },
   {
    "duration": 21,
    "start_time": "2025-03-07T19:20:05.307Z"
   },
   {
    "duration": 871,
    "start_time": "2025-03-07T19:20:05.330Z"
   },
   {
    "duration": 13,
    "start_time": "2025-03-07T19:20:06.203Z"
   },
   {
    "duration": 441,
    "start_time": "2025-03-07T19:20:06.263Z"
   },
   {
    "duration": 131,
    "start_time": "2025-03-07T19:20:06.706Z"
   },
   {
    "duration": 286,
    "start_time": "2025-03-07T19:20:06.839Z"
   },
   {
    "duration": 493,
    "start_time": "2025-03-07T19:20:07.127Z"
   },
   {
    "duration": 348,
    "start_time": "2025-03-07T19:20:07.623Z"
   },
   {
    "duration": 258,
    "start_time": "2025-03-07T19:20:07.972Z"
   },
   {
    "duration": 180,
    "start_time": "2025-03-07T19:20:08.232Z"
   },
   {
    "duration": 151,
    "start_time": "2025-03-07T19:20:08.413Z"
   },
   {
    "duration": 23,
    "start_time": "2025-03-07T19:20:08.565Z"
   },
   {
    "duration": 393,
    "start_time": "2025-03-07T19:20:08.590Z"
   },
   {
    "duration": 519,
    "start_time": "2025-03-07T19:20:08.988Z"
   },
   {
    "duration": 7,
    "start_time": "2025-03-07T19:20:09.510Z"
   },
   {
    "duration": 97,
    "start_time": "2025-03-07T19:20:09.519Z"
   },
   {
    "duration": 13,
    "start_time": "2025-03-07T19:20:09.618Z"
   },
   {
    "duration": 17,
    "start_time": "2025-03-07T19:20:09.633Z"
   },
   {
    "duration": 348,
    "start_time": "2025-03-07T19:20:09.652Z"
   },
   {
    "duration": 8,
    "start_time": "2025-03-07T19:20:10.001Z"
   },
   {
    "duration": 123,
    "start_time": "2025-03-07T19:20:10.011Z"
   },
   {
    "duration": 211,
    "start_time": "2025-03-07T19:20:10.136Z"
   },
   {
    "duration": 200,
    "start_time": "2025-03-07T19:20:10.349Z"
   },
   {
    "duration": 444,
    "start_time": "2025-03-07T19:20:10.551Z"
   },
   {
    "duration": 47,
    "start_time": "2025-03-07T19:20:10.998Z"
   },
   {
    "duration": 58,
    "start_time": "2025-03-07T19:20:11.048Z"
   },
   {
    "duration": 6,
    "start_time": "2025-03-07T19:20:11.108Z"
   },
   {
    "duration": 58,
    "start_time": "2025-03-07T19:20:11.116Z"
   },
   {
    "duration": 155,
    "start_time": "2025-03-07T19:20:11.177Z"
   },
   {
    "duration": 383,
    "start_time": "2025-03-09T14:01:15.701Z"
   },
   {
    "duration": 2066,
    "start_time": "2025-03-09T14:01:16.113Z"
   },
   {
    "duration": 24,
    "start_time": "2025-03-09T14:01:18.181Z"
   },
   {
    "duration": 585,
    "start_time": "2025-03-09T14:01:23.061Z"
   },
   {
    "duration": 11,
    "start_time": "2025-03-09T14:01:25.694Z"
   },
   {
    "duration": 423,
    "start_time": "2025-03-09T14:01:49.466Z"
   },
   {
    "duration": 160,
    "start_time": "2025-03-09T14:01:50.335Z"
   },
   {
    "duration": 173,
    "start_time": "2025-03-09T14:01:51.375Z"
   },
   {
    "duration": 511,
    "start_time": "2025-03-09T14:02:03.004Z"
   },
   {
    "duration": 367,
    "start_time": "2025-03-09T14:02:04.321Z"
   },
   {
    "duration": 237,
    "start_time": "2025-03-09T14:02:13.585Z"
   },
   {
    "duration": 173,
    "start_time": "2025-03-09T14:02:14.247Z"
   },
   {
    "duration": 149,
    "start_time": "2025-03-09T14:02:22.813Z"
   },
   {
    "duration": 26,
    "start_time": "2025-03-09T14:02:30.281Z"
   },
   {
    "duration": 263,
    "start_time": "2025-03-09T14:02:31.015Z"
   },
   {
    "duration": 437,
    "start_time": "2025-03-09T14:02:47.896Z"
   },
   {
    "duration": 5,
    "start_time": "2025-03-09T14:08:08.263Z"
   },
   {
    "duration": 98,
    "start_time": "2025-03-09T14:11:04.950Z"
   },
   {
    "duration": 14,
    "start_time": "2025-03-09T14:11:06.647Z"
   },
   {
    "duration": 15,
    "start_time": "2025-03-09T14:11:07.440Z"
   },
   {
    "duration": 337,
    "start_time": "2025-03-09T14:11:08.331Z"
   },
   {
    "duration": 8,
    "start_time": "2025-03-09T14:11:23.264Z"
   },
   {
    "duration": 33,
    "start_time": "2025-03-09T14:11:30.598Z"
   },
   {
    "duration": 210,
    "start_time": "2025-03-09T14:11:41.000Z"
   },
   {
    "duration": 300,
    "start_time": "2025-03-09T14:11:42.691Z"
   },
   {
    "duration": 621,
    "start_time": "2025-03-09T14:12:00.011Z"
   },
   {
    "duration": 42,
    "start_time": "2025-03-09T14:12:01.089Z"
   },
   {
    "duration": 46,
    "start_time": "2025-03-09T14:12:08.140Z"
   },
   {
    "duration": 7,
    "start_time": "2025-03-09T14:12:09.111Z"
   },
   {
    "duration": 34,
    "start_time": "2025-03-09T14:12:15.422Z"
   },
   {
    "duration": 62,
    "start_time": "2025-03-09T14:12:20.000Z"
   },
   {
    "duration": 394,
    "start_time": "2025-03-09T14:18:16.096Z"
   },
   {
    "duration": 2085,
    "start_time": "2025-03-09T14:18:17.203Z"
   },
   {
    "duration": 22,
    "start_time": "2025-03-09T14:18:19.290Z"
   },
   {
    "duration": 633,
    "start_time": "2025-03-09T14:18:22.720Z"
   },
   {
    "duration": 13,
    "start_time": "2025-03-09T14:18:26.783Z"
   },
   {
    "duration": 271,
    "start_time": "2025-03-09T14:18:30.068Z"
   },
   {
    "duration": 125,
    "start_time": "2025-03-09T14:18:30.922Z"
   },
   {
    "duration": 196,
    "start_time": "2025-03-09T14:18:31.959Z"
   },
   {
    "duration": 446,
    "start_time": "2025-03-09T14:18:35.391Z"
   },
   {
    "duration": 371,
    "start_time": "2025-03-09T14:18:38.299Z"
   },
   {
    "duration": 260,
    "start_time": "2025-03-09T14:18:42.896Z"
   },
   {
    "duration": 176,
    "start_time": "2025-03-09T14:18:44.368Z"
   },
   {
    "duration": 147,
    "start_time": "2025-03-09T14:18:47.755Z"
   },
   {
    "duration": 22,
    "start_time": "2025-03-09T14:18:50.602Z"
   },
   {
    "duration": 192,
    "start_time": "2025-03-09T14:18:53.318Z"
   },
   {
    "duration": 492,
    "start_time": "2025-03-09T14:18:57.345Z"
   },
   {
    "duration": 6,
    "start_time": "2025-03-09T14:19:01.982Z"
   },
   {
    "duration": 66,
    "start_time": "2025-03-09T14:19:05.684Z"
   },
   {
    "duration": 12,
    "start_time": "2025-03-09T14:19:06.679Z"
   },
   {
    "duration": 17,
    "start_time": "2025-03-09T14:19:07.694Z"
   },
   {
    "duration": 8,
    "start_time": "2025-03-09T14:19:18.478Z"
   },
   {
    "duration": 402,
    "start_time": "2025-03-09T14:19:32.980Z"
   },
   {
    "duration": 1957,
    "start_time": "2025-03-09T14:19:35.077Z"
   },
   {
    "duration": 23,
    "start_time": "2025-03-09T14:19:37.865Z"
   },
   {
    "duration": 659,
    "start_time": "2025-03-09T14:19:42.646Z"
   },
   {
    "duration": 12,
    "start_time": "2025-03-09T14:19:47.331Z"
   },
   {
    "duration": 259,
    "start_time": "2025-03-09T14:19:50.978Z"
   },
   {
    "duration": 129,
    "start_time": "2025-03-09T14:19:51.994Z"
   },
   {
    "duration": 185,
    "start_time": "2025-03-09T14:19:53.329Z"
   },
   {
    "duration": 458,
    "start_time": "2025-03-09T14:19:58.629Z"
   },
   {
    "duration": 413,
    "start_time": "2025-03-09T14:20:57.373Z"
   },
   {
    "duration": 3080,
    "start_time": "2025-03-09T14:20:58.854Z"
   },
   {
    "duration": 22,
    "start_time": "2025-03-09T14:21:02.627Z"
   },
   {
    "duration": 640,
    "start_time": "2025-03-09T14:21:05.412Z"
   },
   {
    "duration": 19,
    "start_time": "2025-03-09T14:21:08.829Z"
   },
   {
    "duration": 246,
    "start_time": "2025-03-09T14:21:11.948Z"
   },
   {
    "duration": 131,
    "start_time": "2025-03-09T14:21:12.862Z"
   },
   {
    "duration": 180,
    "start_time": "2025-03-09T14:21:14.372Z"
   },
   {
    "duration": 463,
    "start_time": "2025-03-09T14:21:17.957Z"
   },
   {
    "duration": 370,
    "start_time": "2025-03-09T14:21:21.914Z"
   },
   {
    "duration": 244,
    "start_time": "2025-03-09T14:21:26.253Z"
   },
   {
    "duration": 183,
    "start_time": "2025-03-09T14:21:27.666Z"
   },
   {
    "duration": 152,
    "start_time": "2025-03-09T14:21:31.725Z"
   },
   {
    "duration": 25,
    "start_time": "2025-03-09T14:21:34.283Z"
   },
   {
    "duration": 184,
    "start_time": "2025-03-09T14:21:37.023Z"
   },
   {
    "duration": 508,
    "start_time": "2025-03-09T14:21:40.908Z"
   },
   {
    "duration": 8,
    "start_time": "2025-03-09T14:21:44.700Z"
   },
   {
    "duration": 107,
    "start_time": "2025-03-09T14:21:49.187Z"
   },
   {
    "duration": 13,
    "start_time": "2025-03-09T14:21:50.186Z"
   },
   {
    "duration": 16,
    "start_time": "2025-03-09T14:21:51.150Z"
   },
   {
    "duration": 348,
    "start_time": "2025-03-09T14:21:56.312Z"
   },
   {
    "duration": 9,
    "start_time": "2025-03-09T14:22:00.670Z"
   },
   {
    "duration": 33,
    "start_time": "2025-03-09T14:22:04.316Z"
   },
   {
    "duration": 216,
    "start_time": "2025-03-09T14:22:07.376Z"
   },
   {
    "duration": 196,
    "start_time": "2025-03-09T14:22:10.247Z"
   },
   {
    "duration": 1285,
    "start_time": "2025-03-09T14:22:17.187Z"
   },
   {
    "duration": 45,
    "start_time": "2025-03-09T14:22:18.473Z"
   },
   {
    "duration": 48,
    "start_time": "2025-03-09T14:22:22.605Z"
   },
   {
    "duration": 7,
    "start_time": "2025-03-09T14:22:23.350Z"
   },
   {
    "duration": 36,
    "start_time": "2025-03-09T14:22:26.867Z"
   },
   {
    "duration": 126,
    "start_time": "2025-03-09T14:22:29.358Z"
   },
   {
    "duration": 386,
    "start_time": "2025-03-09T18:16:28.386Z"
   },
   {
    "duration": 1825,
    "start_time": "2025-03-09T18:16:28.774Z"
   },
   {
    "duration": 20,
    "start_time": "2025-03-09T18:16:30.601Z"
   },
   {
    "duration": 579,
    "start_time": "2025-03-09T18:16:30.623Z"
   },
   {
    "duration": 12,
    "start_time": "2025-03-09T18:16:31.205Z"
   },
   {
    "duration": 423,
    "start_time": "2025-03-09T18:16:31.219Z"
   },
   {
    "duration": 162,
    "start_time": "2025-03-09T18:16:31.644Z"
   },
   {
    "duration": 174,
    "start_time": "2025-03-09T18:16:31.808Z"
   },
   {
    "duration": 463,
    "start_time": "2025-03-09T18:16:31.984Z"
   },
   {
    "duration": 326,
    "start_time": "2025-03-09T18:16:32.449Z"
   },
   {
    "duration": 246,
    "start_time": "2025-03-09T18:16:32.777Z"
   },
   {
    "duration": 176,
    "start_time": "2025-03-09T18:16:33.024Z"
   },
   {
    "duration": 145,
    "start_time": "2025-03-09T18:16:33.202Z"
   },
   {
    "duration": 26,
    "start_time": "2025-03-09T18:16:33.350Z"
   },
   {
    "duration": 241,
    "start_time": "2025-03-09T18:16:33.378Z"
   },
   {
    "duration": 454,
    "start_time": "2025-03-09T18:16:33.620Z"
   },
   {
    "duration": 3,
    "start_time": "2025-03-09T18:16:34.075Z"
   },
   {
    "duration": 41,
    "start_time": "2025-03-09T18:16:34.079Z"
   },
   {
    "duration": 82,
    "start_time": "2025-03-09T18:16:34.121Z"
   },
   {
    "duration": 12,
    "start_time": "2025-03-09T18:16:34.205Z"
   },
   {
    "duration": 72,
    "start_time": "2025-03-09T18:16:34.218Z"
   },
   {
    "duration": 361,
    "start_time": "2025-03-09T18:16:34.292Z"
   },
   {
    "duration": 12,
    "start_time": "2025-03-09T18:16:34.655Z"
   },
   {
    "duration": 37,
    "start_time": "2025-03-09T18:16:34.669Z"
   },
   {
    "duration": 227,
    "start_time": "2025-03-09T18:16:34.707Z"
   },
   {
    "duration": 255,
    "start_time": "2025-03-09T18:16:34.936Z"
   },
   {
    "duration": 500,
    "start_time": "2025-03-09T18:16:35.192Z"
   },
   {
    "duration": 40,
    "start_time": "2025-03-09T18:16:35.694Z"
   },
   {
    "duration": 65,
    "start_time": "2025-03-09T18:16:35.735Z"
   },
   {
    "duration": 31,
    "start_time": "2025-03-09T18:16:35.801Z"
   },
   {
    "duration": 43,
    "start_time": "2025-03-09T18:16:35.833Z"
   },
   {
    "duration": 63,
    "start_time": "2025-03-09T18:16:35.878Z"
   },
   {
    "duration": 409,
    "start_time": "2025-03-09T18:21:12.554Z"
   },
   {
    "duration": 1716,
    "start_time": "2025-03-09T18:21:12.968Z"
   },
   {
    "duration": 21,
    "start_time": "2025-03-09T18:21:14.688Z"
   },
   {
    "duration": 589,
    "start_time": "2025-03-09T18:21:14.712Z"
   },
   {
    "duration": 13,
    "start_time": "2025-03-09T18:21:15.303Z"
   },
   {
    "duration": 238,
    "start_time": "2025-03-09T18:21:15.318Z"
   },
   {
    "duration": 133,
    "start_time": "2025-03-09T18:21:15.558Z"
   },
   {
    "duration": 198,
    "start_time": "2025-03-09T18:21:15.693Z"
   },
   {
    "duration": 427,
    "start_time": "2025-03-09T18:21:15.893Z"
   },
   {
    "duration": 363,
    "start_time": "2025-03-09T18:21:16.322Z"
   },
   {
    "duration": 255,
    "start_time": "2025-03-09T18:21:16.687Z"
   },
   {
    "duration": 167,
    "start_time": "2025-03-09T18:21:16.943Z"
   },
   {
    "duration": 148,
    "start_time": "2025-03-09T18:21:17.113Z"
   },
   {
    "duration": 25,
    "start_time": "2025-03-09T18:21:17.262Z"
   },
   {
    "duration": 185,
    "start_time": "2025-03-09T18:21:17.288Z"
   },
   {
    "duration": 503,
    "start_time": "2025-03-09T18:21:17.475Z"
   },
   {
    "duration": 2,
    "start_time": "2025-03-09T18:21:17.980Z"
   },
   {
    "duration": 8,
    "start_time": "2025-03-09T18:21:17.984Z"
   },
   {
    "duration": 95,
    "start_time": "2025-03-09T18:21:17.993Z"
   },
   {
    "duration": 11,
    "start_time": "2025-03-09T18:21:18.089Z"
   },
   {
    "duration": 28,
    "start_time": "2025-03-09T18:21:18.101Z"
   },
   {
    "duration": 325,
    "start_time": "2025-03-09T18:21:18.131Z"
   },
   {
    "duration": 14,
    "start_time": "2025-03-09T18:21:18.457Z"
   },
   {
    "duration": 31,
    "start_time": "2025-03-09T18:21:18.472Z"
   },
   {
    "duration": 211,
    "start_time": "2025-03-09T18:21:18.504Z"
   },
   {
    "duration": 188,
    "start_time": "2025-03-09T18:21:18.716Z"
   },
   {
    "duration": 513,
    "start_time": "2025-03-09T18:21:18.905Z"
   },
   {
    "duration": 49,
    "start_time": "2025-03-09T18:21:19.419Z"
   },
   {
    "duration": 43,
    "start_time": "2025-03-09T18:21:19.469Z"
   },
   {
    "duration": 6,
    "start_time": "2025-03-09T18:21:19.514Z"
   },
   {
    "duration": 49,
    "start_time": "2025-03-09T18:21:19.522Z"
   },
   {
    "duration": 125,
    "start_time": "2025-03-09T18:21:19.573Z"
   }
  ],
  "colab": {
   "provenance": []
  },
  "kernelspec": {
   "display_name": "Python 3 (ipykernel)",
   "language": "python",
   "name": "python3"
  },
  "language_info": {
   "codemirror_mode": {
    "name": "ipython",
    "version": 3
   },
   "file_extension": ".py",
   "mimetype": "text/x-python",
   "name": "python",
   "nbconvert_exporter": "python",
   "pygments_lexer": "ipython3",
   "version": "3.9.7"
  },
  "toc": {
   "base_numbering": 1,
   "nav_menu": {},
   "number_sections": true,
   "sideBar": true,
   "skip_h1_title": true,
   "title_cell": "Table of Contents",
   "title_sidebar": "Contents",
   "toc_cell": false,
   "toc_position": {},
   "toc_section_display": true,
   "toc_window_display": false
  }
 },
 "nbformat": 4,
 "nbformat_minor": 1
}
